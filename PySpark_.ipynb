{
  "nbformat": 4,
  "nbformat_minor": 0,
  "metadata": {
    "colab": {
      "provenance": [],
      "collapsed_sections": [
        "hmIqq6xPK7m7"
      ],
      "include_colab_link": true
    },
    "kernelspec": {
      "display_name": "Python 3",
      "language": "python",
      "name": "python3"
    },
    "language_info": {
      "codemirror_mode": {
        "name": "ipython",
        "version": 3
      },
      "file_extension": ".py",
      "mimetype": "text/x-python",
      "name": "python",
      "nbconvert_exporter": "python",
      "pygments_lexer": "ipython3",
      "version": "3.6.5"
    }
  },
  "cells": [
    {
      "cell_type": "markdown",
      "metadata": {
        "id": "view-in-github",
        "colab_type": "text"
      },
      "source": [
        "<a href=\"https://colab.research.google.com/github/oluseyedev/oluseyedev/blob/main/PySpark_.ipynb\" target=\"_parent\"><img src=\"https://colab.research.google.com/assets/colab-badge.svg\" alt=\"Open In Colab\"/></a>"
      ]
    },
    {
      "cell_type": "markdown",
      "metadata": {
        "id": "iox_ufgbqDXa"
      },
      "source": [
        "<h1><center>Introduction to PySpark</center></h1>"
      ]
    },
    {
      "cell_type": "markdown",
      "metadata": {
        "id": "FFnYZltvqLgt"
      },
      "source": [
        "<a id='objective'></a>\n",
        "## Objective\n",
        "The objective of this notebook is to:\n",
        "><li>Give a proper understanding about the different PySpark functions available. </li>\n",
        "><li>A short introduction to Google Colab, as that is the platform on which this notebook is written on. </li>\n",
        "\n",
        "Once you complete this notebook, you should be able to write pyspark programs in an efficent way. The ideal way to use this is by going through the examples given and then trying them on Colab. At the end there are a few hands on questions which you can use to evaluate yourself."
      ]
    },
    {
      "cell_type": "markdown",
      "metadata": {
        "id": "K_q3Yzc9qYc0"
      },
      "source": [
        "<a id='pyspark-and-colaboratory'></a>\n",
        "## PySpark and Colaboratory"
      ]
    },
    {
      "cell_type": "markdown",
      "metadata": {
        "id": "NhM3wLG2qhlN"
      },
      "source": [
        "<a id='pyspark'></a>\n",
        "### PySpark"
      ]
    },
    {
      "cell_type": "markdown",
      "metadata": {
        "id": "VBfC_kvjqjPj"
      },
      "source": [
        "If you are working in the field of big data, you must have definelty heard of spark. If you look at the [Apache Spark](https://spark.apache.org/) website, you will see that it is said to be a `Lightning-fast unified analytics engine`. PySpark is a flavour of Spark used for processing and analysing massive volumes of data. If you are familiar with python and have tried it for huge datasets, you should know that the execution time can get ridiculous. Enter PySpark!\n",
        "\n",
        "Imagine your data resides in a distributed manner at different places. If you try brining your data to one point and executing your code there, not only would that be inefficent, but also cause memory issues. Now let's say your code goes to the data rather than the data coming to where your code. This will help avoid unneccesary data movement which will thereby decrease the running time.\n",
        "\n",
        "PySpark is the Python API of Spark; which means it can do almost all the things python can. Machine learning(ML) pipelines, exploratory data analysis (at scale), ETLs for data platform, and much more! And all of them in a distributed manner. One of the best parts of pyspark is that if you are already familiar with python, it's really easy to learn.\n",
        "\n",
        "Apart from PySpark, there is another language called Scala used for big data processing. Scala is frequently over 10 times faster than *Python*, as it is native for Hadoop as its based on JVM. But PySpark is getting adopted at a fast rate because of the ease of use, easier learning curve and ML capabilities.\n",
        "\n",
        "I will briefly explain how a PySpark job works, but I strongly recommend you read more about the [architecture](https://data-flair.training/blogs/how-apache-spark-works/) and how everything works. Now, before I get into it, let me talk about some <u>basic jargons</u> first:\n",
        "\n",
        "<b>Cluster</b> is a set of loosely or tightly connected computers that work together so that they can be viewed as a single system.\n",
        "\n",
        "<b>Hadoop</b> is an open source, scalable, and fault tolerant framework written in Java. It efficiently processes large volumes of data on a cluster of commodity hardware. Hadoop is not only a storage system but is a platform for large data storage as well as processing.\n",
        "\n",
        "<b>HDFS</b> (Hadoop distributed file system). It is one of the world's most reliable storage system. HDFS is a Filesystem of Hadoop designed for storing very large files running on a cluster of commodity hardware.\n",
        "\n",
        "<b>MapReduce</b> is a data Processing framework, which has 2 phases - Mapper and Reducer. The map procedure performs filtering and sorting, and the reduce method performs a summary operation. It usually runs on a hadoop cluster.\n",
        "\n",
        "<b>Transformation</b> refers to the operations applied on a dataset to create a new dataset. Filter, groupBy and map are the examples of transformations.\n",
        "\n",
        "<b>Actions</b> Actions refer to an operation which instructs Spark to perform computation and send the result back to driver. This is an example of action.\n",
        "\n",
        "Alright! Now that that's out of the way, let me explain how a spark job runs. In simple terma, each time you submit a pyspark job, the code gets internally converted into a MapReduce program and gets executed in the Java virtual machine. Now one of the thoughts that might be popping in your mind will probably be: <br>`So the code gets converted into a MapReduce program. Wouldn't that mean MapReduce is faster than pySpark?`<br> Well, the answer is a big NO. This is what makes spark jobs special. Spark is capable of handling a massive amount of data at a time, in it's distributed environment. It does this through <u>in-memory processing</u>, which is what makes it almost 100 times faster than Hadoop. Another factor which amkes it fast is <u>Lazy Evaluation</u>. Spark delays its evaluation as much as it can. Each time you  submit a job, spark creates an action plan for how to execute the code, and then does nothing. Finally, when you ask for the result(i.e, calls an action), it executes the plan, which is basically all the transofrmations you have mentioned in your code. That's basically the gist of it.\n",
        "\n",
        "Now lastly, I want to talk about on more thing. Spark mainly consists of 4 modules:\n",
        "\n",
        "<ol>\n",
        "    <li>Spark SQL - helps to write  spark programs using SQL like queries.</li>\n",
        "    <li>Spark Streaming - is an extension of the core Spark API that enables scalable, high-throughput, fault-tolerant stream processing of live data streams. used heavily in processing of social media data.</li>\n",
        "    <li>Spark MLLib - is the machine learning component of SPark. It helps train ML models on massive datasets with very high efficeny. </li>\n",
        "    <li>Spark GraphX - is the visualization component of Spark. It enables users to view data both as graphs and as collections without data movement or duplication.</li>\n",
        "</ol>\n",
        "\n",
        "\n"
      ]
    },
    {
      "cell_type": "markdown",
      "metadata": {
        "id": "1NJMWs4NqnlF"
      },
      "source": [
        "<a id='colaboratory'></a>\n",
        "### Colaboratory"
      ]
    },
    {
      "cell_type": "markdown",
      "metadata": {
        "id": "ynKFk6b7qoWr"
      },
      "source": [
        "In the words of Google: <br>\n",
        "`Colaboratory, or “Colab” for short, is a product from Google Research. Colab allows anybody to write and execute arbitrary python code through the browser, and is especially well suited to machine learning, data analysis and education. More technically, Colab is a hosted Jupyter notebook service that requires no setup to use, while providing free access to computing resources including GPUs.`\n",
        "\n",
        "The reason why I used colab is because of its shareability and free GPU and TPU. Yeah you read that right, FREE GPU AND TPU! For using TPU, your program needs to be optimized for the same. Additionally, it helps use different Google services conveniently. It saves to Google Drive and all the services are very closely related. I recommend you go through the offical [overview documentation](https://colab.research.google.com/notebooks/basic_features_overview.ipynb) if you want to know more about it.\n",
        "If you have more questions about colab, please [refer this link](https://research.google.com/colaboratory/faq.html).\n",
        "\n",
        ">While using a colab notebook, you will need an active internet connection to keep a session alive. If you lose the connection you will have to download the datasets again."
      ]
    },
    {
      "cell_type": "markdown",
      "metadata": {
        "id": "_N5-lspH_N8B"
      },
      "source": [
        "<a id='jupyter-notebook-basics'></a>\n",
        "## Jupyter notebook basics"
      ]
    },
    {
      "cell_type": "markdown",
      "metadata": {
        "id": "6Ul54hAYyHyd"
      },
      "source": [
        "<a id='code-cells'></a>\n",
        "### Code cells"
      ]
    },
    {
      "cell_type": "code",
      "metadata": {
        "id": "j38beRUTCI5c",
        "colab": {
          "base_uri": "https://localhost:8080/"
        },
        "outputId": "d2397e08-eb48-4e9f-d835-7ae9d7ad2314"
      },
      "source": [
        "2*3"
      ],
      "execution_count": null,
      "outputs": [
        {
          "output_type": "execute_result",
          "data": {
            "text/plain": [
              "6"
            ]
          },
          "metadata": {},
          "execution_count": 1
        }
      ]
    },
    {
      "cell_type": "code",
      "metadata": {
        "id": "_Jewe_e9CIYa"
      },
      "source": [
        "from collections import Counter"
      ],
      "execution_count": null,
      "outputs": []
    },
    {
      "cell_type": "code",
      "metadata": {
        "id": "g8Y7w6_CCIIT",
        "colab": {
          "base_uri": "https://localhost:8080/"
        },
        "outputId": "0539aea1-f15f-420a-eb7e-0766a58e8fa8"
      },
      "source": [
        "print(\"This is a tutorial!\")"
      ],
      "execution_count": null,
      "outputs": [
        {
          "output_type": "stream",
          "name": "stdout",
          "text": [
            "This is a tutorial!\n"
          ]
        }
      ]
    },
    {
      "cell_type": "markdown",
      "metadata": {
        "id": "VOqLNkRKyUIS"
      },
      "source": [
        "<a id='text-cells'></a>\n",
        "### Text cells"
      ]
    },
    {
      "cell_type": "markdown",
      "metadata": {
        "id": "IfbaUe-oq7DK"
      },
      "source": [
        "Hello world!"
      ]
    },
    {
      "cell_type": "markdown",
      "metadata": {
        "id": "X6zdrH15_CCW"
      },
      "source": [
        "<a id='access-to-the-shell'></a>\n",
        "### Access to the shell"
      ]
    },
    {
      "cell_type": "markdown",
      "source": [
        "- To check the files and directories in current work place"
      ],
      "metadata": {
        "id": "p_t22RcCCGW5"
      }
    },
    {
      "cell_type": "code",
      "metadata": {
        "id": "zdO9sjSdEVnr",
        "colab": {
          "base_uri": "https://localhost:8080/"
        },
        "outputId": "aa78f377-70f7-40db-9ff0-43bce2fe7d06"
      },
      "source": [
        "ls"
      ],
      "execution_count": null,
      "outputs": [
        {
          "output_type": "stream",
          "name": "stdout",
          "text": [
            "\u001b[0m\u001b[01;34msample_data\u001b[0m/\n"
          ]
        }
      ]
    },
    {
      "cell_type": "markdown",
      "source": [
        "- To check the current working folder"
      ],
      "metadata": {
        "id": "bhn1UlyvCSJr"
      }
    },
    {
      "cell_type": "code",
      "metadata": {
        "id": "QF9e3lDDEX3I",
        "colab": {
          "base_uri": "https://localhost:8080/",
          "height": 35
        },
        "outputId": "1de3f4d3-d536-4f82-f125-a7ac33d2a093"
      },
      "source": [
        "pwd"
      ],
      "execution_count": null,
      "outputs": [
        {
          "output_type": "execute_result",
          "data": {
            "text/plain": [
              "'/content'"
            ],
            "application/vnd.google.colaboratory.intrinsic+json": {
              "type": "string"
            }
          },
          "metadata": {},
          "execution_count": 5
        }
      ]
    },
    {
      "cell_type": "markdown",
      "metadata": {
        "id": "Dd6t0uFzuR4X"
      },
      "source": [
        "<a id='installing-spark'></a>\n",
        "### Installing Spark"
      ]
    },
    {
      "cell_type": "markdown",
      "metadata": {
        "id": "6apGVff5h4ca"
      },
      "source": [
        "Install Dependencies:\n",
        "\n",
        "\n",
        "1.   Java 8\n",
        "2.   Apache Spark with hadoop and\n",
        "3.   Findspark (used to locate the spark in the system)\n"
      ]
    },
    {
      "cell_type": "code",
      "metadata": {
        "id": "tt7ZS1_wGgjn"
      },
      "source": [
        "!apt-get install openjdk-8-jdk-headless -qq > /dev/null\n",
        "!wget -q http://archive.apache.org/dist/spark/spark-3.1.1/spark-3.1.1-bin-hadoop3.2.tgz\n",
        "!tar xf spark-3.1.1-bin-hadoop3.2.tgz\n",
        "!pip install -q findspark"
      ],
      "execution_count": 6,
      "outputs": []
    },
    {
      "cell_type": "markdown",
      "metadata": {
        "id": "C3x0ZRLxjMVr"
      },
      "source": [
        "Set Environment Variables:"
      ]
    },
    {
      "cell_type": "code",
      "metadata": {
        "id": "sdOOq4twHN1K"
      },
      "source": [
        "import os\n",
        "os.environ[\"JAVA_HOME\"] = \"/usr/lib/jvm/java-8-openjdk-amd64\"\n",
        "os.environ[\"SPARK_HOME\"] = \"/content/spark-3.1.1-bin-hadoop3.2\""
      ],
      "execution_count": 7,
      "outputs": []
    },
    {
      "cell_type": "code",
      "metadata": {
        "id": "3ACYMwhgHTYz",
        "colab": {
          "base_uri": "https://localhost:8080/"
        },
        "outputId": "4df5f2c5-f119-457d-dc9e-ef7f239de17c"
      },
      "source": [
        "!ls"
      ],
      "execution_count": 24,
      "outputs": [
        {
          "output_type": "stream",
          "name": "stdout",
          "text": [
            "cars.csv     spark-3.1.1-bin-hadoop3.2\t    spark-3.1.1-bin-hadoop3.2.tgz.1\n",
            "sample_data  spark-3.1.1-bin-hadoop3.2.tgz\n"
          ]
        }
      ]
    },
    {
      "cell_type": "code",
      "metadata": {
        "id": "KR1zLBk1998Z",
        "colab": {
          "base_uri": "https://localhost:8080/",
          "height": 219
        },
        "outputId": "b00f0991-eb8a-472c-eb1d-1ffe7f3336ab"
      },
      "source": [
        "import findspark\n",
        "findspark.init()\n",
        "from pyspark.sql import SparkSession\n",
        "spark = SparkSession.builder.master(\"local[*]\").getOrCreate()\n",
        "spark.conf.set(\"spark.sql.repl.eagerEval.enabled\", True) # Property used to format output tables better\n",
        "spark"
      ],
      "execution_count": 25,
      "outputs": [
        {
          "output_type": "execute_result",
          "data": {
            "text/plain": [
              "<pyspark.sql.session.SparkSession at 0x7f0104d1d330>"
            ],
            "text/html": [
              "\n",
              "            <div>\n",
              "                <p><b>SparkSession - in-memory</b></p>\n",
              "                \n",
              "        <div>\n",
              "            <p><b>SparkContext</b></p>\n",
              "\n",
              "            <p><a href=\"http://e599c69b7a12:4040\">Spark UI</a></p>\n",
              "\n",
              "            <dl>\n",
              "              <dt>Version</dt>\n",
              "                <dd><code>v3.1.1</code></dd>\n",
              "              <dt>Master</dt>\n",
              "                <dd><code>local[*]</code></dd>\n",
              "              <dt>AppName</dt>\n",
              "                <dd><code>pyspark-shell</code></dd>\n",
              "            </dl>\n",
              "        </div>\n",
              "        \n",
              "            </div>\n",
              "        "
            ]
          },
          "metadata": {},
          "execution_count": 25
        }
      ]
    },
    {
      "cell_type": "code",
      "source": [],
      "metadata": {
        "id": "iBSpLp5UDoDD"
      },
      "execution_count": 9,
      "outputs": []
    },
    {
      "cell_type": "markdown",
      "metadata": {
        "id": "hmIqq6xPK7m7"
      },
      "source": [
        "<a id='exploring-the-dataset'></a>\n",
        "## Exploring the Dataset"
      ]
    },
    {
      "cell_type": "markdown",
      "metadata": {
        "id": "VZwsr57lwPgq"
      },
      "source": [
        "<a id='loading-the-dataset'></a>\n",
        "### Loading the Dataset"
      ]
    },
    {
      "cell_type": "code",
      "metadata": {
        "id": "hQ3zmGACLKlN",
        "colab": {
          "base_uri": "https://localhost:8080/"
        },
        "outputId": "8395b017-eae0-4591-b5b3-be022beadb35"
      },
      "source": [
        "# Downloading and preprocessing Cars Data downloaded origianlly from https://perso.telecom-paristech.fr/eagan/class/igr204/datasets\n",
        "!wget https://jacobceles.github.io/knowledge_repo/colab_and_pyspark/cars.csv"
      ],
      "execution_count": 26,
      "outputs": [
        {
          "output_type": "stream",
          "name": "stdout",
          "text": [
            "--2023-12-30 16:54:59--  https://jacobceles.github.io/knowledge_repo/colab_and_pyspark/cars.csv\n",
            "Resolving jacobceles.github.io (jacobceles.github.io)... 185.199.108.153, 185.199.109.153, 185.199.110.153, ...\n",
            "Connecting to jacobceles.github.io (jacobceles.github.io)|185.199.108.153|:443... connected.\n",
            "HTTP request sent, awaiting response... 301 Moved Permanently\n",
            "Location: https://jacobcelestine.com/knowledge_repo/colab_and_pyspark/cars.csv [following]\n",
            "--2023-12-30 16:54:59--  https://jacobcelestine.com/knowledge_repo/colab_and_pyspark/cars.csv\n",
            "Resolving jacobcelestine.com (jacobcelestine.com)... 185.199.108.153, 185.199.109.153, 185.199.110.153, ...\n",
            "Connecting to jacobcelestine.com (jacobcelestine.com)|185.199.108.153|:443... connected.\n",
            "HTTP request sent, awaiting response... 200 OK\n",
            "Length: 22608 (22K) [text/csv]\n",
            "Saving to: ‘cars.csv.1’\n",
            "\n",
            "\rcars.csv.1            0%[                    ]       0  --.-KB/s               \rcars.csv.1          100%[===================>]  22.08K  --.-KB/s    in 0.001s  \n",
            "\n",
            "2023-12-30 16:54:59 (14.8 MB/s) - ‘cars.csv.1’ saved [22608/22608]\n",
            "\n"
          ]
        }
      ]
    },
    {
      "cell_type": "code",
      "metadata": {
        "id": "Wpq2jYvIMOJy",
        "colab": {
          "base_uri": "https://localhost:8080/"
        },
        "outputId": "0e36a5f8-f326-4fc3-c651-5a19d338874e"
      },
      "source": [
        "!ls"
      ],
      "execution_count": 27,
      "outputs": [
        {
          "output_type": "stream",
          "name": "stdout",
          "text": [
            "cars.csv    sample_data\t\t       spark-3.1.1-bin-hadoop3.2.tgz\n",
            "cars.csv.1  spark-3.1.1-bin-hadoop3.2  spark-3.1.1-bin-hadoop3.2.tgz.1\n"
          ]
        }
      ]
    },
    {
      "cell_type": "code",
      "metadata": {
        "id": "hz6ALr5mMqZt",
        "colab": {
          "base_uri": "https://localhost:8080/"
        },
        "outputId": "9c0d24b1-3110-4390-8959-c3eb75ba2d98"
      },
      "source": [
        "# Load data from csv to a dataframe.\n",
        "# header=True means the first row is a header\n",
        "# sep=';' means the column are seperated using ''\n",
        "df = spark.read.csv('cars.csv', header=True, sep=\";\")\n",
        "df.show(5)"
      ],
      "execution_count": 28,
      "outputs": [
        {
          "output_type": "stream",
          "name": "stdout",
          "text": [
            "+--------------------+----+---------+------------+----------+------+------------+-----+------+\n",
            "|                 Car| MPG|Cylinders|Displacement|Horsepower|Weight|Acceleration|Model|Origin|\n",
            "+--------------------+----+---------+------------+----------+------+------------+-----+------+\n",
            "|Chevrolet Chevell...|18.0|        8|       307.0|     130.0| 3504.|        12.0|   70|    US|\n",
            "|   Buick Skylark 320|15.0|        8|       350.0|     165.0| 3693.|        11.5|   70|    US|\n",
            "|  Plymouth Satellite|18.0|        8|       318.0|     150.0| 3436.|        11.0|   70|    US|\n",
            "|       AMC Rebel SST|16.0|        8|       304.0|     150.0| 3433.|        12.0|   70|    US|\n",
            "|         Ford Torino|17.0|        8|       302.0|     140.0| 3449.|        10.5|   70|    US|\n",
            "+--------------------+----+---------+------------+----------+------+------------+-----+------+\n",
            "only showing top 5 rows\n",
            "\n"
          ]
        }
      ]
    },
    {
      "cell_type": "markdown",
      "metadata": {
        "id": "N0lCS2LNwnoy"
      },
      "source": [
        "The above command loads our data from into a dataframe (DF). A dataframe is a 2-dimensional labeled data structure with columns of potentially different types."
      ]
    },
    {
      "cell_type": "markdown",
      "metadata": {
        "id": "_QwZtWxZRCBn"
      },
      "source": [
        "<a id='viewing-the-dataframe'></a>\n",
        "### Viewing the Dataframe"
      ]
    },
    {
      "cell_type": "markdown",
      "metadata": {
        "id": "50LZ3S8_PMg_"
      },
      "source": [
        "There are a couple of ways to view your dataframe(DF) in PySpark:\n",
        "\n",
        "1.   `df.take(5)` will return a list of five Row objects.\n",
        "2.   `df.collect()` will get all of the data from the entire DataFrame. Be really careful when using it, because if you have a large data set, you can easily crash the driver node.\n",
        "3.   `df.show()` is the most commonly used method to view a dataframe. There are a few parameters we can pass to this method, like the number of rows and truncaiton. For example, `df.show(5, False)` or ` df.show(5, truncate=False)` will show the entire data wihtout any truncation.\n",
        "4.   `df.limit(5)` will **return a new DataFrame** by taking the first n rows. As spark is distributed in nature, there is no guarantee that `df.limit()` will give you the same results each time.\n",
        "\n",
        "Let us see some of them in action below:"
      ]
    },
    {
      "cell_type": "code",
      "metadata": {
        "id": "I1qqkqcfxM0v",
        "colab": {
          "base_uri": "https://localhost:8080/"
        },
        "outputId": "f60c5a24-84ad-4afd-fa81-ca47ab432311"
      },
      "source": [
        "df.show(5, truncate=False)"
      ],
      "execution_count": 29,
      "outputs": [
        {
          "output_type": "stream",
          "name": "stdout",
          "text": [
            "+-------------------------+----+---------+------------+----------+------+------------+-----+------+\n",
            "|Car                      |MPG |Cylinders|Displacement|Horsepower|Weight|Acceleration|Model|Origin|\n",
            "+-------------------------+----+---------+------------+----------+------+------------+-----+------+\n",
            "|Chevrolet Chevelle Malibu|18.0|8        |307.0       |130.0     |3504. |12.0        |70   |US    |\n",
            "|Buick Skylark 320        |15.0|8        |350.0       |165.0     |3693. |11.5        |70   |US    |\n",
            "|Plymouth Satellite       |18.0|8        |318.0       |150.0     |3436. |11.0        |70   |US    |\n",
            "|AMC Rebel SST            |16.0|8        |304.0       |150.0     |3433. |12.0        |70   |US    |\n",
            "|Ford Torino              |17.0|8        |302.0       |140.0     |3449. |10.5        |70   |US    |\n",
            "+-------------------------+----+---------+------------+----------+------+------------+-----+------+\n",
            "only showing top 5 rows\n",
            "\n"
          ]
        }
      ]
    },
    {
      "cell_type": "code",
      "metadata": {
        "id": "R9zwzswIxXF9",
        "colab": {
          "base_uri": "https://localhost:8080/",
          "height": 0
        },
        "outputId": "441ab311-484c-4ff8-c4e7-2a6b5b3df550"
      },
      "source": [
        "df.limit(5)"
      ],
      "execution_count": 30,
      "outputs": [
        {
          "output_type": "execute_result",
          "data": {
            "text/plain": [
              "+--------------------+----+---------+------------+----------+------+------------+-----+------+\n",
              "|                 Car| MPG|Cylinders|Displacement|Horsepower|Weight|Acceleration|Model|Origin|\n",
              "+--------------------+----+---------+------------+----------+------+------------+-----+------+\n",
              "|Chevrolet Chevell...|18.0|        8|       307.0|     130.0| 3504.|        12.0|   70|    US|\n",
              "|   Buick Skylark 320|15.0|        8|       350.0|     165.0| 3693.|        11.5|   70|    US|\n",
              "|  Plymouth Satellite|18.0|        8|       318.0|     150.0| 3436.|        11.0|   70|    US|\n",
              "|       AMC Rebel SST|16.0|        8|       304.0|     150.0| 3433.|        12.0|   70|    US|\n",
              "|         Ford Torino|17.0|        8|       302.0|     140.0| 3449.|        10.5|   70|    US|\n",
              "+--------------------+----+---------+------------+----------+------+------------+-----+------+"
            ],
            "text/html": [
              "<table border='1'>\n",
              "<tr><th>Car</th><th>MPG</th><th>Cylinders</th><th>Displacement</th><th>Horsepower</th><th>Weight</th><th>Acceleration</th><th>Model</th><th>Origin</th></tr>\n",
              "<tr><td>Chevrolet Chevell...</td><td>18.0</td><td>8</td><td>307.0</td><td>130.0</td><td>3504.</td><td>12.0</td><td>70</td><td>US</td></tr>\n",
              "<tr><td>Buick Skylark 320</td><td>15.0</td><td>8</td><td>350.0</td><td>165.0</td><td>3693.</td><td>11.5</td><td>70</td><td>US</td></tr>\n",
              "<tr><td>Plymouth Satellite</td><td>18.0</td><td>8</td><td>318.0</td><td>150.0</td><td>3436.</td><td>11.0</td><td>70</td><td>US</td></tr>\n",
              "<tr><td>AMC Rebel SST</td><td>16.0</td><td>8</td><td>304.0</td><td>150.0</td><td>3433.</td><td>12.0</td><td>70</td><td>US</td></tr>\n",
              "<tr><td>Ford Torino</td><td>17.0</td><td>8</td><td>302.0</td><td>140.0</td><td>3449.</td><td>10.5</td><td>70</td><td>US</td></tr>\n",
              "</table>\n"
            ]
          },
          "metadata": {},
          "execution_count": 30
        }
      ]
    },
    {
      "cell_type": "markdown",
      "metadata": {
        "id": "eUazdCEmu_sp"
      },
      "source": [
        "<a id='viewing-dataframe-columns'></a>\n",
        "### Viewing Dataframe Columns"
      ]
    },
    {
      "cell_type": "code",
      "metadata": {
        "id": "9o7jsazcu-13",
        "colab": {
          "base_uri": "https://localhost:8080/"
        },
        "outputId": "fa4069a7-9644-438c-af84-e9377d0b3996"
      },
      "source": [
        "df.columns"
      ],
      "execution_count": 31,
      "outputs": [
        {
          "output_type": "execute_result",
          "data": {
            "text/plain": [
              "['Car',\n",
              " 'MPG',\n",
              " 'Cylinders',\n",
              " 'Displacement',\n",
              " 'Horsepower',\n",
              " 'Weight',\n",
              " 'Acceleration',\n",
              " 'Model',\n",
              " 'Origin']"
            ]
          },
          "metadata": {},
          "execution_count": 31
        }
      ]
    },
    {
      "cell_type": "markdown",
      "metadata": {
        "id": "3lfS2DhHuhPl"
      },
      "source": [
        "<a id='dataframe-schema'></a>\n",
        "### Dataframe Schema"
      ]
    },
    {
      "cell_type": "markdown",
      "metadata": {
        "id": "-xX7hRoW_cXY"
      },
      "source": [
        "There are two methods commonly used to view the data types of a dataframe:"
      ]
    },
    {
      "cell_type": "code",
      "metadata": {
        "id": "w6qwTjGsNxrw",
        "colab": {
          "base_uri": "https://localhost:8080/"
        },
        "outputId": "40916c6b-9223-4d66-d70f-6cdb8f7a2579"
      },
      "source": [
        "df.dtypes"
      ],
      "execution_count": 32,
      "outputs": [
        {
          "output_type": "execute_result",
          "data": {
            "text/plain": [
              "[('Car', 'string'),\n",
              " ('MPG', 'string'),\n",
              " ('Cylinders', 'string'),\n",
              " ('Displacement', 'string'),\n",
              " ('Horsepower', 'string'),\n",
              " ('Weight', 'string'),\n",
              " ('Acceleration', 'string'),\n",
              " ('Model', 'string'),\n",
              " ('Origin', 'string')]"
            ]
          },
          "metadata": {},
          "execution_count": 32
        }
      ]
    },
    {
      "cell_type": "code",
      "metadata": {
        "id": "CCGTFlCWRPw4",
        "colab": {
          "base_uri": "https://localhost:8080/"
        },
        "outputId": "b38be35c-2116-4695-99cf-3f6be84e4488"
      },
      "source": [
        "df.printSchema()"
      ],
      "execution_count": 33,
      "outputs": [
        {
          "output_type": "stream",
          "name": "stdout",
          "text": [
            "root\n",
            " |-- Car: string (nullable = true)\n",
            " |-- MPG: string (nullable = true)\n",
            " |-- Cylinders: string (nullable = true)\n",
            " |-- Displacement: string (nullable = true)\n",
            " |-- Horsepower: string (nullable = true)\n",
            " |-- Weight: string (nullable = true)\n",
            " |-- Acceleration: string (nullable = true)\n",
            " |-- Model: string (nullable = true)\n",
            " |-- Origin: string (nullable = true)\n",
            "\n"
          ]
        }
      ]
    },
    {
      "cell_type": "markdown",
      "metadata": {
        "id": "RXx5ATpZ9oor"
      },
      "source": [
        "<a id='implicit-schema-inference'></a>\n",
        "#### Inferring Schema Implicitly"
      ]
    },
    {
      "cell_type": "markdown",
      "metadata": {
        "id": "7TeflTUp8l29"
      },
      "source": [
        "We can use the parameter `inferschema=true` to infer the input schema automatically while loading the data. An example is shown below:"
      ]
    },
    {
      "cell_type": "code",
      "metadata": {
        "id": "Qym5MjCi894N",
        "colab": {
          "base_uri": "https://localhost:8080/"
        },
        "outputId": "b38b5f2c-4985-4287-962e-59a1f9ed7e97"
      },
      "source": [
        "df = spark.read.csv('cars.csv', header=True, sep=\";\", inferSchema=True)\n",
        "df.printSchema()"
      ],
      "execution_count": 34,
      "outputs": [
        {
          "output_type": "stream",
          "name": "stdout",
          "text": [
            "root\n",
            " |-- Car: string (nullable = true)\n",
            " |-- MPG: double (nullable = true)\n",
            " |-- Cylinders: integer (nullable = true)\n",
            " |-- Displacement: double (nullable = true)\n",
            " |-- Horsepower: double (nullable = true)\n",
            " |-- Weight: decimal(4,0) (nullable = true)\n",
            " |-- Acceleration: double (nullable = true)\n",
            " |-- Model: integer (nullable = true)\n",
            " |-- Origin: string (nullable = true)\n",
            "\n"
          ]
        }
      ]
    },
    {
      "cell_type": "markdown",
      "metadata": {
        "id": "G6jTedYd-Dhb"
      },
      "source": [
        "As you can see, the datatype has been infered automatically spark with even the correct precison for decimal type. A problem that might arise here is that sometimes, when you have to read multiple files with different schemas in different files, there might be an issue with implicit inferring leading to null values in some columns. Therefore, let us also see how to define schemas explicitly."
      ]
    },
    {
      "cell_type": "markdown",
      "metadata": {
        "id": "yTVjYqeRuxWn"
      },
      "source": [
        "<a id='explicit-schema-inference'></a>\n",
        "#### Defining Schema Explicitly"
      ]
    },
    {
      "cell_type": "code",
      "metadata": {
        "id": "xpsaQ4JMRUiS",
        "colab": {
          "base_uri": "https://localhost:8080/"
        },
        "outputId": "88705496-a265-4aea-d90a-8a1a6d81c444"
      },
      "source": [
        "from pyspark.sql.types import *\n",
        "df.columns"
      ],
      "execution_count": 35,
      "outputs": [
        {
          "output_type": "execute_result",
          "data": {
            "text/plain": [
              "['Car',\n",
              " 'MPG',\n",
              " 'Cylinders',\n",
              " 'Displacement',\n",
              " 'Horsepower',\n",
              " 'Weight',\n",
              " 'Acceleration',\n",
              " 'Model',\n",
              " 'Origin']"
            ]
          },
          "metadata": {},
          "execution_count": 35
        }
      ]
    },
    {
      "cell_type": "code",
      "metadata": {
        "id": "ik62VX34SlFh"
      },
      "source": [
        "# Creating a list of the schema in the format column_name, data_type\n",
        "labels = [\n",
        "     ('Car',StringType()),\n",
        "     ('MPG',DoubleType()),\n",
        "     ('Cylinders',IntegerType()),\n",
        "     ('Displacement',DoubleType()),\n",
        "     ('Horsepower',DoubleType()),\n",
        "     ('Weight',DoubleType()),\n",
        "     ('Acceleration',DoubleType()),\n",
        "     ('Model',IntegerType()),\n",
        "     ('Origin',StringType())\n",
        "]"
      ],
      "execution_count": 36,
      "outputs": []
    },
    {
      "cell_type": "code",
      "metadata": {
        "id": "T-Fp5y_oU9SF",
        "colab": {
          "base_uri": "https://localhost:8080/"
        },
        "outputId": "014abf17-065b-4e75-b9c1-e2d754a858ae"
      },
      "source": [
        "# Creating the schema that will be passed when reading the csv\n",
        "schema = StructType([StructField (x[0], x[1], True) for x in labels])\n",
        "schema"
      ],
      "execution_count": 37,
      "outputs": [
        {
          "output_type": "execute_result",
          "data": {
            "text/plain": [
              "StructType(List(StructField(Car,StringType,true),StructField(MPG,DoubleType,true),StructField(Cylinders,IntegerType,true),StructField(Displacement,DoubleType,true),StructField(Horsepower,DoubleType,true),StructField(Weight,DoubleType,true),StructField(Acceleration,DoubleType,true),StructField(Model,IntegerType,true),StructField(Origin,StringType,true)))"
            ]
          },
          "metadata": {},
          "execution_count": 37
        }
      ]
    },
    {
      "cell_type": "code",
      "metadata": {
        "id": "sgC7gtL5VTls",
        "colab": {
          "base_uri": "https://localhost:8080/"
        },
        "outputId": "5fb8ec70-f9fd-44e2-d983-53d3868bb5c8"
      },
      "source": [
        "df = spark.read.csv('cars.csv', header=True, sep=\";\", schema=schema)\n",
        "df.printSchema()\n",
        "# The schema comes as we gave!"
      ],
      "execution_count": 38,
      "outputs": [
        {
          "output_type": "stream",
          "name": "stdout",
          "text": [
            "root\n",
            " |-- Car: string (nullable = true)\n",
            " |-- MPG: double (nullable = true)\n",
            " |-- Cylinders: integer (nullable = true)\n",
            " |-- Displacement: double (nullable = true)\n",
            " |-- Horsepower: double (nullable = true)\n",
            " |-- Weight: double (nullable = true)\n",
            " |-- Acceleration: double (nullable = true)\n",
            " |-- Model: integer (nullable = true)\n",
            " |-- Origin: string (nullable = true)\n",
            "\n"
          ]
        }
      ]
    },
    {
      "cell_type": "code",
      "metadata": {
        "id": "Dn2EAhesVmx0",
        "colab": {
          "base_uri": "https://localhost:8080/"
        },
        "outputId": "652b7aed-0691-4e6d-ec4b-6e6afd856fa8"
      },
      "source": [
        "df.show(truncate=False)"
      ],
      "execution_count": 39,
      "outputs": [
        {
          "output_type": "stream",
          "name": "stdout",
          "text": [
            "+--------------------------------+----+---------+------------+----------+------+------------+-----+------+\n",
            "|Car                             |MPG |Cylinders|Displacement|Horsepower|Weight|Acceleration|Model|Origin|\n",
            "+--------------------------------+----+---------+------------+----------+------+------------+-----+------+\n",
            "|Chevrolet Chevelle Malibu       |18.0|8        |307.0       |130.0     |3504.0|12.0        |70   |US    |\n",
            "|Buick Skylark 320               |15.0|8        |350.0       |165.0     |3693.0|11.5        |70   |US    |\n",
            "|Plymouth Satellite              |18.0|8        |318.0       |150.0     |3436.0|11.0        |70   |US    |\n",
            "|AMC Rebel SST                   |16.0|8        |304.0       |150.0     |3433.0|12.0        |70   |US    |\n",
            "|Ford Torino                     |17.0|8        |302.0       |140.0     |3449.0|10.5        |70   |US    |\n",
            "|Ford Galaxie 500                |15.0|8        |429.0       |198.0     |4341.0|10.0        |70   |US    |\n",
            "|Chevrolet Impala                |14.0|8        |454.0       |220.0     |4354.0|9.0         |70   |US    |\n",
            "|Plymouth Fury iii               |14.0|8        |440.0       |215.0     |4312.0|8.5         |70   |US    |\n",
            "|Pontiac Catalina                |14.0|8        |455.0       |225.0     |4425.0|10.0        |70   |US    |\n",
            "|AMC Ambassador DPL              |15.0|8        |390.0       |190.0     |3850.0|8.5         |70   |US    |\n",
            "|Citroen DS-21 Pallas            |0.0 |4        |133.0       |115.0     |3090.0|17.5        |70   |Europe|\n",
            "|Chevrolet Chevelle Concours (sw)|0.0 |8        |350.0       |165.0     |4142.0|11.5        |70   |US    |\n",
            "|Ford Torino (sw)                |0.0 |8        |351.0       |153.0     |4034.0|11.0        |70   |US    |\n",
            "|Plymouth Satellite (sw)         |0.0 |8        |383.0       |175.0     |4166.0|10.5        |70   |US    |\n",
            "|AMC Rebel SST (sw)              |0.0 |8        |360.0       |175.0     |3850.0|11.0        |70   |US    |\n",
            "|Dodge Challenger SE             |15.0|8        |383.0       |170.0     |3563.0|10.0        |70   |US    |\n",
            "|Plymouth 'Cuda 340              |14.0|8        |340.0       |160.0     |3609.0|8.0         |70   |US    |\n",
            "|Ford Mustang Boss 302           |0.0 |8        |302.0       |140.0     |3353.0|8.0         |70   |US    |\n",
            "|Chevrolet Monte Carlo           |15.0|8        |400.0       |150.0     |3761.0|9.5         |70   |US    |\n",
            "|Buick Estate Wagon (sw)         |14.0|8        |455.0       |225.0     |3086.0|10.0        |70   |US    |\n",
            "+--------------------------------+----+---------+------------+----------+------+------------+-----+------+\n",
            "only showing top 20 rows\n",
            "\n"
          ]
        }
      ]
    },
    {
      "cell_type": "markdown",
      "metadata": {
        "id": "MDCO3TEe95OY"
      },
      "source": [
        "As we can see here, the data has been successully loaded with the specified datatypes."
      ]
    },
    {
      "cell_type": "markdown",
      "metadata": {
        "id": "rsD48rckdHPe"
      },
      "source": [
        "<a id='dataframe-operations-on-columns'></a>\n",
        "## DataFrame Operations on Columns"
      ]
    },
    {
      "cell_type": "markdown",
      "metadata": {
        "id": "cMlxdWfSY8ks"
      },
      "source": [
        "We will go over the following in this section:\n",
        "\n",
        "1.   Selecting Columns\n",
        "2.   Selecting Multiple Columns\n",
        "3.   Adding New Columns\n",
        "4.   Renaming Columns\n",
        "5.   Grouping By Columns\n",
        "6.   Removing Columns\n",
        "\n"
      ]
    },
    {
      "cell_type": "markdown",
      "metadata": {
        "id": "ikGR5pDICTu7"
      },
      "source": [
        "<a id='selecting-columns'></a>\n",
        "### Selecting Columns"
      ]
    },
    {
      "cell_type": "markdown",
      "metadata": {
        "id": "-VMwIwi2rj_o"
      },
      "source": [
        "There are multiple ways to do a select in PySpark. You can find how they differ and how each below:"
      ]
    },
    {
      "cell_type": "code",
      "metadata": {
        "id": "ge9-_ygideWk",
        "colab": {
          "base_uri": "https://localhost:8080/"
        },
        "outputId": "04bde0a0-605c-4652-df9c-a57a899efeb6"
      },
      "source": [
        "# 1st method\n",
        "# Column name is case sensitive in this usage\n",
        "print(df.Car)\n",
        "print(\"*\"*20)\n",
        "df.select(df.Car).show(truncate=False)"
      ],
      "execution_count": 40,
      "outputs": [
        {
          "output_type": "stream",
          "name": "stdout",
          "text": [
            "Column<'Car'>\n",
            "********************\n",
            "+--------------------------------+\n",
            "|Car                             |\n",
            "+--------------------------------+\n",
            "|Chevrolet Chevelle Malibu       |\n",
            "|Buick Skylark 320               |\n",
            "|Plymouth Satellite              |\n",
            "|AMC Rebel SST                   |\n",
            "|Ford Torino                     |\n",
            "|Ford Galaxie 500                |\n",
            "|Chevrolet Impala                |\n",
            "|Plymouth Fury iii               |\n",
            "|Pontiac Catalina                |\n",
            "|AMC Ambassador DPL              |\n",
            "|Citroen DS-21 Pallas            |\n",
            "|Chevrolet Chevelle Concours (sw)|\n",
            "|Ford Torino (sw)                |\n",
            "|Plymouth Satellite (sw)         |\n",
            "|AMC Rebel SST (sw)              |\n",
            "|Dodge Challenger SE             |\n",
            "|Plymouth 'Cuda 340              |\n",
            "|Ford Mustang Boss 302           |\n",
            "|Chevrolet Monte Carlo           |\n",
            "|Buick Estate Wagon (sw)         |\n",
            "+--------------------------------+\n",
            "only showing top 20 rows\n",
            "\n"
          ]
        }
      ]
    },
    {
      "cell_type": "markdown",
      "metadata": {
        "id": "YxP1su8veNde"
      },
      "source": [
        "**NOTE:**\n",
        "\n",
        "> **We can't always use the dot notation because this will break when the column names have reserved names or attributes to the data frame class. Additionally, the column names are case sensitive in nature so we need to always make sure the column names have been changed to a paticular case before using it.**\n",
        "\n"
      ]
    },
    {
      "cell_type": "code",
      "metadata": {
        "id": "md5zaET8dsr4",
        "colab": {
          "base_uri": "https://localhost:8080/"
        },
        "outputId": "10051650-6c98-48e0-8833-2c535ad0605d"
      },
      "source": [
        "# 2nd method\n",
        "# Column name is case insensitive here\n",
        "print(df['car'])\n",
        "print(\"*\"*20)\n",
        "df.select(df['car']).show(truncate=False)"
      ],
      "execution_count": 41,
      "outputs": [
        {
          "output_type": "stream",
          "name": "stdout",
          "text": [
            "Column<'car'>\n",
            "********************\n",
            "+--------------------------------+\n",
            "|car                             |\n",
            "+--------------------------------+\n",
            "|Chevrolet Chevelle Malibu       |\n",
            "|Buick Skylark 320               |\n",
            "|Plymouth Satellite              |\n",
            "|AMC Rebel SST                   |\n",
            "|Ford Torino                     |\n",
            "|Ford Galaxie 500                |\n",
            "|Chevrolet Impala                |\n",
            "|Plymouth Fury iii               |\n",
            "|Pontiac Catalina                |\n",
            "|AMC Ambassador DPL              |\n",
            "|Citroen DS-21 Pallas            |\n",
            "|Chevrolet Chevelle Concours (sw)|\n",
            "|Ford Torino (sw)                |\n",
            "|Plymouth Satellite (sw)         |\n",
            "|AMC Rebel SST (sw)              |\n",
            "|Dodge Challenger SE             |\n",
            "|Plymouth 'Cuda 340              |\n",
            "|Ford Mustang Boss 302           |\n",
            "|Chevrolet Monte Carlo           |\n",
            "|Buick Estate Wagon (sw)         |\n",
            "+--------------------------------+\n",
            "only showing top 20 rows\n",
            "\n"
          ]
        }
      ]
    },
    {
      "cell_type": "code",
      "metadata": {
        "id": "6Gkf14sHec9a",
        "colab": {
          "base_uri": "https://localhost:8080/"
        },
        "outputId": "9ddaae76-f382-4edb-ccd4-769fdb138379"
      },
      "source": [
        "# 3rd method\n",
        "# Column name is case insensitive here\n",
        "from pyspark.sql.functions import col\n",
        "df.select(col('car')).show(truncate=False)"
      ],
      "execution_count": 42,
      "outputs": [
        {
          "output_type": "stream",
          "name": "stdout",
          "text": [
            "+--------------------------------+\n",
            "|car                             |\n",
            "+--------------------------------+\n",
            "|Chevrolet Chevelle Malibu       |\n",
            "|Buick Skylark 320               |\n",
            "|Plymouth Satellite              |\n",
            "|AMC Rebel SST                   |\n",
            "|Ford Torino                     |\n",
            "|Ford Galaxie 500                |\n",
            "|Chevrolet Impala                |\n",
            "|Plymouth Fury iii               |\n",
            "|Pontiac Catalina                |\n",
            "|AMC Ambassador DPL              |\n",
            "|Citroen DS-21 Pallas            |\n",
            "|Chevrolet Chevelle Concours (sw)|\n",
            "|Ford Torino (sw)                |\n",
            "|Plymouth Satellite (sw)         |\n",
            "|AMC Rebel SST (sw)              |\n",
            "|Dodge Challenger SE             |\n",
            "|Plymouth 'Cuda 340              |\n",
            "|Ford Mustang Boss 302           |\n",
            "|Chevrolet Monte Carlo           |\n",
            "|Buick Estate Wagon (sw)         |\n",
            "+--------------------------------+\n",
            "only showing top 20 rows\n",
            "\n"
          ]
        }
      ]
    },
    {
      "cell_type": "markdown",
      "metadata": {
        "id": "z6QsMfnNt3qF"
      },
      "source": [
        "<a id='selecting-multiple-columns'></a>\n",
        "### Selecting Multiple Columns"
      ]
    },
    {
      "cell_type": "code",
      "metadata": {
        "id": "bPjLMhZ6uAQR",
        "colab": {
          "base_uri": "https://localhost:8080/"
        },
        "outputId": "e77bbfde-9091-4766-b5e0-02d500538bfc"
      },
      "source": [
        "# 1st method\n",
        "# Column name is case sensitive in this usage\n",
        "print(df.Car, df.Cylinders)\n",
        "print(\"*\"*40)\n",
        "df.select(df.Car, df.Cylinders).show(truncate=False)"
      ],
      "execution_count": 43,
      "outputs": [
        {
          "output_type": "stream",
          "name": "stdout",
          "text": [
            "Column<'Car'> Column<'Cylinders'>\n",
            "****************************************\n",
            "+--------------------------------+---------+\n",
            "|Car                             |Cylinders|\n",
            "+--------------------------------+---------+\n",
            "|Chevrolet Chevelle Malibu       |8        |\n",
            "|Buick Skylark 320               |8        |\n",
            "|Plymouth Satellite              |8        |\n",
            "|AMC Rebel SST                   |8        |\n",
            "|Ford Torino                     |8        |\n",
            "|Ford Galaxie 500                |8        |\n",
            "|Chevrolet Impala                |8        |\n",
            "|Plymouth Fury iii               |8        |\n",
            "|Pontiac Catalina                |8        |\n",
            "|AMC Ambassador DPL              |8        |\n",
            "|Citroen DS-21 Pallas            |4        |\n",
            "|Chevrolet Chevelle Concours (sw)|8        |\n",
            "|Ford Torino (sw)                |8        |\n",
            "|Plymouth Satellite (sw)         |8        |\n",
            "|AMC Rebel SST (sw)              |8        |\n",
            "|Dodge Challenger SE             |8        |\n",
            "|Plymouth 'Cuda 340              |8        |\n",
            "|Ford Mustang Boss 302           |8        |\n",
            "|Chevrolet Monte Carlo           |8        |\n",
            "|Buick Estate Wagon (sw)         |8        |\n",
            "+--------------------------------+---------+\n",
            "only showing top 20 rows\n",
            "\n"
          ]
        }
      ]
    },
    {
      "cell_type": "code",
      "metadata": {
        "id": "DMRMUrv7uHWa",
        "colab": {
          "base_uri": "https://localhost:8080/"
        },
        "outputId": "ca9540b7-817c-4801-b3e5-f9cc20c03464"
      },
      "source": [
        "# 2nd method\n",
        "# Column name is case insensitive in this usage\n",
        "print(df['car'],df['cylinders'])\n",
        "print(\"*\"*40)\n",
        "df.select(df['car'],df['cylinders']).show(truncate=False)"
      ],
      "execution_count": 44,
      "outputs": [
        {
          "output_type": "stream",
          "name": "stdout",
          "text": [
            "Column<'car'> Column<'cylinders'>\n",
            "****************************************\n",
            "+--------------------------------+---------+\n",
            "|car                             |cylinders|\n",
            "+--------------------------------+---------+\n",
            "|Chevrolet Chevelle Malibu       |8        |\n",
            "|Buick Skylark 320               |8        |\n",
            "|Plymouth Satellite              |8        |\n",
            "|AMC Rebel SST                   |8        |\n",
            "|Ford Torino                     |8        |\n",
            "|Ford Galaxie 500                |8        |\n",
            "|Chevrolet Impala                |8        |\n",
            "|Plymouth Fury iii               |8        |\n",
            "|Pontiac Catalina                |8        |\n",
            "|AMC Ambassador DPL              |8        |\n",
            "|Citroen DS-21 Pallas            |4        |\n",
            "|Chevrolet Chevelle Concours (sw)|8        |\n",
            "|Ford Torino (sw)                |8        |\n",
            "|Plymouth Satellite (sw)         |8        |\n",
            "|AMC Rebel SST (sw)              |8        |\n",
            "|Dodge Challenger SE             |8        |\n",
            "|Plymouth 'Cuda 340              |8        |\n",
            "|Ford Mustang Boss 302           |8        |\n",
            "|Chevrolet Monte Carlo           |8        |\n",
            "|Buick Estate Wagon (sw)         |8        |\n",
            "+--------------------------------+---------+\n",
            "only showing top 20 rows\n",
            "\n"
          ]
        }
      ]
    },
    {
      "cell_type": "code",
      "metadata": {
        "id": "RgQ20-4GugjR",
        "colab": {
          "base_uri": "https://localhost:8080/"
        },
        "outputId": "90505474-6511-464e-96f0-c6c47bc2888d"
      },
      "source": [
        "# 3rd method\n",
        "# Column name is case insensitive in this usage\n",
        "from pyspark.sql.functions import col\n",
        "df.select(col('car'),col('cylinders')).show(truncate=False)"
      ],
      "execution_count": 45,
      "outputs": [
        {
          "output_type": "stream",
          "name": "stdout",
          "text": [
            "+--------------------------------+---------+\n",
            "|car                             |cylinders|\n",
            "+--------------------------------+---------+\n",
            "|Chevrolet Chevelle Malibu       |8        |\n",
            "|Buick Skylark 320               |8        |\n",
            "|Plymouth Satellite              |8        |\n",
            "|AMC Rebel SST                   |8        |\n",
            "|Ford Torino                     |8        |\n",
            "|Ford Galaxie 500                |8        |\n",
            "|Chevrolet Impala                |8        |\n",
            "|Plymouth Fury iii               |8        |\n",
            "|Pontiac Catalina                |8        |\n",
            "|AMC Ambassador DPL              |8        |\n",
            "|Citroen DS-21 Pallas            |4        |\n",
            "|Chevrolet Chevelle Concours (sw)|8        |\n",
            "|Ford Torino (sw)                |8        |\n",
            "|Plymouth Satellite (sw)         |8        |\n",
            "|AMC Rebel SST (sw)              |8        |\n",
            "|Dodge Challenger SE             |8        |\n",
            "|Plymouth 'Cuda 340              |8        |\n",
            "|Ford Mustang Boss 302           |8        |\n",
            "|Chevrolet Monte Carlo           |8        |\n",
            "|Buick Estate Wagon (sw)         |8        |\n",
            "+--------------------------------+---------+\n",
            "only showing top 20 rows\n",
            "\n"
          ]
        }
      ]
    },
    {
      "cell_type": "markdown",
      "metadata": {
        "id": "85Lv3zSXCcOY"
      },
      "source": [
        "<a id='adding-new-columns'></a>\n",
        "### Adding New Columns"
      ]
    },
    {
      "cell_type": "markdown",
      "metadata": {
        "id": "d_Y7dcAHu-Uz"
      },
      "source": [
        "We will take a look at three cases here:\n",
        "\n",
        "1.   Adding a new column\n",
        "2.   Adding multiple columns\n",
        "3.   Deriving a new column from an exisitng one"
      ]
    },
    {
      "cell_type": "code",
      "metadata": {
        "id": "oFHUmRKZeCEV",
        "colab": {
          "base_uri": "https://localhost:8080/"
        },
        "outputId": "85ec9e7b-fc11-4fd0-8809-1253472a19fb"
      },
      "source": [
        "# CASE 1: Adding a new column\n",
        "# We will add a new column called 'first_column' at the end\n",
        "from pyspark.sql.functions import lit\n",
        "df = df.withColumn('first_column',lit(1))\n",
        "# lit means literal. It populates the row with the literal value given.\n",
        "# When adding static data / constant values, it is a good practice to use it.\n",
        "df.show(5,truncate=False)"
      ],
      "execution_count": 46,
      "outputs": [
        {
          "output_type": "stream",
          "name": "stdout",
          "text": [
            "+-------------------------+----+---------+------------+----------+------+------------+-----+------+------------+\n",
            "|Car                      |MPG |Cylinders|Displacement|Horsepower|Weight|Acceleration|Model|Origin|first_column|\n",
            "+-------------------------+----+---------+------------+----------+------+------------+-----+------+------------+\n",
            "|Chevrolet Chevelle Malibu|18.0|8        |307.0       |130.0     |3504.0|12.0        |70   |US    |1           |\n",
            "|Buick Skylark 320        |15.0|8        |350.0       |165.0     |3693.0|11.5        |70   |US    |1           |\n",
            "|Plymouth Satellite       |18.0|8        |318.0       |150.0     |3436.0|11.0        |70   |US    |1           |\n",
            "|AMC Rebel SST            |16.0|8        |304.0       |150.0     |3433.0|12.0        |70   |US    |1           |\n",
            "|Ford Torino              |17.0|8        |302.0       |140.0     |3449.0|10.5        |70   |US    |1           |\n",
            "+-------------------------+----+---------+------------+----------+------+------------+-----+------+------------+\n",
            "only showing top 5 rows\n",
            "\n"
          ]
        }
      ]
    },
    {
      "cell_type": "code",
      "metadata": {
        "id": "U9772_mHwAqL",
        "colab": {
          "base_uri": "https://localhost:8080/"
        },
        "outputId": "d67846a7-9e5c-4da3-b307-71121b76f0fa"
      },
      "source": [
        "# CASE 2: Adding multiple columns\n",
        "# We will add two new columns called 'second_column' and 'third_column' at the end\n",
        "df = df.withColumn('second_column', lit(2)) \\\n",
        "       .withColumn('third_column', lit('Third Column'))\n",
        "# lit means literal. It populates the row with the literal value given.\n",
        "# When adding static data / constant values, it is a good practice to use it.\n",
        "df.show(5,truncate=False)"
      ],
      "execution_count": null,
      "outputs": [
        {
          "output_type": "stream",
          "name": "stdout",
          "text": [
            "+-------------------------+----+---------+------------+----------+------+------------+-----+------+------------+-------------+------------+\n",
            "|Car                      |MPG |Cylinders|Displacement|Horsepower|Weight|Acceleration|Model|Origin|first_column|second_column|third_column|\n",
            "+-------------------------+----+---------+------------+----------+------+------------+-----+------+------------+-------------+------------+\n",
            "|Chevrolet Chevelle Malibu|18.0|8        |307.0       |130.0     |3504.0|12.0        |70   |US    |1           |2            |Third Column|\n",
            "|Buick Skylark 320        |15.0|8        |350.0       |165.0     |3693.0|11.5        |70   |US    |1           |2            |Third Column|\n",
            "|Plymouth Satellite       |18.0|8        |318.0       |150.0     |3436.0|11.0        |70   |US    |1           |2            |Third Column|\n",
            "|AMC Rebel SST            |16.0|8        |304.0       |150.0     |3433.0|12.0        |70   |US    |1           |2            |Third Column|\n",
            "|Ford Torino              |17.0|8        |302.0       |140.0     |3449.0|10.5        |70   |US    |1           |2            |Third Column|\n",
            "+-------------------------+----+---------+------------+----------+------+------------+-----+------+------------+-------------+------------+\n",
            "only showing top 5 rows\n",
            "\n"
          ]
        }
      ]
    },
    {
      "cell_type": "code",
      "metadata": {
        "id": "dGaQS_pOwx_b",
        "colab": {
          "base_uri": "https://localhost:8080/"
        },
        "outputId": "f471f015-6852-4a5d-f290-259a02c42c46"
      },
      "source": [
        "# CASE 3: Deriving a new column from an exisitng one\n",
        "# We will add a new column called 'car_model' which has the value of car and model appended together with a space in between\n",
        "from pyspark.sql.functions import concat\n",
        "df = df.withColumn('car_model', concat(col(\"Car\"), lit(\" \"), col(\"model\")))\n",
        "# lit means literal. It populates the row with the literal value given.\n",
        "# When adding static data / constant values, it is a good practice to use it.\n",
        "df.show(5,truncate=False)"
      ],
      "execution_count": null,
      "outputs": [
        {
          "output_type": "stream",
          "name": "stdout",
          "text": [
            "+-------------------------+----+---------+------------+----------+------+------------+-----+------+------------+-------------+------------+----------------------------+\n",
            "|Car                      |MPG |Cylinders|Displacement|Horsepower|Weight|Acceleration|Model|Origin|first_column|second_column|third_column|car_model                   |\n",
            "+-------------------------+----+---------+------------+----------+------+------------+-----+------+------------+-------------+------------+----------------------------+\n",
            "|Chevrolet Chevelle Malibu|18.0|8        |307.0       |130.0     |3504.0|12.0        |70   |US    |1           |2            |Third Column|Chevrolet Chevelle Malibu 70|\n",
            "|Buick Skylark 320        |15.0|8        |350.0       |165.0     |3693.0|11.5        |70   |US    |1           |2            |Third Column|Buick Skylark 320 70        |\n",
            "|Plymouth Satellite       |18.0|8        |318.0       |150.0     |3436.0|11.0        |70   |US    |1           |2            |Third Column|Plymouth Satellite 70       |\n",
            "|AMC Rebel SST            |16.0|8        |304.0       |150.0     |3433.0|12.0        |70   |US    |1           |2            |Third Column|AMC Rebel SST 70            |\n",
            "|Ford Torino              |17.0|8        |302.0       |140.0     |3449.0|10.5        |70   |US    |1           |2            |Third Column|Ford Torino 70              |\n",
            "+-------------------------+----+---------+------------+----------+------+------------+-----+------+------------+-------------+------------+----------------------------+\n",
            "only showing top 5 rows\n",
            "\n"
          ]
        }
      ]
    },
    {
      "cell_type": "markdown",
      "metadata": {
        "id": "xeHExg-zxf5r"
      },
      "source": [
        "As we can see, the new column car model has been created from existing columns. Since our aim was to create a column which has the value of car and model appended together with a space in between we have used the `concat` operator."
      ]
    },
    {
      "cell_type": "markdown",
      "metadata": {
        "id": "QlMf04i2CjDC"
      },
      "source": [
        "<a id='renaming-columns'></a>\n",
        "### Renaming Columns"
      ]
    },
    {
      "cell_type": "markdown",
      "metadata": {
        "id": "CwGKbSHvxxxG"
      },
      "source": [
        "We use the `withColumnRenamed` function to rename a columm in PySpark. Let us see it in action below:"
      ]
    },
    {
      "cell_type": "code",
      "metadata": {
        "id": "QJqgy6lKfk2o",
        "colab": {
          "base_uri": "https://localhost:8080/"
        },
        "outputId": "b459cc47-1e4e-4578-d504-23c118f9059d"
      },
      "source": [
        "#Renaming a column in PySpark\n",
        "df = df.withColumnRenamed('first_column', 'new_column_one') \\\n",
        "       .withColumnRenamed('second_column', 'new_column_two') \\\n",
        "       .withColumnRenamed('third_column', 'new_column_three')\n",
        "df.show(truncate=False)"
      ],
      "execution_count": null,
      "outputs": [
        {
          "output_type": "stream",
          "name": "stdout",
          "text": [
            "+--------------------------------+----+---------+------------+----------+------+------------+-----+------+--------------+--------------+----------------+-----------------------------------+\n",
            "|Car                             |MPG |Cylinders|Displacement|Horsepower|Weight|Acceleration|Model|Origin|new_column_one|new_column_two|new_column_three|car_model                          |\n",
            "+--------------------------------+----+---------+------------+----------+------+------------+-----+------+--------------+--------------+----------------+-----------------------------------+\n",
            "|Chevrolet Chevelle Malibu       |18.0|8        |307.0       |130.0     |3504.0|12.0        |70   |US    |1             |2             |Third Column    |Chevrolet Chevelle Malibu 70       |\n",
            "|Buick Skylark 320               |15.0|8        |350.0       |165.0     |3693.0|11.5        |70   |US    |1             |2             |Third Column    |Buick Skylark 320 70               |\n",
            "|Plymouth Satellite              |18.0|8        |318.0       |150.0     |3436.0|11.0        |70   |US    |1             |2             |Third Column    |Plymouth Satellite 70              |\n",
            "|AMC Rebel SST                   |16.0|8        |304.0       |150.0     |3433.0|12.0        |70   |US    |1             |2             |Third Column    |AMC Rebel SST 70                   |\n",
            "|Ford Torino                     |17.0|8        |302.0       |140.0     |3449.0|10.5        |70   |US    |1             |2             |Third Column    |Ford Torino 70                     |\n",
            "|Ford Galaxie 500                |15.0|8        |429.0       |198.0     |4341.0|10.0        |70   |US    |1             |2             |Third Column    |Ford Galaxie 500 70                |\n",
            "|Chevrolet Impala                |14.0|8        |454.0       |220.0     |4354.0|9.0         |70   |US    |1             |2             |Third Column    |Chevrolet Impala 70                |\n",
            "|Plymouth Fury iii               |14.0|8        |440.0       |215.0     |4312.0|8.5         |70   |US    |1             |2             |Third Column    |Plymouth Fury iii 70               |\n",
            "|Pontiac Catalina                |14.0|8        |455.0       |225.0     |4425.0|10.0        |70   |US    |1             |2             |Third Column    |Pontiac Catalina 70                |\n",
            "|AMC Ambassador DPL              |15.0|8        |390.0       |190.0     |3850.0|8.5         |70   |US    |1             |2             |Third Column    |AMC Ambassador DPL 70              |\n",
            "|Citroen DS-21 Pallas            |0.0 |4        |133.0       |115.0     |3090.0|17.5        |70   |Europe|1             |2             |Third Column    |Citroen DS-21 Pallas 70            |\n",
            "|Chevrolet Chevelle Concours (sw)|0.0 |8        |350.0       |165.0     |4142.0|11.5        |70   |US    |1             |2             |Third Column    |Chevrolet Chevelle Concours (sw) 70|\n",
            "|Ford Torino (sw)                |0.0 |8        |351.0       |153.0     |4034.0|11.0        |70   |US    |1             |2             |Third Column    |Ford Torino (sw) 70                |\n",
            "|Plymouth Satellite (sw)         |0.0 |8        |383.0       |175.0     |4166.0|10.5        |70   |US    |1             |2             |Third Column    |Plymouth Satellite (sw) 70         |\n",
            "|AMC Rebel SST (sw)              |0.0 |8        |360.0       |175.0     |3850.0|11.0        |70   |US    |1             |2             |Third Column    |AMC Rebel SST (sw) 70              |\n",
            "|Dodge Challenger SE             |15.0|8        |383.0       |170.0     |3563.0|10.0        |70   |US    |1             |2             |Third Column    |Dodge Challenger SE 70             |\n",
            "|Plymouth 'Cuda 340              |14.0|8        |340.0       |160.0     |3609.0|8.0         |70   |US    |1             |2             |Third Column    |Plymouth 'Cuda 340 70              |\n",
            "|Ford Mustang Boss 302           |0.0 |8        |302.0       |140.0     |3353.0|8.0         |70   |US    |1             |2             |Third Column    |Ford Mustang Boss 302 70           |\n",
            "|Chevrolet Monte Carlo           |15.0|8        |400.0       |150.0     |3761.0|9.5         |70   |US    |1             |2             |Third Column    |Chevrolet Monte Carlo 70           |\n",
            "|Buick Estate Wagon (sw)         |14.0|8        |455.0       |225.0     |3086.0|10.0        |70   |US    |1             |2             |Third Column    |Buick Estate Wagon (sw) 70         |\n",
            "+--------------------------------+----+---------+------------+----------+------+------------+-----+------+--------------+--------------+----------------+-----------------------------------+\n",
            "only showing top 20 rows\n",
            "\n"
          ]
        }
      ]
    },
    {
      "cell_type": "markdown",
      "metadata": {
        "id": "4CDifVC2Cnml"
      },
      "source": [
        "<a id='grouping-by-columns'></a>\n",
        "### Grouping By Columns"
      ]
    },
    {
      "cell_type": "markdown",
      "metadata": {
        "id": "9wlB76FdyS0W"
      },
      "source": [
        "Here, we see the Dataframe API way of grouping values. We will discuss how to:\n",
        "\n",
        "\n",
        "1.   Group By a single column\n",
        "2.   Group By multiple columns"
      ]
    },
    {
      "cell_type": "code",
      "metadata": {
        "id": "M1ek2opVfqea",
        "colab": {
          "base_uri": "https://localhost:8080/"
        },
        "outputId": "b2eb62da-c6b6-4c7b-a1a1-e511488311dc"
      },
      "source": [
        "# Group By a column in PySpark\n",
        "df.groupBy('Origin').count().show(5)"
      ],
      "execution_count": 47,
      "outputs": [
        {
          "output_type": "stream",
          "name": "stdout",
          "text": [
            "+------+-----+\n",
            "|Origin|count|\n",
            "+------+-----+\n",
            "|Europe|   73|\n",
            "|    US|  254|\n",
            "| Japan|   79|\n",
            "+------+-----+\n",
            "\n"
          ]
        }
      ]
    },
    {
      "cell_type": "code",
      "metadata": {
        "id": "hUh_TWcOysoL",
        "colab": {
          "base_uri": "https://localhost:8080/"
        },
        "outputId": "a286ea85-2a68-44cb-dba7-ef583753711e"
      },
      "source": [
        "# Group By multiple columns in PySpark\n",
        "df.groupBy('Origin', 'Model').count().show(5)"
      ],
      "execution_count": 48,
      "outputs": [
        {
          "output_type": "stream",
          "name": "stdout",
          "text": [
            "+------+-----+-----+\n",
            "|Origin|Model|count|\n",
            "+------+-----+-----+\n",
            "|Europe|   71|    5|\n",
            "|Europe|   80|    9|\n",
            "|Europe|   79|    4|\n",
            "| Japan|   75|    4|\n",
            "|    US|   72|   18|\n",
            "+------+-----+-----+\n",
            "only showing top 5 rows\n",
            "\n"
          ]
        }
      ]
    },
    {
      "cell_type": "markdown",
      "metadata": {
        "id": "CbpEj9fECrW3"
      },
      "source": [
        "<a id='removing-columns'></a>\n",
        "### Removing Columns"
      ]
    },
    {
      "cell_type": "code",
      "metadata": {
        "id": "xsb9PXxpfnmh",
        "colab": {
          "base_uri": "https://localhost:8080/"
        },
        "outputId": "09aecdb7-e953-4713-860f-c650ad47e31f"
      },
      "source": [
        "#Remove columns in PySpark\n",
        "df = df.drop('new_column_one')\n",
        "df.show(5,truncate=False)"
      ],
      "execution_count": 49,
      "outputs": [
        {
          "output_type": "stream",
          "name": "stdout",
          "text": [
            "+-------------------------+----+---------+------------+----------+------+------------+-----+------+------------+\n",
            "|Car                      |MPG |Cylinders|Displacement|Horsepower|Weight|Acceleration|Model|Origin|first_column|\n",
            "+-------------------------+----+---------+------------+----------+------+------------+-----+------+------------+\n",
            "|Chevrolet Chevelle Malibu|18.0|8        |307.0       |130.0     |3504.0|12.0        |70   |US    |1           |\n",
            "|Buick Skylark 320        |15.0|8        |350.0       |165.0     |3693.0|11.5        |70   |US    |1           |\n",
            "|Plymouth Satellite       |18.0|8        |318.0       |150.0     |3436.0|11.0        |70   |US    |1           |\n",
            "|AMC Rebel SST            |16.0|8        |304.0       |150.0     |3433.0|12.0        |70   |US    |1           |\n",
            "|Ford Torino              |17.0|8        |302.0       |140.0     |3449.0|10.5        |70   |US    |1           |\n",
            "+-------------------------+----+---------+------------+----------+------+------------+-----+------+------------+\n",
            "only showing top 5 rows\n",
            "\n"
          ]
        }
      ]
    },
    {
      "cell_type": "code",
      "metadata": {
        "id": "EKOXrXtvzK_0",
        "colab": {
          "base_uri": "https://localhost:8080/"
        },
        "outputId": "9c1106d3-bba7-4e0a-99ca-f06d36e5ac63"
      },
      "source": [
        "#Remove multiple columnss in one go\n",
        "df = df.drop('new_column_two') \\\n",
        "       .drop('new_column_three')\n",
        "df.show(5,truncate=False)"
      ],
      "execution_count": 50,
      "outputs": [
        {
          "output_type": "stream",
          "name": "stdout",
          "text": [
            "+-------------------------+----+---------+------------+----------+------+------------+-----+------+------------+\n",
            "|Car                      |MPG |Cylinders|Displacement|Horsepower|Weight|Acceleration|Model|Origin|first_column|\n",
            "+-------------------------+----+---------+------------+----------+------+------------+-----+------+------------+\n",
            "|Chevrolet Chevelle Malibu|18.0|8        |307.0       |130.0     |3504.0|12.0        |70   |US    |1           |\n",
            "|Buick Skylark 320        |15.0|8        |350.0       |165.0     |3693.0|11.5        |70   |US    |1           |\n",
            "|Plymouth Satellite       |18.0|8        |318.0       |150.0     |3436.0|11.0        |70   |US    |1           |\n",
            "|AMC Rebel SST            |16.0|8        |304.0       |150.0     |3433.0|12.0        |70   |US    |1           |\n",
            "|Ford Torino              |17.0|8        |302.0       |140.0     |3449.0|10.5        |70   |US    |1           |\n",
            "+-------------------------+----+---------+------------+----------+------+------------+-----+------+------------+\n",
            "only showing top 5 rows\n",
            "\n"
          ]
        }
      ]
    },
    {
      "cell_type": "markdown",
      "metadata": {
        "id": "WbKK5iHwmIoV"
      },
      "source": [
        "<a id='dataframe-operations-on-rows'></a>\n",
        "## DataFrame Operations on Rows"
      ]
    },
    {
      "cell_type": "markdown",
      "metadata": {
        "id": "Quwx3KlLzeq9"
      },
      "source": [
        "We will discuss the follwoing in this section:\n",
        "\n",
        "1.   Filtering Rows\n",
        "2. \t Get Distinct Rows\n",
        "3.   Sorting Rows\n",
        "4.   Union Dataframes\n",
        "\n"
      ]
    },
    {
      "cell_type": "markdown",
      "metadata": {
        "id": "9bKlvX-SH-Wy"
      },
      "source": [
        "<a id='filtering-rows'></a>\n",
        "### Filtering Rows"
      ]
    },
    {
      "cell_type": "code",
      "metadata": {
        "id": "YNfcjOIknA3n",
        "colab": {
          "base_uri": "https://localhost:8080/"
        },
        "outputId": "0c550311-3f83-47f6-d6a0-0f4274cc96e4"
      },
      "source": [
        "# Filtering rows in PySpark\n",
        "total_count = df.count()\n",
        "print(\"TOTAL RECORD COUNT: \" + str(total_count))\n",
        "europe_filtered_count = df.filter(col('Origin')=='Europe').count()\n",
        "print(\"EUROPE FILTERED RECORD COUNT: \" + str(europe_filtered_count))\n",
        "df.filter(col('Origin')=='Europe').show(truncate=False)"
      ],
      "execution_count": 51,
      "outputs": [
        {
          "output_type": "stream",
          "name": "stdout",
          "text": [
            "TOTAL RECORD COUNT: 406\n",
            "EUROPE FILTERED RECORD COUNT: 73\n",
            "+----------------------------+----+---------+------------+----------+------+------------+-----+------+------------+\n",
            "|Car                         |MPG |Cylinders|Displacement|Horsepower|Weight|Acceleration|Model|Origin|first_column|\n",
            "+----------------------------+----+---------+------------+----------+------+------------+-----+------+------------+\n",
            "|Citroen DS-21 Pallas        |0.0 |4        |133.0       |115.0     |3090.0|17.5        |70   |Europe|1           |\n",
            "|Volkswagen 1131 Deluxe Sedan|26.0|4        |97.0        |46.0      |1835.0|20.5        |70   |Europe|1           |\n",
            "|Peugeot 504                 |25.0|4        |110.0       |87.0      |2672.0|17.5        |70   |Europe|1           |\n",
            "|Audi 100 LS                 |24.0|4        |107.0       |90.0      |2430.0|14.5        |70   |Europe|1           |\n",
            "|Saab 99e                    |25.0|4        |104.0       |95.0      |2375.0|17.5        |70   |Europe|1           |\n",
            "|BMW 2002                    |26.0|4        |121.0       |113.0     |2234.0|12.5        |70   |Europe|1           |\n",
            "|Volkswagen Super Beetle 117 |0.0 |4        |97.0        |48.0      |1978.0|20.0        |71   |Europe|1           |\n",
            "|Opel 1900                   |28.0|4        |116.0       |90.0      |2123.0|14.0        |71   |Europe|1           |\n",
            "|Peugeot 304                 |30.0|4        |79.0        |70.0      |2074.0|19.5        |71   |Europe|1           |\n",
            "|Fiat 124B                   |30.0|4        |88.0        |76.0      |2065.0|14.5        |71   |Europe|1           |\n",
            "|Volkswagen Model 111        |27.0|4        |97.0        |60.0      |1834.0|19.0        |71   |Europe|1           |\n",
            "|Volkswagen Type 3           |23.0|4        |97.0        |54.0      |2254.0|23.5        |72   |Europe|1           |\n",
            "|Volvo 145e (sw)             |18.0|4        |121.0       |112.0     |2933.0|14.5        |72   |Europe|1           |\n",
            "|Volkswagen 411 (sw)         |22.0|4        |121.0       |76.0      |2511.0|18.0        |72   |Europe|1           |\n",
            "|Peugeot 504 (sw)            |21.0|4        |120.0       |87.0      |2979.0|19.5        |72   |Europe|1           |\n",
            "|Renault 12 (sw)             |26.0|4        |96.0        |69.0      |2189.0|18.0        |72   |Europe|1           |\n",
            "|Volkswagen Super Beetle     |26.0|4        |97.0        |46.0      |1950.0|21.0        |73   |Europe|1           |\n",
            "|Fiat 124 Sport Coupe        |26.0|4        |98.0        |90.0      |2265.0|15.5        |73   |Europe|1           |\n",
            "|Fiat 128                    |29.0|4        |68.0        |49.0      |1867.0|19.5        |73   |Europe|1           |\n",
            "|Opel Manta                  |24.0|4        |116.0       |75.0      |2158.0|15.5        |73   |Europe|1           |\n",
            "+----------------------------+----+---------+------------+----------+------+------------+-----+------+------------+\n",
            "only showing top 20 rows\n",
            "\n"
          ]
        }
      ]
    },
    {
      "cell_type": "code",
      "metadata": {
        "id": "MXJxRwBQ1lyd",
        "colab": {
          "base_uri": "https://localhost:8080/"
        },
        "outputId": "ff20d9fd-f7e4-40b1-dbe9-b053ad7a1da3"
      },
      "source": [
        "# Filtering rows in PySpark based on Multiple conditions\n",
        "total_count = df.count()\n",
        "print(\"TOTAL RECORD COUNT: \" + str(total_count))\n",
        "europe_filtered_count = df.filter((col('Origin')=='Europe') &\n",
        "                                  (col('Cylinders')==4)).count() # Two conditions added here\n",
        "print(\"EUROPE FILTERED RECORD COUNT: \" + str(europe_filtered_count))\n",
        "df.filter(col('Origin')=='Europe').show(truncate=False)"
      ],
      "execution_count": 52,
      "outputs": [
        {
          "output_type": "stream",
          "name": "stdout",
          "text": [
            "TOTAL RECORD COUNT: 406\n",
            "EUROPE FILTERED RECORD COUNT: 66\n",
            "+----------------------------+----+---------+------------+----------+------+------------+-----+------+------------+\n",
            "|Car                         |MPG |Cylinders|Displacement|Horsepower|Weight|Acceleration|Model|Origin|first_column|\n",
            "+----------------------------+----+---------+------------+----------+------+------------+-----+------+------------+\n",
            "|Citroen DS-21 Pallas        |0.0 |4        |133.0       |115.0     |3090.0|17.5        |70   |Europe|1           |\n",
            "|Volkswagen 1131 Deluxe Sedan|26.0|4        |97.0        |46.0      |1835.0|20.5        |70   |Europe|1           |\n",
            "|Peugeot 504                 |25.0|4        |110.0       |87.0      |2672.0|17.5        |70   |Europe|1           |\n",
            "|Audi 100 LS                 |24.0|4        |107.0       |90.0      |2430.0|14.5        |70   |Europe|1           |\n",
            "|Saab 99e                    |25.0|4        |104.0       |95.0      |2375.0|17.5        |70   |Europe|1           |\n",
            "|BMW 2002                    |26.0|4        |121.0       |113.0     |2234.0|12.5        |70   |Europe|1           |\n",
            "|Volkswagen Super Beetle 117 |0.0 |4        |97.0        |48.0      |1978.0|20.0        |71   |Europe|1           |\n",
            "|Opel 1900                   |28.0|4        |116.0       |90.0      |2123.0|14.0        |71   |Europe|1           |\n",
            "|Peugeot 304                 |30.0|4        |79.0        |70.0      |2074.0|19.5        |71   |Europe|1           |\n",
            "|Fiat 124B                   |30.0|4        |88.0        |76.0      |2065.0|14.5        |71   |Europe|1           |\n",
            "|Volkswagen Model 111        |27.0|4        |97.0        |60.0      |1834.0|19.0        |71   |Europe|1           |\n",
            "|Volkswagen Type 3           |23.0|4        |97.0        |54.0      |2254.0|23.5        |72   |Europe|1           |\n",
            "|Volvo 145e (sw)             |18.0|4        |121.0       |112.0     |2933.0|14.5        |72   |Europe|1           |\n",
            "|Volkswagen 411 (sw)         |22.0|4        |121.0       |76.0      |2511.0|18.0        |72   |Europe|1           |\n",
            "|Peugeot 504 (sw)            |21.0|4        |120.0       |87.0      |2979.0|19.5        |72   |Europe|1           |\n",
            "|Renault 12 (sw)             |26.0|4        |96.0        |69.0      |2189.0|18.0        |72   |Europe|1           |\n",
            "|Volkswagen Super Beetle     |26.0|4        |97.0        |46.0      |1950.0|21.0        |73   |Europe|1           |\n",
            "|Fiat 124 Sport Coupe        |26.0|4        |98.0        |90.0      |2265.0|15.5        |73   |Europe|1           |\n",
            "|Fiat 128                    |29.0|4        |68.0        |49.0      |1867.0|19.5        |73   |Europe|1           |\n",
            "|Opel Manta                  |24.0|4        |116.0       |75.0      |2158.0|15.5        |73   |Europe|1           |\n",
            "+----------------------------+----+---------+------------+----------+------+------------+-----+------+------------+\n",
            "only showing top 20 rows\n",
            "\n"
          ]
        }
      ]
    },
    {
      "cell_type": "markdown",
      "metadata": {
        "id": "zLU-a4auIEvh"
      },
      "source": [
        "<a id='get-distinct-rows'></a>\n",
        "### Get Distinct Rows"
      ]
    },
    {
      "cell_type": "code",
      "metadata": {
        "id": "B1RKg1UrmBQz",
        "colab": {
          "base_uri": "https://localhost:8080/"
        },
        "outputId": "00332553-1b8e-4837-e911-185b3bcfe391"
      },
      "source": [
        "#Get Unique Rows in PySpark\n",
        "df.select('Origin').distinct().show()"
      ],
      "execution_count": 53,
      "outputs": [
        {
          "output_type": "stream",
          "name": "stdout",
          "text": [
            "+------+\n",
            "|Origin|\n",
            "+------+\n",
            "|Europe|\n",
            "|    US|\n",
            "| Japan|\n",
            "+------+\n",
            "\n"
          ]
        }
      ]
    },
    {
      "cell_type": "code",
      "metadata": {
        "id": "_LQWXPXt0g0N",
        "colab": {
          "base_uri": "https://localhost:8080/"
        },
        "outputId": "c2adb559-b483-40d6-9c41-1aa58289c39b"
      },
      "source": [
        "#Get Unique Rows in PySpark based on mutliple columns\n",
        "df.select('Origin','model').distinct().show()"
      ],
      "execution_count": 54,
      "outputs": [
        {
          "output_type": "stream",
          "name": "stdout",
          "text": [
            "+------+-----+\n",
            "|Origin|model|\n",
            "+------+-----+\n",
            "|Europe|   71|\n",
            "|Europe|   80|\n",
            "|Europe|   79|\n",
            "| Japan|   75|\n",
            "|    US|   72|\n",
            "|    US|   80|\n",
            "|Europe|   74|\n",
            "| Japan|   79|\n",
            "|Europe|   76|\n",
            "|    US|   75|\n",
            "| Japan|   77|\n",
            "|    US|   82|\n",
            "| Japan|   80|\n",
            "| Japan|   78|\n",
            "|    US|   78|\n",
            "|Europe|   75|\n",
            "|    US|   71|\n",
            "|    US|   77|\n",
            "| Japan|   70|\n",
            "| Japan|   71|\n",
            "+------+-----+\n",
            "only showing top 20 rows\n",
            "\n"
          ]
        }
      ]
    },
    {
      "cell_type": "markdown",
      "metadata": {
        "id": "-069UYUwIIYI"
      },
      "source": [
        "<a id='sorting-rows'></a>\n",
        "### Sorting Rows"
      ]
    },
    {
      "cell_type": "code",
      "metadata": {
        "id": "4ZpeJvz0nkBI",
        "colab": {
          "base_uri": "https://localhost:8080/"
        },
        "outputId": "e04669ca-665f-4a22-e535-a8969afb355d"
      },
      "source": [
        "# Sort Rows in PySpark\n",
        "# By default the data will be sorted in ascending order\n",
        "df.orderBy('Cylinders').show(truncate=False)"
      ],
      "execution_count": 55,
      "outputs": [
        {
          "output_type": "stream",
          "name": "stdout",
          "text": [
            "+----------------------------+----+---------+------------+----------+------+------------+-----+------+------------+\n",
            "|Car                         |MPG |Cylinders|Displacement|Horsepower|Weight|Acceleration|Model|Origin|first_column|\n",
            "+----------------------------+----+---------+------------+----------+------+------------+-----+------+------------+\n",
            "|Mazda RX-4                  |21.5|3        |80.0        |110.0     |2720.0|13.5        |77   |Japan |1           |\n",
            "|Mazda RX-7 GS               |23.7|3        |70.0        |100.0     |2420.0|12.5        |80   |Japan |1           |\n",
            "|Mazda RX2 Coupe             |19.0|3        |70.0        |97.0      |2330.0|13.5        |72   |Japan |1           |\n",
            "|Mazda RX3                   |18.0|3        |70.0        |90.0      |2124.0|13.5        |73   |Japan |1           |\n",
            "|Datsun 510 (sw)             |28.0|4        |97.0        |92.0      |2288.0|17.0        |72   |Japan |1           |\n",
            "|Opel 1900                   |28.0|4        |116.0       |90.0      |2123.0|14.0        |71   |Europe|1           |\n",
            "|Mercury Capri 2000          |23.0|4        |122.0       |86.0      |2220.0|14.0        |71   |US    |1           |\n",
            "|Volkswagen 1131 Deluxe Sedan|26.0|4        |97.0        |46.0      |1835.0|20.5        |70   |Europe|1           |\n",
            "|Peugeot 304                 |30.0|4        |79.0        |70.0      |2074.0|19.5        |71   |Europe|1           |\n",
            "|Fiat 124B                   |30.0|4        |88.0        |76.0      |2065.0|14.5        |71   |Europe|1           |\n",
            "|Chevrolet Vega (sw)         |22.0|4        |140.0       |72.0      |2408.0|19.0        |71   |US    |1           |\n",
            "|Datsun 1200                 |35.0|4        |72.0        |69.0      |1613.0|18.0        |71   |Japan |1           |\n",
            "|Volkswagen Model 111        |27.0|4        |97.0        |60.0      |1834.0|19.0        |71   |Europe|1           |\n",
            "|Volkswagen Type 3           |23.0|4        |97.0        |54.0      |2254.0|23.5        |72   |Europe|1           |\n",
            "|Audi 100 LS                 |24.0|4        |107.0       |90.0      |2430.0|14.5        |70   |Europe|1           |\n",
            "|BMW 2002                    |26.0|4        |121.0       |113.0     |2234.0|12.5        |70   |Europe|1           |\n",
            "|Toyota Corolla 1200         |31.0|4        |71.0        |65.0      |1773.0|19.0        |71   |Japan |1           |\n",
            "|Chevrolet Vega 2300         |28.0|4        |140.0       |90.0      |2264.0|15.5        |71   |US    |1           |\n",
            "|Ford Pinto                  |25.0|4        |98.0        |0.0       |2046.0|19.0        |71   |US    |1           |\n",
            "|Dodge Colt Hardtop          |25.0|4        |97.5        |80.0      |2126.0|17.0        |72   |US    |1           |\n",
            "+----------------------------+----+---------+------------+----------+------+------------+-----+------+------------+\n",
            "only showing top 20 rows\n",
            "\n"
          ]
        }
      ]
    },
    {
      "cell_type": "code",
      "metadata": {
        "id": "v1CEwofMJV-D",
        "colab": {
          "base_uri": "https://localhost:8080/"
        },
        "outputId": "294bd16f-5f40-4b64-cf05-0ade7a2a6a8e"
      },
      "source": [
        "# To change the sorting order, you can use the ascending parameter\n",
        "df.orderBy('Cylinders', ascending=False).show(truncate=False)"
      ],
      "execution_count": 56,
      "outputs": [
        {
          "output_type": "stream",
          "name": "stdout",
          "text": [
            "+-------------------------+----+---------+------------+----------+------+------------+-----+------+------------+\n",
            "|Car                      |MPG |Cylinders|Displacement|Horsepower|Weight|Acceleration|Model|Origin|first_column|\n",
            "+-------------------------+----+---------+------------+----------+------+------------+-----+------+------------+\n",
            "|Plymouth 'Cuda 340       |14.0|8        |340.0       |160.0     |3609.0|8.0         |70   |US    |1           |\n",
            "|Pontiac Safari (sw)      |13.0|8        |400.0       |175.0     |5140.0|12.0        |71   |US    |1           |\n",
            "|Ford Mustang Boss 302    |0.0 |8        |302.0       |140.0     |3353.0|8.0         |70   |US    |1           |\n",
            "|Buick Skylark 320        |15.0|8        |350.0       |165.0     |3693.0|11.5        |70   |US    |1           |\n",
            "|Chevrolet Monte Carlo    |15.0|8        |400.0       |150.0     |3761.0|9.5         |70   |US    |1           |\n",
            "|AMC Rebel SST            |16.0|8        |304.0       |150.0     |3433.0|12.0        |70   |US    |1           |\n",
            "|Buick Estate Wagon (sw)  |14.0|8        |455.0       |225.0     |3086.0|10.0        |70   |US    |1           |\n",
            "|Ford Galaxie 500         |15.0|8        |429.0       |198.0     |4341.0|10.0        |70   |US    |1           |\n",
            "|Ford F250                |10.0|8        |360.0       |215.0     |4615.0|14.0        |70   |US    |1           |\n",
            "|Plymouth Fury iii        |14.0|8        |440.0       |215.0     |4312.0|8.5         |70   |US    |1           |\n",
            "|Chevy C20                |10.0|8        |307.0       |200.0     |4376.0|15.0        |70   |US    |1           |\n",
            "|AMC Ambassador DPL       |15.0|8        |390.0       |190.0     |3850.0|8.5         |70   |US    |1           |\n",
            "|Dodge D200               |11.0|8        |318.0       |210.0     |4382.0|13.5        |70   |US    |1           |\n",
            "|Ford Torino (sw)         |0.0 |8        |351.0       |153.0     |4034.0|11.0        |70   |US    |1           |\n",
            "|Hi 1200D                 |9.0 |8        |304.0       |193.0     |4732.0|18.5        |70   |US    |1           |\n",
            "|AMC Rebel SST (sw)       |0.0 |8        |360.0       |175.0     |3850.0|11.0        |70   |US    |1           |\n",
            "|Chevrolet Impala         |14.0|8        |350.0       |165.0     |4209.0|12.0        |71   |US    |1           |\n",
            "|Chevrolet Chevelle Malibu|18.0|8        |307.0       |130.0     |3504.0|12.0        |70   |US    |1           |\n",
            "|Pontiac Catalina Brougham|14.0|8        |400.0       |175.0     |4464.0|11.5        |71   |US    |1           |\n",
            "|Ford Torino              |17.0|8        |302.0       |140.0     |3449.0|10.5        |70   |US    |1           |\n",
            "+-------------------------+----+---------+------------+----------+------+------------+-----+------+------------+\n",
            "only showing top 20 rows\n",
            "\n"
          ]
        }
      ]
    },
    {
      "cell_type": "code",
      "metadata": {
        "id": "Zx3W4aeL5A4O",
        "colab": {
          "base_uri": "https://localhost:8080/"
        },
        "outputId": "45fbafc4-dbfd-4d24-e1c5-91e637c7bc2f"
      },
      "source": [
        "# Using groupBy aand orderBy together\n",
        "df.groupBy(\"Origin\").count().orderBy('count', ascending=False).show(10)"
      ],
      "execution_count": 57,
      "outputs": [
        {
          "output_type": "stream",
          "name": "stdout",
          "text": [
            "+------+-----+\n",
            "|Origin|count|\n",
            "+------+-----+\n",
            "|    US|  254|\n",
            "| Japan|   79|\n",
            "|Europe|   73|\n",
            "+------+-----+\n",
            "\n"
          ]
        }
      ]
    },
    {
      "cell_type": "markdown",
      "metadata": {
        "id": "aN0-A_JsIX-X"
      },
      "source": [
        "<a id='union-dataframes'></a>\n",
        "### Union Dataframes"
      ]
    },
    {
      "cell_type": "markdown",
      "metadata": {
        "id": "VH0KOaBrJt6v"
      },
      "source": [
        "You will see three main methods for performing union of dataframes. It is important to know the difference between them and which one is preferred:\n",
        "\n",
        "*   `union()` – It is used to merge two DataFrames of the same structure/schema. If schemas are not the same, it returns an error\n",
        "*   `unionAll()` – This function is deprecated since Spark 2.0.0, and replaced with union()\n",
        "*   `unionByName()` - This function is used to merge two dataframes based on column name.\n",
        "\n",
        "> Since `unionAll()` is deprecated, **`union()` is the preferred method for merging dataframes.**\n",
        "<br>\n",
        "> The difference between `unionByName()` and `union()` is that `unionByName()` resolves columns by name, not by position.\n",
        "\n",
        "In other SQLs, Union eliminates the duplicates but UnionAll merges two datasets, thereby including duplicate records. But, in PySpark, both behave the same and includes duplicate records. The recommendation is to use `distinct()` or `dropDuplicates()` to remove duplicate records."
      ]
    },
    {
      "cell_type": "code",
      "metadata": {
        "id": "bCZIzfYmnx--",
        "colab": {
          "base_uri": "https://localhost:8080/"
        },
        "outputId": "2f683280-e3b7-4c4e-ad03-2c41701b35c4"
      },
      "source": [
        "# CASE 1: Union When columns are in order\n",
        "df = spark.read.csv('cars.csv', header=True, sep=\";\", inferSchema=True)\n",
        "europe_cars = df.filter((col('Origin')=='Europe') & (col('Cylinders')==5))\n",
        "japan_cars = df.filter((col('Origin')=='Japan') & (col('Cylinders')==3))\n",
        "print(\"EUROPE CARS: \"+str(europe_cars.count()))\n",
        "print(\"JAPAN CARS: \"+str(japan_cars.count()))\n",
        "print(\"AFTER UNION: \"+str(europe_cars.union(japan_cars).count()))"
      ],
      "execution_count": 58,
      "outputs": [
        {
          "output_type": "stream",
          "name": "stdout",
          "text": [
            "EUROPE CARS: 3\n",
            "JAPAN CARS: 4\n",
            "AFTER UNION: 7\n"
          ]
        }
      ]
    },
    {
      "cell_type": "markdown",
      "metadata": {
        "id": "1pfPzVOFqC_8"
      },
      "source": [
        "**Result:**\n",
        "\n",
        "> As you can see here, there were 3 cars from Europe with 5 Cylinders, and 4 cars from Japan with 3 Cylinders. After union, there are 7 cars in total.\n",
        "\n"
      ]
    },
    {
      "cell_type": "code",
      "metadata": {
        "id": "CjWjzWBoMxx0",
        "colab": {
          "base_uri": "https://localhost:8080/"
        },
        "outputId": "55059924-5f9a-4e48-9912-1224e42cd1e3"
      },
      "source": [
        "# CASE 1: Union When columns are not in order\n",
        "# Creating two dataframes with jumbled columns\n",
        "df1 = spark.createDataFrame([[1, 2, 3]], [\"col0\", \"col1\", \"col2\"])\n",
        "df2 = spark.createDataFrame([[4, 5, 6]], [\"col1\", \"col2\", \"col0\"])\n",
        "df1.unionByName(df2).show()"
      ],
      "execution_count": 59,
      "outputs": [
        {
          "output_type": "stream",
          "name": "stdout",
          "text": [
            "+----+----+----+\n",
            "|col0|col1|col2|\n",
            "+----+----+----+\n",
            "|   1|   2|   3|\n",
            "|   6|   4|   5|\n",
            "+----+----+----+\n",
            "\n"
          ]
        }
      ]
    },
    {
      "cell_type": "markdown",
      "metadata": {
        "id": "EX33t8e3PyGy"
      },
      "source": [
        "**Result:**\n",
        "\n",
        "> As you can see here, the two dataframes have been successfully merged based on their column names.\n",
        "\n"
      ]
    },
    {
      "cell_type": "markdown",
      "metadata": {
        "id": "aHjILb1DriuX"
      },
      "source": [
        "<a id='common-data-manipulation-functions'></a>\n",
        "## Common Data Manipulation Functions"
      ]
    },
    {
      "cell_type": "code",
      "metadata": {
        "id": "x3vlC7ZerlKb",
        "colab": {
          "base_uri": "https://localhost:8080/"
        },
        "outputId": "91af28cc-3747-421c-866a-402002cd3b70"
      },
      "source": [
        "# Functions available in PySpark\n",
        "from pyspark.sql import functions\n",
        "# Similar to python, we can use the dir function to view the avaiable functions\n",
        "print(dir(functions))"
      ],
      "execution_count": 60,
      "outputs": [
        {
          "output_type": "stream",
          "name": "stdout",
          "text": [
            "['Column', 'DataFrame', 'DataType', 'PandasUDFType', 'PythonEvalType', 'SparkContext', 'StringType', 'UserDefinedFunction', '__builtins__', '__cached__', '__doc__', '__file__', '__loader__', '__name__', '__package__', '__spec__', '_create_column_from_literal', '_create_lambda', '_create_udf', '_get_get_jvm_function', '_get_lambda_parameters', '_invoke_binary_math_function', '_invoke_function', '_invoke_function_over_column', '_invoke_higher_order_function', '_options_to_str', '_test', '_to_java_column', '_to_seq', '_unresolved_named_lambda_variable', 'abs', 'acos', 'acosh', 'add_months', 'aggregate', 'approxCountDistinct', 'approx_count_distinct', 'array', 'array_contains', 'array_distinct', 'array_except', 'array_intersect', 'array_join', 'array_max', 'array_min', 'array_position', 'array_remove', 'array_repeat', 'array_sort', 'array_union', 'arrays_overlap', 'arrays_zip', 'asc', 'asc_nulls_first', 'asc_nulls_last', 'ascii', 'asin', 'asinh', 'assert_true', 'atan', 'atan2', 'atanh', 'avg', 'base64', 'bin', 'bitwiseNOT', 'broadcast', 'bround', 'bucket', 'cbrt', 'ceil', 'coalesce', 'col', 'collect_list', 'collect_set', 'column', 'concat', 'concat_ws', 'conv', 'corr', 'cos', 'cosh', 'count', 'countDistinct', 'covar_pop', 'covar_samp', 'crc32', 'create_map', 'cume_dist', 'current_date', 'current_timestamp', 'date_add', 'date_format', 'date_sub', 'date_trunc', 'datediff', 'dayofmonth', 'dayofweek', 'dayofyear', 'days', 'decode', 'degrees', 'dense_rank', 'desc', 'desc_nulls_first', 'desc_nulls_last', 'element_at', 'encode', 'exists', 'exp', 'explode', 'explode_outer', 'expm1', 'expr', 'factorial', 'filter', 'first', 'flatten', 'floor', 'forall', 'format_number', 'format_string', 'from_csv', 'from_json', 'from_unixtime', 'from_utc_timestamp', 'functools', 'get_json_object', 'greatest', 'grouping', 'grouping_id', 'hash', 'hex', 'hour', 'hours', 'hypot', 'initcap', 'input_file_name', 'instr', 'isnan', 'isnull', 'json_tuple', 'kurtosis', 'lag', 'last', 'last_day', 'lead', 'least', 'length', 'levenshtein', 'lit', 'locate', 'log', 'log10', 'log1p', 'log2', 'lower', 'lpad', 'ltrim', 'map_concat', 'map_entries', 'map_filter', 'map_from_arrays', 'map_from_entries', 'map_keys', 'map_values', 'map_zip_with', 'max', 'md5', 'mean', 'min', 'minute', 'monotonically_increasing_id', 'month', 'months', 'months_between', 'nanvl', 'next_day', 'nth_value', 'ntile', 'overlay', 'pandas_udf', 'percent_rank', 'percentile_approx', 'posexplode', 'posexplode_outer', 'pow', 'quarter', 'radians', 'raise_error', 'rand', 'randn', 'rank', 'regexp_extract', 'regexp_replace', 'repeat', 'reverse', 'rint', 'round', 'row_number', 'rpad', 'rtrim', 'schema_of_csv', 'schema_of_json', 'second', 'sequence', 'sha1', 'sha2', 'shiftLeft', 'shiftRight', 'shiftRightUnsigned', 'shuffle', 'signum', 'sin', 'since', 'sinh', 'size', 'skewness', 'slice', 'sort_array', 'soundex', 'spark_partition_id', 'split', 'sqrt', 'stddev', 'stddev_pop', 'stddev_samp', 'struct', 'substring', 'substring_index', 'sum', 'sumDistinct', 'sys', 'tan', 'tanh', 'timestamp_seconds', 'toDegrees', 'toRadians', 'to_csv', 'to_date', 'to_json', 'to_str', 'to_timestamp', 'to_utc_timestamp', 'transform', 'transform_keys', 'transform_values', 'translate', 'trim', 'trunc', 'udf', 'unbase64', 'unhex', 'unix_timestamp', 'upper', 'var_pop', 'var_samp', 'variance', 'warnings', 'weekofyear', 'when', 'window', 'xxhash64', 'year', 'years', 'zip_with']\n"
          ]
        }
      ]
    },
    {
      "cell_type": "markdown",
      "metadata": {
        "id": "PIKigra7A34e"
      },
      "source": [
        "<a id='string-functions'></a>\n",
        "### String Functions"
      ]
    },
    {
      "cell_type": "code",
      "metadata": {
        "id": "63QDccSjBqC4"
      },
      "source": [
        "# Loading the data\n",
        "from pyspark.sql.functions import col\n",
        "df = spark.read.csv('cars.csv', header=True, sep=\";\", inferSchema=True)"
      ],
      "execution_count": 61,
      "outputs": []
    },
    {
      "cell_type": "markdown",
      "metadata": {
        "id": "LiXWN8DUA9x6"
      },
      "source": [
        "**Display the Car column in exisitng, lower and upper characters, and the first 4 characters of the column**"
      ]
    },
    {
      "cell_type": "code",
      "metadata": {
        "id": "52Gh9c99BZFr",
        "colab": {
          "base_uri": "https://localhost:8080/"
        },
        "outputId": "fdcef469-f7c0-463f-b972-fb2813d8306a"
      },
      "source": [
        "from pyspark.sql.functions import col,lower, upper, substring\n",
        "# Prints out the details of a function\n",
        "help(substring)\n",
        "# alias is used to rename the column name in the output\n",
        "df.select(col('Car'),lower(col('Car')),upper(col('Car')),substring(col('Car'),1,4).alias(\"concatenated value\")).show(5, False)"
      ],
      "execution_count": 62,
      "outputs": [
        {
          "output_type": "stream",
          "name": "stdout",
          "text": [
            "Help on function substring in module pyspark.sql.functions:\n",
            "\n",
            "substring(str, pos, len)\n",
            "    Substring starts at `pos` and is of length `len` when str is String type or\n",
            "    returns the slice of byte array that starts at `pos` in byte and is of length `len`\n",
            "    when str is Binary type.\n",
            "    \n",
            "    .. versionadded:: 1.5.0\n",
            "    \n",
            "    Notes\n",
            "    -----\n",
            "    The position is not zero based, but 1 based index.\n",
            "    \n",
            "    Examples\n",
            "    --------\n",
            "    >>> df = spark.createDataFrame([('abcd',)], ['s',])\n",
            "    >>> df.select(substring(df.s, 1, 2).alias('s')).collect()\n",
            "    [Row(s='ab')]\n",
            "\n",
            "+-------------------------+-------------------------+-------------------------+------------------+\n",
            "|Car                      |lower(Car)               |upper(Car)               |concatenated value|\n",
            "+-------------------------+-------------------------+-------------------------+------------------+\n",
            "|Chevrolet Chevelle Malibu|chevrolet chevelle malibu|CHEVROLET CHEVELLE MALIBU|Chev              |\n",
            "|Buick Skylark 320        |buick skylark 320        |BUICK SKYLARK 320        |Buic              |\n",
            "|Plymouth Satellite       |plymouth satellite       |PLYMOUTH SATELLITE       |Plym              |\n",
            "|AMC Rebel SST            |amc rebel sst            |AMC REBEL SST            |AMC               |\n",
            "|Ford Torino              |ford torino              |FORD TORINO              |Ford              |\n",
            "+-------------------------+-------------------------+-------------------------+------------------+\n",
            "only showing top 5 rows\n",
            "\n"
          ]
        }
      ]
    },
    {
      "cell_type": "markdown",
      "metadata": {
        "id": "GZJFdTbk6rBt"
      },
      "source": [
        "**Concatenate the Car column and Model column and add a space between them.**"
      ]
    },
    {
      "cell_type": "code",
      "metadata": {
        "id": "8Lo951Cg6phi",
        "colab": {
          "base_uri": "https://localhost:8080/"
        },
        "outputId": "ce01c289-c33e-4bdf-e61b-b50177944946"
      },
      "source": [
        "from pyspark.sql.functions import concat\n",
        "df.select(col(\"Car\"),col(\"model\"),concat(col(\"Car\"), lit(\" \"), col(\"model\"))).show(5, False)"
      ],
      "execution_count": 63,
      "outputs": [
        {
          "output_type": "stream",
          "name": "stdout",
          "text": [
            "+-------------------------+-----+----------------------------+\n",
            "|Car                      |model|concat(Car,  , model)       |\n",
            "+-------------------------+-----+----------------------------+\n",
            "|Chevrolet Chevelle Malibu|70   |Chevrolet Chevelle Malibu 70|\n",
            "|Buick Skylark 320        |70   |Buick Skylark 320 70        |\n",
            "|Plymouth Satellite       |70   |Plymouth Satellite 70       |\n",
            "|AMC Rebel SST            |70   |AMC Rebel SST 70            |\n",
            "|Ford Torino              |70   |Ford Torino 70              |\n",
            "+-------------------------+-----+----------------------------+\n",
            "only showing top 5 rows\n",
            "\n"
          ]
        }
      ]
    },
    {
      "cell_type": "markdown",
      "metadata": {
        "id": "ldtA0wk9BMkT"
      },
      "source": [
        "<a id='numeric-functions'></a>\n",
        "### Numeric functions"
      ]
    },
    {
      "cell_type": "markdown",
      "metadata": {
        "id": "kmz4G5LVBOs6"
      },
      "source": [
        "**Show the oldest date and the most recent date**"
      ]
    },
    {
      "cell_type": "code",
      "metadata": {
        "id": "wBDDH-YpBbdk",
        "colab": {
          "base_uri": "https://localhost:8080/"
        },
        "outputId": "25af6019-3120-4082-c852-2665fc46bde7"
      },
      "source": [
        "from pyspark.sql.functions import min, max\n",
        "df.select(min(col('Weight')), max(col('Weight'))).show()"
      ],
      "execution_count": 65,
      "outputs": [
        {
          "output_type": "stream",
          "name": "stdout",
          "text": [
            "+-----------+-----------+\n",
            "|min(Weight)|max(Weight)|\n",
            "+-----------+-----------+\n",
            "|       1613|       5140|\n",
            "+-----------+-----------+\n",
            "\n"
          ]
        }
      ]
    },
    {
      "cell_type": "markdown",
      "metadata": {
        "id": "MTg-Royz7Nvi"
      },
      "source": [
        "**Add 10 to the minimum and maximum weight**"
      ]
    },
    {
      "cell_type": "code",
      "metadata": {
        "id": "YeiemMsI7Vm2",
        "colab": {
          "base_uri": "https://localhost:8080/"
        },
        "outputId": "adb020f3-06ca-4e50-e7ee-77e93199522e"
      },
      "source": [
        "from pyspark.sql.functions import min, max, lit\n",
        "df.select(min(col('Weight'))+lit(10), max(col('Weight')+lit(10))).show()"
      ],
      "execution_count": 66,
      "outputs": [
        {
          "output_type": "stream",
          "name": "stdout",
          "text": [
            "+------------------+------------------+\n",
            "|(min(Weight) + 10)|max((Weight + 10))|\n",
            "+------------------+------------------+\n",
            "|              1623|              5150|\n",
            "+------------------+------------------+\n",
            "\n"
          ]
        }
      ]
    },
    {
      "cell_type": "markdown",
      "metadata": {
        "id": "KQ6Ul9HGCwC3"
      },
      "source": [
        "<a id='operations-on-date'></a>\n",
        "### Operations on Date"
      ]
    },
    {
      "cell_type": "markdown",
      "metadata": {
        "id": "s1jmBN2qFHyk"
      },
      "source": [
        "> [PySpark follows SimpleDateFormat table of Java. Click here to view the docs.](https://docs.oracle.com/javase/7/docs/api/java/text/SimpleDateFormat.html)"
      ]
    },
    {
      "cell_type": "code",
      "metadata": {
        "id": "sCTeI_JvDCsH",
        "colab": {
          "base_uri": "https://localhost:8080/"
        },
        "outputId": "8b802112-ac7a-4421-f253-f2a15116edfe"
      },
      "source": [
        "from pyspark.sql.functions import to_date, to_timestamp, lit\n",
        "df = spark.createDataFrame([('2019-12-25 13:30:00',)], ['DOB'])\n",
        "df.show()\n",
        "df.printSchema()"
      ],
      "execution_count": 67,
      "outputs": [
        {
          "output_type": "stream",
          "name": "stdout",
          "text": [
            "+-------------------+\n",
            "|                DOB|\n",
            "+-------------------+\n",
            "|2019-12-25 13:30:00|\n",
            "+-------------------+\n",
            "\n",
            "root\n",
            " |-- DOB: string (nullable = true)\n",
            "\n"
          ]
        }
      ]
    },
    {
      "cell_type": "code",
      "metadata": {
        "id": "ZH8ja1eHEW8x",
        "colab": {
          "base_uri": "https://localhost:8080/"
        },
        "outputId": "d3a87350-0fcf-4ea1-ec55-e1eb6cb7a8b0"
      },
      "source": [
        "df = spark.createDataFrame([('2019-12-25 13:30:00',)], ['DOB'])\n",
        "df = df.select(to_date(col('DOB'),'yyyy-MM-dd HH:mm:ss'), to_timestamp(col('DOB'),'yyyy-MM-dd HH:mm:ss'))\n",
        "df.show()\n",
        "df.printSchema()"
      ],
      "execution_count": 68,
      "outputs": [
        {
          "output_type": "stream",
          "name": "stdout",
          "text": [
            "+---------------------------------+--------------------------------------+\n",
            "|to_date(DOB, yyyy-MM-dd HH:mm:ss)|to_timestamp(DOB, yyyy-MM-dd HH:mm:ss)|\n",
            "+---------------------------------+--------------------------------------+\n",
            "|                       2019-12-25|                   2019-12-25 13:30:00|\n",
            "+---------------------------------+--------------------------------------+\n",
            "\n",
            "root\n",
            " |-- to_date(DOB, yyyy-MM-dd HH:mm:ss): date (nullable = true)\n",
            " |-- to_timestamp(DOB, yyyy-MM-dd HH:mm:ss): timestamp (nullable = true)\n",
            "\n"
          ]
        }
      ]
    },
    {
      "cell_type": "code",
      "metadata": {
        "id": "7g9m_8PPErI1",
        "colab": {
          "base_uri": "https://localhost:8080/"
        },
        "outputId": "5191f7c3-dbdc-4022-f920-174c2948cf1a"
      },
      "source": [
        "df = spark.createDataFrame([('25/Dec/2019 13:30:00',)], ['DOB'])\n",
        "df = df.select(to_date(col('DOB'),'dd/MMM/yyyy HH:mm:ss'), to_timestamp(col('DOB'),'dd/MMM/yyyy HH:mm:ss'))\n",
        "df.show()\n",
        "df.printSchema()"
      ],
      "execution_count": 69,
      "outputs": [
        {
          "output_type": "stream",
          "name": "stdout",
          "text": [
            "+----------------------------------+---------------------------------------+\n",
            "|to_date(DOB, dd/MMM/yyyy HH:mm:ss)|to_timestamp(DOB, dd/MMM/yyyy HH:mm:ss)|\n",
            "+----------------------------------+---------------------------------------+\n",
            "|                        2019-12-25|                    2019-12-25 13:30:00|\n",
            "+----------------------------------+---------------------------------------+\n",
            "\n",
            "root\n",
            " |-- to_date(DOB, dd/MMM/yyyy HH:mm:ss): date (nullable = true)\n",
            " |-- to_timestamp(DOB, dd/MMM/yyyy HH:mm:ss): timestamp (nullable = true)\n",
            "\n"
          ]
        }
      ]
    },
    {
      "cell_type": "markdown",
      "metadata": {
        "id": "dIPQyQV7-Hz5"
      },
      "source": [
        "**What is 3 days earlier that the oldest date and 3 days later than the most recent date?**"
      ]
    },
    {
      "cell_type": "code",
      "metadata": {
        "id": "PUCEwQkZ-I7h",
        "colab": {
          "base_uri": "https://localhost:8080/"
        },
        "outputId": "7406b1fc-61a0-4caa-d5f7-6f4e78e6a320"
      },
      "source": [
        "from pyspark.sql.functions import date_add, date_sub\n",
        "# create a dummy dataframe\n",
        "df = spark.createDataFrame([('1990-01-01',),('1995-01-03',),('2021-03-30',)], ['Date'])\n",
        "# find out the required dates\n",
        "df.select(date_add(max(col('Date')),3), date_sub(min(col('Date')),3)).show()"
      ],
      "execution_count": 70,
      "outputs": [
        {
          "output_type": "stream",
          "name": "stdout",
          "text": [
            "+----------------------+----------------------+\n",
            "|date_add(max(Date), 3)|date_sub(min(Date), 3)|\n",
            "+----------------------+----------------------+\n",
            "|            2021-04-02|            1989-12-29|\n",
            "+----------------------+----------------------+\n",
            "\n"
          ]
        }
      ]
    },
    {
      "cell_type": "markdown",
      "metadata": {
        "id": "7OZElEvcGOD1"
      },
      "source": [
        "<a id='joins-in-pyspark'></a>\n",
        "## Joins in PySpark"
      ]
    },
    {
      "cell_type": "code",
      "metadata": {
        "id": "UJBC7r3JFyCL",
        "colab": {
          "base_uri": "https://localhost:8080/"
        },
        "outputId": "17d7d365-e05c-4d11-e380-d745468b0db9"
      },
      "source": [
        "# Create two dataframes\n",
        "cars_df = spark.createDataFrame([[1, 'Car A'],[2, 'Car B'],[3, 'Car C']], [\"id\", \"car_name\"])\n",
        "car_price_df = spark.createDataFrame([[1, 1000],[2, 2000],[3, 3000]], [\"id\", \"car_price\"])\n",
        "cars_df.show()\n",
        "car_price_df.show()"
      ],
      "execution_count": 71,
      "outputs": [
        {
          "output_type": "stream",
          "name": "stdout",
          "text": [
            "+---+--------+\n",
            "| id|car_name|\n",
            "+---+--------+\n",
            "|  1|   Car A|\n",
            "|  2|   Car B|\n",
            "|  3|   Car C|\n",
            "+---+--------+\n",
            "\n",
            "+---+---------+\n",
            "| id|car_price|\n",
            "+---+---------+\n",
            "|  1|     1000|\n",
            "|  2|     2000|\n",
            "|  3|     3000|\n",
            "+---+---------+\n",
            "\n"
          ]
        }
      ]
    },
    {
      "cell_type": "code",
      "metadata": {
        "id": "U7Py4EYyKJTN",
        "colab": {
          "base_uri": "https://localhost:8080/"
        },
        "outputId": "80ceb7e3-695f-4c55-e707-e3a046b408d7"
      },
      "source": [
        "# Executing an inner join so we can see the id, name and price of each car in one row\n",
        "cars_df.join(car_price_df, cars_df.id == car_price_df.id, 'inner').select(cars_df['id'],cars_df['car_name'],car_price_df['car_price']).show(truncate=False)"
      ],
      "execution_count": 72,
      "outputs": [
        {
          "output_type": "stream",
          "name": "stdout",
          "text": [
            "+---+--------+---------+\n",
            "|id |car_name|car_price|\n",
            "+---+--------+---------+\n",
            "|1  |Car A   |1000     |\n",
            "|3  |Car C   |3000     |\n",
            "|2  |Car B   |2000     |\n",
            "+---+--------+---------+\n",
            "\n"
          ]
        }
      ]
    },
    {
      "cell_type": "markdown",
      "metadata": {
        "id": "vj0mPaHU5i5n"
      },
      "source": [
        "As you can see, we have done an inner join between two dataframes. The following joins are supported by PySpark:\n",
        "1. inner (default)\n",
        "2. cross\n",
        "3. outer\n",
        "4. full\n",
        "5. full_outer\n",
        "6. left\n",
        "7. left_outer\n",
        "8. right\n",
        "9. right_outer\n",
        "10. left_semi\n",
        "11. left_anti"
      ]
    },
    {
      "cell_type": "markdown",
      "metadata": {
        "id": "HNPhsx8P2tUH"
      },
      "source": [
        "<a id='spark-sql'></a>\n",
        "## Spark SQL"
      ]
    },
    {
      "cell_type": "markdown",
      "metadata": {
        "id": "rHMvBBAh23cw"
      },
      "source": [
        "SQL has been around since the 1970s, and so one can imagine the number of people who made it their bread and butter. As big data came into popularity, the number of professionals with the technical knowledge to deal with it was in shortage. This led to the creation of Spark SQL. To quote the docs:<br>\n",
        ">Spark SQL is a Spark module for structured data processing. Unlike the basic Spark RDD API, the interfaces provided by Spark SQL provide Spark with more information about the structure of both the data and the computation being performed. Internally, Spark SQL uses this extra information to perform extra optimizations.\n",
        "\n",
        "Basically, what you need to know is that Spark SQL is used to execute SQL queries on big data. Spark SQL can also be used to read data from Hive tables and views. Let me explain Spark SQL with an example.\n"
      ]
    },
    {
      "cell_type": "code",
      "metadata": {
        "id": "g2DaK9-D7QkX",
        "colab": {
          "base_uri": "https://localhost:8080/"
        },
        "outputId": "9de6dbae-f483-4b36-f30a-864534e6042a"
      },
      "source": [
        "# Load data\n",
        "df = spark.read.csv('cars.csv', header=True, sep=\";\")\n",
        "# Register Temporary Table\n",
        "df.createOrReplaceTempView(\"temp\")\n",
        "# Select all data from temp table\n",
        "spark.sql(\"select * from temp limit 5\").show()\n",
        "# Select count of data in table\n",
        "spark.sql(\"select count(*) as total_count from temp\").show()"
      ],
      "execution_count": 73,
      "outputs": [
        {
          "output_type": "stream",
          "name": "stdout",
          "text": [
            "+--------------------+----+---------+------------+----------+------+------------+-----+------+\n",
            "|                 Car| MPG|Cylinders|Displacement|Horsepower|Weight|Acceleration|Model|Origin|\n",
            "+--------------------+----+---------+------------+----------+------+------------+-----+------+\n",
            "|Chevrolet Chevell...|18.0|        8|       307.0|     130.0| 3504.|        12.0|   70|    US|\n",
            "|   Buick Skylark 320|15.0|        8|       350.0|     165.0| 3693.|        11.5|   70|    US|\n",
            "|  Plymouth Satellite|18.0|        8|       318.0|     150.0| 3436.|        11.0|   70|    US|\n",
            "|       AMC Rebel SST|16.0|        8|       304.0|     150.0| 3433.|        12.0|   70|    US|\n",
            "|         Ford Torino|17.0|        8|       302.0|     140.0| 3449.|        10.5|   70|    US|\n",
            "+--------------------+----+---------+------------+----------+------+------------+-----+------+\n",
            "\n",
            "+-----------+\n",
            "|total_count|\n",
            "+-----------+\n",
            "|        406|\n",
            "+-----------+\n",
            "\n"
          ]
        }
      ]
    },
    {
      "cell_type": "markdown",
      "metadata": {
        "id": "6i32WE8j_ec8"
      },
      "source": [
        "As you can see, we registered the dataframe as temporary table and then ran basic SQL queries on it. How amazing is that?!<br>\n",
        "If you are a person who is more comfortable with SQL, then this feature is truly a blessing for you! But this raises a question:\n",
        "> *Should I just keep using Spark SQL all the time?*\n",
        "\n",
        "And the answer is, _**it depends**_.<br>\n",
        "So basically, the different functions acts in differnet ways, and depending upon the type of action you are trying to do, the speed at which it completes execution also differs. But as time progress, this feature is getting better and better, so hopefully the difference should be a small margin. There are plenty of analysis done on this, but nothing has a definite answer yet. You can read this [comparative study done by horton works](https://community.cloudera.com/t5/Community-Articles/Spark-RDDs-vs-DataFrames-vs-SparkSQL/ta-p/246547) or the answer to this [stackoverflow question](https://stackoverflow.com/questions/45430816/writing-sql-vs-using-dataframe-apis-in-spark-sql) if you are still curious about it."
      ]
    },
    {
      "cell_type": "markdown",
      "metadata": {
        "id": "x62BiCgBMOtq"
      },
      "source": [
        "<a id='rdd'></a>\n",
        "## RDD"
      ]
    },
    {
      "cell_type": "markdown",
      "metadata": {
        "id": "VGXK6uEuUKRh"
      },
      "source": [
        "> With map, you define a function and then apply it record by record. Flatmap returns a new RDD by first applying a function to all of the elements in RDDs and then flattening the result. Filter, returns a new RDD. Meaning only the elements that satisfy a condition. With reduce, we are taking neighboring elements and producing a single combined result.\n",
        "For example, let's say you have a set of numbers. You can reduce this to its sum by providing a function that takes as input two values and reduces them to one.\n",
        "\n",
        "Some of the reasons you would use a dataframe over RDD are:\n",
        "1.   It's ability to represnt data as rows and columns. But this also means it can only hold structred and semi-structured data.\n",
        "2.   It allows processing data in different formats (AVRO, CSV, JSON, and storage system HDFS, HIVE tables, MySQL).\n",
        "3. It's superior job Optimization capability.\n",
        "4. DataFrame API is very easy to use.\n",
        "\n",
        "\n",
        "\n"
      ]
    },
    {
      "cell_type": "code",
      "metadata": {
        "id": "0_WvAgyvR7m6",
        "colab": {
          "base_uri": "https://localhost:8080/"
        },
        "outputId": "0106980c-5e3d-4f9d-e0a4-9e1032b030bc"
      },
      "source": [
        "cars = spark.sparkContext.textFile('cars.csv')\n",
        "print(cars.first())\n",
        "cars_header = cars.first()\n",
        "cars_rest = cars.filter(lambda line: line!=cars_header)\n",
        "print(cars_rest.first())"
      ],
      "execution_count": 74,
      "outputs": [
        {
          "output_type": "stream",
          "name": "stdout",
          "text": [
            "Car;MPG;Cylinders;Displacement;Horsepower;Weight;Acceleration;Model;Origin\n",
            "Chevrolet Chevelle Malibu;18.0;8;307.0;130.0;3504.;12.0;70;US\n"
          ]
        }
      ]
    },
    {
      "cell_type": "markdown",
      "metadata": {
        "id": "P65eAFO3Mkdd"
      },
      "source": [
        "**How many cars are there in our csv data?**"
      ]
    },
    {
      "cell_type": "code",
      "metadata": {
        "id": "Vi03EU0CMSmO",
        "colab": {
          "base_uri": "https://localhost:8080/"
        },
        "outputId": "204c867c-2622-4c77-f35f-a8309a2bc5e1"
      },
      "source": [
        "cars_rest.map(lambda line: line.split(\";\")).count()"
      ],
      "execution_count": 75,
      "outputs": [
        {
          "output_type": "execute_result",
          "data": {
            "text/plain": [
              "406"
            ]
          },
          "metadata": {},
          "execution_count": 75
        }
      ]
    },
    {
      "cell_type": "markdown",
      "metadata": {
        "id": "3c4bci70MnlQ"
      },
      "source": [
        "**Display the Car name, MPG, Cylinders, Weight and Origin for the cars Originating in Europe**"
      ]
    },
    {
      "cell_type": "code",
      "metadata": {
        "id": "fWFpo_WxMnvm",
        "colab": {
          "base_uri": "https://localhost:8080/"
        },
        "outputId": "f7a08eec-fbe9-405b-a7fd-35bd4dbac1e7"
      },
      "source": [
        "# Car name is column  0\n",
        "(cars_rest.filter(lambda line: line.split(\";\")[8]=='Europe').\n",
        " map(lambda line: (line.split(\";\")[0],\n",
        "    line.split(\";\")[1],\n",
        "    line.split(\";\")[2],\n",
        "    line.split(\";\")[5],\n",
        "    line.split(\";\")[8])).collect())"
      ],
      "execution_count": 76,
      "outputs": [
        {
          "output_type": "execute_result",
          "data": {
            "text/plain": [
              "[('Citroen DS-21 Pallas', '0', '4', '3090.', 'Europe'),\n",
              " ('Volkswagen 1131 Deluxe Sedan', '26.0', '4', '1835.', 'Europe'),\n",
              " ('Peugeot 504', '25.0', '4', '2672.', 'Europe'),\n",
              " ('Audi 100 LS', '24.0', '4', '2430.', 'Europe'),\n",
              " ('Saab 99e', '25.0', '4', '2375.', 'Europe'),\n",
              " ('BMW 2002', '26.0', '4', '2234.', 'Europe'),\n",
              " ('Volkswagen Super Beetle 117', '0', '4', '1978.', 'Europe'),\n",
              " ('Opel 1900', '28.0', '4', '2123.', 'Europe'),\n",
              " ('Peugeot 304', '30.0', '4', '2074.', 'Europe'),\n",
              " ('Fiat 124B', '30.0', '4', '2065.', 'Europe'),\n",
              " ('Volkswagen Model 111', '27.0', '4', '1834.', 'Europe'),\n",
              " ('Volkswagen Type 3', '23.0', '4', '2254.', 'Europe'),\n",
              " ('Volvo 145e (sw)', '18.0', '4', '2933.', 'Europe'),\n",
              " ('Volkswagen 411 (sw)', '22.0', '4', '2511.', 'Europe'),\n",
              " ('Peugeot 504 (sw)', '21.0', '4', '2979.', 'Europe'),\n",
              " ('Renault 12 (sw)', '26.0', '4', '2189.', 'Europe'),\n",
              " ('Volkswagen Super Beetle', '26.0', '4', '1950.', 'Europe'),\n",
              " ('Fiat 124 Sport Coupe', '26.0', '4', '2265.', 'Europe'),\n",
              " ('Fiat 128', '29.0', '4', '1867.', 'Europe'),\n",
              " ('Opel Manta', '24.0', '4', '2158.', 'Europe'),\n",
              " ('Audi 100LS', '20.0', '4', '2582.', 'Europe'),\n",
              " ('Volvo 144ea', '19.0', '4', '2868.', 'Europe'),\n",
              " ('Saab 99le', '24.0', '4', '2660.', 'Europe'),\n",
              " ('Audi Fox', '29.0', '4', '2219.', 'Europe'),\n",
              " ('Volkswagen Dasher', '26.0', '4', '1963.', 'Europe'),\n",
              " ('Opel Manta', '26.0', '4', '2300.', 'Europe'),\n",
              " ('Fiat 128', '24.0', '4', '2108.', 'Europe'),\n",
              " ('Fiat 124 TC', '26.0', '4', '2246.', 'Europe'),\n",
              " ('Fiat x1.9', '31.0', '4', '2000.', 'Europe'),\n",
              " ('Volkswagen Dasher', '25.0', '4', '2223.', 'Europe'),\n",
              " ('Volkswagen Rabbit', '29.0', '4', '1937.', 'Europe'),\n",
              " ('Audi 100LS', '23.0', '4', '2694.', 'Europe'),\n",
              " ('Peugeot 504', '23.0', '4', '2957.', 'Europe'),\n",
              " ('Volvo 244DL', '22.0', '4', '2945.', 'Europe'),\n",
              " ('Saab 99LE', '25.0', '4', '2671.', 'Europe'),\n",
              " ('Fiat 131', '28.0', '4', '2464.', 'Europe'),\n",
              " ('Opel 1900', '25.0', '4', '2220.', 'Europe'),\n",
              " ('Renault 12tl', '27.0', '4', '2202.', 'Europe'),\n",
              " ('Volkswagen Rabbit', '29.0', '4', '1937.', 'Europe'),\n",
              " ('Volkswagen Rabbit', '29.5', '4', '1825.', 'Europe'),\n",
              " ('Volvo 245', '20.0', '4', '3150.', 'Europe'),\n",
              " ('Peugeot 504', '19.0', '4', '3270.', 'Europe'),\n",
              " ('Mercedes-Benz 280s', '16.5', '6', '3820.', 'Europe'),\n",
              " ('Renault 5 GTL', '36.0', '4', '1825.', 'Europe'),\n",
              " ('Volkswagen Rabbit Custom', '29.0', '4', '1940.', 'Europe'),\n",
              " ('Volkswagen Dasher', '30.5', '4', '2190.', 'Europe'),\n",
              " ('BMW 320i', '21.5', '4', '2600.', 'Europe'),\n",
              " ('Volkswagen Rabbit Custom Diesel', '43.1', '4', '1985.', 'Europe'),\n",
              " ('Audi 5000', '20.3', '5', '2830.', 'Europe'),\n",
              " ('Volvo 264gl', '17.0', '6', '3140.', 'Europe'),\n",
              " ('Saab 99gle', '21.6', '4', '2795.', 'Europe'),\n",
              " ('Peugeot 604sl', '16.2', '6', '3410.', 'Europe'),\n",
              " ('Volkswagen Scirocco', '31.5', '4', '1990.', 'Europe'),\n",
              " ('Volkswagen Rabbit Custom', '31.9', '4', '1925.', 'Europe'),\n",
              " ('Mercedes Benz 300d', '25.4', '5', '3530.', 'Europe'),\n",
              " ('Peugeot 504', '27.2', '4', '3190.', 'Europe'),\n",
              " ('Fiat Strada Custom', '37.3', '4', '2130.', 'Europe'),\n",
              " ('Volkswagen Rabbit', '41.5', '4', '2144.', 'Europe'),\n",
              " ('Audi 4000', '34.3', '4', '2188.', 'Europe'),\n",
              " ('Volkswagen Rabbit C (Diesel)', '44.3', '4', '2085.', 'Europe'),\n",
              " ('Volkswagen Dasher (diesel)', '43.4', '4', '2335.', 'Europe'),\n",
              " ('Audi 5000s (diesel)', '36.4', '5', '2950.', 'Europe'),\n",
              " ('Mercedes-Benz 240d', '30.0', '4', '3250.', 'Europe'),\n",
              " ('Renault Lecar Deluxe', '40.9', '4', '1835.', 'Europe'),\n",
              " ('Volkswagen Rabbit', '29.8', '4', '1845.', 'Europe'),\n",
              " ('Triumph TR7 Coupe', '35.0', '4', '2500.', 'Europe'),\n",
              " ('Volkswagen Jetta', '33.0', '4', '2190.', 'Europe'),\n",
              " ('Renault 18i', '34.5', '4', '2320.', 'Europe'),\n",
              " ('Peugeot 505s Turbo Diesel', '28.1', '4', '3230.', 'Europe'),\n",
              " ('Saab 900s', '0', '4', '2800.', 'Europe'),\n",
              " ('Volvo Diesel', '30.7', '6', '3160.', 'Europe'),\n",
              " ('Volkswagen Rabbit l', '36.0', '4', '1980.', 'Europe'),\n",
              " ('Volkswagen Pickup', '44.0', '4', '2130.', 'Europe')]"
            ]
          },
          "metadata": {},
          "execution_count": 76
        }
      ]
    },
    {
      "cell_type": "markdown",
      "metadata": {
        "id": "ZYmb5FscMph3"
      },
      "source": [
        "**Display the Car name, MPG, Cylinders, Weight and Origin for the cars Originating in either Europe or Japan**"
      ]
    },
    {
      "cell_type": "code",
      "metadata": {
        "id": "6ZcRIX3mMquF",
        "colab": {
          "base_uri": "https://localhost:8080/"
        },
        "outputId": "bc7fa559-6099-4768-f7d3-db68a7997cc7"
      },
      "source": [
        "# Car name is column  0\n",
        "(cars_rest.filter(lambda line: line.split(\";\")[8] in ['Europe','Japan']).\n",
        " map(lambda line: (line.split(\";\")[0],\n",
        "    line.split(\";\")[1],\n",
        "    line.split(\";\")[2],\n",
        "    line.split(\";\")[5],\n",
        "    line.split(\";\")[8])).collect())"
      ],
      "execution_count": 77,
      "outputs": [
        {
          "output_type": "execute_result",
          "data": {
            "text/plain": [
              "[('Citroen DS-21 Pallas', '0', '4', '3090.', 'Europe'),\n",
              " ('Toyota Corolla Mark ii', '24.0', '4', '2372.', 'Japan'),\n",
              " ('Datsun PL510', '27.0', '4', '2130.', 'Japan'),\n",
              " ('Volkswagen 1131 Deluxe Sedan', '26.0', '4', '1835.', 'Europe'),\n",
              " ('Peugeot 504', '25.0', '4', '2672.', 'Europe'),\n",
              " ('Audi 100 LS', '24.0', '4', '2430.', 'Europe'),\n",
              " ('Saab 99e', '25.0', '4', '2375.', 'Europe'),\n",
              " ('BMW 2002', '26.0', '4', '2234.', 'Europe'),\n",
              " ('Datsun PL510', '27.0', '4', '2130.', 'Japan'),\n",
              " ('Toyota Corolla', '25.0', '4', '2228.', 'Japan'),\n",
              " ('Volkswagen Super Beetle 117', '0', '4', '1978.', 'Europe'),\n",
              " ('Opel 1900', '28.0', '4', '2123.', 'Europe'),\n",
              " ('Peugeot 304', '30.0', '4', '2074.', 'Europe'),\n",
              " ('Fiat 124B', '30.0', '4', '2065.', 'Europe'),\n",
              " ('Toyota Corolla 1200', '31.0', '4', '1773.', 'Japan'),\n",
              " ('Datsun 1200', '35.0', '4', '1613.', 'Japan'),\n",
              " ('Volkswagen Model 111', '27.0', '4', '1834.', 'Europe'),\n",
              " ('Toyota Corolla Hardtop', '24.0', '4', '2278.', 'Japan'),\n",
              " ('Volkswagen Type 3', '23.0', '4', '2254.', 'Europe'),\n",
              " ('Mazda RX2 Coupe', '19.0', '3', '2330.', 'Japan'),\n",
              " ('Volvo 145e (sw)', '18.0', '4', '2933.', 'Europe'),\n",
              " ('Volkswagen 411 (sw)', '22.0', '4', '2511.', 'Europe'),\n",
              " ('Peugeot 504 (sw)', '21.0', '4', '2979.', 'Europe'),\n",
              " ('Renault 12 (sw)', '26.0', '4', '2189.', 'Europe'),\n",
              " ('Datsun 510 (sw)', '28.0', '4', '2288.', 'Japan'),\n",
              " ('Toyota Corolla Mark II (sw)', '23.0', '4', '2506.', 'Japan'),\n",
              " ('Toyota Corolla 1600 (sw)', '27.0', '4', '2100.', 'Japan'),\n",
              " ('Volkswagen Super Beetle', '26.0', '4', '1950.', 'Europe'),\n",
              " ('Toyota Camry', '20.0', '4', '2279.', 'Japan'),\n",
              " ('Datsun 610', '22.0', '4', '2379.', 'Japan'),\n",
              " ('Mazda RX3', '18.0', '3', '2124.', 'Japan'),\n",
              " ('Fiat 124 Sport Coupe', '26.0', '4', '2265.', 'Europe'),\n",
              " ('Fiat 128', '29.0', '4', '1867.', 'Europe'),\n",
              " ('Opel Manta', '24.0', '4', '2158.', 'Europe'),\n",
              " ('Audi 100LS', '20.0', '4', '2582.', 'Europe'),\n",
              " ('Volvo 144ea', '19.0', '4', '2868.', 'Europe'),\n",
              " ('Saab 99le', '24.0', '4', '2660.', 'Europe'),\n",
              " ('Toyota Mark II', '20.0', '6', '2807.', 'Japan'),\n",
              " ('Datsun B210', '31.0', '4', '1950.', 'Japan'),\n",
              " ('Toyota Corolla 1200', '32.0', '4', '1836.', 'Japan'),\n",
              " ('Audi Fox', '29.0', '4', '2219.', 'Europe'),\n",
              " ('Volkswagen Dasher', '26.0', '4', '1963.', 'Europe'),\n",
              " ('Opel Manta', '26.0', '4', '2300.', 'Europe'),\n",
              " ('Toyota Corolla', '31.0', '4', '1649.', 'Japan'),\n",
              " ('Datsun 710', '32.0', '4', '2003.', 'Japan'),\n",
              " ('Fiat 128', '24.0', '4', '2108.', 'Europe'),\n",
              " ('Fiat 124 TC', '26.0', '4', '2246.', 'Europe'),\n",
              " ('Honda Civic', '24.0', '4', '2489.', 'Japan'),\n",
              " ('Subaru', '26.0', '4', '2391.', 'Japan'),\n",
              " ('Fiat x1.9', '31.0', '4', '2000.', 'Europe'),\n",
              " ('Toyota Corolla', '29.0', '4', '2171.', 'Japan'),\n",
              " ('Toyota Corolla', '24.0', '4', '2702.', 'Japan'),\n",
              " ('Volkswagen Dasher', '25.0', '4', '2223.', 'Europe'),\n",
              " ('Datsun 710', '24.0', '4', '2545.', 'Japan'),\n",
              " ('Volkswagen Rabbit', '29.0', '4', '1937.', 'Europe'),\n",
              " ('Audi 100LS', '23.0', '4', '2694.', 'Europe'),\n",
              " ('Peugeot 504', '23.0', '4', '2957.', 'Europe'),\n",
              " ('Volvo 244DL', '22.0', '4', '2945.', 'Europe'),\n",
              " ('Saab 99LE', '25.0', '4', '2671.', 'Europe'),\n",
              " ('Honda Civic CVCC', '33.0', '4', '1795.', 'Japan'),\n",
              " ('Fiat 131', '28.0', '4', '2464.', 'Europe'),\n",
              " ('Opel 1900', '25.0', '4', '2220.', 'Europe'),\n",
              " ('Renault 12tl', '27.0', '4', '2202.', 'Europe'),\n",
              " ('Volkswagen Rabbit', '29.0', '4', '1937.', 'Europe'),\n",
              " ('Honda Civic', '33.0', '4', '1795.', 'Japan'),\n",
              " ('Volkswagen Rabbit', '29.5', '4', '1825.', 'Europe'),\n",
              " ('Datsun B-210', '32.0', '4', '1990.', 'Japan'),\n",
              " ('Toyota Corolla', '28.0', '4', '2155.', 'Japan'),\n",
              " ('Volvo 245', '20.0', '4', '3150.', 'Europe'),\n",
              " ('Peugeot 504', '19.0', '4', '3270.', 'Europe'),\n",
              " ('Toyota Mark II', '19.0', '6', '2930.', 'Japan'),\n",
              " ('Mercedes-Benz 280s', '16.5', '6', '3820.', 'Europe'),\n",
              " ('Honda Accord CVCC', '31.5', '4', '2045.', 'Japan'),\n",
              " ('Renault 5 GTL', '36.0', '4', '1825.', 'Europe'),\n",
              " ('Datsun F-10 Hatchback', '33.5', '4', '1945.', 'Japan'),\n",
              " ('Volkswagen Rabbit Custom', '29.0', '4', '1940.', 'Europe'),\n",
              " ('Toyota Corolla Liftback', '26.0', '4', '2265.', 'Japan'),\n",
              " ('Subaru DL', '30.0', '4', '1985.', 'Japan'),\n",
              " ('Volkswagen Dasher', '30.5', '4', '2190.', 'Europe'),\n",
              " ('Datsun 810', '22.0', '6', '2815.', 'Japan'),\n",
              " ('BMW 320i', '21.5', '4', '2600.', 'Europe'),\n",
              " ('Mazda RX-4', '21.5', '3', '2720.', 'Japan'),\n",
              " ('Volkswagen Rabbit Custom Diesel', '43.1', '4', '1985.', 'Europe'),\n",
              " ('Mazda GLC Deluxe', '32.8', '4', '1985.', 'Japan'),\n",
              " ('Datsun B210 GX', '39.4', '4', '2070.', 'Japan'),\n",
              " ('Honda Civic CVCC', '36.1', '4', '1800.', 'Japan'),\n",
              " ('Toyota Corolla', '27.5', '4', '2560.', 'Japan'),\n",
              " ('Datsun 510', '27.2', '4', '2300.', 'Japan'),\n",
              " ('Toyota Celica GT Liftback', '21.1', '4', '2515.', 'Japan'),\n",
              " ('Datsun 200-SX', '23.9', '4', '2405.', 'Japan'),\n",
              " ('Audi 5000', '20.3', '5', '2830.', 'Europe'),\n",
              " ('Volvo 264gl', '17.0', '6', '3140.', 'Europe'),\n",
              " ('Saab 99gle', '21.6', '4', '2795.', 'Europe'),\n",
              " ('Peugeot 604sl', '16.2', '6', '3410.', 'Europe'),\n",
              " ('Volkswagen Scirocco', '31.5', '4', '1990.', 'Europe'),\n",
              " ('Honda Accord LX', '29.5', '4', '2135.', 'Japan'),\n",
              " ('Volkswagen Rabbit Custom', '31.9', '4', '1925.', 'Europe'),\n",
              " ('Mazda GLC Deluxe', '34.1', '4', '1975.', 'Japan'),\n",
              " ('Mercedes Benz 300d', '25.4', '5', '3530.', 'Europe'),\n",
              " ('Peugeot 504', '27.2', '4', '3190.', 'Europe'),\n",
              " ('Datsun 210', '31.8', '4', '2020.', 'Japan'),\n",
              " ('Fiat Strada Custom', '37.3', '4', '2130.', 'Europe'),\n",
              " ('Volkswagen Rabbit', '41.5', '4', '2144.', 'Europe'),\n",
              " ('Toyota Corolla Tercel', '38.1', '4', '1968.', 'Japan'),\n",
              " ('Datsun 310', '37.2', '4', '2019.', 'Japan'),\n",
              " ('Audi 4000', '34.3', '4', '2188.', 'Europe'),\n",
              " ('Toyota Corolla Liftback', '29.8', '4', '2711.', 'Japan'),\n",
              " ('Mazda 626', '31.3', '4', '2542.', 'Japan'),\n",
              " ('Datsun 510 Hatchback', '37.0', '4', '2434.', 'Japan'),\n",
              " ('Toyota Corolla', '32.2', '4', '2265.', 'Japan'),\n",
              " ('Mazda GLC', '46.6', '4', '2110.', 'Japan'),\n",
              " ('Datsun 210', '40.8', '4', '2110.', 'Japan'),\n",
              " ('Volkswagen Rabbit C (Diesel)', '44.3', '4', '2085.', 'Europe'),\n",
              " ('Volkswagen Dasher (diesel)', '43.4', '4', '2335.', 'Europe'),\n",
              " ('Audi 5000s (diesel)', '36.4', '5', '2950.', 'Europe'),\n",
              " ('Mercedes-Benz 240d', '30.0', '4', '3250.', 'Europe'),\n",
              " ('Honda Civic 1500 gl', '44.6', '4', '1850.', 'Japan'),\n",
              " ('Renault Lecar Deluxe', '40.9', '4', '1835.', 'Europe'),\n",
              " ('Subaru DL', '33.8', '4', '2145.', 'Japan'),\n",
              " ('Volkswagen Rabbit', '29.8', '4', '1845.', 'Europe'),\n",
              " ('Datsun 280-ZX', '32.7', '6', '2910.', 'Japan'),\n",
              " ('Mazda RX-7 GS', '23.7', '3', '2420.', 'Japan'),\n",
              " ('Triumph TR7 Coupe', '35.0', '4', '2500.', 'Europe'),\n",
              " ('Honda Accord', '32.4', '4', '2290.', 'Japan'),\n",
              " ('Toyota Starlet', '39.1', '4', '1755.', 'Japan'),\n",
              " ('Honda Civic 1300', '35.1', '4', '1760.', 'Japan'),\n",
              " ('Subaru', '32.3', '4', '2065.', 'Japan'),\n",
              " ('Datsun 210 MPG', '37.0', '4', '1975.', 'Japan'),\n",
              " ('Toyota Tercel', '37.7', '4', '2050.', 'Japan'),\n",
              " ('Mazda GLC 4', '34.1', '4', '1985.', 'Japan'),\n",
              " ('Volkswagen Jetta', '33.0', '4', '2190.', 'Europe'),\n",
              " ('Renault 18i', '34.5', '4', '2320.', 'Europe'),\n",
              " ('Honda Prelude', '33.7', '4', '2210.', 'Japan'),\n",
              " ('Toyota Corolla', '32.4', '4', '2350.', 'Japan'),\n",
              " ('Datsun 200SX', '32.9', '4', '2615.', 'Japan'),\n",
              " ('Mazda 626', '31.6', '4', '2635.', 'Japan'),\n",
              " ('Peugeot 505s Turbo Diesel', '28.1', '4', '3230.', 'Europe'),\n",
              " ('Saab 900s', '0', '4', '2800.', 'Europe'),\n",
              " ('Volvo Diesel', '30.7', '6', '3160.', 'Europe'),\n",
              " ('Toyota Cressida', '25.4', '6', '2900.', 'Japan'),\n",
              " ('Datsun 810 Maxima', '24.2', '6', '2930.', 'Japan'),\n",
              " ('Volkswagen Rabbit l', '36.0', '4', '1980.', 'Europe'),\n",
              " ('Mazda GLC Custom l', '37.0', '4', '2025.', 'Japan'),\n",
              " ('Mazda GLC Custom', '31.0', '4', '1970.', 'Japan'),\n",
              " ('Nissan Stanza XE', '36.0', '4', '2160.', 'Japan'),\n",
              " ('Honda Accord', '36.0', '4', '2205.', 'Japan'),\n",
              " ('Toyota Corolla', '34.0', '4', '2245', 'Japan'),\n",
              " ('Honda Civic', '38.0', '4', '1965.', 'Japan'),\n",
              " ('Honda Civic (auto)', '32.0', '4', '1965.', 'Japan'),\n",
              " ('Datsun 310 GX', '38.0', '4', '1995.', 'Japan'),\n",
              " ('Toyota Celica GT', '32.0', '4', '2665.', 'Japan'),\n",
              " ('Volkswagen Pickup', '44.0', '4', '2130.', 'Europe')]"
            ]
          },
          "metadata": {},
          "execution_count": 77
        }
      ]
    },
    {
      "cell_type": "markdown",
      "metadata": {
        "id": "3wn2zXe7TbI3"
      },
      "source": [
        "<a id='user-defined-functions-udf'></a>\n",
        "## User-Defined Functions (UDF)"
      ]
    },
    {
      "cell_type": "markdown",
      "metadata": {
        "id": "w0YWspcTRrin"
      },
      "source": [
        "PySpark User-Defined Functions (UDFs) help you convert your python code into a scalable version of itself. It comes in handy more than you can imagine, but beware, as the performance is less when you compare it with pyspark functions. You can view examples of how UDF works [here](https://docs.databricks.com/spark/latest/spark-sql/udf-python.html). What I will give in this section is some theory on how it works, and why it is slower.\n",
        "\n",
        "When you try to run a UDF in PySpark, each executor creates a python process. Data will be serialised and deserialised between each executor and python. This leads to lots of performance impact and overhead on spark jobs, making it less efficent than using spark dataframes. Apart from this, sometimes you might have memory issues while using UDFs. The Python worker consumes huge off-heap memory and so it often leads to memoryOverhead, thereby failing your job. Keeping these in mind, I wouldn't recommend using them, but at the end of the day, your choice."
      ]
    },
    {
      "cell_type": "markdown",
      "metadata": {
        "id": "yv7ODDTQRwVt"
      },
      "source": [
        "<a id='common-questions'></a>\n",
        "# Common Questions"
      ]
    },
    {
      "cell_type": "markdown",
      "metadata": {
        "id": "VZ1bYvF8R8Dc"
      },
      "source": [
        "<a id='submitting-a-spark-job'></a>\n",
        "## Submitting a Spark Job"
      ]
    },
    {
      "cell_type": "markdown",
      "metadata": {
        "id": "3EQWnq23SCbE"
      },
      "source": [
        "The python syntax for running jobs is: `python <file_name>.py <arg1> <arg2> ...`\n",
        "<br>But when you submit a spark job you have to use spark-submit to run the application.\n",
        "\n",
        "Here is a simple example of a spark-submit command:\n",
        "`spark-submit filename.py --named_argument 'arguemnt value'`<br>\n",
        "Here, named_argument is an argument that you are reading from inside your script.\n",
        "\n",
        "There are other options you can pass in the command, like:<br>\n",
        "`--py-files` which helps you pass a python file to read in your file,<br>\n",
        "`--files` which helps pass other files like txt or config,<br>\n",
        "`--deploy-mode` which tells wether to deploy your worker node on cluster or locally <br>\n",
        "`--conf` which helps pass different configurations, like memoryOverhead, dynamicAllocation etc.\n",
        "\n",
        "There is an [entire page](https://spark.apache.org/docs/latest/submitting-applications.html) in spark documentation dedicated to this. I highly recommend you go through it once."
      ]
    },
    {
      "cell_type": "markdown",
      "metadata": {
        "id": "oVwGYAZZiyGV"
      },
      "source": [
        "<a id='creating-dataframes'></a>\n",
        "## Creating Dataframes"
      ]
    },
    {
      "cell_type": "markdown",
      "metadata": {
        "id": "TvndhPjoi0er"
      },
      "source": [
        "When getting started with dataframes, the most common question is: *'How do I create a dataframe?'* <br>\n",
        "Below, you can see how to create three kinds of dataframes:"
      ]
    },
    {
      "cell_type": "markdown",
      "metadata": {
        "id": "QXmRD3hHlM-f"
      },
      "source": [
        "### Create a totally empty dataframe"
      ]
    },
    {
      "cell_type": "code",
      "metadata": {
        "id": "ktkb6s-kjtgG",
        "colab": {
          "base_uri": "https://localhost:8080/"
        },
        "outputId": "a5532ed9-9b47-4b70-90d3-868f2be4d3be"
      },
      "source": [
        "from pyspark.sql.types import StructType\n",
        "sc = spark.sparkContext\n",
        "#Create empty df\n",
        "schema = StructType([])\n",
        "empty = spark.createDataFrame(sc.emptyRDD(), schema)\n",
        "empty.show()"
      ],
      "execution_count": 78,
      "outputs": [
        {
          "output_type": "stream",
          "name": "stdout",
          "text": [
            "++\n",
            "||\n",
            "++\n",
            "++\n",
            "\n"
          ]
        }
      ]
    },
    {
      "cell_type": "markdown",
      "metadata": {
        "id": "mg5K3nz_lSDe"
      },
      "source": [
        "### Create an empty dataframe with header"
      ]
    },
    {
      "cell_type": "code",
      "metadata": {
        "id": "9raf4CkRjuTr",
        "colab": {
          "base_uri": "https://localhost:8080/"
        },
        "outputId": "286a07b5-c98e-4f82-e53e-e542e16482d9"
      },
      "source": [
        "from pyspark.sql.types import StructType, StructField\n",
        "#Create empty df with header\n",
        "schema_header = StructType([StructField(\"name\", StringType(), True)])\n",
        "empty_with_header = spark.createDataFrame(sc.emptyRDD(), schema_header)\n",
        "empty_with_header.show()"
      ],
      "execution_count": 79,
      "outputs": [
        {
          "output_type": "stream",
          "name": "stdout",
          "text": [
            "+----+\n",
            "|name|\n",
            "+----+\n",
            "+----+\n",
            "\n"
          ]
        }
      ]
    },
    {
      "cell_type": "markdown",
      "metadata": {
        "id": "Y1ZNOx7ilUnd"
      },
      "source": [
        "### Create a dataframe with header and data"
      ]
    },
    {
      "cell_type": "code",
      "metadata": {
        "id": "TvzyL46QkJBl",
        "colab": {
          "base_uri": "https://localhost:8080/"
        },
        "outputId": "4bf46f6e-3930-4f3b-c98f-e83ae2cffbd1"
      },
      "source": [
        "from pyspark.sql import Row\n",
        "mylist = [\n",
        "  {\"name\":'Alice',\"age\":13},\n",
        "  {\"name\":'Jacob',\"age\":24},\n",
        "  {\"name\":'Betty',\"age\":135},\n",
        "]\n",
        "spark.createDataFrame(Row(**x) for x in mylist).show()"
      ],
      "execution_count": 81,
      "outputs": [
        {
          "output_type": "stream",
          "name": "stdout",
          "text": [
            "+-----+---+\n",
            "| name|age|\n",
            "+-----+---+\n",
            "|Alice| 13|\n",
            "|Jacob| 24|\n",
            "|Betty|135|\n",
            "+-----+---+\n",
            "\n"
          ]
        }
      ]
    },
    {
      "cell_type": "code",
      "metadata": {
        "id": "VnRMckA5nLoJ",
        "colab": {
          "base_uri": "https://localhost:8080/"
        },
        "outputId": "cb7017f3-2189-4903-c7e6-c03925ebf548"
      },
      "source": [
        "# You can achieve the same using this - note that we are using spark context here, not a spark session\n",
        "from pyspark.sql import Row\n",
        "df = sc.parallelize([\n",
        "        Row(name='Alice', age=13),\n",
        "        Row(name='Jacob', age=24),\n",
        "        Row(name='Betty', age=135)]).toDF()\n",
        "df.show()"
      ],
      "execution_count": 82,
      "outputs": [
        {
          "output_type": "stream",
          "name": "stdout",
          "text": [
            "+-----+---+\n",
            "| name|age|\n",
            "+-----+---+\n",
            "|Alice| 13|\n",
            "|Jacob| 24|\n",
            "|Betty|135|\n",
            "+-----+---+\n",
            "\n"
          ]
        }
      ]
    },
    {
      "cell_type": "markdown",
      "metadata": {
        "id": "f3crkAQVlxKp"
      },
      "source": [
        "<a id='drop-duplicates'></a>\n",
        "## Drop Duplicates"
      ]
    },
    {
      "cell_type": "markdown",
      "metadata": {
        "id": "4IHrYEwHmBcc"
      },
      "source": [
        "As mentioned earlier, there are two easy to remove duplicates from a dataframe. We have already seen the usage of distinct under <a href=\"#get-distinct-rows\">Get Distinct Rows</a>  section.\n",
        "I will expalin how to use the `dropDuplicates()` function to achieve the same.\n",
        "\n",
        "> `drop_duplicates()` is an alias for `dropDuplicates()`"
      ]
    },
    {
      "cell_type": "code",
      "metadata": {
        "id": "wOuHRAPJmWen",
        "colab": {
          "base_uri": "https://localhost:8080/"
        },
        "outputId": "10a2a739-d773-4151-f074-b2b450e20b5f"
      },
      "source": [
        "from pyspark.sql import Row\n",
        "from pyspark.sql import Row\n",
        "mylist = [\n",
        "  {\"name\":'Alice',\"age\":5,\"height\":80},\n",
        "  {\"name\":'Jacob',\"age\":24,\"height\":80},\n",
        "  {\"name\":'Alice',\"age\":5,\"height\":80}\n",
        "]\n",
        "df = spark.createDataFrame(Row(**x) for x in mylist)\n",
        "df.dropDuplicates().show()"
      ],
      "execution_count": 83,
      "outputs": [
        {
          "output_type": "stream",
          "name": "stdout",
          "text": [
            "+-----+---+------+\n",
            "| name|age|height|\n",
            "+-----+---+------+\n",
            "|Alice|  5|    80|\n",
            "|Jacob| 24|    80|\n",
            "+-----+---+------+\n",
            "\n"
          ]
        }
      ]
    },
    {
      "cell_type": "markdown",
      "metadata": {
        "id": "zMv7A-2Hnmjh"
      },
      "source": [
        "`dropDuplicates()` can also take in an optional parameter called *subset* which helps specify the columns on which the duplicate check needs to be done on."
      ]
    },
    {
      "cell_type": "code",
      "metadata": {
        "id": "SHnFylV1n8to",
        "colab": {
          "base_uri": "https://localhost:8080/"
        },
        "outputId": "d6958768-462e-4208-dffc-465664e542df"
      },
      "source": [
        "df.dropDuplicates(subset=['height']).show()"
      ],
      "execution_count": 84,
      "outputs": [
        {
          "output_type": "stream",
          "name": "stdout",
          "text": [
            "+-----+---+------+\n",
            "| name|age|height|\n",
            "+-----+---+------+\n",
            "|Alice|  5|    80|\n",
            "+-----+---+------+\n",
            "\n"
          ]
        }
      ]
    },
    {
      "cell_type": "markdown",
      "metadata": {
        "id": "NZ5xsdWmNOVz"
      },
      "source": [
        "<a id='best-practices'></a>\n",
        "### Best Practices"
      ]
    },
    {
      "cell_type": "markdown",
      "metadata": {
        "id": "NUKLZ8G8NVuR"
      },
      "source": [
        "Try to incorporate these to your coding habits for better performance:\n",
        "1.   Do not use NOT IN use NOT EXISTS.\n",
        "2.   Remove Counts, Distinct Counts (use approxCountDIstinct).\n",
        "3.   Drop Duplicates early.\n",
        "4.   Always prefer SQL functions over PandasUDF.\n",
        "5.   Use Hive partitions effectively.\n",
        "6.   Leverage Spark UI effectively.\n",
        "7.   Avoid Shuffle Spills.\n",
        "8.   Aim for target cluster utilization of atleast 70%.\n",
        "\n"
      ]
    },
    {
      "cell_type": "markdown",
      "source": [
        "### **Activity**"
      ],
      "metadata": {
        "id": "i7fCTCrAZXVU"
      }
    },
    {
      "cell_type": "markdown",
      "source": [
        "![image.png](data:image/png;base64,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)\n",
        "\n",
        "![image.png](data:image/png;base64,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)\n",
        "![image.png](data:image/png;base64,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)\n",
        "![image.png](data:image/png;base64,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)\n",
        "\n",
        "![image.png](data:image/png;base64,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)\n",
        "![image.png](data:image/png;base64,iVBORw0KGgoAAAANSUhEUgAABU4AAABpCAMAAADSiknjAAAAAXNSR0IArs4c6QAAAARnQU1BAACxjwv8YQUAAABjUExURQAAAAAAAAAAAAAAAAAAAAAAAAAAAAAAAAAAAAAAAAAAAAAAAAAAAAAAAAAAAAAAAAAAAAAAAAAAAAAAAAAAAAAAAAAAAAAAAAAAAAAAAAAAAAAAAAAAAAAAAAAAAAAAAAAAAGZodN4AAAAgdFJOUwAIEBggKDA4QEhQWGBocHiAh4+Xn6evt7/Hz9ff5+/3v+H4wgAAAAlwSFlzAAAXEQAAFxEByibzPwAAHNhJREFUeF7tnel66joMRQu0lNKBdKZMyfs/5d3ybEdyAqW03z1aP85JKLElWd6xnYErRVEURVEURVEURVEURVEURVEURVEURVEURVEURVEURVEURVEURVEURVEURVEURVEURVEURVEURVEURVEURVEURVEURVEURVEURVEURVEURVEURVEURVEURVEURVEURVEURVGUf4fpYnHXNM3C7f4FFk2zmrrt8fy0I4vFYtU0S7f3r3BaW/D8mxFU/iUWnaFxu7/PYkP2bLA1sx+M5KcdscW/ub1/g9gW58AE8HcieFwqncLP15Bz6fqUUUxXH5Tkf0ZOH7qvNzLo7mbbvbvPRvHTjjRvexT/T8lpaAu3/01+LYLHptLx/HwNOafUd3vrNi7LE6aMHvcRpjwR99lRTN2xTXPjPkkJxc/dB8cQiyZWi+PLuGv/jpzeU3d7Qa9b0D/X7tOR/LAj17t/S05jW7gPvs0vRfCEVDqSn68h59j6pi9fOKL7enT7FwRNHnAfNW7X4D47imt3bNe9uE9SzLCKeHAfHEMs2rF/O1ZR3/+MnE73e1qpW74ur9Zw5Y858vRPyWnSFmfjdyJ4Siodx8/XkHNkfRjMtus1rdy8uk8ux6KhOQlVvfKn5euHl4P97OO0ax2Tu8ap9N59kmLL3j4vT1kQQdFmheuNBqcva1PN23FXDx7+jJy+xN72yMeqyg87Mv+n5DRpi7PxOxE8JZWO4+dryDmuvvmhO9CseAFx+LQfXZIpDRcP+VLDlFaR2nu3dwKTVxI6biEKOQY+3N4pkL1O5icrEuevid0bxw+p0M1icZQZ4NCF6cj08ehR9pkcEe3GROAfktOkLc7G70TwlFQaoMiRH6ihylB9uXmYtLVm4xoDxVNmwN+EBO7LbXsmMOU7kkcFtG3HLCFjBgS+4+Y9jg+j5mvS06MWqn9ITnECOnI9afHNKdN5HBHt/qfk9LttwfK/ieDxuX1RcvNIEOwupGZ/7BDnDEA6e83+0nVPbvM0nrsd3Gx7E/Gv7hP+fufyKd0kFBchICrHdYU/I6dN133rBhCV0/Px3bZgUTm9DLl5tBho23KC8dz3ROwkuCuQGAKetG4auO92pHvlMHTe7XM5PJ7i+C12uUteEn9GTj9Ou9AXUDk9H99tCxaV08uQm/cYZ6tQ1m9NsU+Dk9N513F3OY1n0e2o4LXb9bx0zZnl9B27xyw5/xk5/eoObus0VE7Px3fbgkXl9DIU5l2HuSqk4VxPZRwBJ6dIhe9FkOSUbrnKS5nsu9mZ5XSF3a3bHsOfkdMdIvQdVE7Px3fbgkXl9DKI5kEa7FWpiyLI6fcWk0hOUUjR4+8x+j6znNK1rfJKWo0/I6edyumf4bttwaJyehlE89BDfmBJfAhBTt2W4XrRNPfzq/l65T4gZsvmUbwIRHJKN+DmA8d1t+Tk9HbZ3PNPhc1XvRd9FMfTLVn5/bq8XTdw4WExOUKFcAQdkCK7zLUpRe1BjNBwF8bhy36iDDtSrzdnUE6ny6a5611RPKaKGvOn5ikUc/3IRFfODSE+Q3Cmy23BtrhgU5Ew9QimDEfhGwGXczYwf0hW9vrOjZJTtjEWj9X39IwwrQ9FItMi0TwaabnN73B9ByfG39w+KKeTpoVhGAR+JvckzWjRErzyFRk5pdND2jLXdD/uAh+mIZ482ScJ2iDVd+s1KsTxc/O0WHd4TkWtOJ6+kl6/4+2au4exDs+YARgVmq3XdKgtaW530gtnS/O8AKyKdUsuZ8+RhZZ9sAV0O+auMGSA5+Hq3dTtVplhycHsTJ5tWJ7t556+IyW9ekVPebsdVgymb6bpi3uQe1XY3SSAN2FUgOwi0kX04OMtXUfElqn7hp5+QZKlwe3nhhQfygqDNcHtZIlm6LdK1hYFXIv3bbL0EqYWQTA+Cn2rJW+zVDLI3TTWT4Vv7N97zpU5ckyyrqxs7NeWUjhL0+ye0SKEzlB0DlBoUTWFMdIaGrGM4AEuwonRNyMNyenkq9s/LRarzK+7Q7d7vX98O3Rb9pqVkVO6VSEdOT6TABRyONtBGpaLR6SRvx+fVJgigTo6qhRj3CRS+fFTfKdNRvS8Xc8oYgUXbFYaFXItZkty6Rm70+Sz694fFyu0yNYnougy16ZTFLB5fXh4RV8p+gbIurAVHBdZa8n6ao7jDiZHs6E340gOU6/o6bCcLmDBzuRvcsZiqnC9fRNybhvOu77PuF3C+/iAko2U7FD5PXZMMbTjYHJDis/c9udubU2wotR9Fl5xrVKRU67FGZsIJmHkCBpGR4Gxmrwnts5bUwF6SZZKRKWb+vrvWlOj0c++c2WOjE/WGbruy3LRGDUiilNbzzRb9J4MoWNpe5HX19eiagrDi+8/F+UeSHIBGgEsrsrpc7c2oaVHnbxf80P3aRv20B249Qkjp5Sqh5hzdCHKtkEihxt/YkS/Cxl3C5t2D90b4jy5o3x33yHy4+mPSaLyduFLL9aMR3zdq9At9Tlf0jWEKnYndA73oNhdCI7s8vViQW93QzMDWw/c8qWh8sT6CDx0W5MndIeQMbfIy/X8cKDpnxmrJGd13pEEvl7BU8buCInBXbt9QI7eoTXiKYut4oY6U0zn2+SO4wm+/1FkuvFx0a5h04SmZJur++6Tdkhbws0tQm7w8ZlQRLbBi8kLbC4n5GKrxLZI4Vqct4lNGDGCnnFR4K2GGHXmNQOGCWSlpQbOU6mSs8Qd1X/bPk+nqJxuNmSc6+XI6GR971oj9tD4wx0dHaw1MKYt4ZO/FL9Ek5jD8/pKLaql8C3MKeZ2x4PmdLRJP6wxIKeItT+xbcJS6Ma5ZerjdNvKKUlffKnE0uRILocYiboLSbM2eYiBQhGe+6NTULy1NDseUc8GCaxdOD44SJ0uqBA8j5YgGVzSUtqa5ASUabaf1F3G0bEo8xhEUhh7Y2zahWFV7AMwd3f4dMmPgUnsWKIjAale0dPC7ggyYNu6VZYZOk3wmK+CGiLmG5I9PrTZMEpifHSHUsa+tC7xqeF9OUJuSPHB5+m5O1U7h9gqaVtEuBYXbOISRoxgYFQUBKthSBu9Ra3O2yyVBropadYBZc9QHVUhOFfkyLhkvQ/bqKXXErxp6No+Ve7j+Dypj9UiKYUhs/1TyLG4aQAxcqQ7IKd38QUEViMBIhRae8c+yuW+irKjGnwaae2NLn3xH+n45uDObQaMp2KPTI+ndY3XpHbWrhvMZsyGAUEOKoTKoyWoxGftPHY1SmyTDAMu522KbEyefN0yepJ3YeRzzNAbVBkaBPWHmz1kRzxivZKnVTmN53aMnXzySlVg+hUKnaBZ4t0Wr4lueTIfaTk4lIkdP2MUckOMD5It5swsVRuL3CqsnLItztvEJYwYwcioKAhW03Pg6UjFn0nSVBrqpiT9xsLX9oNKFQJe5Mi4ZEU++MnBlpE13jREyRW2acPiRFIfp0VCCpt3kTAyfhwUIc/IW5MH5HQVy5m0zptNPmRiXh/hvMUfQ9LObCxyOcU4xkcIm/Hz7E5ASp3QJePxNIfNL/SwduFbiYE41wUVwldijdjxZW2i0fSGAJPYAy7nbZq5QknSF5S8C6cZip0k89E63hbZEY9Yr+SpkIuAxlbBCgz1fD+RqlglWXRPS96hO6y5J0LgY5j8YXgS+xu6pB8GSLkhxQd+xURe9pNabhVWTtkW523iEkaMYMLIKLBW46QYZfY59SWk0mA3hd8xkpJzvRwZlaw4o/pNqHTvvYeCaajKiPAyHUvH+jgtYlN4cg/JCOPf06GTYyC0TpUBOUW3DeepV+sXTi3xQiV2QlNGnJzSGdqHqrHdP5fT+a71pxBENZaa31iNP4XFODp+s7YXqD/zZmLtggnJHJAmNENyiiPCwJ56B31/yOWsTTFYSYci0zYZCAVqcprsYALlTuMVRxxyvYKnfC4aUFuSFUhOG3+xCrLObIDPLdLQD8wmLfdoSuojDo2hwHjAVyDlhhAfKieOSN96flVahZNTvsVZm1BxL2HECKaMiIJoNcaF0dttPGXFModytoikGPABOWUbg9rCbpmyykyVTLtuzSlosk1zJlbBaBGXwu72l3TeeiK0DOJhToccA3IK+Sr//JKM1Onv8UQT8GNx+OqnfeZCVCmnCWkvL+QUE55wDB3vyHIBsHbhfJ7aN0JO01uQkL7mfDnkctamKCpbqHoXRgZuC8gZGqfpFUcccr2Cp6PlFOcum8dyFXF2N8NXMIGzOxh1ZQc4CoeTUGBY47YSUpOl+JjeHDrpPhUhg2x6boBjMMmjTVzCiBFMGREF2Wo0nff2JllbiWUOd9Os/ow04GWOFFazjYGzgE8AytTRCgLBxHn4KflrWgW+2ZMqJoVRIYLZ73InQINcRwxxlQE5pZl28YpmiH8UfnyVGX54OSXP7InzzsUMIeF7cNZlisf+NvFvdDy9PpoWiYu1EdYuRDvNxxFymrXP7NH0giGXs2OQVfHcCzAvC4togaPltOKIQ65X8JTLRUcuBviaFQO5iqgpK5w3UYdbx3xlJ0mFw0kokI5uKyE1WYqPGRn6UeKiL+KVVuHkdDDJ6wkjRjBlRBRkqxNvn9noDHfTrP6MWo4UVrONQYuOvnKUVaa/bBoqu53563OWWAWjRX3zqGsc3vzC7TdBVnuyZpAZkFMzfdmv0lzYdAd6Hb4FJxpmGOzllG49tbH8cAsogpxer2BHTIpCThF+rx3++DlKLm6FYe1CsfECxSg5xRG9zB9yOWvTsoGLcaXlaDmtOOKQ6xU85XLRIYiBXAUOcAPCLczHnlvZ2yXORAqHOSGJFLkhxAfJdgjzd0bEK63CyelAi6c2cQkjRjBlRBRkq0lbnJO75LJbLHO4m2b1J+QBL00orOYbA6Mdv/7w2pci2bQbTPc/8qtmSRV9LeqbR12Dd+sUaE3RkFwPrILIVeXU3FuMRow2YyaS4z5P8HJKETZbM790zMnp5AExSVsQRmUJjoh7G8PxSKxul52qWLvwXyq6I+QUR/T64pDLWZsiz7MWRxJwI4PEwzEZikolRxxyvWeT04prfjp7a0pfu9Vuu9ejcJgTEkc/N6QebNLETlgmh7CYGaiYnhngqLV4YRP+yIzAzyOnFavhrR2C36YVxTKHu2lWv6cXcOxmOVJYzTcGeqcbYkL242V6R8U0Gg+mw4a8ip4WcSl8Tjk1v0wCsiczayBydTm9mn+aEr+clxjIh3URiSCnXv1WvvP35fT2re0+HqZpLy/lFDH2EYrHY8iajfpYu2jWkebjsJzS8rPZSBh0OW3TCQrIgg+T+3dZZL1nRIbWHLFU6j2XnNZcQxuZ3v1ihkqPrpLn/ivEicJhTkgMXG7w8SHmfoXrrj81q5meGWCptHhpE5cw4CxyWrP61s8HXtPzbChzMGeL+i1MwMscKazmG2Oy7VrrMIS1nOvXTKPHPvJJZ1ZFoUWgn8LnlNOrq+Xzet3kFtUYllM4YTXanm+oY5uNCkFOffE7fwJHPmTuL766/TMFPusyhZxCO3yE4vF0b3S6fMraRbkuqRBqjJaE6qmYUgIGXU7bFMHLC0i6QORYOa05YqnUy3sK+rno4MWg5hr+Rlo22Zvjpq31Ypee8CKFw4yQEHxu8PExoCuagdBb76bTqum8nPIt3reJSxjARzBjOAo1q2lCbS7ZZJfdQpmDOVvUT7ABL3OksFpojOuDvRP/oc3vxiJqpk3gerzBjCiszLQI9FP4vHJ6JGPkFJ+80DDbTqEwVGcmNxlRTtEwyO1FGEciHxL3JxhiuncgZF2mkFP8za9dJMfTZrp8ytqF76RTjWE5pWJ6mT/kctamqDK9MkkTtF53xZeSz8ZkaMURh1yv4CmXiw5BDGquQcvwpaUr8N3s3Qor+IXDSSiinEq5IfbgcDPu5NDL6KrpmQEOvsVZm7iEESOYMiIKtYBjPkDjvvzeiVjmUM4W9YsBL3OksFpqjBmOW7/BEf/QVELFtKZFKVlmF1bmWsSl8G/LaW8EccOcPcwqgukc6DdZEzNEOaXz6z06l79FNJdTDN196LIu01879U+JpMfjkPRMxtqFIWwa7RFy+lUu3oAhl7M2RZVZAZju9Ns36z1jMrTiiEOuV/CUy0WHIAY111Du49XVh3Prztj33B8mGgqHk1BEOZVyQ4gPgTExFXXfb8Cq6Zyc8i3O2sQlzLnktBZwTFjokLdMmuLfh7tpVr8Y8DJHCquTnbwxYCoM/ODOp7JpN+0zrROkfy2sJKIWcSn8q3KKKUPvHr0lI6cmPuabCDvfByNRTsndz3AhqpDT2+QiTdZlCjnFadOfgdPjJ3TdzeusYBfci8WOklOMq8JXPEMuZ22KKrOb3p6564JZ7xmToRVHHHK9gqdcLjoEMai5NqcRw6z1Vu3JwZ1wQbRwOAlFEBIxNyo9mNoOu5/cylzF9MwAB9vivE1cwpxLTqu5ZGyctNllt1jmcDfN6hcDXuZIYbXQGJP3yuUb2bSvHU1ls5s8cysdXou4FJ43aUe5MDCndwvFKiwVT9KhK/KG5gKv/cXlkkVca0a/78yr+SyZnKLAkCxZlynkFJMDP9HNjr+hUX84e7N2oYmTrC7lND5WFatHxvbab8jlrE0xls5unMPJoN++R8tpxRGHXK/gKZeLDkEMqq7tunb6FBoKX11Ic/3SYU5IxNwQ4mPAmPgVkp7Z6KiYzskp2+K8TVzCnEtOqwHHqOcdQ/H4AYhlDnfT3G4p4GWOFFYnO2ljNMk4p4do2sr0ZpSTnENCFZwWVVL4d0CDZYtyxHsMUvrrzmg+GoU/FunHnIQgem7L3HqaLJVkcohBf1j7zLpMLqfpk3bZ8bR81O192axdsDn9MFUhfD9eyYrV44jw+KFnyOWsTWFiOjyiB2ViDD1ZgWMytOKIQ65X8LSSi4IYVF1DJj1swrgCjfYmzfVLhxPHgpCIuSH2YDDZd4fJU3Fp2FIxvWhcA9vivE1cwpxLTqsBp3uQZh95jGOZQzlb1C8GvMyRwmqhMbb9B/Ujkmnz1gjmLN5ADGIVjBZVUvh3QIOFZV0HBn2h96UnCvQQ8oduIE48uN/33blPWh1BTk4rVF34PrImKHnWZXI5RT/lR7f2NltfOGsXJWDSsKkKYSgTz/wYYvjqkVfJiOCaXrw45DIGDXEcRl9OqkyXuyJZQo3J0IojDrleydPc7hRBDKquoWm2SbZsulaa65cOc0Ii5oYQHwtSZbnpLV4RFdOLzm1gW1ywiUmYc8lpPZfg7XOb1ALiF1gPMvLCpICXOVJYneykjZE/w1cgmDbZOBWFm1GSYhWMFlVS+JdAMuQGTTbJm266bhNOa0t3poS3UR9ne+a1ghg1hiQgAYwZgZ4d91C1354g4aIVmDfG1ejJIXltDZWWLM6b6b6fOLB2IeWiB3ReDJMQtEgo9/oQB3A02giJNfky5+wBl1FJMj3JvkxOMuvuR8tpxRGPWK/kaWF3giQGVddQcjJ+oJlDFMGcwmFOSMTcEHswQQuAvfOMRTadk1O2xQWbuIQ5k5zWA452LfxPy+Q8yMjqFwNe5khhtdAYOJk+xVwo4U1rQmLClpA6sQpOi/opPHnefWV6dllI4A6JQtGPuMQmwnkkZMWLWwan+bs/HU83XJ9Bc8TOHt+HAXDei+mOmlw59OsQyYQU6RRPTxhOxfBgVJZ8z3ZaH0/WLnp/Smi6OXp8eC8TnSNdUTdbbIdvoTF3LvdglxHrAZeRHkVmhgjC4Hz8YJigB7pNFJjK0Cyx0ETIeys7EpDqFT0t7I7QSNNtApTrW6DmGrpTMhylO2V7PdiS+Zjdt0lxtsok5YYYH8sW3+0Ll0GMTtoWAa7FJZtQcpkwcgQDY6JQD7ip2G1a0lQayFlTv9skJOeKHBmXrFcLVG5+J6ppVoteg7CmLeM7snCCOriDkvo4LeqnMI5Nz+oXBwbBTmfAlH7cKlknhrB5+VuEczBp2LPJn+WuaGAD5vpJZN2r+Qx3FOWDzw98z77G/Ha7o/WU0DJUq3/BFv4QqzC/h5OtTdB03z92xtqF4/3PazwckH9d46uB4/Yt1au2gcz7N6qbVLC/w7P48ifEuss0TCAnb+zY4QbjaTeKQFnJz2gEqM3DIJ3CFaZG6DJxZwp3w29NyY54xHolTwu7I+gZsf/TOoOPec01OJWclq8+45XigsxHcivbsf1Myg05PgZ4x58gZNOztogwLS7ZxCWMGMHAmCgM5BK+GPsWkaXSQDel+hONlZwrcmRksl7dmI7peCsFlTGNbvg3G4DkdmP+nNZHfd+5G7Wol8KY/UtzrstgXraKU8nrB/00Yed/ksGw6zDSXC/n1wuMPRKFBJvXNcYCZTPN3+lTol2/myjeuEHK9HVtKgJb98OGFPLP5mPf7a4p47q1O+VQ4LoN/Z7uNaLjq5i+wRZiv/4I+W+m+6jM/PQMaxe1efveNB+H7o3WCnC8NYiewIApUKaVPdIP0o3of72/4y/2F21AxWVg2hC4rnyz69oGlcxohp73AOLR3Ih8eGsoPg9mp7M36LmdzQv+Mn1qTLx2ry4ZRUcCUr2ip4XdlsmT/fiLfpZz+tiY1ti6rKi4Ft/pa7gvurrHet9tqDtNnl7NzucKRfmdjfk5UDY3qvEhblhptLCmZ22RwbS4lK9lwlQjaBkZhXouwYjU7CyVQC1n3Xc/o9+Sc2mOjE/WqxlJpqf32H5pmlXfTyvvj6bKPdInq4/XojKFEaZKDlwC/3urhjc0XWTXTug3ugi7xG6h3/4i9sErD/X5gB0Fuda9dh8abNxmNK0A9DCGib6Lya7bLRFo8xuP8Y37aQExPXyrmWZk7bqjoRxoV2bptV2vnYuYZxB71EDNu3E/hIlzAlUMWvdTd4TsMpjZkt79sG+GBje0L0UPINzfbBTcpnXdbZu/WMUkfARERwJSvZKnpd2GGGfENFrh+knFtQ8/pDJMwiA4xx1usiNWle1QVWxumE8INj7EPn8fUQZnuvskL8TSb3EpX8uEqUfQ4D4aigKo5dK7N8DgvhesquWs/QMIfkvOpTlitoD5k9tmG+Nh1329LOkn8e6bFwQn/Uk3Q2GakVd0drNjt2n92G3Y+ngtKlOY3jXHrIVflNl9875u1x/NQ3kaAdPF08tbU/xU4P3Let08yqk7ktvmo3myonDbrPyA3VzZf4BJ66NvyWXtWjbr9fqRqvE1WKbL5tPWME1THSye1+v3Va5WNZcny6ZZpl+/fl7vvz6KEr6N5EhEqFfytGf3CETXrvOPJBPHwudGnWUctnAc2Sr9Fhdt4hLmXMhWz4q07XFUNxWcOz5Hpl/dOr1b7bF8rwlxkoIwWlSaN29okK9Eitv4FWUkn5XBqXIpPorXmFx9/upq5r+OyqlyEvNwCUf5Pe78Ml8g+XFA5eKonCon8cE8n6RcmqZ4SyvN9sMNAMrFUTlVTkEHp3+Ct+yGVuI1fzGWclFUTpVT+NTB6V8Ao9PiivYmPqOgXJzsQSpFGWLySKOfB51S/gmWyc39hqfkmVLl4rT5PXqKUueTHiO6ORTXk5XfgZ6PSm9wfOzfdqpcDnqwrHeHuqJI0BPv7f3OP+et/DLX+677erASevO067bamX+LxYd79mfjHnJTlCFMyoR3QSi/zQ29sgAtYp4Kj881KhfHPW5GuE8UZYDZy3b3rkOgP8Rs9bHe0ds1fvOnRhRFURRFURRFURRFURRFURRFURRFURRFURRFURRFURRFURRFURRFURRFURRFURRFURRFURRFURRFURRFURRFURRFURRFURRFURRFURRFURRFURRFURRFURRFURRFURRFURRFURRFURRFURRFURRFURRFURRFURRFURRFuRhXV/8B5INwHku72eYAAAAASUVORK5CYII=)"
      ],
      "metadata": {
        "id": "qwpuc-RZZp2u"
      }
    },
    {
      "cell_type": "code",
      "source": [
        "from pyspark.sql import SparkSession\n",
        "spark = SparkSession.builder.appName(\"MovieRecommender\").getOrCreate()"
      ],
      "metadata": {
        "id": "emk885wSDrZN"
      },
      "execution_count": 85,
      "outputs": []
    },
    {
      "cell_type": "code",
      "source": [
        "from pyspark.sql.functions import col\n",
        "df_data = spark.read.csv('/content/sample_data/u.data',header=False,sep=\"\\t\",inferSchema=True)\n",
        "df_item = spark.read.csv('/content/sample_data/u.item',header=False,sep=\"\\t\",inferSchema=True)\n",
        "df_user = spark.read.csv('/content/sample_data/u.user',header=False,sep=\"\\t\",inferSchema=True)\n",
        "df_data"
      ],
      "metadata": {
        "colab": {
          "base_uri": "https://localhost:8080/",
          "height": 514
        },
        "id": "GAugEqAvD-zA",
        "outputId": "9352fe84-4b41-4375-eb36-ac4058beef23"
      },
      "execution_count": 87,
      "outputs": [
        {
          "output_type": "execute_result",
          "data": {
            "text/plain": [
              "+---+----+---+---------+\n",
              "|_c0| _c1|_c2|      _c3|\n",
              "+---+----+---+---------+\n",
              "|196| 242|  3|881250949|\n",
              "|186| 302|  3|891717742|\n",
              "| 22| 377|  1|878887116|\n",
              "|244|  51|  2|880606923|\n",
              "|166| 346|  1|886397596|\n",
              "|298| 474|  4|884182806|\n",
              "|115| 265|  2|881171488|\n",
              "|253| 465|  5|891628467|\n",
              "|305| 451|  3|886324817|\n",
              "|  6|  86|  3|883603013|\n",
              "| 62| 257|  2|879372434|\n",
              "|286|1014|  5|879781125|\n",
              "|200| 222|  5|876042340|\n",
              "|210|  40|  3|891035994|\n",
              "|224|  29|  3|888104457|\n",
              "|303| 785|  3|879485318|\n",
              "|122| 387|  5|879270459|\n",
              "|194| 274|  2|879539794|\n",
              "|291|1042|  4|874834944|\n",
              "|234|1184|  2|892079237|\n",
              "+---+----+---+---------+\n",
              "only showing top 20 rows"
            ],
            "text/html": [
              "<table border='1'>\n",
              "<tr><th>_c0</th><th>_c1</th><th>_c2</th><th>_c3</th></tr>\n",
              "<tr><td>196</td><td>242</td><td>3</td><td>881250949</td></tr>\n",
              "<tr><td>186</td><td>302</td><td>3</td><td>891717742</td></tr>\n",
              "<tr><td>22</td><td>377</td><td>1</td><td>878887116</td></tr>\n",
              "<tr><td>244</td><td>51</td><td>2</td><td>880606923</td></tr>\n",
              "<tr><td>166</td><td>346</td><td>1</td><td>886397596</td></tr>\n",
              "<tr><td>298</td><td>474</td><td>4</td><td>884182806</td></tr>\n",
              "<tr><td>115</td><td>265</td><td>2</td><td>881171488</td></tr>\n",
              "<tr><td>253</td><td>465</td><td>5</td><td>891628467</td></tr>\n",
              "<tr><td>305</td><td>451</td><td>3</td><td>886324817</td></tr>\n",
              "<tr><td>6</td><td>86</td><td>3</td><td>883603013</td></tr>\n",
              "<tr><td>62</td><td>257</td><td>2</td><td>879372434</td></tr>\n",
              "<tr><td>286</td><td>1014</td><td>5</td><td>879781125</td></tr>\n",
              "<tr><td>200</td><td>222</td><td>5</td><td>876042340</td></tr>\n",
              "<tr><td>210</td><td>40</td><td>3</td><td>891035994</td></tr>\n",
              "<tr><td>224</td><td>29</td><td>3</td><td>888104457</td></tr>\n",
              "<tr><td>303</td><td>785</td><td>3</td><td>879485318</td></tr>\n",
              "<tr><td>122</td><td>387</td><td>5</td><td>879270459</td></tr>\n",
              "<tr><td>194</td><td>274</td><td>2</td><td>879539794</td></tr>\n",
              "<tr><td>291</td><td>1042</td><td>4</td><td>874834944</td></tr>\n",
              "<tr><td>234</td><td>1184</td><td>2</td><td>892079237</td></tr>\n",
              "</table>\n",
              "only showing top 20 rows\n"
            ]
          },
          "metadata": {},
          "execution_count": 87
        }
      ]
    },
    {
      "cell_type": "code",
      "source": [
        "df_item"
      ],
      "metadata": {
        "colab": {
          "base_uri": "https://localhost:8080/",
          "height": 514
        },
        "id": "OxZvbjlIsv-Q",
        "outputId": "d163f769-8242-4b5e-849b-175288d786e9"
      },
      "execution_count": 89,
      "outputs": [
        {
          "output_type": "execute_result",
          "data": {
            "text/plain": [
              "+--------------------+\n",
              "|                 _c0|\n",
              "+--------------------+\n",
              "|1|Toy Story (1995...|\n",
              "|2|GoldenEye (1995...|\n",
              "|3|Four Rooms (199...|\n",
              "|4|Get Shorty (199...|\n",
              "|5|Copycat (1995)|...|\n",
              "|6|Shanghai Triad ...|\n",
              "|7|Twelve Monkeys ...|\n",
              "|8|Babe (1995)|01-...|\n",
              "|9|Dead Man Walkin...|\n",
              "|10|Richard III (1...|\n",
              "|11|Seven (Se7en) ...|\n",
              "|12|Usual Suspects...|\n",
              "|13|Mighty Aphrodi...|\n",
              "|14|Postino, Il (1...|\n",
              "|15|Mr. Holland's ...|\n",
              "|16|French Twist (...|\n",
              "|17|From Dusk Till...|\n",
              "|18|White Balloon,...|\n",
              "|19|Antonia's Line...|\n",
              "|20|Angels and Ins...|\n",
              "+--------------------+\n",
              "only showing top 20 rows"
            ],
            "text/html": [
              "<table border='1'>\n",
              "<tr><th>_c0</th></tr>\n",
              "<tr><td>1|Toy Story (1995...</td></tr>\n",
              "<tr><td>2|GoldenEye (1995...</td></tr>\n",
              "<tr><td>3|Four Rooms (199...</td></tr>\n",
              "<tr><td>4|Get Shorty (199...</td></tr>\n",
              "<tr><td>5|Copycat (1995)|...</td></tr>\n",
              "<tr><td>6|Shanghai Triad ...</td></tr>\n",
              "<tr><td>7|Twelve Monkeys ...</td></tr>\n",
              "<tr><td>8|Babe (1995)|01-...</td></tr>\n",
              "<tr><td>9|Dead Man Walkin...</td></tr>\n",
              "<tr><td>10|Richard III (1...</td></tr>\n",
              "<tr><td>11|Seven (Se7en) ...</td></tr>\n",
              "<tr><td>12|Usual Suspects...</td></tr>\n",
              "<tr><td>13|Mighty Aphrodi...</td></tr>\n",
              "<tr><td>14|Postino, Il (1...</td></tr>\n",
              "<tr><td>15|Mr. Holland&#x27;s ...</td></tr>\n",
              "<tr><td>16|French Twist (...</td></tr>\n",
              "<tr><td>17|From Dusk Till...</td></tr>\n",
              "<tr><td>18|White Balloon,...</td></tr>\n",
              "<tr><td>19|Antonia&#x27;s Line...</td></tr>\n",
              "<tr><td>20|Angels and Ins...</td></tr>\n",
              "</table>\n",
              "only showing top 20 rows\n"
            ]
          },
          "metadata": {},
          "execution_count": 89
        }
      ]
    },
    {
      "cell_type": "code",
      "source": [
        "df_user"
      ],
      "metadata": {
        "colab": {
          "base_uri": "https://localhost:8080/",
          "height": 514
        },
        "id": "Cs30S2BktHqz",
        "outputId": "84b2fcda-921a-4d0b-b057-48e73db5efcd"
      },
      "execution_count": 90,
      "outputs": [
        {
          "output_type": "execute_result",
          "data": {
            "text/plain": [
              "+--------------------+\n",
              "|                 _c0|\n",
              "+--------------------+\n",
              "|1|24|M|technician...|\n",
              "|  2|53|F|other|94043|\n",
              "| 3|23|M|writer|32067|\n",
              "|4|24|M|technician...|\n",
              "|  5|33|F|other|15213|\n",
              "|6|42|M|executive|...|\n",
              "|7|57|M|administra...|\n",
              "|8|36|M|administra...|\n",
              "|9|29|M|student|01002|\n",
              "|10|53|M|lawyer|90703|\n",
              "| 11|39|F|other|30329|\n",
              "| 12|28|F|other|06405|\n",
              "|13|47|M|educator|...|\n",
              "|14|45|M|scientist...|\n",
              "|15|49|F|educator|...|\n",
              "|16|21|M|entertain...|\n",
              "|17|30|M|programme...|\n",
              "| 18|35|F|other|37212|\n",
              "|19|40|M|librarian...|\n",
              "|20|42|F|homemaker...|\n",
              "+--------------------+\n",
              "only showing top 20 rows"
            ],
            "text/html": [
              "<table border='1'>\n",
              "<tr><th>_c0</th></tr>\n",
              "<tr><td>1|24|M|technician...</td></tr>\n",
              "<tr><td>2|53|F|other|94043</td></tr>\n",
              "<tr><td>3|23|M|writer|32067</td></tr>\n",
              "<tr><td>4|24|M|technician...</td></tr>\n",
              "<tr><td>5|33|F|other|15213</td></tr>\n",
              "<tr><td>6|42|M|executive|...</td></tr>\n",
              "<tr><td>7|57|M|administra...</td></tr>\n",
              "<tr><td>8|36|M|administra...</td></tr>\n",
              "<tr><td>9|29|M|student|01002</td></tr>\n",
              "<tr><td>10|53|M|lawyer|90703</td></tr>\n",
              "<tr><td>11|39|F|other|30329</td></tr>\n",
              "<tr><td>12|28|F|other|06405</td></tr>\n",
              "<tr><td>13|47|M|educator|...</td></tr>\n",
              "<tr><td>14|45|M|scientist...</td></tr>\n",
              "<tr><td>15|49|F|educator|...</td></tr>\n",
              "<tr><td>16|21|M|entertain...</td></tr>\n",
              "<tr><td>17|30|M|programme...</td></tr>\n",
              "<tr><td>18|35|F|other|37212</td></tr>\n",
              "<tr><td>19|40|M|librarian...</td></tr>\n",
              "<tr><td>20|42|F|homemaker...</td></tr>\n",
              "</table>\n",
              "only showing top 20 rows\n"
            ]
          },
          "metadata": {},
          "execution_count": 90
        }
      ]
    },
    {
      "cell_type": "code",
      "source": [
        "movie_ids = df_data.select(\"_c1\")\n",
        "movie_counts = movie_ids.groupBy(\"_c1\").count()"
      ],
      "metadata": {
        "id": "JcGc6NeStY0n"
      },
      "execution_count": 92,
      "outputs": []
    },
    {
      "cell_type": "code",
      "source": [
        "movie_counts = movie_counts.orderBy(movie_counts['count'].desc(),descending=True)"
      ],
      "metadata": {
        "id": "SRKR07I3vaXr"
      },
      "execution_count": 93,
      "outputs": []
    },
    {
      "cell_type": "code",
      "source": [
        "print(movie_counts)"
      ],
      "metadata": {
        "colab": {
          "base_uri": "https://localhost:8080/"
        },
        "id": "jbEl4fhev-Gt",
        "outputId": "235bb457-5d23-485b-c167-e0983218da63"
      },
      "execution_count": 94,
      "outputs": [
        {
          "output_type": "stream",
          "name": "stdout",
          "text": [
            "+---+-----+\n",
            "|_c1|count|\n",
            "+---+-----+\n",
            "| 50|  583|\n",
            "|258|  509|\n",
            "|100|  508|\n",
            "|181|  507|\n",
            "|294|  485|\n",
            "|286|  481|\n",
            "|288|  478|\n",
            "|  1|  452|\n",
            "|300|  431|\n",
            "|121|  429|\n",
            "|174|  420|\n",
            "|127|  413|\n",
            "| 56|  394|\n",
            "|  7|  392|\n",
            "| 98|  390|\n",
            "|237|  384|\n",
            "|117|  378|\n",
            "|172|  367|\n",
            "|222|  365|\n",
            "|204|  350|\n",
            "+---+-----+\n",
            "only showing top 20 rows\n",
            "\n"
          ]
        }
      ]
    }
  ]
}