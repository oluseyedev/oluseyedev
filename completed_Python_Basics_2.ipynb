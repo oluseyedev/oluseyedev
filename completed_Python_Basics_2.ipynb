{
  "nbformat": 4,
  "nbformat_minor": 0,
  "metadata": {
    "colab": {
      "provenance": [],
      "include_colab_link": true
    },
    "kernelspec": {
      "name": "python3",
      "display_name": "Python 3"
    }
  },
  "cells": [
    {
      "cell_type": "markdown",
      "metadata": {
        "id": "view-in-github",
        "colab_type": "text"
      },
      "source": [
        "<a href=\"https://colab.research.google.com/github/oluseyedev/oluseyedev/blob/main/completed_Python_Basics_2.ipynb\" target=\"_parent\"><img src=\"https://colab.research.google.com/assets/colab-badge.svg\" alt=\"Open In Colab\"/></a>"
      ]
    },
    {
      "cell_type": "markdown",
      "metadata": {
        "id": "a-XX6CiJ5QSB"
      },
      "source": [
        "# Python Basics 2\n",
        "\n",
        "Author: Dr. Pradeep Hewage\n",
        "\n",
        "Contact: P.Hewage@bolton.ac.uk\n",
        "\n",
        "Institution:  University of Bolton"
      ]
    },
    {
      "cell_type": "markdown",
      "metadata": {
        "id": "SRhQnPo0-UdM"
      },
      "source": [
        "## 1. Casting\n",
        "\n",
        "We can convert variables to other data types by 'casting' them. This process is straightforward but may seem confusing at first. Please watch the video below before you continue. Remember, if you can't see the video, click the play button on the cell below."
      ]
    },
    {
      "cell_type": "code",
      "metadata": {
        "id": "hzuGCC5m-aF3",
        "outputId": "4ab91aa1-a072-42f4-9b25-c747d5b16161",
        "colab": {
          "base_uri": "https://localhost:8080/",
          "height": 336
        }
      },
      "source": [
        "# Import the HTML library\n",
        "from IPython.display import HTML\n",
        "\n",
        "# Load the video frm youtube.\n",
        "HTML('<iframe width=\"560\" height=\"315\" \\\n",
        "src=\"https://www.youtube.com/embed/ALvbltAPOcI\" frameborder=\"0\" \\\n",
        "allow=\"accelerometer; autoplay; encrypted-media; gyroscope; picture-in-picture\"\\\n",
        " allowfullscreen></iframe>')"
      ],
      "execution_count": null,
      "outputs": [
        {
          "output_type": "execute_result",
          "data": {
            "text/html": [
              "<iframe width=\"560\" height=\"315\" src=\"https://www.youtube.com/embed/ALvbltAPOcI\" frameborder=\"0\" allow=\"accelerometer; autoplay; encrypted-media; gyroscope; picture-in-picture\" allowfullscreen></iframe>"
            ],
            "text/plain": [
              "<IPython.core.display.HTML object>"
            ]
          },
          "metadata": {
            "tags": []
          },
          "execution_count": 7
        }
      ]
    },
    {
      "cell_type": "markdown",
      "metadata": {
        "id": "SoPGSv1z-jDe"
      },
      "source": [
        "Now we apply casting for ourselves. Read through the code then execute it."
      ]
    },
    {
      "cell_type": "code",
      "metadata": {
        "id": "DDHecYfy-ju8"
      },
      "source": [
        "# First, we declare an integer variable, and print out it's details.\n",
        "number_1 = 1\n",
        "print(\"Type of variable 'number_1': \", type(number_1), \" Value:\", number_1)\n",
        "\n",
        "\n",
        "# Now we cast the integer variable to a float and print out it's details.\n",
        "number_2 = float(number_1)\n",
        "print(\"Type of variable 'number_2': \", type(number_2), \" Value:\", number_2)\n",
        "\n",
        "\n",
        "# Alternatively, we can cast the integer to a string.\n",
        "text = str(number_1)\n",
        "print(\"Type of variable 'text': \", type(text), \" Value:\", text)\n",
        "\n",
        "# We can always convert back from a string type to an integer type.\n",
        "number_1 = int(text)\n",
        "print(\"Type of variable 'number_1': \", type(number_1), \" Value:\", number_1)\n"
      ],
      "execution_count": null,
      "outputs": []
    },
    {
      "cell_type": "markdown",
      "metadata": {
        "id": "P981poH6-orf"
      },
      "source": [
        "In the cell above we have some examples of casting. Everything is easy and straightforward. But things can become difficult when trying to cast numerical values as shown in the cell below."
      ]
    },
    {
      "cell_type": "code",
      "metadata": {
        "id": "I5ztEmFW-pem"
      },
      "source": [
        "# When casting floats to integers we lose the fractional components.\n",
        "# For example,...\n",
        "number_1 = 1.6732\n",
        "print(\"Type of variable 'number_1': \", type(number_1), \" Value:\", number_1)\n",
        "\n",
        "# Now cast inside the print statement.\n",
        "print(\"Type of variable 'number_1': \", type(number_1), \" Value:\", int(number_1))\n",
        "\n",
        "# When the print statement above runs, we loose the .6732, and the variable is\n",
        "# rounded down to the nearest whole integer."
      ],
      "execution_count": null,
      "outputs": []
    },
    {
      "cell_type": "markdown",
      "metadata": {
        "id": "xuwkjKE2-sEw"
      },
      "source": [
        "You might think that this isn't a big issue - after all, just ensure we cast types correctly, and the problems go away. In principle this is true, but sometimes we can get unexpected behaviours when casting. Or we may have input data that we need to cast but can't without some extra processing. Let’s explore some of these issues below."
      ]
    },
    {
      "cell_type": "code",
      "metadata": {
        "id": "cDfRore5-ul6"
      },
      "source": [
        "# What type is the variable declared below?\n",
        "number_1 = 1 * 1.0\n",
        "\n",
        "# When running this print statement, we find that Python has automatically\n",
        "# determined that the variable is a float. Which is great.\n",
        "print(\"Type of variable 'number_1': \", type(number_1), \" Value:\", number_1)"
      ],
      "execution_count": null,
      "outputs": []
    },
    {
      "cell_type": "markdown",
      "metadata": {
        "id": "GFQGRI_V-xFG"
      },
      "source": [
        "However sometimes when casting we encounter errors."
      ]
    },
    {
      "cell_type": "code",
      "metadata": {
        "id": "95r4x2Xy-zhd",
        "colab": {
          "base_uri": "https://localhost:8080/"
        },
        "outputId": "79f64773-f92b-4b24-9d6a-8168caf0f706"
      },
      "source": [
        "# Let's try something different with strings.\n",
        "text = \"1.0\" # We can see this is a string containing a float\n",
        "\n",
        "# Well we can cast this to an int, right?\n",
        "\n",
        "print(\"Type of variable 'text': \", type(text), \" Value:\", text)\n",
        "print(\"Casting 'text' to an integer type...\")\n",
        "number_1 = int(float(text))\n",
        "\n",
        "print(number_1)"
      ],
      "execution_count": 7,
      "outputs": [
        {
          "output_type": "stream",
          "name": "stdout",
          "text": [
            "Type of variable 'text':  <class 'str'>  Value: 1.0\n",
            "Casting 'text' to an integer type...\n",
            "1\n"
          ]
        }
      ]
    },
    {
      "cell_type": "markdown",
      "metadata": {
        "id": "WAJnTKJR-1SG"
      },
      "source": [
        "Above we find that we can't directly cast a string containing a float, to an integer. We encounter an error when we try this. The error \"invalid literal for int() with base 10: '1.0'\" is basically telling us that the value 1.0 is not an integer, thus can't be stored in an integer variable - even though we tried to do the conversion using casting. How to fix? How about you try for yourself - the answer is provided below."
      ]
    },
    {
      "cell_type": "code",
      "metadata": {
        "id": "u0d_9WhF-4bG"
      },
      "source": [
        "# Try and convert this text variable:\n",
        "text = \"1.0\"\n",
        "\n",
        "# To an integer please. Store it in the variable number_1. Print\n",
        "# out this variable, and also print out it's type.\n",
        "print(\"Casting 'text' to an integer type...\")"
      ],
      "execution_count": null,
      "outputs": []
    },
    {
      "cell_type": "markdown",
      "metadata": {
        "id": "WuRM6lrZ-6eK"
      },
      "source": [
        "**Scroll down for the Solution**\n",
        ".\n",
        "<br>\n",
        ".\n",
        "<br>\n",
        ".\n",
        "<br>\n",
        ".\n",
        "<br>\n",
        ".\n",
        "<br>\n",
        ".\n",
        "<br>\n",
        ".\n",
        "<br>\n",
        ".\n",
        "<br>\n",
        ".\n",
        "<br>\n",
        ".\n",
        "<br>\n",
        ".\n",
        "<br>\n",
        ".\n",
        "<br>\n",
        ".\n",
        "<br>\n",
        ".\n",
        "<br>\n",
        ".\n",
        "<br>\n",
        ".\n",
        "<br>\n",
        ".\n",
        "<br>\n",
        ".\n",
        "<br>\n",
        ".\n",
        "<br>\n",
        "."
      ]
    },
    {
      "cell_type": "code",
      "metadata": {
        "id": "yXfL0JOM_NE_",
        "colab": {
          "base_uri": "https://localhost:8080/"
        },
        "outputId": "39dc918c-f3a4-4753-9592-d44482d20262"
      },
      "source": [
        "# Here's our text variable.\n",
        "text = \"1.0\"\n",
        "\n",
        "# Confirm some details about the variable.\n",
        "print(\"Type of variable 'text': \", type(text), \" Value:\", text)\n",
        "print(\"Casting 'text' to an integer type...\")\n",
        "\n",
        "# Well we can cast this to an int, right?\n",
        "number_1 = int(float(text))\n",
        "\n",
        "# Now print it out.\n",
        "print(\"Type of variable 'number_1': \", type(number_1), \" Value:\", number_1)"
      ],
      "execution_count": 6,
      "outputs": [
        {
          "output_type": "stream",
          "name": "stdout",
          "text": [
            "Type of variable 'text':  <class 'str'>  Value: 1.0\n",
            "Casting 'text' to an integer type...\n",
            "Type of variable 'number_1':  <class 'int'>  Value: 1\n"
          ]
        }
      ]
    },
    {
      "cell_type": "markdown",
      "metadata": {
        "id": "dSu5SfK6_Puz"
      },
      "source": [
        "Here's another example you may not have thought about. Suppose we want to work out the average of some numbers. Let's try this and see what happens."
      ]
    },
    {
      "cell_type": "code",
      "metadata": {
        "id": "5abzn96I_QfZ"
      },
      "source": [
        "# Here we have some integer numbers.\n",
        "x = [1 ,2, 3, 4, 5, 6, 7, 8]\n",
        "\n",
        "# We can use the sum function to add up the numbers in the list.\n",
        "total = sum(x)\n",
        "\n",
        "print(\"Sum of x: \", total)\n",
        "\n",
        "# Now we know we can obtain the average (the arithmetic mean) by dividing the\n",
        "# sum, by the number of numbers found in x. In this case, there are 8 numbers.\n",
        "# We can count the numbers in x using the in-built len() function.\n",
        "items = len(x)\n",
        "print(\"Items in x: \", items)\n",
        "\n",
        "# So now we work out the average as you might expect. Note I call the variable\n",
        "# mean, as we are computing the arithmetic mean (aka the average).\n",
        "mean = total / items\n",
        "print(\"Mean of x is: \", mean)\n",
        "print(\"Type of 'mean'\", type(mean))"
      ],
      "execution_count": null,
      "outputs": []
    },
    {
      "cell_type": "markdown",
      "metadata": {
        "id": "wosfhtqG_T57"
      },
      "source": [
        "Here we can see that when we calculated the mean, we divided an integer value (total), by another integer value (items). This created a float variable with the answer.\n",
        "\n",
        "\n",
        "<br/>\n",
        "\n",
        "In previous versions of Python (before Python 3), this same code would have returned an integer value of 4. This wouldn't be correct, as the answer is 4.5.\n",
        "\n",
        "<br/>\n",
        "\n",
        "Python 3 has been improved to help stop such mistakes from happening. However, I'm telling you about them, as perhaps one day you'll be asked to work with older Python code. In Python 2, you would have to explicitly cast the variables like so, to get the correct answer:\n",
        "\n",
        "\n",
        "\n",
        "```\n",
        "mean = float(total) / float(items)\n",
        "```\n"
      ]
    },
    {
      "cell_type": "markdown",
      "metadata": {
        "id": "sEPI20t6dGYR"
      },
      "source": [
        "## 2. Immutability\n",
        "\n",
        "In Python, some data types are what we call immutable. This means that once they’re created, they can’t be changed. This may seem strange, as you probably feel like you’ve changed strings or other variables in your code.\n",
        "\n",
        "<br/>\n",
        "\n",
        "In reality some of the variables you create are put in memory and do not change - this goes for strings. It’s important we know this, otherwise we might introduce errors into our code. Actually, many Python objects are immutable – but there are exceptions. We can see in the table below that booleans, integers, floats, strings are immutable.\n",
        "\n",
        "<br/>\n",
        "\n",
        "\n",
        "| Type      | Immutable |\n",
        "|-----------|-----------|\n",
        "|Boolean    |  Yes      |\n",
        "|Int        |  Yes      |\n",
        "|Float      |  Yes      |\n",
        "|String     |  Yes      |\n",
        "\n",
        "<br/>\n",
        "\n",
        "Please watch the video below about immutable objects before you continue. If you have any trouble understanding the content, here are some links that may help too:\n",
        "\n",
        "[Link 1](https://dev.to/himankbhalla/why-should-i-care-about-immutables-in-python-4ofn)\n",
        "\n",
        "[Link 2](https://towardsdatascience.com/https-towardsdatascience-com-python-basics-mutable-vs-immutable-objects-829a0cb1530a)\n",
        "\n",
        "[Link 3](https://medium.com/@meghamohan/mutable-and-immutable-side-of-python-c2145cf72747)\n",
        "\n",
        "[Link 4](https://medium.com/@tyastropheus/tricky-python-i-memory-management-for-mutable-immutable-objects-21507d1e5b95)\n",
        "\n",
        "As always, if you can't see the video, press the play button first."
      ]
    },
    {
      "cell_type": "code",
      "metadata": {
        "id": "dNpVTPZav7pH",
        "outputId": "16e383e0-079e-4c95-e8f1-10a6904bbe2c",
        "colab": {
          "base_uri": "https://localhost:8080/",
          "height": 336
        }
      },
      "source": [
        "# Import the HTML library\n",
        "from IPython.display import HTML\n",
        "\n",
        "# Load the video frm youtube.\n",
        "HTML('<iframe width=\"560\" height=\"315\" \\\n",
        "src=\"https://www.youtube.com/embed/p9ppfvHv2Us\" \\\n",
        "frameborder=\"0\" allow=\"accelerometer; autoplay; encrypted-media;\"\\\n",
        "\" gyroscope; picture-in-picture\" allowfullscreen></iframe>')"
      ],
      "execution_count": null,
      "outputs": [
        {
          "output_type": "execute_result",
          "data": {
            "text/html": [
              "<iframe width=\"560\" height=\"315\" src=\"https://www.youtube.com/embed/p9ppfvHv2Us\" frameborder=\"0\" allow=\"accelerometer; autoplay; encrypted-media;\"\" gyroscope; picture-in-picture\" allowfullscreen></iframe>"
            ],
            "text/plain": [
              "<IPython.core.display.HTML object>"
            ]
          },
          "metadata": {
            "tags": []
          },
          "execution_count": 8
        }
      ]
    },
    {
      "cell_type": "markdown",
      "metadata": {
        "id": "xidyWlOeKXjT"
      },
      "source": [
        "Now we've watched the video, let's explore immutability for ourselves. We've already touched on immutability briefly so the code below may be familiar. Read through the code, then run it. Remember, we came across the ```id()``` function in our week three colab tutorial."
      ]
    },
    {
      "cell_type": "code",
      "metadata": {
        "id": "hNumKCe2f11x"
      },
      "source": [
        "# Example of immutability in action. First, we set the value of some\n",
        "# variable which we call x.\n",
        "x = 8\n",
        "\n",
        "# Then we set y equal to x. At this point, they should both point to\n",
        "# the same location in memory.\n",
        "y = x\n",
        "\n",
        "# Let's check that is the case.\n",
        "print(\"ID of the variable 'x':\", id(x))\n",
        "print(\"ID of the variable 'y':\", id(y))\n",
        "\n",
        "if id(x) == id(y):\n",
        "  print(\"x and y have the same ID - they point to the same place in memory.\")\n",
        "\n",
        "# Now lets change the value of x - what will happen to y?\n",
        "x = 100\n",
        "\n",
        "# Does the value of y change?\n",
        "print(\"Value of y after x is updated:\", y)\n",
        "\n",
        "# Let's recheck the IDs.\n",
        "print(\"ID of the variable 'x':\", id(x))\n",
        "print(\"ID of the variable 'y':\", id(y))\n",
        "\n",
        "if id(x) == id(y):\n",
        "  print(\"x and y have the same ID - they point to the same place in memory.\")\n",
        "else:\n",
        "  print(\"x and y do not have the same ID anymore.\")"
      ],
      "execution_count": null,
      "outputs": []
    },
    {
      "cell_type": "markdown",
      "metadata": {
        "id": "7-b0ShOMYmY5"
      },
      "source": [
        "We've touched upon whats happening above before. When we try to update a variable directly, Python simply creates a brand new variable. There's another example of this below."
      ]
    },
    {
      "cell_type": "code",
      "metadata": {
        "id": "Nf8BX3O4YmwK"
      },
      "source": [
        "# More immutability.\n",
        "\n",
        "x = 89\n",
        "print(\"Id of the variable x: \",id(x))\n",
        "\n",
        "\n",
        "# Simply increase x by 1.\n",
        "x = 89 + 1\n",
        "\n",
        "print(\"Value of x is now: \", x)\n",
        "print(\"Id of the variable x: \",id(x))"
      ],
      "execution_count": null,
      "outputs": []
    },
    {
      "cell_type": "markdown",
      "metadata": {
        "id": "VZX2r1JlYnDY"
      },
      "source": [
        "Immutability with simple strings and integer variables is relatively simple. But things get more complicated when dealing with lists - these are mutable (directly changeable). Read the code below, then run it, to see mutability in practice."
      ]
    },
    {
      "cell_type": "code",
      "metadata": {
        "id": "a4wQPCubhlzp"
      },
      "source": [
        "# Example equality check\n",
        "list_1 = [1, 2, 3]\n",
        "list_2 = [1, 2, 3]\n",
        "\n",
        "# Now check if the lists are equal to each other\n",
        "print(\"Are the lists equal?\", list_1 == list_2)\n",
        "\n",
        "# Above we should find that the lists are equal. But\n",
        "# are they the same object?\n",
        "print(\"Are the lists the same object?\", list_1 is list_2)\n",
        "\n",
        "\n",
        "# What happens if we set list_2 equal to list_1?\n",
        "list_2 = list_1\n",
        "\n",
        "# Now check if the lists are equal to each other\n",
        "print(\"Are the lists equal?\", list_1 == list_2)\n",
        "\n",
        "# Now we'll change list_1 by appeding a new value to it.\n",
        "list_1.append(4)\n",
        "\n",
        "# Let's print out list_2.\n",
        "print(\"Content of list_2: \", list_2)\n"
      ],
      "execution_count": null,
      "outputs": []
    },
    {
      "cell_type": "markdown",
      "metadata": {
        "id": "Lp_LDJWwEYCc"
      },
      "source": [
        "## 3. Indentation\n",
        "All computer programming languages have some way of indicating where a line, or block of code, finishes.\n",
        "\n",
        "In Python, blocks of code are defined using indentation. The Python interpreter treats all text on a line as potential code (excluding comments). To separate code, all code within blocks is indented using whitspace (either 4 spaces, or one tab) characters. This indentation is done relative to the definition of another block.\n",
        "<br/>\n",
        "\n",
        "When writing your Python code, you may have encountered problems due to how your code was indented – maybe even errors. Most students new to Python struggle with indentation. But even experienced programmers can make indentation mistakes.\n",
        "<br/>\n",
        "\n",
        "Indentation in Python may not be something you've thought about. Perhaps you're using a text editor that takes care of any indentation issues for you. Nonetheless it is important to understand when you have a problem with indentation. Below are some examples of bad indentation. Read each example, then run it. Once you run it, check the output, and consider why the error occurred. If you can, fix the indentation before moving on."
      ]
    },
    {
      "cell_type": "code",
      "metadata": {
        "id": "yQ59CwDeEYaR",
        "colab": {
          "base_uri": "https://localhost:8080/"
        },
        "outputId": "a5484fff-62a6-40ae-d5a6-3125a03015d8"
      },
      "source": [
        "number_1 = 10\n",
        "number_2 = 0\n",
        "\n",
        "if number_2 < number_1:\n",
        "  print(\"The variable 'number_2' is less than 'number_1'.\")"
      ],
      "execution_count": 9,
      "outputs": [
        {
          "output_type": "stream",
          "name": "stdout",
          "text": [
            "The variable 'number_2' is less than 'number_1'.\n"
          ]
        }
      ]
    },
    {
      "cell_type": "markdown",
      "metadata": {
        "id": "RXfUmGP4ODqf"
      },
      "source": [
        "What about the version below?"
      ]
    },
    {
      "cell_type": "code",
      "metadata": {
        "id": "M41BPmhuOGJU"
      },
      "source": [
        "number_1 = 10\n",
        "number_2 = 0\n",
        "\n",
        "if number_2 < number_1:\n",
        " print(\"The variable 'number_2' is less than 'number_1'.\")"
      ],
      "execution_count": null,
      "outputs": []
    },
    {
      "cell_type": "markdown",
      "metadata": {
        "id": "IitqcBiuNlAh"
      },
      "source": [
        "**Solution**"
      ]
    },
    {
      "cell_type": "code",
      "metadata": {
        "id": "pJKXIepQNkWS"
      },
      "source": [
        "number_1 = 10\n",
        "number_2 = 0\n",
        "\n",
        "if number_2 < number_1:\n",
        "  print(\"The variable 'number_2' is less than 'number_1'.\")"
      ],
      "execution_count": null,
      "outputs": []
    },
    {
      "cell_type": "markdown",
      "metadata": {
        "id": "IGA-Fi6pErc6"
      },
      "source": [
        "## 4. Operators & Precedence\n",
        "\n",
        "There are many operators in Python. You might know some of them.\n",
        "<br/>\n",
        "\n",
        "There are logical operators such as: not, and, or we'll we'll cover in more detail next week.\n",
        "<br/>\n",
        "\n",
        "Equality operators such as: is, is not, exactly equal to, not equal to. Also covered next week.\n",
        "<br/>\n",
        "\n",
        "Comparison operators such as: less than (<), less than or equal to (<=), greater than (>) and greater than or equal to (>=). Also covered next week.\n",
        "<br/>\n",
        "\n",
        "Finally, there are arithmetic operators:\n",
        "\n",
        " Addition +, subtraction  - , multiplication *, and division /.\n",
        "\n",
        "\n",
        "It’s important to use operators correctly, otherwise you’ll get unexpected outputs. We can use brackets to force expressions to be evaluated in the order we want, e.g.\n",
        "\n",
        "x = ((4 + 9 - 1) * 3) / 6  # Equals 6\n",
        "\n",
        "Here’s a table showing the precedence of some, but not all operators.\n",
        "\n",
        "\n",
        "| Operator / Group                    | Symbol / Example |\n",
        "|-------------------------------------|------------------|\n",
        "|Parentheses ( )                      |x = (1 + 5) * 6   |\n",
        "|Exponentiation                       |**                |\n",
        "|Multiplication, division, remainder, floor division  |* , / , %, //     |\n",
        "|Addition, subtraction                |+, -              |\n",
        "|Comparisons, membership, identity    | in, not in, is, is, not, <, <=,  >,  >=,<>, !=, ==|\n",
        "|Boolean NOT                          |not               |\n",
        "|Boolean AND                          |and               |\n",
        "|Boolean OR                           |or                |\n",
        "\n",
        "Let's examine some code that deals with operator precedence. Read the code below and try to determine what you think the output should be. Then execute the code to find the true answer."
      ]
    },
    {
      "cell_type": "code",
      "metadata": {
        "id": "9tiAxU3REuTL"
      },
      "source": [
        "# Here we can see a mathematical expression.\n",
        "# What do you expect the value of x to be.\n",
        "number_1 = 2 + 5 - 2 * 8 / 4\n",
        "print(\"Value of variable 'number_1':\", number_1)\n",
        "\n"
      ],
      "execution_count": null,
      "outputs": []
    },
    {
      "cell_type": "markdown",
      "metadata": {
        "id": "DG4UDd1z06wK"
      },
      "source": [
        "What if I told you that the correct answer was 8 - does that answer make sense? It should because that is the answer you arrive at, when evaluating the expression in the correct order. Can you repair the code below to get the correct answer? A few cells down a solution is provided."
      ]
    },
    {
      "cell_type": "code",
      "metadata": {
        "id": "xowFhH5f07p3"
      },
      "source": [
        "# Please fix this code to get an answer of 8.\n",
        "number_1 = 2 + 5 - 2 * 8 / 4\n",
        "print(\"Value of variable 'number_1':\", number_1)"
      ],
      "execution_count": null,
      "outputs": []
    },
    {
      "cell_type": "markdown",
      "metadata": {
        "id": "9_PgivrvSghf"
      },
      "source": [
        "**Solution**"
      ]
    },
    {
      "cell_type": "code",
      "metadata": {
        "id": "az-5RTV2Sg75",
        "colab": {
          "base_uri": "https://localhost:8080/"
        },
        "outputId": "511ac179-bdde-48d5-c483-562f3a770a38"
      },
      "source": [
        "number_1 = ((2 + 5 - 3) * 8) / 4\n",
        "print(\"Value of variable 'number_1':\", number_1)"
      ],
      "execution_count": null,
      "outputs": [
        {
          "output_type": "stream",
          "name": "stdout",
          "text": [
            "Value of variable 'number_1': 8.0\n"
          ]
        }
      ]
    },
    {
      "cell_type": "markdown",
      "metadata": {
        "id": "el4rwh_dShcH"
      },
      "source": [
        "When writing expressions in Python, or any other programming language, using parentheses to tell the interpreter the correct order to evaluate expressions is very important. You should always test the code you write to ensure it works as expected, especially if it involves evaluating expressions."
      ]
    },
    {
      "cell_type": "markdown",
      "metadata": {
        "id": "wzW1rBGRFPMZ"
      },
      "source": [
        "## 5. Functions\n",
        "\n",
        "Functions are reusable self-contained units of code that are incredibly useful. Functions have a standard structure in Python. They have a function signature, which defines their name and their usage. Then we have the function body, which contains the code executed by the function. Any variables declared within this function, remain within the “scope” of this function. That is, they aren’t available outside the function, unless returned by the function and stored.\n",
        "\n",
        "Functions can accept multiple input parameters. Functions can return a value, but they don’t have to. Please watch the video below before continuing. As always, if you can't see it, press the play button first.\n",
        "\n"
      ]
    },
    {
      "cell_type": "code",
      "metadata": {
        "id": "dREqBkA5FR6I",
        "outputId": "c63bc011-042f-4856-8b71-14408e461f88",
        "colab": {
          "base_uri": "https://localhost:8080/",
          "height": 336
        }
      },
      "source": [
        "# Import the HTML library\n",
        "from IPython.display import HTML\n",
        "\n",
        "# Load the video frm youtube.\n",
        "HTML('<iframe width=\"560\" height=\"315\" \\\n",
        "src=\"https://www.youtube.com/embed/u-OmVr_fT4s\" frameborder=\"0\" \\\n",
        "allow=\"accelerometer; autoplay; encrypted-media; gyroscope; picture-in-picture\"\\\n",
        " allowfullscreen></iframe>')"
      ],
      "execution_count": null,
      "outputs": [
        {
          "output_type": "execute_result",
          "data": {
            "text/html": [
              "<iframe width=\"560\" height=\"315\" src=\"https://www.youtube.com/embed/u-OmVr_fT4s\" frameborder=\"0\" allow=\"accelerometer; autoplay; encrypted-media; gyroscope; picture-in-picture\" allowfullscreen></iframe>"
            ],
            "text/plain": [
              "<IPython.core.display.HTML object>"
            ]
          },
          "metadata": {
            "tags": []
          },
          "execution_count": 9
        }
      ]
    },
    {
      "cell_type": "markdown",
      "metadata": {
        "id": "7S5J25_yVCNw"
      },
      "source": [
        "Let's reconsider our email login example. We used recursion to make checking the login details a little easier. But that code will only work inside that loop - what if we need to use that functionality somewhere else in our code. Do we have to write all that same code again? Well, functions allow us to write code only once, then call it anywhere we need it. We'll adapt our code, putting it inside a function later. For now, let's consider some basic functions. You already know many functions..."
      ]
    },
    {
      "cell_type": "code",
      "metadata": {
        "id": "MoVEKWKDoS6u"
      },
      "source": [
        "# Print is a function. You've been calling it all the time. It allows you\n",
        "# to print output in an easy way. I can wrap around that print function. For\n",
        "# example:\n",
        "\n",
        "def pradeep_print():\n",
        "  print(\"My own wrapped version of print.\")\n",
        "\n",
        "# Now we can call this function directly.\n",
        "pradeep_print()"
      ],
      "execution_count": null,
      "outputs": []
    },
    {
      "cell_type": "markdown",
      "metadata": {
        "id": "AOLYH-M3ot4V"
      },
      "source": [
        "\n",
        "This version of print is pretty useless, it doesn't do anything I need it to. We can make functions more useful by passing them input parameters. Parameters allow functions to use data from elsewhere in your program to produce some results or output. For example:"
      ]
    },
    {
      "cell_type": "code",
      "metadata": {
        "id": "e3gCvnIPo-9J"
      },
      "source": [
        "# Here is another version of my print function. It receives\n",
        "# some input text, and formats it.\n",
        "\n",
        "def pradeep_print(text):\n",
        "  print(\"\\t\", text)\n",
        "\n",
        "# Here's the output of regular print:\n",
        "print(\"Hello\")\n",
        "\n",
        "# Now we can call this function directly. My output will be different.\n",
        "pradeep_print(\"hello\")"
      ],
      "execution_count": null,
      "outputs": []
    },
    {
      "cell_type": "markdown",
      "metadata": {
        "id": "w6D3u_taDJ6a"
      },
      "source": [
        "By taking advanatage of functions, and perhaps using other functions inside them, I can program functionality that ends up being useful. We'll start to understand this as we progress."
      ]
    },
    {
      "cell_type": "markdown",
      "metadata": {
        "id": "pS9XC_WT5ZEu"
      },
      "source": [
        "## Main Function\n",
        "\n",
        "The main function is the entry point to an application. The code cell below shows a working application with a main function."
      ]
    },
    {
      "cell_type": "code",
      "metadata": {
        "id": "Hx01W1Lu5Mw8"
      },
      "source": [
        "#! /usr/bin/env python\n",
        "\"\"\"\n",
        "This is a fully functional application that has a main function.\n",
        "It simply prints out a hello message and shows you what main can do.\n",
        "\"\"\"\n",
        "\n",
        "\n",
        "def main():\n",
        "    \"\"\"\n",
        "    The entry point for program execution.\n",
        "\n",
        "    :return: N/A\n",
        "    \"\"\"\n",
        "    print(\"Hello CIS1111!\\n\\n\")\n",
        "\n",
        "    print(\"This code is running inside the main function.\\n\")\n",
        "    print(\"This is the entry point to our application - I can do anything \"\\\n",
        "          \"I want here....\\n\")\n",
        "\n",
        "    # I can create variables...\n",
        "    age = 100\n",
        "\n",
        "    # Alter variables\n",
        "    age = age / 5\n",
        "\n",
        "    # and print variables just like in regular applications.\n",
        "    print(age)\n",
        "\n",
        "\n",
        "if __name__ == \"__main__\":\n",
        "    # Executes the main method only if run as a script. Will not\n",
        "    # execute main() if only parts of this file are imported in\n",
        "    # to another file.\n",
        "    main()\n",
        "\n",
        "\n"
      ],
      "execution_count": null,
      "outputs": []
    },
    {
      "cell_type": "markdown",
      "metadata": {
        "id": "fsjuGdpVDmta"
      },
      "source": [
        "## Activities\n",
        "\n",
        "### Activity 1\n",
        "\n",
        "Write a function that calulates the average of the following numbers.\n",
        "\n",
        "5, 8, 3, 2, 12\n",
        "\n",
        "\n",
        "Call the function calc_fixed_average.\n"
      ]
    },
    {
      "cell_type": "code",
      "metadata": {
        "id": "_J5HZ3uuEskm",
        "colab": {
          "base_uri": "https://localhost:8080/"
        },
        "outputId": "8483cad0-6e5f-4fce-92e7-940a9261d642"
      },
      "source": [
        "# @title Default title text\n",
        "# Write your code here.\n",
        "# Calculation of an average value using def function\n",
        "\n",
        "num_list = [5, 8, 3, 2, 12] # using list\n",
        "def aveg (num_list):\n",
        "    num = sum(num_list)\n",
        "    return (num/5)\n",
        "\n",
        "# calculate the average value\n",
        "avg_val = aveg (num_list)\n",
        "print(\"The Average number is: \", avg_val)\n"
      ],
      "execution_count": 10,
      "outputs": [
        {
          "output_type": "stream",
          "name": "stdout",
          "text": [
            "The Average number is:  6.0\n"
          ]
        }
      ]
    },
    {
      "cell_type": "markdown",
      "metadata": {
        "id": "9O_SSs-dEvsd"
      },
      "source": [
        "### Activity 2\n",
        "\n",
        "The Drake equation is used to estimate the number of active, communicative extraterrestrial civilizations in the Milky Way galaxy. It's based on probability theory and maeks predictions based on a small number of factors.\n",
        "\n",
        "<br>\n",
        "\n",
        "From Wikipedia:\n",
        "\n",
        "\"The equation was written in 1961 by Frank Drake, not for purposes of quantifying the number of civilizations, but as a way to stimulate scientific dialogue at the first scientific meeting on the search for extraterrestrial intelligence (SETI). The equation summarizes the main concepts which scientists must contemplate when considering the question of other radio-communicative life. It is more properly thought of as an approximation than as a serious attempt to determine a precise number.\"\n",
        "\n",
        "<br>\n",
        "\n",
        "The Drake equation is:\n",
        "\n",
        "${N=R_{*}\\cdot f_{\\mathrm {p} }\\cdot n_{\\mathrm {e} }\\cdot f_{\\mathrm {l} }\\cdot f_{\\mathrm {i} }\\cdot f_{\\mathrm {c} }\\cdot L}$\n",
        "\n",
        "<br>\n",
        "\n",
        "where:\n",
        "\n",
        "$N$ = the number of civilizations in our galaxy with which communication might be possible (i.e. which are on our current past light cone);\n",
        "and\n",
        "\n",
        "$R_{∗}$ = the average rate of star formation in our galaxy.\n",
        "\n",
        "$f_{p}$ = the fraction of those stars that have planets.\n",
        "\n",
        "$n_{e}$ = the average number of planets that can potentially support life per star that has planets.\n",
        "\n",
        "$f_{l}$ = the fraction of planets that could support life that actually develop life at some point.\n",
        "\n",
        "$f_{i}$ = the fraction of planets with life that actually go on to develop intelligent life (civilizations).\n",
        "\n",
        "$f_{c}$ = the fraction of civilizations that develop a technology that releases detectable signs of their existence into space.\n",
        "\n",
        "$L$ = the length of time for which such civilizations release detectable signals into space.\n",
        "\n",
        "The task here - implement the Drake equation as a function, and make some predictions."
      ]
    },
    {
      "cell_type": "code",
      "metadata": {
        "id": "LT6FRcy8EwQq",
        "colab": {
          "base_uri": "https://localhost:8080/"
        },
        "outputId": "6f95606f-2614-4a92-eb1c-81976a8b416f"
      },
      "source": [
        "# Write your code here.\n",
        "# The Drake equation is:\n",
        "# N = R∗ ⋅ fp ⋅ ne ⋅ fl ⋅ fi ⋅ fc ⋅ L\n",
        "# Drake equation based on probability theory and maeks predictions\n",
        "# Function on Drake Equation and prediction\n",
        "\n",
        "def drake_equation(r_star, fp, ne, fl, fi, fc, L):\n",
        "    N = r_star * fp * ne * fl * fi * fc * L\n",
        "    return N\n",
        "\n",
        "\n",
        "N = drake_equation(5, 2.9, 2, 4, 4, 0.5, 4000)\n",
        "\n",
        "print(\"Drake equation base on value predictions and estimate: \", N)\n",
        "\n"
      ],
      "execution_count": 11,
      "outputs": [
        {
          "output_type": "stream",
          "name": "stdout",
          "text": [
            "Drake equation base on value predictions and estimate:  928000.0\n"
          ]
        }
      ]
    },
    {
      "cell_type": "markdown",
      "metadata": {
        "id": "ahjxcRsTEZyJ"
      },
      "source": [
        "### Activity 3\n",
        "\n",
        "The activitiy this week involves writing your own application, with a main method. I want you to write an aplication that prints you basic details: First name, age, DOB, home town, favourite Class at EdgeHill. Complte this in the cell below."
      ]
    },
    {
      "cell_type": "code",
      "metadata": {
        "id": "megcAx_wD90i",
        "colab": {
          "base_uri": "https://localhost:8080/"
        },
        "outputId": "3b534434-2ec5-4354-ef38-19863e56d10a"
      },
      "source": [
        "# Write code in here.\n",
        "# Function declaring personal details\n",
        "# Name, DOB, home town, favorite class\n",
        "\n",
        "def personal_details():\n",
        "    first_name, age = \"Oluseye\", 37\n",
        "    dob = \"1st September 1986 \"\n",
        "    home_town = \" Ekiti Nigeria \"\n",
        "    fav_class = \" Big Data\"\n",
        "    print(\"First_name: {}\\nAge: {}\\nDate of birth : {} \\nHome_Town is: {}\\nFavourite Class is: {} \".format(first_name, age, dob, home_town, fav_class))\n",
        "\n",
        "\n",
        "personal_details()"
      ],
      "execution_count": 12,
      "outputs": [
        {
          "output_type": "stream",
          "name": "stdout",
          "text": [
            "First_name: Oluseye\n",
            "Age: 37\n",
            "Date of birth : 1st September 1986  \n",
            "Home_Town is:  Ekiti Nigeria \n",
            "Favourite Class is:  Big Data \n"
          ]
        }
      ]
    },
    {
      "cell_type": "markdown",
      "metadata": {
        "id": "iVjKAiK5HQ5u"
      },
      "source": [
        "## Solutions\n",
        "\n",
        "Not all the activities need solutions, but 1.1 and 1.2 do. Find thoese below.\n",
        "\n",
        "**Scroll down for the Solution**\n",
        "\n",
        "<br>\n",
        ".\n",
        "<br>\n",
        ".\n",
        "<br>\n",
        ".\n",
        "<br>\n",
        ".\n",
        "<br>\n",
        ".\n",
        "<br>\n",
        ".\n",
        "<br>\n",
        ".\n",
        "<br>\n",
        ".\n",
        "<br>\n",
        ".\n",
        "<br>\n",
        ".\n",
        "<br>\n",
        ".\n",
        "<br>\n",
        ".\n",
        "<br>\n",
        ".\n",
        "<br>\n",
        ".\n",
        "<br>\n",
        ".\n",
        "<br>\n",
        ".\n",
        "<br>\n",
        ".\n",
        "<br>\n",
        ".\n",
        "<br>\n",
        ".\n",
        "<br>\n",
        ".\n",
        "<br>\n",
        ".\n",
        "<br>\n",
        ".\n",
        "<br>\n",
        ".\n",
        "<br>\n",
        ".\n",
        "<br>\n",
        ".\n",
        "<br>\n",
        ".\n",
        "<br>\n",
        ".\n",
        "<br>\n",
        ".\n",
        "<br>\n",
        ".\n",
        "<br>\n",
        ".\n",
        "<br>\n",
        ".\n",
        "<br>\n",
        ".\n",
        "<br>\n",
        ".\n",
        "<br>\n",
        ".\n",
        "<br>\n",
        ".\n",
        "<br>\n",
        ".\n",
        "<br>\n",
        ".\n",
        "<br>\n",
        ".\n",
        "<br>\n",
        ".\n",
        "<br>\n",
        ".\n",
        "<br>\n",
        ".\n",
        "<br>\n",
        ".\n",
        "<br>\n",
        ".\n",
        "<br>\n",
        ".\n",
        "<br>\n",
        ".\n",
        "<br>\n",
        ".\n",
        "<br>\n",
        ".\n",
        "<br>\n",
        ".\n",
        "<br>\n",
        ".\n",
        "<br>\n",
        ".\n",
        "<br>\n",
        ".\n",
        "<br>\n",
        ".\n",
        "<br>\n",
        ".\n",
        "<br>\n",
        ".\n",
        "<br>\n",
        ".\n",
        "<br>\n",
        ".\n",
        "<br>\n",
        ".\n",
        "<br>\n",
        ".\n",
        "<br>\n",
        ".\n",
        "<br>\n",
        ".\n",
        "<br>\n",
        ".\n",
        "<br>\n",
        ".\n",
        "<br>\n",
        ".\n",
        "<br>\n",
        ".\n",
        "<br>\n",
        ".\n",
        "<br>\n",
        ".\n",
        "<br>\n",
        ".\n",
        "<br>\n",
        ".\n",
        "<br>\n",
        ".\n",
        "<br>\n",
        ".\n",
        "<br>\n",
        ".\n",
        "<br>\n",
        "."
      ]
    },
    {
      "cell_type": "markdown",
      "metadata": {
        "id": "e8tw_vZHHfTx"
      },
      "source": [
        "### Activity 1.1 Solution"
      ]
    },
    {
      "cell_type": "code",
      "metadata": {
        "id": "LpXU1tJFHh9V",
        "colab": {
          "base_uri": "https://localhost:8080/"
        },
        "outputId": "7f1b0c54-095f-49ff-e06d-63815e0e883b"
      },
      "source": [
        "def calc_fixed_average():\n",
        "  \"\"\"\n",
        "  Calculates the average of the following numbers.\n",
        "  \"\"\"\n",
        "\n",
        "  avg = (5 + 8 + 3 + 2 + 12) / 5\n",
        "  print(\"The average is: \", avg)\n",
        "\n",
        "calc_fixed_average()"
      ],
      "execution_count": null,
      "outputs": [
        {
          "output_type": "stream",
          "name": "stdout",
          "text": [
            "The average is:  6.0\n"
          ]
        }
      ]
    },
    {
      "cell_type": "markdown",
      "metadata": {
        "id": "rqNWQeoPH3aO"
      },
      "source": [
        "### Activity 1.2 Solution\n",
        "\n",
        "There is considerable disagreement on the values of the parameters passed into the equatin. Here are some best guesses used by Drake and his colleagues in 1961 (credit Wikipedia):\n",
        "\n",
        "$R_{*}$ = 1 yr−1 (1 star formed per year, on the average over the life of the galaxy; this was regarded as conservative).\n",
        "\n",
        "$f_{p}$ = 0.2 to 0.5 (one fifth to one half of all stars formed will have planets).\n",
        "\n",
        "$n_{e}$ = 1 to 5 (stars with planets will have between 1 and 5 planets capable of developing life).\n",
        "\n",
        "$f_{l}$ = 1 (100% of these planets will develop life).\n",
        "\n",
        "$f_{i}$ = 1 (100% of which will develop intelligent life).\n",
        "\n",
        "$f_{c}$ = 0.1 to 0.2 (10–20% of which will be able to communicate).\n",
        "\n",
        "$L$ = 1000 to 100,000,000 years (which will last somewhere between 1000 and 100,000,000 years)."
      ]
    },
    {
      "cell_type": "code",
      "metadata": {
        "id": "em216qajH545"
      },
      "source": [
        "def drake_equation(r_star, fp, nc, fl, fi, fc, L):\n",
        "  \"\"\"\n",
        "  A function that uses the Drake equation is used to estimate the number of\n",
        "  active, communicative extraterrestrial civilizations in the Milky Way galaxy.\n",
        "\n",
        "  :param r_star: the average rate of star formation in our galaxy.\n",
        "  :param fp: the fraction of those stars that have planets.\n",
        "  :param nc: the average number of planets that can potentially support\n",
        "             life per star that has planets.\n",
        "  :param fl: the fraction of planets that could support life that actually\n",
        "             develop life at some point.\n",
        "  :param fi: the fraction of planets with life that actually go on to develop\n",
        "             intelligent life (civilizations).\n",
        "  :param fc: the fraction of civilizations that develop a technology that\n",
        "             releases detectable signs of their existence into space.\n",
        "  :param L:   the length of time for which such civilizations release detectable\n",
        "              signals into space.\n",
        "  :return: N, the number of civilizations in our galaxy with which communication\n",
        "           might be possible.\n",
        "  \"\"\"\n",
        "\n",
        "  N = r_star * fp * nc * fl * fi * fc * L\n",
        "  return N\n",
        "\n",
        "\n",
        "N = drake_equation(1, 0.2, 1, 1, 1, 0.1, 1000)\n",
        "\n",
        "print(\"Conservative guess based on 1961 estimates: \", N)"
      ],
      "execution_count": null,
      "outputs": []
    }
  ]
}