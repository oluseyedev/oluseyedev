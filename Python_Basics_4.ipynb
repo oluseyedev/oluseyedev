{
  "nbformat": 4,
  "nbformat_minor": 0,
  "metadata": {
    "colab": {
      "provenance": [],
      "include_colab_link": true
    },
    "kernelspec": {
      "name": "python3",
      "display_name": "Python 3"
    }
  },
  "cells": [
    {
      "cell_type": "markdown",
      "metadata": {
        "id": "view-in-github",
        "colab_type": "text"
      },
      "source": [
        "<a href=\"https://colab.research.google.com/github/oluseyedev/oluseyedev/blob/main/Python_Basics_4.ipynb\" target=\"_parent\"><img src=\"https://colab.research.google.com/assets/colab-badge.svg\" alt=\"Open In Colab\"/></a>"
      ]
    },
    {
      "cell_type": "markdown",
      "metadata": {
        "id": "cI0XLtUTiabm"
      },
      "source": [
        "# Python Bascis 4\n",
        "\n",
        "Author: Dr. Pradeep Hewage\n",
        "\n",
        "Contact: P.Hewage@bolton.ac.uk\n",
        "\n",
        "Institution: University of Bolton\n",
        "\n"
      ]
    },
    {
      "cell_type": "markdown",
      "metadata": {
        "id": "mkd5JzMajo8O"
      },
      "source": [
        "## 1. Strings\n",
        "\n",
        "String variables store textual information. You already know that you can print them:\n",
        "\n",
        "```\n",
        "print(“A string”)\n",
        "```\n",
        "\n",
        "You know that you can access individual characters in the string using the following notation:\n",
        "\n",
        "\n",
        "```\n",
        "text = “Hello”\n",
        "print(text[0]) # Prints out ‘H’\n",
        "```\n",
        "\n",
        "\n",
        "You also know you can access whole parts of strings using “slicing”. We can do this with the following notation:\n",
        "\n",
        "```\n",
        "print(text[0:2]) # Prints out ‘He’\n",
        "```\n",
        "\n",
        "Watch the following video describing strings before you continue.\n",
        "\n"
      ]
    },
    {
      "cell_type": "code",
      "metadata": {
        "id": "_lBuATj6ju4t",
        "colab": {
          "base_uri": "https://localhost:8080/",
          "height": 371
        },
        "outputId": "412cce58-79ba-47d5-ddb9-d386e3b5d750"
      },
      "source": [
        "# Import the HTML library\n",
        "from IPython.display import HTML\n",
        "\n",
        "# Load the video frm youtube.\n",
        "HTML('<iframe width=\"560\" height=\"315\" \\\n",
        "src=\"https://www.youtube.com/embed/Ctqi5Y4X-jA\" frameborder=\"0\" \\\n",
        "allow=\"accelerometer; autoplay; encrypted-media; gyroscope; picture-in-picture\"\\\n",
        "allowfullscreen></iframe>')"
      ],
      "execution_count": null,
      "outputs": [
        {
          "output_type": "stream",
          "name": "stderr",
          "text": [
            "/usr/local/lib/python3.7/dist-packages/IPython/core/display.py:701: UserWarning: Consider using IPython.display.IFrame instead\n",
            "  warnings.warn(\"Consider using IPython.display.IFrame instead\")\n"
          ]
        },
        {
          "output_type": "execute_result",
          "data": {
            "text/plain": [
              "<IPython.core.display.HTML object>"
            ],
            "text/html": [
              "<iframe width=\"560\" height=\"315\" src=\"https://www.youtube.com/embed/Ctqi5Y4X-jA\" frameborder=\"0\" allow=\"accelerometer; autoplay; encrypted-media; gyroscope; picture-in-picture\"allowfullscreen></iframe>"
            ]
          },
          "metadata": {},
          "execution_count": 1
        }
      ]
    },
    {
      "cell_type": "markdown",
      "metadata": {
        "id": "_lWxlHYwFS6s"
      },
      "source": [
        "We can interact with some strings in the cell below. Read the code, then run it when ready."
      ]
    },
    {
      "cell_type": "code",
      "metadata": {
        "id": "n5tH8vG64R3m"
      },
      "source": [
        "# We can print string literals.\n",
        "print(\"hello\")\n",
        "\n",
        "# We can print numbers.\n",
        "print(1)\n",
        "\n",
        "# We can print the output of functions\n",
        "print(type(1))\n",
        "\n",
        "# We can get the print statement to evaluate code for us.\n",
        "print(1+2)\n",
        "\n",
        "# We can get the print statement to combine strings.\n",
        "print(\"1\" + \"2\")\n",
        "\n",
        "# We can get the print out more complicated messages.\n",
        "name = \"Pradeep\"\n",
        "employer = \"University of Bolton\"\n",
        "\n",
        "# Note here we use commas to add together (concatenate) strings.\n",
        "print(\"My name is:\", name, \" My employer is:\", employer)"
      ],
      "execution_count": null,
      "outputs": []
    },
    {
      "cell_type": "markdown",
      "metadata": {
        "id": "ZZuYXB5DFjjg"
      },
      "source": [
        "We can see above we can create and print strings in varies ways. But you may be interested to know that strings are not like most other variables - strings are actually objects in Python, which act a little bit like what we call lists or arrays. Read through the code below to find out more."
      ]
    },
    {
      "cell_type": "code",
      "metadata": {
        "id": "OSbt7Je35On8"
      },
      "source": [
        "# Strings - we all know about simple strings. For example,\n",
        "\n",
        "text = \"I am a string variable\"\n",
        "\n",
        "'''\n",
        "But what's interesting is that Strings are arrays. What is an array?\n",
        "An array is a data structure that can store data. An array of length\n",
        "1 contains exactly 1 piece of information. An array of length 2 contains\n",
        "2 pieces and so on. We can represent strings simply, to help our understanding:\n",
        "\n",
        "[] is an empty array\n",
        "\n",
        "['1'] is an array containing 1 'element' (data item), which in this case is a\n",
        "      string literal containing the character '1'.\n",
        "\n",
        "[1,2,3] is an array containing three numerical values, 1, 2, and 3.\n",
        "\n",
        "Arrays are 'indexed' - that is, each element in the array has a number\n",
        "corresponding to it. For example...\n",
        "\n",
        "Index =    0     1     2\n",
        "           |     |     |\n",
        "           v     v     v\n",
        "         [ 1  ,  2  ,  3]\n",
        "\n",
        "\n",
        "Notice the indexing starts with 0. So the first element in any array, is\n",
        "at an index of zero. How does this relate to strings?\n",
        "'''\n",
        "\n",
        "# Here's a string, which we now know is an array of items\n",
        "text = \"PRADEEP\"\n",
        "\n",
        "# We can print the whole array\n",
        "print(\"Here's what the text contains\", text)\n",
        "\n",
        "# Or we can print just a specific element of an array\n",
        "print(\"Printing element 0 returns:\", text[0])\n",
        "\n",
        "# Or\n",
        "print(\"Printing element 2 returns:\", text[2])\n",
        "\n",
        "# We can also obtain the length of the array.\n",
        "print(\"The length of the array is: \", len(text))\n",
        "\n",
        "# We can also 'slice' an array. This allows us to return a portion\n",
        "# of the string array, for example:\n",
        "print(\"Slicing positions 0 to 1 gives us: \", text[0:1])\n",
        "\n",
        "# or what about...\n",
        "print(\"Slicing positions 1 to 2 gives us: \", text[1:2])\n",
        "\n",
        "# Execute this cell once you get here.\n"
      ],
      "execution_count": null,
      "outputs": []
    },
    {
      "cell_type": "markdown",
      "metadata": {
        "id": "dKA8rhcoGmLM"
      },
      "source": [
        "Above we learned that strings are stored like arrays in memory. Each character in the string can be uniquely identified by it's index location, in the array. But what happens when we try to access an index that may not exist? Read through the cell below then run it to find out."
      ]
    },
    {
      "cell_type": "code",
      "metadata": {
        "id": "qIrkuNTcGmfx"
      },
      "source": [
        "'''\n",
        "What happens if we try to reference an element outside of the array?\n",
        "Well, we get an error message. When we reference an element outside of an\n",
        "array, we're asking the Python interpreter to return some information that\n",
        "isn't there - all it can do is return an error. For example...\n",
        "'''\n",
        "\n",
        "# Here's a string, which we now know is an array of items\n",
        "text = \"PRD\"\n",
        "\n",
        "print(text[3])\n"
      ],
      "execution_count": null,
      "outputs": []
    },
    {
      "cell_type": "markdown",
      "metadata": {
        "id": "MXoIGf5IEO11"
      },
      "source": [
        "Above we got an \"index out of range\" error. This is Python's way of telling you that you've tried to access part of an array that doesn't exist. Get used to error messages like that. But can we stop them from occurring? Read the cell below, then run it when you think you understand what will happen."
      ]
    },
    {
      "cell_type": "code",
      "metadata": {
        "id": "-wEDEyw5EPGE"
      },
      "source": [
        "'''\n",
        "Get familiar with error messages - us programmers\n",
        "encounter them on a daily basis. Don't see them as negative outcomes. See them\n",
        "as a way of learning to improve your code. Each error you fix, the better\n",
        "it gets! For instance, in the future we could write something like the\n",
        "following:\n",
        "'''\n",
        "\n",
        "# Store the index we want to obtain the value at.\n",
        "index = 3\n",
        "\n",
        "# Create the text.\n",
        "text = \"PRD\"\n",
        "\n",
        "# Check that the index is inside the array - if it isn't return an error\n",
        "# message. This is an error message of our own creation, not an error raised\n",
        "# by the Python interpreter telling us we made a mistake.\n",
        "if index >= len(text):\n",
        "  print(\"That index points outside of the array, I can't return that value!\")\n",
        "else:\n",
        "  # We can print the index as it is less than the array length.\n",
        "  print(\"The character as position: \", index , \" is: \", text[index])\n"
      ],
      "execution_count": null,
      "outputs": []
    },
    {
      "cell_type": "markdown",
      "metadata": {
        "id": "0WFn7IwWEVNI"
      },
      "source": [
        "What happens in the code above if the index is less than zero? Modify the code so that,\n",
        "\n",
        "\n",
        "```\n",
        "index = 0\n",
        "```\n",
        "\n",
        "Then run the code. You encounter an error again. Can you fix this? Edit the cell below and try to make it work. A solution is provided further down the notebook (below the code cell) - but only check the solution if you’re really stuck!"
      ]
    },
    {
      "cell_type": "code",
      "metadata": {
        "id": "gBxvo0fIEVtX"
      },
      "source": [
        "'''\n",
        "Edit for yourself...\n",
        "'''\n",
        "\n",
        "# Store the index we want to obtain the value at.\n",
        "test_index = ?\n",
        "\n",
        "# Create the text.\n",
        "text = \"PRD\"\n",
        "\n",
        "# Check that the index is inside the array - if it isn't return an error\n",
        "# message, but we don't actually encounter an error\n",
        "if test_index >= len(text):\n",
        "  print(\"That index points outside of the array, I can't return that value!\")\n",
        "else:\n",
        "  print(\"The character as position: \", test_index , \" is: \", text[test_index])"
      ],
      "execution_count": null,
      "outputs": []
    },
    {
      "cell_type": "markdown",
      "source": [
        "...<BR>...<BR>...<BR>...<BR>...<BR>...<BR>...<BR>...<BR>...<BR>...<BR>...<BR>...<BR>\n",
        "...<BR>...<BR>...<BR>...<BR>...<BR>...<BR>...<BR>...<BR>...<BR>...<BR>...<BR>...<BR>\n",
        "...<BR>...<BR>...<BR>...<BR>...<BR>...<BR>...<BR>...<BR>...<BR>...<BR>...<BR>...<BR>\n"
      ],
      "metadata": {
        "id": "eTtD1ompYW7u"
      }
    },
    {
      "cell_type": "markdown",
      "metadata": {
        "id": "uIyQMLVjIOrQ"
      },
      "source": [
        "**Solution**"
      ]
    },
    {
      "cell_type": "code",
      "metadata": {
        "id": "k2vQFNOIE314"
      },
      "source": [
        "'''\n",
        "Solution\n",
        "'''\n",
        "\n",
        "# Store the index we want to obtain the value at.\n",
        "# Edit this value to test that it works.\n",
        "test_index = 3\n",
        "\n",
        "# Create the text.\n",
        "text = \"PRD\"\n",
        "\n",
        "# Check that the index is inside the array - if it isn't return an error\n",
        "# message, but we don't actually encounter an error\n",
        "if test_index >= len(text) or test_index < 0:\n",
        "  print(\"That index points outside of the array, I can't return that value!\")\n",
        "else:\n",
        "  print(\"The character as position: \", test_index , \" is: \", text[test_index])\n",
        "\n",
        "\n",
        "'''\n",
        "For those who like a challenge - how about trying to understand what I do below.\n",
        "Here I create a function that can check if any index is outside of any specified\n",
        "string array.\n",
        "'''\n",
        "\n",
        "def isInside(index, text):\n",
        "  if index >= len(text) or index < 0:\n",
        "    print(\"That index points outside of the array, I can't return that value!\")\n",
        "    return False\n",
        "  else:\n",
        "    print(\"The character as position: \", index , \" is: \", text[test_index])\n",
        "    return True\n",
        "\n",
        "\n",
        "array = \"Hello\"\n",
        "index = 1\n",
        "\n",
        "print(\"Is \", index , \" inside the array? \", isInside(index, array))\n",
        "\n",
        "index = 6\n",
        "\n",
        "print(\"Is \", index , \" inside the array? \", isInside(index, array))\n"
      ],
      "execution_count": null,
      "outputs": []
    },
    {
      "cell_type": "markdown",
      "metadata": {
        "id": "T1y_PJreLMlV"
      },
      "source": [
        "Strings have lots of other useful functions associated with them. Some of these are summarised in the table below.\n",
        "\n",
        "|Method|Description|\n",
        "|------|-----------|\n",
        "|capitalize()|Converts first character to Capital Letter|\n",
        "|center()|Pads string with specified character|\n",
        "|count()|returns occurrences of substring in string|\n",
        "|endswith()|Checks if String Ends with the Specified Suffix|\n",
        "|find()|Returns the index of first occurrence of substring|\n",
        "|isalnum()|Checks Alphanumeric Character|\n",
        "|isalpha()|Checks if All Characters are Alphabets|\n",
        "|islower()|Checks if all Alphabets in a String are Lowercase|\n",
        "|isnumeric()|Checks Numeric Characters|\n",
        "|isupper()|returns if all characters are uppercase characters|\n",
        "|lower()|returns lowercased string|\n",
        "|upper()|returns uppercased string|\n",
        "|replace()|Replaces Substring Inside|\n",
        "|split()|Splits String from Left|\n",
        "|rsplit()|Splits String From Right|\n",
        "|startswith()|Checks if String Starts with the Specified String|\n",
        "|len()|Returns Length of an Object|\n",
        "\n",
        "In the cell below we explore how to use these. Read through the code first, then execute. Is the output what you expected?"
      ]
    },
    {
      "cell_type": "code",
      "metadata": {
        "id": "CPn5t63QOPr7"
      },
      "source": [
        "# Suppose we have this string\n",
        "email = \"user1001@somecoolsite.com\"\n",
        "print(\"The initial string is: \", email)\n",
        "\n",
        "\n",
        "# Lets test some string functions out on it, to see what happens.\n",
        "\n",
        "# returns occurrences of substring in string\n",
        "print(\"Counting the @ symbols in the string: \", email.count('@'))\n",
        "\n",
        "# Checks if String Ends with the Specified Suffix\n",
        "print(\"Does the string end in .com?: \", email.endswith('.com'))\n",
        "\n",
        "# Returns the index of first occurrence of substring\n",
        "print(\"Find the index of first 'r' char in the string: \", email.find('r'))\n",
        "\n",
        "# Checks Alphanumeric Character\n",
        "print(\"Is the string alpha numeric?: \", email.isalnum())\n",
        "\n",
        "# Checks if All Characters are Alphabets\n",
        "print(\"Are all the characters in the string letters?: \", email.isalpha())\n",
        "\n",
        "# Checks if all Alphabets in a String are Lowercase\n",
        "print(\"Is the string lower case?: \", email.islower())\n",
        "\n",
        "# Checks Numeric Characters\n",
        "print(\"Is the string entirely numeric: \", email.isnumeric())\n",
        "\n",
        "# returns if all characters are uppercase characters\n",
        "print(\"Are all the characters uppercase?: \", email.isupper())\n",
        "\n",
        "# Checks if String Starts with the Specified String\n",
        "print(\"Does the string start with 'user'?: \", email.startswith('user'))\n",
        "\n"
      ],
      "execution_count": null,
      "outputs": []
    },
    {
      "cell_type": "markdown",
      "metadata": {
        "id": "zhfQTmp-TQyR"
      },
      "source": [
        "The code above doesn't alter the string or create new strings from it. It just provides information relating to the string that can be very useful. The code below shows how to generate some new strings, from the input string. Read through the code, then execute it."
      ]
    },
    {
      "cell_type": "code",
      "metadata": {
        "id": "24l4MagRTgOg"
      },
      "source": [
        "# Suppose we have the same string again.\n",
        "email = \"user1001@somecoolsite.com\"\n",
        "print(\"The initial string is: \", email)\n",
        "\n",
        "# We can now create new strings from this input using\n",
        "# a variety of standard in-built string methods.\n",
        "\n",
        "# Converts first character to Capital Letter\n",
        "email_updated = email.capitalize()\n",
        "print(\"Capitalised first character: \", email_updated)\n",
        "\n",
        "# Pads string with the space character\n",
        "email_updated = email.center(50)\n",
        "print(\"Padding with the space charcter: \", email_updated)\n",
        "print(\"Length of the email address after padding: \", len(email_updated))\n",
        "\n",
        "# returns lowercased string\n",
        "email_updated = email.lower()\n",
        "print(\"Converted to lowercase: \", email_updated)\n",
        "\n",
        "# returns uppercased string\n",
        "email_updated = email.upper()\n",
        "print(\"Converted to uppercase: \", email_updated)\n",
        "\n",
        "# Replaces Substring Inside\n",
        "email_updated = email.replace('user','person')\n",
        "print(\"The text 'user' replaced with 'person': \", email_updated)\n",
        "\n",
        "# Splits String from Left\n",
        "email_updated = email.split('@')\n",
        "print(\"\\nSplitting the string into two on the '@' symbol: \", email_updated)\n",
        "print(\"The variable created by splitting is not a string: \", type(email_updated))\n",
        "print(\"Length of the new list: \", len(email_updated))\n",
        "\n"
      ],
      "execution_count": null,
      "outputs": []
    },
    {
      "cell_type": "markdown",
      "metadata": {
        "id": "tQVCwwPeOXn6"
      },
      "source": [
        "How about trying to solve some string challenges using those methods. Here's a list of things I'd like you to try.\n",
        "\n",
        "1. Get the first character in string, print it out.\n",
        "2. Get the last character in string, print it out.\n",
        "3. Get the middle word in string, print it out.\n",
        "4. Use slicing to get the substring \"awe\" from the input.\n",
        "5. Return the first index of the '_' character in the string.\n",
        "6. Return the last index of the '_' character in the string."
      ]
    },
    {
      "cell_type": "code",
      "metadata": {
        "id": "RTOI0eE-OYwM"
      },
      "source": [
        "# Here's the string to use:\n",
        "text = \"testing_your_awesome_python_skills\"\n",
        "\n",
        "# Write your code here."
      ],
      "execution_count": null,
      "outputs": []
    },
    {
      "cell_type": "markdown",
      "source": [
        "...<BR>...<BR>...<BR>...<BR>...<BR>...<BR>...<BR>...<BR>...<BR>...<BR>...<BR>...<BR>\n",
        "...<BR>...<BR>...<BR>...<BR>...<BR>...<BR>...<BR>...<BR>...<BR>...<BR>...<BR>...<BR>\n",
        "...<BR>...<BR>...<BR>...<BR>...<BR>...<BR>...<BR>...<BR>...<BR>...<BR>...<BR>...<BR>\n"
      ],
      "metadata": {
        "id": "xAutoOsrY3wu"
      }
    },
    {
      "cell_type": "markdown",
      "metadata": {
        "id": "gJcVHJFUOQIP"
      },
      "source": [
        "**Solution**"
      ]
    },
    {
      "cell_type": "code",
      "metadata": {
        "id": "jwQj_9b7OQvF"
      },
      "source": [
        "# Here's the string to use:\n",
        "text = \"testing_your_awesome_python_skills\"\n",
        "\n",
        "# 1. Get the first character in string, print it out.\n",
        "print(\"First character:\", text[0])\n",
        "\n",
        "# 2. Get the last character in string, print it out.\n",
        "print(\"Last character:\", text[len(text)-1])\n",
        "\n",
        "# 3. Get the middle word in string, print it out.\n",
        "words = text.split('_')\n",
        "print(\"Middle word:\", words[2])\n",
        "\n",
        "# 4. Use slicing to get the substring \"awe\" from the input.\n",
        "# Well, I already have the middle word which obtained above.\n",
        "# So I just need to get the first three characters from that string.\n",
        "print(\"Getting 'awe':\", words[2][0:3])\n",
        "\n",
        "# 5. Return the first index of the '_' character in the string.\n",
        "print(\"First index of '_':\", text.index('_'))\n",
        "\n",
        "# 6. Return the last index of the '_' character in the string.\n",
        "print(\"Last index of '_':\", text.rindex('_'))"
      ],
      "execution_count": null,
      "outputs": []
    },
    {
      "cell_type": "markdown",
      "metadata": {
        "id": "KOS9cTH2LDEd"
      },
      "source": [
        "### Activity 1\n",
        "\n",
        "<br>\n",
        "\n",
        "In the cell below I want you to create a function that converta a list of percentages to their decimal equivalents. So for example, it should covert \"1%\", \"2%\", \"3%\" into 0.01, 0.02, 0.03.\n",
        "\n",
        "<br>\n"
      ]
    },
    {
      "cell_type": "code",
      "metadata": {
        "id": "oVIE1PpAO3jo"
      },
      "source": [
        "# You code attempt here."
      ],
      "execution_count": null,
      "outputs": []
    },
    {
      "cell_type": "markdown",
      "metadata": {
        "id": "Qoj0rLwFLDMh"
      },
      "source": [
        "A solution can be found below...\n",
        "\n",
        "<br>\n",
        "...\n",
        "<br>\n",
        "...\n",
        "<br>\n",
        "...\n",
        "<br>\n",
        "...\n",
        "<br>\n",
        "...\n",
        "<br>\n",
        "...\n",
        "<br>\n",
        "...\n",
        "<br>\n",
        "...\n",
        "<br>\n",
        "...\n",
        "<br>\n",
        "...\n",
        "<br>\n",
        "...\n",
        "<br>\n",
        "...\n",
        "<br>\n",
        "...\n",
        "<br>\n",
        "...\n",
        "<br>\n",
        "...\n",
        "<br>\n",
        "...\n",
        "<br>\n",
        "...\n",
        "<br>\n",
        "...\n",
        "<br>\n",
        "...\n",
        "<br>\n",
        "...\n",
        "<br>\n",
        "...\n",
        "<br>\n",
        "...\n",
        "<br>\n",
        "...\n",
        "<br>\n",
        "...\n",
        "<br>\n",
        "Solution..."
      ]
    },
    {
      "cell_type": "code",
      "metadata": {
        "id": "xIopd1rDPJXW"
      },
      "source": [
        "def convert_to_decimal(percentage):\n",
        "\treturn float(percentage.replace(\"%\",\"\")) / 100\n",
        "\n",
        "print(convert_to_decimal(\"1%\"))\n",
        "print(convert_to_decimal(\"10%\"))\n",
        "print(convert_to_decimal(\"100%\"))"
      ],
      "execution_count": null,
      "outputs": []
    },
    {
      "cell_type": "markdown",
      "metadata": {
        "id": "-Vj5eIrhn5Ax"
      },
      "source": [
        "### Activity 2\n",
        "\n",
        "<br>\n",
        "\n",
        "In the cell below I want you to create a function that returns ```True``` if a given string has any of the following:\n",
        "\n",
        "* Only letters and no numbers.\n",
        "* Only numbers and no letters.\n",
        "\n",
        "If a string has both numbers and letters, or contains characters which don't fit into any category, return ```False```.\n",
        "\n",
        "<br>\n"
      ]
    },
    {
      "cell_type": "code",
      "metadata": {
        "id": "2XKSb7uKn5A3"
      },
      "source": [
        "# You code attempt here."
      ],
      "execution_count": null,
      "outputs": []
    },
    {
      "cell_type": "markdown",
      "metadata": {
        "id": "IMpS-Ihon5A7"
      },
      "source": [
        "A solution can be found below...\n",
        "\n",
        "<br>\n",
        "...\n",
        "<br>\n",
        "...\n",
        "<br>\n",
        "...\n",
        "<br>\n",
        "...\n",
        "<br>\n",
        "...\n",
        "<br>\n",
        "...\n",
        "<br>\n",
        "...\n",
        "<br>\n",
        "...\n",
        "<br>\n",
        "...\n",
        "<br>\n",
        "...\n",
        "<br>\n",
        "...\n",
        "<br>\n",
        "...\n",
        "<br>\n",
        "...\n",
        "<br>\n",
        "...\n",
        "<br>\n",
        "...\n",
        "<br>\n",
        "...\n",
        "<br>\n",
        "...\n",
        "<br>\n",
        "...\n",
        "<br>\n",
        "...\n",
        "<br>\n",
        "...\n",
        "<br>\n",
        "...\n",
        "<br>\n",
        "...\n",
        "<br>\n",
        "...\n",
        "<br>\n",
        "...\n",
        "<br>\n",
        "Solution..."
      ]
    },
    {
      "cell_type": "code",
      "metadata": {
        "id": "rPx1aCl8n5A8"
      },
      "source": [
        "def alphanumeric_restriction(s):\n",
        "    if s.isnumeric():\n",
        "        return True\n",
        "    elif s.isalpha():\n",
        "        return True\n",
        "    else:\n",
        "        return False\n",
        "\n",
        "print(alphanumeric_restriction(\"ab\"))\n",
        "print(alphanumeric_restriction(\"ab1cd\"))\n",
        "print(alphanumeric_restriction(\"1048\"))"
      ],
      "execution_count": null,
      "outputs": []
    },
    {
      "cell_type": "markdown",
      "metadata": {
        "id": "A9BWyunOov5J"
      },
      "source": [
        "### Activity 3\n",
        "\n",
        "<br>\n",
        "\n",
        "In the cell below I want you to create a function that returns ```True``` if a given inequality expression is correct and ```False``` otherwise.\n",
        "\n",
        "<br>\n"
      ]
    },
    {
      "cell_type": "code",
      "metadata": {
        "id": "CG97WJOeov5K"
      },
      "source": [
        "# You code attempt here."
      ],
      "execution_count": null,
      "outputs": []
    },
    {
      "cell_type": "markdown",
      "metadata": {
        "id": "hzP7GUAuov5N"
      },
      "source": [
        "A solution can be found below...\n",
        "\n",
        "<br>\n",
        "...\n",
        "<br>\n",
        "...\n",
        "<br>\n",
        "...\n",
        "<br>\n",
        "...\n",
        "<br>\n",
        "...\n",
        "<br>\n",
        "...\n",
        "<br>\n",
        "...\n",
        "<br>\n",
        "...\n",
        "<br>\n",
        "...\n",
        "<br>\n",
        "...\n",
        "<br>\n",
        "...\n",
        "<br>\n",
        "...\n",
        "<br>\n",
        "...\n",
        "<br>\n",
        "...\n",
        "<br>\n",
        "...\n",
        "<br>\n",
        "...\n",
        "<br>\n",
        "...\n",
        "<br>\n",
        "...\n",
        "<br>\n",
        "...\n",
        "<br>\n",
        "...\n",
        "<br>\n",
        "...\n",
        "<br>\n",
        "...\n",
        "<br>\n",
        "...\n",
        "<br>\n",
        "...\n",
        "<br>\n",
        "Solution..."
      ]
    },
    {
      "cell_type": "code",
      "metadata": {
        "id": "Xs3PJd2nov5N"
      },
      "source": [
        "def correct_signs(txt):\n",
        "\n",
        "\tchars = txt.split(\" \")\n",
        "\tfor i in range(2, len(chars), 2):\n",
        "\t\tif chars[i-1] == \">\":\n",
        "\t\t\tif not(int(chars[i-2]) > int(chars[i])):\n",
        "\t\t\t\treturn False\n",
        "\t\telif not(int(chars[i-2]) < int(chars[i])):\n",
        "\t\t\treturn False\n",
        "\treturn True\n",
        "\n",
        "print(correct_signs(\"1 < 3\"))\n",
        "print(correct_signs(\"4 > 3 > 1\"))\n",
        "print(correct_signs(\"4 > 8\"))"
      ],
      "execution_count": null,
      "outputs": []
    },
    {
      "cell_type": "markdown",
      "metadata": {
        "id": "-4ekmLVIkCnM"
      },
      "source": [
        "## 2. Lists\n",
        "\n",
        "Python lists are mutable collections. Suppose we have the following list,\n",
        "\n",
        "```list = [‘r’, ‘o’, ‘b’, ‘!’]```\n",
        "\n",
        "As lists are mutable, we can change them without creating new objects. For example, if we run the following command,\n",
        "\n",
        "```list[3] = ‘.’```\n",
        "\n",
        "then we change the list directly.  There’s so much more you can do with lists. You can,\n",
        "\n",
        "* Add items to lists using the ```append()``` function.\n",
        "* Delete items from lists using the ```remove()``` function.\n",
        "* Add lists together with standard operators such as addition.\n",
        "* Use in-built functions to find the minimum or maximum * elements in a list.\n",
        "* Count how many times an item occurs in a list.\n",
        "\n",
        "\n",
        "Please watch the video below before proceeding.\n",
        "\n",
        "\n",
        "\n",
        "\n"
      ]
    },
    {
      "cell_type": "code",
      "metadata": {
        "id": "zQ8-oE_2kEhS",
        "colab": {
          "base_uri": "https://localhost:8080/",
          "height": 336
        },
        "outputId": "47b19e05-3a1d-4f13-90a1-ad243d7a027d"
      },
      "source": [
        "# Import the HTML library\n",
        "from IPython.display import HTML\n",
        "\n",
        "# Load the video frm youtube.\n",
        "HTML('<iframe width=\"560\" height=\"315\"\\\n",
        "src=\"https://www.youtube.com/embed/9OeznAkyQz4\" frameborder=\"0\"\\\n",
        "allow=\"accelerometer; autoplay; encrypted-media; gyroscope; picture-in-picture\"\\\n",
        "allowfullscreen></iframe>')"
      ],
      "execution_count": null,
      "outputs": [
        {
          "output_type": "execute_result",
          "data": {
            "text/plain": [
              "<IPython.core.display.HTML object>"
            ],
            "text/html": [
              "<iframe width=\"560\" height=\"315\"src=\"https://www.youtube.com/embed/9OeznAkyQz4\" frameborder=\"0\"allow=\"accelerometer; autoplay; encrypted-media; gyroscope; picture-in-picture\"allowfullscreen></iframe>"
            ]
          },
          "metadata": {},
          "execution_count": 2
        }
      ]
    },
    {
      "cell_type": "markdown",
      "source": [
        "### Activity 4\n",
        "Reverse a list in Python<br>\n",
        "list1 = [100, 200, 300, 400, 500] <br><br>\n",
        "Expected output:[500, 400, 300, 200, 100]"
      ],
      "metadata": {
        "id": "gSazs6DfZGBV"
      }
    },
    {
      "cell_type": "code",
      "source": [
        "# You code attempt here.\n",
        "\n",
        "list1= [100,200,300,400,500]\n",
        "list1.reverse()\n",
        "print('Reversed List:', list1)\n",
        "\n"
      ],
      "metadata": {
        "id": "g4SNIQQmZ5bG",
        "colab": {
          "base_uri": "https://localhost:8080/"
        },
        "outputId": "40102808-49e7-4d1d-aa8c-f31797dfb691"
      },
      "execution_count": null,
      "outputs": [
        {
          "output_type": "stream",
          "name": "stdout",
          "text": [
            "Reversed List: [500, 400, 300, 200, 100]\n"
          ]
        }
      ]
    },
    {
      "cell_type": "markdown",
      "source": [
        "### Activity 5\n",
        "Write a program to print all the elements of a list in single line.<br>\n",
        "Hint<br>\n",
        "num = [23,24,54,34]\n",
        "\n",
        "Expected output\n",
        "23  24  54  34"
      ],
      "metadata": {
        "id": "bkdVsHSzb3g9"
      }
    },
    {
      "cell_type": "code",
      "source": [
        "# You code attempt here.\n",
        "\n",
        "num = [23,24,54,34]\n",
        "print(\"The list number are: \", num[0], num[1], num[2], num[3])"
      ],
      "metadata": {
        "id": "VT-spPI3cZqt",
        "colab": {
          "base_uri": "https://localhost:8080/"
        },
        "outputId": "1ff212ac-22d9-4539-aa16-ae2a9d26dea6"
      },
      "execution_count": null,
      "outputs": [
        {
          "output_type": "stream",
          "name": "stdout",
          "text": [
            "The list number are:  23 24 54 34\n"
          ]
        }
      ]
    },
    {
      "cell_type": "markdown",
      "source": [
        "### Activity 6\n",
        "Given a list of numbers. write a program to turn every item of a list into its square.<br>\n",
        "numbers = [1, 2, 3, 4, 5, 6, 7] => Given list<br><br>\n",
        "\n",
        "Expected output:1, 4, 9, 16, 25, 36, 49"
      ],
      "metadata": {
        "id": "2B84VrfBaE7W"
      }
    },
    {
      "cell_type": "code",
      "source": [
        "# You code attempt here.\n",
        "\n",
        "numbers = [1,2,3,4,6,7]\n",
        "\n",
        "num = [n**2 for n in numbers]\n",
        "print(\"The list square is: \", *num)\n"
      ],
      "metadata": {
        "id": "AwSZXzvfck01",
        "colab": {
          "base_uri": "https://localhost:8080/"
        },
        "outputId": "77979d83-bad0-4d34-fe42-ab6f9fb14812"
      },
      "execution_count": 15,
      "outputs": [
        {
          "output_type": "stream",
          "name": "stdout",
          "text": [
            "The list square is:  1 4 9 16 36 49\n"
          ]
        }
      ]
    },
    {
      "cell_type": "markdown",
      "metadata": {
        "id": "4P6MTZ1KQVFA"
      },
      "source": [
        "No we can play with lists for ourselves. Read over the code below and run it for yourself when ready."
      ]
    },
    {
      "cell_type": "code",
      "metadata": {
        "id": "weHaKvSnl7Sz"
      },
      "source": [
        "# Create a list\n",
        "list_1 = ['a','b', 'c']\n",
        "print(\"ID of list: \", id(list_1))\n",
        "print(\"Content of list: \", list_1)\n",
        "\n",
        "# Now change the list\n",
        "list_1[0] = 'z'\n",
        "print(\"ID of list: \", id(list_1))\n",
        "print(\"Content of list: \", list_1)\n",
        "\n",
        "# Add items to lists using the append() function.\n",
        "list_1.append(\"this\")\n",
        "list_1.append(\"that\")\n",
        "list_1.append(1)\n",
        "\n",
        "print(\"\\nContent of list_1:\\n\", list_1)\n",
        "\n",
        "\n",
        "# Delete items from lists using the remove() function.\n",
        "list_1.remove(\"this\")\n",
        "print(\"\\nContent of list_1:\\n\", list_1)\n",
        "\n",
        "# Add lists together with standard operators such as addition.\n",
        "list_1 += [\"new\", \"data\"]\n",
        "print(\"\\nContent of list_1:\\n\", list_1)\n",
        "\n",
        "# Count how many times an item occurs in a list.\n",
        "print(\"\\nCounting occurrences of 'new' in list_1:\\n\", list_1.count(\"new\"))\n",
        "\n",
        "\n",
        "# Lets make the list data numerical\n",
        "list_1 = [1,5,8,2,5,2,8,9,23,4,6,22,25,7,16]\n",
        "\n",
        "# Now we can use in-built functions to find the minimum or maximum\n",
        "# elements in a list.\n",
        "print(\"\\nMin list_1:\\n\", min(list_1))\n",
        "print(\"\\nMax list_1:\\n\", max(list_1))\n",
        "\n",
        "# You can find the min or max values in a character list.\n",
        "list_1 = ['a', 'b', 'c']\n",
        "print(\"\\nMin list_1:\\n\", min(list_1))\n",
        "print(\"\\nMax list_1:\\n\", max(list_1))\n",
        "\n",
        "# You can find the min or max values in a string list.\n",
        "list_1 = [\"a\", \"b\", \"c\"]\n",
        "print(\"\\nMin list_1:\\n\", min(list_1))\n",
        "print(\"\\nMax list_1:\\n\", max(list_1))\n",
        "\n",
        "\n",
        "# But don't try to find the min or max values in a mixed type list,\n",
        "# or you'll get an error! Try that for yourself below (uncomment\n",
        "# the code to run it).\n",
        "#list_1 = [1, \"a\", \"b\", \"c\"]\n",
        "#print(\"\\nMin list_1:\\n\", min(list_1))\n",
        "#print(\"\\nMax list_1:\\n\", max(list_1))\n"
      ],
      "execution_count": null,
      "outputs": []
    },
    {
      "cell_type": "markdown",
      "metadata": {
        "id": "WnplxaOUEj16"
      },
      "source": [
        "The code above shows you how to undertake multiple list operations. You can use these code samples as a guide to solve the activites faced later on in the document.\n",
        "\n",
        "---"
      ]
    },
    {
      "cell_type": "markdown",
      "metadata": {
        "id": "2Q4lXMbnElHA"
      },
      "source": [
        "## Dictionaries\n",
        "\n",
        "Python dictionaries are also mutable collections. They contain pairs of keys and values. Each key uniquely identifies a set of values in the dictionary. For example, here we have an integer key of 1, which points to a collection of string values. The keys don’t have to be strings, they could be some other type. The values could also be multiple strings.\n",
        "\n",
        "<br/>\n",
        "\n",
        "We can create dictionaries with simple commands:\n",
        "\n",
        "```dict = {“1”: “Rob!”}```\n",
        "\n",
        "We can change the dictionary directly:\n",
        "\n",
        "```dict[“1”] = “Rob.”```\n",
        "\n",
        "Or access dictionary elements:\n",
        "\n",
        "```print(dict[“1”])```\n",
        "\n",
        "Let's create some dictionaries for ourselves. Read the cell below and then execute it when ready.\n",
        "\n",
        "\n"
      ]
    },
    {
      "cell_type": "code",
      "metadata": {
        "id": "mzMl2BDGRKbn"
      },
      "source": [
        "# Create a dictionary. Remember the dictionary is populated\n",
        "# by key:value pairs.\n",
        "dict_1 = {'Name': 'Prd', 'Employer': \"University of Bolton\", 'ID': 1}\n",
        "\n",
        "# Now print out some details using the keys to access the values.\n",
        "print(\"dict_1['Name']: \", dict_1['Name'])\n",
        "print(\"dict_1['Employer']: \", dict_1['Employer'])\n",
        "print(\"dict_1['ID']: \", dict_1['ID'])\n",
        "\n",
        "# We can do things like, check if a key is present in the dictionary.\n",
        "test_key = \"test\"\n",
        "print(\"Does 'dict_1' have the key - \", test_key, \":\", test_key in dict_1)\n",
        "test_key = \"ID\"\n",
        "print(\"Does 'dict_1' have the key - \", test_key, \":\", test_key in dict_1)\n",
        "\n",
        "# You can obtain all the keys in the dictionary.\n",
        "keys = dict_1.keys()\n",
        "\n",
        "# Now print the keys to show we have them:\n",
        "print(\"dict_1 has the keys: \", keys)\n",
        "print(\"The datatype for the keys variable: \", type(keys))\n",
        "\n",
        "# We can get all the dictionaries items.\n",
        "items = dict_1.items()\n",
        "print(\"dict_1 items:\\n\", items)\n",
        "\n",
        "# We can clear a dictionary of it's contents.\n",
        "dict_1.clear()\n",
        "print(\"dict_1 content:\\n\", dict_1)\n"
      ],
      "execution_count": null,
      "outputs": []
    },
    {
      "cell_type": "markdown",
      "metadata": {
        "id": "EztxRl1HYNxS"
      },
      "source": [
        "### Activity 7\n",
        "\n",
        "<br>\n",
        "\n",
        "You work for a company and have been asked to calculate the total profit made on the sales of a product. You are given a dictionary containing the cost price per unit (in pounds), sell price per unit (in pounds), and the starting inventory. Return the total profit made, rounded to the nearest pound.\n",
        "\n",
        "<br>\n",
        "\n",
        "**Examples**\n",
        "\n",
        "<br>\n",
        "\n",
        "```\n",
        "dictionary_1 = {\n",
        "  \"cost_price\": 32.67,\n",
        "  \"sell_price\": 45.00,\n",
        "  \"inventory\": 1200\n",
        "}\n",
        "```\n",
        "\n",
        "This should return: £14796\n",
        "\n",
        "<br>\n",
        "\n",
        "```\n",
        "dictionary_2 = {\n",
        "  \"cost_price\": 225.89,\n",
        "  \"sell_price\": 550.00,\n",
        "  \"inventory\": 100\n",
        "}\n",
        "```\n",
        "\n",
        "This should return: £32411\n",
        "\n",
        "<br>\n",
        "\n",
        "```\n",
        "dictionary_3 ={\n",
        "  \"cost_price\": 2.77,\n",
        "  \"sell_price\": 7.95,\n",
        "  \"inventory\": 8500\n",
        "}\n",
        "```\n",
        "\n",
        "This should return: £44030\n",
        "\n",
        "\n",
        "<br>\n"
      ]
    },
    {
      "cell_type": "code",
      "metadata": {
        "id": "nfE93uWfYNxT",
        "colab": {
          "base_uri": "https://localhost:8080/"
        },
        "outputId": "bad634d6-4b9c-410b-f7de-0658768ce51a"
      },
      "source": [
        "from typing import ValuesView\n",
        "# You code attempt here.\n",
        "\n",
        "# Declaring dictionary product value 1,2 and 3\n",
        "\n",
        "product1_dictionary = {\n",
        "  \"cost_price\": 32.67,\n",
        "  \"sell_price\": 45.00,\n",
        "  \"inventory\": 1200\n",
        "}\n",
        "\n",
        "product2_dictionary = {\n",
        "  \"cost_price\": 225.89,\n",
        "  \"sell_price\": 550.00,\n",
        "  \"inventory\": 100\n",
        "}\n",
        "\n",
        "product3_dictionary ={\n",
        "  \"cost_price\": 2.77,\n",
        "  \"sell_price\": 7.95,\n",
        "  \"inventory\": 8500\n",
        "}\n",
        "\n",
        "# assigning and store element value.key to a avariable - cp, sp and iv\n",
        "# cp = cost price, sp = sell price , iv = inventory\n",
        "def profit(value):\n",
        "    cp = value['cost_price']\n",
        "    sp = value['sell_price']\n",
        "    iv = value['inventory']\n",
        "\n",
        "# function profit returned and rounded up to a whole number\n",
        "    return round((sp * iv) - (cp * iv))\n",
        "\n",
        "# Total value made printed per dictionary value\n",
        "print(\"The Total profit made: \", \"£\", profit(product1_dictionary))\n",
        "print(\"The Total profit made: \", \"£\",profit(product2_dictionary))\n",
        "print(\"The Total profit made: \", \"£\",profit(product3_dictionary))"
      ],
      "execution_count": 24,
      "outputs": [
        {
          "output_type": "stream",
          "name": "stdout",
          "text": [
            "The Total profit made:  £ 14796\n",
            "The Total profit made:  £ 32411\n",
            "The Total profit made:  £ 44030\n"
          ]
        }
      ]
    },
    {
      "cell_type": "markdown",
      "metadata": {
        "id": "NlhV1wY4YNxT"
      },
      "source": [
        "A solution can be found below...\n",
        "\n",
        "<br>\n",
        "...\n",
        "<br>\n",
        "...\n",
        "<br>\n",
        "...\n",
        "<br>\n",
        "...\n",
        "<br>\n",
        "...\n",
        "<br>\n",
        "...\n",
        "<br>\n",
        "...\n",
        "<br>\n",
        "...\n",
        "<br>\n",
        "...\n",
        "<br>\n",
        "...\n",
        "<br>\n",
        "...\n",
        "<br>\n",
        "...\n",
        "<br>\n",
        "...\n",
        "<br>\n",
        "...\n",
        "<br>\n",
        "...\n",
        "<br>\n",
        "...\n",
        "<br>\n",
        "...\n",
        "<br>\n",
        "...\n",
        "<br>\n",
        "...\n",
        "<br>\n",
        "...\n",
        "<br>\n",
        "...\n",
        "<br>\n",
        "...\n",
        "<br>\n",
        "...\n",
        "<br>\n",
        "...\n",
        "<br>\n",
        "Solution..."
      ]
    },
    {
      "cell_type": "code",
      "metadata": {
        "id": "XSQN8BH1YNxT"
      },
      "source": [
        "def profit(info):\n",
        "\tc, s, i = info['cost_price'], info['sell_price'], info['inventory']\n",
        "\treturn round((s * i) - (c * i))\n",
        "\n",
        "dictionary_1 = {\n",
        "  \"cost_price\": 32.67,\n",
        "  \"sell_price\": 45.00,\n",
        "  \"inventory\": 1200\n",
        "}\n",
        "\n",
        "dictionary_2 = {\n",
        "  \"cost_price\": 225.89,\n",
        "  \"sell_price\": 550.00,\n",
        "  \"inventory\": 100\n",
        "}\n",
        "\n",
        "dictionary_3 ={\n",
        "  \"cost_price\": 2.77,\n",
        "  \"sell_price\": 7.95,\n",
        "  \"inventory\": 8500\n",
        "}\n",
        "\n",
        "print(profit(dictionary_1))\n",
        "print(profit(dictionary_2))\n",
        "print(profit(dictionary_3))"
      ],
      "execution_count": null,
      "outputs": []
    },
    {
      "cell_type": "markdown",
      "metadata": {
        "id": "IgQnxV-v6oVH"
      },
      "source": [
        "### Activity 8\n",
        "\n",
        "<br>\n",
        "\n",
        "In the cell below I want you to create a function that accepts a dictionary of student names and a list of their test scores over the semester, and returns a list of all the students who passed (in alphabetical order). Students pas if they score 70% and above.\n",
        "\n",
        "<br>\n",
        "\n",
        "**Examples**\n",
        "\n",
        "<br>\n",
        "\n",
        "```\n",
        "dictionary_1 = {\n",
        "  \"Rob\" : [\"5/5\", \"50/50\", \"10/10\", \"10/10\"],\n",
        "  \"Sarah\" : [\"4/8\", \"50/57\", \"7/10\", \"10/18\"],\n",
        "  \"Adam\" : [\"8/10\", \"22/25\", \"3/5\", \"5/5\"],\n",
        "  \"Rebecca\" : [\"3/3\", \"20/20\"]\n",
        "}\n",
        "```\n",
        "\n",
        "Here Rob and Rebecca passed.\n",
        "\n",
        "```\n",
        "dictionary_2 = {\n",
        "  \"Rob\" : [\"10/10\"],\n",
        "  \"Rebecca\" : [\"30/30\"],\n",
        "  \"Chris\" : [\"100/100\"],\n",
        "  \"Donna\" : [\"1/1\"]\n",
        "}\n",
        "```\n",
        "Here Rob, Rebecca, Chris, and Donna passed.\n",
        "\n",
        "```\n",
        "dictinary_3 = {\n",
        "  \"John\" : [\"10/10\", \"2/4\"],\n",
        "  \"Mary\" : [\"7/9\", \"2/3\"]\n",
        "}\n",
        "```\n",
        "Here nobody passed!\n",
        "\n",
        "<br>\n"
      ]
    },
    {
      "cell_type": "code",
      "metadata": {
        "id": "oCr6SxrB6oVI"
      },
      "source": [
        "# You code attempt here."
      ],
      "execution_count": null,
      "outputs": []
    },
    {
      "cell_type": "markdown",
      "metadata": {
        "id": "cwD2kMkJ6oVN"
      },
      "source": [
        "A solution can be found below...\n",
        "\n",
        "<br>\n",
        "...\n",
        "<br>\n",
        "...\n",
        "<br>\n",
        "...\n",
        "<br>\n",
        "...\n",
        "<br>\n",
        "...\n",
        "<br>\n",
        "...\n",
        "<br>\n",
        "...\n",
        "<br>\n",
        "...\n",
        "<br>\n",
        "...\n",
        "<br>\n",
        "...\n",
        "<br>\n",
        "...\n",
        "<br>\n",
        "...\n",
        "<br>\n",
        "...\n",
        "<br>\n",
        "...\n",
        "<br>\n",
        "...\n",
        "<br>\n",
        "...\n",
        "<br>\n",
        "...\n",
        "<br>\n",
        "...\n",
        "<br>\n",
        "...\n",
        "<br>\n",
        "...\n",
        "<br>\n",
        "...\n",
        "<br>\n",
        "...\n",
        "<br>\n",
        "...\n",
        "<br>\n",
        "...\n",
        "<br>\n",
        "Solution..."
      ]
    },
    {
      "cell_type": "code",
      "metadata": {
        "id": "ed5NQG8W6oVN"
      },
      "source": [
        "def who_passed(students):\n",
        "\tpassed = []\n",
        "\tfor s in students.items():\n",
        "\t\tcount = 0\n",
        "\t\tfor i in s[1]:\n",
        "\t\t\tm = i.split('/')\n",
        "\t\t\tif m[0] != m[1]:\n",
        "\t\t\t\tcount += 1\n",
        "\t\tif count == 0:\n",
        "\t\t\tpassed.append(s[0])\n",
        "\treturn sorted(passed)\n",
        "\n",
        "dictionary_1 = {\n",
        "  \"Rob\" : [\"5/5\", \"50/50\", \"10/10\", \"10/10\"],\n",
        "  \"Sarah\" : [\"4/8\", \"50/57\", \"7/10\", \"10/18\"],\n",
        "  \"Adam\" : [\"8/10\", \"22/25\", \"3/5\", \"5/5\"],\n",
        "  \"Rebecca\" : [\"3/3\", \"20/20\"]\n",
        "}\n",
        "\n",
        "dictionary_2 = {\n",
        "  \"Rob\" : [\"10/10\"],\n",
        "  \"Rebecca\" : [\"30/30\"],\n",
        "  \"Chris\" : [\"100/100\"],\n",
        "  \"Donna\" : [\"1/1\"]\n",
        "}\n",
        "\n",
        "dictionary_3 = {\n",
        "  \"John\" : [\"10/10\", \"2/4\"],\n",
        "  \"Mary\" : [\"7/9\", \"2/3\"]\n",
        "}\n",
        "\n",
        "print(who_passed(dictionary_1))\n",
        "print(who_passed(dictionary_2))\n",
        "print(who_passed(dictionary_3))"
      ],
      "execution_count": null,
      "outputs": []
    },
    {
      "cell_type": "markdown",
      "metadata": {
        "id": "8PNy7fL16pmO"
      },
      "source": [
        "### Activity 9\n",
        "\n",
        "<br>\n",
        "\n",
        "In the cell below I want you to create a function that that given a list, returns the index where if split into two-lists, the sum of them are equal.\n",
        "\n",
        "<br>\n",
        "\n",
        "For example, if given:\n",
        "\n",
        "```\n",
        "[10, 20, 30, 5, 40, 50, 40, 15]\n",
        "```\n",
        "\n",
        "Then the index returned should be 5. That's becuse:\n",
        "\n",
        "```\n",
        "[10+20+30+5+40] = [50+40+15]\n",
        "```\n",
        "\n",
        "and the split is done at the index 5, e.g. after the 40. Some more examples:\n",
        "\n",
        "```\n",
        "[1, 2, 3, 4, 5, 5]\n",
        "```\n",
        "\n",
        "Then the index found should be 4 as,\n",
        "\n",
        "```\n",
        "[1, 2, 3, 4] = [5, 5]\n",
        "```\n",
        "\n",
        "And a final example:\n",
        "\n",
        "```\n",
        "[3, 3]\n",
        "```\n",
        "\n",
        "Then the index found should be 1.\n",
        "\n",
        "<br>\n",
        "\n",
        "Remember that lists are zero indexed.\n",
        "<br>\n"
      ]
    },
    {
      "cell_type": "code",
      "metadata": {
        "id": "Jnh9umdN6pmP"
      },
      "source": [
        "# You code attempt here."
      ],
      "execution_count": null,
      "outputs": []
    },
    {
      "cell_type": "markdown",
      "metadata": {
        "id": "YrD07HcT6pmS"
      },
      "source": [
        "A solution can be found below...\n",
        "\n",
        "<br>\n",
        "...\n",
        "<br>\n",
        "...\n",
        "<br>\n",
        "...\n",
        "<br>\n",
        "...\n",
        "<br>\n",
        "...\n",
        "<br>\n",
        "...\n",
        "<br>\n",
        "...\n",
        "<br>\n",
        "...\n",
        "<br>\n",
        "...\n",
        "<br>\n",
        "...\n",
        "<br>\n",
        "...\n",
        "<br>\n",
        "...\n",
        "<br>\n",
        "...\n",
        "<br>\n",
        "...\n",
        "<br>\n",
        "...\n",
        "<br>\n",
        "...\n",
        "<br>\n",
        "...\n",
        "<br>\n",
        "...\n",
        "<br>\n",
        "...\n",
        "<br>\n",
        "...\n",
        "<br>\n",
        "...\n",
        "<br>\n",
        "...\n",
        "<br>\n",
        "...\n",
        "<br>\n",
        "...\n",
        "<br>\n",
        "Solution..."
      ]
    },
    {
      "cell_type": "code",
      "metadata": {
        "id": "kgd56oZ_6pmS"
      },
      "source": [
        "def where_to_split(lst):\n",
        "    s_half, s_acc = sum(lst) / 2, 0\n",
        "    for i in range(len(lst)):\n",
        "        s_acc += lst[i]\n",
        "        if s_acc == s_half:\n",
        "            return i + 1\n",
        "    return 'not found'\n",
        "\n",
        "print(where_to_split([10, 20, 30, 5, 40, 50, 40, 15]))\n",
        "print(where_to_split([1, 2, 3, 4, 5, 5]))\n",
        "print(where_to_split([3, 3]))"
      ],
      "execution_count": null,
      "outputs": []
    },
    {
      "cell_type": "markdown",
      "source": [],
      "metadata": {
        "id": "JO6idBJ9ZGHG"
      }
    },
    {
      "cell_type": "markdown",
      "metadata": {
        "id": "M7l5s1ZTdJNp"
      },
      "source": [
        "## 3. Scope\n",
        "\n",
        "Scope refers to the area of the code that variables or functions are available to be used. If a variable is defined in a function, for example, it’s scope is confined to that function. This means it can only be seen within the function, and not elsewhere.\n",
        "\n",
        "\n",
        "It also means that variables defined outside of functions, can’t be seen or edited within the functions. These issues trip up novice programmers, so we’ll explore scope for ourselves now. Scope is a difficult topic to explain using slides, so please watch the video below before continuing.\n",
        "\n",
        "\n",
        "\n"
      ]
    },
    {
      "cell_type": "code",
      "metadata": {
        "id": "265y2h25Vbnr"
      },
      "source": [
        "# Import the HTML library\n",
        "from IPython.display import HTML\n",
        "\n",
        "# Load the video frm youtube.\n",
        "HTML('<iframe width=\"560\" height=\"315\"\\\n",
        "src=\"https://www.youtube.com/embed/QVdf0LgmICw\" frameborder=\"0\"\\\n",
        "allow=\"accelerometer; autoplay; encrypted-media; gyroscope; picture-in-picture\"\\\n",
        "allowfullscreen></iframe>')"
      ],
      "execution_count": null,
      "outputs": []
    },
    {
      "cell_type": "markdown",
      "metadata": {
        "id": "WOU2PInHVckg"
      },
      "source": [
        "The code below contains examples of different scopes. Read through each example carefully. When you feel that you understand it, execute it. If the output is not as you expect then do the following: deduce what must have happened to give that answer. That will help you understand scope. Unfortunately, it's one of those topics you mostly learn by \"doing\".\n",
        "\n",
        "**Example 1**"
      ]
    },
    {
      "cell_type": "code",
      "metadata": {
        "id": "MXHWghpujWjQ"
      },
      "source": [
        "# Create a simple variable.\n",
        "a = 5\n",
        "\n",
        "# Print that variable inside of a function.\n",
        "def function():\n",
        "    print(a)\n",
        "\n",
        "# Call the function.\n",
        "function()\n",
        "\n",
        "# We can see that the function can see the value of a - but only because that\n",
        "# value is passed to it.\n",
        "print(a)\n"
      ],
      "execution_count": null,
      "outputs": []
    },
    {
      "cell_type": "markdown",
      "metadata": {
        "id": "1mZHg5AZ1AX_"
      },
      "source": [
        "**Example 2**"
      ]
    },
    {
      "cell_type": "code",
      "metadata": {
        "id": "hsZIKipD0m36"
      },
      "source": [
        "# Create a simple variable.\n",
        "a = 5\n",
        "\n",
        "# Now alter the function.\n",
        "def function():\n",
        "    a = 3\n",
        "    print(a)\n",
        "\n",
        "# Call the function.\n",
        "function()\n",
        "\n",
        "# We can see that the function did not change the value of a. This is because\n",
        "# the variable passed to the function, is not the original variable a. The\n",
        "# variable passed to the function has a scope confined only to the function.\n",
        "# Once the function terminates, that variable disappears.\n",
        "print(a)\n",
        "\n"
      ],
      "execution_count": null,
      "outputs": []
    },
    {
      "cell_type": "markdown",
      "metadata": {
        "id": "mzTLDqOe1Crg"
      },
      "source": [
        "**Example 3**"
      ]
    },
    {
      "cell_type": "code",
      "metadata": {
        "id": "TAsnFS0y0nMt"
      },
      "source": [
        "# Create a simple variable.\n",
        "name = 'Rob'\n",
        "\n",
        "# Create a function that tries to change the value of the variable\n",
        "# passed to it.\n",
        "def change_name(new_name):\n",
        "    name = new_name\n",
        "\n",
        "# Print the name to confirm what it is.\n",
        "print(name)\n",
        "\n",
        "# Now try to change it.\n",
        "change_name('James')\n",
        "\n",
        "# Print the name to confirm what it is. We can see we haven't change it.\n",
        "# Any change is confined to the scope of the function. Once the function\n",
        "# finishes, that scope is discarded.\n",
        "print(name)\n",
        "\n",
        "\n"
      ],
      "execution_count": null,
      "outputs": []
    },
    {
      "cell_type": "markdown",
      "metadata": {
        "id": "CAHR1Mjg1E0_"
      },
      "source": [
        "**Example 4**"
      ]
    },
    {
      "cell_type": "code",
      "metadata": {
        "id": "V1q1nTQz0nfi"
      },
      "source": [
        "\n",
        "# Create a simple variable.\n",
        "name = 'Rob'\n",
        "\n",
        "# This time we update the function, so that it uses the global keyword to\n",
        "# indicate that it will alter a variable called name which has its scope\n",
        "# outside of the function.\n",
        "def change_name(new_name):\n",
        "    global name\n",
        "    name = new_name\n",
        "\n",
        "# Print name to confirm what it is.\n",
        "print(name)\n",
        "\n",
        "# Now we try to update it.\n",
        "change_name('James')\n",
        "\n",
        "# Now print the result.\n",
        "print(name)\n",
        "\n",
        "\n"
      ],
      "execution_count": null,
      "outputs": []
    },
    {
      "cell_type": "markdown",
      "metadata": {
        "id": "vW15jvmG1GYT"
      },
      "source": [
        "**Example 5**"
      ]
    },
    {
      "cell_type": "code",
      "metadata": {
        "id": "pRBbYYKM0nwN"
      },
      "source": [
        "# Create a simple variable.\n",
        "x = \"a\"\n",
        "\n",
        "# Now we have an outer function.\n",
        "def outer():\n",
        "\n",
        "    # It tries to alter the value of variable x,\n",
        "    # which is declared outside the function.\n",
        "    x = \"b\"\n",
        "\n",
        "    # It also contains an inner function - you did know you can nest\n",
        "    # functions in this manner :)\n",
        "    def inner():\n",
        "        # Now try to update x again from inside this nested function.\n",
        "        x = \"c\"\n",
        "        print(\"from inner:\", x)\n",
        "\n",
        "    inner()\n",
        "    print(\"from outer:\", x)\n",
        "\n",
        "outer()\n",
        "print(\"globally:\", x)\n",
        "\n",
        "# Here we see that the functions only altered a copy of the value of x, within\n",
        "# their own scope. Once those functions terminated, those varaibles were\n",
        "# discarded, and the original value of x unchanged."
      ],
      "execution_count": null,
      "outputs": []
    },
    {
      "cell_type": "markdown",
      "metadata": {
        "id": "vBAm8mU91I-s"
      },
      "source": [
        "**Example 6**"
      ]
    },
    {
      "cell_type": "code",
      "metadata": {
        "id": "ZJSCB2GF02hC"
      },
      "source": [
        "# Create a simple variable.\n",
        "x = \"a\"\n",
        "\n",
        "# Now we have an outer function.\n",
        "def outer():\n",
        "\n",
        "    # It tries to alter the value of variable x,\n",
        "    # which is declared outside the function.\n",
        "    x = \"b\"\n",
        "\n",
        "    # Now we create our inner function again.\n",
        "    def inner():\n",
        "\n",
        "        # This time, we use the nonlocal keyword to indicate that\n",
        "        # we want to alter the variable x declared outside of this\n",
        "        # function, i.e. that is not local to this function. That\n",
        "        # means the value of x created in the function\n",
        "        # that wraps this inner function (i.e. the value of x just\n",
        "        # one level above).\n",
        "        nonlocal x\n",
        "        x = \"c\"\n",
        "        print(\"inner:\", x)\n",
        "\n",
        "    inner()\n",
        "    print(\"outer:\", x)\n",
        "\n",
        "outer()\n",
        "print(\"global:\", x)\n",
        "\n",
        "# When we run this, we see that we’ve altered the outer and inner values of x.\n",
        "# But the original variable x, declared outside of all the functions, is\n",
        "# unaltered.\n"
      ],
      "execution_count": null,
      "outputs": []
    },
    {
      "cell_type": "markdown",
      "metadata": {
        "id": "SDZ0xHF91KV1"
      },
      "source": [
        "**Example 7**"
      ]
    },
    {
      "cell_type": "code",
      "metadata": {
        "id": "Cc-YbE-O04yb"
      },
      "source": [
        "# Create a simple variable.\n",
        "x = \"a\"\n",
        "\n",
        "# Now we have an outer function.\n",
        "def outer():\n",
        "\n",
        "    # It tries to alter the value of variable x,\n",
        "    # which is declared outside the function.\n",
        "    x = \"b\"\n",
        "\n",
        "    # Now we create our inner function again.\n",
        "    def inner():\n",
        "\n",
        "        # This time, we use the global keyword to indicate that\n",
        "        # we want to alter the variable x declared outside of ALL the\n",
        "        # functions.\n",
        "        global x\n",
        "        x = \"c\"\n",
        "        print(\"inner:\", x)\n",
        "\n",
        "    inner()\n",
        "    print(\"outer:\", x)\n",
        "\n",
        "outer()\n",
        "print(\"global:\", x)\n",
        "\n",
        "# When we run this, we see that we’ve altered the outer and inner and global\n",
        "# values of x. Interestingly, the outer value of x was 'b'. Do you understand\n",
        "# why this is the case? It is because the outer loop was only editing a copy of\n",
        "# the variable x local to itself - which the inner loops was modifying the\n",
        "# global variable.\n",
        "\n"
      ],
      "execution_count": null,
      "outputs": []
    },
    {
      "cell_type": "markdown",
      "metadata": {
        "id": "z5sEExxyZGjr"
      },
      "source": [
        "### Activity 10\n",
        "\n",
        "<br>\n",
        "\n",
        "In the cell below I want you to create a function that determines whether or not two lines are parallel. Lines are represented by a list ```[a, b, c]```, which corresponds to the line $ax+by=c$. Remebmer, two lines are parallel if they have the same slope and the y-intercepts are different. If the slopes are different, the lines are not parallel.\n",
        "\n",
        "<br>\n",
        "\n",
        "**Examples**\n",
        "\n",
        "<br>\n",
        "\n",
        "Lines described by these two lists:\n",
        "```\n",
        "[1, 2, 3], [1, 2, 4]\n",
        "```\n",
        "are parallel. Whilst the lines described by the lists:\n",
        "\n",
        "```\n",
        "[2, 4, 1], [4, 2, 1]\n",
        "```\n",
        "are not parallel.\n",
        "\n",
        "\n",
        "<br>\n"
      ]
    },
    {
      "cell_type": "code",
      "metadata": {
        "id": "CFfYJHJrZGjs"
      },
      "source": [
        "# Your code attempt here."
      ],
      "execution_count": null,
      "outputs": []
    },
    {
      "cell_type": "markdown",
      "metadata": {
        "id": "ZDZkRtXUZGjt"
      },
      "source": [
        "A solution can be found below...\n",
        "\n",
        "<br>\n",
        "...\n",
        "<br>\n",
        "...\n",
        "<br>\n",
        "...\n",
        "<br>\n",
        "...\n",
        "<br>\n",
        "...\n",
        "<br>\n",
        "...\n",
        "<br>\n",
        "...\n",
        "<br>\n",
        "...\n",
        "<br>\n",
        "...\n",
        "<br>\n",
        "...\n",
        "<br>\n",
        "...\n",
        "<br>\n",
        "...\n",
        "<br>\n",
        "...\n",
        "<br>\n",
        "...\n",
        "<br>\n",
        "...\n",
        "<br>\n",
        "...\n",
        "<br>\n",
        "...\n",
        "<br>\n",
        "...\n",
        "<br>\n",
        "...\n",
        "<br>\n",
        "...\n",
        "<br>\n",
        "...\n",
        "<br>\n",
        "...\n",
        "<br>\n",
        "...\n",
        "<br>\n",
        "...\n",
        "<br>\n",
        "Solution..."
      ]
    },
    {
      "cell_type": "code",
      "metadata": {
        "id": "nb4pDbRoZGjt"
      },
      "source": [
        "def are_parallel(l1, l2):\n",
        "\tslope1 = (-l1[0]/l1[1])\n",
        "\tslope2 = (-l2[0]/l2[1])\n",
        "\tif slope1 == slope2:\n",
        "\t\treturn True\n",
        "\telse:\n",
        "\t\treturn False\n",
        "\n",
        "print(are_parallel([1, 2, 3], [1, 2, 4]))\n",
        "print(are_parallel([2, 4, 1], [4, 2, 1]))\n",
        "print(are_parallel([0, 1, 5], [0, 1, 5])) # Should be True."
      ],
      "execution_count": null,
      "outputs": []
    },
    {
      "cell_type": "markdown",
      "metadata": {
        "id": "WBMB7_kV6xFl"
      },
      "source": [
        "### Activity 11\n",
        "\n",
        "<br>\n",
        "\n",
        "In the cell below I want you to create a function that accepts the coordinates of two points on a two-dimensional plane and returns the length of the line segment connecting those two points. The order of the given numbers is $x$, $y$.\n",
        "\n",
        "<br>\n",
        "\n",
        "**Examples**\n",
        "\n",
        "<br>\n",
        "\n",
        "Given the inputs in two lists as shown below:\n",
        "```\n",
        "[15, 7], [22, 11]\n",
        "```\n",
        "The function should output approximately 8.06 to 2.dp. Given the next inputs:\n",
        "\n",
        "```\n",
        "[0, 0], [0, 0]\n",
        "```\n",
        "The output should be 0. Finally, given the inputs:\n",
        "\n",
        "```\n",
        "[0, 0], [1, 1]\n",
        "```\n",
        "The function should output 1.41 to 2.dp.\n",
        "\n",
        "<br>\n"
      ]
    },
    {
      "cell_type": "code",
      "metadata": {
        "id": "9pfUANLR6xFn"
      },
      "source": [
        "# Your code attempt here.... you might need the line below though\n",
        "from math import *"
      ],
      "execution_count": null,
      "outputs": []
    },
    {
      "cell_type": "markdown",
      "metadata": {
        "id": "PfMW2QhZ6xFr"
      },
      "source": [
        "A solution can be found below...\n",
        "\n",
        "<br>\n",
        "...\n",
        "<br>\n",
        "...\n",
        "<br>\n",
        "...\n",
        "<br>\n",
        "...\n",
        "<br>\n",
        "...\n",
        "<br>\n",
        "...\n",
        "<br>\n",
        "...\n",
        "<br>\n",
        "...\n",
        "<br>\n",
        "...\n",
        "<br>\n",
        "...\n",
        "<br>\n",
        "...\n",
        "<br>\n",
        "...\n",
        "<br>\n",
        "...\n",
        "<br>\n",
        "...\n",
        "<br>\n",
        "...\n",
        "<br>\n",
        "...\n",
        "<br>\n",
        "...\n",
        "<br>\n",
        "...\n",
        "<br>\n",
        "...\n",
        "<br>\n",
        "...\n",
        "<br>\n",
        "...\n",
        "<br>\n",
        "...\n",
        "<br>\n",
        "...\n",
        "<br>\n",
        "...\n",
        "<br>\n",
        "Solution..."
      ]
    },
    {
      "cell_type": "code",
      "metadata": {
        "id": "HKfHJ2Zf6xFr"
      },
      "source": [
        "from math import *\n",
        "def line_length(pt1, pt2):\n",
        "\tx = pt1[0] - pt2[0]\n",
        "\ty = pt1[1] - pt2[1]\n",
        "\treturn round(sqrt(x**2+y**2),2)\n",
        "\n",
        "print(line_length([15, 7], [22, 11]))\n",
        "print(line_length([0, 0], [0, 0]))\n",
        "print(line_length([0, 0], [1, 1]))"
      ],
      "execution_count": null,
      "outputs": []
    },
    {
      "cell_type": "markdown",
      "metadata": {
        "id": "w8atumbh6yXW"
      },
      "source": [
        "### Activity 12\n",
        "\n",
        "<br>\n",
        "\n",
        "Popele often speed to reduce the length of time spent traveling. In long distance trips, speeding can in principle save some time. However, the same cannot be said of short distance trips. In the cell below, create a function that calculates the amount of time saved, if you were traveling with an average speed above the speed-limit, compared to traveling with an average speed exactly at the speed-limit.\n",
        "\n",
        "<br>\n",
        "\n",
        "The function should accept three parameters - the speed limit $l$, the average speed $a$ and the distance travelled at the average speed $d$. Here $d$ is measure in miles, and speed in miles per hour.\n",
        "\n",
        "<br>\n",
        "\n",
        "**Examples**\n",
        "\n",
        "<br>\n",
        "\n",
        "* For $l$ = 80, $a$ = 90, $d$ = 40 we save 3.3 minutes by speeding.\n",
        "* For $l$ = 80, $a$ = 90, $d$ = 4000 we save 333.33 minutes by speeding.\n",
        "* For $l$ = 80, $a$ = 100, $d$ = 40 we save 6.0 minutes by speeding.\n",
        "* For $l$ = 80, $a$ = 100, $d$ = 10 we save 1.5 minutes by speeding.\n",
        "\n",
        "<br>\n"
      ]
    },
    {
      "cell_type": "code",
      "metadata": {
        "id": "nLcrZLB_6yXX"
      },
      "source": [
        "# Your code attempt here."
      ],
      "execution_count": null,
      "outputs": []
    },
    {
      "cell_type": "markdown",
      "metadata": {
        "id": "EgYQxtzJ6yXZ"
      },
      "source": [
        "A solution can be found below...\n",
        "\n",
        "<br>\n",
        "...\n",
        "<br>\n",
        "...\n",
        "<br>\n",
        "...\n",
        "<br>\n",
        "...\n",
        "<br>\n",
        "...\n",
        "<br>\n",
        "...\n",
        "<br>\n",
        "...\n",
        "<br>\n",
        "...\n",
        "<br>\n",
        "...\n",
        "<br>\n",
        "...\n",
        "<br>\n",
        "...\n",
        "<br>\n",
        "...\n",
        "<br>\n",
        "...\n",
        "<br>\n",
        "...\n",
        "<br>\n",
        "...\n",
        "<br>\n",
        "...\n",
        "<br>\n",
        "...\n",
        "<br>\n",
        "...\n",
        "<br>\n",
        "...\n",
        "<br>\n",
        "...\n",
        "<br>\n",
        "...\n",
        "<br>\n",
        "...\n",
        "<br>\n",
        "...\n",
        "<br>\n",
        "...\n",
        "<br>\n",
        "Solution..."
      ]
    },
    {
      "cell_type": "code",
      "metadata": {
        "id": "wBW15sjr6yXa"
      },
      "source": [
        "def time_saved(l, a, d):\n",
        "    t1 = d / l\n",
        "    t2 = d / a\n",
        "    saved = (t1 - t2) * 60.\n",
        "    return round(saved, 1)\n",
        "\n",
        "print(time_saved(80, 90, 40))\n",
        "print(time_saved(80, 90, 4000))\n",
        "print(time_saved(80, 100, 40))\n",
        "print(time_saved(80, 100, 10))"
      ],
      "execution_count": null,
      "outputs": []
    }
  ]
}