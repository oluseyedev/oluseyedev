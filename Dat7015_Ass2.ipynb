{
  "cells": [
    {
      "cell_type": "markdown",
      "metadata": {
        "id": "view-in-github",
        "colab_type": "text"
      },
      "source": [
        "<a href=\"https://colab.research.google.com/github/oluseyedev/oluseyedev/blob/main/Dat7015_Ass2.ipynb\" target=\"_parent\"><img src=\"https://colab.research.google.com/assets/colab-badge.svg\" alt=\"Open In Colab\"/></a>"
      ]
    },
    {
      "cell_type": "code",
      "execution_count": 6,
      "metadata": {
        "colab": {
          "base_uri": "https://localhost:8080/"
        },
        "id": "6qTw1hOQs2L2",
        "outputId": "1b4cb56c-200e-4946-96b1-f5e4675eef4b"
      },
      "outputs": [
        {
          "output_type": "stream",
          "name": "stdout",
          "text": [
            "Mounted at /content/drive/\n"
          ]
        }
      ],
      "source": [
        "from google.colab import drive\n",
        "drive.mount('/content/drive/')\n"
      ]
    },
    {
      "cell_type": "code",
      "source": [
        "!pip install -q keras"
      ],
      "metadata": {
        "id": "tPGENFBNwXX8"
      },
      "execution_count": 7,
      "outputs": []
    },
    {
      "cell_type": "code",
      "source": [
        "import keras"
      ],
      "metadata": {
        "id": "rviuJmS5welj"
      },
      "execution_count": 8,
      "outputs": []
    },
    {
      "cell_type": "code",
      "source": [
        "!apt-get install openjdk-8-jdk-headless -qq > /dev/null\n",
        "!wget -q http://archive.apache.org/dist/spark/spark-3.1.1/spark-3.1.1-bin-hadoop3.2.tgz\n",
        "!tar xf spark-3.1.1-bin-hadoop3.2.tgz\n",
        "!pip install -q findspark"
      ],
      "metadata": {
        "id": "nEzNP4qpw8Cm"
      },
      "execution_count": 9,
      "outputs": []
    },
    {
      "cell_type": "code",
      "source": [
        "import os\n",
        "os.environ[\"JAVA_HOME\"] = \"/usr/lib/jvm/java-8-openjdk-amd64\"\n",
        "os.environ[\"SPARK_HOME\"] = \"/content/spark-3.1.1-bin-hadoop3.2\""
      ],
      "metadata": {
        "id": "FZho0cuxxGO-"
      },
      "execution_count": 10,
      "outputs": []
    },
    {
      "cell_type": "code",
      "source": [
        "import findspark\n",
        "findspark.init()\n",
        "from pyspark.sql import SparkSession\n",
        "spark = SparkSession.builder.master(\"local[*]\").getOrCreate()\n",
        "spark.conf.set(\"spark.sql.repl.eagerEval.enabled\", True)\n",
        "# Property used to format output tables better\n",
        "spark"
      ],
      "metadata": {
        "colab": {
          "base_uri": "https://localhost:8080/",
          "height": 219
        },
        "id": "b7x-HL11xSIa",
        "outputId": "23ac7943-7bf4-47cc-ec99-cc3068bb1e8f"
      },
      "execution_count": 11,
      "outputs": [
        {
          "output_type": "execute_result",
          "data": {
            "text/plain": [
              "<pyspark.sql.session.SparkSession at 0x79830bfb8700>"
            ],
            "text/html": [
              "\n",
              "            <div>\n",
              "                <p><b>SparkSession - in-memory</b></p>\n",
              "                \n",
              "        <div>\n",
              "            <p><b>SparkContext</b></p>\n",
              "\n",
              "            <p><a href=\"http://9d105c030b3a:4040\">Spark UI</a></p>\n",
              "\n",
              "            <dl>\n",
              "              <dt>Version</dt>\n",
              "                <dd><code>v3.1.1</code></dd>\n",
              "              <dt>Master</dt>\n",
              "                <dd><code>local[*]</code></dd>\n",
              "              <dt>AppName</dt>\n",
              "                <dd><code>pyspark-shell</code></dd>\n",
              "            </dl>\n",
              "        </div>\n",
              "        \n",
              "            </div>\n",
              "        "
            ]
          },
          "metadata": {},
          "execution_count": 11
        }
      ]
    },
    {
      "cell_type": "code",
      "source": [
        "!pip install pandas scikit-learn"
      ],
      "metadata": {
        "colab": {
          "base_uri": "https://localhost:8080/"
        },
        "id": "zoW-3jOtxmXU",
        "outputId": "be54eb7c-6983-4a4c-9870-2735b460388d"
      },
      "execution_count": 12,
      "outputs": [
        {
          "output_type": "stream",
          "name": "stdout",
          "text": [
            "Requirement already satisfied: pandas in /usr/local/lib/python3.10/dist-packages (1.5.3)\n",
            "Requirement already satisfied: scikit-learn in /usr/local/lib/python3.10/dist-packages (1.2.2)\n",
            "Requirement already satisfied: python-dateutil>=2.8.1 in /usr/local/lib/python3.10/dist-packages (from pandas) (2.8.2)\n",
            "Requirement already satisfied: pytz>=2020.1 in /usr/local/lib/python3.10/dist-packages (from pandas) (2023.3.post1)\n",
            "Requirement already satisfied: numpy>=1.21.0 in /usr/local/lib/python3.10/dist-packages (from pandas) (1.23.5)\n",
            "Requirement already satisfied: scipy>=1.3.2 in /usr/local/lib/python3.10/dist-packages (from scikit-learn) (1.11.4)\n",
            "Requirement already satisfied: joblib>=1.1.1 in /usr/local/lib/python3.10/dist-packages (from scikit-learn) (1.3.2)\n",
            "Requirement already satisfied: threadpoolctl>=2.0.0 in /usr/local/lib/python3.10/dist-packages (from scikit-learn) (3.2.0)\n",
            "Requirement already satisfied: six>=1.5 in /usr/local/lib/python3.10/dist-packages (from python-dateutil>=2.8.1->pandas) (1.16.0)\n"
          ]
        }
      ]
    },
    {
      "cell_type": "code",
      "source": [
        "# import libraries\n",
        "!pip install matplotlib-venn\n",
        "from sklearn.impute import SimpleImputer\n",
        "from pyspark.sql.functions import *\n",
        "from pyspark.sql import SparkSession\n",
        "import pandas as pd\n",
        "import numpy as np\n",
        "import seaborn as sns\n",
        "from matplotlib import style\n",
        "style.use('ggplot')\n",
        "from pyspark.ml.stat import Correlation\n",
        "from sklearn.ensemble import RandomForestClassifier\n",
        "from sklearn.tree import DecisionTreeClassifier\n",
        "from sklearn.metrics import *\n",
        "from sklearn.model_selection import train_test_split\n",
        "import pyspark\n",
        "from pyspark.sql.types import *"
      ],
      "metadata": {
        "colab": {
          "base_uri": "https://localhost:8080/"
        },
        "id": "KuVc7og_xwuI",
        "outputId": "69bc046a-6866-4e45-a8e4-0c463cb9c2b5"
      },
      "execution_count": 13,
      "outputs": [
        {
          "output_type": "stream",
          "name": "stdout",
          "text": [
            "Requirement already satisfied: matplotlib-venn in /usr/local/lib/python3.10/dist-packages (0.11.9)\n",
            "Requirement already satisfied: matplotlib in /usr/local/lib/python3.10/dist-packages (from matplotlib-venn) (3.7.1)\n",
            "Requirement already satisfied: numpy in /usr/local/lib/python3.10/dist-packages (from matplotlib-venn) (1.23.5)\n",
            "Requirement already satisfied: scipy in /usr/local/lib/python3.10/dist-packages (from matplotlib-venn) (1.11.4)\n",
            "Requirement already satisfied: contourpy>=1.0.1 in /usr/local/lib/python3.10/dist-packages (from matplotlib->matplotlib-venn) (1.2.0)\n",
            "Requirement already satisfied: cycler>=0.10 in /usr/local/lib/python3.10/dist-packages (from matplotlib->matplotlib-venn) (0.12.1)\n",
            "Requirement already satisfied: fonttools>=4.22.0 in /usr/local/lib/python3.10/dist-packages (from matplotlib->matplotlib-venn) (4.47.0)\n",
            "Requirement already satisfied: kiwisolver>=1.0.1 in /usr/local/lib/python3.10/dist-packages (from matplotlib->matplotlib-venn) (1.4.5)\n",
            "Requirement already satisfied: packaging>=20.0 in /usr/local/lib/python3.10/dist-packages (from matplotlib->matplotlib-venn) (23.2)\n",
            "Requirement already satisfied: pillow>=6.2.0 in /usr/local/lib/python3.10/dist-packages (from matplotlib->matplotlib-venn) (9.4.0)\n",
            "Requirement already satisfied: pyparsing>=2.3.1 in /usr/local/lib/python3.10/dist-packages (from matplotlib->matplotlib-venn) (3.1.1)\n",
            "Requirement already satisfied: python-dateutil>=2.7 in /usr/local/lib/python3.10/dist-packages (from matplotlib->matplotlib-venn) (2.8.2)\n",
            "Requirement already satisfied: six>=1.5 in /usr/local/lib/python3.10/dist-packages (from python-dateutil>=2.7->matplotlib->matplotlib-venn) (1.16.0)\n"
          ]
        }
      ]
    },
    {
      "cell_type": "code",
      "source": [
        "!pip install pyexcel pyexcel-ods pyexcel-ods3 pyexcel-odsr pyexcel-io"
      ],
      "metadata": {
        "colab": {
          "base_uri": "https://localhost:8080/"
        },
        "id": "GM3N-4jZzcdG",
        "outputId": "57d6990e-6c5b-437d-fbd7-e01e464fde50"
      },
      "execution_count": 14,
      "outputs": [
        {
          "output_type": "stream",
          "name": "stdout",
          "text": [
            "Collecting pyexcel\n",
            "  Downloading pyexcel-0.7.0-py2.py3-none-any.whl (87 kB)\n",
            "\u001b[?25l     \u001b[90m━━━━━━━━━━━━━━━━━━━━━━━━━━━━━━━━━━━━━━━━\u001b[0m \u001b[32m0.0/87.7 kB\u001b[0m \u001b[31m?\u001b[0m eta \u001b[36m-:--:--\u001b[0m\r\u001b[2K     \u001b[91m━━━━━━━━━━━━━━━━━━━━━━━━━━━━━━━━━━━━━\u001b[0m\u001b[90m╺\u001b[0m\u001b[90m━━\u001b[0m \u001b[32m81.9/87.7 kB\u001b[0m \u001b[31m2.3 MB/s\u001b[0m eta \u001b[36m0:00:01\u001b[0m\r\u001b[2K     \u001b[90m━━━━━━━━━━━━━━━━━━━━━━━━━━━━━━━━━━━━━━━━\u001b[0m \u001b[32m87.7/87.7 kB\u001b[0m \u001b[31m2.0 MB/s\u001b[0m eta \u001b[36m0:00:00\u001b[0m\n",
            "\u001b[?25hCollecting pyexcel-ods\n",
            "  Downloading pyexcel_ods-0.6.0-py2.py3-none-any.whl (10 kB)\n",
            "Collecting pyexcel-ods3\n",
            "  Downloading pyexcel_ods3-0.6.1-py3-none-any.whl (9.8 kB)\n",
            "Collecting pyexcel-odsr\n",
            "  Downloading pyexcel_odsr-0.6.0-py2.py3-none-any.whl (11 kB)\n",
            "Collecting pyexcel-io\n",
            "  Downloading pyexcel_io-0.6.6-py2.py3-none-any.whl (44 kB)\n",
            "\u001b[2K     \u001b[90m━━━━━━━━━━━━━━━━━━━━━━━━━━━━━━━━━━━━━━━━\u001b[0m \u001b[32m44.2/44.2 kB\u001b[0m \u001b[31m4.4 MB/s\u001b[0m eta \u001b[36m0:00:00\u001b[0m\n",
            "\u001b[?25hRequirement already satisfied: chardet in /usr/local/lib/python3.10/dist-packages (from pyexcel) (5.2.0)\n",
            "Collecting lml>=0.0.4 (from pyexcel)\n",
            "  Downloading lml-0.1.0-py2.py3-none-any.whl (10 kB)\n",
            "Collecting texttable>=0.8.2 (from pyexcel)\n",
            "  Downloading texttable-1.7.0-py2.py3-none-any.whl (10 kB)\n",
            "Collecting odfpy>=1.3.5 (from pyexcel-ods)\n",
            "  Downloading odfpy-1.4.1.tar.gz (717 kB)\n",
            "\u001b[2K     \u001b[90m━━━━━━━━━━━━━━━━━━━━━━━━━━━━━━━━━━━━━━━━\u001b[0m \u001b[32m717.0/717.0 kB\u001b[0m \u001b[31m8.2 MB/s\u001b[0m eta \u001b[36m0:00:00\u001b[0m\n",
            "\u001b[?25h  Preparing metadata (setup.py) ... \u001b[?25l\u001b[?25hdone\n",
            "Requirement already satisfied: lxml in /usr/local/lib/python3.10/dist-packages (from pyexcel-ods3) (4.9.4)\n",
            "Collecting pyexcel-ezodf>=0.3.3 (from pyexcel-ods3)\n",
            "  Downloading pyexcel_ezodf-0.3.4-py2.py3-none-any.whl (53 kB)\n",
            "\u001b[2K     \u001b[90m━━━━━━━━━━━━━━━━━━━━━━━━━━━━━━━━━━━━━━━━\u001b[0m \u001b[32m53.9/53.9 kB\u001b[0m \u001b[31m6.4 MB/s\u001b[0m eta \u001b[36m0:00:00\u001b[0m\n",
            "\u001b[?25hRequirement already satisfied: defusedxml in /usr/local/lib/python3.10/dist-packages (from odfpy>=1.3.5->pyexcel-ods) (0.7.1)\n",
            "Building wheels for collected packages: odfpy\n",
            "  Building wheel for odfpy (setup.py) ... \u001b[?25l\u001b[?25hdone\n",
            "  Created wheel for odfpy: filename=odfpy-1.4.1-py2.py3-none-any.whl size=160673 sha256=4ecbe5da3a553f4d0b385e7331193247235ee26022b7497b5ab5bc8e114e33d0\n",
            "  Stored in directory: /root/.cache/pip/wheels/c8/2e/95/90d94fe33903786937f3b8c33dd88807f792359c6424b40469\n",
            "Successfully built odfpy\n",
            "Installing collected packages: texttable, lml, pyexcel-io, pyexcel-ezodf, odfpy, pyexcel-odsr, pyexcel-ods3, pyexcel-ods, pyexcel\n",
            "Successfully installed lml-0.1.0 odfpy-1.4.1 pyexcel-0.7.0 pyexcel-ezodf-0.3.4 pyexcel-io-0.6.6 pyexcel-ods-0.6.0 pyexcel-ods3-0.6.1 pyexcel-odsr-0.6.0 texttable-1.7.0\n"
          ]
        }
      ]
    },
    {
      "cell_type": "code",
      "source": [
        "# Create a Spark session\n",
        "spark = SparkSession.builder.appName('crime_analysis').getOrCreate()"
      ],
      "metadata": {
        "id": "OLXYPZmqz1-T"
      },
      "execution_count": 15,
      "outputs": []
    },
    {
      "cell_type": "code",
      "execution_count": 16,
      "metadata": {
        "id": "oEFklfz0s2L5"
      },
      "outputs": [],
      "source": [
        "# Load excel datasets into pandas dataframes\n",
        "ref = pd.read_excel('/content/drive/MyDrive/Colab Notebooks/Big Data Assignment2/Assignment2/excel file/reccrime-offence-ref.xlsx')\n",
        "tables = pd.read_excel('/content/drive/MyDrive/Colab Notebooks/Big Data Assignment2/Assignment2/excel file/prc-pfa-mar2013-onwards-tables.xlsx', sheet_name=None)"
      ]
    },
    {
      "cell_type": "code",
      "source": [
        "from google.colab import drive\n",
        "drive.mount('/content/drive')"
      ],
      "metadata": {
        "colab": {
          "base_uri": "https://localhost:8080/"
        },
        "id": "LIMpEUMy0dJG",
        "outputId": "b4fedab7-b6f7-4382-acb7-4a2ef0e039be"
      },
      "execution_count": 17,
      "outputs": [
        {
          "output_type": "stream",
          "name": "stdout",
          "text": [
            "Drive already mounted at /content/drive; to attempt to forcibly remount, call drive.mount(\"/content/drive\", force_remount=True).\n"
          ]
        }
      ]
    },
    {
      "cell_type": "code",
      "execution_count": 18,
      "metadata": {
        "id": "LS-6y73Is2L6"
      },
      "outputs": [],
      "source": [
        "# Select the table of interest and create a dataframe\n",
        "yr_2018_19 = tables['2018-19']\n",
        "yr_2019_20 = tables['2019-20']\n",
        "yr_2020_21 = tables['2020-21']\n",
        "yr_2021_22 = tables['2021-22']\n",
        "yr_2022_23 = tables['2022-23']\n",
        "yr_2023_24 = tables['2023-24']"
      ]
    },
    {
      "cell_type": "code",
      "source": [
        "# create a schema for the PySpark DataFrame\n",
        "schema = StructType([\n",
        "StructField(\"Offence Code\", StringType(), True),\n",
        "StructField(\"Offence description\", StringType(), True),\n",
        "StructField(\"Old PRC offence group\", StringType(), True),\n",
        "StructField(\"Old offence sub-group\", StringType(), True),\n",
        "StructField(\"New ONS offence group\", StringType(), True),\n",
        "StructField(\"New ONS sub-offence group\", StringType(), True),\n",
        "])\n",
        "\n"
      ],
      "metadata": {
        "id": "VffTb7Gq6mMd"
      },
      "execution_count": 19,
      "outputs": []
    },
    {
      "cell_type": "code",
      "source": [
        "offence_ref = ref"
      ],
      "metadata": {
        "id": "UEnCva5JVCAA"
      },
      "execution_count": 20,
      "outputs": []
    },
    {
      "cell_type": "code",
      "source": [
        "\n",
        "# create a PySpark DataFrame from the pandas DataFrame using the schema\n",
        "ref = spark.createDataFrame(ref, schema=schema)\n",
        "# show the content of the ref DataFrame\n",
        "ref.show()"
      ],
      "metadata": {
        "colab": {
          "base_uri": "https://localhost:8080/"
        },
        "id": "kSJD0wYDY509",
        "outputId": "e072bc7b-43c9-43a1-bdeb-1432bfeae72e"
      },
      "execution_count": 23,
      "outputs": [
        {
          "output_type": "stream",
          "name": "stdout",
          "text": [
            "+--------------+--------------------+---------------------+---------------------+---------------------+-------------------------+\n",
            "|  Offence Code| Offence description|Old PRC offence group|Old offence sub-group|New ONS offence group|New ONS sub-offence group|\n",
            "+--------------+--------------------+---------------------+---------------------+---------------------+-------------------------+\n",
            "|             1|              Murder| Violence against ...| Violence against ...| Violence against ...|                 Homicide|\n",
            "|     1/4.1/4.2|            Homicide| Violence against ...| Violence against ...| Violence against ...|                 Homicide|\n",
            "|1/4.1/4.2/4.10|            Homicide| Violence against ...| Violence against ...| Violence against ...|                 Homicide|\n",
            "|           104|Assault without i...| Violence against ...| Violence against ...| Violence against ...|     Violence without ...|\n",
            "|          105A|Assault without i...| Violence against ...| Violence against ...| Violence against ...|     Violence without ...|\n",
            "|          105B|Racially or relig...| Violence against ...| Violence against ...| Violence against ...|     Violence without ...|\n",
            "|          106*|      Modern Slavery|                  NaN|                  NaN| Violence against ...|     Violence without ...|\n",
            "|           10A|Possession of fir...| Violence against ...| Violence against ...| Possession of wea...|     Possession of wea...|\n",
            "|           10B|Possession of fir...| Other miscellaneo...|                  NaN| Possession of wea...|     Possession of wea...|\n",
            "|           10C|Possession of oth...| Violence against ...| Violence against ...| Possession of wea...|     Possession of wea...|\n",
            "|           10D|Possession of art...| Violence against ...| Violence against ...| Possession of wea...|     Possession of wea...|\n",
            "|            11|Cruelty to and ne...| Violence against ...| Violence against ...| Violence against ...|     Violence without ...|\n",
            "|           11A|Cruelty to childr...| Violence against ...| Violence against ...| Violence against ...|     Violence without ...|\n",
            "|            12|Abandoning child ...| Violence against ...| Violence against ...| Violence against ...|     Violence without ...|\n",
            "|           126|Interfering with ...| Offences against ...|                  NaN|       Theft offences|         Vehicle offences|\n",
            "|            13|     Child abduction| Violence against ...| Violence against ...| Violence against ...|     Violence without ...|\n",
            "|           139|   Indecent exposure|      Sexual offences| Other sexual offe...|      Sexual offences|     Other sexual offe...|\n",
            "|            14|Procuring illegal...| Violence against ...| Violence against ...| Violence against ...|     Violence without ...|\n",
            "|            15|Concealing an inf...| Other miscellaneo...|                  NaN| Miscellaneous cri...|     Miscellaneous cri...|\n",
            "|            16|             Buggery|      Sexual offences| Other sexual offe...|      Sexual offences|     Other sexual offe...|\n",
            "+--------------+--------------------+---------------------+---------------------+---------------------+-------------------------+\n",
            "only showing top 20 rows\n",
            "\n"
          ]
        }
      ]
    },
    {
      "cell_type": "code",
      "execution_count": 24,
      "metadata": {
        "colab": {
          "base_uri": "https://localhost:8080/"
        },
        "id": "uR_j_vQ-s2L6",
        "outputId": "6abbbb1a-ed09-41e2-a92b-c736466b953d"
      },
      "outputs": [
        {
          "output_type": "stream",
          "name": "stderr",
          "text": [
            "/content/spark-3.1.1-bin-hadoop3.2/python/pyspark/sql/pandas/conversion.py:331: FutureWarning: iteritems is deprecated and will be removed in a future version. Use .items instead.\n",
            "  for column, series in pdf.iteritems():\n"
          ]
        }
      ],
      "source": [
        "# Convert table file  and offence_ref_file to pyspark dataframe\n",
        "df_2018_19 = spark.createDataFrame(yr_2018_19)\n",
        "df_2019_20 = spark.createDataFrame(yr_2019_20)\n",
        "df_2020_21 = spark.createDataFrame(yr_2020_21)\n",
        "df_2021_22 = spark.createDataFrame(yr_2021_22)\n",
        "df_2022_23 = spark.createDataFrame(yr_2022_23)\n",
        "df_2023_24 = spark.createDataFrame(yr_2023_24)"
      ]
    },
    {
      "cell_type": "code",
      "execution_count": 25,
      "metadata": {
        "id": "PzxTcafSs2L7"
      },
      "outputs": [],
      "source": [
        "# Create temporary views of the dataframes\n",
        "df_2018_19.createOrReplaceTempView('df_2018_19')\n",
        "df_2019_20.createOrReplaceTempView('df_2019_20')\n",
        "df_2020_21.createOrReplaceTempView('df_2020_21')\n",
        "df_2021_22.createOrReplaceTempView('df_2021_22')\n",
        "df_2022_23.createOrReplaceTempView('df_2022_23')\n",
        "df_2023_24.createOrReplaceTempView('df_2023_24')\n",
        "\n",
        "\n"
      ]
    },
    {
      "cell_type": "code",
      "source": [
        "ref.head()"
      ],
      "metadata": {
        "colab": {
          "base_uri": "https://localhost:8080/"
        },
        "id": "3MPzi71KTtfd",
        "outputId": "c331d72f-ee0c-43cc-f478-3251df8d4463"
      },
      "execution_count": 26,
      "outputs": [
        {
          "output_type": "execute_result",
          "data": {
            "text/plain": [
              "Row(Offence Code='1', Offence description='Murder', Old PRC offence group='Violence against the person', Old offence sub-group='Violence against the person - with injury', New ONS offence group='Violence against the person', New ONS sub-offence group='Homicide')"
            ]
          },
          "metadata": {},
          "execution_count": 26
        }
      ]
    },
    {
      "cell_type": "code",
      "source": [
        "# Write sql queries to join tables\n",
        "query_1 = \"\"\"\n",
        "                SELECT * FROM df_2018_19\n",
        "                UNION\n",
        "                SELECT * FROM df_2019_20\n",
        "                UNION\n",
        "                SELECT * FROM df_2020_21\n",
        "                UNION\n",
        "                SELECT * FROM df_2021_22\n",
        "                UNION\n",
        "                SELECT * FROM df_2022_23\n",
        "                UNION\n",
        "                SELECT * FROM df_2023_24\n",
        "\"\"\"\n"
      ],
      "metadata": {
        "id": "OzoFgT-G-bqp"
      },
      "execution_count": 27,
      "outputs": []
    },
    {
      "cell_type": "code",
      "source": [
        "# Load query and return dataframe\n",
        "offence_df = spark.sql(query_1)"
      ],
      "metadata": {
        "id": "F8VYKeDf-Wn_"
      },
      "execution_count": 28,
      "outputs": []
    },
    {
      "cell_type": "code",
      "source": [
        "print(offence_df.count())"
      ],
      "metadata": {
        "colab": {
          "base_uri": "https://localhost:8080/"
        },
        "id": "Y5lnKQowG6hP",
        "outputId": "7cf683c3-4835-4dbf-eb47-d7e196229ae3"
      },
      "execution_count": 29,
      "outputs": [
        {
          "output_type": "stream",
          "name": "stdout",
          "text": [
            "124193\n"
          ]
        }
      ]
    },
    {
      "cell_type": "code",
      "source": [
        "print(offence_ref.count())"
      ],
      "metadata": {
        "colab": {
          "base_uri": "https://localhost:8080/"
        },
        "id": "gT5HTTNGdInx",
        "outputId": "0a82dc2e-f92b-4ae1-bff5-a395f88a21ba"
      },
      "execution_count": 30,
      "outputs": [
        {
          "output_type": "stream",
          "name": "stdout",
          "text": [
            "Offence Code                 197\n",
            "Offence description          196\n",
            "Old PRC offence group        191\n",
            "Old offence sub-group        106\n",
            "New ONS offence group        196\n",
            "New ONS sub-offence group    196\n",
            "dtype: int64\n"
          ]
        }
      ]
    },
    {
      "cell_type": "code",
      "source": [
        "# Rename col to remove white space\n",
        "rename_cols = {\n",
        "                'Financial Year': 'Financial_Year',\n",
        "                'Financial Quarter':'Financial_Quarter',\n",
        "                'Force Name':'Force_Name',\n",
        "                'Offence Description':'Offence_Description',\n",
        "                'Offence Group':'Offence_Group',\n",
        "                'Offence Subgroup':'Offence_Subgroup',\n",
        "                'Offence Code':'Offence_Code',\n",
        "                'Number of Offences':'Number_of_Offences',\n",
        "                'Old PRC offence group': 'Old_PRC_offence_group',\n",
        "                'Old offence sub-group': 'Old_offence_sub-group',\n",
        "                'New ONS offence group': 'New_ONS_offence_group',\n",
        "                'New ONS sub-offence group': 'New_ONS_sub_offence_group'\n",
        "}\n"
      ],
      "metadata": {
        "id": "WeSCsLTN-qjK"
      },
      "execution_count": 32,
      "outputs": []
    },
    {
      "cell_type": "code",
      "source": [
        "print(offence_df.count())"
      ],
      "metadata": {
        "colab": {
          "base_uri": "https://localhost:8080/"
        },
        "id": "0gKf-RZWKMII",
        "outputId": "77cf7dd1-eae0-4b42-9271-d74dbeaf3420"
      },
      "execution_count": 33,
      "outputs": [
        {
          "output_type": "stream",
          "name": "stdout",
          "text": [
            "124193\n"
          ]
        }
      ]
    },
    {
      "cell_type": "code",
      "source": [
        "offence_df.head()"
      ],
      "metadata": {
        "colab": {
          "base_uri": "https://localhost:8080/"
        },
        "id": "YNPZwVFrKRlz",
        "outputId": "4ed23d17-1f1a-4524-8af3-6570236dc062"
      },
      "execution_count": 34,
      "outputs": [
        {
          "output_type": "execute_result",
          "data": {
            "text/plain": [
              "Row(Financial Year='2018/19', Financial Quarter=1, Force Name='Cheshire', Offence Description='Wildlife', Offence Group='Miscellaneous crimes against society', Offence Subgroup='Miscellaneous crimes against society', Offence Code='96', Number of Offences=1)"
            ]
          },
          "metadata": {},
          "execution_count": 34
        }
      ]
    },
    {
      "cell_type": "code",
      "source": [
        "offence_df.drop('is_null')"
      ],
      "metadata": {
        "colab": {
          "base_uri": "https://localhost:8080/",
          "height": 879
        },
        "id": "v46HJ_x7KxXc",
        "outputId": "0c8ac76c-27cb-47b9-f0be-5e06f7acdb8a"
      },
      "execution_count": 35,
      "outputs": [
        {
          "output_type": "execute_result",
          "data": {
            "text/plain": [
              "+--------------+-----------------+------------------+--------------------+--------------------+--------------------+------------+------------------+\n",
              "|Financial Year|Financial Quarter|        Force Name| Offence Description|       Offence Group|    Offence Subgroup|Offence Code|Number of Offences|\n",
              "+--------------+-----------------+------------------+--------------------+--------------------+--------------------+------------+------------------+\n",
              "|       2018/19|                1|          Cheshire|            Wildlife|Miscellaneous cri...|Miscellaneous cri...|          96|                 1|\n",
              "|       2018/19|                1|           Cumbria|Possession of con...|       Drug offences| Possession of drugs|         92E|               122|\n",
              "|       2018/19|                1|Devon and Cornwall|Sexual assault on...|     Sexual offences|Other sexual offe...|         20A|               286|\n",
              "|       2018/19|                1|            Durham|    Endangering life|Violence against ...|Violence with injury|          5E|                 1|\n",
              "|       2018/19|                1|       Dyfed-Powys|Possession of art...|Possession of wea...|Possession of wea...|         10D|                32|\n",
              "|       2018/19|                1|             Essex|              Bigamy|Miscellaneous cri...|Miscellaneous cri...|          26|                 0|\n",
              "|       2018/19|                1|         Hampshire|Abuse of children...|     Sexual offences|Other sexual offe...|          71|                 7|\n",
              "|       2018/19|                1|     Hertfordshire|    Attempted murder|Violence against ...|Violence with injury|           2|                 2|\n",
              "|       2018/19|                1|     Hertfordshire|Burglary Residential|      Theft offences|   Domestic burglary|         28E|               868|\n",
              "|       2018/19|                1|     Hertfordshire|Conspiracy to murder|Violence against ...|Violence without ...|          3A|                 1|\n",
              "|       2018/19|                1|        Humberside|Other criminal da...|Criminal damage a...|     Criminal damage|         58D|               821|\n",
              "|       2018/19|                1|        Humberside|Public fear, alar...|Public order offe...|Public order offe...|          9A|              1614|\n",
              "|       2018/19|                1|        Lancashire|       Other forgery|Miscellaneous cri...|Miscellaneous cri...|          61|                35|\n",
              "|       2018/19|                1|      Lincolnshire|Criminal damage t...|Criminal damage a...|     Criminal damage|         58B|               187|\n",
              "|       2018/19|                1|      Lincolnshire|     Sexual grooming|     Sexual offences|Other sexual offe...|         88A|                21|\n",
              "|       2018/19|                1|        Merseyside|Forgery or use of...|Miscellaneous cri...|Miscellaneous cri...|          60|                 5|\n",
              "|       2018/19|                1|        Merseyside|Possession of fir...|Possession of wea...|Possession of wea...|         10B|                23|\n",
              "|       2018/19|                1|           Norfolk|Possession of con...|       Drug offences| Possession of drugs|         92D|               130|\n",
              "|       2018/19|                1|       North Wales|Abuse of position...|     Sexual offences|Other sexual offe...|          73|                 0|\n",
              "|       2018/19|                1|  Northamptonshire|Interfering with ...|      Theft offences|Vehicle interference|         126|               298|\n",
              "+--------------+-----------------+------------------+--------------------+--------------------+--------------------+------------+------------------+\n",
              "only showing top 20 rows"
            ],
            "text/html": [
              "<table border='1'>\n",
              "<tr><th>Financial Year</th><th>Financial Quarter</th><th>Force Name</th><th>Offence Description</th><th>Offence Group</th><th>Offence Subgroup</th><th>Offence Code</th><th>Number of Offences</th></tr>\n",
              "<tr><td>2018/19</td><td>1</td><td>Cheshire</td><td>Wildlife</td><td>Miscellaneous cri...</td><td>Miscellaneous cri...</td><td>96</td><td>1</td></tr>\n",
              "<tr><td>2018/19</td><td>1</td><td>Cumbria</td><td>Possession of con...</td><td>Drug offences</td><td>Possession of drugs</td><td>92E</td><td>122</td></tr>\n",
              "<tr><td>2018/19</td><td>1</td><td>Devon and Cornwall</td><td>Sexual assault on...</td><td>Sexual offences</td><td>Other sexual offe...</td><td>20A</td><td>286</td></tr>\n",
              "<tr><td>2018/19</td><td>1</td><td>Durham</td><td>Endangering life</td><td>Violence against ...</td><td>Violence with injury</td><td>5E</td><td>1</td></tr>\n",
              "<tr><td>2018/19</td><td>1</td><td>Dyfed-Powys</td><td>Possession of art...</td><td>Possession of wea...</td><td>Possession of wea...</td><td>10D</td><td>32</td></tr>\n",
              "<tr><td>2018/19</td><td>1</td><td>Essex</td><td>Bigamy</td><td>Miscellaneous cri...</td><td>Miscellaneous cri...</td><td>26</td><td>0</td></tr>\n",
              "<tr><td>2018/19</td><td>1</td><td>Hampshire</td><td>Abuse of children...</td><td>Sexual offences</td><td>Other sexual offe...</td><td>71</td><td>7</td></tr>\n",
              "<tr><td>2018/19</td><td>1</td><td>Hertfordshire</td><td>Attempted murder</td><td>Violence against ...</td><td>Violence with injury</td><td>2</td><td>2</td></tr>\n",
              "<tr><td>2018/19</td><td>1</td><td>Hertfordshire</td><td>Burglary Residential</td><td>Theft offences</td><td>Domestic burglary</td><td>28E</td><td>868</td></tr>\n",
              "<tr><td>2018/19</td><td>1</td><td>Hertfordshire</td><td>Conspiracy to murder</td><td>Violence against ...</td><td>Violence without ...</td><td>3A</td><td>1</td></tr>\n",
              "<tr><td>2018/19</td><td>1</td><td>Humberside</td><td>Other criminal da...</td><td>Criminal damage a...</td><td>Criminal damage</td><td>58D</td><td>821</td></tr>\n",
              "<tr><td>2018/19</td><td>1</td><td>Humberside</td><td>Public fear, alar...</td><td>Public order offe...</td><td>Public order offe...</td><td>9A</td><td>1614</td></tr>\n",
              "<tr><td>2018/19</td><td>1</td><td>Lancashire</td><td>Other forgery</td><td>Miscellaneous cri...</td><td>Miscellaneous cri...</td><td>61</td><td>35</td></tr>\n",
              "<tr><td>2018/19</td><td>1</td><td>Lincolnshire</td><td>Criminal damage t...</td><td>Criminal damage a...</td><td>Criminal damage</td><td>58B</td><td>187</td></tr>\n",
              "<tr><td>2018/19</td><td>1</td><td>Lincolnshire</td><td>Sexual grooming</td><td>Sexual offences</td><td>Other sexual offe...</td><td>88A</td><td>21</td></tr>\n",
              "<tr><td>2018/19</td><td>1</td><td>Merseyside</td><td>Forgery or use of...</td><td>Miscellaneous cri...</td><td>Miscellaneous cri...</td><td>60</td><td>5</td></tr>\n",
              "<tr><td>2018/19</td><td>1</td><td>Merseyside</td><td>Possession of fir...</td><td>Possession of wea...</td><td>Possession of wea...</td><td>10B</td><td>23</td></tr>\n",
              "<tr><td>2018/19</td><td>1</td><td>Norfolk</td><td>Possession of con...</td><td>Drug offences</td><td>Possession of drugs</td><td>92D</td><td>130</td></tr>\n",
              "<tr><td>2018/19</td><td>1</td><td>North Wales</td><td>Abuse of position...</td><td>Sexual offences</td><td>Other sexual offe...</td><td>73</td><td>0</td></tr>\n",
              "<tr><td>2018/19</td><td>1</td><td>Northamptonshire</td><td>Interfering with ...</td><td>Theft offences</td><td>Vehicle interference</td><td>126</td><td>298</td></tr>\n",
              "</table>\n",
              "only showing top 20 rows\n"
            ]
          },
          "metadata": {},
          "execution_count": 35
        }
      ]
    },
    {
      "cell_type": "code",
      "execution_count": 36,
      "metadata": {
        "colab": {
          "base_uri": "https://localhost:8080/"
        },
        "id": "hBpmHMJms2L7",
        "outputId": "7a06e21f-920b-48a5-dee3-78b8363a4694"
      },
      "outputs": [
        {
          "output_type": "stream",
          "name": "stdout",
          "text": [
            "198\n",
            "124193\n"
          ]
        }
      ],
      "source": [
        "\n",
        "# Loops through rename_cols and removes white space\n",
        "for old_name, new_name in rename_cols.items():\n",
        "    offence_df = offence_df.withColumnRenamed(old_name, new_name)\n",
        "    offence_ref = ref.withColumnRenamed(old_name, new_name)\n",
        "print(offence_ref.count())\n",
        "print(offence_df.count())"
      ]
    },
    {
      "cell_type": "code",
      "execution_count": 37,
      "metadata": {
        "id": "sgUp_W4ms2L7"
      },
      "outputs": [],
      "source": [
        "# Drop duplicates in offence_ref\n",
        "offence_ref = offence_ref.dropDuplicates()\n",
        "\n"
      ]
    },
    {
      "cell_type": "code",
      "source": [
        "print(offence_ref.count())"
      ],
      "metadata": {
        "colab": {
          "base_uri": "https://localhost:8080/"
        },
        "id": "gBI8rAokEUwG",
        "outputId": "a95507c1-b537-4199-e308-6345dc4cbcc8"
      },
      "execution_count": 38,
      "outputs": [
        {
          "output_type": "stream",
          "name": "stdout",
          "text": [
            "188\n"
          ]
        }
      ]
    },
    {
      "cell_type": "code",
      "source": [
        "offence_ref = offence_ref.withColumnRenamed('Offence Code', 'Offence_Code')"
      ],
      "metadata": {
        "id": "QY92oNcLhai1"
      },
      "execution_count": 39,
      "outputs": []
    },
    {
      "cell_type": "code",
      "source": [
        "# register the DataFrame as a temporary view\n",
        "offence_ref.createOrReplaceTempView('offence_ref')"
      ],
      "metadata": {
        "id": "eVpiISZahh7w"
      },
      "execution_count": 40,
      "outputs": []
    },
    {
      "cell_type": "code",
      "source": [
        "# Create temporary views of the dataframes\n",
        "offence_df.createOrReplaceTempView('offence_df')\n",
        "offence_ref.createOrReplaceTempView('offence_ref')\n",
        "\n"
      ],
      "metadata": {
        "id": "uFEW-Oya-8lU"
      },
      "execution_count": 41,
      "outputs": []
    },
    {
      "cell_type": "code",
      "source": [
        "offence_df.createOrReplaceTempView('offence_df')\n",
        "ref.createOrReplaceTempView('offence_ref')"
      ],
      "metadata": {
        "id": "B0DAR29MfSDu"
      },
      "execution_count": 42,
      "outputs": []
    },
    {
      "cell_type": "code",
      "source": [
        "# Write sql query to join tables\n",
        "query_2 = \"\"\"\n",
        "SELECT offence_df.*,\n",
        "offence_ref.`New ONS offence group`,\n",
        "offence_ref.`New ONS sub-offence group`,\n",
        "FROM offence_df\n",
        "INNER JOIN offence_ref\n",
        "ON offence_df.Offence_Code = offence_ref.Offence_Code;\n",
        "\"\"\"\n",
        "\n",
        "\n"
      ],
      "metadata": {
        "id": "bFWiDdKH-_sc"
      },
      "execution_count": 43,
      "outputs": []
    },
    {
      "cell_type": "code",
      "source": [
        "offence_df.head()"
      ],
      "metadata": {
        "colab": {
          "base_uri": "https://localhost:8080/"
        },
        "id": "EhcKDpJOlpBp",
        "outputId": "8e69f4ec-a293-4f57-a7b0-bf655e218cc9"
      },
      "execution_count": 44,
      "outputs": [
        {
          "output_type": "execute_result",
          "data": {
            "text/plain": [
              "Row(Financial_Year='2018/19', Financial_Quarter=1, Force_Name='Cheshire', Offence_Description='Wildlife', Offence_Group='Miscellaneous crimes against society', Offence_Subgroup='Miscellaneous crimes against society', Offence_Code='96', Number_of_Offences=1)"
            ]
          },
          "metadata": {},
          "execution_count": 44
        }
      ]
    },
    {
      "cell_type": "code",
      "source": [
        "offence_ref.head()"
      ],
      "metadata": {
        "colab": {
          "base_uri": "https://localhost:8080/"
        },
        "id": "7wDtjP3FlviJ",
        "outputId": "33b5f30e-bfdb-4394-8483-c2ce2bdd1177"
      },
      "execution_count": 45,
      "outputs": [
        {
          "output_type": "execute_result",
          "data": {
            "text/plain": [
              "Row(Offence_Code='90', Offence description='Other knives offences', Old PRC offence group='Other miscellaneous offences', Old offence sub-group='NaN', New ONS offence group='Possession of weapons offences', New_ONS_sub_offence_group='Possession of weapons offences')"
            ]
          },
          "metadata": {},
          "execution_count": 45
        }
      ]
    },
    {
      "cell_type": "code",
      "source": [
        "# show the values of the Offence_Code column in both tables\n",
        "offence_df.select('Offence_Code').show()\n",
        "offence_ref.select('Offence_Code').show()"
      ],
      "metadata": {
        "colab": {
          "base_uri": "https://localhost:8080/"
        },
        "id": "tsvyZ5LHmjle",
        "outputId": "c2648a9a-d833-466b-b7e5-c846ce4bac75"
      },
      "execution_count": 46,
      "outputs": [
        {
          "output_type": "stream",
          "name": "stdout",
          "text": [
            "+------------+\n",
            "|Offence_Code|\n",
            "+------------+\n",
            "|          96|\n",
            "|         92E|\n",
            "|         20A|\n",
            "|          5E|\n",
            "|         10D|\n",
            "|          26|\n",
            "|          71|\n",
            "|           2|\n",
            "|         28E|\n",
            "|          3A|\n",
            "|         58D|\n",
            "|          9A|\n",
            "|          61|\n",
            "|         58B|\n",
            "|         88A|\n",
            "|          60|\n",
            "|         10B|\n",
            "|         92D|\n",
            "|          73|\n",
            "|         126|\n",
            "+------------+\n",
            "only showing top 20 rows\n",
            "\n",
            "+------------+\n",
            "|Offence_Code|\n",
            "+------------+\n",
            "|          90|\n",
            "|         92A|\n",
            "|         58F|\n",
            "|          33|\n",
            "|         8Q*|\n",
            "|         10B|\n",
            "|          8G|\n",
            "|          5D|\n",
            "|          23|\n",
            "|          84|\n",
            "|         58B|\n",
            "|          22|\n",
            "|          46|\n",
            "|           7|\n",
            "|          8B|\n",
            "|         19C|\n",
            "|         58A|\n",
            "|          60|\n",
            "|          83|\n",
            "|         88B|\n",
            "+------------+\n",
            "only showing top 20 rows\n",
            "\n"
          ]
        }
      ]
    },
    {
      "cell_type": "code",
      "source": [
        "# join the tables using a LEFT JOIN\n",
        "joined_df = offence_df.join(offence_ref, 'Offence_Code', 'left')\n",
        "# check the number of rows after joining\n",
        "rows = joined_df.count()\n",
        "print(f'The number of rows after joining is: {rows}')"
      ],
      "metadata": {
        "colab": {
          "base_uri": "https://localhost:8080/"
        },
        "id": "NwX7eayS61kC",
        "outputId": "fcf12fd3-d9aa-4301-d652-7629f6cafbf8"
      },
      "execution_count": 47,
      "outputs": [
        {
          "output_type": "stream",
          "name": "stdout",
          "text": [
            "The number of rows after joining is: 124193\n"
          ]
        }
      ]
    },
    {
      "cell_type": "code",
      "source": [
        "# check the number of rows using the count function\n",
        "rows = joined_df.count()\n",
        "print(f'The number of rows after joining is: {rows}')"
      ],
      "metadata": {
        "colab": {
          "base_uri": "https://localhost:8080/"
        },
        "id": "zgSLowXsnioa",
        "outputId": "837e9f81-5ed4-4bd6-c914-1b295625f76a"
      },
      "execution_count": 48,
      "outputs": [
        {
          "output_type": "stream",
          "name": "stdout",
          "text": [
            "The number of rows after joining is: 124193\n"
          ]
        }
      ]
    },
    {
      "cell_type": "code",
      "source": [
        "# check the number of columns using the len function on the columns attribute\n",
        "cols = len(joined_df.columns)\n",
        "# print the results\n",
        "\n",
        "print(f'The number of columns after joining is: {cols}')"
      ],
      "metadata": {
        "colab": {
          "base_uri": "https://localhost:8080/"
        },
        "id": "rbjiheEsJzfF",
        "outputId": "4c11e1a9-a2df-40fa-d88d-bc4fc3e3000f"
      },
      "execution_count": 49,
      "outputs": [
        {
          "output_type": "stream",
          "name": "stdout",
          "text": [
            "The number of columns after joining is: 13\n"
          ]
        }
      ]
    },
    {
      "cell_type": "code",
      "source": [
        "# join the tables using a LEFT JOIN\n",
        "joined_df = offence_df.join(offence_ref, 'Offence_Code', 'left')\n",
        "# check the number of rows after joining\n",
        "rows = joined_df.count()\n",
        "print(f'The number of rows after joining is: {rows}')"
      ],
      "metadata": {
        "colab": {
          "base_uri": "https://localhost:8080/"
        },
        "id": "y0gTp6Q6ogQw",
        "outputId": "258b5c8e-8eeb-44a9-fcbd-cfe3dd2d509b"
      },
      "execution_count": 50,
      "outputs": [
        {
          "output_type": "stream",
          "name": "stdout",
          "text": [
            "The number of rows after joining is: 124193\n"
          ]
        }
      ]
    },
    {
      "cell_type": "code",
      "source": [
        "query_2 = joined_df\n"
      ],
      "metadata": {
        "id": "8dssk84vp5Pa"
      },
      "execution_count": 51,
      "outputs": []
    },
    {
      "cell_type": "code",
      "source": [
        "print(type(joined_df))"
      ],
      "metadata": {
        "colab": {
          "base_uri": "https://localhost:8080/"
        },
        "id": "VX_2dyjgvI4q",
        "outputId": "49f66d54-7c0c-4366-eff7-45e7ce25b8e6"
      },
      "execution_count": 52,
      "outputs": [
        {
          "output_type": "stream",
          "name": "stdout",
          "text": [
            "<class 'pyspark.sql.dataframe.DataFrame'>\n"
          ]
        }
      ]
    },
    {
      "cell_type": "code",
      "source": [
        "print(joined_df.count())"
      ],
      "metadata": {
        "colab": {
          "base_uri": "https://localhost:8080/"
        },
        "id": "i5NzVTokvgpL",
        "outputId": "1daa858c-d9fe-4d87-9e65-ccc0ed6f1c8d"
      },
      "execution_count": 53,
      "outputs": [
        {
          "output_type": "stream",
          "name": "stdout",
          "text": [
            "124193\n"
          ]
        }
      ]
    },
    {
      "cell_type": "code",
      "execution_count": 54,
      "metadata": {
        "colab": {
          "base_uri": "https://localhost:8080/"
        },
        "id": "da8_h5D0s2L8",
        "outputId": "88e8c792-3e11-4c42-d016-0f4c45d7dde0"
      },
      "outputs": [
        {
          "output_type": "stream",
          "name": "stdout",
          "text": [
            "root\n",
            " |-- Offence_Code: string (nullable = true)\n",
            " |-- Financial_Year: string (nullable = true)\n",
            " |-- Financial_Quarter: long (nullable = true)\n",
            " |-- Force_Name: string (nullable = true)\n",
            " |-- Offence_Description: string (nullable = true)\n",
            " |-- Offence_Group: string (nullable = true)\n",
            " |-- Offence_Subgroup: string (nullable = true)\n",
            " |-- Number_of_Offences: long (nullable = true)\n",
            " |-- Offence description: string (nullable = true)\n",
            " |-- Old PRC offence group: string (nullable = true)\n",
            " |-- Old offence sub-group: string (nullable = true)\n",
            " |-- New ONS offence group: string (nullable = true)\n",
            " |-- New_ONS_sub_offence_group: string (nullable = true)\n",
            "\n"
          ]
        }
      ],
      "source": [
        "# Print schema\n",
        "query_2.printSchema()"
      ]
    },
    {
      "cell_type": "code",
      "source": [
        "query_2.drop('Offence description','Old PRC offence group', 'Old offence sub-group')"
      ],
      "metadata": {
        "colab": {
          "base_uri": "https://localhost:8080/",
          "height": 933
        },
        "id": "D4dDvq3p70fB",
        "outputId": "97e0b649-dbda-419b-9386-8a8fc84cc542"
      },
      "execution_count": 55,
      "outputs": [
        {
          "output_type": "execute_result",
          "data": {
            "text/plain": [
              "+------------+--------------+-----------------+------------------+--------------------+---------------+--------------------+------------------+---------------------+-------------------------+\n",
              "|Offence_Code|Financial_Year|Financial_Quarter|        Force_Name| Offence_Description|  Offence_Group|    Offence_Subgroup|Number_of_Offences|New ONS offence group|New_ONS_sub_offence_group|\n",
              "+------------+--------------+-----------------+------------------+--------------------+---------------+--------------------+------------------+---------------------+-------------------------+\n",
              "|         17A|       2019/20|                3|           Norfolk|Sexual assault on...|Sexual offences|Other sexual offe...|                29|      Sexual offences|     Other sexual offe...|\n",
              "|         17A|       2019/20|                4|         Wiltshire|Sexual assault on...|Sexual offences|Other sexual offe...|                11|      Sexual offences|     Other sexual offe...|\n",
              "|         17A|       2021/22|                3|    Cambridgeshire|Sexual assault on...|Sexual offences|Other sexual offe...|                30|      Sexual offences|     Other sexual offe...|\n",
              "|         17A|       2018/19|                3|Greater Manchester|Sexual assault on...|Sexual offences|Other sexual offe...|                72|      Sexual offences|     Other sexual offe...|\n",
              "|         17A|       2018/19|                4|      Lincolnshire|Sexual assault on...|Sexual offences|Other sexual offe...|                11|      Sexual offences|     Other sexual offe...|\n",
              "|         17A|       2020/21|                2|      Warwickshire|Sexual assault on...|Sexual offences|Other sexual offe...|                15|      Sexual offences|     Other sexual offe...|\n",
              "|         17A|       2020/21|                3|         Wiltshire|Sexual assault on...|Sexual offences|Other sexual offe...|                 7|      Sexual offences|     Other sexual offe...|\n",
              "|         17A|       2020/21|                4|            Dorset|Sexual assault on...|Sexual offences|Other sexual offe...|                15|      Sexual offences|     Other sexual offe...|\n",
              "|         17A|       2020/21|                4|   London, City of|Sexual assault on...|Sexual offences|Other sexual offe...|                 0|      Sexual offences|     Other sexual offe...|\n",
              "|         17A|       2018/19|                3| Avon and Somerset|Sexual assault on...|Sexual offences|Other sexual offe...|                44|      Sexual offences|     Other sexual offe...|\n",
              "|         17A|       2018/19|                3|              Kent|Sexual assault on...|Sexual offences|Other sexual offe...|                65|      Sexual offences|     Other sexual offe...|\n",
              "|         17A|       2020/21|                1|   Gloucestershire|Sexual assault on...|Sexual offences|Other sexual offe...|                 7|      Sexual offences|     Other sexual offe...|\n",
              "|         17A|       2020/21|                2|           Norfolk|Sexual assault on...|Sexual offences|Other sexual offe...|                22|      Sexual offences|     Other sexual offe...|\n",
              "|         17A|       2020/21|                2|  Northamptonshire|Sexual assault on...|Sexual offences|Other sexual offe...|                23|      Sexual offences|     Other sexual offe...|\n",
              "|         17A|       2020/21|                3|           Cumbria|Sexual assault on...|Sexual offences|Other sexual offe...|                15|      Sexual offences|     Other sexual offe...|\n",
              "|         17A|       2020/21|                4|   Gloucestershire|Sexual assault on...|Sexual offences|Other sexual offe...|                13|      Sexual offences|     Other sexual offe...|\n",
              "|         17A|       2020/21|                4|    Leicestershire|Sexual assault on...|Sexual offences|Other sexual offe...|                41|      Sexual offences|     Other sexual offe...|\n",
              "|         17A|       2022/23|                2|          Cheshire|Sexual assault on...|Sexual offences|Other sexual offe...|                52|      Sexual offences|     Other sexual offe...|\n",
              "|         17A|       2022/23|                2|       North Wales|Sexual assault on...|Sexual offences|Other sexual offe...|                37|      Sexual offences|     Other sexual offe...|\n",
              "|         17A|       2023/24|                1|      Lincolnshire|Sexual assault on...|Sexual offences|Other sexual offe...|                24|      Sexual offences|     Other sexual offe...|\n",
              "+------------+--------------+-----------------+------------------+--------------------+---------------+--------------------+------------------+---------------------+-------------------------+\n",
              "only showing top 20 rows"
            ],
            "text/html": [
              "<table border='1'>\n",
              "<tr><th>Offence_Code</th><th>Financial_Year</th><th>Financial_Quarter</th><th>Force_Name</th><th>Offence_Description</th><th>Offence_Group</th><th>Offence_Subgroup</th><th>Number_of_Offences</th><th>New ONS offence group</th><th>New_ONS_sub_offence_group</th></tr>\n",
              "<tr><td>17A</td><td>2019/20</td><td>3</td><td>Norfolk</td><td>Sexual assault on...</td><td>Sexual offences</td><td>Other sexual offe...</td><td>29</td><td>Sexual offences</td><td>Other sexual offe...</td></tr>\n",
              "<tr><td>17A</td><td>2019/20</td><td>4</td><td>Wiltshire</td><td>Sexual assault on...</td><td>Sexual offences</td><td>Other sexual offe...</td><td>11</td><td>Sexual offences</td><td>Other sexual offe...</td></tr>\n",
              "<tr><td>17A</td><td>2021/22</td><td>3</td><td>Cambridgeshire</td><td>Sexual assault on...</td><td>Sexual offences</td><td>Other sexual offe...</td><td>30</td><td>Sexual offences</td><td>Other sexual offe...</td></tr>\n",
              "<tr><td>17A</td><td>2018/19</td><td>3</td><td>Greater Manchester</td><td>Sexual assault on...</td><td>Sexual offences</td><td>Other sexual offe...</td><td>72</td><td>Sexual offences</td><td>Other sexual offe...</td></tr>\n",
              "<tr><td>17A</td><td>2018/19</td><td>4</td><td>Lincolnshire</td><td>Sexual assault on...</td><td>Sexual offences</td><td>Other sexual offe...</td><td>11</td><td>Sexual offences</td><td>Other sexual offe...</td></tr>\n",
              "<tr><td>17A</td><td>2020/21</td><td>2</td><td>Warwickshire</td><td>Sexual assault on...</td><td>Sexual offences</td><td>Other sexual offe...</td><td>15</td><td>Sexual offences</td><td>Other sexual offe...</td></tr>\n",
              "<tr><td>17A</td><td>2020/21</td><td>3</td><td>Wiltshire</td><td>Sexual assault on...</td><td>Sexual offences</td><td>Other sexual offe...</td><td>7</td><td>Sexual offences</td><td>Other sexual offe...</td></tr>\n",
              "<tr><td>17A</td><td>2020/21</td><td>4</td><td>Dorset</td><td>Sexual assault on...</td><td>Sexual offences</td><td>Other sexual offe...</td><td>15</td><td>Sexual offences</td><td>Other sexual offe...</td></tr>\n",
              "<tr><td>17A</td><td>2020/21</td><td>4</td><td>London, City of</td><td>Sexual assault on...</td><td>Sexual offences</td><td>Other sexual offe...</td><td>0</td><td>Sexual offences</td><td>Other sexual offe...</td></tr>\n",
              "<tr><td>17A</td><td>2018/19</td><td>3</td><td>Avon and Somerset</td><td>Sexual assault on...</td><td>Sexual offences</td><td>Other sexual offe...</td><td>44</td><td>Sexual offences</td><td>Other sexual offe...</td></tr>\n",
              "<tr><td>17A</td><td>2018/19</td><td>3</td><td>Kent</td><td>Sexual assault on...</td><td>Sexual offences</td><td>Other sexual offe...</td><td>65</td><td>Sexual offences</td><td>Other sexual offe...</td></tr>\n",
              "<tr><td>17A</td><td>2020/21</td><td>1</td><td>Gloucestershire</td><td>Sexual assault on...</td><td>Sexual offences</td><td>Other sexual offe...</td><td>7</td><td>Sexual offences</td><td>Other sexual offe...</td></tr>\n",
              "<tr><td>17A</td><td>2020/21</td><td>2</td><td>Norfolk</td><td>Sexual assault on...</td><td>Sexual offences</td><td>Other sexual offe...</td><td>22</td><td>Sexual offences</td><td>Other sexual offe...</td></tr>\n",
              "<tr><td>17A</td><td>2020/21</td><td>2</td><td>Northamptonshire</td><td>Sexual assault on...</td><td>Sexual offences</td><td>Other sexual offe...</td><td>23</td><td>Sexual offences</td><td>Other sexual offe...</td></tr>\n",
              "<tr><td>17A</td><td>2020/21</td><td>3</td><td>Cumbria</td><td>Sexual assault on...</td><td>Sexual offences</td><td>Other sexual offe...</td><td>15</td><td>Sexual offences</td><td>Other sexual offe...</td></tr>\n",
              "<tr><td>17A</td><td>2020/21</td><td>4</td><td>Gloucestershire</td><td>Sexual assault on...</td><td>Sexual offences</td><td>Other sexual offe...</td><td>13</td><td>Sexual offences</td><td>Other sexual offe...</td></tr>\n",
              "<tr><td>17A</td><td>2020/21</td><td>4</td><td>Leicestershire</td><td>Sexual assault on...</td><td>Sexual offences</td><td>Other sexual offe...</td><td>41</td><td>Sexual offences</td><td>Other sexual offe...</td></tr>\n",
              "<tr><td>17A</td><td>2022/23</td><td>2</td><td>Cheshire</td><td>Sexual assault on...</td><td>Sexual offences</td><td>Other sexual offe...</td><td>52</td><td>Sexual offences</td><td>Other sexual offe...</td></tr>\n",
              "<tr><td>17A</td><td>2022/23</td><td>2</td><td>North Wales</td><td>Sexual assault on...</td><td>Sexual offences</td><td>Other sexual offe...</td><td>37</td><td>Sexual offences</td><td>Other sexual offe...</td></tr>\n",
              "<tr><td>17A</td><td>2023/24</td><td>1</td><td>Lincolnshire</td><td>Sexual assault on...</td><td>Sexual offences</td><td>Other sexual offe...</td><td>24</td><td>Sexual offences</td><td>Other sexual offe...</td></tr>\n",
              "</table>\n",
              "only showing top 20 rows\n"
            ]
          },
          "metadata": {},
          "execution_count": 55
        }
      ]
    },
    {
      "cell_type": "code",
      "source": [
        "offence_final = query_2\n"
      ],
      "metadata": {
        "id": "uDYidzhV-rEB"
      },
      "execution_count": 56,
      "outputs": []
    },
    {
      "cell_type": "code",
      "source": [
        "query_2.printSchema()"
      ],
      "metadata": {
        "colab": {
          "base_uri": "https://localhost:8080/"
        },
        "id": "9GkmOv188-Dn",
        "outputId": "dbf9ce96-f208-4426-9fee-7972a471f1c5"
      },
      "execution_count": 57,
      "outputs": [
        {
          "output_type": "stream",
          "name": "stdout",
          "text": [
            "root\n",
            " |-- Offence_Code: string (nullable = true)\n",
            " |-- Financial_Year: string (nullable = true)\n",
            " |-- Financial_Quarter: long (nullable = true)\n",
            " |-- Force_Name: string (nullable = true)\n",
            " |-- Offence_Description: string (nullable = true)\n",
            " |-- Offence_Group: string (nullable = true)\n",
            " |-- Offence_Subgroup: string (nullable = true)\n",
            " |-- Number_of_Offences: long (nullable = true)\n",
            " |-- Offence description: string (nullable = true)\n",
            " |-- Old PRC offence group: string (nullable = true)\n",
            " |-- Old offence sub-group: string (nullable = true)\n",
            " |-- New ONS offence group: string (nullable = true)\n",
            " |-- New_ONS_sub_offence_group: string (nullable = true)\n",
            "\n"
          ]
        }
      ]
    },
    {
      "cell_type": "code",
      "source": [
        "print(joined_df.count())"
      ],
      "metadata": {
        "colab": {
          "base_uri": "https://localhost:8080/"
        },
        "id": "g-WExPQ09mRB",
        "outputId": "620bd914-914b-49a8-e5a1-afacf8c5daf8"
      },
      "execution_count": 58,
      "outputs": [
        {
          "output_type": "stream",
          "name": "stdout",
          "text": [
            "124193\n"
          ]
        }
      ]
    },
    {
      "cell_type": "code",
      "source": [
        "# check the number of rows in the DataFrame\n",
        "print(offence_final.count())"
      ],
      "metadata": {
        "colab": {
          "base_uri": "https://localhost:8080/"
        },
        "id": "oND3DFGHDaTq",
        "outputId": "3864f1a8-75ba-4acc-f66b-4db81b8fb9f1"
      },
      "execution_count": 59,
      "outputs": [
        {
          "output_type": "stream",
          "name": "stdout",
          "text": [
            "124193\n"
          ]
        }
      ]
    },
    {
      "cell_type": "markdown",
      "metadata": {
        "id": "0VnVn3Nes2L9"
      },
      "source": [
        "## Summary Statisitics"
      ]
    },
    {
      "cell_type": "code",
      "execution_count": 60,
      "metadata": {
        "colab": {
          "base_uri": "https://localhost:8080/"
        },
        "id": "RlOLpNW7s2L-",
        "outputId": "1c30e814-d581-41c4-e5cc-63dc78288717"
      },
      "outputs": [
        {
          "output_type": "stream",
          "name": "stdout",
          "text": [
            "The total sum of Number of offences from 2019-2023 is: 32247967\n"
          ]
        }
      ],
      "source": [
        "# Get the total number of offences in the 6 years dataset\n",
        "totalsum = offence_final.agg(sum('Number_of_Offences')).collect()[0][0]\n",
        "print(f'The total sum of Number of offences from 2019-2023 is: {np.round(totalsum, 2)}')"
      ]
    },
    {
      "cell_type": "code",
      "execution_count": 61,
      "metadata": {
        "id": "FTwAyUcis2L-",
        "outputId": "73b795b4-5c95-42d3-f058-1694e8a98c0d",
        "colab": {
          "base_uri": "https://localhost:8080/"
        }
      },
      "outputs": [
        {
          "output_type": "stream",
          "name": "stdout",
          "text": [
            "+-------+------------------+\n",
            "|summary|Number_of_Offences|\n",
            "+-------+------------------+\n",
            "|  count|            124193|\n",
            "|   mean| 259.6601016160331|\n",
            "| stddev|2012.7913765560593|\n",
            "|    min|                -2|\n",
            "|    max|            132693|\n",
            "+-------+------------------+\n",
            "\n"
          ]
        }
      ],
      "source": [
        "# Descriptive statistics of  Numeric Column\n",
        "offence_final.describe(['Number_of_Offences']).show()"
      ]
    },
    {
      "cell_type": "code",
      "source": [
        "import pyspark.sql.functions as F\n",
        "from pyspark.sql.types import StringType\n",
        "\n",
        "# Convert Financial_Year to StringType (if not already)\n",
        "query_2 = query_2.withColumn(\"Financial_Year\", F.col(\"Financial_Year\").cast(StringType()))\n",
        "\n",
        "# Replace the field with four numbers before \"/\" in the Financial_Year column\n",
        "query_2 = query_2.withColumn('Financial_Year', F.split(F.col('Financial_Year'), '/').getItem(0))\n",
        "query_2.show()"
      ],
      "metadata": {
        "colab": {
          "base_uri": "https://localhost:8080/"
        },
        "id": "0yBzLBq-NQbD",
        "outputId": "f5a8dc0c-a1d6-4817-bff8-b44d0c6dabce"
      },
      "execution_count": 62,
      "outputs": [
        {
          "output_type": "stream",
          "name": "stdout",
          "text": [
            "+------------+--------------+-----------------+------------------+--------------------+---------------+--------------------+------------------+--------------------+---------------------+---------------------+---------------------+-------------------------+\n",
            "|Offence_Code|Financial_Year|Financial_Quarter|        Force_Name| Offence_Description|  Offence_Group|    Offence_Subgroup|Number_of_Offences| Offence description|Old PRC offence group|Old offence sub-group|New ONS offence group|New_ONS_sub_offence_group|\n",
            "+------------+--------------+-----------------+------------------+--------------------+---------------+--------------------+------------------+--------------------+---------------------+---------------------+---------------------+-------------------------+\n",
            "|         17A|          2019|                3|           Norfolk|Sexual assault on...|Sexual offences|Other sexual offe...|                29|Sexual assault on...|      Sexual offences| Most serious sexu...|      Sexual offences|     Other sexual offe...|\n",
            "|         17A|          2019|                4|         Wiltshire|Sexual assault on...|Sexual offences|Other sexual offe...|                11|Sexual assault on...|      Sexual offences| Most serious sexu...|      Sexual offences|     Other sexual offe...|\n",
            "|         17A|          2021|                3|    Cambridgeshire|Sexual assault on...|Sexual offences|Other sexual offe...|                30|Sexual assault on...|      Sexual offences| Most serious sexu...|      Sexual offences|     Other sexual offe...|\n",
            "|         17A|          2018|                3|Greater Manchester|Sexual assault on...|Sexual offences|Other sexual offe...|                72|Sexual assault on...|      Sexual offences| Most serious sexu...|      Sexual offences|     Other sexual offe...|\n",
            "|         17A|          2018|                4|      Lincolnshire|Sexual assault on...|Sexual offences|Other sexual offe...|                11|Sexual assault on...|      Sexual offences| Most serious sexu...|      Sexual offences|     Other sexual offe...|\n",
            "|         17A|          2020|                2|      Warwickshire|Sexual assault on...|Sexual offences|Other sexual offe...|                15|Sexual assault on...|      Sexual offences| Most serious sexu...|      Sexual offences|     Other sexual offe...|\n",
            "|         17A|          2020|                3|         Wiltshire|Sexual assault on...|Sexual offences|Other sexual offe...|                 7|Sexual assault on...|      Sexual offences| Most serious sexu...|      Sexual offences|     Other sexual offe...|\n",
            "|         17A|          2020|                4|            Dorset|Sexual assault on...|Sexual offences|Other sexual offe...|                15|Sexual assault on...|      Sexual offences| Most serious sexu...|      Sexual offences|     Other sexual offe...|\n",
            "|         17A|          2020|                4|   London, City of|Sexual assault on...|Sexual offences|Other sexual offe...|                 0|Sexual assault on...|      Sexual offences| Most serious sexu...|      Sexual offences|     Other sexual offe...|\n",
            "|         17A|          2018|                3| Avon and Somerset|Sexual assault on...|Sexual offences|Other sexual offe...|                44|Sexual assault on...|      Sexual offences| Most serious sexu...|      Sexual offences|     Other sexual offe...|\n",
            "|         17A|          2018|                3|              Kent|Sexual assault on...|Sexual offences|Other sexual offe...|                65|Sexual assault on...|      Sexual offences| Most serious sexu...|      Sexual offences|     Other sexual offe...|\n",
            "|         17A|          2020|                1|   Gloucestershire|Sexual assault on...|Sexual offences|Other sexual offe...|                 7|Sexual assault on...|      Sexual offences| Most serious sexu...|      Sexual offences|     Other sexual offe...|\n",
            "|         17A|          2020|                2|           Norfolk|Sexual assault on...|Sexual offences|Other sexual offe...|                22|Sexual assault on...|      Sexual offences| Most serious sexu...|      Sexual offences|     Other sexual offe...|\n",
            "|         17A|          2020|                2|  Northamptonshire|Sexual assault on...|Sexual offences|Other sexual offe...|                23|Sexual assault on...|      Sexual offences| Most serious sexu...|      Sexual offences|     Other sexual offe...|\n",
            "|         17A|          2020|                3|           Cumbria|Sexual assault on...|Sexual offences|Other sexual offe...|                15|Sexual assault on...|      Sexual offences| Most serious sexu...|      Sexual offences|     Other sexual offe...|\n",
            "|         17A|          2020|                4|   Gloucestershire|Sexual assault on...|Sexual offences|Other sexual offe...|                13|Sexual assault on...|      Sexual offences| Most serious sexu...|      Sexual offences|     Other sexual offe...|\n",
            "|         17A|          2020|                4|    Leicestershire|Sexual assault on...|Sexual offences|Other sexual offe...|                41|Sexual assault on...|      Sexual offences| Most serious sexu...|      Sexual offences|     Other sexual offe...|\n",
            "|         17A|          2022|                2|          Cheshire|Sexual assault on...|Sexual offences|Other sexual offe...|                52|Sexual assault on...|      Sexual offences| Most serious sexu...|      Sexual offences|     Other sexual offe...|\n",
            "|         17A|          2022|                2|       North Wales|Sexual assault on...|Sexual offences|Other sexual offe...|                37|Sexual assault on...|      Sexual offences| Most serious sexu...|      Sexual offences|     Other sexual offe...|\n",
            "|         17A|          2023|                1|      Lincolnshire|Sexual assault on...|Sexual offences|Other sexual offe...|                24|Sexual assault on...|      Sexual offences| Most serious sexu...|      Sexual offences|     Other sexual offe...|\n",
            "+------------+--------------+-----------------+------------------+--------------------+---------------+--------------------+------------------+--------------------+---------------------+---------------------+---------------------+-------------------------+\n",
            "only showing top 20 rows\n",
            "\n"
          ]
        }
      ]
    },
    {
      "cell_type": "code",
      "source": [
        "offence_final = query_2"
      ],
      "metadata": {
        "id": "CYjCVOvgS9rW"
      },
      "execution_count": 63,
      "outputs": []
    },
    {
      "cell_type": "code",
      "source": [
        "offence_final.show()"
      ],
      "metadata": {
        "colab": {
          "base_uri": "https://localhost:8080/"
        },
        "id": "WNtGYG9EDvwT",
        "outputId": "3baeb548-fec4-4ebf-fcea-dd606863d3d0"
      },
      "execution_count": 64,
      "outputs": [
        {
          "output_type": "stream",
          "name": "stdout",
          "text": [
            "+------------+--------------+-----------------+------------------+--------------------+---------------+--------------------+------------------+--------------------+---------------------+---------------------+---------------------+-------------------------+\n",
            "|Offence_Code|Financial_Year|Financial_Quarter|        Force_Name| Offence_Description|  Offence_Group|    Offence_Subgroup|Number_of_Offences| Offence description|Old PRC offence group|Old offence sub-group|New ONS offence group|New_ONS_sub_offence_group|\n",
            "+------------+--------------+-----------------+------------------+--------------------+---------------+--------------------+------------------+--------------------+---------------------+---------------------+---------------------+-------------------------+\n",
            "|         17A|          2019|                3|           Norfolk|Sexual assault on...|Sexual offences|Other sexual offe...|                29|Sexual assault on...|      Sexual offences| Most serious sexu...|      Sexual offences|     Other sexual offe...|\n",
            "|         17A|          2019|                4|         Wiltshire|Sexual assault on...|Sexual offences|Other sexual offe...|                11|Sexual assault on...|      Sexual offences| Most serious sexu...|      Sexual offences|     Other sexual offe...|\n",
            "|         17A|          2021|                3|    Cambridgeshire|Sexual assault on...|Sexual offences|Other sexual offe...|                30|Sexual assault on...|      Sexual offences| Most serious sexu...|      Sexual offences|     Other sexual offe...|\n",
            "|         17A|          2018|                3|Greater Manchester|Sexual assault on...|Sexual offences|Other sexual offe...|                72|Sexual assault on...|      Sexual offences| Most serious sexu...|      Sexual offences|     Other sexual offe...|\n",
            "|         17A|          2018|                4|      Lincolnshire|Sexual assault on...|Sexual offences|Other sexual offe...|                11|Sexual assault on...|      Sexual offences| Most serious sexu...|      Sexual offences|     Other sexual offe...|\n",
            "|         17A|          2020|                2|      Warwickshire|Sexual assault on...|Sexual offences|Other sexual offe...|                15|Sexual assault on...|      Sexual offences| Most serious sexu...|      Sexual offences|     Other sexual offe...|\n",
            "|         17A|          2020|                3|         Wiltshire|Sexual assault on...|Sexual offences|Other sexual offe...|                 7|Sexual assault on...|      Sexual offences| Most serious sexu...|      Sexual offences|     Other sexual offe...|\n",
            "|         17A|          2020|                4|            Dorset|Sexual assault on...|Sexual offences|Other sexual offe...|                15|Sexual assault on...|      Sexual offences| Most serious sexu...|      Sexual offences|     Other sexual offe...|\n",
            "|         17A|          2020|                4|   London, City of|Sexual assault on...|Sexual offences|Other sexual offe...|                 0|Sexual assault on...|      Sexual offences| Most serious sexu...|      Sexual offences|     Other sexual offe...|\n",
            "|         17A|          2018|                3| Avon and Somerset|Sexual assault on...|Sexual offences|Other sexual offe...|                44|Sexual assault on...|      Sexual offences| Most serious sexu...|      Sexual offences|     Other sexual offe...|\n",
            "|         17A|          2018|                3|              Kent|Sexual assault on...|Sexual offences|Other sexual offe...|                65|Sexual assault on...|      Sexual offences| Most serious sexu...|      Sexual offences|     Other sexual offe...|\n",
            "|         17A|          2020|                1|   Gloucestershire|Sexual assault on...|Sexual offences|Other sexual offe...|                 7|Sexual assault on...|      Sexual offences| Most serious sexu...|      Sexual offences|     Other sexual offe...|\n",
            "|         17A|          2020|                2|           Norfolk|Sexual assault on...|Sexual offences|Other sexual offe...|                22|Sexual assault on...|      Sexual offences| Most serious sexu...|      Sexual offences|     Other sexual offe...|\n",
            "|         17A|          2020|                2|  Northamptonshire|Sexual assault on...|Sexual offences|Other sexual offe...|                23|Sexual assault on...|      Sexual offences| Most serious sexu...|      Sexual offences|     Other sexual offe...|\n",
            "|         17A|          2020|                3|           Cumbria|Sexual assault on...|Sexual offences|Other sexual offe...|                15|Sexual assault on...|      Sexual offences| Most serious sexu...|      Sexual offences|     Other sexual offe...|\n",
            "|         17A|          2020|                4|   Gloucestershire|Sexual assault on...|Sexual offences|Other sexual offe...|                13|Sexual assault on...|      Sexual offences| Most serious sexu...|      Sexual offences|     Other sexual offe...|\n",
            "|         17A|          2020|                4|    Leicestershire|Sexual assault on...|Sexual offences|Other sexual offe...|                41|Sexual assault on...|      Sexual offences| Most serious sexu...|      Sexual offences|     Other sexual offe...|\n",
            "|         17A|          2022|                2|          Cheshire|Sexual assault on...|Sexual offences|Other sexual offe...|                52|Sexual assault on...|      Sexual offences| Most serious sexu...|      Sexual offences|     Other sexual offe...|\n",
            "|         17A|          2022|                2|       North Wales|Sexual assault on...|Sexual offences|Other sexual offe...|                37|Sexual assault on...|      Sexual offences| Most serious sexu...|      Sexual offences|     Other sexual offe...|\n",
            "|         17A|          2023|                1|      Lincolnshire|Sexual assault on...|Sexual offences|Other sexual offe...|                24|Sexual assault on...|      Sexual offences| Most serious sexu...|      Sexual offences|     Other sexual offe...|\n",
            "+------------+--------------+-----------------+------------------+--------------------+---------------+--------------------+------------------+--------------------+---------------------+---------------------+---------------------+-------------------------+\n",
            "only showing top 20 rows\n",
            "\n"
          ]
        }
      ]
    },
    {
      "cell_type": "code",
      "source": [
        "# convert the data type of the Financial_Year column to an integer\n",
        "offence_final = offence_final.withColumn('Financial_Year', offence_final['Financial_Year'].cast('int'))\n"
      ],
      "metadata": {
        "id": "ZIWRZ-ntBhN1"
      },
      "execution_count": 65,
      "outputs": []
    },
    {
      "cell_type": "code",
      "source": [
        "# calculate the correlation between Financial_Year and Number_of_Offences\n",
        "yr_corr_offence = offence_final.corr('Financial_Year', 'Number_of_Offences')\n"
      ],
      "metadata": {
        "id": "Q8UKMV0AGb1B"
      },
      "execution_count": 66,
      "outputs": []
    },
    {
      "cell_type": "code",
      "source": [
        "# print the correlation\n",
        "print(f'The correlation between Financial Year and Number of offences is: {yr_corr_offence:.4f}')\n",
        "\n",
        "# Correlation betwen financial year and number of offences\n",
        "qt_corr_offence = offence_final.corr('Financial_Quarter', 'Number_of_Offences')\n",
        "\n",
        "print(f'The correlation between Financial Year and Number of offences is: {qt_corr_offence:.4f}')"
      ],
      "metadata": {
        "colab": {
          "base_uri": "https://localhost:8080/"
        },
        "id": "KlzUYc-EGfBH",
        "outputId": "f934feaa-84a6-4a33-8cb6-3fe3c12bded9"
      },
      "execution_count": 67,
      "outputs": [
        {
          "output_type": "stream",
          "name": "stdout",
          "text": [
            "The correlation between Financial Year and Number of offences is: 0.0038\n",
            "The correlation between Financial Year and Number of offences is: -0.0007\n"
          ]
        }
      ]
    },
    {
      "cell_type": "code",
      "execution_count": 68,
      "metadata": {
        "id": "oUBOy1hjs2L_",
        "outputId": "93dd1928-1be8-4560-c7a4-6d940a07c3e7",
        "colab": {
          "base_uri": "https://localhost:8080/"
        }
      },
      "outputs": [
        {
          "output_type": "stream",
          "name": "stdout",
          "text": [
            "The covariance between Financial Year and Number of offences is: 11.6841\n",
            "The covariance between Financial Year and Number of offences is: -1.5094\n"
          ]
        }
      ],
      "source": [
        "# Covariance betwen financial year and number of offences\n",
        "yr_corr_offence = offence_final.cov('Financial_Year', 'Number_of_Offences')\n",
        "\n",
        "print(f'The covariance between Financial Year and Number of offences is: {yr_corr_offence:.4f}')\n",
        "\n",
        "# Covariance betwen financial year and number of offences\n",
        "qt_corr_offence = offence_final.cov('Financial_Quarter', 'Number_of_Offences')\n",
        "\n",
        "print(f'The covariance between Financial Year and Number of offences is: {qt_corr_offence:.4f}')"
      ]
    },
    {
      "cell_type": "code",
      "execution_count": 69,
      "metadata": {
        "id": "WLolnoISs2L_",
        "outputId": "16110c9c-b5ef-444a-f6f8-d94113ef49a1",
        "colab": {
          "base_uri": "https://localhost:8080/"
        }
      },
      "outputs": [
        {
          "output_type": "stream",
          "name": "stdout",
          "text": [
            "The skewness is:  38.80\n"
          ]
        }
      ],
      "source": [
        "# check for skewness of Number of Offences\n",
        "skewness_num_of_offences = offence_final.select(skewness('Number_of_Offences')).collect()[0][0]\n",
        "\n",
        "print(f'The skewness is: {skewness_num_of_offences: .2f}')"
      ]
    },
    {
      "cell_type": "code",
      "source": [
        "pip install pingouin"
      ],
      "metadata": {
        "colab": {
          "base_uri": "https://localhost:8080/"
        },
        "id": "26cLbkGlWhv8",
        "outputId": "f8221164-690b-4d7d-9412-6dc6d8dd4933"
      },
      "execution_count": 70,
      "outputs": [
        {
          "output_type": "stream",
          "name": "stdout",
          "text": [
            "Collecting pingouin\n",
            "  Downloading pingouin-0.5.3-py3-none-any.whl (198 kB)\n",
            "\u001b[?25l     \u001b[90m━━━━━━━━━━━━━━━━━━━━━━━━━━━━━━━━━━━━━━━━\u001b[0m \u001b[32m0.0/198.6 kB\u001b[0m \u001b[31m?\u001b[0m eta \u001b[36m-:--:--\u001b[0m\r\u001b[2K     \u001b[91m━━━━━━━━━━━━━━━━━━\u001b[0m\u001b[91m╸\u001b[0m\u001b[90m━━━━━━━━━━━━━━━━━━━━━\u001b[0m \u001b[32m92.2/198.6 kB\u001b[0m \u001b[31m2.5 MB/s\u001b[0m eta \u001b[36m0:00:01\u001b[0m\r\u001b[2K     \u001b[90m━━━━━━━━━━━━━━━━━━━━━━━━━━━━━━━━━━━━━━━━\u001b[0m \u001b[32m198.6/198.6 kB\u001b[0m \u001b[31m3.3 MB/s\u001b[0m eta \u001b[36m0:00:00\u001b[0m\n",
            "\u001b[?25hRequirement already satisfied: numpy>=1.19 in /usr/local/lib/python3.10/dist-packages (from pingouin) (1.23.5)\n",
            "Requirement already satisfied: scipy>=1.7 in /usr/local/lib/python3.10/dist-packages (from pingouin) (1.11.4)\n",
            "Requirement already satisfied: pandas>=1.0 in /usr/local/lib/python3.10/dist-packages (from pingouin) (1.5.3)\n",
            "Requirement already satisfied: matplotlib>=3.0.2 in /usr/local/lib/python3.10/dist-packages (from pingouin) (3.7.1)\n",
            "Requirement already satisfied: seaborn>=0.11 in /usr/local/lib/python3.10/dist-packages (from pingouin) (0.12.2)\n",
            "Requirement already satisfied: statsmodels>=0.13 in /usr/local/lib/python3.10/dist-packages (from pingouin) (0.14.1)\n",
            "Requirement already satisfied: scikit-learn in /usr/local/lib/python3.10/dist-packages (from pingouin) (1.2.2)\n",
            "Collecting pandas-flavor>=0.2.0 (from pingouin)\n",
            "  Downloading pandas_flavor-0.6.0-py3-none-any.whl (7.2 kB)\n",
            "Collecting outdated (from pingouin)\n",
            "  Downloading outdated-0.2.2-py2.py3-none-any.whl (7.5 kB)\n",
            "Requirement already satisfied: tabulate in /usr/local/lib/python3.10/dist-packages (from pingouin) (0.9.0)\n",
            "Requirement already satisfied: contourpy>=1.0.1 in /usr/local/lib/python3.10/dist-packages (from matplotlib>=3.0.2->pingouin) (1.2.0)\n",
            "Requirement already satisfied: cycler>=0.10 in /usr/local/lib/python3.10/dist-packages (from matplotlib>=3.0.2->pingouin) (0.12.1)\n",
            "Requirement already satisfied: fonttools>=4.22.0 in /usr/local/lib/python3.10/dist-packages (from matplotlib>=3.0.2->pingouin) (4.47.0)\n",
            "Requirement already satisfied: kiwisolver>=1.0.1 in /usr/local/lib/python3.10/dist-packages (from matplotlib>=3.0.2->pingouin) (1.4.5)\n",
            "Requirement already satisfied: packaging>=20.0 in /usr/local/lib/python3.10/dist-packages (from matplotlib>=3.0.2->pingouin) (23.2)\n",
            "Requirement already satisfied: pillow>=6.2.0 in /usr/local/lib/python3.10/dist-packages (from matplotlib>=3.0.2->pingouin) (9.4.0)\n",
            "Requirement already satisfied: pyparsing>=2.3.1 in /usr/local/lib/python3.10/dist-packages (from matplotlib>=3.0.2->pingouin) (3.1.1)\n",
            "Requirement already satisfied: python-dateutil>=2.7 in /usr/local/lib/python3.10/dist-packages (from matplotlib>=3.0.2->pingouin) (2.8.2)\n",
            "Requirement already satisfied: pytz>=2020.1 in /usr/local/lib/python3.10/dist-packages (from pandas>=1.0->pingouin) (2023.3.post1)\n",
            "Requirement already satisfied: xarray in /usr/local/lib/python3.10/dist-packages (from pandas-flavor>=0.2.0->pingouin) (2023.7.0)\n",
            "Requirement already satisfied: patsy>=0.5.4 in /usr/local/lib/python3.10/dist-packages (from statsmodels>=0.13->pingouin) (0.5.4)\n",
            "Requirement already satisfied: setuptools>=44 in /usr/local/lib/python3.10/dist-packages (from outdated->pingouin) (67.7.2)\n",
            "Collecting littleutils (from outdated->pingouin)\n",
            "  Downloading littleutils-0.2.2.tar.gz (6.6 kB)\n",
            "  Preparing metadata (setup.py) ... \u001b[?25l\u001b[?25hdone\n",
            "Requirement already satisfied: requests in /usr/local/lib/python3.10/dist-packages (from outdated->pingouin) (2.31.0)\n",
            "Requirement already satisfied: joblib>=1.1.1 in /usr/local/lib/python3.10/dist-packages (from scikit-learn->pingouin) (1.3.2)\n",
            "Requirement already satisfied: threadpoolctl>=2.0.0 in /usr/local/lib/python3.10/dist-packages (from scikit-learn->pingouin) (3.2.0)\n",
            "Requirement already satisfied: six in /usr/local/lib/python3.10/dist-packages (from patsy>=0.5.4->statsmodels>=0.13->pingouin) (1.16.0)\n",
            "Requirement already satisfied: charset-normalizer<4,>=2 in /usr/local/lib/python3.10/dist-packages (from requests->outdated->pingouin) (3.3.2)\n",
            "Requirement already satisfied: idna<4,>=2.5 in /usr/local/lib/python3.10/dist-packages (from requests->outdated->pingouin) (3.6)\n",
            "Requirement already satisfied: urllib3<3,>=1.21.1 in /usr/local/lib/python3.10/dist-packages (from requests->outdated->pingouin) (2.0.7)\n",
            "Requirement already satisfied: certifi>=2017.4.17 in /usr/local/lib/python3.10/dist-packages (from requests->outdated->pingouin) (2023.11.17)\n",
            "Building wheels for collected packages: littleutils\n",
            "  Building wheel for littleutils (setup.py) ... \u001b[?25l\u001b[?25hdone\n",
            "  Created wheel for littleutils: filename=littleutils-0.2.2-py3-none-any.whl size=7026 sha256=fac6ceb843b629b9c011254d98af4cc7793e66bbb2b02f105ee076c9a6dd510b\n",
            "  Stored in directory: /root/.cache/pip/wheels/3d/fe/b0/27a9892da57472e538c7452a721a9cf463cc03cf7379889266\n",
            "Successfully built littleutils\n",
            "Installing collected packages: littleutils, outdated, pandas-flavor, pingouin\n",
            "Successfully installed littleutils-0.2.2 outdated-0.2.2 pandas-flavor-0.6.0 pingouin-0.5.3\n"
          ]
        }
      ]
    },
    {
      "cell_type": "markdown",
      "metadata": {
        "id": "rKRYIau6s2L_"
      },
      "source": [
        "## Hypothesis Testing\n",
        "\n",
        "#### Research questions\n",
        "\n",
        " -  Has the overall number of offenses changed significantly over time?\n",
        "    *   Null hypothesis (H0): The mean number of offenses has not changed significantly over time.\n",
        "    *    Alternate hypothesis (Ha): The mean number of offenses has changed significantly over time.\n",
        "    *  Test: ANOVA\n",
        "\n",
        " -  Do certain financial quarters exhibit consistently higher or lower offense rates?\n",
        "    *  H0: There is no significant difference in offense rates between financial quarters.\n",
        "    *  Ha: There is a significant difference in offense rates between financial quarters.\n",
        "    * Test: ANOVA comparing offense rates across quarters.\n",
        "\n",
        " -  Does the type of offense tend to change based on the financial quarter?\n",
        "    * H0: There is no association between offense type and financial quarter.\n",
        "    * Ha: There is an association between offense type and financial quarter.\n",
        "    * Test: Chi-square test of independence.\n",
        "\n",
        "-  Are certain offense groups or subgroups more likely to occur in specific police force jurisdictions?\n",
        "    * H0: The distribution of offense groups is the same across different police force jurisdictions.\n",
        "    * Ha: The distribution of offense groups is different across different police force jurisdictions.\n",
        "    * Test: Chi-square test of independence.\n",
        "\n",
        "    **NOTE:  Let our signifiance level (alpha)  be 0.1**"
      ]
    },
    {
      "cell_type": "code",
      "execution_count": 71,
      "metadata": {
        "id": "bUfq4U7Ts2L_"
      },
      "outputs": [],
      "source": [
        " # Does the type of offense tend to change based on the financial quarter?\n",
        "\n",
        "sample_offence = offence_final.select('Financial_Year', 'Financial_Quarter', 'Force_Name', 'New ONS offence group', 'Number_of_Offences').sample(False, 0.50, 42).toPandas()"
      ]
    },
    {
      "cell_type": "code",
      "source": [
        "import pingouin as pg\n",
        "\n"
      ],
      "metadata": {
        "id": "kwQFBAYYWv8z"
      },
      "execution_count": 72,
      "outputs": []
    },
    {
      "cell_type": "code",
      "execution_count": 73,
      "metadata": {
        "id": "pd7tiobns2L_",
        "outputId": "3ebe63cf-4a20-42ae-f569-69a79a808aec",
        "colab": {
          "base_uri": "https://localhost:8080/",
          "height": 169
        }
      },
      "outputs": [
        {
          "output_type": "display_data",
          "data": {
            "text/plain": [
              "' -  Has the overall number of offenses changed significantly over time?\\n    *   Null hypothesis (H0): The mean number of offenses has not changed significantly over time.\\n    *    Alternate hypothesis (Ha): The mean number of offenses has changed significantly over time.\\n    *  Test: ANOVA'"
            ],
            "application/vnd.google.colaboratory.intrinsic+json": {
              "type": "string"
            }
          },
          "metadata": {}
        },
        {
          "output_type": "display_data",
          "data": {
            "text/plain": [
              "           Source  ddof1  ddof2         F     p-unc       np2\n",
              "0  Financial_Year      5  62291  0.842391  0.519327  0.000068"
            ],
            "text/html": [
              "\n",
              "  <div id=\"df-954c5642-8680-45bd-a308-bae8682a9025\" class=\"colab-df-container\">\n",
              "    <div>\n",
              "<style scoped>\n",
              "    .dataframe tbody tr th:only-of-type {\n",
              "        vertical-align: middle;\n",
              "    }\n",
              "\n",
              "    .dataframe tbody tr th {\n",
              "        vertical-align: top;\n",
              "    }\n",
              "\n",
              "    .dataframe thead th {\n",
              "        text-align: right;\n",
              "    }\n",
              "</style>\n",
              "<table border=\"1\" class=\"dataframe\">\n",
              "  <thead>\n",
              "    <tr style=\"text-align: right;\">\n",
              "      <th></th>\n",
              "      <th>Source</th>\n",
              "      <th>ddof1</th>\n",
              "      <th>ddof2</th>\n",
              "      <th>F</th>\n",
              "      <th>p-unc</th>\n",
              "      <th>np2</th>\n",
              "    </tr>\n",
              "  </thead>\n",
              "  <tbody>\n",
              "    <tr>\n",
              "      <th>0</th>\n",
              "      <td>Financial_Year</td>\n",
              "      <td>5</td>\n",
              "      <td>62291</td>\n",
              "      <td>0.842391</td>\n",
              "      <td>0.519327</td>\n",
              "      <td>0.000068</td>\n",
              "    </tr>\n",
              "  </tbody>\n",
              "</table>\n",
              "</div>\n",
              "    <div class=\"colab-df-buttons\">\n",
              "\n",
              "  <div class=\"colab-df-container\">\n",
              "    <button class=\"colab-df-convert\" onclick=\"convertToInteractive('df-954c5642-8680-45bd-a308-bae8682a9025')\"\n",
              "            title=\"Convert this dataframe to an interactive table.\"\n",
              "            style=\"display:none;\">\n",
              "\n",
              "  <svg xmlns=\"http://www.w3.org/2000/svg\" height=\"24px\" viewBox=\"0 -960 960 960\">\n",
              "    <path d=\"M120-120v-720h720v720H120Zm60-500h600v-160H180v160Zm220 220h160v-160H400v160Zm0 220h160v-160H400v160ZM180-400h160v-160H180v160Zm440 0h160v-160H620v160ZM180-180h160v-160H180v160Zm440 0h160v-160H620v160Z\"/>\n",
              "  </svg>\n",
              "    </button>\n",
              "\n",
              "  <style>\n",
              "    .colab-df-container {\n",
              "      display:flex;\n",
              "      gap: 12px;\n",
              "    }\n",
              "\n",
              "    .colab-df-convert {\n",
              "      background-color: #E8F0FE;\n",
              "      border: none;\n",
              "      border-radius: 50%;\n",
              "      cursor: pointer;\n",
              "      display: none;\n",
              "      fill: #1967D2;\n",
              "      height: 32px;\n",
              "      padding: 0 0 0 0;\n",
              "      width: 32px;\n",
              "    }\n",
              "\n",
              "    .colab-df-convert:hover {\n",
              "      background-color: #E2EBFA;\n",
              "      box-shadow: 0px 1px 2px rgba(60, 64, 67, 0.3), 0px 1px 3px 1px rgba(60, 64, 67, 0.15);\n",
              "      fill: #174EA6;\n",
              "    }\n",
              "\n",
              "    .colab-df-buttons div {\n",
              "      margin-bottom: 4px;\n",
              "    }\n",
              "\n",
              "    [theme=dark] .colab-df-convert {\n",
              "      background-color: #3B4455;\n",
              "      fill: #D2E3FC;\n",
              "    }\n",
              "\n",
              "    [theme=dark] .colab-df-convert:hover {\n",
              "      background-color: #434B5C;\n",
              "      box-shadow: 0px 1px 3px 1px rgba(0, 0, 0, 0.15);\n",
              "      filter: drop-shadow(0px 1px 2px rgba(0, 0, 0, 0.3));\n",
              "      fill: #FFFFFF;\n",
              "    }\n",
              "  </style>\n",
              "\n",
              "    <script>\n",
              "      const buttonEl =\n",
              "        document.querySelector('#df-954c5642-8680-45bd-a308-bae8682a9025 button.colab-df-convert');\n",
              "      buttonEl.style.display =\n",
              "        google.colab.kernel.accessAllowed ? 'block' : 'none';\n",
              "\n",
              "      async function convertToInteractive(key) {\n",
              "        const element = document.querySelector('#df-954c5642-8680-45bd-a308-bae8682a9025');\n",
              "        const dataTable =\n",
              "          await google.colab.kernel.invokeFunction('convertToInteractive',\n",
              "                                                    [key], {});\n",
              "        if (!dataTable) return;\n",
              "\n",
              "        const docLinkHtml = 'Like what you see? Visit the ' +\n",
              "          '<a target=\"_blank\" href=https://colab.research.google.com/notebooks/data_table.ipynb>data table notebook</a>'\n",
              "          + ' to learn more about interactive tables.';\n",
              "        element.innerHTML = '';\n",
              "        dataTable['output_type'] = 'display_data';\n",
              "        await google.colab.output.renderOutput(dataTable, element);\n",
              "        const docLink = document.createElement('div');\n",
              "        docLink.innerHTML = docLinkHtml;\n",
              "        element.appendChild(docLink);\n",
              "      }\n",
              "    </script>\n",
              "  </div>\n",
              "\n",
              "    </div>\n",
              "  </div>\n"
            ]
          },
          "metadata": {}
        },
        {
          "output_type": "display_data",
          "data": {
            "text/plain": [
              "'Since our pvalue is less than our siginifiance level *0.1*, we reject the null hypothesis.'"
            ],
            "application/vnd.google.colaboratory.intrinsic+json": {
              "type": "string"
            }
          },
          "metadata": {}
        },
        {
          "output_type": "display_data",
          "data": {
            "text/plain": [
              "'At least two Financial Years have a significantly different number of offences'"
            ],
            "application/vnd.google.colaboratory.intrinsic+json": {
              "type": "string"
            }
          },
          "metadata": {}
        }
      ],
      "source": [
        "# Hypothesis 1\n",
        "desc_1 = \"\"\" -  Has the overall number of offenses changed significantly over time?\n",
        "    *   Null hypothesis (H0): The mean number of offenses has not changed significantly over time.\n",
        "    *    Alternate hypothesis (Ha): The mean number of offenses has changed significantly over time.\n",
        "    *  Test: ANOVA\"\"\"\n",
        "\n",
        "# ANOVA TESTING\n",
        "val = pg.anova(data=sample_offence,\n",
        "         dv='Number_of_Offences',\n",
        "         between='Financial_Year')\n",
        "\n",
        "# Displays outputs\n",
        "display(desc_1)\n",
        "display(val)\n",
        "display('Since our pvalue is less than our siginifiance level *0.1*, we reject the null hypothesis.')\n",
        "display('At least two Financial Years have a significantly different number of offences')"
      ]
    },
    {
      "cell_type": "code",
      "execution_count": 74,
      "metadata": {
        "id": "Ahmmx0eGs2MA",
        "outputId": "21b2033e-326d-440c-9e70-2505e14e2f6b",
        "colab": {
          "base_uri": "https://localhost:8080/",
          "height": 169
        }
      },
      "outputs": [
        {
          "output_type": "display_data",
          "data": {
            "text/plain": [
              "'  -  Do certain financial quarters exhibit consistently higher or lower offense rates?\\n    *  H0: There is no significant difference in offense rates between financial quarters.\\n    *  Ha: There is a significant difference in offense rates between financial quarters.\\n    * Test: ANOVA comparing offense rates across quarters.'"
            ],
            "application/vnd.google.colaboratory.intrinsic+json": {
              "type": "string"
            }
          },
          "metadata": {}
        },
        {
          "output_type": "display_data",
          "data": {
            "text/plain": [
              "              Source  ddof1  ddof2         F     p-unc      np2\n",
              "0  Financial_Quarter      3  62293  1.243613  0.292043  0.00006"
            ],
            "text/html": [
              "\n",
              "  <div id=\"df-3699778f-3a2a-4062-b2bb-4afa0669e61f\" class=\"colab-df-container\">\n",
              "    <div>\n",
              "<style scoped>\n",
              "    .dataframe tbody tr th:only-of-type {\n",
              "        vertical-align: middle;\n",
              "    }\n",
              "\n",
              "    .dataframe tbody tr th {\n",
              "        vertical-align: top;\n",
              "    }\n",
              "\n",
              "    .dataframe thead th {\n",
              "        text-align: right;\n",
              "    }\n",
              "</style>\n",
              "<table border=\"1\" class=\"dataframe\">\n",
              "  <thead>\n",
              "    <tr style=\"text-align: right;\">\n",
              "      <th></th>\n",
              "      <th>Source</th>\n",
              "      <th>ddof1</th>\n",
              "      <th>ddof2</th>\n",
              "      <th>F</th>\n",
              "      <th>p-unc</th>\n",
              "      <th>np2</th>\n",
              "    </tr>\n",
              "  </thead>\n",
              "  <tbody>\n",
              "    <tr>\n",
              "      <th>0</th>\n",
              "      <td>Financial_Quarter</td>\n",
              "      <td>3</td>\n",
              "      <td>62293</td>\n",
              "      <td>1.243613</td>\n",
              "      <td>0.292043</td>\n",
              "      <td>0.00006</td>\n",
              "    </tr>\n",
              "  </tbody>\n",
              "</table>\n",
              "</div>\n",
              "    <div class=\"colab-df-buttons\">\n",
              "\n",
              "  <div class=\"colab-df-container\">\n",
              "    <button class=\"colab-df-convert\" onclick=\"convertToInteractive('df-3699778f-3a2a-4062-b2bb-4afa0669e61f')\"\n",
              "            title=\"Convert this dataframe to an interactive table.\"\n",
              "            style=\"display:none;\">\n",
              "\n",
              "  <svg xmlns=\"http://www.w3.org/2000/svg\" height=\"24px\" viewBox=\"0 -960 960 960\">\n",
              "    <path d=\"M120-120v-720h720v720H120Zm60-500h600v-160H180v160Zm220 220h160v-160H400v160Zm0 220h160v-160H400v160ZM180-400h160v-160H180v160Zm440 0h160v-160H620v160ZM180-180h160v-160H180v160Zm440 0h160v-160H620v160Z\"/>\n",
              "  </svg>\n",
              "    </button>\n",
              "\n",
              "  <style>\n",
              "    .colab-df-container {\n",
              "      display:flex;\n",
              "      gap: 12px;\n",
              "    }\n",
              "\n",
              "    .colab-df-convert {\n",
              "      background-color: #E8F0FE;\n",
              "      border: none;\n",
              "      border-radius: 50%;\n",
              "      cursor: pointer;\n",
              "      display: none;\n",
              "      fill: #1967D2;\n",
              "      height: 32px;\n",
              "      padding: 0 0 0 0;\n",
              "      width: 32px;\n",
              "    }\n",
              "\n",
              "    .colab-df-convert:hover {\n",
              "      background-color: #E2EBFA;\n",
              "      box-shadow: 0px 1px 2px rgba(60, 64, 67, 0.3), 0px 1px 3px 1px rgba(60, 64, 67, 0.15);\n",
              "      fill: #174EA6;\n",
              "    }\n",
              "\n",
              "    .colab-df-buttons div {\n",
              "      margin-bottom: 4px;\n",
              "    }\n",
              "\n",
              "    [theme=dark] .colab-df-convert {\n",
              "      background-color: #3B4455;\n",
              "      fill: #D2E3FC;\n",
              "    }\n",
              "\n",
              "    [theme=dark] .colab-df-convert:hover {\n",
              "      background-color: #434B5C;\n",
              "      box-shadow: 0px 1px 3px 1px rgba(0, 0, 0, 0.15);\n",
              "      filter: drop-shadow(0px 1px 2px rgba(0, 0, 0, 0.3));\n",
              "      fill: #FFFFFF;\n",
              "    }\n",
              "  </style>\n",
              "\n",
              "    <script>\n",
              "      const buttonEl =\n",
              "        document.querySelector('#df-3699778f-3a2a-4062-b2bb-4afa0669e61f button.colab-df-convert');\n",
              "      buttonEl.style.display =\n",
              "        google.colab.kernel.accessAllowed ? 'block' : 'none';\n",
              "\n",
              "      async function convertToInteractive(key) {\n",
              "        const element = document.querySelector('#df-3699778f-3a2a-4062-b2bb-4afa0669e61f');\n",
              "        const dataTable =\n",
              "          await google.colab.kernel.invokeFunction('convertToInteractive',\n",
              "                                                    [key], {});\n",
              "        if (!dataTable) return;\n",
              "\n",
              "        const docLinkHtml = 'Like what you see? Visit the ' +\n",
              "          '<a target=\"_blank\" href=https://colab.research.google.com/notebooks/data_table.ipynb>data table notebook</a>'\n",
              "          + ' to learn more about interactive tables.';\n",
              "        element.innerHTML = '';\n",
              "        dataTable['output_type'] = 'display_data';\n",
              "        await google.colab.output.renderOutput(dataTable, element);\n",
              "        const docLink = document.createElement('div');\n",
              "        docLink.innerHTML = docLinkHtml;\n",
              "        element.appendChild(docLink);\n",
              "      }\n",
              "    </script>\n",
              "  </div>\n",
              "\n",
              "    </div>\n",
              "  </div>\n"
            ]
          },
          "metadata": {}
        },
        {
          "output_type": "display_data",
          "data": {
            "text/plain": [
              "'Since our pvalue is less than our siginifiance level *0.1*, we reject the null hypothesis.'"
            ],
            "application/vnd.google.colaboratory.intrinsic+json": {
              "type": "string"
            }
          },
          "metadata": {}
        },
        {
          "output_type": "display_data",
          "data": {
            "text/plain": [
              "'At least two Financial Quarters have a significantly different number of offences'"
            ],
            "application/vnd.google.colaboratory.intrinsic+json": {
              "type": "string"
            }
          },
          "metadata": {}
        }
      ],
      "source": [
        "# Hypothesis_2\n",
        "desc_3 = \"\"\"  -  Do certain financial quarters exhibit consistently higher or lower offense rates?\n",
        "    *  H0: There is no significant difference in offense rates between financial quarters.\n",
        "    *  Ha: There is a significant difference in offense rates between financial quarters.\n",
        "    * Test: ANOVA comparing offense rates across quarters.\"\"\"\n",
        "\n",
        "# ANOVA TESTING\n",
        "val_1 = pg.anova(data=sample_offence,\n",
        "         dv='Number_of_Offences',\n",
        "         between='Financial_Quarter')\n",
        "\n",
        "# Display outputs\n",
        "display(desc_3)\n",
        "display(val_1)\n",
        "display('Since our pvalue is less than our siginifiance level *0.1*, we reject the null hypothesis.')\n",
        "display('At least two Financial Quarters have a significantly different number of offences')"
      ]
    },
    {
      "cell_type": "code",
      "source": [
        "# Print the column names of the DataFrame\n",
        "print(sample_offence.columns)"
      ],
      "metadata": {
        "colab": {
          "base_uri": "https://localhost:8080/"
        },
        "id": "K9VflTDuX7kX",
        "outputId": "b071fc2b-d492-4341-8b60-3483a17decd8"
      },
      "execution_count": 75,
      "outputs": [
        {
          "output_type": "stream",
          "name": "stdout",
          "text": [
            "Index(['Financial_Year', 'Financial_Quarter', 'Force_Name',\n",
            "       'New ONS offence group', 'Number_of_Offences'],\n",
            "      dtype='object')\n"
          ]
        }
      ]
    },
    {
      "cell_type": "code",
      "source": [
        "expected, observed, stats = pg.chi2_independence(data=sample_offence, x='New ONS offence group', y='Financial_Quarter')"
      ],
      "metadata": {
        "id": "dyUSYeAWYGN6"
      },
      "execution_count": 76,
      "outputs": []
    },
    {
      "cell_type": "code",
      "execution_count": 77,
      "metadata": {
        "id": "dS6C5nqJs2MA",
        "outputId": "2578003e-bf94-4ce8-aff5-8414eb522476",
        "colab": {
          "base_uri": "https://localhost:8080/",
          "height": 308
        }
      },
      "outputs": [
        {
          "output_type": "display_data",
          "data": {
            "text/plain": [
              "' -  Does the type of offense tend to change based on the financial quarter?\\n    * H0: There is no association between offense type and financial quarter.\\n    * Ha: There is an association between offense type and financial quarter.\\n    * Test: Chi-square test of independence.'"
            ],
            "application/vnd.google.colaboratory.intrinsic+json": {
              "type": "string"
            }
          },
          "metadata": {}
        },
        {
          "output_type": "display_data",
          "data": {
            "text/plain": [
              "                 test    lambda       chi2   dof      pval    cramer     power\n",
              "0             pearson  1.000000  13.832486  24.0  0.950344  0.008603  0.164969\n",
              "1        cressie-read  0.666667  13.832614  24.0  0.950341  0.008603  0.164970\n",
              "2      log-likelihood  0.000000  13.834504  24.0  0.950300  0.008604  0.164990\n",
              "3       freeman-tukey -0.500000  13.837348  24.0  0.950239  0.008605  0.165021\n",
              "4  mod-log-likelihood -1.000000  13.841413  24.0  0.950151  0.008606  0.165064\n",
              "5              neyman -2.000000  13.853205  24.0  0.949897  0.008610  0.165191"
            ],
            "text/html": [
              "\n",
              "  <div id=\"df-b8890012-716a-4172-944e-ebe633114475\" class=\"colab-df-container\">\n",
              "    <div>\n",
              "<style scoped>\n",
              "    .dataframe tbody tr th:only-of-type {\n",
              "        vertical-align: middle;\n",
              "    }\n",
              "\n",
              "    .dataframe tbody tr th {\n",
              "        vertical-align: top;\n",
              "    }\n",
              "\n",
              "    .dataframe thead th {\n",
              "        text-align: right;\n",
              "    }\n",
              "</style>\n",
              "<table border=\"1\" class=\"dataframe\">\n",
              "  <thead>\n",
              "    <tr style=\"text-align: right;\">\n",
              "      <th></th>\n",
              "      <th>test</th>\n",
              "      <th>lambda</th>\n",
              "      <th>chi2</th>\n",
              "      <th>dof</th>\n",
              "      <th>pval</th>\n",
              "      <th>cramer</th>\n",
              "      <th>power</th>\n",
              "    </tr>\n",
              "  </thead>\n",
              "  <tbody>\n",
              "    <tr>\n",
              "      <th>0</th>\n",
              "      <td>pearson</td>\n",
              "      <td>1.000000</td>\n",
              "      <td>13.832486</td>\n",
              "      <td>24.0</td>\n",
              "      <td>0.950344</td>\n",
              "      <td>0.008603</td>\n",
              "      <td>0.164969</td>\n",
              "    </tr>\n",
              "    <tr>\n",
              "      <th>1</th>\n",
              "      <td>cressie-read</td>\n",
              "      <td>0.666667</td>\n",
              "      <td>13.832614</td>\n",
              "      <td>24.0</td>\n",
              "      <td>0.950341</td>\n",
              "      <td>0.008603</td>\n",
              "      <td>0.164970</td>\n",
              "    </tr>\n",
              "    <tr>\n",
              "      <th>2</th>\n",
              "      <td>log-likelihood</td>\n",
              "      <td>0.000000</td>\n",
              "      <td>13.834504</td>\n",
              "      <td>24.0</td>\n",
              "      <td>0.950300</td>\n",
              "      <td>0.008604</td>\n",
              "      <td>0.164990</td>\n",
              "    </tr>\n",
              "    <tr>\n",
              "      <th>3</th>\n",
              "      <td>freeman-tukey</td>\n",
              "      <td>-0.500000</td>\n",
              "      <td>13.837348</td>\n",
              "      <td>24.0</td>\n",
              "      <td>0.950239</td>\n",
              "      <td>0.008605</td>\n",
              "      <td>0.165021</td>\n",
              "    </tr>\n",
              "    <tr>\n",
              "      <th>4</th>\n",
              "      <td>mod-log-likelihood</td>\n",
              "      <td>-1.000000</td>\n",
              "      <td>13.841413</td>\n",
              "      <td>24.0</td>\n",
              "      <td>0.950151</td>\n",
              "      <td>0.008606</td>\n",
              "      <td>0.165064</td>\n",
              "    </tr>\n",
              "    <tr>\n",
              "      <th>5</th>\n",
              "      <td>neyman</td>\n",
              "      <td>-2.000000</td>\n",
              "      <td>13.853205</td>\n",
              "      <td>24.0</td>\n",
              "      <td>0.949897</td>\n",
              "      <td>0.008610</td>\n",
              "      <td>0.165191</td>\n",
              "    </tr>\n",
              "  </tbody>\n",
              "</table>\n",
              "</div>\n",
              "    <div class=\"colab-df-buttons\">\n",
              "\n",
              "  <div class=\"colab-df-container\">\n",
              "    <button class=\"colab-df-convert\" onclick=\"convertToInteractive('df-b8890012-716a-4172-944e-ebe633114475')\"\n",
              "            title=\"Convert this dataframe to an interactive table.\"\n",
              "            style=\"display:none;\">\n",
              "\n",
              "  <svg xmlns=\"http://www.w3.org/2000/svg\" height=\"24px\" viewBox=\"0 -960 960 960\">\n",
              "    <path d=\"M120-120v-720h720v720H120Zm60-500h600v-160H180v160Zm220 220h160v-160H400v160Zm0 220h160v-160H400v160ZM180-400h160v-160H180v160Zm440 0h160v-160H620v160ZM180-180h160v-160H180v160Zm440 0h160v-160H620v160Z\"/>\n",
              "  </svg>\n",
              "    </button>\n",
              "\n",
              "  <style>\n",
              "    .colab-df-container {\n",
              "      display:flex;\n",
              "      gap: 12px;\n",
              "    }\n",
              "\n",
              "    .colab-df-convert {\n",
              "      background-color: #E8F0FE;\n",
              "      border: none;\n",
              "      border-radius: 50%;\n",
              "      cursor: pointer;\n",
              "      display: none;\n",
              "      fill: #1967D2;\n",
              "      height: 32px;\n",
              "      padding: 0 0 0 0;\n",
              "      width: 32px;\n",
              "    }\n",
              "\n",
              "    .colab-df-convert:hover {\n",
              "      background-color: #E2EBFA;\n",
              "      box-shadow: 0px 1px 2px rgba(60, 64, 67, 0.3), 0px 1px 3px 1px rgba(60, 64, 67, 0.15);\n",
              "      fill: #174EA6;\n",
              "    }\n",
              "\n",
              "    .colab-df-buttons div {\n",
              "      margin-bottom: 4px;\n",
              "    }\n",
              "\n",
              "    [theme=dark] .colab-df-convert {\n",
              "      background-color: #3B4455;\n",
              "      fill: #D2E3FC;\n",
              "    }\n",
              "\n",
              "    [theme=dark] .colab-df-convert:hover {\n",
              "      background-color: #434B5C;\n",
              "      box-shadow: 0px 1px 3px 1px rgba(0, 0, 0, 0.15);\n",
              "      filter: drop-shadow(0px 1px 2px rgba(0, 0, 0, 0.3));\n",
              "      fill: #FFFFFF;\n",
              "    }\n",
              "  </style>\n",
              "\n",
              "    <script>\n",
              "      const buttonEl =\n",
              "        document.querySelector('#df-b8890012-716a-4172-944e-ebe633114475 button.colab-df-convert');\n",
              "      buttonEl.style.display =\n",
              "        google.colab.kernel.accessAllowed ? 'block' : 'none';\n",
              "\n",
              "      async function convertToInteractive(key) {\n",
              "        const element = document.querySelector('#df-b8890012-716a-4172-944e-ebe633114475');\n",
              "        const dataTable =\n",
              "          await google.colab.kernel.invokeFunction('convertToInteractive',\n",
              "                                                    [key], {});\n",
              "        if (!dataTable) return;\n",
              "\n",
              "        const docLinkHtml = 'Like what you see? Visit the ' +\n",
              "          '<a target=\"_blank\" href=https://colab.research.google.com/notebooks/data_table.ipynb>data table notebook</a>'\n",
              "          + ' to learn more about interactive tables.';\n",
              "        element.innerHTML = '';\n",
              "        dataTable['output_type'] = 'display_data';\n",
              "        await google.colab.output.renderOutput(dataTable, element);\n",
              "        const docLink = document.createElement('div');\n",
              "        docLink.innerHTML = docLinkHtml;\n",
              "        element.appendChild(docLink);\n",
              "      }\n",
              "    </script>\n",
              "  </div>\n",
              "\n",
              "\n",
              "<div id=\"df-1364f562-0576-4a05-9fb4-f8692b82090c\">\n",
              "  <button class=\"colab-df-quickchart\" onclick=\"quickchart('df-1364f562-0576-4a05-9fb4-f8692b82090c')\"\n",
              "            title=\"Suggest charts\"\n",
              "            style=\"display:none;\">\n",
              "\n",
              "<svg xmlns=\"http://www.w3.org/2000/svg\" height=\"24px\"viewBox=\"0 0 24 24\"\n",
              "     width=\"24px\">\n",
              "    <g>\n",
              "        <path d=\"M19 3H5c-1.1 0-2 .9-2 2v14c0 1.1.9 2 2 2h14c1.1 0 2-.9 2-2V5c0-1.1-.9-2-2-2zM9 17H7v-7h2v7zm4 0h-2V7h2v10zm4 0h-2v-4h2v4z\"/>\n",
              "    </g>\n",
              "</svg>\n",
              "  </button>\n",
              "\n",
              "<style>\n",
              "  .colab-df-quickchart {\n",
              "      --bg-color: #E8F0FE;\n",
              "      --fill-color: #1967D2;\n",
              "      --hover-bg-color: #E2EBFA;\n",
              "      --hover-fill-color: #174EA6;\n",
              "      --disabled-fill-color: #AAA;\n",
              "      --disabled-bg-color: #DDD;\n",
              "  }\n",
              "\n",
              "  [theme=dark] .colab-df-quickchart {\n",
              "      --bg-color: #3B4455;\n",
              "      --fill-color: #D2E3FC;\n",
              "      --hover-bg-color: #434B5C;\n",
              "      --hover-fill-color: #FFFFFF;\n",
              "      --disabled-bg-color: #3B4455;\n",
              "      --disabled-fill-color: #666;\n",
              "  }\n",
              "\n",
              "  .colab-df-quickchart {\n",
              "    background-color: var(--bg-color);\n",
              "    border: none;\n",
              "    border-radius: 50%;\n",
              "    cursor: pointer;\n",
              "    display: none;\n",
              "    fill: var(--fill-color);\n",
              "    height: 32px;\n",
              "    padding: 0;\n",
              "    width: 32px;\n",
              "  }\n",
              "\n",
              "  .colab-df-quickchart:hover {\n",
              "    background-color: var(--hover-bg-color);\n",
              "    box-shadow: 0 1px 2px rgba(60, 64, 67, 0.3), 0 1px 3px 1px rgba(60, 64, 67, 0.15);\n",
              "    fill: var(--button-hover-fill-color);\n",
              "  }\n",
              "\n",
              "  .colab-df-quickchart-complete:disabled,\n",
              "  .colab-df-quickchart-complete:disabled:hover {\n",
              "    background-color: var(--disabled-bg-color);\n",
              "    fill: var(--disabled-fill-color);\n",
              "    box-shadow: none;\n",
              "  }\n",
              "\n",
              "  .colab-df-spinner {\n",
              "    border: 2px solid var(--fill-color);\n",
              "    border-color: transparent;\n",
              "    border-bottom-color: var(--fill-color);\n",
              "    animation:\n",
              "      spin 1s steps(1) infinite;\n",
              "  }\n",
              "\n",
              "  @keyframes spin {\n",
              "    0% {\n",
              "      border-color: transparent;\n",
              "      border-bottom-color: var(--fill-color);\n",
              "      border-left-color: var(--fill-color);\n",
              "    }\n",
              "    20% {\n",
              "      border-color: transparent;\n",
              "      border-left-color: var(--fill-color);\n",
              "      border-top-color: var(--fill-color);\n",
              "    }\n",
              "    30% {\n",
              "      border-color: transparent;\n",
              "      border-left-color: var(--fill-color);\n",
              "      border-top-color: var(--fill-color);\n",
              "      border-right-color: var(--fill-color);\n",
              "    }\n",
              "    40% {\n",
              "      border-color: transparent;\n",
              "      border-right-color: var(--fill-color);\n",
              "      border-top-color: var(--fill-color);\n",
              "    }\n",
              "    60% {\n",
              "      border-color: transparent;\n",
              "      border-right-color: var(--fill-color);\n",
              "    }\n",
              "    80% {\n",
              "      border-color: transparent;\n",
              "      border-right-color: var(--fill-color);\n",
              "      border-bottom-color: var(--fill-color);\n",
              "    }\n",
              "    90% {\n",
              "      border-color: transparent;\n",
              "      border-bottom-color: var(--fill-color);\n",
              "    }\n",
              "  }\n",
              "</style>\n",
              "\n",
              "  <script>\n",
              "    async function quickchart(key) {\n",
              "      const quickchartButtonEl =\n",
              "        document.querySelector('#' + key + ' button');\n",
              "      quickchartButtonEl.disabled = true;  // To prevent multiple clicks.\n",
              "      quickchartButtonEl.classList.add('colab-df-spinner');\n",
              "      try {\n",
              "        const charts = await google.colab.kernel.invokeFunction(\n",
              "            'suggestCharts', [key], {});\n",
              "      } catch (error) {\n",
              "        console.error('Error during call to suggestCharts:', error);\n",
              "      }\n",
              "      quickchartButtonEl.classList.remove('colab-df-spinner');\n",
              "      quickchartButtonEl.classList.add('colab-df-quickchart-complete');\n",
              "    }\n",
              "    (() => {\n",
              "      let quickchartButtonEl =\n",
              "        document.querySelector('#df-1364f562-0576-4a05-9fb4-f8692b82090c button');\n",
              "      quickchartButtonEl.style.display =\n",
              "        google.colab.kernel.accessAllowed ? 'block' : 'none';\n",
              "    })();\n",
              "  </script>\n",
              "</div>\n",
              "    </div>\n",
              "  </div>\n"
            ]
          },
          "metadata": {}
        },
        {
          "output_type": "display_data",
          "data": {
            "text/plain": [
              "'Since our pvalue is greater than our significance level, we fail to reject the null hypothesis'"
            ],
            "application/vnd.google.colaboratory.intrinsic+json": {
              "type": "string"
            }
          },
          "metadata": {}
        }
      ],
      "source": [
        "# Hypothesis_3\n",
        "desc_5 = \"\"\" -  Does the type of offense tend to change based on the financial quarter?\n",
        "    * H0: There is no association between offense type and financial quarter.\n",
        "    * Ha: There is an association between offense type and financial quarter.\n",
        "    * Test: Chi-square test of independence.\"\"\"\n",
        "\n",
        "#  Perfrom chisquare_test of independence\n",
        "expected, observed, stats = pg.chi2_independence(data=sample_offence, x='New ONS offence group', y='Financial_Quarter')\n",
        "\n",
        "# Displays output\n",
        "display(desc_5)\n",
        "display(stats)\n",
        "display('Since our pvalue is greater than our significance level, we fail to reject the null hypothesis')"
      ]
    },
    {
      "cell_type": "code",
      "execution_count": 78,
      "metadata": {
        "id": "iuIYAO8Fs2MA",
        "outputId": "7c398760-3553-492e-81b1-de0ed27be3e3",
        "colab": {
          "base_uri": "https://localhost:8080/",
          "height": 325
        }
      },
      "outputs": [
        {
          "output_type": "display_data",
          "data": {
            "text/plain": [
              "'-  Are certain offense groups or subgroups more likely to occur in specific police force jurisdictions?\\n    * H0: The distribution of offense groups is the same across different police force jurisdictions.\\n    * Ha: The distribution of offense groups is different across different police force jurisdictions.\\n    * Test: Chi-square test of independence.'"
            ],
            "application/vnd.google.colaboratory.intrinsic+json": {
              "type": "string"
            }
          },
          "metadata": {}
        },
        {
          "output_type": "display_data",
          "data": {
            "text/plain": [
              "                 test    lambda        chi2    dof  pval    cramer     power\n",
              "0             pearson  1.000000  157.247343  344.0   1.0  0.017763  0.185597\n",
              "1        cressie-read  0.666667  157.186163  344.0   1.0  0.017759  0.185522\n",
              "2      log-likelihood  0.000000  157.197015  344.0   1.0  0.017760  0.185535\n",
              "3       freeman-tukey -0.500000  157.322477  344.0   1.0  0.017767  0.185690\n",
              "4  mod-log-likelihood -1.000000  157.549737  344.0   1.0  0.017780  0.185969\n",
              "5              neyman -2.000000  158.316712  344.0   1.0  0.017823  0.186915"
            ],
            "text/html": [
              "\n",
              "  <div id=\"df-5dd3fcf9-61e1-4858-ad67-3906a28862f4\" class=\"colab-df-container\">\n",
              "    <div>\n",
              "<style scoped>\n",
              "    .dataframe tbody tr th:only-of-type {\n",
              "        vertical-align: middle;\n",
              "    }\n",
              "\n",
              "    .dataframe tbody tr th {\n",
              "        vertical-align: top;\n",
              "    }\n",
              "\n",
              "    .dataframe thead th {\n",
              "        text-align: right;\n",
              "    }\n",
              "</style>\n",
              "<table border=\"1\" class=\"dataframe\">\n",
              "  <thead>\n",
              "    <tr style=\"text-align: right;\">\n",
              "      <th></th>\n",
              "      <th>test</th>\n",
              "      <th>lambda</th>\n",
              "      <th>chi2</th>\n",
              "      <th>dof</th>\n",
              "      <th>pval</th>\n",
              "      <th>cramer</th>\n",
              "      <th>power</th>\n",
              "    </tr>\n",
              "  </thead>\n",
              "  <tbody>\n",
              "    <tr>\n",
              "      <th>0</th>\n",
              "      <td>pearson</td>\n",
              "      <td>1.000000</td>\n",
              "      <td>157.247343</td>\n",
              "      <td>344.0</td>\n",
              "      <td>1.0</td>\n",
              "      <td>0.017763</td>\n",
              "      <td>0.185597</td>\n",
              "    </tr>\n",
              "    <tr>\n",
              "      <th>1</th>\n",
              "      <td>cressie-read</td>\n",
              "      <td>0.666667</td>\n",
              "      <td>157.186163</td>\n",
              "      <td>344.0</td>\n",
              "      <td>1.0</td>\n",
              "      <td>0.017759</td>\n",
              "      <td>0.185522</td>\n",
              "    </tr>\n",
              "    <tr>\n",
              "      <th>2</th>\n",
              "      <td>log-likelihood</td>\n",
              "      <td>0.000000</td>\n",
              "      <td>157.197015</td>\n",
              "      <td>344.0</td>\n",
              "      <td>1.0</td>\n",
              "      <td>0.017760</td>\n",
              "      <td>0.185535</td>\n",
              "    </tr>\n",
              "    <tr>\n",
              "      <th>3</th>\n",
              "      <td>freeman-tukey</td>\n",
              "      <td>-0.500000</td>\n",
              "      <td>157.322477</td>\n",
              "      <td>344.0</td>\n",
              "      <td>1.0</td>\n",
              "      <td>0.017767</td>\n",
              "      <td>0.185690</td>\n",
              "    </tr>\n",
              "    <tr>\n",
              "      <th>4</th>\n",
              "      <td>mod-log-likelihood</td>\n",
              "      <td>-1.000000</td>\n",
              "      <td>157.549737</td>\n",
              "      <td>344.0</td>\n",
              "      <td>1.0</td>\n",
              "      <td>0.017780</td>\n",
              "      <td>0.185969</td>\n",
              "    </tr>\n",
              "    <tr>\n",
              "      <th>5</th>\n",
              "      <td>neyman</td>\n",
              "      <td>-2.000000</td>\n",
              "      <td>158.316712</td>\n",
              "      <td>344.0</td>\n",
              "      <td>1.0</td>\n",
              "      <td>0.017823</td>\n",
              "      <td>0.186915</td>\n",
              "    </tr>\n",
              "  </tbody>\n",
              "</table>\n",
              "</div>\n",
              "    <div class=\"colab-df-buttons\">\n",
              "\n",
              "  <div class=\"colab-df-container\">\n",
              "    <button class=\"colab-df-convert\" onclick=\"convertToInteractive('df-5dd3fcf9-61e1-4858-ad67-3906a28862f4')\"\n",
              "            title=\"Convert this dataframe to an interactive table.\"\n",
              "            style=\"display:none;\">\n",
              "\n",
              "  <svg xmlns=\"http://www.w3.org/2000/svg\" height=\"24px\" viewBox=\"0 -960 960 960\">\n",
              "    <path d=\"M120-120v-720h720v720H120Zm60-500h600v-160H180v160Zm220 220h160v-160H400v160Zm0 220h160v-160H400v160ZM180-400h160v-160H180v160Zm440 0h160v-160H620v160ZM180-180h160v-160H180v160Zm440 0h160v-160H620v160Z\"/>\n",
              "  </svg>\n",
              "    </button>\n",
              "\n",
              "  <style>\n",
              "    .colab-df-container {\n",
              "      display:flex;\n",
              "      gap: 12px;\n",
              "    }\n",
              "\n",
              "    .colab-df-convert {\n",
              "      background-color: #E8F0FE;\n",
              "      border: none;\n",
              "      border-radius: 50%;\n",
              "      cursor: pointer;\n",
              "      display: none;\n",
              "      fill: #1967D2;\n",
              "      height: 32px;\n",
              "      padding: 0 0 0 0;\n",
              "      width: 32px;\n",
              "    }\n",
              "\n",
              "    .colab-df-convert:hover {\n",
              "      background-color: #E2EBFA;\n",
              "      box-shadow: 0px 1px 2px rgba(60, 64, 67, 0.3), 0px 1px 3px 1px rgba(60, 64, 67, 0.15);\n",
              "      fill: #174EA6;\n",
              "    }\n",
              "\n",
              "    .colab-df-buttons div {\n",
              "      margin-bottom: 4px;\n",
              "    }\n",
              "\n",
              "    [theme=dark] .colab-df-convert {\n",
              "      background-color: #3B4455;\n",
              "      fill: #D2E3FC;\n",
              "    }\n",
              "\n",
              "    [theme=dark] .colab-df-convert:hover {\n",
              "      background-color: #434B5C;\n",
              "      box-shadow: 0px 1px 3px 1px rgba(0, 0, 0, 0.15);\n",
              "      filter: drop-shadow(0px 1px 2px rgba(0, 0, 0, 0.3));\n",
              "      fill: #FFFFFF;\n",
              "    }\n",
              "  </style>\n",
              "\n",
              "    <script>\n",
              "      const buttonEl =\n",
              "        document.querySelector('#df-5dd3fcf9-61e1-4858-ad67-3906a28862f4 button.colab-df-convert');\n",
              "      buttonEl.style.display =\n",
              "        google.colab.kernel.accessAllowed ? 'block' : 'none';\n",
              "\n",
              "      async function convertToInteractive(key) {\n",
              "        const element = document.querySelector('#df-5dd3fcf9-61e1-4858-ad67-3906a28862f4');\n",
              "        const dataTable =\n",
              "          await google.colab.kernel.invokeFunction('convertToInteractive',\n",
              "                                                    [key], {});\n",
              "        if (!dataTable) return;\n",
              "\n",
              "        const docLinkHtml = 'Like what you see? Visit the ' +\n",
              "          '<a target=\"_blank\" href=https://colab.research.google.com/notebooks/data_table.ipynb>data table notebook</a>'\n",
              "          + ' to learn more about interactive tables.';\n",
              "        element.innerHTML = '';\n",
              "        dataTable['output_type'] = 'display_data';\n",
              "        await google.colab.output.renderOutput(dataTable, element);\n",
              "        const docLink = document.createElement('div');\n",
              "        docLink.innerHTML = docLinkHtml;\n",
              "        element.appendChild(docLink);\n",
              "      }\n",
              "    </script>\n",
              "  </div>\n",
              "\n",
              "\n",
              "<div id=\"df-b0ff4ffc-2fb4-42ae-b918-12bbcb764e73\">\n",
              "  <button class=\"colab-df-quickchart\" onclick=\"quickchart('df-b0ff4ffc-2fb4-42ae-b918-12bbcb764e73')\"\n",
              "            title=\"Suggest charts\"\n",
              "            style=\"display:none;\">\n",
              "\n",
              "<svg xmlns=\"http://www.w3.org/2000/svg\" height=\"24px\"viewBox=\"0 0 24 24\"\n",
              "     width=\"24px\">\n",
              "    <g>\n",
              "        <path d=\"M19 3H5c-1.1 0-2 .9-2 2v14c0 1.1.9 2 2 2h14c1.1 0 2-.9 2-2V5c0-1.1-.9-2-2-2zM9 17H7v-7h2v7zm4 0h-2V7h2v10zm4 0h-2v-4h2v4z\"/>\n",
              "    </g>\n",
              "</svg>\n",
              "  </button>\n",
              "\n",
              "<style>\n",
              "  .colab-df-quickchart {\n",
              "      --bg-color: #E8F0FE;\n",
              "      --fill-color: #1967D2;\n",
              "      --hover-bg-color: #E2EBFA;\n",
              "      --hover-fill-color: #174EA6;\n",
              "      --disabled-fill-color: #AAA;\n",
              "      --disabled-bg-color: #DDD;\n",
              "  }\n",
              "\n",
              "  [theme=dark] .colab-df-quickchart {\n",
              "      --bg-color: #3B4455;\n",
              "      --fill-color: #D2E3FC;\n",
              "      --hover-bg-color: #434B5C;\n",
              "      --hover-fill-color: #FFFFFF;\n",
              "      --disabled-bg-color: #3B4455;\n",
              "      --disabled-fill-color: #666;\n",
              "  }\n",
              "\n",
              "  .colab-df-quickchart {\n",
              "    background-color: var(--bg-color);\n",
              "    border: none;\n",
              "    border-radius: 50%;\n",
              "    cursor: pointer;\n",
              "    display: none;\n",
              "    fill: var(--fill-color);\n",
              "    height: 32px;\n",
              "    padding: 0;\n",
              "    width: 32px;\n",
              "  }\n",
              "\n",
              "  .colab-df-quickchart:hover {\n",
              "    background-color: var(--hover-bg-color);\n",
              "    box-shadow: 0 1px 2px rgba(60, 64, 67, 0.3), 0 1px 3px 1px rgba(60, 64, 67, 0.15);\n",
              "    fill: var(--button-hover-fill-color);\n",
              "  }\n",
              "\n",
              "  .colab-df-quickchart-complete:disabled,\n",
              "  .colab-df-quickchart-complete:disabled:hover {\n",
              "    background-color: var(--disabled-bg-color);\n",
              "    fill: var(--disabled-fill-color);\n",
              "    box-shadow: none;\n",
              "  }\n",
              "\n",
              "  .colab-df-spinner {\n",
              "    border: 2px solid var(--fill-color);\n",
              "    border-color: transparent;\n",
              "    border-bottom-color: var(--fill-color);\n",
              "    animation:\n",
              "      spin 1s steps(1) infinite;\n",
              "  }\n",
              "\n",
              "  @keyframes spin {\n",
              "    0% {\n",
              "      border-color: transparent;\n",
              "      border-bottom-color: var(--fill-color);\n",
              "      border-left-color: var(--fill-color);\n",
              "    }\n",
              "    20% {\n",
              "      border-color: transparent;\n",
              "      border-left-color: var(--fill-color);\n",
              "      border-top-color: var(--fill-color);\n",
              "    }\n",
              "    30% {\n",
              "      border-color: transparent;\n",
              "      border-left-color: var(--fill-color);\n",
              "      border-top-color: var(--fill-color);\n",
              "      border-right-color: var(--fill-color);\n",
              "    }\n",
              "    40% {\n",
              "      border-color: transparent;\n",
              "      border-right-color: var(--fill-color);\n",
              "      border-top-color: var(--fill-color);\n",
              "    }\n",
              "    60% {\n",
              "      border-color: transparent;\n",
              "      border-right-color: var(--fill-color);\n",
              "    }\n",
              "    80% {\n",
              "      border-color: transparent;\n",
              "      border-right-color: var(--fill-color);\n",
              "      border-bottom-color: var(--fill-color);\n",
              "    }\n",
              "    90% {\n",
              "      border-color: transparent;\n",
              "      border-bottom-color: var(--fill-color);\n",
              "    }\n",
              "  }\n",
              "</style>\n",
              "\n",
              "  <script>\n",
              "    async function quickchart(key) {\n",
              "      const quickchartButtonEl =\n",
              "        document.querySelector('#' + key + ' button');\n",
              "      quickchartButtonEl.disabled = true;  // To prevent multiple clicks.\n",
              "      quickchartButtonEl.classList.add('colab-df-spinner');\n",
              "      try {\n",
              "        const charts = await google.colab.kernel.invokeFunction(\n",
              "            'suggestCharts', [key], {});\n",
              "      } catch (error) {\n",
              "        console.error('Error during call to suggestCharts:', error);\n",
              "      }\n",
              "      quickchartButtonEl.classList.remove('colab-df-spinner');\n",
              "      quickchartButtonEl.classList.add('colab-df-quickchart-complete');\n",
              "    }\n",
              "    (() => {\n",
              "      let quickchartButtonEl =\n",
              "        document.querySelector('#df-b0ff4ffc-2fb4-42ae-b918-12bbcb764e73 button');\n",
              "      quickchartButtonEl.style.display =\n",
              "        google.colab.kernel.accessAllowed ? 'block' : 'none';\n",
              "    })();\n",
              "  </script>\n",
              "</div>\n",
              "    </div>\n",
              "  </div>\n"
            ]
          },
          "metadata": {}
        },
        {
          "output_type": "display_data",
          "data": {
            "text/plain": [
              "'Since our pvalue is greater than our significance level, we fail to reject the null hypothesis'"
            ],
            "application/vnd.google.colaboratory.intrinsic+json": {
              "type": "string"
            }
          },
          "metadata": {}
        }
      ],
      "source": [
        "# Hypothesis_4\n",
        "desc_6 = \"\"\"-  Are certain offense groups or subgroups more likely to occur in specific police force jurisdictions?\n",
        "    * H0: The distribution of offense groups is the same across different police force jurisdictions.\n",
        "    * Ha: The distribution of offense groups is different across different police force jurisdictions.\n",
        "    * Test: Chi-square test of independence.\"\"\"\n",
        "\n",
        "#  Perfrom chisquare_test of independence\n",
        "expected, observed, stats = pg.chi2_independence(data=sample_offence, x='New ONS offence group', y='Force_Name')\n",
        "\n",
        "# Displays output\n",
        "display(desc_6)\n",
        "display(stats)\n",
        "display('Since our pvalue is greater than our significance level, we fail to reject the null hypothesis')"
      ]
    },
    {
      "cell_type": "markdown",
      "metadata": {
        "id": "78y4ThU5s2MA"
      },
      "source": [
        "## Data Visualization"
      ]
    },
    {
      "cell_type": "code",
      "source": [
        "# Import the libraries\n",
        "import seaborn as sns\n",
        "import numpy as np\n",
        "import matplotlib.pyplot as plt"
      ],
      "metadata": {
        "id": "OP4-f3_VsvnC"
      },
      "execution_count": 82,
      "outputs": []
    },
    {
      "cell_type": "code",
      "source": [
        "# Sample target columns from dataframe\n",
        "sct = offence_final.select('Financial_Year', 'Number_of_Offences').sample(False, 0.50, 42).toPandas()\n",
        "\n",
        "# Scatter plot to check for relationship between Financial year and Number of Offences\n",
        "sns.scatterplot(data=sct, x='Financial_Year', y='Number_of_Offences').set(xlabel='Financial Year',\n",
        "                                                                                    ylabel='Number of Offences',\n",
        "                                                                          xticks=[2018, 2019, 2020, 2021, 2022, 2023])\n",
        "\n",
        "# Show plot\n",
        "plt.show()"
      ],
      "metadata": {
        "colab": {
          "base_uri": "https://localhost:8080/",
          "height": 453
        },
        "id": "6L5L34mlTM8h",
        "outputId": "07036110-4efb-40d7-dbd7-689643869a91"
      },
      "execution_count": 84,
      "outputs": [
        {
          "output_type": "display_data",
          "data": {
            "text/plain": [
              "<Figure size 640x480 with 1 Axes>"
            ],
            "image/png": "[encoded data removed]"
          },
          "metadata": {}
        }
      ]
    },
    {
      "cell_type": "code",
      "execution_count": 85,
      "metadata": {
        "id": "7AvT6z6ns2MA",
        "outputId": "87819a66-4446-4520-c99e-dbadadad64d8",
        "colab": {
          "base_uri": "https://localhost:8080/",
          "height": 494
        }
      },
      "outputs": [
        {
          "output_type": "execute_result",
          "data": {
            "text/plain": [
              "Text(0.5, 0, 'Number of offences')"
            ]
          },
          "metadata": {},
          "execution_count": 85
        },
        {
          "output_type": "display_data",
          "data": {
            "text/plain": [
              "<Figure size 640x480 with 1 Axes>"
            ],
            "image/png": "[encoded data removed]"
          },
          "metadata": {}
        }
      ],
      "source": [
        "# Gets sample from target column and converts to pandas\n",
        "num_off_hst = offence_final.select('Number_of_Offences').sample(False, 0.50, 42).toPandas()\n",
        "# Plot Distribution\n",
        "num_off_hst.plot(kind='hist', bins=80)\n",
        "plt.title('Distribution of Number of Offences')\n",
        "plt.xlim(0, 3500)\n",
        "plt.legend('')\n",
        "plt.xlabel('Number of offences')"
      ]
    },
    {
      "cell_type": "code",
      "execution_count": 86,
      "metadata": {
        "id": "5wKPfpVBs2MB",
        "outputId": "939894dd-8cae-47ce-c8b9-a81889dfa514",
        "colab": {
          "base_uri": "https://localhost:8080/",
          "height": 440
        }
      },
      "outputs": [
        {
          "output_type": "display_data",
          "data": {
            "text/plain": [
              "<Figure size 1400x600 with 2 Axes>"
            ],
            "image/png": "[encoded data removed]"
          },
          "metadata": {}
        }
      ],
      "source": [
        "# Set the figure size for plot\n",
        "fig, ax = plt.subplots(1, 2, figsize=(14, 6))\n",
        "\n",
        "# Group data by financial year and find the sum of each year\n",
        "trends_1 = offence_final.groupBy('Financial_Year').sum('Number_of_Offences').toPandas()\n",
        "\n",
        "# Group data by financial quarter and find the sum of each offences\n",
        "trends_2 = offence_final.groupBy('Financial_Quarter').sum('Number_of_Offences').toPandas()\n",
        "\n",
        "# Plot Trends_1\n",
        "sns.lineplot(data=trends_1,  x='Financial_Year', y='sum(Number_of_Offences)',\n",
        "                                                                                    ax=ax[0]).set(title='Financial Year vs Sum of Number of offences',\n",
        "                                                                                    xlabel='Financial Year',\n",
        "                                                                                    ylabel='Sum of Number of Offences(thousands)',\n",
        "                                                                                    xticks=[2019, 2020, 2021, 2022, 2023])\n",
        "# Plot  Trends_2\n",
        "sns.lineplot(data=trends_2,  x='Financial_Quarter', y='sum(Number_of_Offences)',\n",
        "                                                                                    ax=ax[1]).set(title='Financial Year vs Sum of Number of offences',\n",
        "                                                                                    xlabel='Financial Quarter',\n",
        "                                                                                    ylabel='Sum of Number of Offences(thousands)',\n",
        "                                                                                    xticks=[1, 2, 3, 4],)\n",
        "# Show plot\n",
        "plt.show()"
      ]
    },
    {
      "cell_type": "code",
      "execution_count": 260,
      "metadata": {
        "id": "L_8extAqs2MB",
        "outputId": "28bdc037-f30a-4c09-c1e4-b9048a698096",
        "colab": {
          "base_uri": "https://localhost:8080/",
          "height": 440
        }
      },
      "outputs": [
        {
          "output_type": "display_data",
          "data": {
            "text/plain": [
              "<Figure size 1400x600 with 2 Axes>"
            ],
            "image/png": "[encoded data removed]"
          },
          "metadata": {}
        }
      ],
      "source": [
        "# Set the figure size for plot\n",
        "fig, ax = plt.subplots(1, 2, figsize=(14, 6))\n",
        "\n",
        "# Plot Barplot of Financial year vs number of offences\n",
        "sns.barplot(data=trends_1,  x='Financial_Year', y='sum(Number_of_Offences)',\n",
        "                                                                                    ax=ax[0]).set(title='Financial Year vs Sum of Number of offences',\n",
        "                                                                                    xlabel='Financial Year',\n",
        "                                                                                    ylabel='Sum of Number of Offences(thousands)')\n",
        "\n",
        "# Plot Barplot of Financial quarter vs number of offences\n",
        "sns.barplot(data=trends_2,  x='Financial_Quarter', y='sum(Number_of_Offences)',\n",
        "                                                                                    ax=ax[1]).set(title='Financial Year vs Sum of Number of offences',\n",
        "                                                                                    xlabel='Financial Quarter',\n",
        "                                                                                    ylabel='Sum of Number of Offences(thousands)')\n",
        "\n",
        "# Show plot\n",
        "plt.show()"
      ]
    },
    {
      "cell_type": "code",
      "source": [
        "sns.scatterplot(data=trends_1,  x='Financial_Year', y='sum(Number_of_Offences)', ax=ax[1]).set(title='Financial Year vs Sum of Number of offences',\n",
        "                                                                                    xlabel='Financial Year',\n",
        "                                                                                    ylabel='Sum of Number of Offences(thousands)',\n",
        "                                                                                    xticks=[1, 2, 3, 4], )\n",
        "plt.show()"
      ],
      "metadata": {
        "id": "lawC37RwaG0I"
      },
      "execution_count": 261,
      "outputs": []
    },
    {
      "cell_type": "markdown",
      "metadata": {
        "id": "qAJu2xgRs2MB"
      },
      "source": [
        "## Model Modeling\n",
        "\n",
        "### **Machine Learning**\n",
        "- Offense Classification:\n",
        "    - Can we accurately classify offenses into different groups based on their characteristics?\n",
        "\n",
        "- The Machine Algorithm used was Decision Tree classifier and Rainforest Classifier as they can be used to make multiclass predictions"
      ]
    },
    {
      "cell_type": "code",
      "execution_count": 301,
      "metadata": {
        "id": "i1C7Drn1s2MB"
      },
      "outputs": [],
      "source": [
        "# Features variable X_a and _X_b\n",
        "# Features variable X_a and X_b\n",
        "X_a = offence_final.select('Financial_Year', 'Financial_Quarter', 'Number_of_Offences').toPandas()\n",
        "X_b = offence_final.select('Offence_Code', 'Force_Name').toPandas()\n",
        "\n",
        "# target variable\n",
        "y = offence_final.select('New ONS offence group').toPandas()"
      ]
    },
    {
      "cell_type": "code",
      "execution_count": 302,
      "metadata": {
        "id": "p4LiFLDNs2MB"
      },
      "outputs": [],
      "source": [
        "# Label encoding for Y\n",
        "encoder = {\n",
        "    'Sexual offences': 0,\n",
        "    'Miscellaneous crimes against society': 1,\n",
        "    'Violence against the person':  2,\n",
        "    'Criminal damage and arson': 3,\n",
        "    'Theft offences': 4,\n",
        "    'Possession of weapons offences':5,\n",
        "    'Drug offences': 6,\n",
        "    'Robbery': 7,\n",
        "    'Public order offences': 8\n",
        "}\n",
        "\n",
        "# Encode values into y\n",
        "y = y.replace(encoder)"
      ]
    },
    {
      "cell_type": "code",
      "source": [
        "from sklearn.preprocessing import OrdinalEncoder\n",
        "\n",
        "# Initialize one hot encoder\n",
        "ord = OrdinalEncoder()\n",
        "X_b_ohe = ord.fit_transform(X_b)"
      ],
      "metadata": {
        "id": "OfAK9yZnVAsP"
      },
      "execution_count": 303,
      "outputs": []
    },
    {
      "cell_type": "code",
      "execution_count": 304,
      "metadata": {
        "id": "QALkFZC1s2MB"
      },
      "outputs": [],
      "source": [
        "\n",
        "# X_b_ohe is a NumPy array resulting from OrdinalEncoder\n",
        "X_b_ohe_df = pd.DataFrame(X_b_ohe, columns=X_b.columns)  # Convert back to a Pandas DataFrame\n",
        "\n",
        "# Concatenate DataFrames\n",
        "X = pd.concat([X_a, X_b_ohe_df], axis=1)"
      ]
    },
    {
      "cell_type": "code",
      "execution_count": 305,
      "metadata": {
        "id": "5W9MiXMes2MB"
      },
      "outputs": [],
      "source": [
        "# Split into train/test samples\n",
        "X_train, X_test, y_train, y_test = train_test_split(X, y, random_state=42, test_size=0.2)"
      ]
    },
    {
      "cell_type": "code",
      "execution_count": 306,
      "metadata": {
        "id": "M4H8faYis2MC",
        "colab": {
          "base_uri": "https://localhost:8080/"
        },
        "outputId": "58d7ccb9-54f6-4d27-df44-e9c17b20e52e"
      },
      "outputs": [
        {
          "output_type": "execute_result",
          "data": {
            "text/plain": [
              "((99354, 5), (24839, 5), (99354, 1), (24839, 1))"
            ]
          },
          "metadata": {},
          "execution_count": 306
        }
      ],
      "source": [
        "X_train.shape, X_test.shape, y_train.shape, y_test.shape"
      ]
    },
    {
      "cell_type": "code",
      "source": [
        "print(X_train.shape)"
      ],
      "metadata": {
        "colab": {
          "base_uri": "https://localhost:8080/"
        },
        "id": "Ib0SwAu-d7-g",
        "outputId": "70f7fdad-beeb-49f6-870d-87c50ca98b38"
      },
      "execution_count": 307,
      "outputs": [
        {
          "output_type": "stream",
          "name": "stdout",
          "text": [
            "(99354, 5)\n"
          ]
        }
      ]
    },
    {
      "cell_type": "code",
      "source": [
        "print(X_train.head())"
      ],
      "metadata": {
        "colab": {
          "base_uri": "https://localhost:8080/"
        },
        "id": "MozENPT0llim",
        "outputId": "b15a466c-a8b8-4b5e-e2f8-69ad6b5b422c"
      },
      "execution_count": 308,
      "outputs": [
        {
          "output_type": "stream",
          "name": "stdout",
          "text": [
            "       Financial_Year  Financial_Quarter  Number_of_Offences  Offence_Code  \\\n",
            "86147            2022                  1                   1         108.0   \n",
            "19448            2021                  1                  20          18.0   \n",
            "18207            2019                  1                  42          64.0   \n",
            "99176            2022                  4                  28          69.0   \n",
            "90872            2021                  4                  18           0.0   \n",
            "\n",
            "       Force_Name  \n",
            "86147        10.0  \n",
            "19448        12.0  \n",
            "18207        38.0  \n",
            "99176        13.0  \n",
            "90872        27.0  \n"
          ]
        }
      ]
    },
    {
      "cell_type": "code",
      "source": [
        "\n",
        "import numpy as np\n",
        "\n",
        "# Check for NaN values in y_train\n",
        "nan_indices = np.isnan(y_train)\n",
        "nan_count = np.sum(nan_indices)\n",
        "\n",
        "if nan_indices.any().item():\n",
        "    print(f'Target variable y_train contains NaN values.')\n",
        "\n",
        "\n",
        "\n",
        "\n"
      ],
      "metadata": {
        "colab": {
          "base_uri": "https://localhost:8080/"
        },
        "id": "idHvwPniWSu7",
        "outputId": "bcf9585b-d949-46d3-a5a8-0368e23fbe0b"
      },
      "execution_count": 309,
      "outputs": [
        {
          "output_type": "stream",
          "name": "stdout",
          "text": [
            "Target variable y_train contains NaN values.\n"
          ]
        }
      ]
    },
    {
      "cell_type": "code",
      "source": [
        "print(X_train.shape)"
      ],
      "metadata": {
        "colab": {
          "base_uri": "https://localhost:8080/"
        },
        "id": "LyjbXX4leskw",
        "outputId": "6fe399fd-a5d8-4924-ee0c-fe1d9cbbe05a"
      },
      "execution_count": 310,
      "outputs": [
        {
          "output_type": "stream",
          "name": "stdout",
          "text": [
            "(99354, 5)\n"
          ]
        }
      ]
    },
    {
      "cell_type": "code",
      "source": [
        "print(X_train.head())"
      ],
      "metadata": {
        "colab": {
          "base_uri": "https://localhost:8080/"
        },
        "id": "rbvpvnIQezU0",
        "outputId": "afab3640-ef55-4806-c9b5-dc544fef9a06"
      },
      "execution_count": 311,
      "outputs": [
        {
          "output_type": "stream",
          "name": "stdout",
          "text": [
            "       Financial_Year  Financial_Quarter  Number_of_Offences  Offence_Code  \\\n",
            "86147            2022                  1                   1         108.0   \n",
            "19448            2021                  1                  20          18.0   \n",
            "18207            2019                  1                  42          64.0   \n",
            "99176            2022                  4                  28          69.0   \n",
            "90872            2021                  4                  18           0.0   \n",
            "\n",
            "       Force_Name  \n",
            "86147        10.0  \n",
            "19448        12.0  \n",
            "18207        38.0  \n",
            "99176        13.0  \n",
            "90872        27.0  \n"
          ]
        }
      ]
    },
    {
      "cell_type": "code",
      "source": [
        "# Check for NaN values in X_train\n",
        "nan_indices = np.isnan(X_train)\n",
        "nan_count = np.sum(nan_indices)\n",
        "if nan_indices.any().any():\n",
        "    print(f'Input features X_train contain NaN values.')\n",
        "\n"
      ],
      "metadata": {
        "id": "FdGVnzneaBKw"
      },
      "execution_count": 312,
      "outputs": []
    },
    {
      "cell_type": "code",
      "source": [
        "X_train = X_train.fillna(X_train.mean())"
      ],
      "metadata": {
        "id": "Ey-xv_e6fGLT"
      },
      "execution_count": 313,
      "outputs": []
    },
    {
      "cell_type": "code",
      "source": [
        "print(X_train.shape)"
      ],
      "metadata": {
        "colab": {
          "base_uri": "https://localhost:8080/"
        },
        "id": "cS2E-a8beZvd",
        "outputId": "39f79407-c2df-4ae5-a00d-78cd72148127"
      },
      "execution_count": 314,
      "outputs": [
        {
          "output_type": "stream",
          "name": "stdout",
          "text": [
            "(99354, 5)\n"
          ]
        }
      ]
    },
    {
      "cell_type": "code",
      "source": [
        "from sklearn.experimental import enable_iterative_imputer\n",
        "from sklearn.impute import IterativeImputer\n",
        "imp = IterativeImputer()\n",
        "X_train = imp.fit_transform(X_train)\n",
        "X_test = imp.transform(X_test)"
      ],
      "metadata": {
        "id": "uwfhBHUapJj6"
      },
      "execution_count": 326,
      "outputs": []
    },
    {
      "cell_type": "code",
      "source": [
        "from sklearn.experimental import enable_iterative_imputer\n",
        "from sklearn.impute import IterativeImputer\n",
        "imp = IterativeImputer()\n",
        "y_train = imp.fit_transform(y_train)\n",
        "y_test = imp.transform(y_test)"
      ],
      "metadata": {
        "colab": {
          "base_uri": "https://localhost:8080/"
        },
        "id": "LI0tp6A2p2PU",
        "outputId": "c1bdd593-acc1-4f02-d12e-95e1dc4005e8"
      },
      "execution_count": 335,
      "outputs": [
        {
          "output_type": "stream",
          "name": "stderr",
          "text": [
            "/usr/local/lib/python3.10/dist-packages/sklearn/base.py:432: UserWarning: X has feature names, but IterativeImputer was fitted without feature names\n",
            "  warnings.warn(\n"
          ]
        }
      ]
    },
    {
      "cell_type": "code",
      "source": [
        "print(X_train.shape)"
      ],
      "metadata": {
        "colab": {
          "base_uri": "https://localhost:8080/"
        },
        "id": "AzmtOsCMce0_",
        "outputId": "cb90db3f-463d-47c9-ddb0-3947f4b83d2b"
      },
      "execution_count": 327,
      "outputs": [
        {
          "output_type": "stream",
          "name": "stdout",
          "text": [
            "(99354, 5)\n"
          ]
        }
      ]
    },
    {
      "cell_type": "code",
      "source": [
        "print(y_train.shape)"
      ],
      "metadata": {
        "colab": {
          "base_uri": "https://localhost:8080/"
        },
        "id": "asGMW3_0qNj1",
        "outputId": "621c2454-f709-47a7-c3d2-72c1da8b3ed5"
      },
      "execution_count": 336,
      "outputs": [
        {
          "output_type": "stream",
          "name": "stdout",
          "text": [
            "(99354, 1)\n"
          ]
        }
      ]
    },
    {
      "cell_type": "code",
      "source": [
        "print(nan_rows)"
      ],
      "metadata": {
        "colab": {
          "base_uri": "https://localhost:8080/"
        },
        "id": "amTSZPYOcpvs",
        "outputId": "1e74a136-66ca-4a97-cda6-f3b11e33f236"
      },
      "execution_count": 328,
      "outputs": [
        {
          "output_type": "stream",
          "name": "stdout",
          "text": [
            "86147     True\n",
            "19448     True\n",
            "18207     True\n",
            "99176     True\n",
            "90872     True\n",
            "          ... \n",
            "119879    True\n",
            "103694    True\n",
            "860       True\n",
            "15795     True\n",
            "121958    True\n",
            "Length: 99354, dtype: bool\n"
          ]
        }
      ]
    },
    {
      "cell_type": "code",
      "source": [
        "from sklearn.experimental import enable_iterative_imputer\n",
        "from sklearn.impute import IterativeImputer\n",
        "imp = IterativeImputer()\n",
        "X_train = imp.fit_transform(X_train)\n",
        "X_test = imp.transform(X_test)"
      ],
      "metadata": {
        "id": "4xyxTQ_Zph2i"
      },
      "execution_count": 329,
      "outputs": []
    },
    {
      "cell_type": "code",
      "source": [
        "from sklearn.experimental import enable_iterative_imputer\n",
        "from sklearn.impute import IterativeImputer\n",
        "imp = IterativeImputer()\n",
        "y_train = imp.fit_transform(y_train)\n",
        "y_test = imp.transform(y_test)"
      ],
      "metadata": {
        "id": "F8W-nHpdqVVV"
      },
      "execution_count": 337,
      "outputs": []
    },
    {
      "cell_type": "code",
      "execution_count": 338,
      "metadata": {
        "id": "TqFSk3nos2MC"
      },
      "outputs": [],
      "source": [
        "# Create Instance\n",
        "tree = DecisionTreeClassifier(max_depth=10, random_state=42)\n",
        "\n"
      ]
    },
    {
      "cell_type": "code",
      "source": [
        "print(X_train.shape)"
      ],
      "metadata": {
        "colab": {
          "base_uri": "https://localhost:8080/"
        },
        "id": "XtSbCtsZjujv",
        "outputId": "9af550f1-4c6e-4778-f53e-376da8cb86f8"
      },
      "execution_count": 339,
      "outputs": [
        {
          "output_type": "stream",
          "name": "stdout",
          "text": [
            "(99354, 5)\n"
          ]
        }
      ]
    },
    {
      "cell_type": "code",
      "source": [
        "y = y.squeeze()"
      ],
      "metadata": {
        "id": "Wd-JcwPPsMve"
      },
      "execution_count": 345,
      "outputs": []
    },
    {
      "cell_type": "code",
      "source": [
        "# Fit to training data\n",
        "tree.fit(X_train, y_train)\n",
        "from sklearn.preprocessing import LabelEncoder\n",
        "le = LabelEncoder()\n",
        "y_train = le.fit_transform(y_train)\n",
        "y_test = le.transform(y_test)\n"
      ],
      "metadata": {
        "id": "A2NEVdeGiuiJ"
      },
      "execution_count": 346,
      "outputs": []
    },
    {
      "cell_type": "code",
      "source": [
        "# Evaluate model\n",
        "y_pred = tree.predict(X_test)\n",
        "accuracy = accuracy_score(y_test, y_pred)\n",
        "\n",
        "print(f'The model made using Decision Tree Classifier has an accuracy of : {accuracy*100}%')"
      ],
      "metadata": {
        "colab": {
          "base_uri": "https://localhost:8080/"
        },
        "id": "ZKR6uV5Pi2b5",
        "outputId": "44b5dbcb-2545-4740-8b6e-64655f02a72f"
      },
      "execution_count": 347,
      "outputs": [
        {
          "output_type": "stream",
          "name": "stdout",
          "text": [
            "The model made using Decision Tree Classifier has an accuracy of : 53.126132291960225%\n"
          ]
        }
      ]
    },
    {
      "cell_type": "code",
      "execution_count": 348,
      "metadata": {
        "id": "Z-NHbMzWs2MC",
        "colab": {
          "base_uri": "https://localhost:8080/"
        },
        "outputId": "eae0403a-3ae4-49ad-acef-aa96cba775ff"
      },
      "outputs": [
        {
          "output_type": "stream",
          "name": "stdout",
          "text": [
            "The model made using Decision Tree Classifier has an accuracy of : 99.92853835779133%\n",
            "This shows that our model is not overfitting on the training data\n"
          ]
        }
      ],
      "source": [
        "# Further evalaution to check for overfitting\n",
        "y_train_pred = tree.predict(X_train)\n",
        "accuracy_sc = accuracy_score(y_train, y_train_pred)\n",
        "\n",
        "print(f'The model made using Decision Tree Classifier has an accuracy of : {accuracy_sc*100}%')\n",
        "print('This shows that our model is not overfitting on the training data')"
      ]
    },
    {
      "cell_type": "code",
      "execution_count": 354,
      "metadata": {
        "id": "BSvRY7qVs2MC"
      },
      "outputs": [],
      "source": [
        "# save model\n",
        "import pickle\n",
        "with open('model.pkl', 'wb') as file:\n",
        "  pickle.dump(tree, file)"
      ]
    }
  ],
  "metadata": {
    "kernelspec": {
      "display_name": "Python 3 (ipykernel)",
      "language": "python",
      "name": "python3"
    },
    "language_info": {
      "codemirror_mode": {
        "name": "ipython",
        "version": 3
      },
      "file_extension": ".py",
      "mimetype": "text/x-python",
      "name": "python",
      "nbconvert_exporter": "python",
      "pygments_lexer": "ipython3",
      "version": "3.11.7"
    },
    "colab": {
      "provenance": [],
      "include_colab_link": true
    }
  },
  "nbformat": 4,
  "nbformat_minor": 0
}