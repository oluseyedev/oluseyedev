{
  "cells": [
    {
      "cell_type": "markdown",
      "metadata": {
        "id": "view-in-github",
        "colab_type": "text"
      },
      "source": [
        "<a href=\"https://colab.research.google.com/github/oluseyedev/oluseyedev/blob/main/Dat7015_Ass2.ipynb\" target=\"_parent\"><img src=\"https://colab.research.google.com/assets/colab-badge.svg\" alt=\"Open In Colab\"/></a>"
      ]
    },
    {
      "cell_type": "code",
      "execution_count": null,
      "metadata": {
        "colab": {
          "base_uri": "https://localhost:8080/"
        },
        "id": "6qTw1hOQs2L2",
        "outputId": "8e219749-f2bd-4502-e478-03e3b10059af"
      },
      "outputs": [
        {
          "output_type": "stream",
          "name": "stdout",
          "text": [
            "Drive already mounted at /content/drive/; to attempt to forcibly remount, call drive.mount(\"/content/drive/\", force_remount=True).\n"
          ]
        }
      ],
      "source": [
        "from google.colab import drive\n",
        "drive.mount('/content/drive/')\n"
      ]
    },
    {
      "cell_type": "code",
      "source": [
        "!pip install -q keras"
      ],
      "metadata": {
        "id": "tPGENFBNwXX8"
      },
      "execution_count": null,
      "outputs": []
    },
    {
      "cell_type": "code",
      "source": [
        "import keras"
      ],
      "metadata": {
        "id": "rviuJmS5welj"
      },
      "execution_count": null,
      "outputs": []
    },
    {
      "cell_type": "code",
      "source": [
        "!apt-get install openjdk-8-jdk-headless -qq > /dev/null\n",
        "!wget -q http://archive.apache.org/dist/spark/spark-3.1.1/spark-3.1.1-bin-hadoop3.2.tgz\n",
        "!tar xf spark-3.1.1-bin-hadoop3.2.tgz\n",
        "!pip install -q findspark"
      ],
      "metadata": {
        "id": "nEzNP4qpw8Cm"
      },
      "execution_count": null,
      "outputs": []
    },
    {
      "cell_type": "code",
      "source": [
        "import os\n",
        "os.environ[\"JAVA_HOME\"] = \"/usr/lib/jvm/java-8-openjdk-amd64\"\n",
        "os.environ[\"SPARK_HOME\"] = \"/content/spark-3.1.1-bin-hadoop3.2\""
      ],
      "metadata": {
        "id": "FZho0cuxxGO-"
      },
      "execution_count": null,
      "outputs": []
    },
    {
      "cell_type": "code",
      "source": [
        "import findspark\n",
        "findspark.init()\n",
        "from pyspark.sql import SparkSession\n",
        "spark = SparkSession.builder.master(\"local[*]\").getOrCreate()\n",
        "spark.conf.set(\"spark.sql.repl.eagerEval.enabled\", True)\n",
        "# Property used to format output tables better\n",
        "spark"
      ],
      "metadata": {
        "colab": {
          "base_uri": "https://localhost:8080/",
          "height": 219
        },
        "id": "b7x-HL11xSIa",
        "outputId": "0672a44c-6c88-4e1b-bc39-fd47d7c078de"
      },
      "execution_count": null,
      "outputs": [
        {
          "output_type": "execute_result",
          "data": {
            "text/plain": [
              "<pyspark.sql.session.SparkSession at 0x7caa73afdd50>"
            ],
            "text/html": [
              "\n",
              "            <div>\n",
              "                <p><b>SparkSession - in-memory</b></p>\n",
              "                \n",
              "        <div>\n",
              "            <p><b>SparkContext</b></p>\n",
              "\n",
              "            <p><a href=\"http://f5e167268481:4040\">Spark UI</a></p>\n",
              "\n",
              "            <dl>\n",
              "              <dt>Version</dt>\n",
              "                <dd><code>v3.1.1</code></dd>\n",
              "              <dt>Master</dt>\n",
              "                <dd><code>local[*]</code></dd>\n",
              "              <dt>AppName</dt>\n",
              "                <dd><code>pyspark-shell</code></dd>\n",
              "            </dl>\n",
              "        </div>\n",
              "        \n",
              "            </div>\n",
              "        "
            ]
          },
          "metadata": {},
          "execution_count": 6
        }
      ]
    },
    {
      "cell_type": "code",
      "source": [
        "!pip install pandas scikit-learn"
      ],
      "metadata": {
        "colab": {
          "base_uri": "https://localhost:8080/"
        },
        "id": "zoW-3jOtxmXU",
        "outputId": "f71bf976-4a70-4399-d55e-ded1a83651d0"
      },
      "execution_count": null,
      "outputs": [
        {
          "output_type": "stream",
          "name": "stdout",
          "text": [
            "Requirement already satisfied: pandas in /usr/local/lib/python3.10/dist-packages (1.5.3)\n",
            "Requirement already satisfied: scikit-learn in /usr/local/lib/python3.10/dist-packages (1.2.2)\n",
            "Requirement already satisfied: python-dateutil>=2.8.1 in /usr/local/lib/python3.10/dist-packages (from pandas) (2.8.2)\n",
            "Requirement already satisfied: pytz>=2020.1 in /usr/local/lib/python3.10/dist-packages (from pandas) (2023.3.post1)\n",
            "Requirement already satisfied: numpy>=1.21.0 in /usr/local/lib/python3.10/dist-packages (from pandas) (1.23.5)\n",
            "Requirement already satisfied: scipy>=1.3.2 in /usr/local/lib/python3.10/dist-packages (from scikit-learn) (1.11.4)\n",
            "Requirement already satisfied: joblib>=1.1.1 in /usr/local/lib/python3.10/dist-packages (from scikit-learn) (1.3.2)\n",
            "Requirement already satisfied: threadpoolctl>=2.0.0 in /usr/local/lib/python3.10/dist-packages (from scikit-learn) (3.2.0)\n",
            "Requirement already satisfied: six>=1.5 in /usr/local/lib/python3.10/dist-packages (from python-dateutil>=2.8.1->pandas) (1.16.0)\n"
          ]
        }
      ]
    },
    {
      "cell_type": "code",
      "source": [
        "# import libraries\n",
        "!pip install matplotlib-venn\n",
        "from sklearn.impute import SimpleImputer\n",
        "from pyspark.sql.functions import *\n",
        "from pyspark.sql import SparkSession\n",
        "import pandas as pd\n",
        "import numpy as np\n",
        "import seaborn as sns\n",
        "from matplotlib import style\n",
        "style.use('ggplot')\n",
        "from pyspark.ml.stat import Correlation\n",
        "from sklearn.ensemble import RandomForestClassifier\n",
        "from sklearn.tree import DecisionTreeClassifier\n",
        "from sklearn.metrics import *\n",
        "from sklearn.model_selection import train_test_split\n",
        "import pyspark\n",
        "from pyspark.sql.types import *"
      ],
      "metadata": {
        "colab": {
          "base_uri": "https://localhost:8080/"
        },
        "id": "KuVc7og_xwuI",
        "outputId": "4b3e2ff5-de96-435a-e853-e6aa8dfdbeb7"
      },
      "execution_count": null,
      "outputs": [
        {
          "output_type": "stream",
          "name": "stdout",
          "text": [
            "Requirement already satisfied: matplotlib-venn in /usr/local/lib/python3.10/dist-packages (0.11.9)\n",
            "Requirement already satisfied: matplotlib in /usr/local/lib/python3.10/dist-packages (from matplotlib-venn) (3.7.1)\n",
            "Requirement already satisfied: numpy in /usr/local/lib/python3.10/dist-packages (from matplotlib-venn) (1.23.5)\n",
            "Requirement already satisfied: scipy in /usr/local/lib/python3.10/dist-packages (from matplotlib-venn) (1.11.4)\n",
            "Requirement already satisfied: contourpy>=1.0.1 in /usr/local/lib/python3.10/dist-packages (from matplotlib->matplotlib-venn) (1.2.0)\n",
            "Requirement already satisfied: cycler>=0.10 in /usr/local/lib/python3.10/dist-packages (from matplotlib->matplotlib-venn) (0.12.1)\n",
            "Requirement already satisfied: fonttools>=4.22.0 in /usr/local/lib/python3.10/dist-packages (from matplotlib->matplotlib-venn) (4.47.0)\n",
            "Requirement already satisfied: kiwisolver>=1.0.1 in /usr/local/lib/python3.10/dist-packages (from matplotlib->matplotlib-venn) (1.4.5)\n",
            "Requirement already satisfied: packaging>=20.0 in /usr/local/lib/python3.10/dist-packages (from matplotlib->matplotlib-venn) (23.2)\n",
            "Requirement already satisfied: pillow>=6.2.0 in /usr/local/lib/python3.10/dist-packages (from matplotlib->matplotlib-venn) (9.4.0)\n",
            "Requirement already satisfied: pyparsing>=2.3.1 in /usr/local/lib/python3.10/dist-packages (from matplotlib->matplotlib-venn) (3.1.1)\n",
            "Requirement already satisfied: python-dateutil>=2.7 in /usr/local/lib/python3.10/dist-packages (from matplotlib->matplotlib-venn) (2.8.2)\n",
            "Requirement already satisfied: six>=1.5 in /usr/local/lib/python3.10/dist-packages (from python-dateutil>=2.7->matplotlib->matplotlib-venn) (1.16.0)\n"
          ]
        }
      ]
    },
    {
      "cell_type": "code",
      "source": [
        "!pip install pyexcel pyexcel-ods pyexcel-ods3 pyexcel-odsr pyexcel-io"
      ],
      "metadata": {
        "colab": {
          "base_uri": "https://localhost:8080/"
        },
        "id": "GM3N-4jZzcdG",
        "outputId": "dfa60715-40eb-4af3-a4e0-16ebfe14758b"
      },
      "execution_count": null,
      "outputs": [
        {
          "output_type": "stream",
          "name": "stdout",
          "text": [
            "Collecting pyexcel\n",
            "  Downloading pyexcel-0.7.0-py2.py3-none-any.whl (87 kB)\n",
            "\u001b[?25l     \u001b[90m━━━━━━━━━━━━━━━━━━━━━━━━━━━━━━━━━━━━━━━━\u001b[0m \u001b[32m0.0/87.7 kB\u001b[0m \u001b[31m?\u001b[0m eta \u001b[36m-:--:--\u001b[0m\r\u001b[2K     \u001b[90m━━━━━━━━━━━━━━━━━━━━━━━━━━━━━━━━━━━━━━━━\u001b[0m \u001b[32m87.7/87.7 kB\u001b[0m \u001b[31m2.4 MB/s\u001b[0m eta \u001b[36m0:00:00\u001b[0m\n",
            "\u001b[?25hCollecting pyexcel-ods\n",
            "  Downloading pyexcel_ods-0.6.0-py2.py3-none-any.whl (10 kB)\n",
            "Collecting pyexcel-ods3\n",
            "  Downloading pyexcel_ods3-0.6.1-py3-none-any.whl (9.8 kB)\n",
            "Collecting pyexcel-odsr\n",
            "  Downloading pyexcel_odsr-0.6.0-py2.py3-none-any.whl (11 kB)\n",
            "Collecting pyexcel-io\n",
            "  Downloading pyexcel_io-0.6.6-py2.py3-none-any.whl (44 kB)\n",
            "\u001b[2K     \u001b[90m━━━━━━━━━━━━━━━━━━━━━━━━━━━━━━━━━━━━━━━━\u001b[0m \u001b[32m44.2/44.2 kB\u001b[0m \u001b[31m5.7 MB/s\u001b[0m eta \u001b[36m0:00:00\u001b[0m\n",
            "\u001b[?25hRequirement already satisfied: chardet in /usr/local/lib/python3.10/dist-packages (from pyexcel) (5.2.0)\n",
            "Collecting lml>=0.0.4 (from pyexcel)\n",
            "  Downloading lml-0.1.0-py2.py3-none-any.whl (10 kB)\n",
            "Collecting texttable>=0.8.2 (from pyexcel)\n",
            "  Downloading texttable-1.7.0-py2.py3-none-any.whl (10 kB)\n",
            "Collecting odfpy>=1.3.5 (from pyexcel-ods)\n",
            "  Downloading odfpy-1.4.1.tar.gz (717 kB)\n",
            "\u001b[2K     \u001b[90m━━━━━━━━━━━━━━━━━━━━━━━━━━━━━━━━━━━━━━━━\u001b[0m \u001b[32m717.0/717.0 kB\u001b[0m \u001b[31m9.4 MB/s\u001b[0m eta \u001b[36m0:00:00\u001b[0m\n",
            "\u001b[?25h  Preparing metadata (setup.py) ... \u001b[?25l\u001b[?25hdone\n",
            "Requirement already satisfied: lxml in /usr/local/lib/python3.10/dist-packages (from pyexcel-ods3) (4.9.4)\n",
            "Collecting pyexcel-ezodf>=0.3.3 (from pyexcel-ods3)\n",
            "  Downloading pyexcel_ezodf-0.3.4-py2.py3-none-any.whl (53 kB)\n",
            "\u001b[2K     \u001b[90m━━━━━━━━━━━━━━━━━━━━━━━━━━━━━━━━━━━━━━━━\u001b[0m \u001b[32m53.9/53.9 kB\u001b[0m \u001b[31m4.7 MB/s\u001b[0m eta \u001b[36m0:00:00\u001b[0m\n",
            "\u001b[?25hRequirement already satisfied: defusedxml in /usr/local/lib/python3.10/dist-packages (from odfpy>=1.3.5->pyexcel-ods) (0.7.1)\n",
            "Building wheels for collected packages: odfpy\n",
            "  Building wheel for odfpy (setup.py) ... \u001b[?25l\u001b[?25hdone\n",
            "  Created wheel for odfpy: filename=odfpy-1.4.1-py2.py3-none-any.whl size=160673 sha256=7cf6c6c48523844dea8f1099e6d1728d81df8a9de458c188f97afab551c39395\n",
            "  Stored in directory: /root/.cache/pip/wheels/c8/2e/95/90d94fe33903786937f3b8c33dd88807f792359c6424b40469\n",
            "Successfully built odfpy\n",
            "Installing collected packages: texttable, lml, pyexcel-io, pyexcel-ezodf, odfpy, pyexcel-odsr, pyexcel-ods3, pyexcel-ods, pyexcel\n",
            "Successfully installed lml-0.1.0 odfpy-1.4.1 pyexcel-0.7.0 pyexcel-ezodf-0.3.4 pyexcel-io-0.6.6 pyexcel-ods-0.6.0 pyexcel-ods3-0.6.1 pyexcel-odsr-0.6.0 texttable-1.7.0\n"
          ]
        }
      ]
    },
    {
      "cell_type": "code",
      "source": [
        "# Create a Spark session\n",
        "spark = SparkSession.builder.appName('crime_analysis').getOrCreate()"
      ],
      "metadata": {
        "id": "OLXYPZmqz1-T"
      },
      "execution_count": null,
      "outputs": []
    },
    {
      "cell_type": "code",
      "execution_count": null,
      "metadata": {
        "id": "oEFklfz0s2L5"
      },
      "outputs": [],
      "source": [
        "# Load excel datasets into pandas dataframes\n",
        "ref = pd.read_excel('/content/drive/MyDrive/Colab Notebooks/Big Data Assignment2/Assignment2/excel file/reccrime-offence-ref.xlsx')\n",
        "tables = pd.read_excel('/content/drive/MyDrive/Colab Notebooks/Big Data Assignment2/Assignment2/excel file/prc-pfa-mar2013-onwards-tables.xlsx', sheet_name=None)"
      ]
    },
    {
      "cell_type": "code",
      "source": [
        "from google.colab import drive\n",
        "drive.mount('/content/drive')"
      ],
      "metadata": {
        "colab": {
          "base_uri": "https://localhost:8080/"
        },
        "id": "LIMpEUMy0dJG",
        "outputId": "070a0441-84d0-481f-bf33-5fd881681e35"
      },
      "execution_count": null,
      "outputs": [
        {
          "output_type": "stream",
          "name": "stdout",
          "text": [
            "Drive already mounted at /content/drive; to attempt to forcibly remount, call drive.mount(\"/content/drive\", force_remount=True).\n"
          ]
        }
      ]
    },
    {
      "cell_type": "code",
      "execution_count": null,
      "metadata": {
        "id": "LS-6y73Is2L6"
      },
      "outputs": [],
      "source": [
        "# Select the table of interest and create a dataframe\n",
        "yr_2018_19 = tables['2018-19']\n",
        "yr_2019_20 = tables['2019-20']\n",
        "yr_2020_21 = tables['2020-21']\n",
        "yr_2021_22 = tables['2021-22']\n",
        "yr_2022_23 = tables['2022-23']\n",
        "yr_2023_24 = tables['2023-24']"
      ]
    },
    {
      "cell_type": "code",
      "source": [
        "# create a schema for the PySpark DataFrame\n",
        "schema = StructType([\n",
        "StructField(\"Offence Code\", StringType(), True),\n",
        "StructField(\"Offence description\", StringType(), True),\n",
        "StructField(\"Old PRC offence group\", StringType(), True),\n",
        "StructField(\"Old offence sub-group\", StringType(), True),\n",
        "StructField(\"New ONS offence group\", StringType(), True),\n",
        "StructField(\"New ONS sub-offence group\", StringType(), True),\n",
        "])\n",
        "\n"
      ],
      "metadata": {
        "id": "VffTb7Gq6mMd"
      },
      "execution_count": null,
      "outputs": []
    },
    {
      "cell_type": "code",
      "source": [
        "offence_ref = ref"
      ],
      "metadata": {
        "id": "UEnCva5JVCAA"
      },
      "execution_count": null,
      "outputs": []
    },
    {
      "cell_type": "code",
      "source": [
        "ref = ref.toPandas()\n",
        "# create a PySpark DataFrame from the pandas DataFrame using the schema\n",
        "ref = spark.createDataFrame(ref, schema=schema)\n",
        "# show the content of the ref DataFrame\n",
        "ref.show()"
      ],
      "metadata": {
        "colab": {
          "base_uri": "https://localhost:8080/"
        },
        "id": "kSJD0wYDY509",
        "outputId": "51d8b6cb-8d17-49fe-9668-b0d4b03d8cab"
      },
      "execution_count": null,
      "outputs": [
        {
          "output_type": "stream",
          "name": "stdout",
          "text": [
            "+--------------+--------------------+---------------------+---------------------+---------------------+-------------------------+\n",
            "|  Offence Code| Offence description|Old PRC offence group|Old offence sub-group|New ONS offence group|New ONS sub-offence group|\n",
            "+--------------+--------------------+---------------------+---------------------+---------------------+-------------------------+\n",
            "|             1|              Murder| Violence against ...| Violence against ...| Violence against ...|                 Homicide|\n",
            "|     1/4.1/4.2|            Homicide| Violence against ...| Violence against ...| Violence against ...|                 Homicide|\n",
            "|1/4.1/4.2/4.10|            Homicide| Violence against ...| Violence against ...| Violence against ...|                 Homicide|\n",
            "|           104|Assault without i...| Violence against ...| Violence against ...| Violence against ...|     Violence without ...|\n",
            "|          105A|Assault without i...| Violence against ...| Violence against ...| Violence against ...|     Violence without ...|\n",
            "|          105B|Racially or relig...| Violence against ...| Violence against ...| Violence against ...|     Violence without ...|\n",
            "|          106*|      Modern Slavery|                  NaN|                  NaN| Violence against ...|     Violence without ...|\n",
            "|           10A|Possession of fir...| Violence against ...| Violence against ...| Possession of wea...|     Possession of wea...|\n",
            "|           10B|Possession of fir...| Other miscellaneo...|                  NaN| Possession of wea...|     Possession of wea...|\n",
            "|           10C|Possession of oth...| Violence against ...| Violence against ...| Possession of wea...|     Possession of wea...|\n",
            "|           10D|Possession of art...| Violence against ...| Violence against ...| Possession of wea...|     Possession of wea...|\n",
            "|            11|Cruelty to and ne...| Violence against ...| Violence against ...| Violence against ...|     Violence without ...|\n",
            "|           11A|Cruelty to childr...| Violence against ...| Violence against ...| Violence against ...|     Violence without ...|\n",
            "|            12|Abandoning child ...| Violence against ...| Violence against ...| Violence against ...|     Violence without ...|\n",
            "|           126|Interfering with ...| Offences against ...|                  NaN|       Theft offences|         Vehicle offences|\n",
            "|            13|     Child abduction| Violence against ...| Violence against ...| Violence against ...|     Violence without ...|\n",
            "|           139|   Indecent exposure|      Sexual offences| Other sexual offe...|      Sexual offences|     Other sexual offe...|\n",
            "|            14|Procuring illegal...| Violence against ...| Violence against ...| Violence against ...|     Violence without ...|\n",
            "|            15|Concealing an inf...| Other miscellaneo...|                  NaN| Miscellaneous cri...|     Miscellaneous cri...|\n",
            "|            16|             Buggery|      Sexual offences| Other sexual offe...|      Sexual offences|     Other sexual offe...|\n",
            "+--------------+--------------------+---------------------+---------------------+---------------------+-------------------------+\n",
            "only showing top 20 rows\n",
            "\n"
          ]
        }
      ]
    },
    {
      "cell_type": "code",
      "execution_count": null,
      "metadata": {
        "colab": {
          "base_uri": "https://localhost:8080/"
        },
        "id": "uR_j_vQ-s2L6",
        "outputId": "6d197330-fd95-43cb-afed-2d65de232056"
      },
      "outputs": [
        {
          "output_type": "stream",
          "name": "stderr",
          "text": [
            "/content/spark-3.1.1-bin-hadoop3.2/python/pyspark/sql/pandas/conversion.py:331: FutureWarning: iteritems is deprecated and will be removed in a future version. Use .items instead.\n",
            "  for column, series in pdf.iteritems():\n"
          ]
        }
      ],
      "source": [
        "# Convert table file  and offence_ref_file to pyspark dataframe\n",
        "df_2018_19 = spark.createDataFrame(yr_2018_19)\n",
        "df_2019_20 = spark.createDataFrame(yr_2019_20)\n",
        "df_2020_21 = spark.createDataFrame(yr_2020_21)\n",
        "df_2021_22 = spark.createDataFrame(yr_2021_22)\n",
        "df_2022_23 = spark.createDataFrame(yr_2022_23)\n",
        "df_2023_24 = spark.createDataFrame(yr_2023_24)"
      ]
    },
    {
      "cell_type": "code",
      "execution_count": null,
      "metadata": {
        "id": "PzxTcafSs2L7"
      },
      "outputs": [],
      "source": [
        "# Create temporary views of the dataframes\n",
        "df_2018_19.createOrReplaceTempView('df_2018_19')\n",
        "df_2019_20.createOrReplaceTempView('df_2019_20')\n",
        "df_2020_21.createOrReplaceTempView('df_2020_21')\n",
        "df_2021_22.createOrReplaceTempView('df_2021_22')\n",
        "df_2022_23.createOrReplaceTempView('df_2022_23')\n",
        "df_2023_24.createOrReplaceTempView('df_2023_24')\n",
        "\n",
        "\n"
      ]
    },
    {
      "cell_type": "code",
      "source": [
        "ref.head()"
      ],
      "metadata": {
        "colab": {
          "base_uri": "https://localhost:8080/"
        },
        "id": "3MPzi71KTtfd",
        "outputId": "bf4ec5b4-b73e-4734-f23a-a8d106a99938"
      },
      "execution_count": null,
      "outputs": [
        {
          "output_type": "execute_result",
          "data": {
            "text/plain": [
              "Row(Offence Code='1', Offence description='Murder', Old PRC offence group='Violence against the person', Old offence sub-group='Violence against the person - with injury', New ONS offence group='Violence against the person', New ONS sub-offence group='Homicide')"
            ]
          },
          "metadata": {},
          "execution_count": 153
        }
      ]
    },
    {
      "cell_type": "code",
      "source": [
        "# Write sql queries to join tables\n",
        "query_1 = \"\"\"\n",
        "                SELECT * FROM df_2018_19\n",
        "                UNION\n",
        "                SELECT * FROM df_2019_20\n",
        "                UNION\n",
        "                SELECT * FROM df_2020_21\n",
        "                UNION\n",
        "                SELECT * FROM df_2021_22\n",
        "                UNION\n",
        "                SELECT * FROM df_2022_23\n",
        "                UNION\n",
        "                SELECT * FROM df_2023_24\n",
        "\"\"\"\n"
      ],
      "metadata": {
        "id": "OzoFgT-G-bqp"
      },
      "execution_count": null,
      "outputs": []
    },
    {
      "cell_type": "code",
      "source": [
        "# Load query and return dataframe\n",
        "offence_df = spark.sql(query_1)"
      ],
      "metadata": {
        "id": "F8VYKeDf-Wn_"
      },
      "execution_count": null,
      "outputs": []
    },
    {
      "cell_type": "code",
      "source": [
        "print(offence_df.count())"
      ],
      "metadata": {
        "colab": {
          "base_uri": "https://localhost:8080/"
        },
        "id": "Y5lnKQowG6hP",
        "outputId": "7488692b-22f8-4042-908a-cfd9e614c5a8"
      },
      "execution_count": null,
      "outputs": [
        {
          "output_type": "stream",
          "name": "stdout",
          "text": [
            "124193\n"
          ]
        }
      ]
    },
    {
      "cell_type": "code",
      "source": [
        "print(offence_ref.count())"
      ],
      "metadata": {
        "colab": {
          "base_uri": "https://localhost:8080/"
        },
        "id": "gT5HTTNGdInx",
        "outputId": "7bdb3958-899b-423b-86cd-eae7a4ffb540"
      },
      "execution_count": null,
      "outputs": [
        {
          "output_type": "stream",
          "name": "stdout",
          "text": [
            "188\n"
          ]
        }
      ]
    },
    {
      "cell_type": "code",
      "source": [
        "# Rename col to remove white space\n",
        "rename_cols = {\n",
        "                'Financial Year': 'Financial_Year',\n",
        "                'Financial Quarter':'Financial_Quarter',\n",
        "                'Force Name':'Force_Name',\n",
        "                'Offence Description':'Offence_Description',\n",
        "                'Offence Group':'Offence_Group',\n",
        "                'Offence Subgroup':'Offence_Subgroup',\n",
        "                'Offence Code':'Offence_Code',\n",
        "                'Number of Offences':'Number_of_Offences',\n",
        "                'Old PRC offence group': 'Old_PRC_offence_group',\n",
        "                'Old offence sub-group': 'Old_offence_sub-group',\n",
        "                'New ONS offence group': 'New_ONS_offence_group',\n",
        "                'New ONS sub-offence group': 'New_ONS_sub_offence_group'\n",
        "}\n"
      ],
      "metadata": {
        "id": "WeSCsLTN-qjK"
      },
      "execution_count": null,
      "outputs": []
    },
    {
      "cell_type": "code",
      "source": [
        "print(offence_df.count())"
      ],
      "metadata": {
        "colab": {
          "base_uri": "https://localhost:8080/"
        },
        "id": "0gKf-RZWKMII",
        "outputId": "07da0e78-49f7-4ccd-9431-fc3213c12e75"
      },
      "execution_count": null,
      "outputs": [
        {
          "output_type": "stream",
          "name": "stdout",
          "text": [
            "124193\n"
          ]
        }
      ]
    },
    {
      "cell_type": "code",
      "source": [
        "offence_df.head()"
      ],
      "metadata": {
        "colab": {
          "base_uri": "https://localhost:8080/"
        },
        "id": "YNPZwVFrKRlz",
        "outputId": "9721182e-5f7a-46a9-e171-934511e9f439"
      },
      "execution_count": null,
      "outputs": [
        {
          "output_type": "execute_result",
          "data": {
            "text/plain": [
              "Row(Financial Year='2018/19', Financial Quarter=1, Force Name='Cheshire', Offence Description='Wildlife', Offence Group='Miscellaneous crimes against society', Offence Subgroup='Miscellaneous crimes against society', Offence Code='96', Number of Offences=1)"
            ]
          },
          "metadata": {},
          "execution_count": 159
        }
      ]
    },
    {
      "cell_type": "code",
      "source": [
        "offence_df.drop('is_null')"
      ],
      "metadata": {
        "colab": {
          "base_uri": "https://localhost:8080/",
          "height": 514
        },
        "id": "v46HJ_x7KxXc",
        "outputId": "8cc1506b-2ca9-4ce8-8e61-c676a081850f"
      },
      "execution_count": null,
      "outputs": [
        {
          "output_type": "execute_result",
          "data": {
            "text/plain": [
              "+--------------+-----------------+------------------+--------------------+--------------------+--------------------+------------+------------------+\n",
              "|Financial Year|Financial Quarter|        Force Name| Offence Description|       Offence Group|    Offence Subgroup|Offence Code|Number of Offences|\n",
              "+--------------+-----------------+------------------+--------------------+--------------------+--------------------+------------+------------------+\n",
              "|       2018/19|                1|          Cheshire|            Wildlife|Miscellaneous cri...|Miscellaneous cri...|          96|                 1|\n",
              "|       2018/19|                1|           Cumbria|Possession of con...|       Drug offences| Possession of drugs|         92E|               122|\n",
              "|       2018/19|                1|Devon and Cornwall|Sexual assault on...|     Sexual offences|Other sexual offe...|         20A|               286|\n",
              "|       2018/19|                1|            Durham|    Endangering life|Violence against ...|Violence with injury|          5E|                 1|\n",
              "|       2018/19|                1|       Dyfed-Powys|Possession of art...|Possession of wea...|Possession of wea...|         10D|                32|\n",
              "|       2018/19|                1|             Essex|              Bigamy|Miscellaneous cri...|Miscellaneous cri...|          26|                 0|\n",
              "|       2018/19|                1|         Hampshire|Abuse of children...|     Sexual offences|Other sexual offe...|          71|                 7|\n",
              "|       2018/19|                1|     Hertfordshire|    Attempted murder|Violence against ...|Violence with injury|           2|                 2|\n",
              "|       2018/19|                1|     Hertfordshire|Burglary Residential|      Theft offences|   Domestic burglary|         28E|               868|\n",
              "|       2018/19|                1|     Hertfordshire|Conspiracy to murder|Violence against ...|Violence without ...|          3A|                 1|\n",
              "|       2018/19|                1|        Humberside|Other criminal da...|Criminal damage a...|     Criminal damage|         58D|               821|\n",
              "|       2018/19|                1|        Humberside|Public fear, alar...|Public order offe...|Public order offe...|          9A|              1614|\n",
              "|       2018/19|                1|        Lancashire|       Other forgery|Miscellaneous cri...|Miscellaneous cri...|          61|                35|\n",
              "|       2018/19|                1|      Lincolnshire|Criminal damage t...|Criminal damage a...|     Criminal damage|         58B|               187|\n",
              "|       2018/19|                1|      Lincolnshire|     Sexual grooming|     Sexual offences|Other sexual offe...|         88A|                21|\n",
              "|       2018/19|                1|        Merseyside|Forgery or use of...|Miscellaneous cri...|Miscellaneous cri...|          60|                 5|\n",
              "|       2018/19|                1|        Merseyside|Possession of fir...|Possession of wea...|Possession of wea...|         10B|                23|\n",
              "|       2018/19|                1|           Norfolk|Possession of con...|       Drug offences| Possession of drugs|         92D|               130|\n",
              "|       2018/19|                1|       North Wales|Abuse of position...|     Sexual offences|Other sexual offe...|          73|                 0|\n",
              "|       2018/19|                1|  Northamptonshire|Interfering with ...|      Theft offences|Vehicle interference|         126|               298|\n",
              "+--------------+-----------------+------------------+--------------------+--------------------+--------------------+------------+------------------+\n",
              "only showing top 20 rows"
            ],
            "text/html": [
              "<table border='1'>\n",
              "<tr><th>Financial Year</th><th>Financial Quarter</th><th>Force Name</th><th>Offence Description</th><th>Offence Group</th><th>Offence Subgroup</th><th>Offence Code</th><th>Number of Offences</th></tr>\n",
              "<tr><td>2018/19</td><td>1</td><td>Cheshire</td><td>Wildlife</td><td>Miscellaneous cri...</td><td>Miscellaneous cri...</td><td>96</td><td>1</td></tr>\n",
              "<tr><td>2018/19</td><td>1</td><td>Cumbria</td><td>Possession of con...</td><td>Drug offences</td><td>Possession of drugs</td><td>92E</td><td>122</td></tr>\n",
              "<tr><td>2018/19</td><td>1</td><td>Devon and Cornwall</td><td>Sexual assault on...</td><td>Sexual offences</td><td>Other sexual offe...</td><td>20A</td><td>286</td></tr>\n",
              "<tr><td>2018/19</td><td>1</td><td>Durham</td><td>Endangering life</td><td>Violence against ...</td><td>Violence with injury</td><td>5E</td><td>1</td></tr>\n",
              "<tr><td>2018/19</td><td>1</td><td>Dyfed-Powys</td><td>Possession of art...</td><td>Possession of wea...</td><td>Possession of wea...</td><td>10D</td><td>32</td></tr>\n",
              "<tr><td>2018/19</td><td>1</td><td>Essex</td><td>Bigamy</td><td>Miscellaneous cri...</td><td>Miscellaneous cri...</td><td>26</td><td>0</td></tr>\n",
              "<tr><td>2018/19</td><td>1</td><td>Hampshire</td><td>Abuse of children...</td><td>Sexual offences</td><td>Other sexual offe...</td><td>71</td><td>7</td></tr>\n",
              "<tr><td>2018/19</td><td>1</td><td>Hertfordshire</td><td>Attempted murder</td><td>Violence against ...</td><td>Violence with injury</td><td>2</td><td>2</td></tr>\n",
              "<tr><td>2018/19</td><td>1</td><td>Hertfordshire</td><td>Burglary Residential</td><td>Theft offences</td><td>Domestic burglary</td><td>28E</td><td>868</td></tr>\n",
              "<tr><td>2018/19</td><td>1</td><td>Hertfordshire</td><td>Conspiracy to murder</td><td>Violence against ...</td><td>Violence without ...</td><td>3A</td><td>1</td></tr>\n",
              "<tr><td>2018/19</td><td>1</td><td>Humberside</td><td>Other criminal da...</td><td>Criminal damage a...</td><td>Criminal damage</td><td>58D</td><td>821</td></tr>\n",
              "<tr><td>2018/19</td><td>1</td><td>Humberside</td><td>Public fear, alar...</td><td>Public order offe...</td><td>Public order offe...</td><td>9A</td><td>1614</td></tr>\n",
              "<tr><td>2018/19</td><td>1</td><td>Lancashire</td><td>Other forgery</td><td>Miscellaneous cri...</td><td>Miscellaneous cri...</td><td>61</td><td>35</td></tr>\n",
              "<tr><td>2018/19</td><td>1</td><td>Lincolnshire</td><td>Criminal damage t...</td><td>Criminal damage a...</td><td>Criminal damage</td><td>58B</td><td>187</td></tr>\n",
              "<tr><td>2018/19</td><td>1</td><td>Lincolnshire</td><td>Sexual grooming</td><td>Sexual offences</td><td>Other sexual offe...</td><td>88A</td><td>21</td></tr>\n",
              "<tr><td>2018/19</td><td>1</td><td>Merseyside</td><td>Forgery or use of...</td><td>Miscellaneous cri...</td><td>Miscellaneous cri...</td><td>60</td><td>5</td></tr>\n",
              "<tr><td>2018/19</td><td>1</td><td>Merseyside</td><td>Possession of fir...</td><td>Possession of wea...</td><td>Possession of wea...</td><td>10B</td><td>23</td></tr>\n",
              "<tr><td>2018/19</td><td>1</td><td>Norfolk</td><td>Possession of con...</td><td>Drug offences</td><td>Possession of drugs</td><td>92D</td><td>130</td></tr>\n",
              "<tr><td>2018/19</td><td>1</td><td>North Wales</td><td>Abuse of position...</td><td>Sexual offences</td><td>Other sexual offe...</td><td>73</td><td>0</td></tr>\n",
              "<tr><td>2018/19</td><td>1</td><td>Northamptonshire</td><td>Interfering with ...</td><td>Theft offences</td><td>Vehicle interference</td><td>126</td><td>298</td></tr>\n",
              "</table>\n",
              "only showing top 20 rows\n"
            ]
          },
          "metadata": {},
          "execution_count": 160
        }
      ]
    },
    {
      "cell_type": "code",
      "execution_count": null,
      "metadata": {
        "colab": {
          "base_uri": "https://localhost:8080/"
        },
        "id": "hBpmHMJms2L7",
        "outputId": "47bfe9fb-abf5-4ee3-cce1-9b461004f6f8"
      },
      "outputs": [
        {
          "output_type": "stream",
          "name": "stdout",
          "text": [
            "198\n",
            "124193\n"
          ]
        }
      ],
      "source": [
        "\n",
        "# Loops through rename_cols and removes white space\n",
        "for old_name, new_name in rename_cols.items():\n",
        "    offence_df = offence_df.withColumnRenamed(old_name, new_name)\n",
        "    offence_ref = ref.withColumnRenamed(old_name, new_name)\n",
        "print(offence_ref.count())\n",
        "print(offence_df.count())"
      ]
    },
    {
      "cell_type": "code",
      "execution_count": null,
      "metadata": {
        "id": "sgUp_W4ms2L7"
      },
      "outputs": [],
      "source": [
        "# Drop duplicates in offence_ref\n",
        "offence_ref = offence_ref.dropDuplicates()\n",
        "\n"
      ]
    },
    {
      "cell_type": "code",
      "source": [
        "print(offence_ref.count())"
      ],
      "metadata": {
        "colab": {
          "base_uri": "https://localhost:8080/"
        },
        "id": "gBI8rAokEUwG",
        "outputId": "b62f1eb6-e5a1-447a-902f-0445c7e7f71c"
      },
      "execution_count": null,
      "outputs": [
        {
          "output_type": "stream",
          "name": "stdout",
          "text": [
            "188\n"
          ]
        }
      ]
    },
    {
      "cell_type": "code",
      "source": [
        "offence_ref = offence_ref.withColumnRenamed('Offence Code', 'Offence_Code')"
      ],
      "metadata": {
        "id": "QY92oNcLhai1"
      },
      "execution_count": null,
      "outputs": []
    },
    {
      "cell_type": "code",
      "source": [
        "# register the DataFrame as a temporary view\n",
        "offence_ref.createOrReplaceTempView('offence_ref')"
      ],
      "metadata": {
        "id": "eVpiISZahh7w"
      },
      "execution_count": 213,
      "outputs": []
    },
    {
      "cell_type": "code",
      "source": [
        "# Create temporary views of the dataframes\n",
        "offence_df.createOrReplaceTempView('offence_df')\n",
        "offence_ref.createOrReplaceTempView('offence_ref')\n",
        "\n"
      ],
      "metadata": {
        "id": "uFEW-Oya-8lU"
      },
      "execution_count": 251,
      "outputs": []
    },
    {
      "cell_type": "code",
      "source": [
        "offence_df.createOrReplaceTempView('offence_df')\n",
        "ref.createOrReplaceTempView('offence_ref')"
      ],
      "metadata": {
        "id": "B0DAR29MfSDu"
      },
      "execution_count": 252,
      "outputs": []
    },
    {
      "cell_type": "code",
      "source": [
        "# Write sql query to join tables\n",
        "query_2 = \"\"\"\n",
        "SELECT offence_df.*,\n",
        "offence_ref.`New ONS offence group`,\n",
        "offence_ref.`New ONS sub-offence group`,\n",
        "FROM offence_df\n",
        "INNER JOIN offence_ref\n",
        "ON offence_df.Offence_Code = offence_ref.Offence_Code;\n",
        "\"\"\"\n",
        "\n",
        "\n"
      ],
      "metadata": {
        "id": "bFWiDdKH-_sc"
      },
      "execution_count": 254,
      "outputs": []
    },
    {
      "cell_type": "code",
      "source": [
        "offence_df.head()"
      ],
      "metadata": {
        "colab": {
          "base_uri": "https://localhost:8080/"
        },
        "id": "EhcKDpJOlpBp",
        "outputId": "2507a4e6-8d17-436b-e88c-44df47c1b3e8"
      },
      "execution_count": 223,
      "outputs": [
        {
          "output_type": "execute_result",
          "data": {
            "text/plain": [
              "Row(Financial_Year='2018/19', Financial_Quarter=1, Force_Name='Cheshire', Offence_Description='Wildlife', Offence_Group='Miscellaneous crimes against society', Offence_Subgroup='Miscellaneous crimes against society', Offence_Code='96', Number_of_Offences=1)"
            ]
          },
          "metadata": {},
          "execution_count": 223
        }
      ]
    },
    {
      "cell_type": "code",
      "source": [
        "offence_ref.head()"
      ],
      "metadata": {
        "colab": {
          "base_uri": "https://localhost:8080/"
        },
        "id": "7wDtjP3FlviJ",
        "outputId": "6cd6587b-582a-4604-83d8-bafa44870891"
      },
      "execution_count": 224,
      "outputs": [
        {
          "output_type": "execute_result",
          "data": {
            "text/plain": [
              "Row(Offence_Code='90', Offence description='Other knives offences', Old PRC offence group='Other miscellaneous offences', Old offence sub-group='NaN', New ONS offence group='Possession of weapons offences', New_ONS_sub_offence_group='Possession of weapons offences')"
            ]
          },
          "metadata": {},
          "execution_count": 224
        }
      ]
    },
    {
      "cell_type": "code",
      "source": [
        "# show the values of the Offence_Code column in both tables\n",
        "offence_df.select('Offence_Code').show()\n",
        "offence_ref.select('Offence_Code').show()"
      ],
      "metadata": {
        "colab": {
          "base_uri": "https://localhost:8080/"
        },
        "id": "tsvyZ5LHmjle",
        "outputId": "a0f02916-7fef-4fd4-d244-174e1dbe6ade"
      },
      "execution_count": 225,
      "outputs": [
        {
          "output_type": "stream",
          "name": "stdout",
          "text": [
            "+------------+\n",
            "|Offence_Code|\n",
            "+------------+\n",
            "|          96|\n",
            "|         92E|\n",
            "|         20A|\n",
            "|          5E|\n",
            "|         10D|\n",
            "|          26|\n",
            "|          71|\n",
            "|           2|\n",
            "|         28E|\n",
            "|          3A|\n",
            "|         58D|\n",
            "|          9A|\n",
            "|          61|\n",
            "|         58B|\n",
            "|         88A|\n",
            "|          60|\n",
            "|         10B|\n",
            "|         92D|\n",
            "|          73|\n",
            "|         126|\n",
            "+------------+\n",
            "only showing top 20 rows\n",
            "\n",
            "+------------+\n",
            "|Offence_Code|\n",
            "+------------+\n",
            "|          90|\n",
            "|         92A|\n",
            "|         58F|\n",
            "|          33|\n",
            "|         8Q*|\n",
            "|         10B|\n",
            "|          8G|\n",
            "|          5D|\n",
            "|          23|\n",
            "|          84|\n",
            "|         58B|\n",
            "|          22|\n",
            "|          46|\n",
            "|           7|\n",
            "|          8B|\n",
            "|         19C|\n",
            "|         58A|\n",
            "|          60|\n",
            "|          83|\n",
            "|         88B|\n",
            "+------------+\n",
            "only showing top 20 rows\n",
            "\n"
          ]
        }
      ]
    },
    {
      "cell_type": "code",
      "source": [
        "import pyspark.sql.functions as F\n",
        "# convert the values of the Offence_Code column to string and uppercase in both tables\n",
        "offence_df = offence_df.withColumn('Offence_Code', F.upper(F.col('Offence_Code').cast('string')))\n",
        "offence_ref = offence_ref.withColumn('Offence_Code', F.upper(F.col('Offence_Code').cast('string')))\n",
        "# join the tables using an INNER JOIN\n",
        "joined_df = offence_df.join(offence_ref, 'Offence_Code', 'inner')\n",
        "# check the number of rows after joining\n",
        "rows = joined_df.count()\n",
        "print(f'The number of rows after joining is: {rows}')"
      ],
      "metadata": {
        "colab": {
          "base_uri": "https://localhost:8080/"
        },
        "id": "5lSrkvxLmrwh",
        "outputId": "a8127e1f-0c06-4901-f629-0b76dad897c2"
      },
      "execution_count": 226,
      "outputs": [
        {
          "output_type": "stream",
          "name": "stdout",
          "text": [
            "The number of rows after joining is: 107184\n"
          ]
        }
      ]
    },
    {
      "cell_type": "code",
      "source": [
        "query_2=rows"
      ],
      "metadata": {
        "id": "EKJQwxQ6pNYb"
      },
      "execution_count": 235,
      "outputs": []
    },
    {
      "cell_type": "code",
      "source": [
        "# check the number of rows using the count function\n",
        "rows = joined_df.count()\n",
        "print(f'The number of rows after joining is: {rows}')"
      ],
      "metadata": {
        "colab": {
          "base_uri": "https://localhost:8080/"
        },
        "id": "zgSLowXsnioa",
        "outputId": "86b40bbe-f1c0-4d4a-927c-f4b9efbcb050"
      },
      "execution_count": 229,
      "outputs": [
        {
          "output_type": "stream",
          "name": "stdout",
          "text": [
            "The number of rows after joining is: 107184\n"
          ]
        }
      ]
    },
    {
      "cell_type": "code",
      "source": [
        "# check the number of columns using the len function on the columns attribute\n",
        "cols = len(joined_df.columns)\n",
        "# print the results\n",
        "\n",
        "print(f'The number of columns after joining is: {cols}')"
      ],
      "metadata": {
        "colab": {
          "base_uri": "https://localhost:8080/"
        },
        "id": "rbjiheEsJzfF",
        "outputId": "8a4d8937-fa95-4b91-b2f0-fbba2d2b43f7"
      },
      "execution_count": 228,
      "outputs": [
        {
          "output_type": "stream",
          "name": "stdout",
          "text": [
            "The number of columns after joining is: 13\n"
          ]
        }
      ]
    },
    {
      "cell_type": "code",
      "source": [
        "# join the tables using a LEFT JOIN\n",
        "joined_df = offence_df.join(offence_ref, 'Offence_Code', 'left')\n",
        "# check the number of rows after joining\n",
        "rows = joined_df.count()\n",
        "print(f'The number of rows after joining is: {rows}')"
      ],
      "metadata": {
        "colab": {
          "base_uri": "https://localhost:8080/"
        },
        "id": "y0gTp6Q6ogQw",
        "outputId": "3f2ff866-ec61-42f0-99f9-0f578844a8b3"
      },
      "execution_count": 232,
      "outputs": [
        {
          "output_type": "stream",
          "name": "stdout",
          "text": [
            "The number of rows after joining is: 124193\n"
          ]
        }
      ]
    },
    {
      "cell_type": "code",
      "source": [
        "print(type(query_2))"
      ],
      "metadata": {
        "colab": {
          "base_uri": "https://localhost:8080/"
        },
        "id": "8dssk84vp5Pa",
        "outputId": "530d7202-a8be-4985-8c96-88bbd065be4b"
      },
      "execution_count": 240,
      "outputs": [
        {
          "output_type": "stream",
          "name": "stdout",
          "text": [
            "<class 'int'>\n"
          ]
        }
      ]
    },
    {
      "cell_type": "code",
      "source": [
        "# convert the query_2 variable to a string\n",
        "query_2 = str(query_2)\n"
      ],
      "metadata": {
        "id": "nmFB-Hj-qErl"
      },
      "execution_count": 242,
      "outputs": []
    },
    {
      "cell_type": "code",
      "source": [
        "# Write sql query to join tables\n",
        "query_2 = \"\"\"\n",
        "SELECT offence_df.*,\n",
        "offence_ref.`New ONS offence group`,\n",
        "offence_ref.`New ONS sub-offence group`\n",
        "FROM offence_df\n",
        "INNER JOIN offence_ref\n",
        "ON offence_df.Offence_Code = offence_ref.Offence_Code;\n",
        "\"\"\""
      ],
      "metadata": {
        "id": "99NB6q1Uqx-i"
      },
      "execution_count": 246,
      "outputs": []
    },
    {
      "cell_type": "code",
      "source": [
        "# create or replace a temporary view named offence_final\n",
        "offence_final_df.createOrReplaceTempView(\"offence_final\")\n",
        "# create or replace a global temporary view named offence_final\n",
        "offence_final_df.createOrReplaceGlobalTempView(\"offence_final\")"
      ],
      "metadata": {
        "colab": {
          "base_uri": "https://localhost:8080/",
          "height": 228
        },
        "id": "543aXOKUsvqo",
        "outputId": "8b2d2805-8d5c-4e48-9cd8-274848bd32f5"
      },
      "execution_count": 250,
      "outputs": [
        {
          "output_type": "error",
          "ename": "NameError",
          "evalue": "name 'offence_final_df' is not defined",
          "traceback": [
            "\u001b[0;31m---------------------------------------------------------------------------\u001b[0m",
            "\u001b[0;31mNameError\u001b[0m                                 Traceback (most recent call last)",
            "\u001b[0;32m<ipython-input-250-fe96ae723db7>\u001b[0m in \u001b[0;36m<cell line: 2>\u001b[0;34m()\u001b[0m\n\u001b[1;32m      1\u001b[0m \u001b[0;31m# create or replace a temporary view named offence_final\u001b[0m\u001b[0;34m\u001b[0m\u001b[0;34m\u001b[0m\u001b[0m\n\u001b[0;32m----> 2\u001b[0;31m \u001b[0moffence_final_df\u001b[0m\u001b[0;34m.\u001b[0m\u001b[0mcreateOrReplaceTempView\u001b[0m\u001b[0;34m(\u001b[0m\u001b[0;34m\"offence_final\"\u001b[0m\u001b[0;34m)\u001b[0m\u001b[0;34m\u001b[0m\u001b[0;34m\u001b[0m\u001b[0m\n\u001b[0m\u001b[1;32m      3\u001b[0m \u001b[0;31m# create or replace a global temporary view named offence_final\u001b[0m\u001b[0;34m\u001b[0m\u001b[0;34m\u001b[0m\u001b[0m\n\u001b[1;32m      4\u001b[0m \u001b[0moffence_final_df\u001b[0m\u001b[0;34m.\u001b[0m\u001b[0mcreateOrReplaceGlobalTempView\u001b[0m\u001b[0;34m(\u001b[0m\u001b[0;34m\"offence_final\"\u001b[0m\u001b[0;34m)\u001b[0m\u001b[0;34m\u001b[0m\u001b[0;34m\u001b[0m\u001b[0m\n",
            "\u001b[0;31mNameError\u001b[0m: name 'offence_final_df' is not defined"
          ]
        }
      ]
    },
    {
      "cell_type": "code",
      "source": [
        "#  Create offence_final with query\n",
        "offence_final = spark.sql(query_2)"
      ],
      "metadata": {
        "colab": {
          "base_uri": "https://localhost:8080/",
          "height": 373
        },
        "id": "qoqkOEDyryd-",
        "outputId": "96696521-1590-4f31-9fe4-8c5e9eec9dc9"
      },
      "execution_count": 249,
      "outputs": [
        {
          "output_type": "error",
          "ename": "AnalysisException",
          "evalue": "Table or view not found: offence_final; line 1 pos 14;\n'Project [*]\n+- 'UnresolvedRelation [offence_final], [], false\n",
          "traceback": [
            "\u001b[0;31m---------------------------------------------------------------------------\u001b[0m",
            "\u001b[0;31mAnalysisException\u001b[0m                         Traceback (most recent call last)",
            "\u001b[0;32m<ipython-input-249-4a8ed34ca3ce>\u001b[0m in \u001b[0;36m<cell line: 2>\u001b[0;34m()\u001b[0m\n\u001b[1;32m      1\u001b[0m \u001b[0;31m#  Create offence_final with query\u001b[0m\u001b[0;34m\u001b[0m\u001b[0;34m\u001b[0m\u001b[0m\n\u001b[0;32m----> 2\u001b[0;31m \u001b[0moffence_final\u001b[0m \u001b[0;34m=\u001b[0m \u001b[0mspark\u001b[0m\u001b[0;34m.\u001b[0m\u001b[0msql\u001b[0m\u001b[0;34m(\u001b[0m\u001b[0mquery_2\u001b[0m\u001b[0;34m)\u001b[0m\u001b[0;34m\u001b[0m\u001b[0;34m\u001b[0m\u001b[0m\n\u001b[0m",
            "\u001b[0;32m/content/spark-3.1.1-bin-hadoop3.2/python/pyspark/sql/session.py\u001b[0m in \u001b[0;36msql\u001b[0;34m(self, sqlQuery)\u001b[0m\n\u001b[1;32m    721\u001b[0m         \u001b[0;34m[\u001b[0m\u001b[0mRow\u001b[0m\u001b[0;34m(\u001b[0m\u001b[0mf1\u001b[0m\u001b[0;34m=\u001b[0m\u001b[0;36m1\u001b[0m\u001b[0;34m,\u001b[0m \u001b[0mf2\u001b[0m\u001b[0;34m=\u001b[0m\u001b[0;34m'row1'\u001b[0m\u001b[0;34m)\u001b[0m\u001b[0;34m,\u001b[0m \u001b[0mRow\u001b[0m\u001b[0;34m(\u001b[0m\u001b[0mf1\u001b[0m\u001b[0;34m=\u001b[0m\u001b[0;36m2\u001b[0m\u001b[0;34m,\u001b[0m \u001b[0mf2\u001b[0m\u001b[0;34m=\u001b[0m\u001b[0;34m'row2'\u001b[0m\u001b[0;34m)\u001b[0m\u001b[0;34m,\u001b[0m \u001b[0mRow\u001b[0m\u001b[0;34m(\u001b[0m\u001b[0mf1\u001b[0m\u001b[0;34m=\u001b[0m\u001b[0;36m3\u001b[0m\u001b[0;34m,\u001b[0m \u001b[0mf2\u001b[0m\u001b[0;34m=\u001b[0m\u001b[0;34m'row3'\u001b[0m\u001b[0;34m)\u001b[0m\u001b[0;34m]\u001b[0m\u001b[0;34m\u001b[0m\u001b[0;34m\u001b[0m\u001b[0m\n\u001b[1;32m    722\u001b[0m         \"\"\"\n\u001b[0;32m--> 723\u001b[0;31m         \u001b[0;32mreturn\u001b[0m \u001b[0mDataFrame\u001b[0m\u001b[0;34m(\u001b[0m\u001b[0mself\u001b[0m\u001b[0;34m.\u001b[0m\u001b[0m_jsparkSession\u001b[0m\u001b[0;34m.\u001b[0m\u001b[0msql\u001b[0m\u001b[0;34m(\u001b[0m\u001b[0msqlQuery\u001b[0m\u001b[0;34m)\u001b[0m\u001b[0;34m,\u001b[0m \u001b[0mself\u001b[0m\u001b[0;34m.\u001b[0m\u001b[0m_wrapped\u001b[0m\u001b[0;34m)\u001b[0m\u001b[0;34m\u001b[0m\u001b[0;34m\u001b[0m\u001b[0m\n\u001b[0m\u001b[1;32m    724\u001b[0m \u001b[0;34m\u001b[0m\u001b[0m\n\u001b[1;32m    725\u001b[0m     \u001b[0;32mdef\u001b[0m \u001b[0mtable\u001b[0m\u001b[0;34m(\u001b[0m\u001b[0mself\u001b[0m\u001b[0;34m,\u001b[0m \u001b[0mtableName\u001b[0m\u001b[0;34m)\u001b[0m\u001b[0;34m:\u001b[0m\u001b[0;34m\u001b[0m\u001b[0;34m\u001b[0m\u001b[0m\n",
            "\u001b[0;32m/content/spark-3.1.1-bin-hadoop3.2/python/lib/py4j-0.10.9-src.zip/py4j/java_gateway.py\u001b[0m in \u001b[0;36m__call__\u001b[0;34m(self, *args)\u001b[0m\n\u001b[1;32m   1302\u001b[0m \u001b[0;34m\u001b[0m\u001b[0m\n\u001b[1;32m   1303\u001b[0m         \u001b[0manswer\u001b[0m \u001b[0;34m=\u001b[0m \u001b[0mself\u001b[0m\u001b[0;34m.\u001b[0m\u001b[0mgateway_client\u001b[0m\u001b[0;34m.\u001b[0m\u001b[0msend_command\u001b[0m\u001b[0;34m(\u001b[0m\u001b[0mcommand\u001b[0m\u001b[0;34m)\u001b[0m\u001b[0;34m\u001b[0m\u001b[0;34m\u001b[0m\u001b[0m\n\u001b[0;32m-> 1304\u001b[0;31m         return_value = get_return_value(\n\u001b[0m\u001b[1;32m   1305\u001b[0m             answer, self.gateway_client, self.target_id, self.name)\n\u001b[1;32m   1306\u001b[0m \u001b[0;34m\u001b[0m\u001b[0m\n",
            "\u001b[0;32m/content/spark-3.1.1-bin-hadoop3.2/python/pyspark/sql/utils.py\u001b[0m in \u001b[0;36mdeco\u001b[0;34m(*a, **kw)\u001b[0m\n\u001b[1;32m    115\u001b[0m                 \u001b[0;31m# Hide where the exception came from that shows a non-Pythonic\u001b[0m\u001b[0;34m\u001b[0m\u001b[0;34m\u001b[0m\u001b[0m\n\u001b[1;32m    116\u001b[0m                 \u001b[0;31m# JVM exception message.\u001b[0m\u001b[0;34m\u001b[0m\u001b[0;34m\u001b[0m\u001b[0m\n\u001b[0;32m--> 117\u001b[0;31m                 \u001b[0;32mraise\u001b[0m \u001b[0mconverted\u001b[0m \u001b[0;32mfrom\u001b[0m \u001b[0;32mNone\u001b[0m\u001b[0;34m\u001b[0m\u001b[0;34m\u001b[0m\u001b[0m\n\u001b[0m\u001b[1;32m    118\u001b[0m             \u001b[0;32melse\u001b[0m\u001b[0;34m:\u001b[0m\u001b[0;34m\u001b[0m\u001b[0;34m\u001b[0m\u001b[0m\n\u001b[1;32m    119\u001b[0m                 \u001b[0;32mraise\u001b[0m\u001b[0;34m\u001b[0m\u001b[0;34m\u001b[0m\u001b[0m\n",
            "\u001b[0;31mAnalysisException\u001b[0m: Table or view not found: offence_final; line 1 pos 14;\n'Project [*]\n+- 'UnresolvedRelation [offence_final], [], false\n"
          ]
        }
      ]
    },
    {
      "cell_type": "code",
      "source": [
        "print(offence_final.count())"
      ],
      "metadata": {
        "colab": {
          "base_uri": "https://localhost:8080/"
        },
        "id": "6_rJq7SBEmGq",
        "outputId": "949f46e8-a314-44ae-b767-b520b0d479ab"
      },
      "execution_count": 231,
      "outputs": [
        {
          "output_type": "stream",
          "name": "stdout",
          "text": [
            "0\n"
          ]
        }
      ]
    },
    {
      "cell_type": "code",
      "execution_count": null,
      "metadata": {
        "colab": {
          "base_uri": "https://localhost:8080/"
        },
        "id": "da8_h5D0s2L8",
        "outputId": "f17b38ab-e214-4133-8c82-c57538082956"
      },
      "outputs": [
        {
          "output_type": "stream",
          "name": "stdout",
          "text": [
            "root\n",
            " |-- Financial_Year: integer (nullable = true)\n",
            " |-- Financial_Quarter: long (nullable = true)\n",
            " |-- Force_Name: string (nullable = true)\n",
            " |-- Offence_Description: string (nullable = true)\n",
            " |-- Offence_Group: string (nullable = true)\n",
            " |-- Offence_Subgroup: string (nullable = true)\n",
            " |-- Offence_Code: string (nullable = true)\n",
            " |-- Number_of_Offences: long (nullable = true)\n",
            " |-- New_ONS_offence_group: string (nullable = true)\n",
            " |-- New_ONS_sub_offence_group: string (nullable = true)\n",
            "\n"
          ]
        }
      ],
      "source": [
        "# Print schema\n",
        "offence_final.printSchema()"
      ]
    },
    {
      "cell_type": "code",
      "execution_count": null,
      "metadata": {
        "id": "ZkU02QDIs2L8"
      },
      "outputs": [],
      "source": [
        "# Get year from financial year column\n",
        "offence_final = offence_final.withColumn('Financial_Year', substring('Financial_Year',  1,  4))\n",
        "\n",
        "# Convert Financial year column to int\n",
        "offence_final = offence_final.withColumn('Financial_Year',  offence_final.Financial_Year.cast('int'))"
      ]
    },
    {
      "cell_type": "code",
      "source": [
        "offence_final.head(5)"
      ],
      "metadata": {
        "colab": {
          "base_uri": "https://localhost:8080/"
        },
        "id": "tqDEqgyT_U25",
        "outputId": "fe4bb948-6360-4c92-dfcd-a9e1100a1848"
      },
      "execution_count": null,
      "outputs": [
        {
          "output_type": "execute_result",
          "data": {
            "text/plain": [
              "[]"
            ]
          },
          "metadata": {},
          "execution_count": 74
        }
      ]
    },
    {
      "cell_type": "code",
      "execution_count": null,
      "metadata": {
        "colab": {
          "base_uri": "https://localhost:8080/"
        },
        "id": "YTTfI2O4s2L9",
        "outputId": "519676cb-b95b-474c-af01-cce5e52e298b"
      },
      "outputs": [
        {
          "output_type": "stream",
          "name": "stdout",
          "text": [
            "root\n",
            " |-- Financial_Year: integer (nullable = true)\n",
            " |-- Financial_Quarter: long (nullable = true)\n",
            " |-- Force_Name: string (nullable = true)\n",
            " |-- Offence_Description: string (nullable = true)\n",
            " |-- Offence_Group: string (nullable = true)\n",
            " |-- Offence_Subgroup: string (nullable = true)\n",
            " |-- Offence_Code: string (nullable = true)\n",
            " |-- Number_of_Offences: long (nullable = true)\n",
            " |-- New_ONS_offence_group: string (nullable = true)\n",
            " |-- New_ONS_sub_offence_group: string (nullable = true)\n",
            "\n"
          ]
        }
      ],
      "source": [
        "# Check to confirm change in data type\n",
        "offence_final.printSchema()"
      ]
    },
    {
      "cell_type": "code",
      "source": [
        "# check the number of rows in the DataFrame\n",
        "print(offence_final.count())"
      ],
      "metadata": {
        "colab": {
          "base_uri": "https://localhost:8080/"
        },
        "id": "oND3DFGHDaTq",
        "outputId": "e0d1b2c9-aa62-461c-f08c-ebb17c2bd8a3"
      },
      "execution_count": null,
      "outputs": [
        {
          "output_type": "stream",
          "name": "stdout",
          "text": [
            "0\n"
          ]
        }
      ]
    },
    {
      "cell_type": "markdown",
      "metadata": {
        "id": "0VnVn3Nes2L9"
      },
      "source": [
        "## Summary Statisitics"
      ]
    },
    {
      "cell_type": "code",
      "execution_count": null,
      "metadata": {
        "colab": {
          "base_uri": "https://localhost:8080/",
          "height": 356
        },
        "id": "RlOLpNW7s2L-",
        "outputId": "1bfc0a75-8f5c-456e-d590-53380b4a4124"
      },
      "outputs": [
        {
          "output_type": "error",
          "ename": "TypeError",
          "evalue": "unsupported operand type(s) for *: 'NoneType' and 'float'",
          "traceback": [
            "\u001b[0;31m---------------------------------------------------------------------------\u001b[0m",
            "\u001b[0;31mTypeError\u001b[0m                                 Traceback (most recent call last)",
            "\u001b[0;32m<ipython-input-72-a2abb7cb0398>\u001b[0m in \u001b[0;36m<cell line: 3>\u001b[0;34m()\u001b[0m\n\u001b[1;32m      1\u001b[0m \u001b[0;31m# Get the total number of offences in the 6 years dataset\u001b[0m\u001b[0;34m\u001b[0m\u001b[0;34m\u001b[0m\u001b[0m\n\u001b[1;32m      2\u001b[0m \u001b[0mtotalsum\u001b[0m \u001b[0;34m=\u001b[0m \u001b[0moffence_final\u001b[0m\u001b[0;34m.\u001b[0m\u001b[0magg\u001b[0m\u001b[0;34m(\u001b[0m\u001b[0msum\u001b[0m\u001b[0;34m(\u001b[0m\u001b[0;34m'Number_of_Offences'\u001b[0m\u001b[0;34m)\u001b[0m\u001b[0;34m)\u001b[0m\u001b[0;34m.\u001b[0m\u001b[0mcollect\u001b[0m\u001b[0;34m(\u001b[0m\u001b[0;34m)\u001b[0m\u001b[0;34m[\u001b[0m\u001b[0;36m0\u001b[0m\u001b[0;34m]\u001b[0m\u001b[0;34m[\u001b[0m\u001b[0;36m0\u001b[0m\u001b[0;34m]\u001b[0m\u001b[0;34m\u001b[0m\u001b[0;34m\u001b[0m\u001b[0m\n\u001b[0;32m----> 3\u001b[0;31m \u001b[0mprint\u001b[0m\u001b[0;34m(\u001b[0m\u001b[0;34mf'The total sum of Number of offences from 2019-2023 is: {np.round(totalsum, 2)}'\u001b[0m\u001b[0;34m)\u001b[0m\u001b[0;34m\u001b[0m\u001b[0;34m\u001b[0m\u001b[0m\n\u001b[0m",
            "\u001b[0;32m/usr/local/lib/python3.10/dist-packages/numpy/core/overrides.py\u001b[0m in \u001b[0;36mround_\u001b[0;34m(*args, **kwargs)\u001b[0m\n",
            "\u001b[0;32m/usr/local/lib/python3.10/dist-packages/numpy/core/fromnumeric.py\u001b[0m in \u001b[0;36mround_\u001b[0;34m(a, decimals, out)\u001b[0m\n\u001b[1;32m   3729\u001b[0m     \u001b[0maround\u001b[0m \u001b[0;34m:\u001b[0m \u001b[0mequivalent\u001b[0m \u001b[0mfunction\u001b[0m\u001b[0;34m;\u001b[0m \u001b[0msee\u001b[0m \u001b[0;32mfor\u001b[0m \u001b[0mdetails\u001b[0m\u001b[0;34m.\u001b[0m\u001b[0;34m\u001b[0m\u001b[0;34m\u001b[0m\u001b[0m\n\u001b[1;32m   3730\u001b[0m     \"\"\"\n\u001b[0;32m-> 3731\u001b[0;31m     \u001b[0;32mreturn\u001b[0m \u001b[0maround\u001b[0m\u001b[0;34m(\u001b[0m\u001b[0ma\u001b[0m\u001b[0;34m,\u001b[0m \u001b[0mdecimals\u001b[0m\u001b[0;34m=\u001b[0m\u001b[0mdecimals\u001b[0m\u001b[0;34m,\u001b[0m \u001b[0mout\u001b[0m\u001b[0;34m=\u001b[0m\u001b[0mout\u001b[0m\u001b[0;34m)\u001b[0m\u001b[0;34m\u001b[0m\u001b[0;34m\u001b[0m\u001b[0m\n\u001b[0m\u001b[1;32m   3732\u001b[0m \u001b[0;34m\u001b[0m\u001b[0m\n\u001b[1;32m   3733\u001b[0m \u001b[0;34m\u001b[0m\u001b[0m\n",
            "\u001b[0;32m/usr/local/lib/python3.10/dist-packages/numpy/core/overrides.py\u001b[0m in \u001b[0;36maround\u001b[0;34m(*args, **kwargs)\u001b[0m\n",
            "\u001b[0;32m/usr/local/lib/python3.10/dist-packages/numpy/core/fromnumeric.py\u001b[0m in \u001b[0;36maround\u001b[0;34m(a, decimals, out)\u001b[0m\n\u001b[1;32m   3303\u001b[0m \u001b[0;34m\u001b[0m\u001b[0m\n\u001b[1;32m   3304\u001b[0m     \"\"\"\n\u001b[0;32m-> 3305\u001b[0;31m     \u001b[0;32mreturn\u001b[0m \u001b[0m_wrapfunc\u001b[0m\u001b[0;34m(\u001b[0m\u001b[0ma\u001b[0m\u001b[0;34m,\u001b[0m \u001b[0;34m'round'\u001b[0m\u001b[0;34m,\u001b[0m \u001b[0mdecimals\u001b[0m\u001b[0;34m=\u001b[0m\u001b[0mdecimals\u001b[0m\u001b[0;34m,\u001b[0m \u001b[0mout\u001b[0m\u001b[0;34m=\u001b[0m\u001b[0mout\u001b[0m\u001b[0;34m)\u001b[0m\u001b[0;34m\u001b[0m\u001b[0;34m\u001b[0m\u001b[0m\n\u001b[0m\u001b[1;32m   3306\u001b[0m \u001b[0;34m\u001b[0m\u001b[0m\n\u001b[1;32m   3307\u001b[0m \u001b[0;34m\u001b[0m\u001b[0m\n",
            "\u001b[0;32m/usr/local/lib/python3.10/dist-packages/numpy/core/fromnumeric.py\u001b[0m in \u001b[0;36m_wrapfunc\u001b[0;34m(obj, method, *args, **kwds)\u001b[0m\n\u001b[1;32m     52\u001b[0m     \u001b[0mbound\u001b[0m \u001b[0;34m=\u001b[0m \u001b[0mgetattr\u001b[0m\u001b[0;34m(\u001b[0m\u001b[0mobj\u001b[0m\u001b[0;34m,\u001b[0m \u001b[0mmethod\u001b[0m\u001b[0;34m,\u001b[0m \u001b[0;32mNone\u001b[0m\u001b[0;34m)\u001b[0m\u001b[0;34m\u001b[0m\u001b[0;34m\u001b[0m\u001b[0m\n\u001b[1;32m     53\u001b[0m     \u001b[0;32mif\u001b[0m \u001b[0mbound\u001b[0m \u001b[0;32mis\u001b[0m \u001b[0;32mNone\u001b[0m\u001b[0;34m:\u001b[0m\u001b[0;34m\u001b[0m\u001b[0;34m\u001b[0m\u001b[0m\n\u001b[0;32m---> 54\u001b[0;31m         \u001b[0;32mreturn\u001b[0m \u001b[0m_wrapit\u001b[0m\u001b[0;34m(\u001b[0m\u001b[0mobj\u001b[0m\u001b[0;34m,\u001b[0m \u001b[0mmethod\u001b[0m\u001b[0;34m,\u001b[0m \u001b[0;34m*\u001b[0m\u001b[0margs\u001b[0m\u001b[0;34m,\u001b[0m \u001b[0;34m**\u001b[0m\u001b[0mkwds\u001b[0m\u001b[0;34m)\u001b[0m\u001b[0;34m\u001b[0m\u001b[0;34m\u001b[0m\u001b[0m\n\u001b[0m\u001b[1;32m     55\u001b[0m \u001b[0;34m\u001b[0m\u001b[0m\n\u001b[1;32m     56\u001b[0m     \u001b[0;32mtry\u001b[0m\u001b[0;34m:\u001b[0m\u001b[0;34m\u001b[0m\u001b[0;34m\u001b[0m\u001b[0m\n",
            "\u001b[0;32m/usr/local/lib/python3.10/dist-packages/numpy/core/fromnumeric.py\u001b[0m in \u001b[0;36m_wrapit\u001b[0;34m(obj, method, *args, **kwds)\u001b[0m\n\u001b[1;32m     41\u001b[0m     \u001b[0;32mexcept\u001b[0m \u001b[0mAttributeError\u001b[0m\u001b[0;34m:\u001b[0m\u001b[0;34m\u001b[0m\u001b[0;34m\u001b[0m\u001b[0m\n\u001b[1;32m     42\u001b[0m         \u001b[0mwrap\u001b[0m \u001b[0;34m=\u001b[0m \u001b[0;32mNone\u001b[0m\u001b[0;34m\u001b[0m\u001b[0;34m\u001b[0m\u001b[0m\n\u001b[0;32m---> 43\u001b[0;31m     \u001b[0mresult\u001b[0m \u001b[0;34m=\u001b[0m \u001b[0mgetattr\u001b[0m\u001b[0;34m(\u001b[0m\u001b[0masarray\u001b[0m\u001b[0;34m(\u001b[0m\u001b[0mobj\u001b[0m\u001b[0;34m)\u001b[0m\u001b[0;34m,\u001b[0m \u001b[0mmethod\u001b[0m\u001b[0;34m)\u001b[0m\u001b[0;34m(\u001b[0m\u001b[0;34m*\u001b[0m\u001b[0margs\u001b[0m\u001b[0;34m,\u001b[0m \u001b[0;34m**\u001b[0m\u001b[0mkwds\u001b[0m\u001b[0;34m)\u001b[0m\u001b[0;34m\u001b[0m\u001b[0;34m\u001b[0m\u001b[0m\n\u001b[0m\u001b[1;32m     44\u001b[0m     \u001b[0;32mif\u001b[0m \u001b[0mwrap\u001b[0m\u001b[0;34m:\u001b[0m\u001b[0;34m\u001b[0m\u001b[0;34m\u001b[0m\u001b[0m\n\u001b[1;32m     45\u001b[0m         \u001b[0;32mif\u001b[0m \u001b[0;32mnot\u001b[0m \u001b[0misinstance\u001b[0m\u001b[0;34m(\u001b[0m\u001b[0mresult\u001b[0m\u001b[0;34m,\u001b[0m \u001b[0mmu\u001b[0m\u001b[0;34m.\u001b[0m\u001b[0mndarray\u001b[0m\u001b[0;34m)\u001b[0m\u001b[0;34m:\u001b[0m\u001b[0;34m\u001b[0m\u001b[0;34m\u001b[0m\u001b[0m\n",
            "\u001b[0;31mTypeError\u001b[0m: unsupported operand type(s) for *: 'NoneType' and 'float'"
          ]
        }
      ],
      "source": [
        "# Get the total number of offences in the 6 years dataset\n",
        "totalsum = offence_final.agg(sum('Number_of_Offences')).collect()[0][0]\n",
        "print(f'The total sum of Number of offences from 2019-2023 is: {np.round(totalsum, 2)}')"
      ]
    },
    {
      "cell_type": "code",
      "execution_count": null,
      "metadata": {
        "id": "FTwAyUcis2L-",
        "outputId": "d26be49b-9e28-455f-c6e9-38b0dc3cc392"
      },
      "outputs": [
        {
          "name": "stderr",
          "output_type": "stream",
          "text": [
            "                                                                                \r"
          ]
        },
        {
          "name": "stdout",
          "output_type": "stream",
          "text": [
            "+-------+------------------+\n",
            "|summary|Number_of_Offences|\n",
            "+-------+------------------+\n",
            "|  count|             86768|\n",
            "|   mean|218.72708832749402|\n",
            "| stddev| 884.6202960002709|\n",
            "|    min|                 0|\n",
            "|    max|             29480|\n",
            "+-------+------------------+\n",
            "\n"
          ]
        }
      ],
      "source": [
        "# Descriptive statistics of  Numeric Column\n",
        "offence_final.describe(['Number_of_Offences']).show()"
      ]
    },
    {
      "cell_type": "code",
      "execution_count": null,
      "metadata": {
        "id": "mPh27MI9s2L-",
        "outputId": "e6f3cf6a-d5c4-458d-f6e2-95bda8c06219"
      },
      "outputs": [
        {
          "name": "stderr",
          "output_type": "stream",
          "text": [
            "                                                                                \r"
          ]
        },
        {
          "name": "stdout",
          "output_type": "stream",
          "text": [
            "The correlation between Financial Year and Number of offences is: 0.0098\n"
          ]
        },
        {
          "name": "stderr",
          "output_type": "stream",
          "text": [
            "                                                                                \r"
          ]
        },
        {
          "name": "stdout",
          "output_type": "stream",
          "text": [
            "The correlation between Financial Year and Number of offences is: -0.0053\n"
          ]
        }
      ],
      "source": [
        "# Correlation betwen financial year and number of offences\n",
        "yr_corr_offence = offence_final.corr('Financial_Year', 'Number_of_Offences')\n",
        "\n",
        "print(f'The correlation between Financial Year and Number of offences is: {yr_corr_offence:.4f}')\n",
        "\n",
        "# Correlation betwen financial year and number of offences\n",
        "qt_corr_offence = offence_final.corr('Financial_Quarter', 'Number_of_Offences')\n",
        "\n",
        "print(f'The correlation between Financial Year and Number of offences is: {qt_corr_offence:.4f}')"
      ]
    },
    {
      "cell_type": "code",
      "execution_count": null,
      "metadata": {
        "id": "oUBOy1hjs2L_",
        "outputId": "5ba7589b-a1fc-477e-997f-79ce15c3d60c"
      },
      "outputs": [
        {
          "name": "stderr",
          "output_type": "stream",
          "text": [
            "                                                                                \r"
          ]
        },
        {
          "name": "stdout",
          "output_type": "stream",
          "text": [
            "The covariance between Financial Year and Number of offences is: 10.6975\n"
          ]
        },
        {
          "name": "stderr",
          "output_type": "stream",
          "text": [
            "                                                                                \r"
          ]
        },
        {
          "name": "stdout",
          "output_type": "stream",
          "text": [
            "The covariance between Financial Year and Number of offences is: -5.3606\n"
          ]
        }
      ],
      "source": [
        "# Covariance betwen financial year and number of offences\n",
        "yr_corr_offence = offence_final.cov('Financial_Year', 'Number_of_Offences')\n",
        "\n",
        "print(f'The covariance between Financial Year and Number of offences is: {yr_corr_offence:.4f}')\n",
        "\n",
        "# Covariance betwen financial year and number of offences\n",
        "qt_corr_offence = offence_final.cov('Financial_Quarter', 'Number_of_Offences')\n",
        "\n",
        "print(f'The covariance between Financial Year and Number of offences is: {qt_corr_offence:.4f}')"
      ]
    },
    {
      "cell_type": "code",
      "execution_count": null,
      "metadata": {
        "id": "WLolnoISs2L_",
        "outputId": "35c78f8f-8df7-44e2-ee17-6a4df884f52c"
      },
      "outputs": [
        {
          "name": "stderr",
          "output_type": "stream",
          "text": [
            "                                                                                \r"
          ]
        },
        {
          "name": "stdout",
          "output_type": "stream",
          "text": [
            "The skewness is:  12.29\n"
          ]
        }
      ],
      "source": [
        "# check for skewness of Number of Offences\n",
        "skewness_num_of_offences = offence_final.select(skewness('Number_of_Offences')).collect()[0][0]\n",
        "\n",
        "print(f'The skewness is: {skewness_num_of_offences: .2f}')"
      ]
    },
    {
      "cell_type": "markdown",
      "metadata": {
        "id": "rKRYIau6s2L_"
      },
      "source": [
        "## Hypothesis Testing\n",
        "\n",
        "#### Research questions\n",
        "\n",
        " -  Has the overall number of offenses changed significantly over time?\n",
        "    *   Null hypothesis (H0): The mean number of offenses has not changed significantly over time.\n",
        "    *    Alternate hypothesis (Ha): The mean number of offenses has changed significantly over time.\n",
        "    *  Test: ANOVA\n",
        "\n",
        " -  Do certain financial quarters exhibit consistently higher or lower offense rates?\n",
        "    *  H0: There is no significant difference in offense rates between financial quarters.\n",
        "    *  Ha: There is a significant difference in offense rates between financial quarters.\n",
        "    * Test: ANOVA comparing offense rates across quarters.\n",
        "\n",
        " -  Does the type of offense tend to change based on the financial quarter?\n",
        "    * H0: There is no association between offense type and financial quarter.\n",
        "    * Ha: There is an association between offense type and financial quarter.\n",
        "    * Test: Chi-square test of independence.\n",
        "\n",
        "-  Are certain offense groups or subgroups more likely to occur in specific police force jurisdictions?\n",
        "    * H0: The distribution of offense groups is the same across different police force jurisdictions.\n",
        "    * Ha: The distribution of offense groups is different across different police force jurisdictions.\n",
        "    * Test: Chi-square test of independence.\n",
        "\n",
        "    **NOTE:  Let our signifiance level (alpha)  be 0.1**"
      ]
    },
    {
      "cell_type": "code",
      "execution_count": null,
      "metadata": {
        "id": "bUfq4U7Ts2L_",
        "outputId": "6939a631-208a-4dd1-9124-3d6d066a83a0"
      },
      "outputs": [
        {
          "name": "stderr",
          "output_type": "stream",
          "text": [
            "                                                                                \r"
          ]
        }
      ],
      "source": [
        " # Does the type of offense tend to change based on the financial quarter?\n",
        "sample_offence = offence_final.select('Financial_Year', 'Financial_Quarter', 'Force_Name',\n",
        "                                      'New_ONS_offence_group', 'Number_of_Offences').sample(False, 0.50, 42).toPandas()"
      ]
    },
    {
      "cell_type": "code",
      "execution_count": null,
      "metadata": {
        "id": "pd7tiobns2L_",
        "outputId": "5138fea3-9680-44e8-b09d-9412d11e2f24"
      },
      "outputs": [
        {
          "data": {
            "text/plain": [
              "' -  Has the overall number of offenses changed significantly over time?\\n    *   Null hypothesis (H0): The mean number of offenses has not changed significantly over time.\\n    *    Alternate hypothesis (Ha): The mean number of offenses has changed significantly over time.\\n    *  Test: ANOVA'"
            ]
          },
          "metadata": {},
          "output_type": "display_data"
        },
        {
          "data": {
            "text/html": [
              "<div>\n",
              "<style scoped>\n",
              "    .dataframe tbody tr th:only-of-type {\n",
              "        vertical-align: middle;\n",
              "    }\n",
              "\n",
              "    .dataframe tbody tr th {\n",
              "        vertical-align: top;\n",
              "    }\n",
              "\n",
              "    .dataframe thead th {\n",
              "        text-align: right;\n",
              "    }\n",
              "</style>\n",
              "<table border=\"1\" class=\"dataframe\">\n",
              "  <thead>\n",
              "    <tr style=\"text-align: right;\">\n",
              "      <th></th>\n",
              "      <th>Source</th>\n",
              "      <th>ddof1</th>\n",
              "      <th>ddof2</th>\n",
              "      <th>F</th>\n",
              "      <th>p-unc</th>\n",
              "      <th>np2</th>\n",
              "    </tr>\n",
              "  </thead>\n",
              "  <tbody>\n",
              "    <tr>\n",
              "      <th>0</th>\n",
              "      <td>Financial_Year</td>\n",
              "      <td>4</td>\n",
              "      <td>43493</td>\n",
              "      <td>4.111265</td>\n",
              "      <td>0.00248</td>\n",
              "      <td>0.000378</td>\n",
              "    </tr>\n",
              "  </tbody>\n",
              "</table>\n",
              "</div>"
            ],
            "text/plain": [
              "           Source  ddof1  ddof2         F    p-unc       np2\n",
              "0  Financial_Year      4  43493  4.111265  0.00248  0.000378"
            ]
          },
          "metadata": {},
          "output_type": "display_data"
        },
        {
          "data": {
            "text/plain": [
              "'Since our pvalue is less than our siginifiance level *0.1*, we reject the null hypothesis.'"
            ]
          },
          "metadata": {},
          "output_type": "display_data"
        },
        {
          "data": {
            "text/plain": [
              "'At least two Financial Years have a significantly different number of offences'"
            ]
          },
          "metadata": {},
          "output_type": "display_data"
        }
      ],
      "source": [
        "# Hypothesis 1\n",
        "desc_1 = \"\"\" -  Has the overall number of offenses changed significantly over time?\n",
        "    *   Null hypothesis (H0): The mean number of offenses has not changed significantly over time.\n",
        "    *    Alternate hypothesis (Ha): The mean number of offenses has changed significantly over time.\n",
        "    *  Test: ANOVA\"\"\"\n",
        "\n",
        "# ANOVA TESTING\n",
        "val = pg.anova(data=sample_offence,\n",
        "         dv='Number_of_Offences',\n",
        "         between='Financial_Year')\n",
        "\n",
        "# Displays outputs\n",
        "display(desc_1)\n",
        "display(val)\n",
        "display('Since our pvalue is less than our siginifiance level *0.1*, we reject the null hypothesis.')\n",
        "display('At least two Financial Years have a significantly different number of offences')"
      ]
    },
    {
      "cell_type": "code",
      "execution_count": null,
      "metadata": {
        "id": "Ahmmx0eGs2MA",
        "outputId": "c920c3b7-aeba-4744-c1d6-e00d8bc80a61"
      },
      "outputs": [
        {
          "data": {
            "text/plain": [
              "'  -  Do certain financial quarters exhibit consistently higher or lower offense rates?\\n    *  H0: There is no significant difference in offense rates between financial quarters.\\n    *  Ha: There is a significant difference in offense rates between financial quarters.\\n    * Test: ANOVA comparing offense rates across quarters.'"
            ]
          },
          "metadata": {},
          "output_type": "display_data"
        },
        {
          "data": {
            "text/html": [
              "<div>\n",
              "<style scoped>\n",
              "    .dataframe tbody tr th:only-of-type {\n",
              "        vertical-align: middle;\n",
              "    }\n",
              "\n",
              "    .dataframe tbody tr th {\n",
              "        vertical-align: top;\n",
              "    }\n",
              "\n",
              "    .dataframe thead th {\n",
              "        text-align: right;\n",
              "    }\n",
              "</style>\n",
              "<table border=\"1\" class=\"dataframe\">\n",
              "  <thead>\n",
              "    <tr style=\"text-align: right;\">\n",
              "      <th></th>\n",
              "      <th>Source</th>\n",
              "      <th>ddof1</th>\n",
              "      <th>ddof2</th>\n",
              "      <th>F</th>\n",
              "      <th>p-unc</th>\n",
              "      <th>np2</th>\n",
              "    </tr>\n",
              "  </thead>\n",
              "  <tbody>\n",
              "    <tr>\n",
              "      <th>0</th>\n",
              "      <td>Financial_Quarter</td>\n",
              "      <td>3</td>\n",
              "      <td>43494</td>\n",
              "      <td>0.448627</td>\n",
              "      <td>0.718269</td>\n",
              "      <td>0.000031</td>\n",
              "    </tr>\n",
              "  </tbody>\n",
              "</table>\n",
              "</div>"
            ],
            "text/plain": [
              "              Source  ddof1  ddof2         F     p-unc       np2\n",
              "0  Financial_Quarter      3  43494  0.448627  0.718269  0.000031"
            ]
          },
          "metadata": {},
          "output_type": "display_data"
        },
        {
          "data": {
            "text/plain": [
              "'Since our pvalue is less than our siginifiance level *0.1*, we reject the null hypothesis.'"
            ]
          },
          "metadata": {},
          "output_type": "display_data"
        },
        {
          "data": {
            "text/plain": [
              "'At least two Financial Quarters have a significantly different number of offences'"
            ]
          },
          "metadata": {},
          "output_type": "display_data"
        }
      ],
      "source": [
        "# Hypothesis_2\n",
        "desc_3 = \"\"\"  -  Do certain financial quarters exhibit consistently higher or lower offense rates?\n",
        "    *  H0: There is no significant difference in offense rates between financial quarters.\n",
        "    *  Ha: There is a significant difference in offense rates between financial quarters.\n",
        "    * Test: ANOVA comparing offense rates across quarters.\"\"\"\n",
        "\n",
        "# ANOVA TESTING\n",
        "val_1 = pg.anova(data=sample_offence,\n",
        "         dv='Number_of_Offences',\n",
        "         between='Financial_Quarter')\n",
        "\n",
        "# Display outputs\n",
        "display(desc_3)\n",
        "display(val_1)\n",
        "display('Since our pvalue is less than our siginifiance level *0.1*, we reject the null hypothesis.')\n",
        "display('At least two Financial Quarters have a significantly different number of offences')"
      ]
    },
    {
      "cell_type": "code",
      "execution_count": null,
      "metadata": {
        "id": "dS6C5nqJs2MA",
        "outputId": "348d21cb-1a47-47af-f390-5050e46b5c6c"
      },
      "outputs": [
        {
          "data": {
            "text/plain": [
              "' -  Does the type of offense tend to change based on the financial quarter?\\n    * H0: There is no association between offense type and financial quarter.\\n    * Ha: There is an association between offense type and financial quarter.\\n    * Test: Chi-square test of independence.'"
            ]
          },
          "metadata": {},
          "output_type": "display_data"
        },
        {
          "data": {
            "text/html": [
              "<div>\n",
              "<style scoped>\n",
              "    .dataframe tbody tr th:only-of-type {\n",
              "        vertical-align: middle;\n",
              "    }\n",
              "\n",
              "    .dataframe tbody tr th {\n",
              "        vertical-align: top;\n",
              "    }\n",
              "\n",
              "    .dataframe thead th {\n",
              "        text-align: right;\n",
              "    }\n",
              "</style>\n",
              "<table border=\"1\" class=\"dataframe\">\n",
              "  <thead>\n",
              "    <tr style=\"text-align: right;\">\n",
              "      <th></th>\n",
              "      <th>test</th>\n",
              "      <th>lambda</th>\n",
              "      <th>chi2</th>\n",
              "      <th>dof</th>\n",
              "      <th>pval</th>\n",
              "      <th>cramer</th>\n",
              "      <th>power</th>\n",
              "    </tr>\n",
              "  </thead>\n",
              "  <tbody>\n",
              "    <tr>\n",
              "      <th>0</th>\n",
              "      <td>pearson</td>\n",
              "      <td>1.000000</td>\n",
              "      <td>5.630499</td>\n",
              "      <td>24.0</td>\n",
              "      <td>0.999961</td>\n",
              "      <td>0.006569</td>\n",
              "      <td>0.088272</td>\n",
              "    </tr>\n",
              "    <tr>\n",
              "      <th>1</th>\n",
              "      <td>cressie-read</td>\n",
              "      <td>0.666667</td>\n",
              "      <td>5.632681</td>\n",
              "      <td>24.0</td>\n",
              "      <td>0.999960</td>\n",
              "      <td>0.006570</td>\n",
              "      <td>0.088289</td>\n",
              "    </tr>\n",
              "    <tr>\n",
              "      <th>2</th>\n",
              "      <td>log-likelihood</td>\n",
              "      <td>0.000000</td>\n",
              "      <td>5.637248</td>\n",
              "      <td>24.0</td>\n",
              "      <td>0.999960</td>\n",
              "      <td>0.006573</td>\n",
              "      <td>0.088325</td>\n",
              "    </tr>\n",
              "    <tr>\n",
              "      <th>3</th>\n",
              "      <td>freeman-tukey</td>\n",
              "      <td>-0.500000</td>\n",
              "      <td>5.640850</td>\n",
              "      <td>24.0</td>\n",
              "      <td>0.999960</td>\n",
              "      <td>0.006575</td>\n",
              "      <td>0.088354</td>\n",
              "    </tr>\n",
              "    <tr>\n",
              "      <th>4</th>\n",
              "      <td>mod-log-likelihood</td>\n",
              "      <td>-1.000000</td>\n",
              "      <td>5.644605</td>\n",
              "      <td>24.0</td>\n",
              "      <td>0.999960</td>\n",
              "      <td>0.006577</td>\n",
              "      <td>0.088383</td>\n",
              "    </tr>\n",
              "    <tr>\n",
              "      <th>5</th>\n",
              "      <td>neyman</td>\n",
              "      <td>-2.000000</td>\n",
              "      <td>5.652573</td>\n",
              "      <td>24.0</td>\n",
              "      <td>0.999959</td>\n",
              "      <td>0.006582</td>\n",
              "      <td>0.088446</td>\n",
              "    </tr>\n",
              "  </tbody>\n",
              "</table>\n",
              "</div>"
            ],
            "text/plain": [
              "                 test    lambda      chi2   dof      pval    cramer     power\n",
              "0             pearson  1.000000  5.630499  24.0  0.999961  0.006569  0.088272\n",
              "1        cressie-read  0.666667  5.632681  24.0  0.999960  0.006570  0.088289\n",
              "2      log-likelihood  0.000000  5.637248  24.0  0.999960  0.006573  0.088325\n",
              "3       freeman-tukey -0.500000  5.640850  24.0  0.999960  0.006575  0.088354\n",
              "4  mod-log-likelihood -1.000000  5.644605  24.0  0.999960  0.006577  0.088383\n",
              "5              neyman -2.000000  5.652573  24.0  0.999959  0.006582  0.088446"
            ]
          },
          "metadata": {},
          "output_type": "display_data"
        },
        {
          "data": {
            "text/plain": [
              "'Since our pvalue is greater than our significance level, we fail to reject the null hypothesis'"
            ]
          },
          "metadata": {},
          "output_type": "display_data"
        }
      ],
      "source": [
        "# Hypothesis_3\n",
        "desc_5 = \"\"\" -  Does the type of offense tend to change based on the financial quarter?\n",
        "    * H0: There is no association between offense type and financial quarter.\n",
        "    * Ha: There is an association between offense type and financial quarter.\n",
        "    * Test: Chi-square test of independence.\"\"\"\n",
        "\n",
        "#  Perfrom chisquare_test of independence\n",
        "expected, observed, stats = pg.chi2_independence(data=sample_offence, x='New_ONS_offence_group', y='Financial_Quarter')\n",
        "\n",
        "# Displays output\n",
        "display(desc_5)\n",
        "display(stats)\n",
        "display('Since our pvalue is greater than our significance level, we fail to reject the null hypothesis')"
      ]
    },
    {
      "cell_type": "code",
      "execution_count": null,
      "metadata": {
        "id": "iuIYAO8Fs2MA",
        "outputId": "000356fc-6808-461d-f45b-297448caf919"
      },
      "outputs": [
        {
          "data": {
            "text/plain": [
              "'-  Are certain offense groups or subgroups more likely to occur in specific police force jurisdictions?\\n    * H0: The distribution of offense groups is the same across different police force jurisdictions.\\n    * Ha: The distribution of offense groups is different across different police force jurisdictions.\\n    * Test: Chi-square test of independence.'"
            ]
          },
          "metadata": {},
          "output_type": "display_data"
        },
        {
          "data": {
            "text/html": [
              "<div>\n",
              "<style scoped>\n",
              "    .dataframe tbody tr th:only-of-type {\n",
              "        vertical-align: middle;\n",
              "    }\n",
              "\n",
              "    .dataframe tbody tr th {\n",
              "        vertical-align: top;\n",
              "    }\n",
              "\n",
              "    .dataframe thead th {\n",
              "        text-align: right;\n",
              "    }\n",
              "</style>\n",
              "<table border=\"1\" class=\"dataframe\">\n",
              "  <thead>\n",
              "    <tr style=\"text-align: right;\">\n",
              "      <th></th>\n",
              "      <th>test</th>\n",
              "      <th>lambda</th>\n",
              "      <th>chi2</th>\n",
              "      <th>dof</th>\n",
              "      <th>pval</th>\n",
              "      <th>cramer</th>\n",
              "      <th>power</th>\n",
              "    </tr>\n",
              "  </thead>\n",
              "  <tbody>\n",
              "    <tr>\n",
              "      <th>0</th>\n",
              "      <td>pearson</td>\n",
              "      <td>1.000000</td>\n",
              "      <td>143.927324</td>\n",
              "      <td>344.0</td>\n",
              "      <td>1.0</td>\n",
              "      <td>0.020337</td>\n",
              "      <td>0.169615</td>\n",
              "    </tr>\n",
              "    <tr>\n",
              "      <th>1</th>\n",
              "      <td>cressie-read</td>\n",
              "      <td>0.666667</td>\n",
              "      <td>144.100387</td>\n",
              "      <td>344.0</td>\n",
              "      <td>1.0</td>\n",
              "      <td>0.020349</td>\n",
              "      <td>0.169817</td>\n",
              "    </tr>\n",
              "    <tr>\n",
              "      <th>2</th>\n",
              "      <td>log-likelihood</td>\n",
              "      <td>0.000000</td>\n",
              "      <td>144.677354</td>\n",
              "      <td>344.0</td>\n",
              "      <td>1.0</td>\n",
              "      <td>0.020390</td>\n",
              "      <td>0.170493</td>\n",
              "    </tr>\n",
              "    <tr>\n",
              "      <th>3</th>\n",
              "      <td>freeman-tukey</td>\n",
              "      <td>-0.500000</td>\n",
              "      <td>145.321126</td>\n",
              "      <td>344.0</td>\n",
              "      <td>1.0</td>\n",
              "      <td>0.020435</td>\n",
              "      <td>0.171249</td>\n",
              "    </tr>\n",
              "    <tr>\n",
              "      <th>4</th>\n",
              "      <td>mod-log-likelihood</td>\n",
              "      <td>-1.000000</td>\n",
              "      <td>146.156627</td>\n",
              "      <td>344.0</td>\n",
              "      <td>1.0</td>\n",
              "      <td>0.020494</td>\n",
              "      <td>0.172233</td>\n",
              "    </tr>\n",
              "    <tr>\n",
              "      <th>5</th>\n",
              "      <td>neyman</td>\n",
              "      <td>-2.000000</td>\n",
              "      <td>148.454243</td>\n",
              "      <td>344.0</td>\n",
              "      <td>1.0</td>\n",
              "      <td>0.020655</td>\n",
              "      <td>0.174955</td>\n",
              "    </tr>\n",
              "  </tbody>\n",
              "</table>\n",
              "</div>"
            ],
            "text/plain": [
              "                 test    lambda        chi2    dof  pval    cramer     power\n",
              "0             pearson  1.000000  143.927324  344.0   1.0  0.020337  0.169615\n",
              "1        cressie-read  0.666667  144.100387  344.0   1.0  0.020349  0.169817\n",
              "2      log-likelihood  0.000000  144.677354  344.0   1.0  0.020390  0.170493\n",
              "3       freeman-tukey -0.500000  145.321126  344.0   1.0  0.020435  0.171249\n",
              "4  mod-log-likelihood -1.000000  146.156627  344.0   1.0  0.020494  0.172233\n",
              "5              neyman -2.000000  148.454243  344.0   1.0  0.020655  0.174955"
            ]
          },
          "metadata": {},
          "output_type": "display_data"
        },
        {
          "data": {
            "text/plain": [
              "'Since our pvalue is greater than our significance level, we fail to reject the null hypothesis'"
            ]
          },
          "metadata": {},
          "output_type": "display_data"
        }
      ],
      "source": [
        "# Hypothesis_4\n",
        "desc_6 = \"\"\"-  Are certain offense groups or subgroups more likely to occur in specific police force jurisdictions?\n",
        "    * H0: The distribution of offense groups is the same across different police force jurisdictions.\n",
        "    * Ha: The distribution of offense groups is different across different police force jurisdictions.\n",
        "    * Test: Chi-square test of independence.\"\"\"\n",
        "\n",
        "#  Perfrom chisquare_test of independence\n",
        "expected, observed, stats = pg.chi2_independence(data=sample_offence, x='New_ONS_offence_group', y='Force_Name')\n",
        "\n",
        "# Displays output\n",
        "display(desc_6)\n",
        "display(stats)\n",
        "display('Since our pvalue is greater than our significance level, we fail to reject the null hypothesis')"
      ]
    },
    {
      "cell_type": "markdown",
      "metadata": {
        "id": "78y4ThU5s2MA"
      },
      "source": [
        "## Data Visualization"
      ]
    },
    {
      "cell_type": "code",
      "execution_count": null,
      "metadata": {
        "id": "LU2wagSSs2MA",
        "outputId": "88f84a35-9b1f-47e8-fa86-4cda68dc53fe"
      },
      "outputs": [
        {
          "name": "stderr",
          "output_type": "stream",
          "text": [
            "                                                                                \r"
          ]
        },
        {
          "data": {
            "image/png": "[encoded data removed]",
            "text/plain": [
              "<Figure size 640x480 with 1 Axes>"
            ]
          },
          "metadata": {},
          "output_type": "display_data"
        }
      ],
      "source": [
        "# Sample target columns from dataframe\n",
        "sct = offence_final.select('Financial_Year', 'Number_of_Offences').sample(False, 0.50, 42).toPandas()\n",
        "\n",
        "# Scatter plot to check for relationship between Financial year and Number of Offences\n",
        "sns.scatterplot(data=sct, x='Financial_Year', y='Number_of_Offences').set(xlabel='Financial Year',\n",
        "                                                                                    ylabel='Number of Offences',\n",
        "                                                                          xticks=[2019, 2020, 2021, 2022, 2023])\n",
        "\n",
        "# Show plot\n",
        "plt.show()"
      ]
    },
    {
      "cell_type": "code",
      "execution_count": null,
      "metadata": {
        "id": "7AvT6z6ns2MA",
        "outputId": "261db5cf-7bc5-47e4-a46e-eb2ba7d9fa77"
      },
      "outputs": [
        {
          "name": "stderr",
          "output_type": "stream",
          "text": [
            "                                                                                \r"
          ]
        },
        {
          "data": {
            "text/plain": [
              "Text(0.5, 0, 'Number of offences')"
            ]
          },
          "execution_count": 22,
          "metadata": {},
          "output_type": "execute_result"
        },
        {
          "data": {
            "image/png": "[encoded data removed]",
            "text/plain": [
              "<Figure size 640x480 with 1 Axes>"
            ]
          },
          "metadata": {},
          "output_type": "display_data"
        }
      ],
      "source": [
        "# Gets sample from target column and converts to pandas\n",
        "num_off_hst = offence_final.select('Number_of_Offences').sample(False, 0.50, 42).toPandas()\n",
        "# Plot Distribution\n",
        "num_off_hst.plot(kind='hist', bins=80)\n",
        "plt.title('Distribution of Number of Offences')\n",
        "plt.xlim(0, 3500)\n",
        "plt.legend('')\n",
        "plt.xlabel('Number of offences')"
      ]
    },
    {
      "cell_type": "code",
      "execution_count": null,
      "metadata": {
        "id": "5wKPfpVBs2MB",
        "outputId": "3a36c44a-28f1-4d91-8ae8-a65d88a09b0b"
      },
      "outputs": [
        {
          "name": "stderr",
          "output_type": "stream",
          "text": [
            "                                                                                \r"
          ]
        },
        {
          "data": {
            "image/png": "[encoded data removed]",
            "text/plain": [
              "<Figure size 1400x600 with 2 Axes>"
            ]
          },
          "metadata": {},
          "output_type": "display_data"
        }
      ],
      "source": [
        "# Set the figure size for plot\n",
        "fig, ax = plt.subplots(1, 2, figsize=(14, 6))\n",
        "\n",
        "# Group data by financial year and find the sum of each year\n",
        "trends_1 = offence_final.groupBy('Financial_Year').sum('Number_of_Offences').toPandas()\n",
        "\n",
        "# Group data by financial quarter and find the sum of each offences\n",
        "trends_2 = offence_final.groupBy('Financial_Quarter').sum('Number_of_Offences').toPandas()\n",
        "\n",
        "# Plot Trends_1\n",
        "sns.lineplot(data=trends_1,  x='Financial_Year', y='sum(Number_of_Offences)',\n",
        "                                                                                    ax=ax[0]).set(title='Financial Year vs Sum of Number of offences',\n",
        "                                                                                    xlabel='Financial Year',\n",
        "                                                                                    ylabel='Sum of Number of Offences(thousands)',\n",
        "                                                                                    xticks=[2019, 2020, 2021, 2022, 2023])\n",
        "# Plot  Trends_2\n",
        "sns.lineplot(data=trends_2,  x='Financial_Quarter', y='sum(Number_of_Offences)',\n",
        "                                                                                    ax=ax[1]).set(title='Financial Year vs Sum of Number of offences',\n",
        "                                                                                    xlabel='Financial Quarter',\n",
        "                                                                                    ylabel='Sum of Number of Offences(thousands)',\n",
        "                                                                                    xticks=[1, 2, 3, 4],)\n",
        "# Show plot\n",
        "plt.show()"
      ]
    },
    {
      "cell_type": "code",
      "execution_count": null,
      "metadata": {
        "id": "L_8extAqs2MB",
        "outputId": "f5bf2ff6-0f44-440e-f824-e4fb0ff24146"
      },
      "outputs": [
        {
          "data": {
            "image/png": "[encoded data removed]",
            "text/plain": [
              "<Figure size 1400x600 with 2 Axes>"
            ]
          },
          "metadata": {},
          "output_type": "display_data"
        }
      ],
      "source": [
        "# Set the figure size for plot\n",
        "fig, ax = plt.subplots(1, 2, figsize=(14, 6))\n",
        "\n",
        "# Plot Barplot of Financial year vs number of offences\n",
        "sns.barplot(data=trends_1,  x='Financial_Year', y='sum(Number_of_Offences)',\n",
        "                                                                                    ax=ax[0]).set(title='Financial Year vs Sum of Number of offences',\n",
        "                                                                                    xlabel='Financial Year',\n",
        "                                                                                    ylabel='Sum of Number of Offences(thousands)')\n",
        "\n",
        "# Plot Barplot of Financial quarter vs number of offences\n",
        "sns.barplot(data=trends_2,  x='Financial_Quarter', y='sum(Number_of_Offences)',\n",
        "                                                                                    ax=ax[1]).set(title='Financial Year vs Sum of Number of offences',\n",
        "                                                                                    xlabel='Financial Quarter',\n",
        "                                                                                    ylabel='Sum of Number of Offences(thousands)')\n",
        "\n",
        "# Show plot\n",
        "plt.show()"
      ]
    },
    {
      "cell_type": "markdown",
      "metadata": {
        "id": "qAJu2xgRs2MB"
      },
      "source": [
        "## Model Modeling\n",
        "\n",
        "### **Machine Learning**\n",
        "- Offense Classification:\n",
        "    - Can we accurately classify offenses into different groups based on their characteristics?\n",
        "\n",
        "- The Machine Algorithm used was Decision Tree classifier and Rainforest Classifier as they can be used to make multiclass predictions"
      ]
    },
    {
      "cell_type": "code",
      "execution_count": null,
      "metadata": {
        "colab": {
          "base_uri": "https://localhost:8080/",
          "height": 245
        },
        "id": "i1C7Drn1s2MB",
        "outputId": "995ef594-0691-4bf0-b9ac-edb5711941df"
      },
      "outputs": [
        {
          "output_type": "error",
          "ename": "NameError",
          "evalue": "name 'offence_final' is not defined",
          "traceback": [
            "\u001b[0;31m---------------------------------------------------------------------------\u001b[0m",
            "\u001b[0;31mNameError\u001b[0m                                 Traceback (most recent call last)",
            "\u001b[0;32m<ipython-input-18-aa92ea279b25>\u001b[0m in \u001b[0;36m<cell line: 2>\u001b[0;34m()\u001b[0m\n\u001b[1;32m      1\u001b[0m \u001b[0;31m# Features variable X_a and _X_b\u001b[0m\u001b[0;34m\u001b[0m\u001b[0;34m\u001b[0m\u001b[0m\n\u001b[0;32m----> 2\u001b[0;31m \u001b[0mX_a\u001b[0m \u001b[0;34m=\u001b[0m \u001b[0moffence_final\u001b[0m\u001b[0;34m.\u001b[0m\u001b[0mselect\u001b[0m\u001b[0;34m(\u001b[0m\u001b[0;34m'Financial_Year'\u001b[0m\u001b[0;34m,\u001b[0m \u001b[0;34m'Financial_Quarter'\u001b[0m\u001b[0;34m,\u001b[0m \u001b[0;34m'Number_of_Offences'\u001b[0m \u001b[0;34m)\u001b[0m\u001b[0;34m.\u001b[0m\u001b[0mtoPandas\u001b[0m\u001b[0;34m(\u001b[0m\u001b[0;34m)\u001b[0m\u001b[0;34m\u001b[0m\u001b[0;34m\u001b[0m\u001b[0m\n\u001b[0m\u001b[1;32m      3\u001b[0m \u001b[0mX_b\u001b[0m \u001b[0;34m=\u001b[0m \u001b[0moffence_final\u001b[0m\u001b[0;34m.\u001b[0m\u001b[0mselect\u001b[0m\u001b[0;34m(\u001b[0m\u001b[0;34m'Offence_Code'\u001b[0m\u001b[0;34m,\u001b[0m\u001b[0;34m'Force_Name'\u001b[0m \u001b[0;34m)\u001b[0m\u001b[0;34m.\u001b[0m\u001b[0mtoPandas\u001b[0m\u001b[0;34m(\u001b[0m\u001b[0;34m)\u001b[0m\u001b[0;34m\u001b[0m\u001b[0;34m\u001b[0m\u001b[0m\n\u001b[1;32m      4\u001b[0m \u001b[0;31m# target variable\u001b[0m\u001b[0;34m\u001b[0m\u001b[0;34m\u001b[0m\u001b[0m\n\u001b[1;32m      5\u001b[0m \u001b[0my\u001b[0m \u001b[0;34m=\u001b[0m \u001b[0moffence_final\u001b[0m\u001b[0;34m.\u001b[0m\u001b[0mselect\u001b[0m\u001b[0;34m(\u001b[0m\u001b[0;34m'New_ONS_offence_group'\u001b[0m\u001b[0;34m)\u001b[0m\u001b[0;34m.\u001b[0m\u001b[0mtoPandas\u001b[0m\u001b[0;34m(\u001b[0m\u001b[0;34m)\u001b[0m\u001b[0;34m\u001b[0m\u001b[0;34m\u001b[0m\u001b[0m\n",
            "\u001b[0;31mNameError\u001b[0m: name 'offence_final' is not defined"
          ]
        }
      ],
      "source": [
        "# Features variable X_a and _X_b\n",
        "X_a = offence_final.select('Financial_Year', 'Financial_Quarter', 'Number_of_Offences' ).toPandas()\n",
        "X_b = offence_final.select('Offence_Code','Force_Name' ).toPandas()\n",
        "# target variable\n",
        "y = offence_final.select('New_ONS_offence_group').toPandas()"
      ]
    },
    {
      "cell_type": "code",
      "execution_count": null,
      "metadata": {
        "colab": {
          "base_uri": "https://localhost:8080/",
          "height": 211
        },
        "id": "p4LiFLDNs2MB",
        "outputId": "a4fff1ff-ad49-43f4-a65d-80fd36490f08"
      },
      "outputs": [
        {
          "output_type": "error",
          "ename": "NameError",
          "evalue": "name 'y' is not defined",
          "traceback": [
            "\u001b[0;31m---------------------------------------------------------------------------\u001b[0m",
            "\u001b[0;31mNameError\u001b[0m                                 Traceback (most recent call last)",
            "\u001b[0;32m<ipython-input-19-69d76a32c8a6>\u001b[0m in \u001b[0;36m<cell line: 15>\u001b[0;34m()\u001b[0m\n\u001b[1;32m     13\u001b[0m \u001b[0;34m\u001b[0m\u001b[0m\n\u001b[1;32m     14\u001b[0m \u001b[0;31m# Encode values into y\u001b[0m\u001b[0;34m\u001b[0m\u001b[0;34m\u001b[0m\u001b[0m\n\u001b[0;32m---> 15\u001b[0;31m \u001b[0my\u001b[0m \u001b[0;34m=\u001b[0m \u001b[0my\u001b[0m\u001b[0;34m.\u001b[0m\u001b[0mreplace\u001b[0m\u001b[0;34m(\u001b[0m\u001b[0mencoder\u001b[0m\u001b[0;34m)\u001b[0m\u001b[0;34m\u001b[0m\u001b[0;34m\u001b[0m\u001b[0m\n\u001b[0m",
            "\u001b[0;31mNameError\u001b[0m: name 'y' is not defined"
          ]
        }
      ],
      "source": [
        "# Label encoding for Y\n",
        "encoder = {\n",
        "    'Sexual offences': 0,\n",
        "    'Miscellaneous crimes against society': 1,\n",
        "    'Violence against the person':  2,\n",
        "    'Criminal damage and arson': 3,\n",
        "    'Theft offences': 4,\n",
        "    'Possession of weapons offences':5,\n",
        "    'Drug offences': 6,\n",
        "    'Robbery': 7,\n",
        "    'Public order offences': 8\n",
        "}\n",
        "\n",
        "# Encode values into y\n",
        "y = y.replace(encoder)"
      ]
    },
    {
      "cell_type": "code",
      "execution_count": null,
      "metadata": {
        "id": "QALkFZC1s2MB"
      },
      "outputs": [],
      "source": [
        "# Initialize one hot encoder\n",
        "ord = OrdinalEncoder()\n",
        "X_b_ohe = ord.fit_transform(X_b)\n",
        "\n",
        "# Features vairable\n",
        "X = pd.concat([X_a, X_b_ohe], axis=1)"
      ]
    },
    {
      "cell_type": "code",
      "execution_count": null,
      "metadata": {
        "id": "5W9MiXMes2MB"
      },
      "outputs": [],
      "source": [
        "# Split into train/test samples\n",
        "X_train, X_test, y_train, y_test = train_test_split(X, y, random_state=42, test_size=0.2)"
      ]
    },
    {
      "cell_type": "code",
      "execution_count": null,
      "metadata": {
        "id": "M4H8faYis2MC"
      },
      "outputs": [],
      "source": [
        "X_train.shape, X_test.shape, y_train.shape, y_test.shape"
      ]
    },
    {
      "cell_type": "code",
      "execution_count": null,
      "metadata": {
        "id": "TqFSk3nos2MC"
      },
      "outputs": [],
      "source": [
        "# Create Instance\n",
        "tree = DecisionTreeClassifier(max_depth=10, random_state=42)\n",
        "\n",
        "# Fit to training data\n",
        "tree.fit(X_train, y_train)\n",
        "\n",
        "# Evaluate model\n",
        "y_pred = tree.predict(X_test)\n",
        "accuracy = accuracy_score(y_test, y_pred)\n",
        "\n",
        "print(f'The model made using Decision Tree Classifier has an accuracy of : {accuracy*100}%')"
      ]
    },
    {
      "cell_type": "code",
      "execution_count": null,
      "metadata": {
        "id": "Z-NHbMzWs2MC"
      },
      "outputs": [],
      "source": [
        "# Further evalaution to check for overfitting\n",
        "y_train_pred = tree.predict(X_train)\n",
        "accuracy_sc = accuracy_score(y_train, y_train_pred)\n",
        "\n",
        "print(f'The model made using Decision Tree Classifier has an accuracy of : {accuracy_sc*100}%')\n",
        "print('This shows that our model is not overfitting on the training data')"
      ]
    },
    {
      "cell_type": "code",
      "execution_count": null,
      "metadata": {
        "id": "BSvRY7qVs2MC"
      },
      "outputs": [],
      "source": [
        "# save model\n",
        "import pickle\n",
        "with open('model.pkl', 'wb') as file:\n",
        "    pickle.dump(tree)"
      ]
    }
  ],
  "metadata": {
    "kernelspec": {
      "display_name": "Python 3 (ipykernel)",
      "language": "python",
      "name": "python3"
    },
    "language_info": {
      "codemirror_mode": {
        "name": "ipython",
        "version": 3
      },
      "file_extension": ".py",
      "mimetype": "text/x-python",
      "name": "python",
      "nbconvert_exporter": "python",
      "pygments_lexer": "ipython3",
      "version": "3.11.7"
    },
    "colab": {
      "provenance": [],
      "include_colab_link": true
    }
  },
  "nbformat": 4,
  "nbformat_minor": 0
}