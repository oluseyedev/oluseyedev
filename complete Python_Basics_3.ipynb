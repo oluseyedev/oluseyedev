{
  "nbformat": 4,
  "nbformat_minor": 0,
  "metadata": {
    "colab": {
      "provenance": [],
      "include_colab_link": true
    },
    "kernelspec": {
      "name": "python3",
      "display_name": "Python 3"
    }
  },
  "cells": [
    {
      "cell_type": "markdown",
      "metadata": {
        "id": "view-in-github",
        "colab_type": "text"
      },
      "source": [
        "<a href=\"https://colab.research.google.com/github/oluseyedev/oluseyedev/blob/main/complete%20Python_Basics_3.ipynb\" target=\"_parent\"><img src=\"https://colab.research.google.com/assets/colab-badge.svg\" alt=\"Open In Colab\"/></a>"
      ]
    },
    {
      "cell_type": "markdown",
      "metadata": {
        "id": "U9GaxCfsGsCu"
      },
      "source": [
        "# Python Basics 3\n",
        "\n",
        "Author: Dr. Pradeep Hewage\n",
        "\n",
        "Contact: P.Hewage@bolton.ac.uk\n",
        "\n",
        "Institution: University of Bolton\n",
        "\n",
        "  \n"
      ]
    },
    {
      "cell_type": "markdown",
      "metadata": {
        "id": "1eZkmiaNkFEy"
      },
      "source": [
        "## 1. If-Else Statements (conditionals)\n",
        "\n",
        "We often need to control the flow of our Python programs, based on one or more conditions. In Python, ```if-else``` statements allow us to do this. These statements evaluate one or more variables in terms of,\n",
        "\n",
        "* Whether or not a condition evaluates to True or False.\n",
        "* Equality (are the variables equal?).\n",
        "* Whether or not variable values fall in some specific range.\n",
        "\n",
        "You can have multiple tests in an If-else statement. Sometimes we may want to check for more than one condition. Python provides us with the ```elif``` keyword for just this scenario. We can therefore build up complex control-flow code using these statements.\n",
        "\n",
        "\n",
        "We can use ```if-else``` statements to check for all sorts of conditions, and take some action based on the outcome of the check. These statements are everywhere in all programming languages. They are incredibly useful.\n",
        "\n",
        "<br>\n",
        "Watch the video below, then move on to the code cells.\n",
        "\n",
        "\n",
        "\n",
        "\n"
      ]
    },
    {
      "cell_type": "code",
      "metadata": {
        "id": "7hZMaa-7kIQh",
        "outputId": "cf32752e-8ca6-418c-f763-49e7c3c110ef",
        "colab": {
          "base_uri": "https://localhost:8080/",
          "height": 336
        }
      },
      "source": [
        "# Import the HTML library\n",
        "from IPython.display import HTML\n",
        "\n",
        "# Load the video frm youtube.\n",
        "HTML('<iframe width=\"560\" height=\"315\" \\\n",
        "src=\"https://www.youtube.com/embed/Zp5MuPOtsSY\" frameborder=\"0\" \\\n",
        "allow=\"accelerometer; autoplay; encrypted-media; gyroscope; picture-in-picture\"\\\n",
        " allowfullscreen></iframe>')"
      ],
      "execution_count": null,
      "outputs": [
        {
          "output_type": "execute_result",
          "data": {
            "text/html": [
              "<iframe width=\"560\" height=\"315\" src=\"https://www.youtube.com/embed/Zp5MuPOtsSY\" frameborder=\"0\" allow=\"accelerometer; autoplay; encrypted-media; gyroscope; picture-in-picture\" allowfullscreen></iframe>"
            ],
            "text/plain": [
              "<IPython.core.display.HTML object>"
            ]
          },
          "metadata": {
            "tags": []
          },
          "execution_count": 10
        }
      ]
    },
    {
      "cell_type": "markdown",
      "metadata": {
        "id": "qGR0kccwKkjl"
      },
      "source": [
        "Let's explore if-else statements and conditionals in small steps. Let's start out with a simple Boolean condition. We'll create a Boolean variable and then test its value. When ready, read the code in the cell below. Try to understand it. Once ready, execute the cell."
      ]
    },
    {
      "cell_type": "code",
      "metadata": {
        "id": "F8S3nSZfLEFy"
      },
      "source": [
        "isReady = False"
      ],
      "execution_count": null,
      "outputs": []
    },
    {
      "cell_type": "markdown",
      "metadata": {
        "id": "J1egYSVqLC4g"
      },
      "source": [
        "<br>\n",
        "All I've done above is create a simple Boolean variable. I've set its value to False during initialisation. Now I try to use this variable in a simple if-else statement. This statement will just check what the value of isReady is and take some (basic) appropriate action. When ready, read the code below, then execute the cell.\n",
        "<br>"
      ]
    },
    {
      "cell_type": "code",
      "metadata": {
        "id": "GjRsrDOuORoa"
      },
      "source": [
        "if isReady: # Test to see if isReady is True.\n",
        "  print(\"The variable is True, meaning we are ready.\")\n",
        "else:\n",
        "  print(\"Not ready!\")"
      ],
      "execution_count": null,
      "outputs": []
    },
    {
      "cell_type": "markdown",
      "metadata": {
        "id": "KOS9cTH2LDEd"
      },
      "source": [
        "### Activity 1\n",
        "\n",
        "In the cell below I want you to update the value of the ```isReady``` variable. I also then want you to write a conditional that checks its value. Please try that now. If you encounter an issue, you'll find a solution below.\n",
        "\n",
        "<br>\n"
      ]
    },
    {
      "cell_type": "code",
      "metadata": {
        "id": "oVIE1PpAO3jo",
        "colab": {
          "base_uri": "https://localhost:8080/"
        },
        "outputId": "d9392fa0-8cfc-4aae-d4ab-b6dee3f174ea"
      },
      "source": [
        "# You code attempt here.\n",
        "\n",
        "isReady = False\n",
        "\n",
        "if isReady: # Test to see if isReady is True.\n",
        "  print(\"The variable is True, meaning we are ready.\")\n",
        "else:\n",
        "  print(\"Not ready!\")"
      ],
      "execution_count": 2,
      "outputs": [
        {
          "output_type": "stream",
          "name": "stdout",
          "text": [
            "Not ready!\n"
          ]
        }
      ]
    },
    {
      "cell_type": "markdown",
      "metadata": {
        "id": "Qoj0rLwFLDMh"
      },
      "source": [
        "<br>\n",
        "...\n",
        "<br>\n",
        "...\n",
        "<br>\n",
        "...\n",
        "<br>\n",
        "...\n",
        "<br>\n",
        "<br>\n",
        "...\n",
        "<br>\n",
        "...\n",
        "<br>\n",
        "...\n",
        "<br>\n",
        "...\n",
        "<br>\n",
        "\n",
        "<br>\n",
        "...\n",
        "<br>\n",
        "...\n",
        "<br>\n",
        "...\n",
        "<br>\n",
        "...\n",
        "<br>\n",
        "<br>\n",
        "...\n",
        "<br>\n",
        "...\n",
        "<br>\n",
        "...\n",
        "<br>\n",
        "...\n",
        "<br>\n",
        "A solution can be found below...\n",
        "<br>\n",
        "...\n",
        "<br>\n",
        "...\n",
        "<br>\n",
        "...\n",
        "<br>\n",
        "...\n",
        "<br>\n",
        "<br>\n",
        "...\n",
        "<br>\n",
        "...\n",
        "<br>\n",
        "...\n",
        "<br>\n",
        "...\n",
        "<br>\n",
        "\n",
        "Solution..."
      ]
    },
    {
      "cell_type": "code",
      "metadata": {
        "id": "xIopd1rDPJXW"
      },
      "source": [
        "isReady = True\n",
        "\n",
        "if isReady: # Test to see if isReady is True.\n",
        "  print(\"The variable is True, meaning we are ready.\")\n",
        "else:\n",
        "  print(\"Not ready!\")"
      ],
      "execution_count": null,
      "outputs": []
    },
    {
      "cell_type": "markdown",
      "metadata": {
        "id": "dXvdvLK8Lldt"
      },
      "source": [
        "<br>\n",
        "All we've done here is evaluate a basic condition applied to a Boolean variable. However, we can evaluate other conditions within if-else statements too. For instance, we could check if one value is greater than another, or if a value sits within some range.\n",
        "<br>\n",
        "\n",
        "For instance, suppose we're writing an application and we need to acquire user input. We want to the user to choose a number between 5 to 10. We can write a check that does this. To do this, we'll grab user input for the first time using the ```input()``` function. You have to enter input into this function for the code to proceed. Please read the code sample below, then proceed to run it.\n",
        "<br>"
      ]
    },
    {
      "cell_type": "code",
      "metadata": {
        "id": "7DxP6443SFDP"
      },
      "source": [
        "# Here we get input from the user in a string, then convert the input\n",
        "# into an integer, so we can use it in our conditional statements.\n",
        "value = int(input(\"Please enter a value:\\n\"))\n",
        "\n",
        "if 4 < value < 11:\n",
        "  print(\"User entered a valid value.\")\n",
        "else:\n",
        "  print(\"User has entered an invalid value\")"
      ],
      "execution_count": null,
      "outputs": []
    },
    {
      "cell_type": "markdown",
      "metadata": {
        "id": "RLX3HoTASvVg"
      },
      "source": [
        "### Activity 2\n",
        "\n",
        "Run the code above a few times, entering different values in each run. Make sure you understand under what conditions we get the desired output (the valid input message). Once you've done that, I'd like you to write your own code in the cell below. I'd like you to provide a notification message similarly to the example above, but this time, user input between 12 and 25 is considered valid, and all other user supplied values are invalid. A solution is provided further down, but please try this for yourself.\n",
        "\n"
      ]
    },
    {
      "cell_type": "code",
      "metadata": {
        "id": "aU-2WYGcUftj"
      },
      "source": [
        "# Write your answer here\n"
      ],
      "execution_count": null,
      "outputs": []
    },
    {
      "cell_type": "markdown",
      "source": [
        "### Activity 3\n",
        "\n",
        "Write a program to enter the Mark1, Mark2, Mark3 using the keyboard. Print total marks, average marks, and the grade based on follwoing conditions.<br>\n",
        "\n",
        "\n",
        "> If averge marks>=70 then grade= Distinction<br>\n",
        "If 70 > avarage marks >= 50 then grade= Merit<br>\n",
        "If 50 > avarage marks >= 40 then grade= Pass<br>\n",
        "If average marks< 40 then grade= Fail\n",
        "\n",
        "\n"
      ],
      "metadata": {
        "id": "QmF4G_WcR_8b"
      }
    },
    {
      "cell_type": "code",
      "source": [
        "# Type your code here\n",
        "\n",
        "password = \"pswd!\"\n",
        "\n",
        "user_password = input(\"Please enter a password:\\n\")\n",
        "\n",
        "if password == user_password:\n",
        "\n",
        "  print(\"Password provided valid, proceeding to get your input...\")\n",
        "\n",
        "  value = int(input(\"Please enter a value:\\n\"))\n",
        "  if 5 < value < 10:\n",
        "    print(\"User entered a valid value.\")\n",
        "  else:\n",
        "    print(\"User has entered an invalid value\")\n",
        "else:\n",
        "  print(\"Password invalid - will not process your input.\")"
      ],
      "metadata": {
        "id": "TbNC67KKSA7T",
        "colab": {
          "base_uri": "https://localhost:8080/"
        },
        "outputId": "e372a9cf-9fb8-4cea-b19e-f34231698635"
      },
      "execution_count": 3,
      "outputs": [
        {
          "output_type": "stream",
          "name": "stdout",
          "text": [
            "Please enter a password:\n",
            "oluseye\n",
            "Password invalid - will not process your input.\n"
          ]
        }
      ]
    },
    {
      "cell_type": "markdown",
      "metadata": {
        "id": "UIHzV9wkUsjn"
      },
      "source": [
        "Next we want to add some further complications into the mix. We want to define a password as a string and store this in a variable. Then, we want to get the user to enter a password. We should then check that the password provided by the user matches that stored in our variable. If the user enters the correct password, we should then accept any further input they enter. If they do not use the correct password, we must reject any numbers they enter as invalid, even if they are within the correct range.\n",
        "\n",
        "<br>\n",
        "\n",
        "Here are the details – the password should be equal to “pswd!”. The correct numerical range for this problem is 6 to 9. Read the code cell below to better understand how I’ve solved this problem. Now there are many ways to solve problems such as this, so perhaps you were thinking of a slightly different way. That’s ok, and actually is a good sign. Read the cell below, run the code when ready.\n",
        "\n",
        "<br>\n"
      ]
    },
    {
      "cell_type": "code",
      "metadata": {
        "id": "D5J0hy6yWDLR"
      },
      "source": [
        "password = \"pswd!\"\n",
        "\n",
        "user_password = input(\"Please enter a password:\\n\")\n",
        "\n",
        "if password == user_password:\n",
        "\n",
        "  print(\"Password provided valid, proceeding to get your input...\")\n",
        "\n",
        "  value = int(input(\"Please enter a value:\\n\"))\n",
        "  if 5 < value < 10:\n",
        "    print(\"User entered a valid value.\")\n",
        "  else:\n",
        "    print(\"User has entered an invalid value\")\n",
        "else:\n",
        "  print(\"Password invalid - will not process your input.\")"
      ],
      "execution_count": null,
      "outputs": []
    },
    {
      "cell_type": "markdown",
      "metadata": {
        "id": "NCZtsUCJXSCd"
      },
      "source": [
        "<br>\n",
        "\n",
        "In the last example, I only used the less-than operator ```<``` to build a conditional that checked the value entered by the user. However, we know from the lecture that there are many different types of logical comparison operators in Python. These are summarised in the table below.\n",
        "\n",
        "| Operator / Group                    | Symbol / Example |\n",
        "|-------------------------------------|------------------|\n",
        "|Less than                            |  <               |\n",
        "|Less than or equal to                |  <=              |\n",
        "|Greater than                         |  >               |\n",
        "|Greater than or equal to             |  >=              |\n",
        "|Not equal to                         |  !=              |\n",
        "|Exactly equal to                     |  ==              |\n",
        "|Boolean NOT                          |not               |\n",
        "|Boolean AND                          |and               |\n",
        "|Boolean OR                           |or                |\n",
        "\n",
        "\n",
        "<br>\n",
        "\n",
        "The code cell below contains examples showing you how to use each of these operators. Please read the cell carefully. Be certain you understand how these operators are working – you’re going to need to use these operators for yourself in your coursework. Execute the code cell when ready.\n",
        "\n",
        "<br>\n"
      ]
    },
    {
      "cell_type": "code",
      "metadata": {
        "id": "h1wa04YLXdb6"
      },
      "source": [
        "\n",
        "# Less than                   <\n",
        "a = 6\n",
        "b = 10\n",
        "if a < b:\n",
        "  print(\"a is less than b\")\n",
        "else:\n",
        "  print(\"a is not less than b\")\n",
        "\n",
        "# Less than or equal to       <=\n",
        "a = 6\n",
        "b = 7\n",
        "if a <= b:\n",
        "  print(\"a is less than or equal to b\")\n",
        "else:\n",
        "  print(\"a is not less than or equal to b\")\n",
        "\n",
        "# Greater than                >\n",
        "a = 6\n",
        "b = 10\n",
        "if a > b:\n",
        "  print(\"a is greater than b\")\n",
        "else:\n",
        "  print(\"a is not greater than b\")\n",
        "\n",
        "# Greater than or equal to    >=\n",
        "a = 6\n",
        "b = 10\n",
        "if a > b:\n",
        "  print(\"a is greater than or equal to b\")\n",
        "else:\n",
        "  print(\"a is not greater than or equal to b\")\n",
        "\n",
        "# Not equal to                !=\n",
        "a = 8\n",
        "b = 2\n",
        "if a != b:\n",
        "  print(\"a is not equal to b\")\n",
        "else:\n",
        "  print(\"a is equal to b\")\n",
        "\n",
        "# Exactly equal to            ==\n",
        "a = 6\n",
        "b = 6\n",
        "if a == b:\n",
        "  print(\"a is exactly equal to b\")\n",
        "else:\n",
        "  print(\"a is not exactly equal to b\")\n",
        "\n",
        "# Boolean NOT                 not\n",
        "ready = True\n",
        "\n",
        "if not ready:\n",
        "  print(\"Ready is false....\")\n",
        "else:\n",
        "  print(\"Ready is true....\")\n",
        "\n",
        "# Boolean AND                 and\n",
        "\n",
        "ready = True\n",
        "active = False\n",
        "\n",
        "if ready and active:\n",
        "  print(\"Both ready and active are true.\")\n",
        "else:\n",
        "  print(\"Read and active are not true (but one of them may be).\")\n",
        "\n",
        "# Boolean OR                  or\n",
        "ready = True\n",
        "active = False\n",
        "\n",
        "if ready or active:\n",
        "  print(\"Either ready or active are true.\")\n",
        "else:\n",
        "  print(\"Some other condition holds.\")"
      ],
      "execution_count": null,
      "outputs": []
    },
    {
      "cell_type": "markdown",
      "metadata": {
        "id": "G1GnhkZWiX2f"
      },
      "source": [
        "<br>\n",
        "\n",
        "Let's think a little more about the logical operators show in the table below.\n",
        "\n",
        "| Operator / Group                    | Symbol / Example |\n",
        "|-------------------------------------|------------------|\n",
        "|Boolean NOT                          |not               |\n",
        "|Boolean AND                          |and               |\n",
        "|Boolean OR                           |or                |\n",
        "\n",
        "<br>\n",
        "\n",
        "These allow us to combine conditions in interesting ways. Consider the example below. Execute it when ready.\n",
        "\n",
        "<br>\n",
        "\n"
      ]
    },
    {
      "cell_type": "code",
      "metadata": {
        "id": "5w1QZjobixWK"
      },
      "source": [
        "a = 6\n",
        "b = 9\n",
        "\n",
        "if a < 7 and b > 4:\n",
        "  print(\"A is less than 7 and b is greater than 4.\")"
      ],
      "execution_count": null,
      "outputs": []
    },
    {
      "cell_type": "markdown",
      "metadata": {
        "id": "cRfoQS-PjBBk"
      },
      "source": [
        "<br>\n",
        "\n",
        "You should see that the conditional if evaluated to true and thus, the code printed an output message. This was only possible because BOTH parts of the condition on either side of the ```and``` evaluated to true. The ```and``` operator will only return true if both of its inputs are true. Let's show that now. If we change the value of ```a``` so it equals 20, we get a different result. Read the code cell below and execute it when ready.\n",
        "\n",
        "<br>\n"
      ]
    },
    {
      "cell_type": "code",
      "metadata": {
        "id": "Ndl59itEjhR0"
      },
      "source": [
        "a = 20\n",
        "b = 9\n",
        "\n",
        "if a < 7 and b > 4:\n",
        "  print(\"A is less than 7 and b is greater than 4.\")\n",
        "else:\n",
        "  print(\"Condition not met.\")"
      ],
      "execution_count": null,
      "outputs": []
    },
    {
      "cell_type": "markdown",
      "metadata": {
        "id": "AJCgkXRwjrGH"
      },
      "source": [
        "<br>\n",
        "\n",
        "This time the if condition was not met, as ```a``` is no longer less than (<) 7. The key thing to remember here is that the if condition only evaluates to true if both parts of the ```and``` are true. What about the example below? What do you think will happen when I run this? Read the code then execute it when ready.\n",
        "\n",
        "<br>\n"
      ]
    },
    {
      "cell_type": "code",
      "metadata": {
        "id": "6FFB_N1ykKow"
      },
      "source": [
        "a = 6\n",
        "b = 9\n",
        "c = 1\n",
        "\n",
        "if a < 7 and b > 4 and c == 1:\n",
        "  print(\"A is less than 7, b is greater than 4 and c is exactly equal to 1.\")\n",
        "else:\n",
        "  print(\"Condition not met.\")"
      ],
      "execution_count": null,
      "outputs": []
    },
    {
      "cell_type": "markdown",
      "metadata": {
        "id": "1vDNkScUkTxP"
      },
      "source": [
        "<br>\n",
        "\n",
        "Here I added an extra ```and``` condition. We can build up and conditions in this way, using as many as we like. If we have say, 10 ```and``` operators, then true will only be returned if all parameters passed to those ten ```and``` operators return true.\n",
        "\n",
        "<br>\n",
        "\n",
        "Can you write your own complex ```and``` statement for this scenario?\n",
        "\n",
        "if a is greater than 5 but less than 7 and b is less than 2 but greater than -1\n",
        "\n",
        "<br>\n",
        "\n",
        "Try to write this code for yourself in the cell below. I do provide a solution to help but try not to look right away.\n",
        "\n",
        "<br>\n"
      ]
    },
    {
      "cell_type": "code",
      "metadata": {
        "id": "Gqu-UuGQlVaY",
        "colab": {
          "base_uri": "https://localhost:8080/"
        },
        "outputId": "bc57558d-ebc8-4b62-8f48-2554a4ba53ac"
      },
      "source": [
        "# Your code here\n",
        "\n",
        "a = 6\n",
        "b = 1\n",
        "\n",
        "if a > 5 and a < 7 and b > -1 and b < 2:\n",
        "  print(\"Condition met.\")\n",
        "else:\n",
        "  print(\"Condition not met.\")"
      ],
      "execution_count": 4,
      "outputs": [
        {
          "output_type": "stream",
          "name": "stdout",
          "text": [
            "Condition met.\n"
          ]
        }
      ]
    },
    {
      "cell_type": "markdown",
      "metadata": {
        "id": "-iZRGr0HlYYd"
      },
      "source": [
        "<br>\n",
        "\n",
        "My solution below...\n",
        "\n",
        "<br>"
      ]
    },
    {
      "cell_type": "code",
      "metadata": {
        "id": "1FTn2VhqlbGh"
      },
      "source": [
        "a = 6\n",
        "b = 1\n",
        "\n",
        "if a > 5 and a < 7 and b > -1 and b < 2:\n",
        "  print(\"Condition met.\")\n",
        "else:\n",
        "  print(\"Condition not met.\")"
      ],
      "execution_count": null,
      "outputs": []
    },
    {
      "cell_type": "markdown",
      "metadata": {
        "id": "zG-P_PPPmBR0"
      },
      "source": [
        "<br>\n",
        "\n",
        "Please alter the values in my solution to better understand what is going on. Using logic, work out why you get the result you do.\n",
        "\n",
        "<br>\n",
        "\n",
        "What about logical ```or``` do you remember that? That will return true if just one of the conditions it evaluates is true. Think about this in English first:\n",
        "\n",
        "```\n",
        "if I am late for work or the bus broke down:\n",
        "  call a taxi\n",
        "else:\n",
        "  get to work via the bus.\n",
        "```\n",
        "\n",
        "I hope you can understand here that the ```or``` condition will evaluate to true, if either I am late, or if the bus breaks down. It will evaluate to false if both those conditions are false. We can integrate ```or``` into our conditionals easily. Consider the following example. Read the code then execute it when ready.\n"
      ]
    },
    {
      "cell_type": "code",
      "metadata": {
        "id": "OvCnNkLVnK1K"
      },
      "source": [
        "a = 7\n",
        "b = 9\n",
        "\n",
        "if a > 5 or b < 8:\n",
        "  print(\"Condition met.\")\n",
        "else:\n",
        "  print(\"Condition not met.\")"
      ],
      "execution_count": null,
      "outputs": []
    },
    {
      "cell_type": "markdown",
      "metadata": {
        "id": "aJBk0mXJnXzZ"
      },
      "source": [
        "<br>\n",
        "\n",
        "Do you understand why the condition above was met? Why not alter the values of ```a``` and ```b``` and see what happens for yourself when you do that. Try all potential combinations, e.g. ```a``` less than, greater than and equal to 5. Also try for ```b``` less than, greater than and equal to 8. By doing this you will hopefully start to build up some intuition for what these operators do and what they mean.\n",
        "\n",
        "<br>\n",
        "\n",
        "We can combine logical operators to form complex logical expressions. So, we could say in English something like,\n",
        "\n",
        "``` If it is a Monday, and it’s raining or it's a Wednesday and it's raining, let students work from home. Else if the weather is good or there's no indication the weather will be bad, students should work in the labs.```\n",
        "\n",
        "We could translate this to code, but I won't do that right now. What I will do, is sow you we can also apply conditions to string data types. Consider the example below. Read through it and when ready, execute it. Try and use these examples to write some code of your own that solves challenges you've made up.\n",
        "\n",
        "<br>\n"
      ]
    },
    {
      "cell_type": "code",
      "metadata": {
        "id": "6nNw4ElapKDH"
      },
      "source": [
        "name = \"Pradeep\"\n",
        "age = 36\n",
        "\n",
        "if name == \"Pradeep\" and age > 33:\n",
        "  print(\"Pradeep getting old ya'll\")\n",
        "else:\n",
        "  print(\"Someone else I don't know could be young or old.\")"
      ],
      "execution_count": null,
      "outputs": []
    },
    {
      "cell_type": "markdown",
      "metadata": {
        "id": "thxEl_kJqiqJ"
      },
      "source": [
        "<br>\n",
        "\n",
        "Do you see how I've used a conditional over a String and an integer in the same if statement? I could also use logical ```or``` if I liked. Read the code in the cell below, then execute when ready.\n",
        "\n",
        "<br>\n"
      ]
    },
    {
      "cell_type": "code",
      "metadata": {
        "id": "6eC5Yuy6q53_"
      },
      "source": [
        "name = \"Pradeep\"\n",
        "age = 25\n",
        "\n",
        "if name == \"Pradeep\" or age > 33:\n",
        "  print(\"Someones getting old or someone is called Pradeep\")\n"
      ],
      "execution_count": null,
      "outputs": []
    },
    {
      "cell_type": "markdown",
      "metadata": {
        "id": "wb8WzNvNrMt7"
      },
      "source": [
        "<br>\n",
        "\n",
        "The key thing here is to try and start writing conditionals of your own. Experiment a little in the cell below, the complete the activities.\n",
        "\n",
        "<br>\n"
      ]
    },
    {
      "cell_type": "markdown",
      "metadata": {
        "id": "Y0horUBlcg4j"
      },
      "source": [
        "### Activity 4\n",
        "\n",
        "\n",
        "The code above shows you how to use all the operators introduced during the lecture. Now the difficult part, is understanding and how and when to use them. It’s easy just to read my code and be like “oh yeah, that’s easy”. It’s an entirely different problem to do it for yourself from scratch. To illustrate, let’s try an activity. I want you to write a conditional that represents the following logical scenario:\n",
        "\n",
        "```A and not (B or C)```\n",
        "\n",
        "What does that even mean, right? Well, these letters could represent real-world situations. For example, if ```A``` represents valid password, ```B``` means connectivity issues, and ```C``` means insecure connection, then what this says is:\n",
        "\n",
        "Valid password and no connectivity issues or insecure connection.\n",
        "\n",
        "\n",
        "It is your job to represent these states as Boolean values, and then code a conditional that represents it. For each condition, provide a helpful output message for the user. Please enter your code in the cell below. A solution is provided much further down, but don’t cheat by heading straight there!\n",
        "\n",
        "#### Hints\n",
        "* Remember, you can set any initial values you like for the variables you create. Just be sure to test all possible outcomes.\n",
        "* You can force precedence using parentheses in logical expressions too.\n",
        "\n",
        "<br>\n",
        "\n",
        "\n"
      ]
    },
    {
      "cell_type": "code",
      "metadata": {
        "id": "vcwdSbW_dwzE"
      },
      "source": [
        "# Your code here...\n",
        "\n",
        "A = True # This represents a valid password\n",
        "B = False # This represents connectivity issues\n",
        "C = False # This represents an insecure connection.\n",
        "\n",
        "if A and not (B or C):\n",
        "  print(\"Password valid, no connetivity issues, connection secure.\")\n",
        "\n",
        "# This would be equivalent to the code below... except I've written it\n",
        "# in a single line :P That makes it easier to read.\n",
        "if A:\n",
        "  if not B:\n",
        "    if not C:\n",
        "      print(\"Password valid, no connetivity issues, connection secure.\")"
      ],
      "execution_count": null,
      "outputs": []
    },
    {
      "cell_type": "markdown",
      "metadata": {
        "id": "gLFBkf-jd0GA"
      },
      "source": [
        "<br>\n",
        "...\n",
        "<br>\n",
        "...\n",
        "<br>\n",
        "...\n",
        "<br>\n",
        "...\n",
        "<br>\n",
        "...\n",
        "<br>\n",
        "...\n",
        "<br>\n",
        "...\n",
        "<br>\n",
        "...\n",
        "<br>\n",
        "...\n",
        "<br>\n",
        "...\n",
        "<br>\n",
        "...\n",
        "<br>\n",
        "...\n",
        "<br>\n",
        "...\n",
        "<br>\n",
        "...<br>\n",
        "...\n",
        "<br>\n",
        "...\n",
        "<br>\n",
        "...\n",
        "<br>\n",
        "...\n",
        "<br>\n",
        "...\n",
        "<br>\n",
        "...\n",
        "<br>\n",
        "...\n",
        "<br>\n",
        "...\n",
        "<br>\n",
        "...\n",
        "<br>\n",
        "...\n",
        "<br>\n",
        "...\n",
        "<br>\n",
        "...\n",
        "<br>\n",
        "...\n",
        "<br>\n",
        "...\n",
        "A solution can be found below...\n",
        "\n",
        "<br>\n",
        "...\n",
        "<br>\n",
        "...\n",
        "<br>\n",
        "...\n",
        "<br>\n",
        "...\n",
        "<br>\n",
        "...\n",
        "<br>\n",
        "...\n",
        "<br>\n",
        "...\n",
        "<br>\n",
        "...\n",
        "<br>\n",
        "...\n",
        "<br>\n",
        "...\n",
        "<br>\n",
        "...\n",
        "<br>\n",
        "...\n",
        "<br>\n",
        "...\n",
        "<br>\n",
        "...\n",
        "\n",
        "Solution..."
      ]
    },
    {
      "cell_type": "code",
      "metadata": {
        "id": "ig9kOPkCd7IF"
      },
      "source": [
        "# Condition we have to code...\n",
        "# A and not (B or C)\n",
        "A = True # This represents a valid password\n",
        "B = False # This represents connectivity issues\n",
        "C = False # This represents an insecure connection.\n",
        "\n",
        "if A and not (B or C):\n",
        "  print(\"Password valid, no connetivity issues, connection secure.\")\n",
        "\n",
        "# This would be equivalent to the code below... except I've written it\n",
        "# in a single line :P That makes it easier to read.\n",
        "if A:\n",
        "  if not B:\n",
        "    if not C:\n",
        "      print(\"Password valid, no connetivity issues, connection secure.\")"
      ],
      "execution_count": null,
      "outputs": []
    },
    {
      "cell_type": "markdown",
      "metadata": {
        "id": "KkdQultXg3mG"
      },
      "source": [
        "<br>\n",
        "\n",
        "We can now start bringing things together to produce useful code. Let's integrate conditionals within a function. We learned about functions last time, and we know that they’re reusable blocks of code. So, let’s extend that idea to create a function that will return True, only if a certain conditions hold.\n",
        "\n",
        "<br>\n",
        "\n",
        "Continuing the last example, we want to allow a user to connect to some service (doesn't matter what it is), if they have,\n",
        "\n",
        "* provided a valid password.\n",
        "* have a stable connection.\n",
        "* have a secure connection.\n",
        "\n",
        "When ready, please read the code in the cell below. This shows you how to add conditionals to a function. It also shows you how to call that function. This example may prove especially useful for coursework 1.2, since you must write a function that contains a conditional…\n",
        "\n",
        "<br>\n"
      ]
    },
    {
      "cell_type": "code",
      "metadata": {
        "id": "2SbOREDahx_5"
      },
      "source": [
        "def allow_user_logon(valid_password, connectivity_issues, insecure_conn):\n",
        "  \"\"\"\n",
        "  A simple function that returns True if a user can login, otherwise\n",
        "  it returns false. The function accepts three parameters.\n",
        "\n",
        "  :param valid_password: a boolean value that when true, indicates that the user\n",
        "                        has provided a valid password.\n",
        "  :param connectivity_issues: a boolean value that when true, indicates that a\n",
        "                              user who is attempting to logon, is encountering\n",
        "                              connectivity issues.\n",
        "  :param insecure_conn: a boolean value that when true, indicates that a\n",
        "                        user who is attempting to logon, has an insecure\n",
        "                        connection.\n",
        "\n",
        "  :return: True if the user logon can be allowed, else False.\n",
        "  \"\"\"\n",
        "  if valid_password and not (connectivity_issues or insecure_conn):\n",
        "    print(\"Password valid, no connetivity issues, connection secure.\")\n",
        "    return True\n",
        "  else:\n",
        "    print(\"Cannot permit logon.\")\n",
        "    return False\n",
        "\n",
        "\n",
        "result = allow_user_logon(True, False, False)\n",
        "\n",
        "if result:\n",
        "  print(\"Allowing user logon...\")\n",
        "else:\n",
        "  print(\"Denying user logon request.\")"
      ],
      "execution_count": null,
      "outputs": []
    },
    {
      "cell_type": "markdown",
      "metadata": {
        "id": "X-WYB-3ympun"
      },
      "source": [
        "<br>\n",
        "\n",
        "The remainder of the notebook will set you few coding challenges. You can solve these challenges by considering the lecture material and by looking over the examples in this notebook. All the examples you need are in here, you just have to develop the understanding needed to know which code samples will help. Then you can write your own code, based on the samples to solve the problem.\n",
        "\n",
        "<br>\n",
        "\n",
        "## Activity 5\n",
        "\n",
        "The aim of this challenges is to write a function that helps you figure out if a gamble is worthwhile. To do this you must write a function that accepts three parameters:\n",
        "\n",
        "* probability of winning\n",
        "* prize - how much you win\n",
        "* how much you have to pay to play\n",
        "\n",
        "The function should return ```True``` if $prob * prize > pay$ otherwise it should return ```False```.\n",
        "\n",
        "For example, ```should_gamble(0.2, 50, 9)``` should yield True, since the net profit is 1 as (0.2 * 50 - 9)=1, and 1 > 0.\n",
        "\n",
        "Further examples:\n",
        "\n",
        "<br>\n",
        "\n",
        "```should_gamble(0.4, 50, 9)``` -> True\n",
        "\n",
        "```should_gamble(0.9, 1, 2)``` -> False\n",
        "\n",
        "```should_gamble(0.9, 3, 2)``` -> True\n",
        "\n",
        "<br>\n",
        "\n",
        "Remember, a profitable gamble is one that is most likely to yeild a positive net profit.\n",
        "\n",
        "Then ```likely profit = probability of winning * prize - cost of playing```.\n",
        "\n",
        "<br>\n"
      ]
    },
    {
      "cell_type": "code",
      "metadata": {
        "id": "DoRQrolJtB1A"
      },
      "source": [
        "# Your code here...\n",
        "\n",
        "def profitable_gamble(prob, prize, pay):\n",
        "\toutcome = prob * prize - pay\n",
        "\tif outcome > 0:\n",
        "\t\treturn True\n",
        "\telse:\n",
        "\t\treturn False"
      ],
      "execution_count": null,
      "outputs": []
    },
    {
      "cell_type": "markdown",
      "metadata": {
        "id": "W1Z_OZb1nLyt"
      },
      "source": [
        "<br>\n",
        "...\n",
        "<br>\n",
        "...\n",
        "<br>\n",
        "...\n",
        "<br>\n",
        "...\n",
        "<br>\n",
        "...\n",
        "<br>\n",
        "...\n",
        "<br>\n",
        "...\n",
        "<br>\n",
        "...\n",
        "<br>\n",
        "...\n",
        "<br>\n",
        "...\n",
        "<br>\n",
        "...\n",
        "<br>\n",
        "...\n",
        "<br>\n",
        "...\n",
        "<br>\n",
        "...<br>\n",
        "...\n",
        "<br>\n",
        "...\n",
        "<br>\n",
        "...\n",
        "<br>\n",
        "...\n",
        "<br>\n",
        "...\n",
        "<br>\n",
        "...\n",
        "<br>\n",
        "...\n",
        "<br>\n",
        "...\n",
        "<br>\n",
        "...\n",
        "<br>\n",
        "...\n",
        "<br>\n",
        "...\n",
        "<br>\n",
        "...\n",
        "<br>\n",
        "...\n",
        "<br>\n",
        "...\n",
        "A solution can be found below...\n",
        "\n",
        "...\n",
        "<br>\n",
        "\n",
        "\n",
        "...\n",
        "<br>\n",
        "...\n",
        "<br>\n",
        "...\n",
        "<br>\n",
        "...\n",
        "<br>\n",
        "...\n",
        "<br>\n",
        "...\n",
        "<br>\n",
        "...\n",
        "<br>\n",
        "...\n",
        "<br>\n",
        "...\n",
        "<br>\n",
        "...\n",
        "<br>\n",
        "...\n",
        "<br>\n",
        "Solution..."
      ]
    },
    {
      "cell_type": "code",
      "metadata": {
        "id": "GF8RsH_znF69"
      },
      "source": [
        "def profitable_gamble(prob, prize, pay):\n",
        "\toutcome = prob * prize - pay\n",
        "\tif outcome > 0:\n",
        "\t\treturn True\n",
        "\telse:\n",
        "\t\treturn False"
      ],
      "execution_count": null,
      "outputs": []
    },
    {
      "cell_type": "markdown",
      "metadata": {
        "id": "7HNMA3bjs3qf"
      },
      "source": [
        "## Activity 6\n",
        "\n",
        "We know that Boolean variables can be either True or False, where True is equivalent to 1, and False equivalent to 0. For this challenge, I want you to write a function that can flip the value of a Boolean variable.  So, please write a function called ```flip``` that accepts a single input variable (a Boolean) and returns the opposite of the given Boolean, but as a number (either 0 or 1).\n",
        "\n",
        "\n",
        "\n",
        "Examples:\n",
        "\n",
        "\n",
        "\n",
        "```flip(True) -> 0```\n",
        "\n",
        "```flip(False) -> 1```\n",
        "\n",
        "```flip(1) -> 0```\n",
        "\n",
        "```flip(0) -> 1```\n",
        "\n"
      ]
    },
    {
      "cell_type": "code",
      "metadata": {
        "id": "ZxK8Id5RtFtn"
      },
      "source": [
        "# Your code here...\n",
        "\n",
        "def flip(b):\n",
        "\tif b == 1:\n",
        "\t\treturn 0\n",
        "\telif b == 0:\n",
        "\t\treturn 1"
      ],
      "execution_count": null,
      "outputs": []
    },
    {
      "cell_type": "markdown",
      "metadata": {
        "id": "VGqKr84Vs94D"
      },
      "source": [
        "<br>\n",
        "...\n",
        "<br>\n",
        "...\n",
        "<br>\n",
        "...\n",
        "<br>\n",
        "...\n",
        "<br>\n",
        "...\n",
        "<br>\n",
        "...\n",
        "<br>\n",
        "...\n",
        "<br>\n",
        "...\n",
        "<br>\n",
        "...\n",
        "<br>\n",
        "...\n",
        "<br>\n",
        "...\n",
        "<br>\n",
        "...\n",
        "<br>\n",
        "...\n",
        "<br>\n",
        "...<br>\n",
        "...\n",
        "<br>\n",
        "...\n",
        "<br>\n",
        "...\n",
        "<br>\n",
        "...\n",
        "<br>\n",
        "...\n",
        "<br>\n",
        "...\n",
        "<br>\n",
        "...\n",
        "<br>\n",
        "...\n",
        "<br>\n",
        "...\n",
        "<br>\n",
        "...\n",
        "<br>\n",
        "...\n",
        "<br>\n",
        "...\n",
        "<br>\n",
        "...\n",
        "<br>\n",
        "...\n",
        "A solution can be found below...\n",
        "\n",
        "<br>\n",
        "...\n",
        "<br>\n",
        "...\n",
        "<br>\n",
        "...\n",
        "<br>\n",
        "...\n",
        "<br>\n",
        "...\n",
        "<br>\n",
        "...\n",
        "<br>\n",
        "...\n",
        "<br>\n",
        "...\n",
        "<br>\n",
        "...\n",
        "<br>\n",
        "...\n",
        "<br>\n",
        "...\n",
        "<br>\n",
        "...\n",
        "<br>\n",
        "...\n",
        "<br>\n",
        "...\n",
        "<br>\n"
      ]
    },
    {
      "cell_type": "code",
      "metadata": {
        "id": "A2C7MnG_s65X"
      },
      "source": [
        "def flip(b):\n",
        "\tif b == 1:\n",
        "\t\treturn 0\n",
        "\telif b == 0:\n",
        "\t\treturn 1"
      ],
      "execution_count": null,
      "outputs": []
    },
    {
      "cell_type": "markdown",
      "metadata": {
        "id": "1e8NKkDRuWcP"
      },
      "source": [
        "\n",
        "## Activity 7\n",
        "\n",
        "For this activity, you need to write three logic gate functions. In other words, I want you to create three functions that can represent logical AND, OR and NOT. Look back at the lecture slides if it helps you understand these gates. The examples below show you how the functions should behave.\n",
        "\n",
        "<br>\n",
        "\n",
        "Examples\n",
        "\n",
        "<br>\n",
        "\n",
        "```AND(1, 1) -> 1```\n",
        "\n",
        "```AND(0, 0) ->```\n",
        "\n",
        "```OR(1, 0) -> 1```\n",
        "\n",
        "```OR(1, 1) -> 1```\n",
        "\n",
        "```NOT(0) ➞ 1```\n",
        "\n",
        "```NOT(1) -> 0```\n",
        "\n",
        "\n"
      ]
    },
    {
      "cell_type": "code",
      "metadata": {
        "id": "LVDoTGRHuCkW"
      },
      "source": [
        "# Your code here....\n",
        "def NOT(a):\n",
        "\treturn not a\n",
        "\n",
        "def AND(a, b):\n",
        "\treturn a and b\n",
        "\n",
        "def OR(a, b):\n",
        "\treturn a or b"
      ],
      "execution_count": null,
      "outputs": []
    },
    {
      "cell_type": "markdown",
      "metadata": {
        "id": "-3w9QHnAuRTB"
      },
      "source": [
        "A solution can be found below...\n",
        "\n",
        "...\n",
        "<br>\n",
        "...\n",
        "<br>\n",
        "...\n",
        "<br>\n",
        "...\n",
        "<br>\n",
        "...\n",
        "<br>\n",
        "...\n",
        "<br>\n",
        "...\n",
        "<br>\n",
        "...\n",
        "<br>\n",
        "...\n",
        "<br>\n",
        "...\n",
        "<br>\n",
        "...\n",
        "<br>\n",
        "...\n",
        "<br>\n",
        "...\n",
        "<br>\n",
        "...\n",
        "<br>\n",
        "Solution..."
      ]
    },
    {
      "cell_type": "code",
      "metadata": {
        "id": "0VBxnAOluFPp"
      },
      "source": [
        "def NOT(a):\n",
        "\treturn not a\n",
        "\n",
        "def AND(a, b):\n",
        "\treturn a and b\n",
        "\n",
        "def OR(a, b):\n",
        "\treturn a or b"
      ],
      "execution_count": null,
      "outputs": []
    },
    {
      "cell_type": "markdown",
      "source": [],
      "metadata": {
        "id": "WK1Oc_VrSPJR"
      }
    },
    {
      "cell_type": "markdown",
      "metadata": {
        "id": "KSqny4JhFCPZ"
      },
      "source": [
        "## 2. Repetitions\n",
        "###While Loops\n",
        "\n",
        "It is often desirable to repeat a piece of code, until some condition is met.  In Python this can be achieved with a while loop. For example, while the user is yet to pick a file, wait for them to choose. Suppose we have a some code designed to check if a suer email address is valid. Before proceeding, read the code below and try to understand it.\n"
      ]
    },
    {
      "cell_type": "code",
      "metadata": {
        "id": "ZS196pfkuP41"
      },
      "source": [
        "# Let's create some data to test with.\n",
        "user_1 = '0001@bolton.Arts.ac.uk'\n",
        "departments = ['Administration', \"Arts\", \"Sciences\"]\n",
        "\n",
        "# Look at the data above carefully. What are it's characteristics. First, we\n",
        "# need to check if the data is valid.\n",
        "\n",
        "# Now we check the address.\n",
        "if '@' not in user_1:\n",
        "  print(\"Invalid Login - address: \", user_1, \" is invalid - missing @ symbol.\")\n",
        "\n",
        "# What about the number of . symbols?\n",
        "elif 3 > user_1.count(\".\") > 3:\n",
        "  print(\"Invalid Login - address incorrect: \", user_1,\n",
        "        \" too many/few '.' symbols.\")\n",
        "\n",
        "# What about the number of @ symbols?\n",
        "elif 1 > user_1.count(\"@\") > 1:\n",
        "  print(\"Invalid Login - address incorrect: \", user_1,\n",
        "        \" too many/few '@' symbols.\")\n",
        "\n",
        "# Is the correct university in the address.\n",
        "elif \"bolton\" not in user_1 :\n",
        "  print(\"Invalid Login - incorrect university in address: \", user_1, \" .\")\n",
        "\n",
        "# Does it contain .ac.uk?\n",
        "elif \".ac.uk\" not in user_1 :\n",
        "  print(\"Invalid Login - incorrect address suffix: \", user_1, \" .\")\n",
        "\n",
        "# Is the department valid?\n",
        "elif \"administration\" not in user_1.lower() and \\\n",
        "     \"arts\" not in user_1.lower() and \"sciences\" not in user_1.lower():\n",
        "    print(\"Invalid Login - incorrect department: \", user_1, \" .\")\n",
        "else:\n",
        "    # Account is valid.\n",
        "\n",
        "    # Get the user number and department. Here we simply\n",
        "    # extract the first 4 characters which should be the number,\n",
        "    # and cast that to an int.\n",
        "    number = int(user_1[0:4])\n",
        "\n",
        "    # We can extract the department, by splitting the string on the '.'\n",
        "    # symbol. If we do this, then we know which part of the list produced\n",
        "    # via splitting, will contain the department. That is, if we have the\n",
        "    # string:\n",
        "    #\n",
        "    # 0001@bolton.Arts.ac.uk\n",
        "    #\n",
        "    # And if we split on '.' we get the following list:\n",
        "    #\n",
        "    # [\"0001@bolton\",\"Arts\",\"ac\",\".uk\"]\n",
        "    #         ^          ^     ^     ^\n",
        "    #         |          |     |     |\n",
        "    #         0          1     2     3   <--- Indexes\n",
        "    #\n",
        "    # So we can see that we need the string at position 1.\n",
        "    department = user_1.split(\".\")[1] # Figure this out.\n",
        "\n",
        "    # Now we can test on the number.\n",
        "    if number <= 8000:\n",
        "\n",
        "      print(\"Valid student account: \", user_1)\n",
        "      print(\"Student department: \"   , department.capitalize())\n",
        "      print(\"Student number: \"       , number)\n",
        "\n",
        "    elif number >= 8001:\n",
        "      print(\"Valid staff account: \", user_1)\n",
        "      print(\"Saff department: \"    , department.capitalize())\n",
        "      print(\"Staff number: \"       , number)\n",
        "\n"
      ],
      "execution_count": null,
      "outputs": []
    },
    {
      "cell_type": "markdown",
      "metadata": {
        "id": "affGTRIouPLc"
      },
      "source": [
        "<br>\n",
        "\n",
        "This code is relatively simple to understand - it performs a number of checks of a potential email address. It works well, except it only works for a single email address. What if we want to check multiple addresses - well, we need to loop.\n",
        "\n",
        "<br>\n",
        "\n",
        "The code in the cell below has been modified to use a loop. This allows us to perform many checks using the code, and not just one as before. Read the code below and try to understand it.\n",
        "\n",
        "<br>\n",
        "\n",
        "Note that we've replaced the single user variable (```user_1```) with a list called users. Then, the loop iterates over this list, using a count variable to move through the list. The count variable is updated after each loop.\n",
        "\n",
        "<br>\n",
        "\n",
        "Once the count variable equals the length of the list, the loop terminates. Execute the code when you think you understand it."
      ]
    },
    {
      "cell_type": "code",
      "metadata": {
        "id": "o7LRDwYuFECK"
      },
      "source": [
        "# Let's create some data to test with. There are nine examples below.\n",
        "users = ['0001@bolton.Arts.ac.uk','0002@bolton.arts.ac.uk',\n",
        "         '8000@bolton.Sciences.ac.uk','8001@bolton.Administration.ac.uk',\n",
        "         '8002@bolton.arts.ac.uk', '8003@bolton.arts.ac.uk',\n",
        "         '8004@bolton.Sciences.ac.uk','8005@edboltongehill.arts.ac',\n",
        "         '8006@bolton.ac.uk', '']\n",
        "\n",
        "# Look a the data above carefully. What are it's characteristics. First we need\n",
        "# to check if the data is valid. We can use a loop to process this data.\n",
        "\n",
        "# Count the users.\n",
        "address_count = len(users)\n",
        "count = 0\n",
        "\n",
        "while count < address_count:\n",
        "  if '@' not in users[count]:\n",
        "    print(\"Invalid Login - address: \", users[count], \" is invalid - missing @ symbol.\")\n",
        "\n",
        "  # What about the number of . symbols?\n",
        "  elif 3 > users[count].count(\".\") > 3:\n",
        "    print(\"Invalid Login - address incorrect: \", users[count],\n",
        "        \" too many/few '.' symbols.\")\n",
        "\n",
        "  # What about the number of @ symbols?\n",
        "  elif 1 > users[count].count(\"@\") > 1:\n",
        "    print(\"Invalid Login - address incorrect: \", users[count],\n",
        "        \" too many/few '@' symbols.\")\n",
        "\n",
        "  # Is the correct university in the address.\n",
        "  elif \"bolton\" not in users[count] :\n",
        "    print(\"Invalid Login - incorrect university in address: \",\n",
        "          users[count], \" .\")\n",
        "\n",
        "  # Does it contain .ac.uk?\n",
        "  elif \".ac.uk\" not in users[count] :\n",
        "    print(\"Invalid Login - incorrect address suffix: \", users[count], \" .\")\n",
        "\n",
        "  # Is the department valid?\n",
        "  elif \"administration\" not in users[count].lower() and \\\n",
        "     \"arts\" not in users[count].lower() and \"sciences\" \\\n",
        "      not in users[count].lower():\n",
        "      print(\"Invalid Login - incorrect department: \", users[count], \" .\")\n",
        "  else:\n",
        "      # Account is valid.\n",
        "\n",
        "      number = int(users[count][0:4])\n",
        "      department = users[count].split(\".\")[1] # Figure this out.\n",
        "\n",
        "      # Now we can test on the number.\n",
        "      if number <= 8000:\n",
        "\n",
        "        print(\"Valid student account: \", users[count])\n",
        "        print(\"Student department: \"   , department.capitalize())\n",
        "        print(\"Student number: \"       , number)\n",
        "        print(\"\\n\") # Added this to make the output easier to read.\n",
        "\n",
        "      elif number >= 8001:\n",
        "        print(\"Valid staff account: \", users[count])\n",
        "        print(\"Saff department: \"    , department.capitalize())\n",
        "        print(\"Staff number: \"       , number)\n",
        "        print(\"\\n\") # Added this to make the output easier to read.\n",
        "\n",
        "  # Update the counter...\n",
        "  count +=1\n",
        ""
      ],
      "execution_count": null,
      "outputs": []
    },
    {
      "cell_type": "markdown",
      "metadata": {
        "id": "E-zRxzKugn0h"
      },
      "source": [
        "I hope you can see how the while loop has made it possible process lots of addresses, with very little extra code. This is the power of looping and recursion."
      ]
    },
    {
      "cell_type": "markdown",
      "metadata": {
        "id": "DzaNzU0skJEa"
      },
      "source": [
        "## For loops\n",
        "\n",
        "For loops are similar to while loops, however they give you access to variables capable of maintaining counts, useful for many tasks. To make such a for loop, we use a Python standard library function, ```range()```, to keep count.\n",
        "\n",
        "<br/>\n",
        "\n",
        "For example, this code will print out  the numbers 1 to 9:\n",
        "\n",
        "```\n",
        "for num in range(1,10):\n",
        "    print(num)\n",
        "```\n",
        "\n",
        "If we want to include the number 10, we must modify our inputs to the range function like so.\n",
        "\n",
        "```\n",
        "for num in range(1,11):\n",
        "    print(num)\n",
        "```\n",
        "\n",
        "Get use to using the range function, it is very useful:\n",
        "\n",
        "[Range function description](https://docs.python.org/3/library/functions.html#func-range\n",
        ")\n",
        "\n",
        "Please watch this short video describing for loops, before continuing."
      ]
    },
    {
      "cell_type": "code",
      "metadata": {
        "id": "qqFw1fTRkLjR",
        "colab": {
          "base_uri": "https://localhost:8080/",
          "height": 336
        },
        "outputId": "236b2ef0-f7e5-4178-fa7f-0b2d7869f30d"
      },
      "source": [
        "# Import the HTML library\n",
        "from IPython.display import HTML\n",
        "\n",
        "# Load the video frm youtube.\n",
        "HTML('<iframe width=\"560\" height=\"315\" \\\n",
        "src=\"https://www.youtube.com/embed/94UHCEmprCY\" frameborder=\"0\"\\\n",
        "allow=\"accelerometer; autoplay; encrypted-media; gyroscope; picture-in-picture\"\\\n",
        "   allowfullscreen></iframe>')"
      ],
      "execution_count": null,
      "outputs": [
        {
          "output_type": "execute_result",
          "data": {
            "text/plain": [
              "<IPython.core.display.HTML object>"
            ],
            "text/html": [
              "<iframe width=\"560\" height=\"315\" src=\"https://www.youtube.com/embed/94UHCEmprCY\" frameborder=\"0\"allow=\"accelerometer; autoplay; encrypted-media; gyroscope; picture-in-picture\"   allowfullscreen></iframe>"
            ]
          },
          "metadata": {},
          "execution_count": 2
        }
      ]
    },
    {
      "cell_type": "markdown",
      "metadata": {
        "id": "X0V8SBIfmcJb"
      },
      "source": [
        "For loops can be used in a few different ways. They can be used to build iterators, that loop over collections:\n"
      ]
    },
    {
      "cell_type": "code",
      "metadata": {
        "id": "_eEaXMX9ujWU",
        "colab": {
          "base_uri": "https://localhost:8080/"
        },
        "outputId": "0eaec60c-b72d-443e-9c70-e8c548af26ad"
      },
      "source": [
        "users = ['0001@bolton.Arts.ac.uk','0002@bolton.arts.ac.uk',\n",
        "         '8000@bolton.Sciences.ac.uk','8001@bolton.Administration.ac.uk',\n",
        "         '8002@bolton.arts.ac.uk', '8003@bolton.arts.ac.uk',\n",
        "         '8004@bolton.Sciences.ac.uk','8005@bolton.arts.ac',\n",
        "         '8006@bolton.ac.uk', '']\n",
        "\n",
        "for user in users:\n",
        "  print(\"User address:\", user)\n"
      ],
      "execution_count": null,
      "outputs": [
        {
          "output_type": "stream",
          "name": "stdout",
          "text": [
            "User address: 0001@bolton.Arts.ac.uk\n",
            "User address: 0002@bolton.arts.ac.uk\n",
            "User address: 8000@bolton.Sciences.ac.uk\n",
            "User address: 8001@bolton.Administration.ac.uk\n",
            "User address: 8002@bolton.arts.ac.uk\n",
            "User address: 8003@bolton.arts.ac.uk\n",
            "User address: 8004@bolton.Sciences.ac.uk\n",
            "User address: 8005@bolton.arts.ac\n",
            "User address: 8006@bolton.ac.uk\n",
            "User address: \n"
          ]
        }
      ]
    },
    {
      "cell_type": "markdown",
      "metadata": {
        "id": "u33HUR8Rmvcz"
      },
      "source": [
        "Or we can use indexing to create useful for loops instead."
      ]
    },
    {
      "cell_type": "code",
      "metadata": {
        "id": "ocq35anemwQT"
      },
      "source": [
        "users = ['0001@bolton.Arts.ac.uk','0002@bolton.arts.ac.uk',\n",
        "         '8000@bolton.Sciences.ac.uk','8001@bolton.Administration.ac.uk',\n",
        "         '8002@bolton.arts.ac.uk', '8003@bolton.arts.ac.uk',\n",
        "         '8004@bolton.Sciences.ac.uk','8005@bolton.arts.ac',\n",
        "         '8006@bolton.ac.uk', '']\n",
        "\n",
        "for i in range(1,len(users)):\n",
        "  print(\"User address:\", users[i])"
      ],
      "execution_count": null,
      "outputs": []
    },
    {
      "cell_type": "markdown",
      "source": [
        "How about you write some more looping code - this time for a temperature control system. I would like you to test a monitoring system that will turn on a heating controller when the temperature gets too low below (19 degrees Celsius). I've provided some outline code to get you started, and the solution is provided further down. The test only needs to run for 30 minutes."
      ],
      "metadata": {
        "id": "sWq-cRMnVnXk"
      }
    },
    {
      "cell_type": "code",
      "metadata": {
        "id": "CbpkzIwwiMHG"
      },
      "source": [
        "# This is the start temperature in degrees Celsius.\n",
        "temperature = 20.0\n",
        "\n",
        "# How much heat is lost in Celsius per minute\n",
        "heat_loss_rate = 0.05\n",
        "\n",
        "# The time in minutes measured by the heating system.\n",
        "time_in_mins = 0.0\n",
        "\n",
        "# The number of minutes we'll test the system for.\n",
        "test_runtime = 30.0\n",
        "\n",
        "# The rate at which the heating system is currently configured to\n",
        "# produce heat - 0.1 Celsius increase per minute.\n",
        "heating_rate = 0.1\n",
        "\n",
        "# While we are testing the heating system\n",
        "while ....: # Fix here\n",
        "\n",
        "\n",
        "  if ....: # Fix here\n",
        "\n",
        "    # Turn on the heating\n",
        "    print(\"Turning on the heating system - heating rate (Celsius per minute): \"\n",
        "          , heating_rate)\n",
        "\n",
        "    # Turn on the heater:\n",
        "    temperature += heating_rate\n",
        "\n",
        "  # Update the timer for the test.\n",
        "  time_in_mins += 1\n"
      ],
      "execution_count": null,
      "outputs": []
    },
    {
      "cell_type": "markdown",
      "metadata": {
        "id": "Bzn0y-ATiMvJ"
      },
      "source": [
        "**Solution**"
      ]
    },
    {
      "cell_type": "code",
      "metadata": {
        "id": "6-T7_TyjiM_9"
      },
      "source": [
        "# This is the start temperature in degrees Celsius.\n",
        "temperature = 20.0\n",
        "\n",
        "# How much heat is lost in Celsius per minute\n",
        "heat_loss_rate = 0.05\n",
        "\n",
        "# The time in minutes measured by the heating system.\n",
        "time_in_mins = 0.0\n",
        "\n",
        "# The number of minutes we'll test the system for.\n",
        "test_runtime = 30.0\n",
        "\n",
        "# The rate at which the heating system is currently configured to\n",
        "# produce heat - 0.1 Celsius increase per minute.\n",
        "heating_rate = 0.1\n",
        "\n",
        "# While we are testing the heating system\n",
        "while time_in_mins < test_runtime:\n",
        "\n",
        "  # Get current temperature due to nantural heat loss,\n",
        "  # e.g. due to open windows, doors etc.\n",
        "  temperature = temperature - heat_loss_rate\n",
        "  print(\"Current temperature: \", temperature)\n",
        "\n",
        "  # If the temperature drops too low\n",
        "  if temperature < 19.0:\n",
        "\n",
        "    # Turn on the heating\n",
        "    print(\"Turning on the heating system - heating rate (Celsius per minute): \"\n",
        "          , heating_rate)\n",
        "\n",
        "    # Turn on the heater:\n",
        "    temperature += heating_rate\n",
        "\n",
        "  # Update the timer for the test.\n",
        "  time_in_mins += 1\n"
      ],
      "execution_count": null,
      "outputs": []
    },
    {
      "cell_type": "markdown",
      "metadata": {
        "id": "UvzGc5DGFEZ-"
      },
      "source": [
        "You should see above that each time the temperature drops below the 19 degrees Celsius threshold, the heating system kicks in. This keeps the temperature at 19 degrees at a minimum.\n",
        "\n",
        "---"
      ]
    },
    {
      "cell_type": "markdown",
      "source": [
        "### Activity 7\n",
        "Write a program to print 1-20 numbers using while loop"
      ],
      "metadata": {
        "id": "cUYYIJDGWlOu"
      }
    },
    {
      "cell_type": "code",
      "source": [
        "# You code attempt here.\n",
        "i = 1\n",
        "while i < 21:\n",
        "   print(i)\n",
        "   i += 1\n",
        ""
      ],
      "metadata": {
        "id": "M-es6v7jW_wc",
        "colab": {
          "base_uri": "https://localhost:8080/"
        },
        "outputId": "53cebfa8-5434-4657-88eb-a9b63b8afcf2"
      },
      "execution_count": 18,
      "outputs": [
        {
          "output_type": "stream",
          "name": "stdout",
          "text": [
            "1\n",
            "2\n",
            "3\n",
            "4\n",
            "5\n",
            "6\n",
            "7\n",
            "8\n",
            "9\n",
            "10\n",
            "11\n",
            "12\n",
            "13\n",
            "14\n",
            "15\n",
            "16\n",
            "17\n",
            "18\n",
            "19\n",
            "20\n"
          ]
        }
      ]
    },
    {
      "cell_type": "markdown",
      "source": [
        "### Activiry 8\n",
        "\n",
        "Write a program to print 20 to 1 numbers (numbers in decending order) using while loop"
      ],
      "metadata": {
        "id": "UAoO8jFGXFc0"
      }
    },
    {
      "cell_type": "code",
      "source": [
        "# You code attempt here.\n",
        "\n",
        "i = 20\n",
        "while i > 0:\n",
        "  print(i)\n",
        "  i -= 1"
      ],
      "metadata": {
        "id": "l-9QsgJ0XX-a",
        "colab": {
          "base_uri": "https://localhost:8080/"
        },
        "outputId": "1be8126f-409c-4199-f53a-5e5e2ac3a66f"
      },
      "execution_count": 16,
      "outputs": [
        {
          "output_type": "stream",
          "name": "stdout",
          "text": [
            "20\n",
            "19\n",
            "18\n",
            "17\n",
            "16\n",
            "15\n",
            "14\n",
            "13\n",
            "12\n",
            "11\n",
            "10\n",
            "9\n",
            "8\n",
            "7\n",
            "6\n",
            "5\n",
            "4\n",
            "3\n",
            "2\n",
            "1\n"
          ]
        }
      ]
    },
    {
      "cell_type": "markdown",
      "source": [
        "### Activity 9\n",
        "Write a program to print 0 to 50 numbers using for loop"
      ],
      "metadata": {
        "id": "K-Mst9lwXadK"
      }
    },
    {
      "cell_type": "code",
      "source": [
        "# You code attempt here.\n",
        "\n",
        "for i in range(0, 51, +1):\n",
        "\n",
        "   print(i)\n",
        ""
      ],
      "metadata": {
        "id": "ORwvZrc6XqqR",
        "colab": {
          "base_uri": "https://localhost:8080/"
        },
        "outputId": "e16b53bd-ec4c-47e4-e0f7-1e28c90569e2"
      },
      "execution_count": 21,
      "outputs": [
        {
          "output_type": "stream",
          "name": "stdout",
          "text": [
            "0\n",
            "1\n",
            "2\n",
            "3\n",
            "4\n",
            "5\n",
            "6\n",
            "7\n",
            "8\n",
            "9\n",
            "10\n",
            "11\n",
            "12\n",
            "13\n",
            "14\n",
            "15\n",
            "16\n",
            "17\n",
            "18\n",
            "19\n",
            "20\n",
            "21\n",
            "22\n",
            "23\n",
            "24\n",
            "25\n",
            "26\n",
            "27\n",
            "28\n",
            "29\n",
            "30\n",
            "31\n",
            "32\n",
            "33\n",
            "34\n",
            "35\n",
            "36\n",
            "37\n",
            "38\n",
            "39\n",
            "40\n",
            "41\n",
            "42\n",
            "43\n",
            "44\n",
            "45\n",
            "46\n",
            "47\n",
            "48\n",
            "49\n",
            "50\n"
          ]
        }
      ]
    },
    {
      "cell_type": "markdown",
      "source": [
        "### Activity 10\n",
        "Write a program to print 30 to 1 numbers using for loop"
      ],
      "metadata": {
        "id": "5OSkBIFSXr7h"
      }
    },
    {
      "cell_type": "code",
      "source": [
        "# You code attempt here.\n",
        "\n",
        "for i in range(30, 0, -1):\n",
        "   print(i)"
      ],
      "metadata": {
        "id": "8U7a1jKwX3HZ",
        "colab": {
          "base_uri": "https://localhost:8080/"
        },
        "outputId": "6821befe-66bf-46bf-b2a2-1495656da1bc"
      },
      "execution_count": 23,
      "outputs": [
        {
          "output_type": "stream",
          "name": "stdout",
          "text": [
            "30\n",
            "29\n",
            "28\n",
            "27\n",
            "26\n",
            "25\n",
            "24\n",
            "23\n",
            "22\n",
            "21\n",
            "20\n",
            "19\n",
            "18\n",
            "17\n",
            "16\n",
            "15\n",
            "14\n",
            "13\n",
            "12\n",
            "11\n",
            "10\n",
            "9\n",
            "8\n",
            "7\n",
            "6\n",
            "5\n",
            "4\n",
            "3\n",
            "2\n",
            "1\n"
          ]
        }
      ]
    },
    {
      "cell_type": "markdown",
      "source": [
        "### Activity 11\n",
        "Write a for loop to produce the following output:<br>\n",
        " ![Capture.PNG](data:image/png;base64,iVBORw0KGgoAAAANSUhEUgAAAFwAAACDCAYAAAAAh3yiAAAAAXNSR0IArs4c6QAAAARnQU1BAACxjwv8YQUAAAAJcEhZcwAADsMAAA7DAcdvqGQAAANISURBVHhe7ZqBjeIwEEXpZYvZWiiFSraQrYNaOH3u/mlksobTZT4JvCdZjs3grF8cs9L4cIEoCA+D8DAID4PwMAgPg/AwCA+D8DCtwj8/Py/H4/FPC0SL8O/v72tdhbvv3VlduAQfDodrrXI6na7i1afrd6dlhZ/P56vgWuA3CA/DlhKmZel9fX1da340b2l91/m38BY21zAID4PwMAgPg/AwCA+D8DAID4PwMAgPg/AwCA+D8DAID4PwMAgPg/AwCA/TKvzRFJtyoO+S2W+Z5aMnr9w3Cn/lhPPqwiX4kWMSkqo+FV1/fHz8Fa/rV6Vlhf/LQSA/DBcfsXhVEB6GLSVMywr3Kr33o+k4izZLsa9Ci3BThc8Yhb8y7zHLDYHwMAgPg/AwCA+D8DAID4PwMAgPg/AwCA+D8DAID4PwMAgPg/AwCA/TKrwj46M4p+b2SItw5yTv5TTddy+nWdtV+NKYW2d14RIsKapV1sjaq61+fa7r8bt7omWFd5xL8cNw0ff2CMLDsKWEaVnhXqUSLeliSYzjLNqMsWrrrREWL/YmW7QIN1X4jFH4jCp8j7QKh1sQHgbhYRAeBuFhEB4G4WEQHgbhYRAeBuFhEB4G4WEQHgbhYRAeBuFhEB6mVfgzU2y67xYz+y3Cndy9l0R23yh8jK3tKnw2ZhW+FPcsVheuiUqKapXkMQmNrz7dT9f+G9Snegu0rPBnHwSqcSo+YrEFEB6GLSVMywr3KtXEPdEqxjjOos0Yq/ajJ6/8me7rt2Ap7lm0CDdV+IxR+IwqfEYVviVahcMtCA+D8DAID4PwMAgPg/AwCA+D8DAID4PwMAgPg/AwCA+D8DAID4PwMK3C95DxUfpNY6YSzS3CnUOswpfyiu4bhY+xtV2Fz8aswmdxqqvwpdg1WV24JqoJqFbZYta+HuPwWHXMTlpGrxO6Nwk/DJeftgs/DBev3iVqnMpP24UfhktdEF0gvMTtUnh9hVU0CUutExq3BbaU/8CrVBP3RKsY4ziLNmOs2l6livP3ZmPqvn4LZnH6TGN6/KXYNWl9nFX4jFH4jCp8RhU+YxTeTe/7AzcgPAzCwyA8DMLDIDwMwsMgPAzCwyA8DMLDIDzK5fILmOYlnIQo74gAAAAASUVORK5CYII=)\n"
      ],
      "metadata": {
        "id": "AlKT1HZQX6cw"
      }
    },
    {
      "cell_type": "code",
      "source": [
        "# You code attempt here.\n",
        "\n",
        "for i in range(0, 5):\n",
        "\n",
        "  for j in range(0, i+1):\n",
        "\n",
        "     print(\"* \",end=\"\")\n",
        "\n",
        "  print()\n",
        "\n",
        "\n",
        "\n"
      ],
      "metadata": {
        "id": "mfzvVznOY3vE",
        "colab": {
          "base_uri": "https://localhost:8080/"
        },
        "outputId": "39be993e-c7a0-4f5a-80c5-07f2cb23571b"
      },
      "execution_count": 31,
      "outputs": [
        {
          "output_type": "stream",
          "name": "stdout",
          "text": [
            "* \n",
            "* * \n",
            "* * * \n",
            "* * * * \n",
            "* * * * * \n"
          ]
        }
      ]
    },
    {
      "cell_type": "markdown",
      "source": [
        "### Activity 12\n",
        "Write a while loop to produce the following output:<br>\n",
        "![Capture2.PNG](data:image/png;base64,iVBORw0KGgoAAAANSUhEUgAAAG0AAACDCAYAAACHtpWkAAAAAXNSR0IArs4c6QAAAARnQU1BAACxjwv8YQUAAAAJcEhZcwAADsMAAA7DAcdvqGQAAANlSURBVHhe7dqBTeNAFEVReqEYakkpVEIh1EEt2X3AQ18je+xI+cYv3CNZSbwTJ5rLeJGYpyviEC0Q0QIRLRDRAhEt0CHRXl5erpfL5fvVure3t+vT076vpHEav0Wfq8/f8v7+/nnNj4+P7zPn1RpNEyE1ms9VPjdGG8fW1zXa7Jo12mycHmu0pbFn0RZNk6VJ0KOO19fXz8nTOT03T5YOPX9+fv6Jp+eVXuu8/l3Px/earq9z+jw993fQOT2aAtX310cdZ9X6zeqkbE2Eg/pYu/U5qA+voiV1nI61W5+D+qg/VGdEtP+I9q3ejnRoIhymTsp4i+P2uK31m3m1aPI8WXVyzeMcy8axeu3VonF+3+ya+lyvxtk4/Zuu6esvjT2LQ36carSZMdpMjTZTo82M0c7svPcArCJaIKIFIlogogUiWiCiBSJaIKIFIlogogUiWiCiBSJaIKIFIlogogUiWqBDoiVsN0jSGs2bY2q0pQ0zPjdGG8fW1zXa7Jo12tK4RG3RNFmaWD3qOOMWulStK63uK/SxxkF9rN36HNSHV9GSOk5Hwk6rPYgWiNtjoNaV5tWiyfNk1ck1j3MsG8fqtVeLxvl9s2vqc70al8Ylao1mNdrMGG2mRpup0R7FIdFwX0QLRLRARAtEtEBEC0S0QEQLRLRARAtEtEBEC0S0QEQLRLRARAtEtECHRPvNv1w/otZo3pOxtUfE58Zo49j6ukZbuuYja4umSJpYPeo4cjfWo2tdab+97/FRES0Qt8dArSvNq0WxFE6WJtfjHMvGsXq9d7PqI2uNZjXazBhtpkb7aw6JhvsiWiCiBSJaIKIFIlogogUiWiCiBSJaIKIFIlogogUiWiCiBSJaIKIFIlqgQ6J1bDf4y1pnyBtutjb2+NzWxh58aYumSAqgRx332EKHL60rrWOzKogWidtjoNaV5tWy9YuIxzmWLY1FczSr0WbGaFjGDAUiWiCiBSJaIKIFIlogogUiWiCiBSJaIKIFIlogogUiWiCiBSJaIKIFOiTa3r9cY5/WaN7jsbVHBLdpi6ZI2u+hRx1ru7Fwu9aVdsu+R+xHtEDcHgO1/ujv3ayK2xxyv+JX/vviP5lARAtEtEBEC0S0QEQLRLRARAtEtEBEC0S0QEQLRLRARAtEtDjX6z8039DOgVllCQAAAABJRU5ErkJggg==)\n"
      ],
      "metadata": {
        "id": "Fbm1oBdXY658"
      }
    },
    {
      "cell_type": "code",
      "source": [
        "# You code attempt here.\n",
        "\n",
        "n=5\n",
        "i = 1\n",
        "j = 5\n",
        "\n",
        "while(i<=n):\n",
        "    j = n\n",
        "\n",
        "    while(j>=i):\n",
        "\n",
        "        print(\"* \",end=\"\")\n",
        "        j-=1\n",
        "# printing next line for each row\n",
        "    print()\n",
        "    i+=1"
      ],
      "metadata": {
        "id": "tZOXw6ERY540",
        "colab": {
          "base_uri": "https://localhost:8080/"
        },
        "outputId": "3d4fac60-9d54-4898-bc9b-70c4f1e8396b"
      },
      "execution_count": 41,
      "outputs": [
        {
          "output_type": "stream",
          "name": "stdout",
          "text": [
            "* * * * * \n",
            "* * * * \n",
            "* * * \n",
            "* * \n",
            "* \n"
          ]
        }
      ]
    },
    {
      "cell_type": "markdown",
      "metadata": {
        "id": "5DSBuhezSP0_"
      },
      "source": [
        "### Activity 13\n",
        "<br>\n",
        "In the cell below I want you to create a function that takes a list of integers and finds the integer which appears an odd number of times.\n",
        "\n",
        "For example, ```[1, 1, 2, -2, 5, 2, 4, 4, -1, -2, 5]``` should return ```-1```.\n",
        "Whilst ```[20, 1, 1, 2, 2, 3, 3, 5, 5, 4, 20, 4, 5]``` should return ```5``` and ```[10]``` would return ```10```.\n",
        "\n",
        "\n",
        "<br>\n"
      ]
    },
    {
      "cell_type": "code",
      "metadata": {
        "id": "CN6aPCEVSP0_",
        "colab": {
          "base_uri": "https://localhost:8080/"
        },
        "outputId": "4bffc3c9-c54e-432d-8b7b-12a3fa1d14a2"
      },
      "source": [
        "# You code attempt here.\n",
        "\n",
        "def find_odd(input):\n",
        "  for i in set(input):\n",
        "    if input.count(i) % 2 == 1:\n",
        "      return i\n",
        "\n",
        "print(find_odd([4, 4, 7, 7, 9 , 12, 12]))\n",
        "print(find_odd([2, 1, 2, 3 , 3]))\n",
        "print(find_odd([1]))\n"
      ],
      "execution_count": 42,
      "outputs": [
        {
          "output_type": "stream",
          "name": "stdout",
          "text": [
            "9\n",
            "1\n",
            "1\n"
          ]
        }
      ]
    },
    {
      "cell_type": "markdown",
      "metadata": {
        "id": "lbj0SZB6SP0_"
      },
      "source": [
        "A solution can be found below...\n",
        "\n",
        "<br>\n",
        "...\n",
        "<br>\n",
        "...\n",
        "<br>\n",
        "...\n",
        "<br>\n",
        "...\n",
        "<br>\n",
        "...\n",
        "<br>\n",
        "...\n",
        "<br>\n",
        "...\n",
        "<br>\n",
        "...\n",
        "\n",
        "Solution..."
      ]
    },
    {
      "cell_type": "code",
      "metadata": {
        "id": "V8yJguD7SP1A"
      },
      "source": [
        "def find_odd(input):\n",
        "  for i in set(input):\n",
        "    if input.count(i) % 2 == 1:\n",
        "      return i\n",
        "\n",
        "print(find_odd([4, 4, 7, 7, 9 , 12, 12]))\n",
        "print(find_odd([2, 1, 2, 3 , 3]))\n",
        "print(find_odd([1]))"
      ],
      "execution_count": null,
      "outputs": []
    },
    {
      "cell_type": "markdown",
      "metadata": {
        "id": "C2os6a-d1bfT"
      },
      "source": [
        "### Activity 14\n",
        "\n",
        "<br>\n",
        "In the cell below I want you to create a function that computes the Hamming distance between two strings. The hamming distance is the number of characters that differ between the two strings.\n",
        "\n",
        "<br>\n",
        "\n",
        "So for example, ```\"abcbba\"``` and ```\"abcbda\"```. Here the Hamming Distance is one, as \"b\" vs. \"d\" is the only difference. Create a function that computes the hamming distance between any two strings, assuming they have the same length.\n",
        "\n"
      ]
    },
    {
      "cell_type": "code",
      "metadata": {
        "id": "qDTrwvbE1bfU"
      },
      "source": [
        "# You code attempt here.\n",
        "\n",
        "def hamming_distance(txt1, txt2):\n",
        "\tcount = 0\n",
        "\tfor i in range (len(txt1)):\n",
        "\t\tif (txt1[i]!=txt2[i]):\n",
        "\t\t\tcount+=1\n",
        "\treturn count\n",
        "\n",
        "print(hamming_distance(\"robby\",\"bobby\"))\n",
        "print(hamming_distance(\"robbyrobby\", \"Bobbybobby\"))\n",
        "print(hamming_distance(\"abcd\",\"efgh\"))"
      ],
      "execution_count": null,
      "outputs": []
    },
    {
      "cell_type": "markdown",
      "metadata": {
        "id": "I4PaJsut1bfY"
      },
      "source": [
        "A solution can be found below...\n",
        "\n",
        "...\n",
        "<br>\n",
        "...\n",
        "<br>\n",
        "...\n",
        "<br>\n",
        "...\n",
        "<br>\n",
        "...\n",
        "<br>\n",
        "...\n",
        "<br>\n",
        "...\n",
        "<br>\n",
        "...\n",
        "<br>\n",
        "...\n",
        "<br>\n",
        "Solution..."
      ]
    },
    {
      "cell_type": "code",
      "metadata": {
        "id": "oQteFTx11bfY"
      },
      "source": [
        "def hamming_distance(txt1, txt2):\n",
        "\tcount = 0\n",
        "\tfor i in range (len(txt1)):\n",
        "\t\tif (txt1[i]!=txt2[i]):\n",
        "\t\t\tcount+=1\n",
        "\treturn count\n",
        "\n",
        "print(hamming_distance(\"robby\",\"bobby\"))\n",
        "print(hamming_distance(\"robbyrobby\", \"Bobbybobby\"))\n",
        "print(hamming_distance(\"abcd\",\"efgh\"))"
      ],
      "execution_count": null,
      "outputs": []
    },
    {
      "cell_type": "markdown",
      "metadata": {
        "id": "Ft2wRQOE3Z5e"
      },
      "source": [
        "### Activity 15\n",
        "<br>\n",
        "In the cell below I want you to create a function that returns ```True``` if a line of music represented as a String contains any syncopation. Syncopation means an emphasis on a weak beat of a bar of music; most commonly, beats 2 and 4 (and all other even-numbered beats if applicable).\n",
        "\n",
        "<br>\n",
        "If ```s``` is a line of music, represented as a string, then hash symbols ```#``` represent emphasized beats. Create a function that returns ```True``` if the line of music contains any syncopation.\n",
        "\n",
        "**Examples**\n",
        "\n",
        "* The string \".#.#.#.#\" has syncopation, as there are hash signs in the second, fourth, sixth and eighth positions of the string.\n",
        "\n",
        "* The string ````\"#.#...#.\"```` has no syncopation, as there are no hash signs in the second, fourth, sixth or eighth positions of the string.\n",
        "\n",
        "<br>\n",
        "\n",
        "In our input strings, all other unemphasized beats will be represented as a dot.\n",
        "\n"
      ]
    },
    {
      "cell_type": "code",
      "metadata": {
        "id": "_SBck-ks3Z5g"
      },
      "source": [
        "# You code attempt here.\n",
        "\n",
        "def has_syncopation(s):\n",
        "\tfor i in range(1, len(s), 2):\n",
        "\t\tif s[i] == '#':\n",
        "\t\t\treturn True\n",
        "\treturn False\n",
        "\n",
        "print(has_syncopation(\".#.#.#.#\"))\n",
        "print(has_syncopation(\"#.#...#.\"))"
      ],
      "execution_count": null,
      "outputs": []
    },
    {
      "cell_type": "markdown",
      "metadata": {
        "id": "p56pU6OU3Z5j"
      },
      "source": [
        "A solution can be found below...\n",
        "\n",
        "<br>\n",
        "...\n",
        "<br>\n",
        "...\n",
        "<br>\n",
        "...\n",
        "<br>\n",
        "...\n",
        "<br>\n",
        "...\n",
        "<br>\n",
        "...\n",
        "<br>\n",
        "...\n",
        "<br>\n",
        "...\n",
        "<br>\n",
        "...\n",
        "<br>\n",
        "...\n",
        "<br>\n",
        "...\n",
        "<br>\n",
        "Solution..."
      ]
    },
    {
      "cell_type": "code",
      "metadata": {
        "id": "hxAsjkHX3Z5j"
      },
      "source": [
        "def has_syncopation(s):\n",
        "\tfor i in range(1, len(s), 2):\n",
        "\t\tif s[i] == '#':\n",
        "\t\t\treturn True\n",
        "\treturn False\n",
        "\n",
        "print(has_syncopation(\".#.#.#.#\"))\n",
        "print(has_syncopation(\"#.#...#.\"))\n"
      ],
      "execution_count": null,
      "outputs": []
    }
  ]
}