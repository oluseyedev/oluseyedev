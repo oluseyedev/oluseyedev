{
  "nbformat": 4,
  "nbformat_minor": 0,
  "metadata": {
    "colab": {
      "provenance": [],
      "authorship_tag": "ABX9TyOpFvHDq9cgQsWfUICmXmkN",
      "include_colab_link": true
    },
    "kernelspec": {
      "name": "python3",
      "display_name": "Python 3"
    },
    "language_info": {
      "name": "python"
    }
  },
  "cells": [
    {
      "cell_type": "markdown",
      "metadata": {
        "id": "view-in-github",
        "colab_type": "text"
      },
      "source": [
        "<a href=\"https://colab.research.google.com/github/oluseyedev/oluseyedev/blob/main/DAT7015_2308483.ipynb\" target=\"_parent\"><img src=\"https://colab.research.google.com/assets/colab-badge.svg\" alt=\"Open In Colab\"/></a>"
      ]
    },
    {
      "cell_type": "code",
      "execution_count": 1,
      "metadata": {
        "colab": {
          "base_uri": "https://localhost:8080/"
        },
        "id": "-1oTmYV16yZt",
        "outputId": "b34ccae4-81f2-4c44-fb6e-25fe37d4d30f"
      },
      "outputs": [
        {
          "output_type": "stream",
          "name": "stdout",
          "text": [
            "Mounted at /content/drive/\n"
          ]
        }
      ],
      "source": [
        "# mount google drive to save files\n",
        "from google.colab import drive\n",
        "drive.mount('/content/drive/')\n"
      ]
    },
    {
      "cell_type": "code",
      "source": [
        "!pip install -q keras"
      ],
      "metadata": {
        "id": "ElOMWAd57Jhb"
      },
      "execution_count": 2,
      "outputs": []
    },
    {
      "cell_type": "code",
      "source": [
        "import keras"
      ],
      "metadata": {
        "id": "3JGP0GP47ndq"
      },
      "execution_count": 3,
      "outputs": []
    },
    {
      "cell_type": "code",
      "source": [
        "#   jdk, spark installation\n",
        "!apt-get install openjdk-8-jdk-headless -qq > /dev/null\n",
        "!wget -q http://archive.apache.org/dist/spark/spark-3.1.1/spark-3.1.1-bin-hadoop3.2.tgz\n",
        "!tar xf spark-3.1.1-bin-hadoop3.2.tgz\n",
        "!pip install -q findspark"
      ],
      "metadata": {
        "id": "KHJyrdUT7oLs"
      },
      "execution_count": 4,
      "outputs": []
    },
    {
      "cell_type": "code",
      "source": [
        "import os\n",
        "os.environ[\"JAVA_HOME\"] = \"/usr/lib/jvm/java-8-openjdk-amd64\"\n",
        "os.environ[\"SPARK_HOME\"] = \"/content/spark-3.1.1-bin-hadoop3.2\""
      ],
      "metadata": {
        "id": "FJJrUpb18Nxg"
      },
      "execution_count": 5,
      "outputs": []
    },
    {
      "cell_type": "code",
      "source": [
        "#Import Libraries and property used to format output tables better\n",
        "import findspark\n",
        "findspark.init()\n",
        "from pyspark.sql import SparkSession\n",
        "spark = SparkSession.builder.master(\"local[*]\").getOrCreate()\n",
        "spark.conf.set(\"spark.sql.repl.eagerEval.enabled\", True)\n",
        "spark"
      ],
      "metadata": {
        "colab": {
          "base_uri": "https://localhost:8080/",
          "height": 219
        },
        "id": "6Gnv4Y3N8VA1",
        "outputId": "9ef270f7-20fa-4dbf-cb1d-42f05b10ee49"
      },
      "execution_count": 6,
      "outputs": [
        {
          "output_type": "execute_result",
          "data": {
            "text/plain": [
              "<pyspark.sql.session.SparkSession at 0x7e5d7e908940>"
            ],
            "text/html": [
              "\n",
              "            <div>\n",
              "                <p><b>SparkSession - in-memory</b></p>\n",
              "                \n",
              "        <div>\n",
              "            <p><b>SparkContext</b></p>\n",
              "\n",
              "            <p><a href=\"http://3199bc6ac799:4040\">Spark UI</a></p>\n",
              "\n",
              "            <dl>\n",
              "              <dt>Version</dt>\n",
              "                <dd><code>v3.1.1</code></dd>\n",
              "              <dt>Master</dt>\n",
              "                <dd><code>local[*]</code></dd>\n",
              "              <dt>AppName</dt>\n",
              "                <dd><code>pyspark-shell</code></dd>\n",
              "            </dl>\n",
              "        </div>\n",
              "        \n",
              "            </div>\n",
              "        "
            ]
          },
          "metadata": {},
          "execution_count": 6
        }
      ]
    },
    {
      "cell_type": "code",
      "source": [
        "!pip install pandas scikit-learn"
      ],
      "metadata": {
        "colab": {
          "base_uri": "https://localhost:8080/"
        },
        "id": "sRAsWVQ98reC",
        "outputId": "fabf3ec7-3985-44b2-b2de-45bea61ee9d6"
      },
      "execution_count": 7,
      "outputs": [
        {
          "output_type": "stream",
          "name": "stdout",
          "text": [
            "Requirement already satisfied: pandas in /usr/local/lib/python3.10/dist-packages (1.5.3)\n",
            "Requirement already satisfied: scikit-learn in /usr/local/lib/python3.10/dist-packages (1.2.2)\n",
            "Requirement already satisfied: python-dateutil>=2.8.1 in /usr/local/lib/python3.10/dist-packages (from pandas) (2.8.2)\n",
            "Requirement already satisfied: pytz>=2020.1 in /usr/local/lib/python3.10/dist-packages (from pandas) (2023.3.post1)\n",
            "Requirement already satisfied: numpy>=1.21.0 in /usr/local/lib/python3.10/dist-packages (from pandas) (1.23.5)\n",
            "Requirement already satisfied: scipy>=1.3.2 in /usr/local/lib/python3.10/dist-packages (from scikit-learn) (1.11.4)\n",
            "Requirement already satisfied: joblib>=1.1.1 in /usr/local/lib/python3.10/dist-packages (from scikit-learn) (1.3.2)\n",
            "Requirement already satisfied: threadpoolctl>=2.0.0 in /usr/local/lib/python3.10/dist-packages (from scikit-learn) (3.2.0)\n",
            "Requirement already satisfied: six>=1.5 in /usr/local/lib/python3.10/dist-packages (from python-dateutil>=2.8.1->pandas) (1.16.0)\n"
          ]
        }
      ]
    },
    {
      "cell_type": "code",
      "source": [
        "#import other Libraries needed\n",
        "# import libraries\n",
        "!pip install matplotlib-venn\n",
        "from sklearn.impute import SimpleImputer\n",
        "from pyspark.sql.functions import *\n",
        "from pyspark.sql import SparkSession\n",
        "import pandas as pd\n",
        "import numpy as np\n",
        "import seaborn as sns\n",
        "from matplotlib import style\n",
        "style.use('ggplot')\n",
        "from pyspark.ml.stat import Correlation\n",
        "from sklearn.ensemble import RandomForestClassifier\n",
        "from sklearn.tree import DecisionTreeClassifier\n",
        "from sklearn.metrics import *\n",
        "from sklearn.model_selection import train_test_split\n",
        "import pyspark\n",
        "from pyspark.sql.types import *"
      ],
      "metadata": {
        "colab": {
          "base_uri": "https://localhost:8080/"
        },
        "id": "wukuw7CD8xSL",
        "outputId": "48c30441-45c1-433d-cb38-da645cdf7c30"
      },
      "execution_count": 8,
      "outputs": [
        {
          "output_type": "stream",
          "name": "stdout",
          "text": [
            "Requirement already satisfied: matplotlib-venn in /usr/local/lib/python3.10/dist-packages (0.11.9)\n",
            "Requirement already satisfied: matplotlib in /usr/local/lib/python3.10/dist-packages (from matplotlib-venn) (3.7.1)\n",
            "Requirement already satisfied: numpy in /usr/local/lib/python3.10/dist-packages (from matplotlib-venn) (1.23.5)\n",
            "Requirement already satisfied: scipy in /usr/local/lib/python3.10/dist-packages (from matplotlib-venn) (1.11.4)\n",
            "Requirement already satisfied: contourpy>=1.0.1 in /usr/local/lib/python3.10/dist-packages (from matplotlib->matplotlib-venn) (1.2.0)\n",
            "Requirement already satisfied: cycler>=0.10 in /usr/local/lib/python3.10/dist-packages (from matplotlib->matplotlib-venn) (0.12.1)\n",
            "Requirement already satisfied: fonttools>=4.22.0 in /usr/local/lib/python3.10/dist-packages (from matplotlib->matplotlib-venn) (4.47.0)\n",
            "Requirement already satisfied: kiwisolver>=1.0.1 in /usr/local/lib/python3.10/dist-packages (from matplotlib->matplotlib-venn) (1.4.5)\n",
            "Requirement already satisfied: packaging>=20.0 in /usr/local/lib/python3.10/dist-packages (from matplotlib->matplotlib-venn) (23.2)\n",
            "Requirement already satisfied: pillow>=6.2.0 in /usr/local/lib/python3.10/dist-packages (from matplotlib->matplotlib-venn) (9.4.0)\n",
            "Requirement already satisfied: pyparsing>=2.3.1 in /usr/local/lib/python3.10/dist-packages (from matplotlib->matplotlib-venn) (3.1.1)\n",
            "Requirement already satisfied: python-dateutil>=2.7 in /usr/local/lib/python3.10/dist-packages (from matplotlib->matplotlib-venn) (2.8.2)\n",
            "Requirement already satisfied: six>=1.5 in /usr/local/lib/python3.10/dist-packages (from python-dateutil>=2.7->matplotlib->matplotlib-venn) (1.16.0)\n"
          ]
        }
      ]
    },
    {
      "cell_type": "code",
      "source": [
        "# Excel input and output installation\n",
        "\n",
        "!pip install pyexcel pyexcel-ods pyexcel-ods3 pyexcel-odsr pyexcel-io"
      ],
      "metadata": {
        "colab": {
          "base_uri": "https://localhost:8080/"
        },
        "id": "ETW9qV3i9C5m",
        "outputId": "e31c2d31-9ecc-4c6c-8f46-d00280b78cd0"
      },
      "execution_count": 9,
      "outputs": [
        {
          "output_type": "stream",
          "name": "stdout",
          "text": [
            "Collecting pyexcel\n",
            "  Downloading pyexcel-0.7.0-py2.py3-none-any.whl (87 kB)\n",
            "\u001b[2K     \u001b[90m━━━━━━━━━━━━━━━━━━━━━━━━━━━━━━━━━━━━━━━━\u001b[0m \u001b[32m87.7/87.7 kB\u001b[0m \u001b[31m1.3 MB/s\u001b[0m eta \u001b[36m0:00:00\u001b[0m\n",
            "\u001b[?25hCollecting pyexcel-ods\n",
            "  Downloading pyexcel_ods-0.6.0-py2.py3-none-any.whl (10 kB)\n",
            "Collecting pyexcel-ods3\n",
            "  Downloading pyexcel_ods3-0.6.1-py3-none-any.whl (9.8 kB)\n",
            "Collecting pyexcel-odsr\n",
            "  Downloading pyexcel_odsr-0.6.0-py2.py3-none-any.whl (11 kB)\n",
            "Collecting pyexcel-io\n",
            "  Downloading pyexcel_io-0.6.6-py2.py3-none-any.whl (44 kB)\n",
            "\u001b[2K     \u001b[90m━━━━━━━━━━━━━━━━━━━━━━━━━━━━━━━━━━━━━━━━\u001b[0m \u001b[32m44.2/44.2 kB\u001b[0m \u001b[31m5.5 MB/s\u001b[0m eta \u001b[36m0:00:00\u001b[0m\n",
            "\u001b[?25hRequirement already satisfied: chardet in /usr/local/lib/python3.10/dist-packages (from pyexcel) (5.2.0)\n",
            "Collecting lml>=0.0.4 (from pyexcel)\n",
            "  Downloading lml-0.1.0-py2.py3-none-any.whl (10 kB)\n",
            "Collecting texttable>=0.8.2 (from pyexcel)\n",
            "  Downloading texttable-1.7.0-py2.py3-none-any.whl (10 kB)\n",
            "Collecting odfpy>=1.3.5 (from pyexcel-ods)\n",
            "  Downloading odfpy-1.4.1.tar.gz (717 kB)\n",
            "\u001b[2K     \u001b[90m━━━━━━━━━━━━━━━━━━━━━━━━━━━━━━━━━━━━━━━━\u001b[0m \u001b[32m717.0/717.0 kB\u001b[0m \u001b[31m24.3 MB/s\u001b[0m eta \u001b[36m0:00:00\u001b[0m\n",
            "\u001b[?25h  Preparing metadata (setup.py) ... \u001b[?25l\u001b[?25hdone\n",
            "Requirement already satisfied: lxml in /usr/local/lib/python3.10/dist-packages (from pyexcel-ods3) (4.9.4)\n",
            "Collecting pyexcel-ezodf>=0.3.3 (from pyexcel-ods3)\n",
            "  Downloading pyexcel_ezodf-0.3.4-py2.py3-none-any.whl (53 kB)\n",
            "\u001b[2K     \u001b[90m━━━━━━━━━━━━━━━━━━━━━━━━━━━━━━━━━━━━━━━━\u001b[0m \u001b[32m53.9/53.9 kB\u001b[0m \u001b[31m7.0 MB/s\u001b[0m eta \u001b[36m0:00:00\u001b[0m\n",
            "\u001b[?25hRequirement already satisfied: defusedxml in /usr/local/lib/python3.10/dist-packages (from odfpy>=1.3.5->pyexcel-ods) (0.7.1)\n",
            "Building wheels for collected packages: odfpy\n",
            "  Building wheel for odfpy (setup.py) ... \u001b[?25l\u001b[?25hdone\n",
            "  Created wheel for odfpy: filename=odfpy-1.4.1-py2.py3-none-any.whl size=160673 sha256=00cb50e1f7fe9524266d8b99b0491b26ee0d69d40df85bf9e9110f56cbda6bc4\n",
            "  Stored in directory: /root/.cache/pip/wheels/c8/2e/95/90d94fe33903786937f3b8c33dd88807f792359c6424b40469\n",
            "Successfully built odfpy\n",
            "Installing collected packages: texttable, lml, pyexcel-io, pyexcel-ezodf, odfpy, pyexcel-odsr, pyexcel-ods3, pyexcel-ods, pyexcel\n",
            "Successfully installed lml-0.1.0 odfpy-1.4.1 pyexcel-0.7.0 pyexcel-ezodf-0.3.4 pyexcel-io-0.6.6 pyexcel-ods-0.6.0 pyexcel-ods3-0.6.1 pyexcel-odsr-0.6.0 texttable-1.7.0\n"
          ]
        }
      ]
    },
    {
      "cell_type": "code",
      "source": [
        "# Create a Spark session\n",
        "spark = SparkSession.builder.appName('crime_analysis').getOrCreate()"
      ],
      "metadata": {
        "id": "n64AsPmo9UWV"
      },
      "execution_count": 10,
      "outputs": []
    },
    {
      "cell_type": "code",
      "source": [
        "# Load excel datasets into pandas dataframes\n",
        "ref = pd.read_excel('/content/drive/MyDrive/Colab Notebooks/Big Data Assignment2/Assignment2/excel file/reccrime-offence-ref.xlsx')\n",
        "tables = pd.read_excel('/content/drive/MyDrive/Colab Notebooks/Big Data Assignment2/Assignment2/excel file/prc-pfa-mar2013-onwards-tables.xlsx', sheet_name=None)"
      ],
      "metadata": {
        "id": "gtyrIHe39a96"
      },
      "execution_count": 11,
      "outputs": []
    },
    {
      "cell_type": "code",
      "source": [
        "# Create Dataframe from 6 years table selected\n",
        "yr_2018_19 = tables['2018-19']\n",
        "yr_2019_20 = tables['2019-20']\n",
        "yr_2020_21 = tables['2020-21']\n",
        "yr_2021_22 = tables['2021-22']\n",
        "yr_2022_23 = tables['2022-23']\n",
        "yr_2023_24 = tables['2023-24']"
      ],
      "metadata": {
        "id": "p_JjBtwj9jqQ"
      },
      "execution_count": 12,
      "outputs": []
    },
    {
      "cell_type": "code",
      "source": [
        "# create a schema for the PySpark DataFrame\n",
        "schema = StructType([\n",
        "StructField(\"Offence Code\", StringType(), True),\n",
        "StructField(\"Offence description\", StringType(), True),\n",
        "StructField(\"Old PRC offence group\", StringType(), True),\n",
        "StructField(\"Old offence sub-group\", StringType(), True),\n",
        "StructField(\"New ONS offence group\", StringType(), True),\n",
        "StructField(\"New ONS sub-offence group\", StringType(), True),\n",
        "])\n"
      ],
      "metadata": {
        "id": "1suHLUGW94Hz"
      },
      "execution_count": 13,
      "outputs": []
    },
    {
      "cell_type": "code",
      "source": [
        "offence_ref = ref"
      ],
      "metadata": {
        "id": "ILLE3gnJ9-hC"
      },
      "execution_count": 14,
      "outputs": []
    },
    {
      "cell_type": "code",
      "source": [
        "# create a PySpark DataFrame from the pandas DataFrame using the schema\n",
        "ref = spark.createDataFrame(ref, schema=schema)\n",
        "\n",
        "\n",
        "# show the content of the ref DataFrame\n",
        "ref.show()"
      ],
      "metadata": {
        "colab": {
          "base_uri": "https://localhost:8080/"
        },
        "id": "Axn5JZ_p-MWE",
        "outputId": "7575a514-c052-419a-85f6-ee0ef13355ce"
      },
      "execution_count": 15,
      "outputs": [
        {
          "output_type": "stream",
          "name": "stdout",
          "text": [
            "+--------------+--------------------+---------------------+---------------------+---------------------+-------------------------+\n",
            "|  Offence Code| Offence description|Old PRC offence group|Old offence sub-group|New ONS offence group|New ONS sub-offence group|\n",
            "+--------------+--------------------+---------------------+---------------------+---------------------+-------------------------+\n",
            "|             1|              Murder| Violence against ...| Violence against ...| Violence against ...|                 Homicide|\n",
            "|     1/4.1/4.2|            Homicide| Violence against ...| Violence against ...| Violence against ...|                 Homicide|\n",
            "|1/4.1/4.2/4.10|            Homicide| Violence against ...| Violence against ...| Violence against ...|                 Homicide|\n",
            "|           104|Assault without i...| Violence against ...| Violence against ...| Violence against ...|     Violence without ...|\n",
            "|          105A|Assault without i...| Violence against ...| Violence against ...| Violence against ...|     Violence without ...|\n",
            "|          105B|Racially or relig...| Violence against ...| Violence against ...| Violence against ...|     Violence without ...|\n",
            "|          106*|      Modern Slavery|                  NaN|                  NaN| Violence against ...|     Violence without ...|\n",
            "|           10A|Possession of fir...| Violence against ...| Violence against ...| Possession of wea...|     Possession of wea...|\n",
            "|           10B|Possession of fir...| Other miscellaneo...|                  NaN| Possession of wea...|     Possession of wea...|\n",
            "|           10C|Possession of oth...| Violence against ...| Violence against ...| Possession of wea...|     Possession of wea...|\n",
            "|           10D|Possession of art...| Violence against ...| Violence against ...| Possession of wea...|     Possession of wea...|\n",
            "|            11|Cruelty to and ne...| Violence against ...| Violence against ...| Violence against ...|     Violence without ...|\n",
            "|           11A|Cruelty to childr...| Violence against ...| Violence against ...| Violence against ...|     Violence without ...|\n",
            "|            12|Abandoning child ...| Violence against ...| Violence against ...| Violence against ...|     Violence without ...|\n",
            "|           126|Interfering with ...| Offences against ...|                  NaN|       Theft offences|         Vehicle offences|\n",
            "|            13|     Child abduction| Violence against ...| Violence against ...| Violence against ...|     Violence without ...|\n",
            "|           139|   Indecent exposure|      Sexual offences| Other sexual offe...|      Sexual offences|     Other sexual offe...|\n",
            "|            14|Procuring illegal...| Violence against ...| Violence against ...| Violence against ...|     Violence without ...|\n",
            "|            15|Concealing an inf...| Other miscellaneo...|                  NaN| Miscellaneous cri...|     Miscellaneous cri...|\n",
            "|            16|             Buggery|      Sexual offences| Other sexual offe...|      Sexual offences|     Other sexual offe...|\n",
            "+--------------+--------------------+---------------------+---------------------+---------------------+-------------------------+\n",
            "only showing top 20 rows\n",
            "\n"
          ]
        }
      ]
    },
    {
      "cell_type": "code",
      "source": [
        "# Convert table file  and offence_ref_file to pyspark dataframe\n",
        "df_2018_19 = spark.createDataFrame(yr_2018_19)\n",
        "df_2019_20 = spark.createDataFrame(yr_2019_20)\n",
        "df_2020_21 = spark.createDataFrame(yr_2020_21)\n",
        "df_2021_22 = spark.createDataFrame(yr_2021_22)\n",
        "df_2022_23 = spark.createDataFrame(yr_2022_23)\n",
        "df_2023_24 = spark.createDataFrame(yr_2023_24)"
      ],
      "metadata": {
        "colab": {
          "base_uri": "https://localhost:8080/"
        },
        "id": "YT7j2lm0-gZk",
        "outputId": "e50272c9-2b0c-46c2-bdaa-0f30624e4108"
      },
      "execution_count": 16,
      "outputs": [
        {
          "output_type": "stream",
          "name": "stderr",
          "text": [
            "/content/spark-3.1.1-bin-hadoop3.2/python/pyspark/sql/pandas/conversion.py:331: FutureWarning: iteritems is deprecated and will be removed in a future version. Use .items instead.\n",
            "  for column, series in pdf.iteritems():\n"
          ]
        }
      ]
    },
    {
      "cell_type": "code",
      "source": [
        "# Create temporary views of the dataframes\n",
        "df_2018_19.createOrReplaceTempView('df_2018_19')\n",
        "df_2019_20.createOrReplaceTempView('df_2019_20')\n",
        "df_2020_21.createOrReplaceTempView('df_2020_21')\n",
        "df_2021_22.createOrReplaceTempView('df_2021_22')\n",
        "df_2022_23.createOrReplaceTempView('df_2022_23')\n",
        "df_2023_24.createOrReplaceTempView('df_2023_24')"
      ],
      "metadata": {
        "id": "qoE6fDpX-pQ1"
      },
      "execution_count": 17,
      "outputs": []
    },
    {
      "cell_type": "code",
      "source": [
        "offence_ref.head()"
      ],
      "metadata": {
        "colab": {
          "base_uri": "https://localhost:8080/",
          "height": 310
        },
        "id": "WcpAUYTN-xma",
        "outputId": "84302572-c755-43a0-d4a3-d63eeb7e6fd8"
      },
      "execution_count": 18,
      "outputs": [
        {
          "output_type": "execute_result",
          "data": {
            "text/plain": [
              "     Offence Code                    Offence description  \\\n",
              "0               1                                 Murder   \n",
              "1       1/4.1/4.2                               Homicide   \n",
              "2  1/4.1/4.2/4.10                               Homicide   \n",
              "3             104  Assault without injury on a constable   \n",
              "4            105A                 Assault without injury   \n",
              "\n",
              "         Old PRC offence group                         Old offence sub-group  \\\n",
              "0  Violence against the person     Violence against the person - with injury   \n",
              "1  Violence against the person     Violence against the person - with injury   \n",
              "2  Violence against the person     Violence against the person - with injury   \n",
              "3  Violence against the person  Violence against the person - without injury   \n",
              "4  Violence against the person  Violence against the person - without injury   \n",
              "\n",
              "         New ONS offence group New ONS sub-offence group  \n",
              "0  Violence against the person                  Homicide  \n",
              "1  Violence against the person                  Homicide  \n",
              "2  Violence against the person                  Homicide  \n",
              "3  Violence against the person   Violence without injury  \n",
              "4  Violence against the person   Violence without injury  "
            ],
            "text/html": [
              "\n",
              "  <div id=\"df-7f5790ad-4c94-424c-9b76-c50679846e2f\" class=\"colab-df-container\">\n",
              "    <div>\n",
              "<style scoped>\n",
              "    .dataframe tbody tr th:only-of-type {\n",
              "        vertical-align: middle;\n",
              "    }\n",
              "\n",
              "    .dataframe tbody tr th {\n",
              "        vertical-align: top;\n",
              "    }\n",
              "\n",
              "    .dataframe thead th {\n",
              "        text-align: right;\n",
              "    }\n",
              "</style>\n",
              "<table border=\"1\" class=\"dataframe\">\n",
              "  <thead>\n",
              "    <tr style=\"text-align: right;\">\n",
              "      <th></th>\n",
              "      <th>Offence Code</th>\n",
              "      <th>Offence description</th>\n",
              "      <th>Old PRC offence group</th>\n",
              "      <th>Old offence sub-group</th>\n",
              "      <th>New ONS offence group</th>\n",
              "      <th>New ONS sub-offence group</th>\n",
              "    </tr>\n",
              "  </thead>\n",
              "  <tbody>\n",
              "    <tr>\n",
              "      <th>0</th>\n",
              "      <td>1</td>\n",
              "      <td>Murder</td>\n",
              "      <td>Violence against the person</td>\n",
              "      <td>Violence against the person - with injury</td>\n",
              "      <td>Violence against the person</td>\n",
              "      <td>Homicide</td>\n",
              "    </tr>\n",
              "    <tr>\n",
              "      <th>1</th>\n",
              "      <td>1/4.1/4.2</td>\n",
              "      <td>Homicide</td>\n",
              "      <td>Violence against the person</td>\n",
              "      <td>Violence against the person - with injury</td>\n",
              "      <td>Violence against the person</td>\n",
              "      <td>Homicide</td>\n",
              "    </tr>\n",
              "    <tr>\n",
              "      <th>2</th>\n",
              "      <td>1/4.1/4.2/4.10</td>\n",
              "      <td>Homicide</td>\n",
              "      <td>Violence against the person</td>\n",
              "      <td>Violence against the person - with injury</td>\n",
              "      <td>Violence against the person</td>\n",
              "      <td>Homicide</td>\n",
              "    </tr>\n",
              "    <tr>\n",
              "      <th>3</th>\n",
              "      <td>104</td>\n",
              "      <td>Assault without injury on a constable</td>\n",
              "      <td>Violence against the person</td>\n",
              "      <td>Violence against the person - without injury</td>\n",
              "      <td>Violence against the person</td>\n",
              "      <td>Violence without injury</td>\n",
              "    </tr>\n",
              "    <tr>\n",
              "      <th>4</th>\n",
              "      <td>105A</td>\n",
              "      <td>Assault without injury</td>\n",
              "      <td>Violence against the person</td>\n",
              "      <td>Violence against the person - without injury</td>\n",
              "      <td>Violence against the person</td>\n",
              "      <td>Violence without injury</td>\n",
              "    </tr>\n",
              "  </tbody>\n",
              "</table>\n",
              "</div>\n",
              "    <div class=\"colab-df-buttons\">\n",
              "\n",
              "  <div class=\"colab-df-container\">\n",
              "    <button class=\"colab-df-convert\" onclick=\"convertToInteractive('df-7f5790ad-4c94-424c-9b76-c50679846e2f')\"\n",
              "            title=\"Convert this dataframe to an interactive table.\"\n",
              "            style=\"display:none;\">\n",
              "\n",
              "  <svg xmlns=\"http://www.w3.org/2000/svg\" height=\"24px\" viewBox=\"0 -960 960 960\">\n",
              "    <path d=\"M120-120v-720h720v720H120Zm60-500h600v-160H180v160Zm220 220h160v-160H400v160Zm0 220h160v-160H400v160ZM180-400h160v-160H180v160Zm440 0h160v-160H620v160ZM180-180h160v-160H180v160Zm440 0h160v-160H620v160Z\"/>\n",
              "  </svg>\n",
              "    </button>\n",
              "\n",
              "  <style>\n",
              "    .colab-df-container {\n",
              "      display:flex;\n",
              "      gap: 12px;\n",
              "    }\n",
              "\n",
              "    .colab-df-convert {\n",
              "      background-color: #E8F0FE;\n",
              "      border: none;\n",
              "      border-radius: 50%;\n",
              "      cursor: pointer;\n",
              "      display: none;\n",
              "      fill: #1967D2;\n",
              "      height: 32px;\n",
              "      padding: 0 0 0 0;\n",
              "      width: 32px;\n",
              "    }\n",
              "\n",
              "    .colab-df-convert:hover {\n",
              "      background-color: #E2EBFA;\n",
              "      box-shadow: 0px 1px 2px rgba(60, 64, 67, 0.3), 0px 1px 3px 1px rgba(60, 64, 67, 0.15);\n",
              "      fill: #174EA6;\n",
              "    }\n",
              "\n",
              "    .colab-df-buttons div {\n",
              "      margin-bottom: 4px;\n",
              "    }\n",
              "\n",
              "    [theme=dark] .colab-df-convert {\n",
              "      background-color: #3B4455;\n",
              "      fill: #D2E3FC;\n",
              "    }\n",
              "\n",
              "    [theme=dark] .colab-df-convert:hover {\n",
              "      background-color: #434B5C;\n",
              "      box-shadow: 0px 1px 3px 1px rgba(0, 0, 0, 0.15);\n",
              "      filter: drop-shadow(0px 1px 2px rgba(0, 0, 0, 0.3));\n",
              "      fill: #FFFFFF;\n",
              "    }\n",
              "  </style>\n",
              "\n",
              "    <script>\n",
              "      const buttonEl =\n",
              "        document.querySelector('#df-7f5790ad-4c94-424c-9b76-c50679846e2f button.colab-df-convert');\n",
              "      buttonEl.style.display =\n",
              "        google.colab.kernel.accessAllowed ? 'block' : 'none';\n",
              "\n",
              "      async function convertToInteractive(key) {\n",
              "        const element = document.querySelector('#df-7f5790ad-4c94-424c-9b76-c50679846e2f');\n",
              "        const dataTable =\n",
              "          await google.colab.kernel.invokeFunction('convertToInteractive',\n",
              "                                                    [key], {});\n",
              "        if (!dataTable) return;\n",
              "\n",
              "        const docLinkHtml = 'Like what you see? Visit the ' +\n",
              "          '<a target=\"_blank\" href=https://colab.research.google.com/notebooks/data_table.ipynb>data table notebook</a>'\n",
              "          + ' to learn more about interactive tables.';\n",
              "        element.innerHTML = '';\n",
              "        dataTable['output_type'] = 'display_data';\n",
              "        await google.colab.output.renderOutput(dataTable, element);\n",
              "        const docLink = document.createElement('div');\n",
              "        docLink.innerHTML = docLinkHtml;\n",
              "        element.appendChild(docLink);\n",
              "      }\n",
              "    </script>\n",
              "  </div>\n",
              "\n",
              "\n",
              "<div id=\"df-e4909036-e26e-4696-baed-98ac4c0c0964\">\n",
              "  <button class=\"colab-df-quickchart\" onclick=\"quickchart('df-e4909036-e26e-4696-baed-98ac4c0c0964')\"\n",
              "            title=\"Suggest charts\"\n",
              "            style=\"display:none;\">\n",
              "\n",
              "<svg xmlns=\"http://www.w3.org/2000/svg\" height=\"24px\"viewBox=\"0 0 24 24\"\n",
              "     width=\"24px\">\n",
              "    <g>\n",
              "        <path d=\"M19 3H5c-1.1 0-2 .9-2 2v14c0 1.1.9 2 2 2h14c1.1 0 2-.9 2-2V5c0-1.1-.9-2-2-2zM9 17H7v-7h2v7zm4 0h-2V7h2v10zm4 0h-2v-4h2v4z\"/>\n",
              "    </g>\n",
              "</svg>\n",
              "  </button>\n",
              "\n",
              "<style>\n",
              "  .colab-df-quickchart {\n",
              "      --bg-color: #E8F0FE;\n",
              "      --fill-color: #1967D2;\n",
              "      --hover-bg-color: #E2EBFA;\n",
              "      --hover-fill-color: #174EA6;\n",
              "      --disabled-fill-color: #AAA;\n",
              "      --disabled-bg-color: #DDD;\n",
              "  }\n",
              "\n",
              "  [theme=dark] .colab-df-quickchart {\n",
              "      --bg-color: #3B4455;\n",
              "      --fill-color: #D2E3FC;\n",
              "      --hover-bg-color: #434B5C;\n",
              "      --hover-fill-color: #FFFFFF;\n",
              "      --disabled-bg-color: #3B4455;\n",
              "      --disabled-fill-color: #666;\n",
              "  }\n",
              "\n",
              "  .colab-df-quickchart {\n",
              "    background-color: var(--bg-color);\n",
              "    border: none;\n",
              "    border-radius: 50%;\n",
              "    cursor: pointer;\n",
              "    display: none;\n",
              "    fill: var(--fill-color);\n",
              "    height: 32px;\n",
              "    padding: 0;\n",
              "    width: 32px;\n",
              "  }\n",
              "\n",
              "  .colab-df-quickchart:hover {\n",
              "    background-color: var(--hover-bg-color);\n",
              "    box-shadow: 0 1px 2px rgba(60, 64, 67, 0.3), 0 1px 3px 1px rgba(60, 64, 67, 0.15);\n",
              "    fill: var(--button-hover-fill-color);\n",
              "  }\n",
              "\n",
              "  .colab-df-quickchart-complete:disabled,\n",
              "  .colab-df-quickchart-complete:disabled:hover {\n",
              "    background-color: var(--disabled-bg-color);\n",
              "    fill: var(--disabled-fill-color);\n",
              "    box-shadow: none;\n",
              "  }\n",
              "\n",
              "  .colab-df-spinner {\n",
              "    border: 2px solid var(--fill-color);\n",
              "    border-color: transparent;\n",
              "    border-bottom-color: var(--fill-color);\n",
              "    animation:\n",
              "      spin 1s steps(1) infinite;\n",
              "  }\n",
              "\n",
              "  @keyframes spin {\n",
              "    0% {\n",
              "      border-color: transparent;\n",
              "      border-bottom-color: var(--fill-color);\n",
              "      border-left-color: var(--fill-color);\n",
              "    }\n",
              "    20% {\n",
              "      border-color: transparent;\n",
              "      border-left-color: var(--fill-color);\n",
              "      border-top-color: var(--fill-color);\n",
              "    }\n",
              "    30% {\n",
              "      border-color: transparent;\n",
              "      border-left-color: var(--fill-color);\n",
              "      border-top-color: var(--fill-color);\n",
              "      border-right-color: var(--fill-color);\n",
              "    }\n",
              "    40% {\n",
              "      border-color: transparent;\n",
              "      border-right-color: var(--fill-color);\n",
              "      border-top-color: var(--fill-color);\n",
              "    }\n",
              "    60% {\n",
              "      border-color: transparent;\n",
              "      border-right-color: var(--fill-color);\n",
              "    }\n",
              "    80% {\n",
              "      border-color: transparent;\n",
              "      border-right-color: var(--fill-color);\n",
              "      border-bottom-color: var(--fill-color);\n",
              "    }\n",
              "    90% {\n",
              "      border-color: transparent;\n",
              "      border-bottom-color: var(--fill-color);\n",
              "    }\n",
              "  }\n",
              "</style>\n",
              "\n",
              "  <script>\n",
              "    async function quickchart(key) {\n",
              "      const quickchartButtonEl =\n",
              "        document.querySelector('#' + key + ' button');\n",
              "      quickchartButtonEl.disabled = true;  // To prevent multiple clicks.\n",
              "      quickchartButtonEl.classList.add('colab-df-spinner');\n",
              "      try {\n",
              "        const charts = await google.colab.kernel.invokeFunction(\n",
              "            'suggestCharts', [key], {});\n",
              "      } catch (error) {\n",
              "        console.error('Error during call to suggestCharts:', error);\n",
              "      }\n",
              "      quickchartButtonEl.classList.remove('colab-df-spinner');\n",
              "      quickchartButtonEl.classList.add('colab-df-quickchart-complete');\n",
              "    }\n",
              "    (() => {\n",
              "      let quickchartButtonEl =\n",
              "        document.querySelector('#df-e4909036-e26e-4696-baed-98ac4c0c0964 button');\n",
              "      quickchartButtonEl.style.display =\n",
              "        google.colab.kernel.accessAllowed ? 'block' : 'none';\n",
              "    })();\n",
              "  </script>\n",
              "</div>\n",
              "    </div>\n",
              "  </div>\n"
            ]
          },
          "metadata": {},
          "execution_count": 18
        }
      ]
    },
    {
      "cell_type": "code",
      "source": [
        "# SQL queries to join 6 years tables\n",
        "query_1 = \"\"\"\n",
        "                SELECT * FROM df_2018_19\n",
        "                UNION\n",
        "                SELECT * FROM df_2019_20\n",
        "                UNION\n",
        "                SELECT * FROM df_2020_21\n",
        "                UNION\n",
        "                SELECT * FROM df_2021_22\n",
        "                UNION\n",
        "                SELECT * FROM df_2022_23\n",
        "                UNION\n",
        "                SELECT * FROM df_2023_24\n",
        "\"\"\""
      ],
      "metadata": {
        "id": "zhFZ_BbW_Bku"
      },
      "execution_count": 19,
      "outputs": []
    },
    {
      "cell_type": "code",
      "source": [
        "# Load query and return dataframe\n",
        "offence_df = spark.sql(query_1)"
      ],
      "metadata": {
        "id": "7hfzPAmW_RCP"
      },
      "execution_count": 20,
      "outputs": []
    },
    {
      "cell_type": "code",
      "source": [
        "print(offence_df.count())"
      ],
      "metadata": {
        "colab": {
          "base_uri": "https://localhost:8080/"
        },
        "id": "Q2GFRXF8_XGb",
        "outputId": "5088e3e8-d872-4636-e4a3-f089e3b26d06"
      },
      "execution_count": 21,
      "outputs": [
        {
          "output_type": "stream",
          "name": "stdout",
          "text": [
            "124193\n"
          ]
        }
      ]
    },
    {
      "cell_type": "code",
      "source": [
        "print(offence_ref.count())"
      ],
      "metadata": {
        "colab": {
          "base_uri": "https://localhost:8080/"
        },
        "id": "GvHvKGcV_gkc",
        "outputId": "5e2f021c-bf1c-458e-cfb8-cb911a51b653"
      },
      "execution_count": 22,
      "outputs": [
        {
          "output_type": "stream",
          "name": "stdout",
          "text": [
            "Offence Code                 197\n",
            "Offence description          196\n",
            "Old PRC offence group        191\n",
            "Old offence sub-group        106\n",
            "New ONS offence group        196\n",
            "New ONS sub-offence group    196\n",
            "dtype: int64\n"
          ]
        }
      ]
    },
    {
      "cell_type": "code",
      "source": [
        "# Rename col to remove white space\n",
        "rename_cols = {\n",
        "                'Financial Year': 'Financial_Year',\n",
        "                'Financial Quarter':'Financial_Quarter',\n",
        "                'Force Name':'Force_Name',\n",
        "                'Offence Description':'Offence_Description',\n",
        "                'Offence Group':'Offence_Group',\n",
        "                'Offence Subgroup':'Offence_Subgroup',\n",
        "                'Offence Code':'Offence_Code',\n",
        "                'Number of Offences':'Number_of_Offences',\n",
        "                'Old PRC offence group': 'Old_PRC_offence_group',\n",
        "                'Old offence sub-group': 'Old_offence_sub-group',\n",
        "                'New ONS offence group': 'New_ONS_offence_group',\n",
        "                'New ONS sub-offence group': 'New_ONS_sub_offence_group'\n",
        "}"
      ],
      "metadata": {
        "id": "Ht30EMtk_nAQ"
      },
      "execution_count": 24,
      "outputs": []
    },
    {
      "cell_type": "code",
      "source": [
        "print(offence_df.count())"
      ],
      "metadata": {
        "colab": {
          "base_uri": "https://localhost:8080/"
        },
        "id": "Paa8vSN__0Pp",
        "outputId": "2032952f-cdd8-47fb-ffc6-41ff3a1c6ffa"
      },
      "execution_count": 25,
      "outputs": [
        {
          "output_type": "stream",
          "name": "stdout",
          "text": [
            "124193\n"
          ]
        }
      ]
    },
    {
      "cell_type": "code",
      "source": [
        "offence_df.drop('is_null')"
      ],
      "metadata": {
        "colab": {
          "base_uri": "https://localhost:8080/",
          "height": 879
        },
        "id": "QjYeHAlR_5jM",
        "outputId": "b1478c6c-23b4-4a12-897b-41ca13a6798c"
      },
      "execution_count": 26,
      "outputs": [
        {
          "output_type": "execute_result",
          "data": {
            "text/plain": [
              "+--------------+-----------------+------------------+--------------------+--------------------+--------------------+------------+------------------+\n",
              "|Financial Year|Financial Quarter|        Force Name| Offence Description|       Offence Group|    Offence Subgroup|Offence Code|Number of Offences|\n",
              "+--------------+-----------------+------------------+--------------------+--------------------+--------------------+------------+------------------+\n",
              "|       2018/19|                1|          Cheshire|            Wildlife|Miscellaneous cri...|Miscellaneous cri...|          96|                 1|\n",
              "|       2018/19|                1|           Cumbria|Possession of con...|       Drug offences| Possession of drugs|         92E|               122|\n",
              "|       2018/19|                1|Devon and Cornwall|Sexual assault on...|     Sexual offences|Other sexual offe...|         20A|               286|\n",
              "|       2018/19|                1|            Durham|    Endangering life|Violence against ...|Violence with injury|          5E|                 1|\n",
              "|       2018/19|                1|       Dyfed-Powys|Possession of art...|Possession of wea...|Possession of wea...|         10D|                32|\n",
              "|       2018/19|                1|             Essex|              Bigamy|Miscellaneous cri...|Miscellaneous cri...|          26|                 0|\n",
              "|       2018/19|                1|         Hampshire|Abuse of children...|     Sexual offences|Other sexual offe...|          71|                 7|\n",
              "|       2018/19|                1|     Hertfordshire|    Attempted murder|Violence against ...|Violence with injury|           2|                 2|\n",
              "|       2018/19|                1|     Hertfordshire|Burglary Residential|      Theft offences|   Domestic burglary|         28E|               868|\n",
              "|       2018/19|                1|     Hertfordshire|Conspiracy to murder|Violence against ...|Violence without ...|          3A|                 1|\n",
              "|       2018/19|                1|        Humberside|Other criminal da...|Criminal damage a...|     Criminal damage|         58D|               821|\n",
              "|       2018/19|                1|        Humberside|Public fear, alar...|Public order offe...|Public order offe...|          9A|              1614|\n",
              "|       2018/19|                1|        Lancashire|       Other forgery|Miscellaneous cri...|Miscellaneous cri...|          61|                35|\n",
              "|       2018/19|                1|      Lincolnshire|Criminal damage t...|Criminal damage a...|     Criminal damage|         58B|               187|\n",
              "|       2018/19|                1|      Lincolnshire|     Sexual grooming|     Sexual offences|Other sexual offe...|         88A|                21|\n",
              "|       2018/19|                1|        Merseyside|Forgery or use of...|Miscellaneous cri...|Miscellaneous cri...|          60|                 5|\n",
              "|       2018/19|                1|        Merseyside|Possession of fir...|Possession of wea...|Possession of wea...|         10B|                23|\n",
              "|       2018/19|                1|           Norfolk|Possession of con...|       Drug offences| Possession of drugs|         92D|               130|\n",
              "|       2018/19|                1|       North Wales|Abuse of position...|     Sexual offences|Other sexual offe...|          73|                 0|\n",
              "|       2018/19|                1|  Northamptonshire|Interfering with ...|      Theft offences|Vehicle interference|         126|               298|\n",
              "+--------------+-----------------+------------------+--------------------+--------------------+--------------------+------------+------------------+\n",
              "only showing top 20 rows"
            ],
            "text/html": [
              "<table border='1'>\n",
              "<tr><th>Financial Year</th><th>Financial Quarter</th><th>Force Name</th><th>Offence Description</th><th>Offence Group</th><th>Offence Subgroup</th><th>Offence Code</th><th>Number of Offences</th></tr>\n",
              "<tr><td>2018/19</td><td>1</td><td>Cheshire</td><td>Wildlife</td><td>Miscellaneous cri...</td><td>Miscellaneous cri...</td><td>96</td><td>1</td></tr>\n",
              "<tr><td>2018/19</td><td>1</td><td>Cumbria</td><td>Possession of con...</td><td>Drug offences</td><td>Possession of drugs</td><td>92E</td><td>122</td></tr>\n",
              "<tr><td>2018/19</td><td>1</td><td>Devon and Cornwall</td><td>Sexual assault on...</td><td>Sexual offences</td><td>Other sexual offe...</td><td>20A</td><td>286</td></tr>\n",
              "<tr><td>2018/19</td><td>1</td><td>Durham</td><td>Endangering life</td><td>Violence against ...</td><td>Violence with injury</td><td>5E</td><td>1</td></tr>\n",
              "<tr><td>2018/19</td><td>1</td><td>Dyfed-Powys</td><td>Possession of art...</td><td>Possession of wea...</td><td>Possession of wea...</td><td>10D</td><td>32</td></tr>\n",
              "<tr><td>2018/19</td><td>1</td><td>Essex</td><td>Bigamy</td><td>Miscellaneous cri...</td><td>Miscellaneous cri...</td><td>26</td><td>0</td></tr>\n",
              "<tr><td>2018/19</td><td>1</td><td>Hampshire</td><td>Abuse of children...</td><td>Sexual offences</td><td>Other sexual offe...</td><td>71</td><td>7</td></tr>\n",
              "<tr><td>2018/19</td><td>1</td><td>Hertfordshire</td><td>Attempted murder</td><td>Violence against ...</td><td>Violence with injury</td><td>2</td><td>2</td></tr>\n",
              "<tr><td>2018/19</td><td>1</td><td>Hertfordshire</td><td>Burglary Residential</td><td>Theft offences</td><td>Domestic burglary</td><td>28E</td><td>868</td></tr>\n",
              "<tr><td>2018/19</td><td>1</td><td>Hertfordshire</td><td>Conspiracy to murder</td><td>Violence against ...</td><td>Violence without ...</td><td>3A</td><td>1</td></tr>\n",
              "<tr><td>2018/19</td><td>1</td><td>Humberside</td><td>Other criminal da...</td><td>Criminal damage a...</td><td>Criminal damage</td><td>58D</td><td>821</td></tr>\n",
              "<tr><td>2018/19</td><td>1</td><td>Humberside</td><td>Public fear, alar...</td><td>Public order offe...</td><td>Public order offe...</td><td>9A</td><td>1614</td></tr>\n",
              "<tr><td>2018/19</td><td>1</td><td>Lancashire</td><td>Other forgery</td><td>Miscellaneous cri...</td><td>Miscellaneous cri...</td><td>61</td><td>35</td></tr>\n",
              "<tr><td>2018/19</td><td>1</td><td>Lincolnshire</td><td>Criminal damage t...</td><td>Criminal damage a...</td><td>Criminal damage</td><td>58B</td><td>187</td></tr>\n",
              "<tr><td>2018/19</td><td>1</td><td>Lincolnshire</td><td>Sexual grooming</td><td>Sexual offences</td><td>Other sexual offe...</td><td>88A</td><td>21</td></tr>\n",
              "<tr><td>2018/19</td><td>1</td><td>Merseyside</td><td>Forgery or use of...</td><td>Miscellaneous cri...</td><td>Miscellaneous cri...</td><td>60</td><td>5</td></tr>\n",
              "<tr><td>2018/19</td><td>1</td><td>Merseyside</td><td>Possession of fir...</td><td>Possession of wea...</td><td>Possession of wea...</td><td>10B</td><td>23</td></tr>\n",
              "<tr><td>2018/19</td><td>1</td><td>Norfolk</td><td>Possession of con...</td><td>Drug offences</td><td>Possession of drugs</td><td>92D</td><td>130</td></tr>\n",
              "<tr><td>2018/19</td><td>1</td><td>North Wales</td><td>Abuse of position...</td><td>Sexual offences</td><td>Other sexual offe...</td><td>73</td><td>0</td></tr>\n",
              "<tr><td>2018/19</td><td>1</td><td>Northamptonshire</td><td>Interfering with ...</td><td>Theft offences</td><td>Vehicle interference</td><td>126</td><td>298</td></tr>\n",
              "</table>\n",
              "only showing top 20 rows\n"
            ]
          },
          "metadata": {},
          "execution_count": 26
        }
      ]
    },
    {
      "cell_type": "code",
      "source": [
        "# Loops through rename_cols and removes white space\n",
        "for old_name, new_name in rename_cols.items():\n",
        "    offence_df = offence_df.withColumnRenamed(old_name, new_name)\n",
        "    offence_ref = ref.withColumnRenamed(old_name, new_name)\n",
        "print(offence_ref.count())\n",
        "print(offence_df.count())"
      ],
      "metadata": {
        "colab": {
          "base_uri": "https://localhost:8080/"
        },
        "id": "Ll1q9YiWAE3Y",
        "outputId": "1a8c9f64-9672-4ee6-9137-bc4a95d11a0b"
      },
      "execution_count": 27,
      "outputs": [
        {
          "output_type": "stream",
          "name": "stdout",
          "text": [
            "198\n",
            "124193\n"
          ]
        }
      ]
    },
    {
      "cell_type": "code",
      "source": [
        "# Drop duplicates in offence_ref\n",
        "offence_ref = offence_ref.dropDuplicates()"
      ],
      "metadata": {
        "id": "9ZPnRg-TAVLH"
      },
      "execution_count": 28,
      "outputs": []
    },
    {
      "cell_type": "code",
      "source": [
        "print(offence_ref.count())"
      ],
      "metadata": {
        "colab": {
          "base_uri": "https://localhost:8080/"
        },
        "id": "hfTw1A1IAZPs",
        "outputId": "65bf6dd8-c4ac-44bc-cf59-92db98a59418"
      },
      "execution_count": 29,
      "outputs": [
        {
          "output_type": "stream",
          "name": "stdout",
          "text": [
            "188\n"
          ]
        }
      ]
    },
    {
      "cell_type": "code",
      "source": [
        "offence_ref = offence_ref.withColumnRenamed('Offence Code', 'Offence_Code')"
      ],
      "metadata": {
        "id": "2ZDsqdG4Afof"
      },
      "execution_count": 30,
      "outputs": []
    },
    {
      "cell_type": "code",
      "source": [
        "# register the DataFrame as a temporary view\n",
        "offence_ref.createOrReplaceTempView('offence_ref')"
      ],
      "metadata": {
        "id": "oodA78vBAjcN"
      },
      "execution_count": 31,
      "outputs": []
    },
    {
      "cell_type": "code",
      "source": [
        "# Create temporary views of the dataframes\n",
        "offence_df.createOrReplaceTempView('offence_df')\n",
        "offence_ref.createOrReplaceTempView('offence_ref')\n"
      ],
      "metadata": {
        "id": "amazqg8uAnkL"
      },
      "execution_count": 32,
      "outputs": []
    },
    {
      "cell_type": "code",
      "source": [
        "offence_df.createOrReplaceTempView('offence_df')\n",
        "ref.createOrReplaceTempView('offence_ref')"
      ],
      "metadata": {
        "id": "u9t4xibNAsJO"
      },
      "execution_count": 33,
      "outputs": []
    },
    {
      "cell_type": "code",
      "source": [
        "# SQL query2 to join reference tables to dataset\n",
        "query_2 = \"\"\"\n",
        "SELECT offence_df.*,\n",
        "offence_ref.`New ONS offence group`,\n",
        "offence_ref.`New ONS sub-offence group`,\n",
        "FROM offence_df\n",
        "INNER JOIN offence_ref\n",
        "ON offence_df.Offence_Code = offence_ref.Offence_Code;\n",
        "\"\"\""
      ],
      "metadata": {
        "id": "sCmc4mgaAwtU"
      },
      "execution_count": 34,
      "outputs": []
    },
    {
      "cell_type": "code",
      "source": [
        "offence_df.head()"
      ],
      "metadata": {
        "colab": {
          "base_uri": "https://localhost:8080/"
        },
        "id": "QtFyUvj4BF4M",
        "outputId": "1e0178b0-2d23-4712-8619-fb6598ae61c0"
      },
      "execution_count": 35,
      "outputs": [
        {
          "output_type": "execute_result",
          "data": {
            "text/plain": [
              "Row(Financial_Year='2018/19', Financial_Quarter=1, Force_Name='Cheshire', Offence_Description='Wildlife', Offence_Group='Miscellaneous crimes against society', Offence_Subgroup='Miscellaneous crimes against society', Offence_Code='96', Number_of_Offences=1)"
            ]
          },
          "metadata": {},
          "execution_count": 35
        }
      ]
    },
    {
      "cell_type": "code",
      "source": [
        "offence_ref.head()"
      ],
      "metadata": {
        "colab": {
          "base_uri": "https://localhost:8080/"
        },
        "id": "tz3Rp1LTBLIM",
        "outputId": "fbfe00db-880a-4f37-a68a-1945b000fc73"
      },
      "execution_count": 36,
      "outputs": [
        {
          "output_type": "execute_result",
          "data": {
            "text/plain": [
              "Row(Offence_Code='90', Offence description='Other knives offences', Old PRC offence group='Other miscellaneous offences', Old offence sub-group='NaN', New ONS offence group='Possession of weapons offences', New_ONS_sub_offence_group='Possession of weapons offences')"
            ]
          },
          "metadata": {},
          "execution_count": 36
        }
      ]
    },
    {
      "cell_type": "code",
      "source": [
        "# show the values of the Offence_Code column in both tables\n",
        "offence_df.select('Offence_Code').show()\n",
        "offence_ref.select('Offence_Code').show()"
      ],
      "metadata": {
        "colab": {
          "base_uri": "https://localhost:8080/"
        },
        "id": "vHFKyhU6BPNd",
        "outputId": "fbbaf249-9481-410e-92ee-4195ba70954f"
      },
      "execution_count": 37,
      "outputs": [
        {
          "output_type": "stream",
          "name": "stdout",
          "text": [
            "+------------+\n",
            "|Offence_Code|\n",
            "+------------+\n",
            "|          96|\n",
            "|         92E|\n",
            "|         20A|\n",
            "|          5E|\n",
            "|         10D|\n",
            "|          26|\n",
            "|          71|\n",
            "|           2|\n",
            "|         28E|\n",
            "|          3A|\n",
            "|         58D|\n",
            "|          9A|\n",
            "|          61|\n",
            "|         58B|\n",
            "|         88A|\n",
            "|          60|\n",
            "|         10B|\n",
            "|         92D|\n",
            "|          73|\n",
            "|         126|\n",
            "+------------+\n",
            "only showing top 20 rows\n",
            "\n",
            "+------------+\n",
            "|Offence_Code|\n",
            "+------------+\n",
            "|          90|\n",
            "|         92A|\n",
            "|         58F|\n",
            "|          33|\n",
            "|         8Q*|\n",
            "|         10B|\n",
            "|          8G|\n",
            "|          5D|\n",
            "|          23|\n",
            "|          84|\n",
            "|         58B|\n",
            "|          22|\n",
            "|          46|\n",
            "|           7|\n",
            "|          8B|\n",
            "|         19C|\n",
            "|         58A|\n",
            "|          60|\n",
            "|          83|\n",
            "|         88B|\n",
            "+------------+\n",
            "only showing top 20 rows\n",
            "\n"
          ]
        }
      ]
    },
    {
      "cell_type": "code",
      "source": [
        "# join the tables using a LEFT JOIN\n",
        "joined_df = offence_df.join(offence_ref, 'Offence_Code', 'left')\n",
        "# check the number of rows after joining\n",
        "rows = joined_df.count()\n",
        "print(f'The number of rows after joining is: {rows}')"
      ],
      "metadata": {
        "colab": {
          "base_uri": "https://localhost:8080/"
        },
        "id": "iy_AIgVDBXR8",
        "outputId": "c2edff06-ccc1-43c6-fa58-678373a37c8b"
      },
      "execution_count": 38,
      "outputs": [
        {
          "output_type": "stream",
          "name": "stdout",
          "text": [
            "The number of rows after joining is: 124193\n"
          ]
        }
      ]
    },
    {
      "cell_type": "code",
      "source": [
        "# check the number of rows using the count function\n",
        "rows = joined_df.count()\n",
        "print(f'The number of rows after joining is: {rows}')"
      ],
      "metadata": {
        "colab": {
          "base_uri": "https://localhost:8080/"
        },
        "id": "2jAWLBvsBeWm",
        "outputId": "395bc753-7a8e-4cf3-aedb-93380f1a6985"
      },
      "execution_count": 39,
      "outputs": [
        {
          "output_type": "stream",
          "name": "stdout",
          "text": [
            "The number of rows after joining is: 124193\n"
          ]
        }
      ]
    },
    {
      "cell_type": "code",
      "source": [
        "# check the number of columns using the len function on the columns attribute\n",
        "cols = len(joined_df.columns)\n",
        "# print the results\n",
        "\n",
        "print(f'The number of columns after joining is: {cols}')"
      ],
      "metadata": {
        "colab": {
          "base_uri": "https://localhost:8080/"
        },
        "id": "kXjyixy2Bir8",
        "outputId": "e5398dde-1dc5-4565-8221-200fe1feb38f"
      },
      "execution_count": 41,
      "outputs": [
        {
          "output_type": "stream",
          "name": "stdout",
          "text": [
            "The number of columns after joining is: 13\n"
          ]
        }
      ]
    },
    {
      "cell_type": "code",
      "source": [
        "# join the tables using a LEFT JOIN\n",
        "joined_df = offence_df.join(offence_ref, 'Offence_Code', 'left')\n",
        "# check the number of rows after joining\n",
        "rows = joined_df.count()\n",
        "print(f'The number of rows after joining is: {rows}')"
      ],
      "metadata": {
        "id": "sCs04G0sBn-n"
      },
      "execution_count": null,
      "outputs": []
    },
    {
      "cell_type": "code",
      "source": [
        "query_2 = joined_df"
      ],
      "metadata": {
        "id": "0tnJTeWmBtjd"
      },
      "execution_count": 42,
      "outputs": []
    },
    {
      "cell_type": "code",
      "source": [
        "print(type(joined_df))"
      ],
      "metadata": {
        "colab": {
          "base_uri": "https://localhost:8080/"
        },
        "id": "MrwI8rxwBxrt",
        "outputId": "0a582b78-d171-465d-93fc-c972b6cbf7eb"
      },
      "execution_count": 43,
      "outputs": [
        {
          "output_type": "stream",
          "name": "stdout",
          "text": [
            "<class 'pyspark.sql.dataframe.DataFrame'>\n"
          ]
        }
      ]
    },
    {
      "cell_type": "code",
      "source": [
        "print(joined_df.count())"
      ],
      "metadata": {
        "colab": {
          "base_uri": "https://localhost:8080/"
        },
        "id": "beyuemDPB1e6",
        "outputId": "fb1af1f0-0a21-4c0f-9981-549aa2069282"
      },
      "execution_count": 44,
      "outputs": [
        {
          "output_type": "stream",
          "name": "stdout",
          "text": [
            "124193\n"
          ]
        }
      ]
    },
    {
      "cell_type": "code",
      "source": [
        "# Print schema\n",
        "query_2.printSchema()"
      ],
      "metadata": {
        "colab": {
          "base_uri": "https://localhost:8080/"
        },
        "id": "JsObQAkgB8K4",
        "outputId": "5461b260-64cc-4f43-965d-32bb7d6844f7"
      },
      "execution_count": 45,
      "outputs": [
        {
          "output_type": "stream",
          "name": "stdout",
          "text": [
            "root\n",
            " |-- Offence_Code: string (nullable = true)\n",
            " |-- Financial_Year: string (nullable = true)\n",
            " |-- Financial_Quarter: long (nullable = true)\n",
            " |-- Force_Name: string (nullable = true)\n",
            " |-- Offence_Description: string (nullable = true)\n",
            " |-- Offence_Group: string (nullable = true)\n",
            " |-- Offence_Subgroup: string (nullable = true)\n",
            " |-- Number_of_Offences: long (nullable = true)\n",
            " |-- Offence description: string (nullable = true)\n",
            " |-- Old PRC offence group: string (nullable = true)\n",
            " |-- Old offence sub-group: string (nullable = true)\n",
            " |-- New ONS offence group: string (nullable = true)\n",
            " |-- New_ONS_sub_offence_group: string (nullable = true)\n",
            "\n"
          ]
        }
      ]
    },
    {
      "cell_type": "code",
      "source": [
        "query_2.drop('Offence description','Old PRC offence group', 'Old offence sub-group')"
      ],
      "metadata": {
        "colab": {
          "base_uri": "https://localhost:8080/",
          "height": 933
        },
        "id": "DIxSMvCwCD7k",
        "outputId": "f86f7141-3d28-4d2e-a692-84497fba7c4c"
      },
      "execution_count": 46,
      "outputs": [
        {
          "output_type": "execute_result",
          "data": {
            "text/plain": [
              "+------------+--------------+-----------------+------------------+--------------------+---------------+--------------------+------------------+---------------------+-------------------------+\n",
              "|Offence_Code|Financial_Year|Financial_Quarter|        Force_Name| Offence_Description|  Offence_Group|    Offence_Subgroup|Number_of_Offences|New ONS offence group|New_ONS_sub_offence_group|\n",
              "+------------+--------------+-----------------+------------------+--------------------+---------------+--------------------+------------------+---------------------+-------------------------+\n",
              "|         17A|       2019/20|                3|           Norfolk|Sexual assault on...|Sexual offences|Other sexual offe...|                29|      Sexual offences|     Other sexual offe...|\n",
              "|         17A|       2019/20|                4|         Wiltshire|Sexual assault on...|Sexual offences|Other sexual offe...|                11|      Sexual offences|     Other sexual offe...|\n",
              "|         17A|       2021/22|                3|    Cambridgeshire|Sexual assault on...|Sexual offences|Other sexual offe...|                30|      Sexual offences|     Other sexual offe...|\n",
              "|         17A|       2018/19|                3|Greater Manchester|Sexual assault on...|Sexual offences|Other sexual offe...|                72|      Sexual offences|     Other sexual offe...|\n",
              "|         17A|       2018/19|                4|      Lincolnshire|Sexual assault on...|Sexual offences|Other sexual offe...|                11|      Sexual offences|     Other sexual offe...|\n",
              "|         17A|       2020/21|                2|      Warwickshire|Sexual assault on...|Sexual offences|Other sexual offe...|                15|      Sexual offences|     Other sexual offe...|\n",
              "|         17A|       2020/21|                3|         Wiltshire|Sexual assault on...|Sexual offences|Other sexual offe...|                 7|      Sexual offences|     Other sexual offe...|\n",
              "|         17A|       2020/21|                4|            Dorset|Sexual assault on...|Sexual offences|Other sexual offe...|                15|      Sexual offences|     Other sexual offe...|\n",
              "|         17A|       2020/21|                4|   London, City of|Sexual assault on...|Sexual offences|Other sexual offe...|                 0|      Sexual offences|     Other sexual offe...|\n",
              "|         17A|       2018/19|                3| Avon and Somerset|Sexual assault on...|Sexual offences|Other sexual offe...|                44|      Sexual offences|     Other sexual offe...|\n",
              "|         17A|       2018/19|                3|              Kent|Sexual assault on...|Sexual offences|Other sexual offe...|                65|      Sexual offences|     Other sexual offe...|\n",
              "|         17A|       2020/21|                1|   Gloucestershire|Sexual assault on...|Sexual offences|Other sexual offe...|                 7|      Sexual offences|     Other sexual offe...|\n",
              "|         17A|       2020/21|                2|           Norfolk|Sexual assault on...|Sexual offences|Other sexual offe...|                22|      Sexual offences|     Other sexual offe...|\n",
              "|         17A|       2020/21|                2|  Northamptonshire|Sexual assault on...|Sexual offences|Other sexual offe...|                23|      Sexual offences|     Other sexual offe...|\n",
              "|         17A|       2020/21|                3|           Cumbria|Sexual assault on...|Sexual offences|Other sexual offe...|                15|      Sexual offences|     Other sexual offe...|\n",
              "|         17A|       2020/21|                4|   Gloucestershire|Sexual assault on...|Sexual offences|Other sexual offe...|                13|      Sexual offences|     Other sexual offe...|\n",
              "|         17A|       2020/21|                4|    Leicestershire|Sexual assault on...|Sexual offences|Other sexual offe...|                41|      Sexual offences|     Other sexual offe...|\n",
              "|         17A|       2022/23|                2|          Cheshire|Sexual assault on...|Sexual offences|Other sexual offe...|                52|      Sexual offences|     Other sexual offe...|\n",
              "|         17A|       2022/23|                2|       North Wales|Sexual assault on...|Sexual offences|Other sexual offe...|                37|      Sexual offences|     Other sexual offe...|\n",
              "|         17A|       2023/24|                1|      Lincolnshire|Sexual assault on...|Sexual offences|Other sexual offe...|                24|      Sexual offences|     Other sexual offe...|\n",
              "+------------+--------------+-----------------+------------------+--------------------+---------------+--------------------+------------------+---------------------+-------------------------+\n",
              "only showing top 20 rows"
            ],
            "text/html": [
              "<table border='1'>\n",
              "<tr><th>Offence_Code</th><th>Financial_Year</th><th>Financial_Quarter</th><th>Force_Name</th><th>Offence_Description</th><th>Offence_Group</th><th>Offence_Subgroup</th><th>Number_of_Offences</th><th>New ONS offence group</th><th>New_ONS_sub_offence_group</th></tr>\n",
              "<tr><td>17A</td><td>2019/20</td><td>3</td><td>Norfolk</td><td>Sexual assault on...</td><td>Sexual offences</td><td>Other sexual offe...</td><td>29</td><td>Sexual offences</td><td>Other sexual offe...</td></tr>\n",
              "<tr><td>17A</td><td>2019/20</td><td>4</td><td>Wiltshire</td><td>Sexual assault on...</td><td>Sexual offences</td><td>Other sexual offe...</td><td>11</td><td>Sexual offences</td><td>Other sexual offe...</td></tr>\n",
              "<tr><td>17A</td><td>2021/22</td><td>3</td><td>Cambridgeshire</td><td>Sexual assault on...</td><td>Sexual offences</td><td>Other sexual offe...</td><td>30</td><td>Sexual offences</td><td>Other sexual offe...</td></tr>\n",
              "<tr><td>17A</td><td>2018/19</td><td>3</td><td>Greater Manchester</td><td>Sexual assault on...</td><td>Sexual offences</td><td>Other sexual offe...</td><td>72</td><td>Sexual offences</td><td>Other sexual offe...</td></tr>\n",
              "<tr><td>17A</td><td>2018/19</td><td>4</td><td>Lincolnshire</td><td>Sexual assault on...</td><td>Sexual offences</td><td>Other sexual offe...</td><td>11</td><td>Sexual offences</td><td>Other sexual offe...</td></tr>\n",
              "<tr><td>17A</td><td>2020/21</td><td>2</td><td>Warwickshire</td><td>Sexual assault on...</td><td>Sexual offences</td><td>Other sexual offe...</td><td>15</td><td>Sexual offences</td><td>Other sexual offe...</td></tr>\n",
              "<tr><td>17A</td><td>2020/21</td><td>3</td><td>Wiltshire</td><td>Sexual assault on...</td><td>Sexual offences</td><td>Other sexual offe...</td><td>7</td><td>Sexual offences</td><td>Other sexual offe...</td></tr>\n",
              "<tr><td>17A</td><td>2020/21</td><td>4</td><td>Dorset</td><td>Sexual assault on...</td><td>Sexual offences</td><td>Other sexual offe...</td><td>15</td><td>Sexual offences</td><td>Other sexual offe...</td></tr>\n",
              "<tr><td>17A</td><td>2020/21</td><td>4</td><td>London, City of</td><td>Sexual assault on...</td><td>Sexual offences</td><td>Other sexual offe...</td><td>0</td><td>Sexual offences</td><td>Other sexual offe...</td></tr>\n",
              "<tr><td>17A</td><td>2018/19</td><td>3</td><td>Avon and Somerset</td><td>Sexual assault on...</td><td>Sexual offences</td><td>Other sexual offe...</td><td>44</td><td>Sexual offences</td><td>Other sexual offe...</td></tr>\n",
              "<tr><td>17A</td><td>2018/19</td><td>3</td><td>Kent</td><td>Sexual assault on...</td><td>Sexual offences</td><td>Other sexual offe...</td><td>65</td><td>Sexual offences</td><td>Other sexual offe...</td></tr>\n",
              "<tr><td>17A</td><td>2020/21</td><td>1</td><td>Gloucestershire</td><td>Sexual assault on...</td><td>Sexual offences</td><td>Other sexual offe...</td><td>7</td><td>Sexual offences</td><td>Other sexual offe...</td></tr>\n",
              "<tr><td>17A</td><td>2020/21</td><td>2</td><td>Norfolk</td><td>Sexual assault on...</td><td>Sexual offences</td><td>Other sexual offe...</td><td>22</td><td>Sexual offences</td><td>Other sexual offe...</td></tr>\n",
              "<tr><td>17A</td><td>2020/21</td><td>2</td><td>Northamptonshire</td><td>Sexual assault on...</td><td>Sexual offences</td><td>Other sexual offe...</td><td>23</td><td>Sexual offences</td><td>Other sexual offe...</td></tr>\n",
              "<tr><td>17A</td><td>2020/21</td><td>3</td><td>Cumbria</td><td>Sexual assault on...</td><td>Sexual offences</td><td>Other sexual offe...</td><td>15</td><td>Sexual offences</td><td>Other sexual offe...</td></tr>\n",
              "<tr><td>17A</td><td>2020/21</td><td>4</td><td>Gloucestershire</td><td>Sexual assault on...</td><td>Sexual offences</td><td>Other sexual offe...</td><td>13</td><td>Sexual offences</td><td>Other sexual offe...</td></tr>\n",
              "<tr><td>17A</td><td>2020/21</td><td>4</td><td>Leicestershire</td><td>Sexual assault on...</td><td>Sexual offences</td><td>Other sexual offe...</td><td>41</td><td>Sexual offences</td><td>Other sexual offe...</td></tr>\n",
              "<tr><td>17A</td><td>2022/23</td><td>2</td><td>Cheshire</td><td>Sexual assault on...</td><td>Sexual offences</td><td>Other sexual offe...</td><td>52</td><td>Sexual offences</td><td>Other sexual offe...</td></tr>\n",
              "<tr><td>17A</td><td>2022/23</td><td>2</td><td>North Wales</td><td>Sexual assault on...</td><td>Sexual offences</td><td>Other sexual offe...</td><td>37</td><td>Sexual offences</td><td>Other sexual offe...</td></tr>\n",
              "<tr><td>17A</td><td>2023/24</td><td>1</td><td>Lincolnshire</td><td>Sexual assault on...</td><td>Sexual offences</td><td>Other sexual offe...</td><td>24</td><td>Sexual offences</td><td>Other sexual offe...</td></tr>\n",
              "</table>\n",
              "only showing top 20 rows\n"
            ]
          },
          "metadata": {},
          "execution_count": 46
        }
      ]
    },
    {
      "cell_type": "code",
      "source": [
        "offence_final = query_2"
      ],
      "metadata": {
        "id": "9qs89u0fCRom"
      },
      "execution_count": 47,
      "outputs": []
    },
    {
      "cell_type": "code",
      "source": [
        "query_2.printSchema()"
      ],
      "metadata": {
        "colab": {
          "base_uri": "https://localhost:8080/"
        },
        "id": "6aju-SnxCVCi",
        "outputId": "9770624c-4710-43fe-9753-9672662b9fae"
      },
      "execution_count": 48,
      "outputs": [
        {
          "output_type": "stream",
          "name": "stdout",
          "text": [
            "root\n",
            " |-- Offence_Code: string (nullable = true)\n",
            " |-- Financial_Year: string (nullable = true)\n",
            " |-- Financial_Quarter: long (nullable = true)\n",
            " |-- Force_Name: string (nullable = true)\n",
            " |-- Offence_Description: string (nullable = true)\n",
            " |-- Offence_Group: string (nullable = true)\n",
            " |-- Offence_Subgroup: string (nullable = true)\n",
            " |-- Number_of_Offences: long (nullable = true)\n",
            " |-- Offence description: string (nullable = true)\n",
            " |-- Old PRC offence group: string (nullable = true)\n",
            " |-- Old offence sub-group: string (nullable = true)\n",
            " |-- New ONS offence group: string (nullable = true)\n",
            " |-- New_ONS_sub_offence_group: string (nullable = true)\n",
            "\n"
          ]
        }
      ]
    },
    {
      "cell_type": "code",
      "source": [
        "print(joined_df.count())"
      ],
      "metadata": {
        "colab": {
          "base_uri": "https://localhost:8080/"
        },
        "id": "pNh6BeRCCY-J",
        "outputId": "c807f783-162d-4f30-f325-417a02ebe935"
      },
      "execution_count": 49,
      "outputs": [
        {
          "output_type": "stream",
          "name": "stdout",
          "text": [
            "124193\n"
          ]
        }
      ]
    },
    {
      "cell_type": "code",
      "source": [
        "# check the number of rows in the DataFrame\n",
        "print(offence_final.count())"
      ],
      "metadata": {
        "colab": {
          "base_uri": "https://localhost:8080/"
        },
        "id": "-MttNpIYCdFp",
        "outputId": "a96e2d6b-b0ef-44b3-e2e5-1efb0d6b5a21"
      },
      "execution_count": 50,
      "outputs": [
        {
          "output_type": "stream",
          "name": "stdout",
          "text": [
            "124193\n"
          ]
        }
      ]
    },
    {
      "cell_type": "code",
      "source": [
        "\n",
        "# Statical Questions\n",
        "# What is the total number of offences in the between year 2018 to 2023\n",
        "\n",
        "totalsum = offence_final.agg(sum('Number_of_Offences')).collect()[0][0]\n",
        "print(f'The total sum of Number of offences from 2019-2023 is: {np.round(totalsum, 2)}')"
      ],
      "metadata": {
        "colab": {
          "base_uri": "https://localhost:8080/"
        },
        "id": "PBZyFnH3EvH8",
        "outputId": "8591124f-7509-47db-fc41-85a54f1cb33f"
      },
      "execution_count": 53,
      "outputs": [
        {
          "output_type": "stream",
          "name": "stdout",
          "text": [
            "The total sum of Number of offences from 2019-2023 is: 32247967\n"
          ]
        }
      ]
    },
    {
      "cell_type": "code",
      "source": [
        "# Descriptive statistics of  Numeric Column \"Number_of_Offences\"\n",
        "offence_final.describe(['Number_of_Offences']).show()"
      ],
      "metadata": {
        "colab": {
          "base_uri": "https://localhost:8080/"
        },
        "id": "e_aSmjo1HCyr",
        "outputId": "8b4c6fbf-c7db-4285-bfb7-b31bed2d2a02"
      },
      "execution_count": 54,
      "outputs": [
        {
          "output_type": "stream",
          "name": "stdout",
          "text": [
            "+-------+------------------+\n",
            "|summary|Number_of_Offences|\n",
            "+-------+------------------+\n",
            "|  count|            124193|\n",
            "|   mean| 259.6601016160331|\n",
            "| stddev|2012.7913765560593|\n",
            "|    min|                -2|\n",
            "|    max|            132693|\n",
            "+-------+------------------+\n",
            "\n"
          ]
        }
      ]
    },
    {
      "cell_type": "code",
      "source": [
        "import pyspark.sql.functions as F\n",
        "from pyspark.sql.types import StringType\n",
        "\n",
        "# Convert Financial_Year to StringType (if not already)\n",
        "query_2 = query_2.withColumn(\"Financial_Year\", F.col(\"Financial_Year\").cast(StringType()))\n",
        "\n",
        "# Replace the field with four numbers before \"/\" in the Financial_Year column\n",
        "query_2 = query_2.withColumn('Financial_Year', F.split(F.col('Financial_Year'), '/').getItem(0))\n",
        "query_2.show()"
      ],
      "metadata": {
        "colab": {
          "base_uri": "https://localhost:8080/"
        },
        "id": "yxMEDpqCHJqC",
        "outputId": "b6d58084-7dfa-4da0-adcf-c677bcecb08c"
      },
      "execution_count": 55,
      "outputs": [
        {
          "output_type": "stream",
          "name": "stdout",
          "text": [
            "+------------+--------------+-----------------+------------------+--------------------+---------------+--------------------+------------------+--------------------+---------------------+---------------------+---------------------+-------------------------+\n",
            "|Offence_Code|Financial_Year|Financial_Quarter|        Force_Name| Offence_Description|  Offence_Group|    Offence_Subgroup|Number_of_Offences| Offence description|Old PRC offence group|Old offence sub-group|New ONS offence group|New_ONS_sub_offence_group|\n",
            "+------------+--------------+-----------------+------------------+--------------------+---------------+--------------------+------------------+--------------------+---------------------+---------------------+---------------------+-------------------------+\n",
            "|         17A|          2019|                3|           Norfolk|Sexual assault on...|Sexual offences|Other sexual offe...|                29|Sexual assault on...|      Sexual offences| Most serious sexu...|      Sexual offences|     Other sexual offe...|\n",
            "|         17A|          2019|                4|         Wiltshire|Sexual assault on...|Sexual offences|Other sexual offe...|                11|Sexual assault on...|      Sexual offences| Most serious sexu...|      Sexual offences|     Other sexual offe...|\n",
            "|         17A|          2021|                3|    Cambridgeshire|Sexual assault on...|Sexual offences|Other sexual offe...|                30|Sexual assault on...|      Sexual offences| Most serious sexu...|      Sexual offences|     Other sexual offe...|\n",
            "|         17A|          2018|                3|Greater Manchester|Sexual assault on...|Sexual offences|Other sexual offe...|                72|Sexual assault on...|      Sexual offences| Most serious sexu...|      Sexual offences|     Other sexual offe...|\n",
            "|         17A|          2018|                4|      Lincolnshire|Sexual assault on...|Sexual offences|Other sexual offe...|                11|Sexual assault on...|      Sexual offences| Most serious sexu...|      Sexual offences|     Other sexual offe...|\n",
            "|         17A|          2020|                2|      Warwickshire|Sexual assault on...|Sexual offences|Other sexual offe...|                15|Sexual assault on...|      Sexual offences| Most serious sexu...|      Sexual offences|     Other sexual offe...|\n",
            "|         17A|          2020|                3|         Wiltshire|Sexual assault on...|Sexual offences|Other sexual offe...|                 7|Sexual assault on...|      Sexual offences| Most serious sexu...|      Sexual offences|     Other sexual offe...|\n",
            "|         17A|          2020|                4|            Dorset|Sexual assault on...|Sexual offences|Other sexual offe...|                15|Sexual assault on...|      Sexual offences| Most serious sexu...|      Sexual offences|     Other sexual offe...|\n",
            "|         17A|          2020|                4|   London, City of|Sexual assault on...|Sexual offences|Other sexual offe...|                 0|Sexual assault on...|      Sexual offences| Most serious sexu...|      Sexual offences|     Other sexual offe...|\n",
            "|         17A|          2018|                3| Avon and Somerset|Sexual assault on...|Sexual offences|Other sexual offe...|                44|Sexual assault on...|      Sexual offences| Most serious sexu...|      Sexual offences|     Other sexual offe...|\n",
            "|         17A|          2018|                3|              Kent|Sexual assault on...|Sexual offences|Other sexual offe...|                65|Sexual assault on...|      Sexual offences| Most serious sexu...|      Sexual offences|     Other sexual offe...|\n",
            "|         17A|          2020|                1|   Gloucestershire|Sexual assault on...|Sexual offences|Other sexual offe...|                 7|Sexual assault on...|      Sexual offences| Most serious sexu...|      Sexual offences|     Other sexual offe...|\n",
            "|         17A|          2020|                2|           Norfolk|Sexual assault on...|Sexual offences|Other sexual offe...|                22|Sexual assault on...|      Sexual offences| Most serious sexu...|      Sexual offences|     Other sexual offe...|\n",
            "|         17A|          2020|                2|  Northamptonshire|Sexual assault on...|Sexual offences|Other sexual offe...|                23|Sexual assault on...|      Sexual offences| Most serious sexu...|      Sexual offences|     Other sexual offe...|\n",
            "|         17A|          2020|                3|           Cumbria|Sexual assault on...|Sexual offences|Other sexual offe...|                15|Sexual assault on...|      Sexual offences| Most serious sexu...|      Sexual offences|     Other sexual offe...|\n",
            "|         17A|          2020|                4|   Gloucestershire|Sexual assault on...|Sexual offences|Other sexual offe...|                13|Sexual assault on...|      Sexual offences| Most serious sexu...|      Sexual offences|     Other sexual offe...|\n",
            "|         17A|          2020|                4|    Leicestershire|Sexual assault on...|Sexual offences|Other sexual offe...|                41|Sexual assault on...|      Sexual offences| Most serious sexu...|      Sexual offences|     Other sexual offe...|\n",
            "|         17A|          2022|                2|          Cheshire|Sexual assault on...|Sexual offences|Other sexual offe...|                52|Sexual assault on...|      Sexual offences| Most serious sexu...|      Sexual offences|     Other sexual offe...|\n",
            "|         17A|          2022|                2|       North Wales|Sexual assault on...|Sexual offences|Other sexual offe...|                37|Sexual assault on...|      Sexual offences| Most serious sexu...|      Sexual offences|     Other sexual offe...|\n",
            "|         17A|          2023|                1|      Lincolnshire|Sexual assault on...|Sexual offences|Other sexual offe...|                24|Sexual assault on...|      Sexual offences| Most serious sexu...|      Sexual offences|     Other sexual offe...|\n",
            "+------------+--------------+-----------------+------------------+--------------------+---------------+--------------------+------------------+--------------------+---------------------+---------------------+---------------------+-------------------------+\n",
            "only showing top 20 rows\n",
            "\n"
          ]
        }
      ]
    },
    {
      "cell_type": "code",
      "source": [
        "offence_final = query_2"
      ],
      "metadata": {
        "id": "ragoJGqzH9QQ"
      },
      "execution_count": 56,
      "outputs": []
    },
    {
      "cell_type": "code",
      "source": [
        "offence_final.show()"
      ],
      "metadata": {
        "colab": {
          "base_uri": "https://localhost:8080/"
        },
        "id": "EAnrMVxiIBBg",
        "outputId": "2098ad17-cd0b-4081-ced9-4ecb89336ea8"
      },
      "execution_count": 57,
      "outputs": [
        {
          "output_type": "stream",
          "name": "stdout",
          "text": [
            "+------------+--------------+-----------------+------------------+--------------------+---------------+--------------------+------------------+--------------------+---------------------+---------------------+---------------------+-------------------------+\n",
            "|Offence_Code|Financial_Year|Financial_Quarter|        Force_Name| Offence_Description|  Offence_Group|    Offence_Subgroup|Number_of_Offences| Offence description|Old PRC offence group|Old offence sub-group|New ONS offence group|New_ONS_sub_offence_group|\n",
            "+------------+--------------+-----------------+------------------+--------------------+---------------+--------------------+------------------+--------------------+---------------------+---------------------+---------------------+-------------------------+\n",
            "|         17A|          2019|                3|           Norfolk|Sexual assault on...|Sexual offences|Other sexual offe...|                29|Sexual assault on...|      Sexual offences| Most serious sexu...|      Sexual offences|     Other sexual offe...|\n",
            "|         17A|          2019|                4|         Wiltshire|Sexual assault on...|Sexual offences|Other sexual offe...|                11|Sexual assault on...|      Sexual offences| Most serious sexu...|      Sexual offences|     Other sexual offe...|\n",
            "|         17A|          2021|                3|    Cambridgeshire|Sexual assault on...|Sexual offences|Other sexual offe...|                30|Sexual assault on...|      Sexual offences| Most serious sexu...|      Sexual offences|     Other sexual offe...|\n",
            "|         17A|          2018|                3|Greater Manchester|Sexual assault on...|Sexual offences|Other sexual offe...|                72|Sexual assault on...|      Sexual offences| Most serious sexu...|      Sexual offences|     Other sexual offe...|\n",
            "|         17A|          2018|                4|      Lincolnshire|Sexual assault on...|Sexual offences|Other sexual offe...|                11|Sexual assault on...|      Sexual offences| Most serious sexu...|      Sexual offences|     Other sexual offe...|\n",
            "|         17A|          2020|                2|      Warwickshire|Sexual assault on...|Sexual offences|Other sexual offe...|                15|Sexual assault on...|      Sexual offences| Most serious sexu...|      Sexual offences|     Other sexual offe...|\n",
            "|         17A|          2020|                3|         Wiltshire|Sexual assault on...|Sexual offences|Other sexual offe...|                 7|Sexual assault on...|      Sexual offences| Most serious sexu...|      Sexual offences|     Other sexual offe...|\n",
            "|         17A|          2020|                4|            Dorset|Sexual assault on...|Sexual offences|Other sexual offe...|                15|Sexual assault on...|      Sexual offences| Most serious sexu...|      Sexual offences|     Other sexual offe...|\n",
            "|         17A|          2020|                4|   London, City of|Sexual assault on...|Sexual offences|Other sexual offe...|                 0|Sexual assault on...|      Sexual offences| Most serious sexu...|      Sexual offences|     Other sexual offe...|\n",
            "|         17A|          2018|                3| Avon and Somerset|Sexual assault on...|Sexual offences|Other sexual offe...|                44|Sexual assault on...|      Sexual offences| Most serious sexu...|      Sexual offences|     Other sexual offe...|\n",
            "|         17A|          2018|                3|              Kent|Sexual assault on...|Sexual offences|Other sexual offe...|                65|Sexual assault on...|      Sexual offences| Most serious sexu...|      Sexual offences|     Other sexual offe...|\n",
            "|         17A|          2020|                1|   Gloucestershire|Sexual assault on...|Sexual offences|Other sexual offe...|                 7|Sexual assault on...|      Sexual offences| Most serious sexu...|      Sexual offences|     Other sexual offe...|\n",
            "|         17A|          2020|                2|           Norfolk|Sexual assault on...|Sexual offences|Other sexual offe...|                22|Sexual assault on...|      Sexual offences| Most serious sexu...|      Sexual offences|     Other sexual offe...|\n",
            "|         17A|          2020|                2|  Northamptonshire|Sexual assault on...|Sexual offences|Other sexual offe...|                23|Sexual assault on...|      Sexual offences| Most serious sexu...|      Sexual offences|     Other sexual offe...|\n",
            "|         17A|          2020|                3|           Cumbria|Sexual assault on...|Sexual offences|Other sexual offe...|                15|Sexual assault on...|      Sexual offences| Most serious sexu...|      Sexual offences|     Other sexual offe...|\n",
            "|         17A|          2020|                4|   Gloucestershire|Sexual assault on...|Sexual offences|Other sexual offe...|                13|Sexual assault on...|      Sexual offences| Most serious sexu...|      Sexual offences|     Other sexual offe...|\n",
            "|         17A|          2020|                4|    Leicestershire|Sexual assault on...|Sexual offences|Other sexual offe...|                41|Sexual assault on...|      Sexual offences| Most serious sexu...|      Sexual offences|     Other sexual offe...|\n",
            "|         17A|          2022|                2|          Cheshire|Sexual assault on...|Sexual offences|Other sexual offe...|                52|Sexual assault on...|      Sexual offences| Most serious sexu...|      Sexual offences|     Other sexual offe...|\n",
            "|         17A|          2022|                2|       North Wales|Sexual assault on...|Sexual offences|Other sexual offe...|                37|Sexual assault on...|      Sexual offences| Most serious sexu...|      Sexual offences|     Other sexual offe...|\n",
            "|         17A|          2023|                1|      Lincolnshire|Sexual assault on...|Sexual offences|Other sexual offe...|                24|Sexual assault on...|      Sexual offences| Most serious sexu...|      Sexual offences|     Other sexual offe...|\n",
            "+------------+--------------+-----------------+------------------+--------------------+---------------+--------------------+------------------+--------------------+---------------------+---------------------+---------------------+-------------------------+\n",
            "only showing top 20 rows\n",
            "\n"
          ]
        }
      ]
    },
    {
      "cell_type": "code",
      "source": [
        "# convert the data type of the Financial_Year column to an integer\n",
        "offence_final = offence_final.withColumn('Financial_Year', offence_final['Financial_Year'].cast('int'))"
      ],
      "metadata": {
        "id": "LuljyQtfII7u"
      },
      "execution_count": 58,
      "outputs": []
    },
    {
      "cell_type": "code",
      "source": [
        "# calculate the correlation between Financial_Year and Number_of_Offences\n",
        "yr_corr_offence = offence_final.corr('Financial_Year', 'Number_of_Offences')"
      ],
      "metadata": {
        "id": "stvE8YtJIOYp"
      },
      "execution_count": 59,
      "outputs": []
    },
    {
      "cell_type": "code",
      "source": [
        "# print the correlation\n",
        "print(f'The correlation between Financial Year and Number of offences is: {yr_corr_offence:.4f}')\n",
        "\n"
      ],
      "metadata": {
        "colab": {
          "base_uri": "https://localhost:8080/"
        },
        "id": "8_9uja5tIY6E",
        "outputId": "56e29cdf-57dc-4716-b8b0-294ac2333472"
      },
      "execution_count": 60,
      "outputs": [
        {
          "output_type": "stream",
          "name": "stdout",
          "text": [
            "The correlation between Financial Year and Number of offences is: 0.0038\n"
          ]
        }
      ]
    },
    {
      "cell_type": "code",
      "source": [
        "# Correlation betwen financial year and number of offences\n",
        "qt_corr_offence = offence_final.corr('Financial_Quarter', 'Number_of_Offences')\n",
        "\n",
        "print(f'The correlation between Financial Year and Number of offences is: {qt_corr_offence:.4f}')"
      ],
      "metadata": {
        "colab": {
          "base_uri": "https://localhost:8080/"
        },
        "id": "hTjm65bsIdTi",
        "outputId": "3f64fdae-bdd0-4916-a41e-5080666d36b3"
      },
      "execution_count": 61,
      "outputs": [
        {
          "output_type": "stream",
          "name": "stdout",
          "text": [
            "The correlation between Financial Year and Number of offences is: -0.0007\n"
          ]
        }
      ]
    },
    {
      "cell_type": "code",
      "source": [
        "# Covariance betwen financial year and number of offences\n",
        "yr_corr_offence = offence_final.cov('Financial_Year', 'Number_of_Offences')\n",
        "\n",
        "print(f'The covariance between Financial Year and Number of offences is: {yr_corr_offence:.4f}')\n",
        "\n"
      ],
      "metadata": {
        "colab": {
          "base_uri": "https://localhost:8080/"
        },
        "id": "ByzngQ-kI239",
        "outputId": "75384650-20fe-4690-cbc7-a356b54f6f5b"
      },
      "execution_count": 62,
      "outputs": [
        {
          "output_type": "stream",
          "name": "stdout",
          "text": [
            "The covariance between Financial Year and Number of offences is: 11.6841\n"
          ]
        }
      ]
    },
    {
      "cell_type": "code",
      "source": [
        "# Covariance betwen financial year and number of offences\n",
        "qt_corr_offence = offence_final.cov('Financial_Quarter', 'Number_of_Offences')\n",
        "\n",
        "print(f'The covariance between Financial Year and Number of offences is: {qt_corr_offence:.4f}')"
      ],
      "metadata": {
        "colab": {
          "base_uri": "https://localhost:8080/"
        },
        "id": "Vzv81epRI5mQ",
        "outputId": "4194f23b-cba8-4343-8a33-505eab23930e"
      },
      "execution_count": 63,
      "outputs": [
        {
          "output_type": "stream",
          "name": "stdout",
          "text": [
            "The covariance between Financial Year and Number of offences is: -1.5094\n"
          ]
        }
      ]
    },
    {
      "cell_type": "code",
      "source": [
        "# check for skewness of Number of Offences\n",
        "skewness_num_of_offences = offence_final.select(skewness('Number_of_Offences')).collect()[0][0]\n",
        "\n",
        "print(f'The skewness is: {skewness_num_of_offences: .2f}')"
      ],
      "metadata": {
        "colab": {
          "base_uri": "https://localhost:8080/"
        },
        "id": "ONBhz9HRJFX2",
        "outputId": "edfd4ed6-2c7c-4a4d-d713-5a6cfc6480e8"
      },
      "execution_count": 64,
      "outputs": [
        {
          "output_type": "stream",
          "name": "stdout",
          "text": [
            "The skewness is:  38.80\n"
          ]
        }
      ]
    },
    {
      "cell_type": "code",
      "source": [
        "pip install pingouin"
      ],
      "metadata": {
        "colab": {
          "base_uri": "https://localhost:8080/"
        },
        "id": "ZJpqyRivJO9x",
        "outputId": "412bed84-16ae-4303-8694-82a45ec9c75c"
      },
      "execution_count": 65,
      "outputs": [
        {
          "output_type": "stream",
          "name": "stdout",
          "text": [
            "Collecting pingouin\n",
            "  Downloading pingouin-0.5.3-py3-none-any.whl (198 kB)\n",
            "\u001b[?25l     \u001b[90m━━━━━━━━━━━━━━━━━━━━━━━━━━━━━━━━━━━━━━━━\u001b[0m \u001b[32m0.0/198.6 kB\u001b[0m \u001b[31m?\u001b[0m eta \u001b[36m-:--:--\u001b[0m\r\u001b[2K     \u001b[91m━━━━━━━━━━━━\u001b[0m\u001b[90m╺\u001b[0m\u001b[90m━━━━━━━━━━━━━━━━━━━━━━━━━━━\u001b[0m \u001b[32m61.4/198.6 kB\u001b[0m \u001b[31m1.6 MB/s\u001b[0m eta \u001b[36m0:00:01\u001b[0m\r\u001b[2K     \u001b[90m━━━━━━━━━━━━━━━━━━━━━━━━━━━━━━━━━━━━━━━━\u001b[0m \u001b[32m198.6/198.6 kB\u001b[0m \u001b[31m3.3 MB/s\u001b[0m eta \u001b[36m0:00:00\u001b[0m\n",
            "\u001b[?25hRequirement already satisfied: numpy>=1.19 in /usr/local/lib/python3.10/dist-packages (from pingouin) (1.23.5)\n",
            "Requirement already satisfied: scipy>=1.7 in /usr/local/lib/python3.10/dist-packages (from pingouin) (1.11.4)\n",
            "Requirement already satisfied: pandas>=1.0 in /usr/local/lib/python3.10/dist-packages (from pingouin) (1.5.3)\n",
            "Requirement already satisfied: matplotlib>=3.0.2 in /usr/local/lib/python3.10/dist-packages (from pingouin) (3.7.1)\n",
            "Requirement already satisfied: seaborn>=0.11 in /usr/local/lib/python3.10/dist-packages (from pingouin) (0.12.2)\n",
            "Requirement already satisfied: statsmodels>=0.13 in /usr/local/lib/python3.10/dist-packages (from pingouin) (0.14.1)\n",
            "Requirement already satisfied: scikit-learn in /usr/local/lib/python3.10/dist-packages (from pingouin) (1.2.2)\n",
            "Collecting pandas-flavor>=0.2.0 (from pingouin)\n",
            "  Downloading pandas_flavor-0.6.0-py3-none-any.whl (7.2 kB)\n",
            "Collecting outdated (from pingouin)\n",
            "  Downloading outdated-0.2.2-py2.py3-none-any.whl (7.5 kB)\n",
            "Requirement already satisfied: tabulate in /usr/local/lib/python3.10/dist-packages (from pingouin) (0.9.0)\n",
            "Requirement already satisfied: contourpy>=1.0.1 in /usr/local/lib/python3.10/dist-packages (from matplotlib>=3.0.2->pingouin) (1.2.0)\n",
            "Requirement already satisfied: cycler>=0.10 in /usr/local/lib/python3.10/dist-packages (from matplotlib>=3.0.2->pingouin) (0.12.1)\n",
            "Requirement already satisfied: fonttools>=4.22.0 in /usr/local/lib/python3.10/dist-packages (from matplotlib>=3.0.2->pingouin) (4.47.0)\n",
            "Requirement already satisfied: kiwisolver>=1.0.1 in /usr/local/lib/python3.10/dist-packages (from matplotlib>=3.0.2->pingouin) (1.4.5)\n",
            "Requirement already satisfied: packaging>=20.0 in /usr/local/lib/python3.10/dist-packages (from matplotlib>=3.0.2->pingouin) (23.2)\n",
            "Requirement already satisfied: pillow>=6.2.0 in /usr/local/lib/python3.10/dist-packages (from matplotlib>=3.0.2->pingouin) (9.4.0)\n",
            "Requirement already satisfied: pyparsing>=2.3.1 in /usr/local/lib/python3.10/dist-packages (from matplotlib>=3.0.2->pingouin) (3.1.1)\n",
            "Requirement already satisfied: python-dateutil>=2.7 in /usr/local/lib/python3.10/dist-packages (from matplotlib>=3.0.2->pingouin) (2.8.2)\n",
            "Requirement already satisfied: pytz>=2020.1 in /usr/local/lib/python3.10/dist-packages (from pandas>=1.0->pingouin) (2023.3.post1)\n",
            "Requirement already satisfied: xarray in /usr/local/lib/python3.10/dist-packages (from pandas-flavor>=0.2.0->pingouin) (2023.7.0)\n",
            "Requirement already satisfied: patsy>=0.5.4 in /usr/local/lib/python3.10/dist-packages (from statsmodels>=0.13->pingouin) (0.5.5)\n",
            "Requirement already satisfied: setuptools>=44 in /usr/local/lib/python3.10/dist-packages (from outdated->pingouin) (67.7.2)\n",
            "Collecting littleutils (from outdated->pingouin)\n",
            "  Downloading littleutils-0.2.2.tar.gz (6.6 kB)\n",
            "  Preparing metadata (setup.py) ... \u001b[?25l\u001b[?25hdone\n",
            "Requirement already satisfied: requests in /usr/local/lib/python3.10/dist-packages (from outdated->pingouin) (2.31.0)\n",
            "Requirement already satisfied: joblib>=1.1.1 in /usr/local/lib/python3.10/dist-packages (from scikit-learn->pingouin) (1.3.2)\n",
            "Requirement already satisfied: threadpoolctl>=2.0.0 in /usr/local/lib/python3.10/dist-packages (from scikit-learn->pingouin) (3.2.0)\n",
            "Requirement already satisfied: six in /usr/local/lib/python3.10/dist-packages (from patsy>=0.5.4->statsmodels>=0.13->pingouin) (1.16.0)\n",
            "Requirement already satisfied: charset-normalizer<4,>=2 in /usr/local/lib/python3.10/dist-packages (from requests->outdated->pingouin) (3.3.2)\n",
            "Requirement already satisfied: idna<4,>=2.5 in /usr/local/lib/python3.10/dist-packages (from requests->outdated->pingouin) (3.6)\n",
            "Requirement already satisfied: urllib3<3,>=1.21.1 in /usr/local/lib/python3.10/dist-packages (from requests->outdated->pingouin) (2.0.7)\n",
            "Requirement already satisfied: certifi>=2017.4.17 in /usr/local/lib/python3.10/dist-packages (from requests->outdated->pingouin) (2023.11.17)\n",
            "Building wheels for collected packages: littleutils\n",
            "  Building wheel for littleutils (setup.py) ... \u001b[?25l\u001b[?25hdone\n",
            "  Created wheel for littleutils: filename=littleutils-0.2.2-py3-none-any.whl size=7026 sha256=b416b54a29032e9984a93b69fc88bd09649a1bd4ba64106dc7fc324a77f8f729\n",
            "  Stored in directory: /root/.cache/pip/wheels/3d/fe/b0/27a9892da57472e538c7452a721a9cf463cc03cf7379889266\n",
            "Successfully built littleutils\n",
            "Installing collected packages: littleutils, outdated, pandas-flavor, pingouin\n",
            "Successfully installed littleutils-0.2.2 outdated-0.2.2 pandas-flavor-0.6.0 pingouin-0.5.3\n"
          ]
        }
      ]
    },
    {
      "cell_type": "code",
      "source": [
        "import pingouin as pg"
      ],
      "metadata": {
        "id": "S6IAKTQyOUPs"
      },
      "execution_count": 70,
      "outputs": []
    },
    {
      "cell_type": "code",
      "source": [
        "# @title Research Questions\n",
        "#\n",
        "# 1. Has there been a notable shift in the total number of offences over time?\n",
        "# 2. Are there any financial quarters where the offence rate is consistently greater or lower?\n",
        "# 3. Does the offence type typically vary according to the fiscal quarter?\n",
        "# 4. Do some police force jurisdictions have a higher likelihood of experiencing particular offence groupings or subgroups? Expecially for sexual abuse and fraud\n",
        "\n",
        "\n"
      ],
      "metadata": {
        "id": "xcqqjd9RK2sv"
      },
      "execution_count": 71,
      "outputs": []
    },
    {
      "cell_type": "code",
      "source": [
        " # Does the offence type typically vary according to the fiscal quarter?\n",
        "\n",
        "sample_offence = offence_final.select('Financial_Year', 'Financial_Quarter', 'Force_Name', 'New ONS offence group', 'Number_of_Offences').sample(False, 0.50, 42).toPandas()"
      ],
      "metadata": {
        "id": "Z1CuF0cpLa7e"
      },
      "execution_count": 72,
      "outputs": []
    },
    {
      "cell_type": "code",
      "source": [
        "# Theory1\n",
        "str1 = \"\"\" -  Has there been a notable shift in the total number of offences over time?\n",
        "   * Null hypothesis (H0): Over time, there hasn't been a discernible change in the mean number of offences.\n",
        "    * Alternative hypothesis (Ha): Over time, there has been a considerable change in the mean number of offences.\n",
        "    *  Examine: ANOVA\"\"\"\n",
        "\n",
        "# ANOVA\n",
        "eva1 = pg.anova(data=sample_offence,\n",
        "         dv='Number_of_Offences',\n",
        "         between='Financial_Year')\n",
        "\n",
        "# Displays outputs\n",
        "display(str1)\n",
        "display(eva1)\n",
        "display('As our p-value is smaller than our significance level *0.1*, the null hypothesis is rejected.')\n",
        "display('The number of crimes varies dramatically between at least two Financial Years.')"
      ],
      "metadata": {
        "colab": {
          "base_uri": "https://localhost:8080/",
          "height": 169
        },
        "id": "KOFhAxLqOhW_",
        "outputId": "d0023637-d46c-4451-a029-099ae38553eb"
      },
      "execution_count": 75,
      "outputs": [
        {
          "output_type": "display_data",
          "data": {
            "text/plain": [
              "' -  Has the overall number of offenses changed significantly over time?\\n    *   Null hypothesis (H0): The mean number of offenses has not changed significantly over time.\\n    *    Alternate hypothesis (Ha): The mean number of offenses has changed significantly over time.\\n    *  Test: ANOVA'"
            ],
            "application/vnd.google.colaboratory.intrinsic+json": {
              "type": "string"
            }
          },
          "metadata": {}
        },
        {
          "output_type": "display_data",
          "data": {
            "text/plain": [
              "           Source  ddof1  ddof2         F     p-unc       np2\n",
              "0  Financial_Year      5  62291  0.842391  0.519327  0.000068"
            ],
            "text/html": [
              "\n",
              "  <div id=\"df-07ae11ad-3617-4410-8b95-54c0efa8d651\" class=\"colab-df-container\">\n",
              "    <div>\n",
              "<style scoped>\n",
              "    .dataframe tbody tr th:only-of-type {\n",
              "        vertical-align: middle;\n",
              "    }\n",
              "\n",
              "    .dataframe tbody tr th {\n",
              "        vertical-align: top;\n",
              "    }\n",
              "\n",
              "    .dataframe thead th {\n",
              "        text-align: right;\n",
              "    }\n",
              "</style>\n",
              "<table border=\"1\" class=\"dataframe\">\n",
              "  <thead>\n",
              "    <tr style=\"text-align: right;\">\n",
              "      <th></th>\n",
              "      <th>Source</th>\n",
              "      <th>ddof1</th>\n",
              "      <th>ddof2</th>\n",
              "      <th>F</th>\n",
              "      <th>p-unc</th>\n",
              "      <th>np2</th>\n",
              "    </tr>\n",
              "  </thead>\n",
              "  <tbody>\n",
              "    <tr>\n",
              "      <th>0</th>\n",
              "      <td>Financial_Year</td>\n",
              "      <td>5</td>\n",
              "      <td>62291</td>\n",
              "      <td>0.842391</td>\n",
              "      <td>0.519327</td>\n",
              "      <td>0.000068</td>\n",
              "    </tr>\n",
              "  </tbody>\n",
              "</table>\n",
              "</div>\n",
              "    <div class=\"colab-df-buttons\">\n",
              "\n",
              "  <div class=\"colab-df-container\">\n",
              "    <button class=\"colab-df-convert\" onclick=\"convertToInteractive('df-07ae11ad-3617-4410-8b95-54c0efa8d651')\"\n",
              "            title=\"Convert this dataframe to an interactive table.\"\n",
              "            style=\"display:none;\">\n",
              "\n",
              "  <svg xmlns=\"http://www.w3.org/2000/svg\" height=\"24px\" viewBox=\"0 -960 960 960\">\n",
              "    <path d=\"M120-120v-720h720v720H120Zm60-500h600v-160H180v160Zm220 220h160v-160H400v160Zm0 220h160v-160H400v160ZM180-400h160v-160H180v160Zm440 0h160v-160H620v160ZM180-180h160v-160H180v160Zm440 0h160v-160H620v160Z\"/>\n",
              "  </svg>\n",
              "    </button>\n",
              "\n",
              "  <style>\n",
              "    .colab-df-container {\n",
              "      display:flex;\n",
              "      gap: 12px;\n",
              "    }\n",
              "\n",
              "    .colab-df-convert {\n",
              "      background-color: #E8F0FE;\n",
              "      border: none;\n",
              "      border-radius: 50%;\n",
              "      cursor: pointer;\n",
              "      display: none;\n",
              "      fill: #1967D2;\n",
              "      height: 32px;\n",
              "      padding: 0 0 0 0;\n",
              "      width: 32px;\n",
              "    }\n",
              "\n",
              "    .colab-df-convert:hover {\n",
              "      background-color: #E2EBFA;\n",
              "      box-shadow: 0px 1px 2px rgba(60, 64, 67, 0.3), 0px 1px 3px 1px rgba(60, 64, 67, 0.15);\n",
              "      fill: #174EA6;\n",
              "    }\n",
              "\n",
              "    .colab-df-buttons div {\n",
              "      margin-bottom: 4px;\n",
              "    }\n",
              "\n",
              "    [theme=dark] .colab-df-convert {\n",
              "      background-color: #3B4455;\n",
              "      fill: #D2E3FC;\n",
              "    }\n",
              "\n",
              "    [theme=dark] .colab-df-convert:hover {\n",
              "      background-color: #434B5C;\n",
              "      box-shadow: 0px 1px 3px 1px rgba(0, 0, 0, 0.15);\n",
              "      filter: drop-shadow(0px 1px 2px rgba(0, 0, 0, 0.3));\n",
              "      fill: #FFFFFF;\n",
              "    }\n",
              "  </style>\n",
              "\n",
              "    <script>\n",
              "      const buttonEl =\n",
              "        document.querySelector('#df-07ae11ad-3617-4410-8b95-54c0efa8d651 button.colab-df-convert');\n",
              "      buttonEl.style.display =\n",
              "        google.colab.kernel.accessAllowed ? 'block' : 'none';\n",
              "\n",
              "      async function convertToInteractive(key) {\n",
              "        const element = document.querySelector('#df-07ae11ad-3617-4410-8b95-54c0efa8d651');\n",
              "        const dataTable =\n",
              "          await google.colab.kernel.invokeFunction('convertToInteractive',\n",
              "                                                    [key], {});\n",
              "        if (!dataTable) return;\n",
              "\n",
              "        const docLinkHtml = 'Like what you see? Visit the ' +\n",
              "          '<a target=\"_blank\" href=https://colab.research.google.com/notebooks/data_table.ipynb>data table notebook</a>'\n",
              "          + ' to learn more about interactive tables.';\n",
              "        element.innerHTML = '';\n",
              "        dataTable['output_type'] = 'display_data';\n",
              "        await google.colab.output.renderOutput(dataTable, element);\n",
              "        const docLink = document.createElement('div');\n",
              "        docLink.innerHTML = docLinkHtml;\n",
              "        element.appendChild(docLink);\n",
              "      }\n",
              "    </script>\n",
              "  </div>\n",
              "\n",
              "    </div>\n",
              "  </div>\n"
            ]
          },
          "metadata": {}
        },
        {
          "output_type": "display_data",
          "data": {
            "text/plain": [
              "'As our p-value is smaller than our significance level *0.1*, the null hypothesis is rejected.'"
            ],
            "application/vnd.google.colaboratory.intrinsic+json": {
              "type": "string"
            }
          },
          "metadata": {}
        },
        {
          "output_type": "display_data",
          "data": {
            "text/plain": [
              "'The number of crimes varies dramatically between at least two Financial Years.'"
            ],
            "application/vnd.google.colaboratory.intrinsic+json": {
              "type": "string"
            }
          },
          "metadata": {}
        }
      ]
    },
    {
      "cell_type": "code",
      "source": [
        "# Theory2\n",
        "str2 = \"\"\" -  Are there any financial quarters where the offence rate is consistently greater or lower?\n",
        "  * H0: The offence rates do not significantly differ between financial quarters.\n",
        "  * Ha: The offence rates do significantly differ between financial quarters.\n",
        "  * ANOVA test comparing the offence rates in each quarter.\"\"\"\n",
        "\n",
        "# ANOVA\n",
        "eva2 = pg.anova(data=sample_offence,\n",
        "         dv='Number_of_Offences',\n",
        "         between='Financial_Quarter')\n",
        "\n",
        "# Display outputs\n",
        "display(str2)\n",
        "display(eva2)\n",
        "display('As our p-value is smaller than our significance level *0.1*, the null hypothesis is rejected.')\n",
        "display('There are at least two Financial Quarters where the total number of crimes differs noticeably.')"
      ],
      "metadata": {
        "colab": {
          "base_uri": "https://localhost:8080/",
          "height": 169
        },
        "id": "OZxq86TXQmQ5",
        "outputId": "41c6af89-3d58-4214-e699-73453451f64f"
      },
      "execution_count": 77,
      "outputs": [
        {
          "output_type": "display_data",
          "data": {
            "text/plain": [
              "' -  Are there any financial quarters where the offence rate is consistently greater or lower?\\n  * H0: The offence rates do not significantly differ between financial quarters. \\n  * Ha: The offence rates do significantly differ between financial quarters.\\n  * ANOVA test comparing the offence rates in each quarter.'"
            ],
            "application/vnd.google.colaboratory.intrinsic+json": {
              "type": "string"
            }
          },
          "metadata": {}
        },
        {
          "output_type": "display_data",
          "data": {
            "text/plain": [
              "              Source  ddof1  ddof2         F     p-unc      np2\n",
              "0  Financial_Quarter      3  62293  1.243613  0.292043  0.00006"
            ],
            "text/html": [
              "\n",
              "  <div id=\"df-17708459-a372-4992-8be5-4ab7ef088285\" class=\"colab-df-container\">\n",
              "    <div>\n",
              "<style scoped>\n",
              "    .dataframe tbody tr th:only-of-type {\n",
              "        vertical-align: middle;\n",
              "    }\n",
              "\n",
              "    .dataframe tbody tr th {\n",
              "        vertical-align: top;\n",
              "    }\n",
              "\n",
              "    .dataframe thead th {\n",
              "        text-align: right;\n",
              "    }\n",
              "</style>\n",
              "<table border=\"1\" class=\"dataframe\">\n",
              "  <thead>\n",
              "    <tr style=\"text-align: right;\">\n",
              "      <th></th>\n",
              "      <th>Source</th>\n",
              "      <th>ddof1</th>\n",
              "      <th>ddof2</th>\n",
              "      <th>F</th>\n",
              "      <th>p-unc</th>\n",
              "      <th>np2</th>\n",
              "    </tr>\n",
              "  </thead>\n",
              "  <tbody>\n",
              "    <tr>\n",
              "      <th>0</th>\n",
              "      <td>Financial_Quarter</td>\n",
              "      <td>3</td>\n",
              "      <td>62293</td>\n",
              "      <td>1.243613</td>\n",
              "      <td>0.292043</td>\n",
              "      <td>0.00006</td>\n",
              "    </tr>\n",
              "  </tbody>\n",
              "</table>\n",
              "</div>\n",
              "    <div class=\"colab-df-buttons\">\n",
              "\n",
              "  <div class=\"colab-df-container\">\n",
              "    <button class=\"colab-df-convert\" onclick=\"convertToInteractive('df-17708459-a372-4992-8be5-4ab7ef088285')\"\n",
              "            title=\"Convert this dataframe to an interactive table.\"\n",
              "            style=\"display:none;\">\n",
              "\n",
              "  <svg xmlns=\"http://www.w3.org/2000/svg\" height=\"24px\" viewBox=\"0 -960 960 960\">\n",
              "    <path d=\"M120-120v-720h720v720H120Zm60-500h600v-160H180v160Zm220 220h160v-160H400v160Zm0 220h160v-160H400v160ZM180-400h160v-160H180v160Zm440 0h160v-160H620v160ZM180-180h160v-160H180v160Zm440 0h160v-160H620v160Z\"/>\n",
              "  </svg>\n",
              "    </button>\n",
              "\n",
              "  <style>\n",
              "    .colab-df-container {\n",
              "      display:flex;\n",
              "      gap: 12px;\n",
              "    }\n",
              "\n",
              "    .colab-df-convert {\n",
              "      background-color: #E8F0FE;\n",
              "      border: none;\n",
              "      border-radius: 50%;\n",
              "      cursor: pointer;\n",
              "      display: none;\n",
              "      fill: #1967D2;\n",
              "      height: 32px;\n",
              "      padding: 0 0 0 0;\n",
              "      width: 32px;\n",
              "    }\n",
              "\n",
              "    .colab-df-convert:hover {\n",
              "      background-color: #E2EBFA;\n",
              "      box-shadow: 0px 1px 2px rgba(60, 64, 67, 0.3), 0px 1px 3px 1px rgba(60, 64, 67, 0.15);\n",
              "      fill: #174EA6;\n",
              "    }\n",
              "\n",
              "    .colab-df-buttons div {\n",
              "      margin-bottom: 4px;\n",
              "    }\n",
              "\n",
              "    [theme=dark] .colab-df-convert {\n",
              "      background-color: #3B4455;\n",
              "      fill: #D2E3FC;\n",
              "    }\n",
              "\n",
              "    [theme=dark] .colab-df-convert:hover {\n",
              "      background-color: #434B5C;\n",
              "      box-shadow: 0px 1px 3px 1px rgba(0, 0, 0, 0.15);\n",
              "      filter: drop-shadow(0px 1px 2px rgba(0, 0, 0, 0.3));\n",
              "      fill: #FFFFFF;\n",
              "    }\n",
              "  </style>\n",
              "\n",
              "    <script>\n",
              "      const buttonEl =\n",
              "        document.querySelector('#df-17708459-a372-4992-8be5-4ab7ef088285 button.colab-df-convert');\n",
              "      buttonEl.style.display =\n",
              "        google.colab.kernel.accessAllowed ? 'block' : 'none';\n",
              "\n",
              "      async function convertToInteractive(key) {\n",
              "        const element = document.querySelector('#df-17708459-a372-4992-8be5-4ab7ef088285');\n",
              "        const dataTable =\n",
              "          await google.colab.kernel.invokeFunction('convertToInteractive',\n",
              "                                                    [key], {});\n",
              "        if (!dataTable) return;\n",
              "\n",
              "        const docLinkHtml = 'Like what you see? Visit the ' +\n",
              "          '<a target=\"_blank\" href=https://colab.research.google.com/notebooks/data_table.ipynb>data table notebook</a>'\n",
              "          + ' to learn more about interactive tables.';\n",
              "        element.innerHTML = '';\n",
              "        dataTable['output_type'] = 'display_data';\n",
              "        await google.colab.output.renderOutput(dataTable, element);\n",
              "        const docLink = document.createElement('div');\n",
              "        docLink.innerHTML = docLinkHtml;\n",
              "        element.appendChild(docLink);\n",
              "      }\n",
              "    </script>\n",
              "  </div>\n",
              "\n",
              "    </div>\n",
              "  </div>\n"
            ]
          },
          "metadata": {}
        },
        {
          "output_type": "display_data",
          "data": {
            "text/plain": [
              "'As our p-value is smaller than our significance level *0.1*, the null hypothesis is rejected.'"
            ],
            "application/vnd.google.colaboratory.intrinsic+json": {
              "type": "string"
            }
          },
          "metadata": {}
        },
        {
          "output_type": "display_data",
          "data": {
            "text/plain": [
              "'There are at least two Financial Quarters where the total number of crimes differs noticeably.'"
            ],
            "application/vnd.google.colaboratory.intrinsic+json": {
              "type": "string"
            }
          },
          "metadata": {}
        }
      ]
    },
    {
      "cell_type": "code",
      "source": [
        "# Print the column names of the DataFrame\n",
        "print(sample_offence.columns)"
      ],
      "metadata": {
        "colab": {
          "base_uri": "https://localhost:8080/"
        },
        "id": "059a_DCLUAwM",
        "outputId": "f28ab398-e038-4e80-8596-e506ae7219f5"
      },
      "execution_count": 78,
      "outputs": [
        {
          "output_type": "stream",
          "name": "stdout",
          "text": [
            "Index(['Financial_Year', 'Financial_Quarter', 'Force_Name',\n",
            "       'New ONS offence group', 'Number_of_Offences'],\n",
            "      dtype='object')\n"
          ]
        }
      ]
    },
    {
      "cell_type": "code",
      "source": [
        "expected, observed, stats = pg.chi2_independence(data=sample_offence, x='New ONS offence group', y='Financial_Quarter')"
      ],
      "metadata": {
        "id": "3a29NinwUT92"
      },
      "execution_count": 79,
      "outputs": []
    },
    {
      "cell_type": "code",
      "source": [
        "# Theory3\n",
        "str3 = \"\"\" -  Does the offence type typically vary according to the fiscal quarter?\n",
        "   * Ha: There is a relationship between the financial quarter and the offence type.\n",
        "   * H0: There is no relationship between the offence type and financial quarter.\n",
        "   * Test: Chi-square independence test.\"\"\"\n",
        "\n",
        "# chisquare_test\n",
        "expected, observed, stats = pg.chi2_independence(data=sample_offence, x='New ONS offence group', y='Financial_Quarter')\n",
        "\n",
        "# Displays output\n",
        "display(str3)\n",
        "display(stats)\n",
        "display('Our p-value above our significance level, hence the null hypothesis cannot be ruled out.')"
      ],
      "metadata": {
        "colab": {
          "base_uri": "https://localhost:8080/",
          "height": 308
        },
        "id": "8PONuHIkUcOE",
        "outputId": "1ea24bf0-ddee-433e-861e-27b1a716e1ea"
      },
      "execution_count": 80,
      "outputs": [
        {
          "output_type": "display_data",
          "data": {
            "text/plain": [
              "' -  Does the offence type typically vary according to the fiscal quarter?\\n   * Ha: There is a relationship between the financial quarter and the offence type. \\n   * H0: There is no relationship between the offence type and financial quarter.\\n   * Test: Chi-square independence test.'"
            ],
            "application/vnd.google.colaboratory.intrinsic+json": {
              "type": "string"
            }
          },
          "metadata": {}
        },
        {
          "output_type": "display_data",
          "data": {
            "text/plain": [
              "                 test    lambda       chi2   dof      pval    cramer     power\n",
              "0             pearson  1.000000  13.832486  24.0  0.950344  0.008603  0.164969\n",
              "1        cressie-read  0.666667  13.832614  24.0  0.950341  0.008603  0.164970\n",
              "2      log-likelihood  0.000000  13.834504  24.0  0.950300  0.008604  0.164990\n",
              "3       freeman-tukey -0.500000  13.837348  24.0  0.950239  0.008605  0.165021\n",
              "4  mod-log-likelihood -1.000000  13.841413  24.0  0.950151  0.008606  0.165064\n",
              "5              neyman -2.000000  13.853205  24.0  0.949897  0.008610  0.165191"
            ],
            "text/html": [
              "\n",
              "  <div id=\"df-e4ce1539-feb5-4898-bb9e-65257f71ffa1\" class=\"colab-df-container\">\n",
              "    <div>\n",
              "<style scoped>\n",
              "    .dataframe tbody tr th:only-of-type {\n",
              "        vertical-align: middle;\n",
              "    }\n",
              "\n",
              "    .dataframe tbody tr th {\n",
              "        vertical-align: top;\n",
              "    }\n",
              "\n",
              "    .dataframe thead th {\n",
              "        text-align: right;\n",
              "    }\n",
              "</style>\n",
              "<table border=\"1\" class=\"dataframe\">\n",
              "  <thead>\n",
              "    <tr style=\"text-align: right;\">\n",
              "      <th></th>\n",
              "      <th>test</th>\n",
              "      <th>lambda</th>\n",
              "      <th>chi2</th>\n",
              "      <th>dof</th>\n",
              "      <th>pval</th>\n",
              "      <th>cramer</th>\n",
              "      <th>power</th>\n",
              "    </tr>\n",
              "  </thead>\n",
              "  <tbody>\n",
              "    <tr>\n",
              "      <th>0</th>\n",
              "      <td>pearson</td>\n",
              "      <td>1.000000</td>\n",
              "      <td>13.832486</td>\n",
              "      <td>24.0</td>\n",
              "      <td>0.950344</td>\n",
              "      <td>0.008603</td>\n",
              "      <td>0.164969</td>\n",
              "    </tr>\n",
              "    <tr>\n",
              "      <th>1</th>\n",
              "      <td>cressie-read</td>\n",
              "      <td>0.666667</td>\n",
              "      <td>13.832614</td>\n",
              "      <td>24.0</td>\n",
              "      <td>0.950341</td>\n",
              "      <td>0.008603</td>\n",
              "      <td>0.164970</td>\n",
              "    </tr>\n",
              "    <tr>\n",
              "      <th>2</th>\n",
              "      <td>log-likelihood</td>\n",
              "      <td>0.000000</td>\n",
              "      <td>13.834504</td>\n",
              "      <td>24.0</td>\n",
              "      <td>0.950300</td>\n",
              "      <td>0.008604</td>\n",
              "      <td>0.164990</td>\n",
              "    </tr>\n",
              "    <tr>\n",
              "      <th>3</th>\n",
              "      <td>freeman-tukey</td>\n",
              "      <td>-0.500000</td>\n",
              "      <td>13.837348</td>\n",
              "      <td>24.0</td>\n",
              "      <td>0.950239</td>\n",
              "      <td>0.008605</td>\n",
              "      <td>0.165021</td>\n",
              "    </tr>\n",
              "    <tr>\n",
              "      <th>4</th>\n",
              "      <td>mod-log-likelihood</td>\n",
              "      <td>-1.000000</td>\n",
              "      <td>13.841413</td>\n",
              "      <td>24.0</td>\n",
              "      <td>0.950151</td>\n",
              "      <td>0.008606</td>\n",
              "      <td>0.165064</td>\n",
              "    </tr>\n",
              "    <tr>\n",
              "      <th>5</th>\n",
              "      <td>neyman</td>\n",
              "      <td>-2.000000</td>\n",
              "      <td>13.853205</td>\n",
              "      <td>24.0</td>\n",
              "      <td>0.949897</td>\n",
              "      <td>0.008610</td>\n",
              "      <td>0.165191</td>\n",
              "    </tr>\n",
              "  </tbody>\n",
              "</table>\n",
              "</div>\n",
              "    <div class=\"colab-df-buttons\">\n",
              "\n",
              "  <div class=\"colab-df-container\">\n",
              "    <button class=\"colab-df-convert\" onclick=\"convertToInteractive('df-e4ce1539-feb5-4898-bb9e-65257f71ffa1')\"\n",
              "            title=\"Convert this dataframe to an interactive table.\"\n",
              "            style=\"display:none;\">\n",
              "\n",
              "  <svg xmlns=\"http://www.w3.org/2000/svg\" height=\"24px\" viewBox=\"0 -960 960 960\">\n",
              "    <path d=\"M120-120v-720h720v720H120Zm60-500h600v-160H180v160Zm220 220h160v-160H400v160Zm0 220h160v-160H400v160ZM180-400h160v-160H180v160Zm440 0h160v-160H620v160ZM180-180h160v-160H180v160Zm440 0h160v-160H620v160Z\"/>\n",
              "  </svg>\n",
              "    </button>\n",
              "\n",
              "  <style>\n",
              "    .colab-df-container {\n",
              "      display:flex;\n",
              "      gap: 12px;\n",
              "    }\n",
              "\n",
              "    .colab-df-convert {\n",
              "      background-color: #E8F0FE;\n",
              "      border: none;\n",
              "      border-radius: 50%;\n",
              "      cursor: pointer;\n",
              "      display: none;\n",
              "      fill: #1967D2;\n",
              "      height: 32px;\n",
              "      padding: 0 0 0 0;\n",
              "      width: 32px;\n",
              "    }\n",
              "\n",
              "    .colab-df-convert:hover {\n",
              "      background-color: #E2EBFA;\n",
              "      box-shadow: 0px 1px 2px rgba(60, 64, 67, 0.3), 0px 1px 3px 1px rgba(60, 64, 67, 0.15);\n",
              "      fill: #174EA6;\n",
              "    }\n",
              "\n",
              "    .colab-df-buttons div {\n",
              "      margin-bottom: 4px;\n",
              "    }\n",
              "\n",
              "    [theme=dark] .colab-df-convert {\n",
              "      background-color: #3B4455;\n",
              "      fill: #D2E3FC;\n",
              "    }\n",
              "\n",
              "    [theme=dark] .colab-df-convert:hover {\n",
              "      background-color: #434B5C;\n",
              "      box-shadow: 0px 1px 3px 1px rgba(0, 0, 0, 0.15);\n",
              "      filter: drop-shadow(0px 1px 2px rgba(0, 0, 0, 0.3));\n",
              "      fill: #FFFFFF;\n",
              "    }\n",
              "  </style>\n",
              "\n",
              "    <script>\n",
              "      const buttonEl =\n",
              "        document.querySelector('#df-e4ce1539-feb5-4898-bb9e-65257f71ffa1 button.colab-df-convert');\n",
              "      buttonEl.style.display =\n",
              "        google.colab.kernel.accessAllowed ? 'block' : 'none';\n",
              "\n",
              "      async function convertToInteractive(key) {\n",
              "        const element = document.querySelector('#df-e4ce1539-feb5-4898-bb9e-65257f71ffa1');\n",
              "        const dataTable =\n",
              "          await google.colab.kernel.invokeFunction('convertToInteractive',\n",
              "                                                    [key], {});\n",
              "        if (!dataTable) return;\n",
              "\n",
              "        const docLinkHtml = 'Like what you see? Visit the ' +\n",
              "          '<a target=\"_blank\" href=https://colab.research.google.com/notebooks/data_table.ipynb>data table notebook</a>'\n",
              "          + ' to learn more about interactive tables.';\n",
              "        element.innerHTML = '';\n",
              "        dataTable['output_type'] = 'display_data';\n",
              "        await google.colab.output.renderOutput(dataTable, element);\n",
              "        const docLink = document.createElement('div');\n",
              "        docLink.innerHTML = docLinkHtml;\n",
              "        element.appendChild(docLink);\n",
              "      }\n",
              "    </script>\n",
              "  </div>\n",
              "\n",
              "\n",
              "<div id=\"df-5b78e705-0caf-4d39-8318-b694d9849675\">\n",
              "  <button class=\"colab-df-quickchart\" onclick=\"quickchart('df-5b78e705-0caf-4d39-8318-b694d9849675')\"\n",
              "            title=\"Suggest charts\"\n",
              "            style=\"display:none;\">\n",
              "\n",
              "<svg xmlns=\"http://www.w3.org/2000/svg\" height=\"24px\"viewBox=\"0 0 24 24\"\n",
              "     width=\"24px\">\n",
              "    <g>\n",
              "        <path d=\"M19 3H5c-1.1 0-2 .9-2 2v14c0 1.1.9 2 2 2h14c1.1 0 2-.9 2-2V5c0-1.1-.9-2-2-2zM9 17H7v-7h2v7zm4 0h-2V7h2v10zm4 0h-2v-4h2v4z\"/>\n",
              "    </g>\n",
              "</svg>\n",
              "  </button>\n",
              "\n",
              "<style>\n",
              "  .colab-df-quickchart {\n",
              "      --bg-color: #E8F0FE;\n",
              "      --fill-color: #1967D2;\n",
              "      --hover-bg-color: #E2EBFA;\n",
              "      --hover-fill-color: #174EA6;\n",
              "      --disabled-fill-color: #AAA;\n",
              "      --disabled-bg-color: #DDD;\n",
              "  }\n",
              "\n",
              "  [theme=dark] .colab-df-quickchart {\n",
              "      --bg-color: #3B4455;\n",
              "      --fill-color: #D2E3FC;\n",
              "      --hover-bg-color: #434B5C;\n",
              "      --hover-fill-color: #FFFFFF;\n",
              "      --disabled-bg-color: #3B4455;\n",
              "      --disabled-fill-color: #666;\n",
              "  }\n",
              "\n",
              "  .colab-df-quickchart {\n",
              "    background-color: var(--bg-color);\n",
              "    border: none;\n",
              "    border-radius: 50%;\n",
              "    cursor: pointer;\n",
              "    display: none;\n",
              "    fill: var(--fill-color);\n",
              "    height: 32px;\n",
              "    padding: 0;\n",
              "    width: 32px;\n",
              "  }\n",
              "\n",
              "  .colab-df-quickchart:hover {\n",
              "    background-color: var(--hover-bg-color);\n",
              "    box-shadow: 0 1px 2px rgba(60, 64, 67, 0.3), 0 1px 3px 1px rgba(60, 64, 67, 0.15);\n",
              "    fill: var(--button-hover-fill-color);\n",
              "  }\n",
              "\n",
              "  .colab-df-quickchart-complete:disabled,\n",
              "  .colab-df-quickchart-complete:disabled:hover {\n",
              "    background-color: var(--disabled-bg-color);\n",
              "    fill: var(--disabled-fill-color);\n",
              "    box-shadow: none;\n",
              "  }\n",
              "\n",
              "  .colab-df-spinner {\n",
              "    border: 2px solid var(--fill-color);\n",
              "    border-color: transparent;\n",
              "    border-bottom-color: var(--fill-color);\n",
              "    animation:\n",
              "      spin 1s steps(1) infinite;\n",
              "  }\n",
              "\n",
              "  @keyframes spin {\n",
              "    0% {\n",
              "      border-color: transparent;\n",
              "      border-bottom-color: var(--fill-color);\n",
              "      border-left-color: var(--fill-color);\n",
              "    }\n",
              "    20% {\n",
              "      border-color: transparent;\n",
              "      border-left-color: var(--fill-color);\n",
              "      border-top-color: var(--fill-color);\n",
              "    }\n",
              "    30% {\n",
              "      border-color: transparent;\n",
              "      border-left-color: var(--fill-color);\n",
              "      border-top-color: var(--fill-color);\n",
              "      border-right-color: var(--fill-color);\n",
              "    }\n",
              "    40% {\n",
              "      border-color: transparent;\n",
              "      border-right-color: var(--fill-color);\n",
              "      border-top-color: var(--fill-color);\n",
              "    }\n",
              "    60% {\n",
              "      border-color: transparent;\n",
              "      border-right-color: var(--fill-color);\n",
              "    }\n",
              "    80% {\n",
              "      border-color: transparent;\n",
              "      border-right-color: var(--fill-color);\n",
              "      border-bottom-color: var(--fill-color);\n",
              "    }\n",
              "    90% {\n",
              "      border-color: transparent;\n",
              "      border-bottom-color: var(--fill-color);\n",
              "    }\n",
              "  }\n",
              "</style>\n",
              "\n",
              "  <script>\n",
              "    async function quickchart(key) {\n",
              "      const quickchartButtonEl =\n",
              "        document.querySelector('#' + key + ' button');\n",
              "      quickchartButtonEl.disabled = true;  // To prevent multiple clicks.\n",
              "      quickchartButtonEl.classList.add('colab-df-spinner');\n",
              "      try {\n",
              "        const charts = await google.colab.kernel.invokeFunction(\n",
              "            'suggestCharts', [key], {});\n",
              "      } catch (error) {\n",
              "        console.error('Error during call to suggestCharts:', error);\n",
              "      }\n",
              "      quickchartButtonEl.classList.remove('colab-df-spinner');\n",
              "      quickchartButtonEl.classList.add('colab-df-quickchart-complete');\n",
              "    }\n",
              "    (() => {\n",
              "      let quickchartButtonEl =\n",
              "        document.querySelector('#df-5b78e705-0caf-4d39-8318-b694d9849675 button');\n",
              "      quickchartButtonEl.style.display =\n",
              "        google.colab.kernel.accessAllowed ? 'block' : 'none';\n",
              "    })();\n",
              "  </script>\n",
              "</div>\n",
              "    </div>\n",
              "  </div>\n"
            ]
          },
          "metadata": {}
        },
        {
          "output_type": "display_data",
          "data": {
            "text/plain": [
              "'Our p-value above our significance level, hence the null hypothesis cannot be ruled out.'"
            ],
            "application/vnd.google.colaboratory.intrinsic+json": {
              "type": "string"
            }
          },
          "metadata": {}
        }
      ]
    },
    {
      "cell_type": "code",
      "source": [
        "# Theory4\n",
        "str4 = \"\"\"-Do some police force jurisdictions have a higher likelihood of experiencing particular offence groupings or subgroups? Expecially for sexual abuse and fraud\n",
        " * H0: There is no variation in the distribution of offence groupings among police force jurisdictions.\n",
        " * Ha: Different police force jurisdictions have varied distributions of offence groups.\n",
        " * Chi-square test of independence is the test.\"\"\"\n",
        "\n",
        "#  chisquare_test\n",
        "expected, observed, stats = pg.chi2_independence(data=sample_offence, x='New ONS offence group', y='Force_Name')\n",
        "\n",
        "# Displays output\n",
        "display(str4)\n",
        "display(stats)\n",
        "display('Our p-value above our significance level, hence the null hypothesis cannot be ruled out')"
      ],
      "metadata": {
        "colab": {
          "base_uri": "https://localhost:8080/",
          "height": 325
        },
        "id": "A-98H2U5WNCA",
        "outputId": "d2fcc9b5-b397-4fd7-9131-7e083f5ea178"
      },
      "execution_count": 81,
      "outputs": [
        {
          "output_type": "display_data",
          "data": {
            "text/plain": [
              "'-Do some police force jurisdictions have a higher likelihood of experiencing particular offence groupings or subgroups? Expecially for sexual abuse and fraud\\n * H0: There is no variation in the distribution of offence groupings among police force jurisdictions.\\n * Ha: Different police force jurisdictions have varied distributions of offence groups.\\n * Chi-square test of independence is the test.'"
            ],
            "application/vnd.google.colaboratory.intrinsic+json": {
              "type": "string"
            }
          },
          "metadata": {}
        },
        {
          "output_type": "display_data",
          "data": {
            "text/plain": [
              "                 test    lambda        chi2    dof  pval    cramer     power\n",
              "0             pearson  1.000000  157.247343  344.0   1.0  0.017763  0.185597\n",
              "1        cressie-read  0.666667  157.186163  344.0   1.0  0.017759  0.185522\n",
              "2      log-likelihood  0.000000  157.197015  344.0   1.0  0.017760  0.185535\n",
              "3       freeman-tukey -0.500000  157.322477  344.0   1.0  0.017767  0.185690\n",
              "4  mod-log-likelihood -1.000000  157.549737  344.0   1.0  0.017780  0.185969\n",
              "5              neyman -2.000000  158.316712  344.0   1.0  0.017823  0.186915"
            ],
            "text/html": [
              "\n",
              "  <div id=\"df-8c2c2113-ba03-49d8-a95f-aef7a1421288\" class=\"colab-df-container\">\n",
              "    <div>\n",
              "<style scoped>\n",
              "    .dataframe tbody tr th:only-of-type {\n",
              "        vertical-align: middle;\n",
              "    }\n",
              "\n",
              "    .dataframe tbody tr th {\n",
              "        vertical-align: top;\n",
              "    }\n",
              "\n",
              "    .dataframe thead th {\n",
              "        text-align: right;\n",
              "    }\n",
              "</style>\n",
              "<table border=\"1\" class=\"dataframe\">\n",
              "  <thead>\n",
              "    <tr style=\"text-align: right;\">\n",
              "      <th></th>\n",
              "      <th>test</th>\n",
              "      <th>lambda</th>\n",
              "      <th>chi2</th>\n",
              "      <th>dof</th>\n",
              "      <th>pval</th>\n",
              "      <th>cramer</th>\n",
              "      <th>power</th>\n",
              "    </tr>\n",
              "  </thead>\n",
              "  <tbody>\n",
              "    <tr>\n",
              "      <th>0</th>\n",
              "      <td>pearson</td>\n",
              "      <td>1.000000</td>\n",
              "      <td>157.247343</td>\n",
              "      <td>344.0</td>\n",
              "      <td>1.0</td>\n",
              "      <td>0.017763</td>\n",
              "      <td>0.185597</td>\n",
              "    </tr>\n",
              "    <tr>\n",
              "      <th>1</th>\n",
              "      <td>cressie-read</td>\n",
              "      <td>0.666667</td>\n",
              "      <td>157.186163</td>\n",
              "      <td>344.0</td>\n",
              "      <td>1.0</td>\n",
              "      <td>0.017759</td>\n",
              "      <td>0.185522</td>\n",
              "    </tr>\n",
              "    <tr>\n",
              "      <th>2</th>\n",
              "      <td>log-likelihood</td>\n",
              "      <td>0.000000</td>\n",
              "      <td>157.197015</td>\n",
              "      <td>344.0</td>\n",
              "      <td>1.0</td>\n",
              "      <td>0.017760</td>\n",
              "      <td>0.185535</td>\n",
              "    </tr>\n",
              "    <tr>\n",
              "      <th>3</th>\n",
              "      <td>freeman-tukey</td>\n",
              "      <td>-0.500000</td>\n",
              "      <td>157.322477</td>\n",
              "      <td>344.0</td>\n",
              "      <td>1.0</td>\n",
              "      <td>0.017767</td>\n",
              "      <td>0.185690</td>\n",
              "    </tr>\n",
              "    <tr>\n",
              "      <th>4</th>\n",
              "      <td>mod-log-likelihood</td>\n",
              "      <td>-1.000000</td>\n",
              "      <td>157.549737</td>\n",
              "      <td>344.0</td>\n",
              "      <td>1.0</td>\n",
              "      <td>0.017780</td>\n",
              "      <td>0.185969</td>\n",
              "    </tr>\n",
              "    <tr>\n",
              "      <th>5</th>\n",
              "      <td>neyman</td>\n",
              "      <td>-2.000000</td>\n",
              "      <td>158.316712</td>\n",
              "      <td>344.0</td>\n",
              "      <td>1.0</td>\n",
              "      <td>0.017823</td>\n",
              "      <td>0.186915</td>\n",
              "    </tr>\n",
              "  </tbody>\n",
              "</table>\n",
              "</div>\n",
              "    <div class=\"colab-df-buttons\">\n",
              "\n",
              "  <div class=\"colab-df-container\">\n",
              "    <button class=\"colab-df-convert\" onclick=\"convertToInteractive('df-8c2c2113-ba03-49d8-a95f-aef7a1421288')\"\n",
              "            title=\"Convert this dataframe to an interactive table.\"\n",
              "            style=\"display:none;\">\n",
              "\n",
              "  <svg xmlns=\"http://www.w3.org/2000/svg\" height=\"24px\" viewBox=\"0 -960 960 960\">\n",
              "    <path d=\"M120-120v-720h720v720H120Zm60-500h600v-160H180v160Zm220 220h160v-160H400v160Zm0 220h160v-160H400v160ZM180-400h160v-160H180v160Zm440 0h160v-160H620v160ZM180-180h160v-160H180v160Zm440 0h160v-160H620v160Z\"/>\n",
              "  </svg>\n",
              "    </button>\n",
              "\n",
              "  <style>\n",
              "    .colab-df-container {\n",
              "      display:flex;\n",
              "      gap: 12px;\n",
              "    }\n",
              "\n",
              "    .colab-df-convert {\n",
              "      background-color: #E8F0FE;\n",
              "      border: none;\n",
              "      border-radius: 50%;\n",
              "      cursor: pointer;\n",
              "      display: none;\n",
              "      fill: #1967D2;\n",
              "      height: 32px;\n",
              "      padding: 0 0 0 0;\n",
              "      width: 32px;\n",
              "    }\n",
              "\n",
              "    .colab-df-convert:hover {\n",
              "      background-color: #E2EBFA;\n",
              "      box-shadow: 0px 1px 2px rgba(60, 64, 67, 0.3), 0px 1px 3px 1px rgba(60, 64, 67, 0.15);\n",
              "      fill: #174EA6;\n",
              "    }\n",
              "\n",
              "    .colab-df-buttons div {\n",
              "      margin-bottom: 4px;\n",
              "    }\n",
              "\n",
              "    [theme=dark] .colab-df-convert {\n",
              "      background-color: #3B4455;\n",
              "      fill: #D2E3FC;\n",
              "    }\n",
              "\n",
              "    [theme=dark] .colab-df-convert:hover {\n",
              "      background-color: #434B5C;\n",
              "      box-shadow: 0px 1px 3px 1px rgba(0, 0, 0, 0.15);\n",
              "      filter: drop-shadow(0px 1px 2px rgba(0, 0, 0, 0.3));\n",
              "      fill: #FFFFFF;\n",
              "    }\n",
              "  </style>\n",
              "\n",
              "    <script>\n",
              "      const buttonEl =\n",
              "        document.querySelector('#df-8c2c2113-ba03-49d8-a95f-aef7a1421288 button.colab-df-convert');\n",
              "      buttonEl.style.display =\n",
              "        google.colab.kernel.accessAllowed ? 'block' : 'none';\n",
              "\n",
              "      async function convertToInteractive(key) {\n",
              "        const element = document.querySelector('#df-8c2c2113-ba03-49d8-a95f-aef7a1421288');\n",
              "        const dataTable =\n",
              "          await google.colab.kernel.invokeFunction('convertToInteractive',\n",
              "                                                    [key], {});\n",
              "        if (!dataTable) return;\n",
              "\n",
              "        const docLinkHtml = 'Like what you see? Visit the ' +\n",
              "          '<a target=\"_blank\" href=https://colab.research.google.com/notebooks/data_table.ipynb>data table notebook</a>'\n",
              "          + ' to learn more about interactive tables.';\n",
              "        element.innerHTML = '';\n",
              "        dataTable['output_type'] = 'display_data';\n",
              "        await google.colab.output.renderOutput(dataTable, element);\n",
              "        const docLink = document.createElement('div');\n",
              "        docLink.innerHTML = docLinkHtml;\n",
              "        element.appendChild(docLink);\n",
              "      }\n",
              "    </script>\n",
              "  </div>\n",
              "\n",
              "\n",
              "<div id=\"df-2a4a1f5e-ef27-4e4a-bb31-11ef01c6cc3d\">\n",
              "  <button class=\"colab-df-quickchart\" onclick=\"quickchart('df-2a4a1f5e-ef27-4e4a-bb31-11ef01c6cc3d')\"\n",
              "            title=\"Suggest charts\"\n",
              "            style=\"display:none;\">\n",
              "\n",
              "<svg xmlns=\"http://www.w3.org/2000/svg\" height=\"24px\"viewBox=\"0 0 24 24\"\n",
              "     width=\"24px\">\n",
              "    <g>\n",
              "        <path d=\"M19 3H5c-1.1 0-2 .9-2 2v14c0 1.1.9 2 2 2h14c1.1 0 2-.9 2-2V5c0-1.1-.9-2-2-2zM9 17H7v-7h2v7zm4 0h-2V7h2v10zm4 0h-2v-4h2v4z\"/>\n",
              "    </g>\n",
              "</svg>\n",
              "  </button>\n",
              "\n",
              "<style>\n",
              "  .colab-df-quickchart {\n",
              "      --bg-color: #E8F0FE;\n",
              "      --fill-color: #1967D2;\n",
              "      --hover-bg-color: #E2EBFA;\n",
              "      --hover-fill-color: #174EA6;\n",
              "      --disabled-fill-color: #AAA;\n",
              "      --disabled-bg-color: #DDD;\n",
              "  }\n",
              "\n",
              "  [theme=dark] .colab-df-quickchart {\n",
              "      --bg-color: #3B4455;\n",
              "      --fill-color: #D2E3FC;\n",
              "      --hover-bg-color: #434B5C;\n",
              "      --hover-fill-color: #FFFFFF;\n",
              "      --disabled-bg-color: #3B4455;\n",
              "      --disabled-fill-color: #666;\n",
              "  }\n",
              "\n",
              "  .colab-df-quickchart {\n",
              "    background-color: var(--bg-color);\n",
              "    border: none;\n",
              "    border-radius: 50%;\n",
              "    cursor: pointer;\n",
              "    display: none;\n",
              "    fill: var(--fill-color);\n",
              "    height: 32px;\n",
              "    padding: 0;\n",
              "    width: 32px;\n",
              "  }\n",
              "\n",
              "  .colab-df-quickchart:hover {\n",
              "    background-color: var(--hover-bg-color);\n",
              "    box-shadow: 0 1px 2px rgba(60, 64, 67, 0.3), 0 1px 3px 1px rgba(60, 64, 67, 0.15);\n",
              "    fill: var(--button-hover-fill-color);\n",
              "  }\n",
              "\n",
              "  .colab-df-quickchart-complete:disabled,\n",
              "  .colab-df-quickchart-complete:disabled:hover {\n",
              "    background-color: var(--disabled-bg-color);\n",
              "    fill: var(--disabled-fill-color);\n",
              "    box-shadow: none;\n",
              "  }\n",
              "\n",
              "  .colab-df-spinner {\n",
              "    border: 2px solid var(--fill-color);\n",
              "    border-color: transparent;\n",
              "    border-bottom-color: var(--fill-color);\n",
              "    animation:\n",
              "      spin 1s steps(1) infinite;\n",
              "  }\n",
              "\n",
              "  @keyframes spin {\n",
              "    0% {\n",
              "      border-color: transparent;\n",
              "      border-bottom-color: var(--fill-color);\n",
              "      border-left-color: var(--fill-color);\n",
              "    }\n",
              "    20% {\n",
              "      border-color: transparent;\n",
              "      border-left-color: var(--fill-color);\n",
              "      border-top-color: var(--fill-color);\n",
              "    }\n",
              "    30% {\n",
              "      border-color: transparent;\n",
              "      border-left-color: var(--fill-color);\n",
              "      border-top-color: var(--fill-color);\n",
              "      border-right-color: var(--fill-color);\n",
              "    }\n",
              "    40% {\n",
              "      border-color: transparent;\n",
              "      border-right-color: var(--fill-color);\n",
              "      border-top-color: var(--fill-color);\n",
              "    }\n",
              "    60% {\n",
              "      border-color: transparent;\n",
              "      border-right-color: var(--fill-color);\n",
              "    }\n",
              "    80% {\n",
              "      border-color: transparent;\n",
              "      border-right-color: var(--fill-color);\n",
              "      border-bottom-color: var(--fill-color);\n",
              "    }\n",
              "    90% {\n",
              "      border-color: transparent;\n",
              "      border-bottom-color: var(--fill-color);\n",
              "    }\n",
              "  }\n",
              "</style>\n",
              "\n",
              "  <script>\n",
              "    async function quickchart(key) {\n",
              "      const quickchartButtonEl =\n",
              "        document.querySelector('#' + key + ' button');\n",
              "      quickchartButtonEl.disabled = true;  // To prevent multiple clicks.\n",
              "      quickchartButtonEl.classList.add('colab-df-spinner');\n",
              "      try {\n",
              "        const charts = await google.colab.kernel.invokeFunction(\n",
              "            'suggestCharts', [key], {});\n",
              "      } catch (error) {\n",
              "        console.error('Error during call to suggestCharts:', error);\n",
              "      }\n",
              "      quickchartButtonEl.classList.remove('colab-df-spinner');\n",
              "      quickchartButtonEl.classList.add('colab-df-quickchart-complete');\n",
              "    }\n",
              "    (() => {\n",
              "      let quickchartButtonEl =\n",
              "        document.querySelector('#df-2a4a1f5e-ef27-4e4a-bb31-11ef01c6cc3d button');\n",
              "      quickchartButtonEl.style.display =\n",
              "        google.colab.kernel.accessAllowed ? 'block' : 'none';\n",
              "    })();\n",
              "  </script>\n",
              "</div>\n",
              "    </div>\n",
              "  </div>\n"
            ]
          },
          "metadata": {}
        },
        {
          "output_type": "display_data",
          "data": {
            "text/plain": [
              "'Our p-value above our significance level, hence the null hypothesis cannot be ruled out'"
            ],
            "application/vnd.google.colaboratory.intrinsic+json": {
              "type": "string"
            }
          },
          "metadata": {}
        }
      ]
    },
    {
      "cell_type": "code",
      "source": [
        "# @title Data Visualization Using Python\n",
        "#\n",
        "#\n",
        "# Import the libraries\n",
        "import seaborn as sns\n",
        "import numpy as np\n",
        "import matplotlib.pyplot as plt"
      ],
      "metadata": {
        "id": "u05s13eoXgX0"
      },
      "execution_count": 83,
      "outputs": []
    },
    {
      "cell_type": "code",
      "source": [
        "# @title Plot Graph\n",
        "# 6 years targete columns from dataframe\n",
        "crm = offence_final.select('Financial_Year', 'Number_of_Offences').sample(False, 0.50, 42).toPandas()\n",
        "\n",
        "# Scatter plot to check for relationship between Financial year and Number of Offences\n",
        "sns.scatterplot(data=crm, x='Financial_Year', y='Number_of_Offences').set(xlabel='Financial Year',\n",
        "                                                                                    ylabel='Number of Offences',\n",
        "                                                                          xticks=[2018, 2019, 2020, 2021, 2022, 2023])\n",
        "\n",
        "# Show plot\n",
        "plt.show()"
      ],
      "metadata": {
        "colab": {
          "base_uri": "https://localhost:8080/",
          "height": 453
        },
        "id": "j0STdJnkYNaq",
        "outputId": "71449d6b-b55c-4db0-f2fa-7ad34308d858"
      },
      "execution_count": 85,
      "outputs": [
        {
          "output_type": "display_data",
          "data": {
            "text/plain": [
              "<Figure size 640x480 with 1 Axes>"
            ],
            "image/png": "[encoded data removed]"
          },
          "metadata": {}
        }
      ]
    },
    {
      "cell_type": "code",
      "source": [
        "# Extract sammple and converts to pandas\n",
        "num_off_hst = offence_final.select('Number_of_Offences').sample(False, 0.50, 42).toPandas()\n",
        "# Plot Distribution\n",
        "num_off_hst.plot(kind='hist', bins=80)\n",
        "plt.title('Distribution of Number of Offences')\n",
        "plt.xlim(0, 3500)\n",
        "plt.legend('')\n",
        "plt.xlabel('Number of offences')"
      ],
      "metadata": {
        "colab": {
          "base_uri": "https://localhost:8080/",
          "height": 494
        },
        "id": "vpsyN2WcZkQM",
        "outputId": "6d469cf9-20f4-4e62-fba2-6d356a1e72d9"
      },
      "execution_count": 86,
      "outputs": [
        {
          "output_type": "execute_result",
          "data": {
            "text/plain": [
              "Text(0.5, 0, 'Number of offences')"
            ]
          },
          "metadata": {},
          "execution_count": 86
        },
        {
          "output_type": "display_data",
          "data": {
            "text/plain": [
              "<Figure size 640x480 with 1 Axes>"
            ],
            "image/png": "[encoded data removed]"
          },
          "metadata": {}
        }
      ]
    },
    {
      "cell_type": "code",
      "source": [
        "# Set the figure size for plot\n",
        "fig, ax = plt.subplots(1, 2, figsize=(14, 6))\n",
        "\n",
        "# Group data by financial year and find the sum of each year\n",
        "trends_1 = offence_final.groupBy('Financial_Year').sum('Number_of_Offences').toPandas()\n",
        "\n",
        "# Group data by financial quarter and find the sum of each offences\n",
        "trends_2 = offence_final.groupBy('Financial_Quarter').sum('Number_of_Offences').toPandas()\n",
        "\n",
        "# Plot Trends_1\n",
        "sns.lineplot(data=trends_1,  x='Financial_Year', y='sum(Number_of_Offences)',\n",
        "                                                                                    ax=ax[0]).set(title='Financial Year vs Sum of Number of offences',\n",
        "                                                                                    xlabel='Financial Year',\n",
        "                                                                                    ylabel='Sum of Number of Offences(thousands)',\n",
        "                                                                                    xticks=[2018, 2019, 2020, 2021, 2022, 2023])\n",
        "# Plot  Trends_2\n",
        "sns.lineplot(data=trends_2,  x='Financial_Quarter', y='sum(Number_of_Offences)',\n",
        "                                                                                    ax=ax[1]).set(title='Financial Year vs Sum of Number of offences',\n",
        "                                                                                    xlabel='Financial Quarter',\n",
        "                                                                                    ylabel='Sum of Number of Offences(thousands)',\n",
        "                                                                                    xticks=[1, 2, 3, 4],)\n",
        "# Show plot\n",
        "plt.show()"
      ],
      "metadata": {
        "colab": {
          "base_uri": "https://localhost:8080/",
          "height": 440
        },
        "id": "1H-XJOUfZ9SE",
        "outputId": "afdf5ef9-327e-4209-cac9-5dae84df1c2e"
      },
      "execution_count": 88,
      "outputs": [
        {
          "output_type": "display_data",
          "data": {
            "text/plain": [
              "<Figure size 1400x600 with 2 Axes>"
            ],
            "image/png": "[encoded data removed]"
          },
          "metadata": {}
        }
      ]
    },
    {
      "cell_type": "code",
      "source": [
        "# Set the figure size for plot\n",
        "fig, ax = plt.subplots(1, 2, figsize=(14, 6))\n",
        "\n",
        "# Plot Barplot of Financial year vs number of offences\n",
        "sns.barplot(data=trends_1,  x='Financial_Year', y='sum(Number_of_Offences)',\n",
        "                                                                                    ax=ax[0]).set(title='Financial Year vs Sum of Number of offences',\n",
        "                                                                                    xlabel='Financial Year',\n",
        "                                                                                    ylabel='Sum of Number of Offences(thousands)')\n",
        "\n",
        "# Plot Barplot of Financial quarter vs number of offences\n",
        "sns.barplot(data=trends_2,  x='Financial_Quarter', y='sum(Number_of_Offences)',\n",
        "                                                                                    ax=ax[1]).set(title='Financial Year vs Sum of Number of offences',\n",
        "                                                                                    xlabel='Financial Quarter',\n",
        "                                                                                    ylabel='Sum of Number of Offences(thousands)')\n",
        "\n",
        "# Show plot\n",
        "plt.show()"
      ],
      "metadata": {
        "colab": {
          "base_uri": "https://localhost:8080/",
          "height": 440
        },
        "id": "8iU7rL1WaRNw",
        "outputId": "a9afeffa-7957-47a0-8df5-d478346e7621"
      },
      "execution_count": 89,
      "outputs": [
        {
          "output_type": "display_data",
          "data": {
            "text/plain": [
              "<Figure size 1400x600 with 2 Axes>"
            ],
            "image/png": "[encoded data removed]"
          },
          "metadata": {}
        }
      ]
    },
    {
      "cell_type": "code",
      "source": [
        "sns.scatterplot(data=trends_1,  x='Financial_Year', y='sum(Number_of_Offences)', ax=ax[1]).set(title='Financial Year vs Sum of Number of offences',\n",
        "                                                                                    xlabel='Financial Year',\n",
        "                                                                                    ylabel='Sum of Number of Offences(thousands)',\n",
        "                                                                                    xticks=[1, 2, 3, 4], )\n",
        "plt.show()"
      ],
      "metadata": {
        "id": "XhtEsaXxaba-"
      },
      "execution_count": 90,
      "outputs": []
    },
    {
      "cell_type": "code",
      "source": [
        "# @title Machine Learning Modelling\n",
        "# Classification of Offences:\n",
        "#\n",
        "# What is the possibility to accurately categorise offences into distinct groups according to their characteristics?\n",
        "# As well decision tree and rainforest classifiers can be used to create multiclass predictions, this are deployed for machine algorithms employed.\n",
        "#\n",
        "#"
      ],
      "metadata": {
        "id": "xp15jbTPaxjG"
      },
      "execution_count": 91,
      "outputs": []
    },
    {
      "cell_type": "code",
      "source": [
        "# Features variable X_a and _X_b\n",
        "# Features variable X_a and X_b\n",
        "X_a = offence_final.select('Financial_Year', 'Financial_Quarter', 'Number_of_Offences').toPandas()\n",
        "X_b = offence_final.select('Offence_Code', 'Force_Name').toPandas()\n",
        "\n",
        "# target variable\n",
        "y = offence_final.select('New ONS offence group').toPandas()"
      ],
      "metadata": {
        "id": "kcvR371Wb4N4"
      },
      "execution_count": 122,
      "outputs": []
    },
    {
      "cell_type": "code",
      "source": [
        "# Label encoding for Y\n",
        "encoder = {\n",
        "    'Sexual offences': 0,\n",
        "    'Miscellaneous crimes against society': 1,\n",
        "    'Violence against the person':  2,\n",
        "    'Criminal damage and arson': 3,\n",
        "    'Theft offences': 4,\n",
        "    'Possession of weapons offences':5,\n",
        "    'Drug offences': 6,\n",
        "    'Robbery': 7,\n",
        "    'Public order offences': 8\n",
        "}\n",
        "\n",
        "# Encode values into y\n",
        "y = y.replace(encoder)"
      ],
      "metadata": {
        "id": "SijGMXL9cCF3"
      },
      "execution_count": 123,
      "outputs": []
    },
    {
      "cell_type": "code",
      "source": [
        "from sklearn.preprocessing import OrdinalEncoder\n",
        "\n",
        "# Initialize one hot encoder\n",
        "ord = OrdinalEncoder()\n",
        "X_b_ohe = ord.fit_transform(X_b)"
      ],
      "metadata": {
        "id": "CR4thSN8cGTf"
      },
      "execution_count": 124,
      "outputs": []
    },
    {
      "cell_type": "code",
      "source": [
        "# X_b_ohe is a NumPy array resulting from OrdinalEncoder\n",
        "X_b_ohe_df = pd.DataFrame(X_b_ohe, columns=X_b.columns)  # Convert back to a Pandas DataFrame\n",
        "\n",
        "# Concatenate DataFrames\n",
        "X = pd.concat([X_a, X_b_ohe_df], axis=1)"
      ],
      "metadata": {
        "id": "oWZe70c3cIxe"
      },
      "execution_count": 125,
      "outputs": []
    },
    {
      "cell_type": "code",
      "source": [
        "# Split into train/test samples\n",
        "X_train, X_test, y_train, y_test = train_test_split(X, y, random_state=42, test_size=0.2)"
      ],
      "metadata": {
        "id": "-IblcFwKcMR2"
      },
      "execution_count": 126,
      "outputs": []
    },
    {
      "cell_type": "code",
      "source": [
        "X_train.shape, X_test.shape, y_train.shape, y_test.shape"
      ],
      "metadata": {
        "colab": {
          "base_uri": "https://localhost:8080/"
        },
        "id": "M4qTuTOecPoD",
        "outputId": "efd529a8-29b9-4803-fb65-df86b41fd403"
      },
      "execution_count": 127,
      "outputs": [
        {
          "output_type": "execute_result",
          "data": {
            "text/plain": [
              "((99354, 5), (24839, 5), (99354, 1), (24839, 1))"
            ]
          },
          "metadata": {},
          "execution_count": 127
        }
      ]
    },
    {
      "cell_type": "code",
      "source": [
        "print(X_train.shape)"
      ],
      "metadata": {
        "colab": {
          "base_uri": "https://localhost:8080/"
        },
        "id": "7VvBdSpOcTwv",
        "outputId": "552b2756-864a-4627-ab30-92309658b883"
      },
      "execution_count": 128,
      "outputs": [
        {
          "output_type": "stream",
          "name": "stdout",
          "text": [
            "(99354, 5)\n"
          ]
        }
      ]
    },
    {
      "cell_type": "code",
      "source": [
        "print(X_train.head())"
      ],
      "metadata": {
        "colab": {
          "base_uri": "https://localhost:8080/"
        },
        "id": "SzXmps62cYQp",
        "outputId": "21ce11f0-a310-4dc2-c17e-e67746fd847b"
      },
      "execution_count": 129,
      "outputs": [
        {
          "output_type": "stream",
          "name": "stdout",
          "text": [
            "       Financial_Year  Financial_Quarter  Number_of_Offences  Offence_Code  \\\n",
            "86147            2022                  1                   1         108.0   \n",
            "19448            2021                  1                  20          18.0   \n",
            "18207            2019                  1                  42          64.0   \n",
            "99176            2022                  4                  28          69.0   \n",
            "90872            2021                  4                  18           0.0   \n",
            "\n",
            "       Force_Name  \n",
            "86147        10.0  \n",
            "19448        12.0  \n",
            "18207        38.0  \n",
            "99176        13.0  \n",
            "90872        27.0  \n"
          ]
        }
      ]
    },
    {
      "cell_type": "code",
      "source": [
        "import numpy as np\n",
        "\n",
        "# Check for NaN values in y_train\n",
        "nan_indices = np.isnan(y_train)\n",
        "nan_count = np.sum(nan_indices)\n",
        "\n",
        "if nan_indices.any().item():\n",
        "    print(f'Target variable y_train contains NaN values.')"
      ],
      "metadata": {
        "colab": {
          "base_uri": "https://localhost:8080/"
        },
        "id": "YVDOc1pHccUx",
        "outputId": "e6319c4b-237c-4386-a9d8-e6c59a231b0f"
      },
      "execution_count": 130,
      "outputs": [
        {
          "output_type": "stream",
          "name": "stdout",
          "text": [
            "Target variable y_train contains NaN values.\n"
          ]
        }
      ]
    },
    {
      "cell_type": "code",
      "source": [
        "print(X_train.shape)"
      ],
      "metadata": {
        "colab": {
          "base_uri": "https://localhost:8080/"
        },
        "id": "167au2xpcgRu",
        "outputId": "13b323a2-a526-4d56-f71c-72fc5eaf57f9"
      },
      "execution_count": 131,
      "outputs": [
        {
          "output_type": "stream",
          "name": "stdout",
          "text": [
            "(99354, 5)\n"
          ]
        }
      ]
    },
    {
      "cell_type": "code",
      "source": [
        "print(X_train.head())"
      ],
      "metadata": {
        "colab": {
          "base_uri": "https://localhost:8080/"
        },
        "id": "OTpScKyrckPA",
        "outputId": "874c368d-b2a0-4290-b1f8-3d471a271575"
      },
      "execution_count": 132,
      "outputs": [
        {
          "output_type": "stream",
          "name": "stdout",
          "text": [
            "       Financial_Year  Financial_Quarter  Number_of_Offences  Offence_Code  \\\n",
            "86147            2022                  1                   1         108.0   \n",
            "19448            2021                  1                  20          18.0   \n",
            "18207            2019                  1                  42          64.0   \n",
            "99176            2022                  4                  28          69.0   \n",
            "90872            2021                  4                  18           0.0   \n",
            "\n",
            "       Force_Name  \n",
            "86147        10.0  \n",
            "19448        12.0  \n",
            "18207        38.0  \n",
            "99176        13.0  \n",
            "90872        27.0  \n"
          ]
        }
      ]
    },
    {
      "cell_type": "code",
      "source": [
        "# Check for NaN values in X_train\n",
        "nan_indices = np.isnan(X_train)\n",
        "nan_count = np.sum(nan_indices)\n",
        "if nan_indices.any().any():\n",
        "    print(f'Input features X_train contain NaN values.')"
      ],
      "metadata": {
        "id": "jEykVRs7cniW"
      },
      "execution_count": 133,
      "outputs": []
    },
    {
      "cell_type": "code",
      "source": [
        "X_train = X_train.fillna(X_train.mean())"
      ],
      "metadata": {
        "id": "M1HmYD8XcsRb"
      },
      "execution_count": 134,
      "outputs": []
    },
    {
      "cell_type": "code",
      "source": [
        "print(X_train.shape)"
      ],
      "metadata": {
        "colab": {
          "base_uri": "https://localhost:8080/"
        },
        "id": "oAfcfWiZc0Qz",
        "outputId": "96b1f5b0-8013-4a8c-b4ae-e3b86a638c02"
      },
      "execution_count": 135,
      "outputs": [
        {
          "output_type": "stream",
          "name": "stdout",
          "text": [
            "(99354, 5)\n"
          ]
        }
      ]
    },
    {
      "cell_type": "code",
      "source": [
        "from sklearn.experimental import enable_iterative_imputer\n",
        "from sklearn.impute import IterativeImputer\n",
        "imp = IterativeImputer()\n",
        "X_train = imp.fit_transform(X_train)\n",
        "X_test = imp.transform(X_test)"
      ],
      "metadata": {
        "id": "QTP6dW5Zc3j6"
      },
      "execution_count": 136,
      "outputs": []
    },
    {
      "cell_type": "code",
      "source": [
        "from sklearn.experimental import enable_iterative_imputer\n",
        "from sklearn.impute import IterativeImputer\n",
        "imp = IterativeImputer()\n",
        "y_train = imp.fit_transform(y_train)\n",
        "y_test = imp.transform(y_test)"
      ],
      "metadata": {
        "id": "lR-L0SIGc7QL"
      },
      "execution_count": 137,
      "outputs": []
    },
    {
      "cell_type": "code",
      "source": [
        "print(X_train.shape)"
      ],
      "metadata": {
        "colab": {
          "base_uri": "https://localhost:8080/"
        },
        "id": "SP2rkWrOc_h8",
        "outputId": "94ccae3b-fe93-488f-ab17-a0abecc8631f"
      },
      "execution_count": 138,
      "outputs": [
        {
          "output_type": "stream",
          "name": "stdout",
          "text": [
            "(99354, 5)\n"
          ]
        }
      ]
    },
    {
      "cell_type": "code",
      "source": [
        "print(y_train.shape)"
      ],
      "metadata": {
        "colab": {
          "base_uri": "https://localhost:8080/"
        },
        "id": "v6q_1yRxdDIf",
        "outputId": "ac87d86b-9221-4f8c-dcae-9120467e4317"
      },
      "execution_count": 139,
      "outputs": [
        {
          "output_type": "stream",
          "name": "stdout",
          "text": [
            "(99354, 1)\n"
          ]
        }
      ]
    },
    {
      "cell_type": "code",
      "source": [
        "from sklearn.experimental import enable_iterative_imputer\n",
        "from sklearn.impute import IterativeImputer\n",
        "imp = IterativeImputer()\n",
        "X_train = imp.fit_transform(X_train)\n",
        "X_test = imp.transform(X_test)"
      ],
      "metadata": {
        "id": "qcc6Q9TCdIIM"
      },
      "execution_count": 140,
      "outputs": []
    },
    {
      "cell_type": "code",
      "source": [
        "from sklearn.experimental import enable_iterative_imputer\n",
        "from sklearn.impute import IterativeImputer\n",
        "imp = IterativeImputer()\n",
        "y_train = imp.fit_transform(y_train)\n",
        "y_test = imp.transform(y_test)"
      ],
      "metadata": {
        "id": "qwxMG3DsdMEx"
      },
      "execution_count": 141,
      "outputs": []
    },
    {
      "cell_type": "code",
      "source": [
        "# Create Instance\n",
        "tree = DecisionTreeClassifier(max_depth=10, random_state=42)"
      ],
      "metadata": {
        "id": "seYUCPinehpl"
      },
      "execution_count": 142,
      "outputs": []
    },
    {
      "cell_type": "code",
      "source": [
        "print(X_train.shape)"
      ],
      "metadata": {
        "colab": {
          "base_uri": "https://localhost:8080/"
        },
        "id": "MW8W2K3PeivB",
        "outputId": "f243f064-ddb9-4d07-8432-f10551593356"
      },
      "execution_count": 143,
      "outputs": [
        {
          "output_type": "stream",
          "name": "stdout",
          "text": [
            "(99354, 5)\n"
          ]
        }
      ]
    },
    {
      "cell_type": "code",
      "source": [
        "y = y.squeeze()"
      ],
      "metadata": {
        "id": "2Ntl1ZV0emMW"
      },
      "execution_count": 144,
      "outputs": []
    },
    {
      "cell_type": "code",
      "source": [
        "from sklearn.preprocessing import LabelEncoder\n",
        "\n",
        "# Assuming y_train is your target variable\n",
        "le = LabelEncoder()\n",
        "y_train_encoded = le.fit_transform(y_train)\n",
        "y_test_encoded = le.fit_transform(y_test)"
      ],
      "metadata": {
        "id": "62CBi24Hfswk"
      },
      "execution_count": 150,
      "outputs": []
    },
    {
      "cell_type": "code",
      "source": [
        "# Fit to training data\n",
        "tree.fit(X_train, y_train)\n",
        "from sklearn.preprocessing import LabelEncoder\n",
        "le = LabelEncoder()\n",
        "y_train = le.fit_transform(y_train)\n",
        "y_test = le.transform(y_test)"
      ],
      "metadata": {
        "id": "Ap-onyD3gqjO"
      },
      "execution_count": 151,
      "outputs": []
    },
    {
      "cell_type": "code",
      "source": [
        "# Evaluate model\n",
        "y_pred = tree.predict(X_test)\n",
        "accuracy = accuracy_score(y_test, y_pred)\n",
        "\n",
        "print(f'The model made using Decision Tree Classifier has an accuracy of : {accuracy*100}%')"
      ],
      "metadata": {
        "colab": {
          "base_uri": "https://localhost:8080/"
        },
        "id": "bUTMsmOGetXF",
        "outputId": "15619e67-f39c-4d44-c6fd-97fafcd3f9e5"
      },
      "execution_count": 152,
      "outputs": [
        {
          "output_type": "stream",
          "name": "stdout",
          "text": [
            "The model made using Decision Tree Classifier has an accuracy of : 99.90740367969725%\n"
          ]
        }
      ]
    },
    {
      "cell_type": "code",
      "source": [
        "# Further evalaution to check for overfitting\n",
        "y_train_pred = tree.predict(X_train)\n",
        "accuracy_sc = accuracy_score(y_train, y_train_pred)\n",
        "\n",
        "print(f'The model made using Decision Tree Classifier has an accuracy of : {accuracy_sc*100}%')\n",
        "print('This shows that our model is not overfitting on the training data')"
      ],
      "metadata": {
        "colab": {
          "base_uri": "https://localhost:8080/"
        },
        "id": "rUY6zHxPfPGS",
        "outputId": "e4bae5cc-ec44-4ed8-daf3-b912a496d41f"
      },
      "execution_count": 153,
      "outputs": [
        {
          "output_type": "stream",
          "name": "stdout",
          "text": [
            "The model made using Decision Tree Classifier has an accuracy of : 99.92853835779133%\n",
            "This shows that our model is not overfitting on the training data\n"
          ]
        }
      ]
    },
    {
      "cell_type": "code",
      "source": [
        "# save model\n",
        "import pickle\n",
        "with open('model.pkl', 'wb') as file:\n",
        "  pickle.dump(tree, file)"
      ],
      "metadata": {
        "id": "uZQlqv_YfS9Z"
      },
      "execution_count": 155,
      "outputs": []
    }
  ]
}