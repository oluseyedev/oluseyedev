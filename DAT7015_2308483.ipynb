{
  "nbformat": 4,
  "nbformat_minor": 0,
  "metadata": {
    "colab": {
      "provenance": [],
      "mount_file_id": "1IyROZibnephcYf_KzU9z3oTw9KkwO4y1",
      "authorship_tag": "ABX9TyMMnEXrZn2eIF4duglEA3b9",
      "include_colab_link": true
    },
    "kernelspec": {
      "name": "python3",
      "display_name": "Python 3"
    },
    "language_info": {
      "name": "python"
    }
  },
  "cells": [
    {
      "cell_type": "markdown",
      "metadata": {
        "id": "view-in-github",
        "colab_type": "text"
      },
      "source": [
        "<a href=\"https://colab.research.google.com/github/oluseyedev/oluseyedev/blob/main/DAT7015_2308483.ipynb\" target=\"_parent\"><img src=\"https://colab.research.google.com/assets/colab-badge.svg\" alt=\"Open In Colab\"/></a>"
      ]
    },
    {
      "cell_type": "code",
      "execution_count": null,
      "metadata": {
        "colab": {
          "base_uri": "https://localhost:8080/"
        },
        "id": "-1oTmYV16yZt",
        "outputId": "fb4f279e-34f1-4547-a409-11de89e1d882"
      },
      "outputs": [
        {
          "output_type": "stream",
          "name": "stdout",
          "text": [
            "Drive already mounted at /content/drive/; to attempt to forcibly remount, call drive.mount(\"/content/drive/\", force_remount=True).\n"
          ]
        }
      ],
      "source": [
        "# mount google drive to save files\n",
        "from google.colab import drive\n",
        "drive.mount('/content/drive/')\n"
      ]
    },
    {
      "cell_type": "code",
      "source": [
        "!pip install -q keras"
      ],
      "metadata": {
        "id": "ElOMWAd57Jhb"
      },
      "execution_count": null,
      "outputs": []
    },
    {
      "cell_type": "code",
      "source": [
        "import keras"
      ],
      "metadata": {
        "id": "3JGP0GP47ndq"
      },
      "execution_count": null,
      "outputs": []
    },
    {
      "cell_type": "code",
      "source": [
        "#   jdk, spark installation\n",
        "!apt-get install openjdk-8-jdk-headless -qq > /dev/null\n",
        "!wget -q http://archive.apache.org/dist/spark/spark-3.1.1/spark-3.1.1-bin-hadoop3.2.tgz\n",
        "!tar xf spark-3.1.1-bin-hadoop3.2.tgz\n",
        "!pip install -q findspark"
      ],
      "metadata": {
        "id": "KHJyrdUT7oLs"
      },
      "execution_count": null,
      "outputs": []
    },
    {
      "cell_type": "code",
      "source": [
        "import os\n",
        "os.environ[\"JAVA_HOME\"] = \"/usr/lib/jvm/java-8-openjdk-amd64\"\n",
        "os.environ[\"SPARK_HOME\"] = \"/content/spark-3.1.1-bin-hadoop3.2\""
      ],
      "metadata": {
        "id": "FJJrUpb18Nxg"
      },
      "execution_count": null,
      "outputs": []
    },
    {
      "cell_type": "code",
      "source": [
        "#Import Libraries and property used to format output tables better\n",
        "import findspark\n",
        "findspark.init()\n",
        "from pyspark.sql import SparkSession\n",
        "spark = SparkSession.builder.master(\"local[*]\").getOrCreate()\n",
        "spark.conf.set(\"spark.sql.repl.eagerEval.enabled\", True)\n",
        "spark"
      ],
      "metadata": {
        "colab": {
          "base_uri": "https://localhost:8080/",
          "height": 219
        },
        "id": "6Gnv4Y3N8VA1",
        "outputId": "ac23e9cb-3a4e-4413-e33d-e2b2077b03f3"
      },
      "execution_count": null,
      "outputs": [
        {
          "output_type": "execute_result",
          "data": {
            "text/plain": [
              "<pyspark.sql.session.SparkSession at 0x797b09398a90>"
            ],
            "text/html": [
              "\n",
              "            <div>\n",
              "                <p><b>SparkSession - in-memory</b></p>\n",
              "                \n",
              "        <div>\n",
              "            <p><b>SparkContext</b></p>\n",
              "\n",
              "            <p><a href=\"http://e04f6f746ac9:4040\">Spark UI</a></p>\n",
              "\n",
              "            <dl>\n",
              "              <dt>Version</dt>\n",
              "                <dd><code>v3.1.1</code></dd>\n",
              "              <dt>Master</dt>\n",
              "                <dd><code>local[*]</code></dd>\n",
              "              <dt>AppName</dt>\n",
              "                <dd><code>pyspark-shell</code></dd>\n",
              "            </dl>\n",
              "        </div>\n",
              "        \n",
              "            </div>\n",
              "        "
            ]
          },
          "metadata": {},
          "execution_count": 6
        }
      ]
    },
    {
      "cell_type": "code",
      "source": [
        "!pip install pandas scikit-learn"
      ],
      "metadata": {
        "colab": {
          "base_uri": "https://localhost:8080/"
        },
        "id": "sRAsWVQ98reC",
        "outputId": "aa613b92-99e4-4bb5-92ac-5187a35af6bb"
      },
      "execution_count": null,
      "outputs": [
        {
          "output_type": "stream",
          "name": "stdout",
          "text": [
            "Requirement already satisfied: pandas in /usr/local/lib/python3.10/dist-packages (1.5.3)\n",
            "Requirement already satisfied: scikit-learn in /usr/local/lib/python3.10/dist-packages (1.2.2)\n",
            "Requirement already satisfied: python-dateutil>=2.8.1 in /usr/local/lib/python3.10/dist-packages (from pandas) (2.8.2)\n",
            "Requirement already satisfied: pytz>=2020.1 in /usr/local/lib/python3.10/dist-packages (from pandas) (2023.3.post1)\n",
            "Requirement already satisfied: numpy>=1.21.0 in /usr/local/lib/python3.10/dist-packages (from pandas) (1.23.5)\n",
            "Requirement already satisfied: scipy>=1.3.2 in /usr/local/lib/python3.10/dist-packages (from scikit-learn) (1.11.4)\n",
            "Requirement already satisfied: joblib>=1.1.1 in /usr/local/lib/python3.10/dist-packages (from scikit-learn) (1.3.2)\n",
            "Requirement already satisfied: threadpoolctl>=2.0.0 in /usr/local/lib/python3.10/dist-packages (from scikit-learn) (3.2.0)\n",
            "Requirement already satisfied: six>=1.5 in /usr/local/lib/python3.10/dist-packages (from python-dateutil>=2.8.1->pandas) (1.16.0)\n"
          ]
        }
      ]
    },
    {
      "cell_type": "code",
      "source": [
        "#import other Libraries needed\n",
        "# import libraries\n",
        "!pip install matplotlib-venn\n",
        "from sklearn.impute import SimpleImputer\n",
        "from pyspark.sql.functions import *\n",
        "from pyspark.sql import SparkSession\n",
        "import pandas as pd\n",
        "import numpy as np\n",
        "import seaborn as sns\n",
        "from matplotlib import style\n",
        "style.use('ggplot')\n",
        "from pyspark.ml.stat import Correlation\n",
        "from sklearn.ensemble import RandomForestClassifier\n",
        "from sklearn.tree import DecisionTreeClassifier\n",
        "from sklearn.metrics import *\n",
        "from sklearn.model_selection import train_test_split\n",
        "import pyspark\n",
        "from pyspark.sql.types import *"
      ],
      "metadata": {
        "colab": {
          "base_uri": "https://localhost:8080/"
        },
        "id": "wukuw7CD8xSL",
        "outputId": "f595fa93-ec65-464e-ebeb-110f717d3938"
      },
      "execution_count": null,
      "outputs": [
        {
          "output_type": "stream",
          "name": "stdout",
          "text": [
            "Requirement already satisfied: matplotlib-venn in /usr/local/lib/python3.10/dist-packages (0.11.9)\n",
            "Requirement already satisfied: matplotlib in /usr/local/lib/python3.10/dist-packages (from matplotlib-venn) (3.7.1)\n",
            "Requirement already satisfied: numpy in /usr/local/lib/python3.10/dist-packages (from matplotlib-venn) (1.23.5)\n",
            "Requirement already satisfied: scipy in /usr/local/lib/python3.10/dist-packages (from matplotlib-venn) (1.11.4)\n",
            "Requirement already satisfied: contourpy>=1.0.1 in /usr/local/lib/python3.10/dist-packages (from matplotlib->matplotlib-venn) (1.2.0)\n",
            "Requirement already satisfied: cycler>=0.10 in /usr/local/lib/python3.10/dist-packages (from matplotlib->matplotlib-venn) (0.12.1)\n",
            "Requirement already satisfied: fonttools>=4.22.0 in /usr/local/lib/python3.10/dist-packages (from matplotlib->matplotlib-venn) (4.47.0)\n",
            "Requirement already satisfied: kiwisolver>=1.0.1 in /usr/local/lib/python3.10/dist-packages (from matplotlib->matplotlib-venn) (1.4.5)\n",
            "Requirement already satisfied: packaging>=20.0 in /usr/local/lib/python3.10/dist-packages (from matplotlib->matplotlib-venn) (23.2)\n",
            "Requirement already satisfied: pillow>=6.2.0 in /usr/local/lib/python3.10/dist-packages (from matplotlib->matplotlib-venn) (9.4.0)\n",
            "Requirement already satisfied: pyparsing>=2.3.1 in /usr/local/lib/python3.10/dist-packages (from matplotlib->matplotlib-venn) (3.1.1)\n",
            "Requirement already satisfied: python-dateutil>=2.7 in /usr/local/lib/python3.10/dist-packages (from matplotlib->matplotlib-venn) (2.8.2)\n",
            "Requirement already satisfied: six>=1.5 in /usr/local/lib/python3.10/dist-packages (from python-dateutil>=2.7->matplotlib->matplotlib-venn) (1.16.0)\n"
          ]
        }
      ]
    },
    {
      "cell_type": "code",
      "source": [
        "# Excel input and output installation\n",
        "\n",
        "!pip install pyexcel pyexcel-ods pyexcel-ods3 pyexcel-odsr pyexcel-io"
      ],
      "metadata": {
        "colab": {
          "base_uri": "https://localhost:8080/"
        },
        "id": "ETW9qV3i9C5m",
        "outputId": "2fa2433c-ab84-4557-e0a7-86ff29e5adcb"
      },
      "execution_count": null,
      "outputs": [
        {
          "output_type": "stream",
          "name": "stdout",
          "text": [
            "Collecting pyexcel\n",
            "  Downloading pyexcel-0.7.0-py2.py3-none-any.whl (87 kB)\n",
            "\u001b[?25l     \u001b[90m━━━━━━━━━━━━━━━━━━━━━━━━━━━━━━━━━━━━━━━━\u001b[0m \u001b[32m0.0/87.7 kB\u001b[0m \u001b[31m?\u001b[0m eta \u001b[36m-:--:--\u001b[0m\r\u001b[2K     \u001b[91m━━━━━━━━━━━━━━━━━━━━━━━━━━━━━━━━━━━━━\u001b[0m\u001b[90m╺\u001b[0m\u001b[90m━━\u001b[0m \u001b[32m81.9/87.7 kB\u001b[0m \u001b[31m2.2 MB/s\u001b[0m eta \u001b[36m0:00:01\u001b[0m\r\u001b[2K     \u001b[90m━━━━━━━━━━━━━━━━━━━━━━━━━━━━━━━━━━━━━━━━\u001b[0m \u001b[32m87.7/87.7 kB\u001b[0m \u001b[31m1.8 MB/s\u001b[0m eta \u001b[36m0:00:00\u001b[0m\n",
            "\u001b[?25hCollecting pyexcel-ods\n",
            "  Downloading pyexcel_ods-0.6.0-py2.py3-none-any.whl (10 kB)\n",
            "Collecting pyexcel-ods3\n",
            "  Downloading pyexcel_ods3-0.6.1-py3-none-any.whl (9.8 kB)\n",
            "Collecting pyexcel-odsr\n",
            "  Downloading pyexcel_odsr-0.6.0-py2.py3-none-any.whl (11 kB)\n",
            "Collecting pyexcel-io\n",
            "  Downloading pyexcel_io-0.6.6-py2.py3-none-any.whl (44 kB)\n",
            "\u001b[2K     \u001b[90m━━━━━━━━━━━━━━━━━━━━━━━━━━━━━━━━━━━━━━━━\u001b[0m \u001b[32m44.2/44.2 kB\u001b[0m \u001b[31m4.7 MB/s\u001b[0m eta \u001b[36m0:00:00\u001b[0m\n",
            "\u001b[?25hRequirement already satisfied: chardet in /usr/local/lib/python3.10/dist-packages (from pyexcel) (5.2.0)\n",
            "Collecting lml>=0.0.4 (from pyexcel)\n",
            "  Downloading lml-0.1.0-py2.py3-none-any.whl (10 kB)\n",
            "Collecting texttable>=0.8.2 (from pyexcel)\n",
            "  Downloading texttable-1.7.0-py2.py3-none-any.whl (10 kB)\n",
            "Collecting odfpy>=1.3.5 (from pyexcel-ods)\n",
            "  Downloading odfpy-1.4.1.tar.gz (717 kB)\n",
            "\u001b[2K     \u001b[90m━━━━━━━━━━━━━━━━━━━━━━━━━━━━━━━━━━━━━━━━\u001b[0m \u001b[32m717.0/717.0 kB\u001b[0m \u001b[31m17.4 MB/s\u001b[0m eta \u001b[36m0:00:00\u001b[0m\n",
            "\u001b[?25h  Preparing metadata (setup.py) ... \u001b[?25l\u001b[?25hdone\n",
            "Requirement already satisfied: lxml in /usr/local/lib/python3.10/dist-packages (from pyexcel-ods3) (4.9.4)\n",
            "Collecting pyexcel-ezodf>=0.3.3 (from pyexcel-ods3)\n",
            "  Downloading pyexcel_ezodf-0.3.4-py2.py3-none-any.whl (53 kB)\n",
            "\u001b[2K     \u001b[90m━━━━━━━━━━━━━━━━━━━━━━━━━━━━━━━━━━━━━━━━\u001b[0m \u001b[32m53.9/53.9 kB\u001b[0m \u001b[31m5.8 MB/s\u001b[0m eta \u001b[36m0:00:00\u001b[0m\n",
            "\u001b[?25hRequirement already satisfied: defusedxml in /usr/local/lib/python3.10/dist-packages (from odfpy>=1.3.5->pyexcel-ods) (0.7.1)\n",
            "Building wheels for collected packages: odfpy\n",
            "  Building wheel for odfpy (setup.py) ... \u001b[?25l\u001b[?25hdone\n",
            "  Created wheel for odfpy: filename=odfpy-1.4.1-py2.py3-none-any.whl size=160673 sha256=d8676f4c4e0755e8f4486f22813ade651c7c83888df657514646dd4565f6de54\n",
            "  Stored in directory: /root/.cache/pip/wheels/c8/2e/95/90d94fe33903786937f3b8c33dd88807f792359c6424b40469\n",
            "Successfully built odfpy\n",
            "Installing collected packages: texttable, lml, pyexcel-io, pyexcel-ezodf, odfpy, pyexcel-odsr, pyexcel-ods3, pyexcel-ods, pyexcel\n",
            "Successfully installed lml-0.1.0 odfpy-1.4.1 pyexcel-0.7.0 pyexcel-ezodf-0.3.4 pyexcel-io-0.6.6 pyexcel-ods-0.6.0 pyexcel-ods3-0.6.1 pyexcel-odsr-0.6.0 texttable-1.7.0\n"
          ]
        }
      ]
    },
    {
      "cell_type": "code",
      "source": [
        "# Create a Spark session\n",
        "spark = SparkSession.builder.appName('crime_analysis').getOrCreate()"
      ],
      "metadata": {
        "id": "n64AsPmo9UWV"
      },
      "execution_count": null,
      "outputs": []
    },
    {
      "cell_type": "code",
      "source": [
        "# Load excel datasets into pandas dataframes\n",
        "ref = pd.read_excel('/content/drive/MyDrive/Colab Notebooks/Big Data Assignment2/Assignment2/excel file/reccrime-offence-ref.xlsx')\n",
        "tables = pd.read_excel('/content/drive/MyDrive/Colab Notebooks/Big Data Assignment2/Assignment2/excel file/prc-pfa-mar2013-onwards-tables.xlsx', sheet_name=None)"
      ],
      "metadata": {
        "id": "gtyrIHe39a96"
      },
      "execution_count": null,
      "outputs": []
    },
    {
      "cell_type": "code",
      "source": [
        "# Create Dataframe from 6 years table selected\n",
        "yr_2018_19 = tables['2018-19']\n",
        "yr_2019_20 = tables['2019-20']\n",
        "yr_2020_21 = tables['2020-21']\n",
        "yr_2021_22 = tables['2021-22']\n",
        "yr_2022_23 = tables['2022-23']\n",
        "yr_2023_24 = tables['2023-24']"
      ],
      "metadata": {
        "id": "p_JjBtwj9jqQ"
      },
      "execution_count": null,
      "outputs": []
    },
    {
      "cell_type": "code",
      "source": [
        "# create a schema for the PySpark DataFrame\n",
        "schema = StructType([\n",
        "StructField(\"Offence Code\", StringType(), True),\n",
        "StructField(\"Offence description\", StringType(), True),\n",
        "StructField(\"Old PRC offence group\", StringType(), True),\n",
        "StructField(\"Old offence sub-group\", StringType(), True),\n",
        "StructField(\"New ONS offence group\", StringType(), True),\n",
        "StructField(\"New ONS sub-offence group\", StringType(), True),\n",
        "])\n"
      ],
      "metadata": {
        "id": "1suHLUGW94Hz"
      },
      "execution_count": null,
      "outputs": []
    },
    {
      "cell_type": "code",
      "source": [
        "offence_ref = ref"
      ],
      "metadata": {
        "id": "ILLE3gnJ9-hC"
      },
      "execution_count": null,
      "outputs": []
    },
    {
      "cell_type": "code",
      "source": [
        "# create a PySpark DataFrame from the pandas DataFrame using the schema\n",
        "ref = spark.createDataFrame(ref, schema=schema)\n",
        "\n",
        "\n",
        "# show the content of the ref DataFrame\n",
        "ref.show()"
      ],
      "metadata": {
        "colab": {
          "base_uri": "https://localhost:8080/"
        },
        "id": "Axn5JZ_p-MWE",
        "outputId": "66ab5510-0fd8-432b-fe51-cc6034973241"
      },
      "execution_count": null,
      "outputs": [
        {
          "output_type": "stream",
          "name": "stdout",
          "text": [
            "+--------------+--------------------+---------------------+---------------------+---------------------+-------------------------+\n",
            "|  Offence Code| Offence description|Old PRC offence group|Old offence sub-group|New ONS offence group|New ONS sub-offence group|\n",
            "+--------------+--------------------+---------------------+---------------------+---------------------+-------------------------+\n",
            "|             1|              Murder| Violence against ...| Violence against ...| Violence against ...|                 Homicide|\n",
            "|     1/4.1/4.2|            Homicide| Violence against ...| Violence against ...| Violence against ...|                 Homicide|\n",
            "|1/4.1/4.2/4.10|            Homicide| Violence against ...| Violence against ...| Violence against ...|                 Homicide|\n",
            "|           104|Assault without i...| Violence against ...| Violence against ...| Violence against ...|     Violence without ...|\n",
            "|          105A|Assault without i...| Violence against ...| Violence against ...| Violence against ...|     Violence without ...|\n",
            "|          105B|Racially or relig...| Violence against ...| Violence against ...| Violence against ...|     Violence without ...|\n",
            "|          106*|      Modern Slavery|                  NaN|                  NaN| Violence against ...|     Violence without ...|\n",
            "|           10A|Possession of fir...| Violence against ...| Violence against ...| Possession of wea...|     Possession of wea...|\n",
            "|           10B|Possession of fir...| Other miscellaneo...|                  NaN| Possession of wea...|     Possession of wea...|\n",
            "|           10C|Possession of oth...| Violence against ...| Violence against ...| Possession of wea...|     Possession of wea...|\n",
            "|           10D|Possession of art...| Violence against ...| Violence against ...| Possession of wea...|     Possession of wea...|\n",
            "|            11|Cruelty to and ne...| Violence against ...| Violence against ...| Violence against ...|     Violence without ...|\n",
            "|           11A|Cruelty to childr...| Violence against ...| Violence against ...| Violence against ...|     Violence without ...|\n",
            "|            12|Abandoning child ...| Violence against ...| Violence against ...| Violence against ...|     Violence without ...|\n",
            "|           126|Interfering with ...| Offences against ...|                  NaN|       Theft offences|         Vehicle offences|\n",
            "|            13|     Child abduction| Violence against ...| Violence against ...| Violence against ...|     Violence without ...|\n",
            "|           139|   Indecent exposure|      Sexual offences| Other sexual offe...|      Sexual offences|     Other sexual offe...|\n",
            "|            14|Procuring illegal...| Violence against ...| Violence against ...| Violence against ...|     Violence without ...|\n",
            "|            15|Concealing an inf...| Other miscellaneo...|                  NaN| Miscellaneous cri...|     Miscellaneous cri...|\n",
            "|            16|             Buggery|      Sexual offences| Other sexual offe...|      Sexual offences|     Other sexual offe...|\n",
            "+--------------+--------------------+---------------------+---------------------+---------------------+-------------------------+\n",
            "only showing top 20 rows\n",
            "\n"
          ]
        }
      ]
    },
    {
      "cell_type": "code",
      "source": [
        "# Convert table file  and offence_ref_file to pyspark dataframe\n",
        "df_2018_19 = spark.createDataFrame(yr_2018_19)\n",
        "df_2019_20 = spark.createDataFrame(yr_2019_20)\n",
        "df_2020_21 = spark.createDataFrame(yr_2020_21)\n",
        "df_2021_22 = spark.createDataFrame(yr_2021_22)\n",
        "df_2022_23 = spark.createDataFrame(yr_2022_23)\n",
        "df_2023_24 = spark.createDataFrame(yr_2023_24)"
      ],
      "metadata": {
        "colab": {
          "base_uri": "https://localhost:8080/"
        },
        "id": "YT7j2lm0-gZk",
        "outputId": "f904e0b1-22e1-4286-aa93-ad061b9a641d"
      },
      "execution_count": null,
      "outputs": [
        {
          "output_type": "stream",
          "name": "stderr",
          "text": [
            "/content/spark-3.1.1-bin-hadoop3.2/python/pyspark/sql/pandas/conversion.py:331: FutureWarning: iteritems is deprecated and will be removed in a future version. Use .items instead.\n",
            "  for column, series in pdf.iteritems():\n"
          ]
        }
      ]
    },
    {
      "cell_type": "code",
      "source": [
        "# Create temporary views of the dataframes\n",
        "df_2018_19.createOrReplaceTempView('df_2018_19')\n",
        "df_2019_20.createOrReplaceTempView('df_2019_20')\n",
        "df_2020_21.createOrReplaceTempView('df_2020_21')\n",
        "df_2021_22.createOrReplaceTempView('df_2021_22')\n",
        "df_2022_23.createOrReplaceTempView('df_2022_23')\n",
        "df_2023_24.createOrReplaceTempView('df_2023_24')"
      ],
      "metadata": {
        "id": "qoE6fDpX-pQ1"
      },
      "execution_count": null,
      "outputs": []
    },
    {
      "cell_type": "code",
      "source": [
        "offence_ref.head()"
      ],
      "metadata": {
        "colab": {
          "base_uri": "https://localhost:8080/",
          "height": 310
        },
        "id": "WcpAUYTN-xma",
        "outputId": "691e47a0-69ff-47e0-d9c2-7f1c35d9ce55"
      },
      "execution_count": null,
      "outputs": [
        {
          "output_type": "execute_result",
          "data": {
            "text/plain": [
              "     Offence Code                    Offence description  \\\n",
              "0               1                                 Murder   \n",
              "1       1/4.1/4.2                               Homicide   \n",
              "2  1/4.1/4.2/4.10                               Homicide   \n",
              "3             104  Assault without injury on a constable   \n",
              "4            105A                 Assault without injury   \n",
              "\n",
              "         Old PRC offence group                         Old offence sub-group  \\\n",
              "0  Violence against the person     Violence against the person - with injury   \n",
              "1  Violence against the person     Violence against the person - with injury   \n",
              "2  Violence against the person     Violence against the person - with injury   \n",
              "3  Violence against the person  Violence against the person - without injury   \n",
              "4  Violence against the person  Violence against the person - without injury   \n",
              "\n",
              "         New ONS offence group New ONS sub-offence group  \n",
              "0  Violence against the person                  Homicide  \n",
              "1  Violence against the person                  Homicide  \n",
              "2  Violence against the person                  Homicide  \n",
              "3  Violence against the person   Violence without injury  \n",
              "4  Violence against the person   Violence without injury  "
            ],
            "text/html": [
              "\n",
              "  <div id=\"df-5b87e195-1ae7-4604-b332-0e38d3b3d03f\" class=\"colab-df-container\">\n",
              "    <div>\n",
              "<style scoped>\n",
              "    .dataframe tbody tr th:only-of-type {\n",
              "        vertical-align: middle;\n",
              "    }\n",
              "\n",
              "    .dataframe tbody tr th {\n",
              "        vertical-align: top;\n",
              "    }\n",
              "\n",
              "    .dataframe thead th {\n",
              "        text-align: right;\n",
              "    }\n",
              "</style>\n",
              "<table border=\"1\" class=\"dataframe\">\n",
              "  <thead>\n",
              "    <tr style=\"text-align: right;\">\n",
              "      <th></th>\n",
              "      <th>Offence Code</th>\n",
              "      <th>Offence description</th>\n",
              "      <th>Old PRC offence group</th>\n",
              "      <th>Old offence sub-group</th>\n",
              "      <th>New ONS offence group</th>\n",
              "      <th>New ONS sub-offence group</th>\n",
              "    </tr>\n",
              "  </thead>\n",
              "  <tbody>\n",
              "    <tr>\n",
              "      <th>0</th>\n",
              "      <td>1</td>\n",
              "      <td>Murder</td>\n",
              "      <td>Violence against the person</td>\n",
              "      <td>Violence against the person - with injury</td>\n",
              "      <td>Violence against the person</td>\n",
              "      <td>Homicide</td>\n",
              "    </tr>\n",
              "    <tr>\n",
              "      <th>1</th>\n",
              "      <td>1/4.1/4.2</td>\n",
              "      <td>Homicide</td>\n",
              "      <td>Violence against the person</td>\n",
              "      <td>Violence against the person - with injury</td>\n",
              "      <td>Violence against the person</td>\n",
              "      <td>Homicide</td>\n",
              "    </tr>\n",
              "    <tr>\n",
              "      <th>2</th>\n",
              "      <td>1/4.1/4.2/4.10</td>\n",
              "      <td>Homicide</td>\n",
              "      <td>Violence against the person</td>\n",
              "      <td>Violence against the person - with injury</td>\n",
              "      <td>Violence against the person</td>\n",
              "      <td>Homicide</td>\n",
              "    </tr>\n",
              "    <tr>\n",
              "      <th>3</th>\n",
              "      <td>104</td>\n",
              "      <td>Assault without injury on a constable</td>\n",
              "      <td>Violence against the person</td>\n",
              "      <td>Violence against the person - without injury</td>\n",
              "      <td>Violence against the person</td>\n",
              "      <td>Violence without injury</td>\n",
              "    </tr>\n",
              "    <tr>\n",
              "      <th>4</th>\n",
              "      <td>105A</td>\n",
              "      <td>Assault without injury</td>\n",
              "      <td>Violence against the person</td>\n",
              "      <td>Violence against the person - without injury</td>\n",
              "      <td>Violence against the person</td>\n",
              "      <td>Violence without injury</td>\n",
              "    </tr>\n",
              "  </tbody>\n",
              "</table>\n",
              "</div>\n",
              "    <div class=\"colab-df-buttons\">\n",
              "\n",
              "  <div class=\"colab-df-container\">\n",
              "    <button class=\"colab-df-convert\" onclick=\"convertToInteractive('df-5b87e195-1ae7-4604-b332-0e38d3b3d03f')\"\n",
              "            title=\"Convert this dataframe to an interactive table.\"\n",
              "            style=\"display:none;\">\n",
              "\n",
              "  <svg xmlns=\"http://www.w3.org/2000/svg\" height=\"24px\" viewBox=\"0 -960 960 960\">\n",
              "    <path d=\"M120-120v-720h720v720H120Zm60-500h600v-160H180v160Zm220 220h160v-160H400v160Zm0 220h160v-160H400v160ZM180-400h160v-160H180v160Zm440 0h160v-160H620v160ZM180-180h160v-160H180v160Zm440 0h160v-160H620v160Z\"/>\n",
              "  </svg>\n",
              "    </button>\n",
              "\n",
              "  <style>\n",
              "    .colab-df-container {\n",
              "      display:flex;\n",
              "      gap: 12px;\n",
              "    }\n",
              "\n",
              "    .colab-df-convert {\n",
              "      background-color: #E8F0FE;\n",
              "      border: none;\n",
              "      border-radius: 50%;\n",
              "      cursor: pointer;\n",
              "      display: none;\n",
              "      fill: #1967D2;\n",
              "      height: 32px;\n",
              "      padding: 0 0 0 0;\n",
              "      width: 32px;\n",
              "    }\n",
              "\n",
              "    .colab-df-convert:hover {\n",
              "      background-color: #E2EBFA;\n",
              "      box-shadow: 0px 1px 2px rgba(60, 64, 67, 0.3), 0px 1px 3px 1px rgba(60, 64, 67, 0.15);\n",
              "      fill: #174EA6;\n",
              "    }\n",
              "\n",
              "    .colab-df-buttons div {\n",
              "      margin-bottom: 4px;\n",
              "    }\n",
              "\n",
              "    [theme=dark] .colab-df-convert {\n",
              "      background-color: #3B4455;\n",
              "      fill: #D2E3FC;\n",
              "    }\n",
              "\n",
              "    [theme=dark] .colab-df-convert:hover {\n",
              "      background-color: #434B5C;\n",
              "      box-shadow: 0px 1px 3px 1px rgba(0, 0, 0, 0.15);\n",
              "      filter: drop-shadow(0px 1px 2px rgba(0, 0, 0, 0.3));\n",
              "      fill: #FFFFFF;\n",
              "    }\n",
              "  </style>\n",
              "\n",
              "    <script>\n",
              "      const buttonEl =\n",
              "        document.querySelector('#df-5b87e195-1ae7-4604-b332-0e38d3b3d03f button.colab-df-convert');\n",
              "      buttonEl.style.display =\n",
              "        google.colab.kernel.accessAllowed ? 'block' : 'none';\n",
              "\n",
              "      async function convertToInteractive(key) {\n",
              "        const element = document.querySelector('#df-5b87e195-1ae7-4604-b332-0e38d3b3d03f');\n",
              "        const dataTable =\n",
              "          await google.colab.kernel.invokeFunction('convertToInteractive',\n",
              "                                                    [key], {});\n",
              "        if (!dataTable) return;\n",
              "\n",
              "        const docLinkHtml = 'Like what you see? Visit the ' +\n",
              "          '<a target=\"_blank\" href=https://colab.research.google.com/notebooks/data_table.ipynb>data table notebook</a>'\n",
              "          + ' to learn more about interactive tables.';\n",
              "        element.innerHTML = '';\n",
              "        dataTable['output_type'] = 'display_data';\n",
              "        await google.colab.output.renderOutput(dataTable, element);\n",
              "        const docLink = document.createElement('div');\n",
              "        docLink.innerHTML = docLinkHtml;\n",
              "        element.appendChild(docLink);\n",
              "      }\n",
              "    </script>\n",
              "  </div>\n",
              "\n",
              "\n",
              "<div id=\"df-b52c0fd6-61f7-4321-8908-3ba79780ca43\">\n",
              "  <button class=\"colab-df-quickchart\" onclick=\"quickchart('df-b52c0fd6-61f7-4321-8908-3ba79780ca43')\"\n",
              "            title=\"Suggest charts\"\n",
              "            style=\"display:none;\">\n",
              "\n",
              "<svg xmlns=\"http://www.w3.org/2000/svg\" height=\"24px\"viewBox=\"0 0 24 24\"\n",
              "     width=\"24px\">\n",
              "    <g>\n",
              "        <path d=\"M19 3H5c-1.1 0-2 .9-2 2v14c0 1.1.9 2 2 2h14c1.1 0 2-.9 2-2V5c0-1.1-.9-2-2-2zM9 17H7v-7h2v7zm4 0h-2V7h2v10zm4 0h-2v-4h2v4z\"/>\n",
              "    </g>\n",
              "</svg>\n",
              "  </button>\n",
              "\n",
              "<style>\n",
              "  .colab-df-quickchart {\n",
              "      --bg-color: #E8F0FE;\n",
              "      --fill-color: #1967D2;\n",
              "      --hover-bg-color: #E2EBFA;\n",
              "      --hover-fill-color: #174EA6;\n",
              "      --disabled-fill-color: #AAA;\n",
              "      --disabled-bg-color: #DDD;\n",
              "  }\n",
              "\n",
              "  [theme=dark] .colab-df-quickchart {\n",
              "      --bg-color: #3B4455;\n",
              "      --fill-color: #D2E3FC;\n",
              "      --hover-bg-color: #434B5C;\n",
              "      --hover-fill-color: #FFFFFF;\n",
              "      --disabled-bg-color: #3B4455;\n",
              "      --disabled-fill-color: #666;\n",
              "  }\n",
              "\n",
              "  .colab-df-quickchart {\n",
              "    background-color: var(--bg-color);\n",
              "    border: none;\n",
              "    border-radius: 50%;\n",
              "    cursor: pointer;\n",
              "    display: none;\n",
              "    fill: var(--fill-color);\n",
              "    height: 32px;\n",
              "    padding: 0;\n",
              "    width: 32px;\n",
              "  }\n",
              "\n",
              "  .colab-df-quickchart:hover {\n",
              "    background-color: var(--hover-bg-color);\n",
              "    box-shadow: 0 1px 2px rgba(60, 64, 67, 0.3), 0 1px 3px 1px rgba(60, 64, 67, 0.15);\n",
              "    fill: var(--button-hover-fill-color);\n",
              "  }\n",
              "\n",
              "  .colab-df-quickchart-complete:disabled,\n",
              "  .colab-df-quickchart-complete:disabled:hover {\n",
              "    background-color: var(--disabled-bg-color);\n",
              "    fill: var(--disabled-fill-color);\n",
              "    box-shadow: none;\n",
              "  }\n",
              "\n",
              "  .colab-df-spinner {\n",
              "    border: 2px solid var(--fill-color);\n",
              "    border-color: transparent;\n",
              "    border-bottom-color: var(--fill-color);\n",
              "    animation:\n",
              "      spin 1s steps(1) infinite;\n",
              "  }\n",
              "\n",
              "  @keyframes spin {\n",
              "    0% {\n",
              "      border-color: transparent;\n",
              "      border-bottom-color: var(--fill-color);\n",
              "      border-left-color: var(--fill-color);\n",
              "    }\n",
              "    20% {\n",
              "      border-color: transparent;\n",
              "      border-left-color: var(--fill-color);\n",
              "      border-top-color: var(--fill-color);\n",
              "    }\n",
              "    30% {\n",
              "      border-color: transparent;\n",
              "      border-left-color: var(--fill-color);\n",
              "      border-top-color: var(--fill-color);\n",
              "      border-right-color: var(--fill-color);\n",
              "    }\n",
              "    40% {\n",
              "      border-color: transparent;\n",
              "      border-right-color: var(--fill-color);\n",
              "      border-top-color: var(--fill-color);\n",
              "    }\n",
              "    60% {\n",
              "      border-color: transparent;\n",
              "      border-right-color: var(--fill-color);\n",
              "    }\n",
              "    80% {\n",
              "      border-color: transparent;\n",
              "      border-right-color: var(--fill-color);\n",
              "      border-bottom-color: var(--fill-color);\n",
              "    }\n",
              "    90% {\n",
              "      border-color: transparent;\n",
              "      border-bottom-color: var(--fill-color);\n",
              "    }\n",
              "  }\n",
              "</style>\n",
              "\n",
              "  <script>\n",
              "    async function quickchart(key) {\n",
              "      const quickchartButtonEl =\n",
              "        document.querySelector('#' + key + ' button');\n",
              "      quickchartButtonEl.disabled = true;  // To prevent multiple clicks.\n",
              "      quickchartButtonEl.classList.add('colab-df-spinner');\n",
              "      try {\n",
              "        const charts = await google.colab.kernel.invokeFunction(\n",
              "            'suggestCharts', [key], {});\n",
              "      } catch (error) {\n",
              "        console.error('Error during call to suggestCharts:', error);\n",
              "      }\n",
              "      quickchartButtonEl.classList.remove('colab-df-spinner');\n",
              "      quickchartButtonEl.classList.add('colab-df-quickchart-complete');\n",
              "    }\n",
              "    (() => {\n",
              "      let quickchartButtonEl =\n",
              "        document.querySelector('#df-b52c0fd6-61f7-4321-8908-3ba79780ca43 button');\n",
              "      quickchartButtonEl.style.display =\n",
              "        google.colab.kernel.accessAllowed ? 'block' : 'none';\n",
              "    })();\n",
              "  </script>\n",
              "</div>\n",
              "    </div>\n",
              "  </div>\n"
            ]
          },
          "metadata": {},
          "execution_count": 18
        }
      ]
    },
    {
      "cell_type": "code",
      "source": [
        "# SQL queries to join 6 years tables\n",
        "query_1 = \"\"\"\n",
        "                SELECT * FROM df_2018_19\n",
        "                UNION\n",
        "                SELECT * FROM df_2019_20\n",
        "                UNION\n",
        "                SELECT * FROM df_2020_21\n",
        "                UNION\n",
        "                SELECT * FROM df_2021_22\n",
        "                UNION\n",
        "                SELECT * FROM df_2022_23\n",
        "                UNION\n",
        "                SELECT * FROM df_2023_24\n",
        "\"\"\""
      ],
      "metadata": {
        "id": "zhFZ_BbW_Bku"
      },
      "execution_count": null,
      "outputs": []
    },
    {
      "cell_type": "code",
      "source": [
        "# Load query and return dataframe\n",
        "offence_df = spark.sql(query_1)"
      ],
      "metadata": {
        "id": "7hfzPAmW_RCP"
      },
      "execution_count": null,
      "outputs": []
    },
    {
      "cell_type": "code",
      "source": [
        "print(offence_df.count())"
      ],
      "metadata": {
        "colab": {
          "base_uri": "https://localhost:8080/"
        },
        "id": "Q2GFRXF8_XGb",
        "outputId": "2652e8fb-af0e-48f9-ab66-e1e64418c65a"
      },
      "execution_count": null,
      "outputs": [
        {
          "output_type": "stream",
          "name": "stdout",
          "text": [
            "124193\n"
          ]
        }
      ]
    },
    {
      "cell_type": "code",
      "source": [
        "print(offence_ref.count())"
      ],
      "metadata": {
        "colab": {
          "base_uri": "https://localhost:8080/"
        },
        "id": "GvHvKGcV_gkc",
        "outputId": "bb674ef8-34cc-4fbe-ce7b-4f7b44776d71"
      },
      "execution_count": null,
      "outputs": [
        {
          "output_type": "stream",
          "name": "stdout",
          "text": [
            "Offence Code                 197\n",
            "Offence description          196\n",
            "Old PRC offence group        191\n",
            "Old offence sub-group        106\n",
            "New ONS offence group        196\n",
            "New ONS sub-offence group    196\n",
            "dtype: int64\n"
          ]
        }
      ]
    },
    {
      "cell_type": "code",
      "source": [
        "# Rename col to remove white space\n",
        "rename_cols = {\n",
        "                'Financial Year': 'Financial_Year',\n",
        "                'Financial Quarter':'Financial_Quarter',\n",
        "                'Force Name':'Force_Name',\n",
        "                'Offence Description':'Offence_Description',\n",
        "                'Offence Group':'Offence_Group',\n",
        "                'Offence Subgroup':'Offence_Subgroup',\n",
        "                'Offence Code':'Offence_Code',\n",
        "                'Number of Offences':'Number_of_Offences',\n",
        "                'Old PRC offence group': 'Old_PRC_offence_group',\n",
        "                'Old offence sub-group': 'Old_offence_sub-group',\n",
        "                'New ONS offence group': 'New_ONS_offence_group',\n",
        "                'New ONS sub-offence group': 'New_ONS_sub_offence_group'\n",
        "}"
      ],
      "metadata": {
        "id": "Ht30EMtk_nAQ"
      },
      "execution_count": null,
      "outputs": []
    },
    {
      "cell_type": "code",
      "source": [
        "print(offence_df.count())"
      ],
      "metadata": {
        "colab": {
          "base_uri": "https://localhost:8080/"
        },
        "id": "Paa8vSN__0Pp",
        "outputId": "f88d19aa-370d-4242-e24e-5ebbd0ea9b38"
      },
      "execution_count": null,
      "outputs": [
        {
          "output_type": "stream",
          "name": "stdout",
          "text": [
            "124193\n"
          ]
        }
      ]
    },
    {
      "cell_type": "code",
      "source": [
        "offence_df.drop('is_null')"
      ],
      "metadata": {
        "colab": {
          "base_uri": "https://localhost:8080/",
          "height": 879
        },
        "id": "QjYeHAlR_5jM",
        "outputId": "b9bfcb03-a25f-494b-f110-b8310a0e758a"
      },
      "execution_count": null,
      "outputs": [
        {
          "output_type": "execute_result",
          "data": {
            "text/plain": [
              "+--------------+-----------------+------------------+--------------------+--------------------+--------------------+------------+------------------+\n",
              "|Financial Year|Financial Quarter|        Force Name| Offence Description|       Offence Group|    Offence Subgroup|Offence Code|Number of Offences|\n",
              "+--------------+-----------------+------------------+--------------------+--------------------+--------------------+------------+------------------+\n",
              "|       2018/19|                1|          Cheshire|            Wildlife|Miscellaneous cri...|Miscellaneous cri...|          96|                 1|\n",
              "|       2018/19|                1|           Cumbria|Possession of con...|       Drug offences| Possession of drugs|         92E|               122|\n",
              "|       2018/19|                1|Devon and Cornwall|Sexual assault on...|     Sexual offences|Other sexual offe...|         20A|               286|\n",
              "|       2018/19|                1|            Durham|    Endangering life|Violence against ...|Violence with injury|          5E|                 1|\n",
              "|       2018/19|                1|       Dyfed-Powys|Possession of art...|Possession of wea...|Possession of wea...|         10D|                32|\n",
              "|       2018/19|                1|             Essex|              Bigamy|Miscellaneous cri...|Miscellaneous cri...|          26|                 0|\n",
              "|       2018/19|                1|         Hampshire|Abuse of children...|     Sexual offences|Other sexual offe...|          71|                 7|\n",
              "|       2018/19|                1|     Hertfordshire|    Attempted murder|Violence against ...|Violence with injury|           2|                 2|\n",
              "|       2018/19|                1|     Hertfordshire|Burglary Residential|      Theft offences|   Domestic burglary|         28E|               868|\n",
              "|       2018/19|                1|     Hertfordshire|Conspiracy to murder|Violence against ...|Violence without ...|          3A|                 1|\n",
              "|       2018/19|                1|        Humberside|Other criminal da...|Criminal damage a...|     Criminal damage|         58D|               821|\n",
              "|       2018/19|                1|        Humberside|Public fear, alar...|Public order offe...|Public order offe...|          9A|              1614|\n",
              "|       2018/19|                1|        Lancashire|       Other forgery|Miscellaneous cri...|Miscellaneous cri...|          61|                35|\n",
              "|       2018/19|                1|      Lincolnshire|Criminal damage t...|Criminal damage a...|     Criminal damage|         58B|               187|\n",
              "|       2018/19|                1|      Lincolnshire|     Sexual grooming|     Sexual offences|Other sexual offe...|         88A|                21|\n",
              "|       2018/19|                1|        Merseyside|Forgery or use of...|Miscellaneous cri...|Miscellaneous cri...|          60|                 5|\n",
              "|       2018/19|                1|        Merseyside|Possession of fir...|Possession of wea...|Possession of wea...|         10B|                23|\n",
              "|       2018/19|                1|           Norfolk|Possession of con...|       Drug offences| Possession of drugs|         92D|               130|\n",
              "|       2018/19|                1|       North Wales|Abuse of position...|     Sexual offences|Other sexual offe...|          73|                 0|\n",
              "|       2018/19|                1|  Northamptonshire|Interfering with ...|      Theft offences|Vehicle interference|         126|               298|\n",
              "+--------------+-----------------+------------------+--------------------+--------------------+--------------------+------------+------------------+\n",
              "only showing top 20 rows"
            ],
            "text/html": [
              "<table border='1'>\n",
              "<tr><th>Financial Year</th><th>Financial Quarter</th><th>Force Name</th><th>Offence Description</th><th>Offence Group</th><th>Offence Subgroup</th><th>Offence Code</th><th>Number of Offences</th></tr>\n",
              "<tr><td>2018/19</td><td>1</td><td>Cheshire</td><td>Wildlife</td><td>Miscellaneous cri...</td><td>Miscellaneous cri...</td><td>96</td><td>1</td></tr>\n",
              "<tr><td>2018/19</td><td>1</td><td>Cumbria</td><td>Possession of con...</td><td>Drug offences</td><td>Possession of drugs</td><td>92E</td><td>122</td></tr>\n",
              "<tr><td>2018/19</td><td>1</td><td>Devon and Cornwall</td><td>Sexual assault on...</td><td>Sexual offences</td><td>Other sexual offe...</td><td>20A</td><td>286</td></tr>\n",
              "<tr><td>2018/19</td><td>1</td><td>Durham</td><td>Endangering life</td><td>Violence against ...</td><td>Violence with injury</td><td>5E</td><td>1</td></tr>\n",
              "<tr><td>2018/19</td><td>1</td><td>Dyfed-Powys</td><td>Possession of art...</td><td>Possession of wea...</td><td>Possession of wea...</td><td>10D</td><td>32</td></tr>\n",
              "<tr><td>2018/19</td><td>1</td><td>Essex</td><td>Bigamy</td><td>Miscellaneous cri...</td><td>Miscellaneous cri...</td><td>26</td><td>0</td></tr>\n",
              "<tr><td>2018/19</td><td>1</td><td>Hampshire</td><td>Abuse of children...</td><td>Sexual offences</td><td>Other sexual offe...</td><td>71</td><td>7</td></tr>\n",
              "<tr><td>2018/19</td><td>1</td><td>Hertfordshire</td><td>Attempted murder</td><td>Violence against ...</td><td>Violence with injury</td><td>2</td><td>2</td></tr>\n",
              "<tr><td>2018/19</td><td>1</td><td>Hertfordshire</td><td>Burglary Residential</td><td>Theft offences</td><td>Domestic burglary</td><td>28E</td><td>868</td></tr>\n",
              "<tr><td>2018/19</td><td>1</td><td>Hertfordshire</td><td>Conspiracy to murder</td><td>Violence against ...</td><td>Violence without ...</td><td>3A</td><td>1</td></tr>\n",
              "<tr><td>2018/19</td><td>1</td><td>Humberside</td><td>Other criminal da...</td><td>Criminal damage a...</td><td>Criminal damage</td><td>58D</td><td>821</td></tr>\n",
              "<tr><td>2018/19</td><td>1</td><td>Humberside</td><td>Public fear, alar...</td><td>Public order offe...</td><td>Public order offe...</td><td>9A</td><td>1614</td></tr>\n",
              "<tr><td>2018/19</td><td>1</td><td>Lancashire</td><td>Other forgery</td><td>Miscellaneous cri...</td><td>Miscellaneous cri...</td><td>61</td><td>35</td></tr>\n",
              "<tr><td>2018/19</td><td>1</td><td>Lincolnshire</td><td>Criminal damage t...</td><td>Criminal damage a...</td><td>Criminal damage</td><td>58B</td><td>187</td></tr>\n",
              "<tr><td>2018/19</td><td>1</td><td>Lincolnshire</td><td>Sexual grooming</td><td>Sexual offences</td><td>Other sexual offe...</td><td>88A</td><td>21</td></tr>\n",
              "<tr><td>2018/19</td><td>1</td><td>Merseyside</td><td>Forgery or use of...</td><td>Miscellaneous cri...</td><td>Miscellaneous cri...</td><td>60</td><td>5</td></tr>\n",
              "<tr><td>2018/19</td><td>1</td><td>Merseyside</td><td>Possession of fir...</td><td>Possession of wea...</td><td>Possession of wea...</td><td>10B</td><td>23</td></tr>\n",
              "<tr><td>2018/19</td><td>1</td><td>Norfolk</td><td>Possession of con...</td><td>Drug offences</td><td>Possession of drugs</td><td>92D</td><td>130</td></tr>\n",
              "<tr><td>2018/19</td><td>1</td><td>North Wales</td><td>Abuse of position...</td><td>Sexual offences</td><td>Other sexual offe...</td><td>73</td><td>0</td></tr>\n",
              "<tr><td>2018/19</td><td>1</td><td>Northamptonshire</td><td>Interfering with ...</td><td>Theft offences</td><td>Vehicle interference</td><td>126</td><td>298</td></tr>\n",
              "</table>\n",
              "only showing top 20 rows\n"
            ]
          },
          "metadata": {},
          "execution_count": 25
        }
      ]
    },
    {
      "cell_type": "code",
      "source": [
        "# Loops through rename_cols and removes white space\n",
        "for old_name, new_name in rename_cols.items():\n",
        "    offence_df = offence_df.withColumnRenamed(old_name, new_name)\n",
        "    offence_ref = ref.withColumnRenamed(old_name, new_name)\n",
        "print(offence_ref.count())\n",
        "print(offence_df.count())"
      ],
      "metadata": {
        "colab": {
          "base_uri": "https://localhost:8080/"
        },
        "id": "Ll1q9YiWAE3Y",
        "outputId": "86fd134f-2fbe-42d0-be65-e2faf52a22eb"
      },
      "execution_count": null,
      "outputs": [
        {
          "output_type": "stream",
          "name": "stdout",
          "text": [
            "198\n",
            "124193\n"
          ]
        }
      ]
    },
    {
      "cell_type": "code",
      "source": [
        "# Drop duplicates in offence_ref\n",
        "offence_ref = offence_ref.dropDuplicates()"
      ],
      "metadata": {
        "id": "9ZPnRg-TAVLH"
      },
      "execution_count": null,
      "outputs": []
    },
    {
      "cell_type": "code",
      "source": [
        "print(offence_ref.count())"
      ],
      "metadata": {
        "colab": {
          "base_uri": "https://localhost:8080/"
        },
        "id": "hfTw1A1IAZPs",
        "outputId": "5fe4ba32-252e-4b36-8970-d85a9253f0a2"
      },
      "execution_count": null,
      "outputs": [
        {
          "output_type": "stream",
          "name": "stdout",
          "text": [
            "188\n"
          ]
        }
      ]
    },
    {
      "cell_type": "code",
      "source": [
        "offence_ref = offence_ref.withColumnRenamed('Offence Code', 'Offence_Code')"
      ],
      "metadata": {
        "id": "2ZDsqdG4Afof"
      },
      "execution_count": null,
      "outputs": []
    },
    {
      "cell_type": "code",
      "source": [
        "# register the DataFrame as a temporary view\n",
        "offence_ref.createOrReplaceTempView('offence_ref')"
      ],
      "metadata": {
        "id": "oodA78vBAjcN"
      },
      "execution_count": null,
      "outputs": []
    },
    {
      "cell_type": "code",
      "source": [
        "# Create temporary views of the dataframes\n",
        "offence_df.createOrReplaceTempView('offence_df')\n",
        "offence_ref.createOrReplaceTempView('offence_ref')\n"
      ],
      "metadata": {
        "id": "amazqg8uAnkL"
      },
      "execution_count": null,
      "outputs": []
    },
    {
      "cell_type": "code",
      "source": [
        "offence_df.createOrReplaceTempView('offence_df')\n",
        "ref.createOrReplaceTempView('offence_ref')"
      ],
      "metadata": {
        "id": "u9t4xibNAsJO"
      },
      "execution_count": null,
      "outputs": []
    },
    {
      "cell_type": "code",
      "source": [
        "# SQL query2 to join reference tables to dataset\n",
        "query_2 = \"\"\"\n",
        "SELECT offence_df.*,\n",
        "offence_ref.`New ONS offence group`,\n",
        "offence_ref.`New ONS sub-offence group`,\n",
        "FROM offence_df\n",
        "INNER JOIN offence_ref\n",
        "ON offence_df.Offence_Code = offence_ref.Offence_Code;\n",
        "\"\"\""
      ],
      "metadata": {
        "id": "sCmc4mgaAwtU"
      },
      "execution_count": null,
      "outputs": []
    },
    {
      "cell_type": "code",
      "source": [
        "offence_df.head()"
      ],
      "metadata": {
        "colab": {
          "base_uri": "https://localhost:8080/"
        },
        "id": "QtFyUvj4BF4M",
        "outputId": "cecf75fb-df35-4341-a4df-2ab28ea07873"
      },
      "execution_count": null,
      "outputs": [
        {
          "output_type": "execute_result",
          "data": {
            "text/plain": [
              "Row(Financial_Year='2018/19', Financial_Quarter=1, Force_Name='Cheshire', Offence_Description='Wildlife', Offence_Group='Miscellaneous crimes against society', Offence_Subgroup='Miscellaneous crimes against society', Offence_Code='96', Number_of_Offences=1)"
            ]
          },
          "metadata": {},
          "execution_count": 34
        }
      ]
    },
    {
      "cell_type": "code",
      "source": [
        "offence_ref.head()"
      ],
      "metadata": {
        "colab": {
          "base_uri": "https://localhost:8080/"
        },
        "id": "tz3Rp1LTBLIM",
        "outputId": "7a7ff393-2b82-4ee6-d3a5-eb17e87c482a"
      },
      "execution_count": null,
      "outputs": [
        {
          "output_type": "execute_result",
          "data": {
            "text/plain": [
              "Row(Offence_Code='90', Offence description='Other knives offences', Old PRC offence group='Other miscellaneous offences', Old offence sub-group='NaN', New ONS offence group='Possession of weapons offences', New_ONS_sub_offence_group='Possession of weapons offences')"
            ]
          },
          "metadata": {},
          "execution_count": 35
        }
      ]
    },
    {
      "cell_type": "code",
      "source": [
        "# show the values of the Offence_Code column in both tables\n",
        "offence_df.select('Offence_Code').show()\n",
        "offence_ref.select('Offence_Code').show()"
      ],
      "metadata": {
        "colab": {
          "base_uri": "https://localhost:8080/"
        },
        "id": "vHFKyhU6BPNd",
        "outputId": "bb7112e0-91d3-4f81-df26-815ddcc051ac"
      },
      "execution_count": null,
      "outputs": [
        {
          "output_type": "stream",
          "name": "stdout",
          "text": [
            "+------------+\n",
            "|Offence_Code|\n",
            "+------------+\n",
            "|          96|\n",
            "|         92E|\n",
            "|         20A|\n",
            "|          5E|\n",
            "|         10D|\n",
            "|          26|\n",
            "|          71|\n",
            "|           2|\n",
            "|         28E|\n",
            "|          3A|\n",
            "|         58D|\n",
            "|          9A|\n",
            "|          61|\n",
            "|         58B|\n",
            "|         88A|\n",
            "|          60|\n",
            "|         10B|\n",
            "|         92D|\n",
            "|          73|\n",
            "|         126|\n",
            "+------------+\n",
            "only showing top 20 rows\n",
            "\n",
            "+------------+\n",
            "|Offence_Code|\n",
            "+------------+\n",
            "|          90|\n",
            "|         92A|\n",
            "|         58F|\n",
            "|          33|\n",
            "|         8Q*|\n",
            "|         10B|\n",
            "|          8G|\n",
            "|          5D|\n",
            "|          23|\n",
            "|          84|\n",
            "|         58B|\n",
            "|          22|\n",
            "|          46|\n",
            "|           7|\n",
            "|          8B|\n",
            "|         19C|\n",
            "|         58A|\n",
            "|          60|\n",
            "|          83|\n",
            "|         88B|\n",
            "+------------+\n",
            "only showing top 20 rows\n",
            "\n"
          ]
        }
      ]
    },
    {
      "cell_type": "code",
      "source": [
        "# join the tables using a LEFT JOIN\n",
        "joined_df = offence_df.join(offence_ref, 'Offence_Code', 'left')\n",
        "# check the number of rows after joining\n",
        "rows = joined_df.count()\n",
        "print(f'The number of rows after joining is: {rows}')"
      ],
      "metadata": {
        "colab": {
          "base_uri": "https://localhost:8080/"
        },
        "id": "iy_AIgVDBXR8",
        "outputId": "8517bff3-08bb-4e76-e641-6ea49049f6a2"
      },
      "execution_count": null,
      "outputs": [
        {
          "output_type": "stream",
          "name": "stdout",
          "text": [
            "The number of rows after joining is: 124193\n"
          ]
        }
      ]
    },
    {
      "cell_type": "code",
      "source": [
        "# check the number of rows using the count function\n",
        "rows = joined_df.count()\n",
        "print(f'The number of rows after joining is: {rows}')"
      ],
      "metadata": {
        "colab": {
          "base_uri": "https://localhost:8080/"
        },
        "id": "2jAWLBvsBeWm",
        "outputId": "d4f17a1c-8437-4e0b-8db4-fd60ca518218"
      },
      "execution_count": null,
      "outputs": [
        {
          "output_type": "stream",
          "name": "stdout",
          "text": [
            "The number of rows after joining is: 124193\n"
          ]
        }
      ]
    },
    {
      "cell_type": "code",
      "source": [
        "# check the number of columns using the len function on the columns attribute\n",
        "cols = len(joined_df.columns)\n",
        "# print the results\n",
        "\n",
        "print(f'The number of columns after joining is: {cols}')"
      ],
      "metadata": {
        "colab": {
          "base_uri": "https://localhost:8080/"
        },
        "id": "kXjyixy2Bir8",
        "outputId": "c3337feb-7a2d-4ab2-e595-46e0c303fca8"
      },
      "execution_count": null,
      "outputs": [
        {
          "output_type": "stream",
          "name": "stdout",
          "text": [
            "The number of columns after joining is: 13\n"
          ]
        }
      ]
    },
    {
      "cell_type": "code",
      "source": [
        "# join the tables using a LEFT JOIN\n",
        "joined_df = offence_df.join(offence_ref, 'Offence_Code', 'left')\n",
        "# check the number of rows after joining\n",
        "rows = joined_df.count()\n",
        "print(f'The number of rows after joining is: {rows}')"
      ],
      "metadata": {
        "colab": {
          "base_uri": "https://localhost:8080/"
        },
        "id": "sCs04G0sBn-n",
        "outputId": "84ee0200-1eb4-4db4-e4e0-910db3129802"
      },
      "execution_count": null,
      "outputs": [
        {
          "output_type": "stream",
          "name": "stdout",
          "text": [
            "The number of rows after joining is: 124193\n"
          ]
        }
      ]
    },
    {
      "cell_type": "code",
      "source": [],
      "metadata": {
        "id": "7oOlFZVBVnVr"
      },
      "execution_count": null,
      "outputs": []
    },
    {
      "cell_type": "code",
      "source": [
        "query_2 = joined_df"
      ],
      "metadata": {
        "id": "0tnJTeWmBtjd"
      },
      "execution_count": null,
      "outputs": []
    },
    {
      "cell_type": "code",
      "source": [
        "print(type(joined_df))"
      ],
      "metadata": {
        "colab": {
          "base_uri": "https://localhost:8080/"
        },
        "id": "MrwI8rxwBxrt",
        "outputId": "45aefff2-3a40-4f0c-e41b-8f79545c5155"
      },
      "execution_count": null,
      "outputs": [
        {
          "output_type": "stream",
          "name": "stdout",
          "text": [
            "<class 'pyspark.sql.dataframe.DataFrame'>\n"
          ]
        }
      ]
    },
    {
      "cell_type": "code",
      "source": [
        "print(joined_df.count())"
      ],
      "metadata": {
        "colab": {
          "base_uri": "https://localhost:8080/"
        },
        "id": "beyuemDPB1e6",
        "outputId": "edcbaa9c-ff87-4a0f-8d24-5803c4879407"
      },
      "execution_count": null,
      "outputs": [
        {
          "output_type": "stream",
          "name": "stdout",
          "text": [
            "124193\n"
          ]
        }
      ]
    },
    {
      "cell_type": "code",
      "source": [
        "# Print schema\n",
        "query_2.printSchema()"
      ],
      "metadata": {
        "colab": {
          "base_uri": "https://localhost:8080/"
        },
        "id": "JsObQAkgB8K4",
        "outputId": "76697140-50cf-4052-a8c3-bb0296db87b0"
      },
      "execution_count": null,
      "outputs": [
        {
          "output_type": "stream",
          "name": "stdout",
          "text": [
            "root\n",
            " |-- Offence_Code: string (nullable = true)\n",
            " |-- Financial_Year: string (nullable = true)\n",
            " |-- Financial_Quarter: long (nullable = true)\n",
            " |-- Force_Name: string (nullable = true)\n",
            " |-- Offence_Description: string (nullable = true)\n",
            " |-- Offence_Group: string (nullable = true)\n",
            " |-- Offence_Subgroup: string (nullable = true)\n",
            " |-- Number_of_Offences: long (nullable = true)\n",
            " |-- Offence description: string (nullable = true)\n",
            " |-- Old PRC offence group: string (nullable = true)\n",
            " |-- Old offence sub-group: string (nullable = true)\n",
            " |-- New ONS offence group: string (nullable = true)\n",
            " |-- New_ONS_sub_offence_group: string (nullable = true)\n",
            "\n"
          ]
        }
      ]
    },
    {
      "cell_type": "code",
      "source": [
        "query_2.drop('Offence description','Old PRC offence group', 'Old offence sub-group')"
      ],
      "metadata": {
        "colab": {
          "base_uri": "https://localhost:8080/",
          "height": 933
        },
        "id": "DIxSMvCwCD7k",
        "outputId": "3acb96b1-209b-47c7-9218-30e60efb9b56"
      },
      "execution_count": null,
      "outputs": [
        {
          "output_type": "execute_result",
          "data": {
            "text/plain": [
              "+------------+--------------+-----------------+------------------+--------------------+---------------+--------------------+------------------+---------------------+-------------------------+\n",
              "|Offence_Code|Financial_Year|Financial_Quarter|        Force_Name| Offence_Description|  Offence_Group|    Offence_Subgroup|Number_of_Offences|New ONS offence group|New_ONS_sub_offence_group|\n",
              "+------------+--------------+-----------------+------------------+--------------------+---------------+--------------------+------------------+---------------------+-------------------------+\n",
              "|         17A|       2019/20|                3|           Norfolk|Sexual assault on...|Sexual offences|Other sexual offe...|                29|      Sexual offences|     Other sexual offe...|\n",
              "|         17A|       2019/20|                4|         Wiltshire|Sexual assault on...|Sexual offences|Other sexual offe...|                11|      Sexual offences|     Other sexual offe...|\n",
              "|         17A|       2021/22|                3|    Cambridgeshire|Sexual assault on...|Sexual offences|Other sexual offe...|                30|      Sexual offences|     Other sexual offe...|\n",
              "|         17A|       2018/19|                3|Greater Manchester|Sexual assault on...|Sexual offences|Other sexual offe...|                72|      Sexual offences|     Other sexual offe...|\n",
              "|         17A|       2018/19|                4|      Lincolnshire|Sexual assault on...|Sexual offences|Other sexual offe...|                11|      Sexual offences|     Other sexual offe...|\n",
              "|         17A|       2020/21|                2|      Warwickshire|Sexual assault on...|Sexual offences|Other sexual offe...|                15|      Sexual offences|     Other sexual offe...|\n",
              "|         17A|       2020/21|                3|         Wiltshire|Sexual assault on...|Sexual offences|Other sexual offe...|                 7|      Sexual offences|     Other sexual offe...|\n",
              "|         17A|       2020/21|                4|            Dorset|Sexual assault on...|Sexual offences|Other sexual offe...|                15|      Sexual offences|     Other sexual offe...|\n",
              "|         17A|       2020/21|                4|   London, City of|Sexual assault on...|Sexual offences|Other sexual offe...|                 0|      Sexual offences|     Other sexual offe...|\n",
              "|         17A|       2018/19|                3| Avon and Somerset|Sexual assault on...|Sexual offences|Other sexual offe...|                44|      Sexual offences|     Other sexual offe...|\n",
              "|         17A|       2018/19|                3|              Kent|Sexual assault on...|Sexual offences|Other sexual offe...|                65|      Sexual offences|     Other sexual offe...|\n",
              "|         17A|       2020/21|                1|   Gloucestershire|Sexual assault on...|Sexual offences|Other sexual offe...|                 7|      Sexual offences|     Other sexual offe...|\n",
              "|         17A|       2020/21|                2|           Norfolk|Sexual assault on...|Sexual offences|Other sexual offe...|                22|      Sexual offences|     Other sexual offe...|\n",
              "|         17A|       2020/21|                2|  Northamptonshire|Sexual assault on...|Sexual offences|Other sexual offe...|                23|      Sexual offences|     Other sexual offe...|\n",
              "|         17A|       2020/21|                3|           Cumbria|Sexual assault on...|Sexual offences|Other sexual offe...|                15|      Sexual offences|     Other sexual offe...|\n",
              "|         17A|       2020/21|                4|   Gloucestershire|Sexual assault on...|Sexual offences|Other sexual offe...|                13|      Sexual offences|     Other sexual offe...|\n",
              "|         17A|       2020/21|                4|    Leicestershire|Sexual assault on...|Sexual offences|Other sexual offe...|                41|      Sexual offences|     Other sexual offe...|\n",
              "|         17A|       2022/23|                2|          Cheshire|Sexual assault on...|Sexual offences|Other sexual offe...|                52|      Sexual offences|     Other sexual offe...|\n",
              "|         17A|       2022/23|                2|       North Wales|Sexual assault on...|Sexual offences|Other sexual offe...|                37|      Sexual offences|     Other sexual offe...|\n",
              "|         17A|       2023/24|                1|      Lincolnshire|Sexual assault on...|Sexual offences|Other sexual offe...|                24|      Sexual offences|     Other sexual offe...|\n",
              "+------------+--------------+-----------------+------------------+--------------------+---------------+--------------------+------------------+---------------------+-------------------------+\n",
              "only showing top 20 rows"
            ],
            "text/html": [
              "<table border='1'>\n",
              "<tr><th>Offence_Code</th><th>Financial_Year</th><th>Financial_Quarter</th><th>Force_Name</th><th>Offence_Description</th><th>Offence_Group</th><th>Offence_Subgroup</th><th>Number_of_Offences</th><th>New ONS offence group</th><th>New_ONS_sub_offence_group</th></tr>\n",
              "<tr><td>17A</td><td>2019/20</td><td>3</td><td>Norfolk</td><td>Sexual assault on...</td><td>Sexual offences</td><td>Other sexual offe...</td><td>29</td><td>Sexual offences</td><td>Other sexual offe...</td></tr>\n",
              "<tr><td>17A</td><td>2019/20</td><td>4</td><td>Wiltshire</td><td>Sexual assault on...</td><td>Sexual offences</td><td>Other sexual offe...</td><td>11</td><td>Sexual offences</td><td>Other sexual offe...</td></tr>\n",
              "<tr><td>17A</td><td>2021/22</td><td>3</td><td>Cambridgeshire</td><td>Sexual assault on...</td><td>Sexual offences</td><td>Other sexual offe...</td><td>30</td><td>Sexual offences</td><td>Other sexual offe...</td></tr>\n",
              "<tr><td>17A</td><td>2018/19</td><td>3</td><td>Greater Manchester</td><td>Sexual assault on...</td><td>Sexual offences</td><td>Other sexual offe...</td><td>72</td><td>Sexual offences</td><td>Other sexual offe...</td></tr>\n",
              "<tr><td>17A</td><td>2018/19</td><td>4</td><td>Lincolnshire</td><td>Sexual assault on...</td><td>Sexual offences</td><td>Other sexual offe...</td><td>11</td><td>Sexual offences</td><td>Other sexual offe...</td></tr>\n",
              "<tr><td>17A</td><td>2020/21</td><td>2</td><td>Warwickshire</td><td>Sexual assault on...</td><td>Sexual offences</td><td>Other sexual offe...</td><td>15</td><td>Sexual offences</td><td>Other sexual offe...</td></tr>\n",
              "<tr><td>17A</td><td>2020/21</td><td>3</td><td>Wiltshire</td><td>Sexual assault on...</td><td>Sexual offences</td><td>Other sexual offe...</td><td>7</td><td>Sexual offences</td><td>Other sexual offe...</td></tr>\n",
              "<tr><td>17A</td><td>2020/21</td><td>4</td><td>Dorset</td><td>Sexual assault on...</td><td>Sexual offences</td><td>Other sexual offe...</td><td>15</td><td>Sexual offences</td><td>Other sexual offe...</td></tr>\n",
              "<tr><td>17A</td><td>2020/21</td><td>4</td><td>London, City of</td><td>Sexual assault on...</td><td>Sexual offences</td><td>Other sexual offe...</td><td>0</td><td>Sexual offences</td><td>Other sexual offe...</td></tr>\n",
              "<tr><td>17A</td><td>2018/19</td><td>3</td><td>Avon and Somerset</td><td>Sexual assault on...</td><td>Sexual offences</td><td>Other sexual offe...</td><td>44</td><td>Sexual offences</td><td>Other sexual offe...</td></tr>\n",
              "<tr><td>17A</td><td>2018/19</td><td>3</td><td>Kent</td><td>Sexual assault on...</td><td>Sexual offences</td><td>Other sexual offe...</td><td>65</td><td>Sexual offences</td><td>Other sexual offe...</td></tr>\n",
              "<tr><td>17A</td><td>2020/21</td><td>1</td><td>Gloucestershire</td><td>Sexual assault on...</td><td>Sexual offences</td><td>Other sexual offe...</td><td>7</td><td>Sexual offences</td><td>Other sexual offe...</td></tr>\n",
              "<tr><td>17A</td><td>2020/21</td><td>2</td><td>Norfolk</td><td>Sexual assault on...</td><td>Sexual offences</td><td>Other sexual offe...</td><td>22</td><td>Sexual offences</td><td>Other sexual offe...</td></tr>\n",
              "<tr><td>17A</td><td>2020/21</td><td>2</td><td>Northamptonshire</td><td>Sexual assault on...</td><td>Sexual offences</td><td>Other sexual offe...</td><td>23</td><td>Sexual offences</td><td>Other sexual offe...</td></tr>\n",
              "<tr><td>17A</td><td>2020/21</td><td>3</td><td>Cumbria</td><td>Sexual assault on...</td><td>Sexual offences</td><td>Other sexual offe...</td><td>15</td><td>Sexual offences</td><td>Other sexual offe...</td></tr>\n",
              "<tr><td>17A</td><td>2020/21</td><td>4</td><td>Gloucestershire</td><td>Sexual assault on...</td><td>Sexual offences</td><td>Other sexual offe...</td><td>13</td><td>Sexual offences</td><td>Other sexual offe...</td></tr>\n",
              "<tr><td>17A</td><td>2020/21</td><td>4</td><td>Leicestershire</td><td>Sexual assault on...</td><td>Sexual offences</td><td>Other sexual offe...</td><td>41</td><td>Sexual offences</td><td>Other sexual offe...</td></tr>\n",
              "<tr><td>17A</td><td>2022/23</td><td>2</td><td>Cheshire</td><td>Sexual assault on...</td><td>Sexual offences</td><td>Other sexual offe...</td><td>52</td><td>Sexual offences</td><td>Other sexual offe...</td></tr>\n",
              "<tr><td>17A</td><td>2022/23</td><td>2</td><td>North Wales</td><td>Sexual assault on...</td><td>Sexual offences</td><td>Other sexual offe...</td><td>37</td><td>Sexual offences</td><td>Other sexual offe...</td></tr>\n",
              "<tr><td>17A</td><td>2023/24</td><td>1</td><td>Lincolnshire</td><td>Sexual assault on...</td><td>Sexual offences</td><td>Other sexual offe...</td><td>24</td><td>Sexual offences</td><td>Other sexual offe...</td></tr>\n",
              "</table>\n",
              "only showing top 20 rows\n"
            ]
          },
          "metadata": {},
          "execution_count": 45
        }
      ]
    },
    {
      "cell_type": "code",
      "source": [
        "offence_final = query_2"
      ],
      "metadata": {
        "id": "9qs89u0fCRom"
      },
      "execution_count": null,
      "outputs": []
    },
    {
      "cell_type": "code",
      "source": [
        "query_2.printSchema()"
      ],
      "metadata": {
        "colab": {
          "base_uri": "https://localhost:8080/"
        },
        "id": "6aju-SnxCVCi",
        "outputId": "abfad42e-86d6-4f29-ef42-abcaaa6c86d2"
      },
      "execution_count": null,
      "outputs": [
        {
          "output_type": "stream",
          "name": "stdout",
          "text": [
            "root\n",
            " |-- Offence_Code: string (nullable = true)\n",
            " |-- Financial_Year: string (nullable = true)\n",
            " |-- Financial_Quarter: long (nullable = true)\n",
            " |-- Force_Name: string (nullable = true)\n",
            " |-- Offence_Description: string (nullable = true)\n",
            " |-- Offence_Group: string (nullable = true)\n",
            " |-- Offence_Subgroup: string (nullable = true)\n",
            " |-- Number_of_Offences: long (nullable = true)\n",
            " |-- Offence description: string (nullable = true)\n",
            " |-- Old PRC offence group: string (nullable = true)\n",
            " |-- Old offence sub-group: string (nullable = true)\n",
            " |-- New ONS offence group: string (nullable = true)\n",
            " |-- New_ONS_sub_offence_group: string (nullable = true)\n",
            "\n"
          ]
        }
      ]
    },
    {
      "cell_type": "code",
      "source": [
        "print(joined_df.count())"
      ],
      "metadata": {
        "colab": {
          "base_uri": "https://localhost:8080/"
        },
        "id": "pNh6BeRCCY-J",
        "outputId": "ca81d745-61f8-46a5-f36a-5f2b9b253bae"
      },
      "execution_count": null,
      "outputs": [
        {
          "output_type": "stream",
          "name": "stdout",
          "text": [
            "124193\n"
          ]
        }
      ]
    },
    {
      "cell_type": "code",
      "source": [
        "# check the number of rows in the DataFrame\n",
        "print(offence_final.count())"
      ],
      "metadata": {
        "colab": {
          "base_uri": "https://localhost:8080/"
        },
        "id": "-MttNpIYCdFp",
        "outputId": "8546c80e-651b-4e59-c6e1-24ee07686c9c"
      },
      "execution_count": null,
      "outputs": [
        {
          "output_type": "stream",
          "name": "stdout",
          "text": [
            "124193\n"
          ]
        }
      ]
    },
    {
      "cell_type": "code",
      "source": [
        "\n",
        "# Statical Questions\n",
        "# What is the total number of offences in the between year 2018 to 2023\n",
        "\n",
        "totalsum = offence_final.agg(sum('Number_of_Offences')).collect()[0][0]\n",
        "print(f'The total sum of Number of offences from 2018-2023 is: {np.round(totalsum, 2)}')"
      ],
      "metadata": {
        "colab": {
          "base_uri": "https://localhost:8080/"
        },
        "id": "PBZyFnH3EvH8",
        "outputId": "9bd09108-76a1-4922-c2b0-728c8f5b5946"
      },
      "execution_count": null,
      "outputs": [
        {
          "output_type": "stream",
          "name": "stdout",
          "text": [
            "The total sum of Number of offences from 2018-2023 is: 32247967\n"
          ]
        }
      ]
    },
    {
      "cell_type": "code",
      "source": [
        "# Descriptive statistics of  Numeric Column \"Number_of_Offences\"\n",
        "offence_final.describe(['Number_of_Offences']).show()"
      ],
      "metadata": {
        "colab": {
          "base_uri": "https://localhost:8080/"
        },
        "id": "e_aSmjo1HCyr",
        "outputId": "14f7a35c-af88-4dfd-f651-f4d652ea487b"
      },
      "execution_count": null,
      "outputs": [
        {
          "output_type": "stream",
          "name": "stdout",
          "text": [
            "+-------+------------------+\n",
            "|summary|Number_of_Offences|\n",
            "+-------+------------------+\n",
            "|  count|            124193|\n",
            "|   mean| 259.6601016160331|\n",
            "| stddev|2012.7913765560593|\n",
            "|    min|                -2|\n",
            "|    max|            132693|\n",
            "+-------+------------------+\n",
            "\n"
          ]
        }
      ]
    },
    {
      "cell_type": "code",
      "source": [
        "import pyspark.sql.functions as F\n",
        "from pyspark.sql.types import StringType\n",
        "\n",
        "# Convert Financial_Year to StringType (if not already)\n",
        "query_2 = query_2.withColumn(\"Financial_Year\", F.col(\"Financial_Year\").cast(StringType()))\n",
        "\n",
        "# Replace the field with four numbers before \"/\" in the Financial_Year column\n",
        "query_2 = query_2.withColumn('Financial_Year', F.split(F.col('Financial_Year'), '/').getItem(0))\n",
        "query_2.show()"
      ],
      "metadata": {
        "colab": {
          "base_uri": "https://localhost:8080/"
        },
        "id": "yxMEDpqCHJqC",
        "outputId": "4bfd9368-7e37-411d-c15f-ebfb7e9f682e"
      },
      "execution_count": null,
      "outputs": [
        {
          "output_type": "stream",
          "name": "stdout",
          "text": [
            "+------------+--------------+-----------------+------------------+--------------------+---------------+--------------------+------------------+--------------------+---------------------+---------------------+---------------------+-------------------------+\n",
            "|Offence_Code|Financial_Year|Financial_Quarter|        Force_Name| Offence_Description|  Offence_Group|    Offence_Subgroup|Number_of_Offences| Offence description|Old PRC offence group|Old offence sub-group|New ONS offence group|New_ONS_sub_offence_group|\n",
            "+------------+--------------+-----------------+------------------+--------------------+---------------+--------------------+------------------+--------------------+---------------------+---------------------+---------------------+-------------------------+\n",
            "|         17A|          2019|                3|           Norfolk|Sexual assault on...|Sexual offences|Other sexual offe...|                29|Sexual assault on...|      Sexual offences| Most serious sexu...|      Sexual offences|     Other sexual offe...|\n",
            "|         17A|          2019|                4|         Wiltshire|Sexual assault on...|Sexual offences|Other sexual offe...|                11|Sexual assault on...|      Sexual offences| Most serious sexu...|      Sexual offences|     Other sexual offe...|\n",
            "|         17A|          2021|                3|    Cambridgeshire|Sexual assault on...|Sexual offences|Other sexual offe...|                30|Sexual assault on...|      Sexual offences| Most serious sexu...|      Sexual offences|     Other sexual offe...|\n",
            "|         17A|          2018|                3|Greater Manchester|Sexual assault on...|Sexual offences|Other sexual offe...|                72|Sexual assault on...|      Sexual offences| Most serious sexu...|      Sexual offences|     Other sexual offe...|\n",
            "|         17A|          2018|                4|      Lincolnshire|Sexual assault on...|Sexual offences|Other sexual offe...|                11|Sexual assault on...|      Sexual offences| Most serious sexu...|      Sexual offences|     Other sexual offe...|\n",
            "|         17A|          2020|                2|      Warwickshire|Sexual assault on...|Sexual offences|Other sexual offe...|                15|Sexual assault on...|      Sexual offences| Most serious sexu...|      Sexual offences|     Other sexual offe...|\n",
            "|         17A|          2020|                3|         Wiltshire|Sexual assault on...|Sexual offences|Other sexual offe...|                 7|Sexual assault on...|      Sexual offences| Most serious sexu...|      Sexual offences|     Other sexual offe...|\n",
            "|         17A|          2020|                4|            Dorset|Sexual assault on...|Sexual offences|Other sexual offe...|                15|Sexual assault on...|      Sexual offences| Most serious sexu...|      Sexual offences|     Other sexual offe...|\n",
            "|         17A|          2020|                4|   London, City of|Sexual assault on...|Sexual offences|Other sexual offe...|                 0|Sexual assault on...|      Sexual offences| Most serious sexu...|      Sexual offences|     Other sexual offe...|\n",
            "|         17A|          2018|                3| Avon and Somerset|Sexual assault on...|Sexual offences|Other sexual offe...|                44|Sexual assault on...|      Sexual offences| Most serious sexu...|      Sexual offences|     Other sexual offe...|\n",
            "|         17A|          2018|                3|              Kent|Sexual assault on...|Sexual offences|Other sexual offe...|                65|Sexual assault on...|      Sexual offences| Most serious sexu...|      Sexual offences|     Other sexual offe...|\n",
            "|         17A|          2020|                1|   Gloucestershire|Sexual assault on...|Sexual offences|Other sexual offe...|                 7|Sexual assault on...|      Sexual offences| Most serious sexu...|      Sexual offences|     Other sexual offe...|\n",
            "|         17A|          2020|                2|           Norfolk|Sexual assault on...|Sexual offences|Other sexual offe...|                22|Sexual assault on...|      Sexual offences| Most serious sexu...|      Sexual offences|     Other sexual offe...|\n",
            "|         17A|          2020|                2|  Northamptonshire|Sexual assault on...|Sexual offences|Other sexual offe...|                23|Sexual assault on...|      Sexual offences| Most serious sexu...|      Sexual offences|     Other sexual offe...|\n",
            "|         17A|          2020|                3|           Cumbria|Sexual assault on...|Sexual offences|Other sexual offe...|                15|Sexual assault on...|      Sexual offences| Most serious sexu...|      Sexual offences|     Other sexual offe...|\n",
            "|         17A|          2020|                4|   Gloucestershire|Sexual assault on...|Sexual offences|Other sexual offe...|                13|Sexual assault on...|      Sexual offences| Most serious sexu...|      Sexual offences|     Other sexual offe...|\n",
            "|         17A|          2020|                4|    Leicestershire|Sexual assault on...|Sexual offences|Other sexual offe...|                41|Sexual assault on...|      Sexual offences| Most serious sexu...|      Sexual offences|     Other sexual offe...|\n",
            "|         17A|          2022|                2|          Cheshire|Sexual assault on...|Sexual offences|Other sexual offe...|                52|Sexual assault on...|      Sexual offences| Most serious sexu...|      Sexual offences|     Other sexual offe...|\n",
            "|         17A|          2022|                2|       North Wales|Sexual assault on...|Sexual offences|Other sexual offe...|                37|Sexual assault on...|      Sexual offences| Most serious sexu...|      Sexual offences|     Other sexual offe...|\n",
            "|         17A|          2023|                1|      Lincolnshire|Sexual assault on...|Sexual offences|Other sexual offe...|                24|Sexual assault on...|      Sexual offences| Most serious sexu...|      Sexual offences|     Other sexual offe...|\n",
            "+------------+--------------+-----------------+------------------+--------------------+---------------+--------------------+------------------+--------------------+---------------------+---------------------+---------------------+-------------------------+\n",
            "only showing top 20 rows\n",
            "\n"
          ]
        }
      ]
    },
    {
      "cell_type": "code",
      "source": [
        "offence_final = query_2"
      ],
      "metadata": {
        "id": "ragoJGqzH9QQ"
      },
      "execution_count": null,
      "outputs": []
    },
    {
      "cell_type": "code",
      "source": [
        "offence_final.show()"
      ],
      "metadata": {
        "colab": {
          "base_uri": "https://localhost:8080/"
        },
        "id": "EAnrMVxiIBBg",
        "outputId": "947e4d00-222e-4753-e98e-b13d643c2eb4"
      },
      "execution_count": null,
      "outputs": [
        {
          "output_type": "stream",
          "name": "stdout",
          "text": [
            "+------------+--------------+-----------------+------------------+--------------------+---------------+--------------------+------------------+--------------------+---------------------+---------------------+---------------------+-------------------------+\n",
            "|Offence_Code|Financial_Year|Financial_Quarter|        Force_Name| Offence_Description|  Offence_Group|    Offence_Subgroup|Number_of_Offences| Offence description|Old PRC offence group|Old offence sub-group|New ONS offence group|New_ONS_sub_offence_group|\n",
            "+------------+--------------+-----------------+------------------+--------------------+---------------+--------------------+------------------+--------------------+---------------------+---------------------+---------------------+-------------------------+\n",
            "|         17A|          2019|                3|           Norfolk|Sexual assault on...|Sexual offences|Other sexual offe...|                29|Sexual assault on...|      Sexual offences| Most serious sexu...|      Sexual offences|     Other sexual offe...|\n",
            "|         17A|          2019|                4|         Wiltshire|Sexual assault on...|Sexual offences|Other sexual offe...|                11|Sexual assault on...|      Sexual offences| Most serious sexu...|      Sexual offences|     Other sexual offe...|\n",
            "|         17A|          2021|                3|    Cambridgeshire|Sexual assault on...|Sexual offences|Other sexual offe...|                30|Sexual assault on...|      Sexual offences| Most serious sexu...|      Sexual offences|     Other sexual offe...|\n",
            "|         17A|          2018|                3|Greater Manchester|Sexual assault on...|Sexual offences|Other sexual offe...|                72|Sexual assault on...|      Sexual offences| Most serious sexu...|      Sexual offences|     Other sexual offe...|\n",
            "|         17A|          2018|                4|      Lincolnshire|Sexual assault on...|Sexual offences|Other sexual offe...|                11|Sexual assault on...|      Sexual offences| Most serious sexu...|      Sexual offences|     Other sexual offe...|\n",
            "|         17A|          2020|                2|      Warwickshire|Sexual assault on...|Sexual offences|Other sexual offe...|                15|Sexual assault on...|      Sexual offences| Most serious sexu...|      Sexual offences|     Other sexual offe...|\n",
            "|         17A|          2020|                3|         Wiltshire|Sexual assault on...|Sexual offences|Other sexual offe...|                 7|Sexual assault on...|      Sexual offences| Most serious sexu...|      Sexual offences|     Other sexual offe...|\n",
            "|         17A|          2020|                4|            Dorset|Sexual assault on...|Sexual offences|Other sexual offe...|                15|Sexual assault on...|      Sexual offences| Most serious sexu...|      Sexual offences|     Other sexual offe...|\n",
            "|         17A|          2020|                4|   London, City of|Sexual assault on...|Sexual offences|Other sexual offe...|                 0|Sexual assault on...|      Sexual offences| Most serious sexu...|      Sexual offences|     Other sexual offe...|\n",
            "|         17A|          2018|                3| Avon and Somerset|Sexual assault on...|Sexual offences|Other sexual offe...|                44|Sexual assault on...|      Sexual offences| Most serious sexu...|      Sexual offences|     Other sexual offe...|\n",
            "|         17A|          2018|                3|              Kent|Sexual assault on...|Sexual offences|Other sexual offe...|                65|Sexual assault on...|      Sexual offences| Most serious sexu...|      Sexual offences|     Other sexual offe...|\n",
            "|         17A|          2020|                1|   Gloucestershire|Sexual assault on...|Sexual offences|Other sexual offe...|                 7|Sexual assault on...|      Sexual offences| Most serious sexu...|      Sexual offences|     Other sexual offe...|\n",
            "|         17A|          2020|                2|           Norfolk|Sexual assault on...|Sexual offences|Other sexual offe...|                22|Sexual assault on...|      Sexual offences| Most serious sexu...|      Sexual offences|     Other sexual offe...|\n",
            "|         17A|          2020|                2|  Northamptonshire|Sexual assault on...|Sexual offences|Other sexual offe...|                23|Sexual assault on...|      Sexual offences| Most serious sexu...|      Sexual offences|     Other sexual offe...|\n",
            "|         17A|          2020|                3|           Cumbria|Sexual assault on...|Sexual offences|Other sexual offe...|                15|Sexual assault on...|      Sexual offences| Most serious sexu...|      Sexual offences|     Other sexual offe...|\n",
            "|         17A|          2020|                4|   Gloucestershire|Sexual assault on...|Sexual offences|Other sexual offe...|                13|Sexual assault on...|      Sexual offences| Most serious sexu...|      Sexual offences|     Other sexual offe...|\n",
            "|         17A|          2020|                4|    Leicestershire|Sexual assault on...|Sexual offences|Other sexual offe...|                41|Sexual assault on...|      Sexual offences| Most serious sexu...|      Sexual offences|     Other sexual offe...|\n",
            "|         17A|          2022|                2|          Cheshire|Sexual assault on...|Sexual offences|Other sexual offe...|                52|Sexual assault on...|      Sexual offences| Most serious sexu...|      Sexual offences|     Other sexual offe...|\n",
            "|         17A|          2022|                2|       North Wales|Sexual assault on...|Sexual offences|Other sexual offe...|                37|Sexual assault on...|      Sexual offences| Most serious sexu...|      Sexual offences|     Other sexual offe...|\n",
            "|         17A|          2023|                1|      Lincolnshire|Sexual assault on...|Sexual offences|Other sexual offe...|                24|Sexual assault on...|      Sexual offences| Most serious sexu...|      Sexual offences|     Other sexual offe...|\n",
            "+------------+--------------+-----------------+------------------+--------------------+---------------+--------------------+------------------+--------------------+---------------------+---------------------+---------------------+-------------------------+\n",
            "only showing top 20 rows\n",
            "\n"
          ]
        }
      ]
    },
    {
      "cell_type": "code",
      "source": [
        "# convert the data type of the Financial_Year column to an integer\n",
        "offence_final = offence_final.withColumn('Financial_Year', offence_final['Financial_Year'].cast('int'))"
      ],
      "metadata": {
        "id": "LuljyQtfII7u"
      },
      "execution_count": null,
      "outputs": []
    },
    {
      "cell_type": "code",
      "source": [
        "# calculate the correlation between Financial_Year and Number_of_Offences\n",
        "yr_corr_offence = offence_final.corr('Financial_Year', 'Number_of_Offences')"
      ],
      "metadata": {
        "id": "stvE8YtJIOYp"
      },
      "execution_count": null,
      "outputs": []
    },
    {
      "cell_type": "code",
      "source": [
        "# print the correlation\n",
        "print(f'The correlation between Financial Year and Number of offences is: {yr_corr_offence:.4f}')\n",
        "\n"
      ],
      "metadata": {
        "colab": {
          "base_uri": "https://localhost:8080/"
        },
        "id": "8_9uja5tIY6E",
        "outputId": "cfebf979-e607-4ebd-a136-d8c5605a5e51"
      },
      "execution_count": null,
      "outputs": [
        {
          "output_type": "stream",
          "name": "stdout",
          "text": [
            "The correlation between Financial Year and Number of offences is: 0.0038\n"
          ]
        }
      ]
    },
    {
      "cell_type": "code",
      "source": [
        "# Correlation betwen financial year and number of offences\n",
        "qt_corr_offence = offence_final.corr('Financial_Quarter', 'Number_of_Offences')\n",
        "\n",
        "print(f'The correlation between Financial Year and Number of offences is: {qt_corr_offence:.4f}')"
      ],
      "metadata": {
        "colab": {
          "base_uri": "https://localhost:8080/"
        },
        "id": "hTjm65bsIdTi",
        "outputId": "f33e3cc9-3218-4587-bd2d-d57cb8c899db"
      },
      "execution_count": null,
      "outputs": [
        {
          "output_type": "stream",
          "name": "stdout",
          "text": [
            "The correlation between Financial Year and Number of offences is: -0.0007\n"
          ]
        }
      ]
    },
    {
      "cell_type": "code",
      "source": [
        "# Covariance betwen financial year and number of offences\n",
        "yr_corr_offence = offence_final.cov('Financial_Year', 'Number_of_Offences')\n",
        "\n",
        "print(f'The covariance between Financial Year and Number of offences is: {yr_corr_offence:.4f}')\n",
        "\n"
      ],
      "metadata": {
        "colab": {
          "base_uri": "https://localhost:8080/"
        },
        "id": "ByzngQ-kI239",
        "outputId": "cd78b37e-eb1e-4bc0-d9d8-c2b3dbecc746"
      },
      "execution_count": null,
      "outputs": [
        {
          "output_type": "stream",
          "name": "stdout",
          "text": [
            "The covariance between Financial Year and Number of offences is: 11.6841\n"
          ]
        }
      ]
    },
    {
      "cell_type": "code",
      "source": [
        "# Covariance betwen financial year and number of offences\n",
        "qt_corr_offence = offence_final.cov('Financial_Quarter', 'Number_of_Offences')\n",
        "\n",
        "print(f'The covariance between Financial Year and Number of offences is: {qt_corr_offence:.4f}')"
      ],
      "metadata": {
        "colab": {
          "base_uri": "https://localhost:8080/"
        },
        "id": "Vzv81epRI5mQ",
        "outputId": "a67bc9b3-ddf5-4064-d7b4-64ad56658ab3"
      },
      "execution_count": null,
      "outputs": [
        {
          "output_type": "stream",
          "name": "stdout",
          "text": [
            "The covariance between Financial Year and Number of offences is: -1.5094\n"
          ]
        }
      ]
    },
    {
      "cell_type": "code",
      "source": [
        "# check for skewness of Number of Offences\n",
        "skewness_num_of_offences = offence_final.select(skewness('Number_of_Offences')).collect()[0][0]\n",
        "\n",
        "print(f'The skewness is: {skewness_num_of_offences: .2f}')"
      ],
      "metadata": {
        "colab": {
          "base_uri": "https://localhost:8080/"
        },
        "id": "ONBhz9HRJFX2",
        "outputId": "0b6c4013-051b-4435-ad49-4be9f96a00fd"
      },
      "execution_count": null,
      "outputs": [
        {
          "output_type": "stream",
          "name": "stdout",
          "text": [
            "The skewness is:  38.80\n"
          ]
        }
      ]
    },
    {
      "cell_type": "code",
      "source": [
        "pip install pingouin"
      ],
      "metadata": {
        "colab": {
          "base_uri": "https://localhost:8080/"
        },
        "id": "ZJpqyRivJO9x",
        "outputId": "c6c34c9d-ad64-4446-fa57-c90a411e5e54"
      },
      "execution_count": null,
      "outputs": [
        {
          "output_type": "stream",
          "name": "stdout",
          "text": [
            "Collecting pingouin\n",
            "  Downloading pingouin-0.5.3-py3-none-any.whl (198 kB)\n",
            "\u001b[?25l     \u001b[90m━━━━━━━━━━━━━━━━━━━━━━━━━━━━━━━━━━━━━━━━\u001b[0m \u001b[32m0.0/198.6 kB\u001b[0m \u001b[31m?\u001b[0m eta \u001b[36m-:--:--\u001b[0m\r\u001b[2K     \u001b[91m━━━━━━━━━━━━━━━━━━━━━━\u001b[0m\u001b[91m╸\u001b[0m\u001b[90m━━━━━━━━━━━━━━━━━\u001b[0m \u001b[32m112.6/198.6 kB\u001b[0m \u001b[31m3.1 MB/s\u001b[0m eta \u001b[36m0:00:01\u001b[0m\r\u001b[2K     \u001b[90m━━━━━━━━━━━━━━━━━━━━━━━━━━━━━━━━━━━━━━━━\u001b[0m \u001b[32m198.6/198.6 kB\u001b[0m \u001b[31m3.6 MB/s\u001b[0m eta \u001b[36m0:00:00\u001b[0m\n",
            "\u001b[?25hRequirement already satisfied: numpy>=1.19 in /usr/local/lib/python3.10/dist-packages (from pingouin) (1.23.5)\n",
            "Requirement already satisfied: scipy>=1.7 in /usr/local/lib/python3.10/dist-packages (from pingouin) (1.11.4)\n",
            "Requirement already satisfied: pandas>=1.0 in /usr/local/lib/python3.10/dist-packages (from pingouin) (1.5.3)\n",
            "Requirement already satisfied: matplotlib>=3.0.2 in /usr/local/lib/python3.10/dist-packages (from pingouin) (3.7.1)\n",
            "Requirement already satisfied: seaborn>=0.11 in /usr/local/lib/python3.10/dist-packages (from pingouin) (0.12.2)\n",
            "Requirement already satisfied: statsmodels>=0.13 in /usr/local/lib/python3.10/dist-packages (from pingouin) (0.14.1)\n",
            "Requirement already satisfied: scikit-learn in /usr/local/lib/python3.10/dist-packages (from pingouin) (1.2.2)\n",
            "Collecting pandas-flavor>=0.2.0 (from pingouin)\n",
            "  Downloading pandas_flavor-0.6.0-py3-none-any.whl (7.2 kB)\n",
            "Collecting outdated (from pingouin)\n",
            "  Downloading outdated-0.2.2-py2.py3-none-any.whl (7.5 kB)\n",
            "Requirement already satisfied: tabulate in /usr/local/lib/python3.10/dist-packages (from pingouin) (0.9.0)\n",
            "Requirement already satisfied: contourpy>=1.0.1 in /usr/local/lib/python3.10/dist-packages (from matplotlib>=3.0.2->pingouin) (1.2.0)\n",
            "Requirement already satisfied: cycler>=0.10 in /usr/local/lib/python3.10/dist-packages (from matplotlib>=3.0.2->pingouin) (0.12.1)\n",
            "Requirement already satisfied: fonttools>=4.22.0 in /usr/local/lib/python3.10/dist-packages (from matplotlib>=3.0.2->pingouin) (4.47.0)\n",
            "Requirement already satisfied: kiwisolver>=1.0.1 in /usr/local/lib/python3.10/dist-packages (from matplotlib>=3.0.2->pingouin) (1.4.5)\n",
            "Requirement already satisfied: packaging>=20.0 in /usr/local/lib/python3.10/dist-packages (from matplotlib>=3.0.2->pingouin) (23.2)\n",
            "Requirement already satisfied: pillow>=6.2.0 in /usr/local/lib/python3.10/dist-packages (from matplotlib>=3.0.2->pingouin) (9.4.0)\n",
            "Requirement already satisfied: pyparsing>=2.3.1 in /usr/local/lib/python3.10/dist-packages (from matplotlib>=3.0.2->pingouin) (3.1.1)\n",
            "Requirement already satisfied: python-dateutil>=2.7 in /usr/local/lib/python3.10/dist-packages (from matplotlib>=3.0.2->pingouin) (2.8.2)\n",
            "Requirement already satisfied: pytz>=2020.1 in /usr/local/lib/python3.10/dist-packages (from pandas>=1.0->pingouin) (2023.3.post1)\n",
            "Requirement already satisfied: xarray in /usr/local/lib/python3.10/dist-packages (from pandas-flavor>=0.2.0->pingouin) (2023.7.0)\n",
            "Requirement already satisfied: patsy>=0.5.4 in /usr/local/lib/python3.10/dist-packages (from statsmodels>=0.13->pingouin) (0.5.6)\n",
            "Requirement already satisfied: setuptools>=44 in /usr/local/lib/python3.10/dist-packages (from outdated->pingouin) (67.7.2)\n",
            "Collecting littleutils (from outdated->pingouin)\n",
            "  Downloading littleutils-0.2.2.tar.gz (6.6 kB)\n",
            "  Preparing metadata (setup.py) ... \u001b[?25l\u001b[?25hdone\n",
            "Requirement already satisfied: requests in /usr/local/lib/python3.10/dist-packages (from outdated->pingouin) (2.31.0)\n",
            "Requirement already satisfied: joblib>=1.1.1 in /usr/local/lib/python3.10/dist-packages (from scikit-learn->pingouin) (1.3.2)\n",
            "Requirement already satisfied: threadpoolctl>=2.0.0 in /usr/local/lib/python3.10/dist-packages (from scikit-learn->pingouin) (3.2.0)\n",
            "Requirement already satisfied: six in /usr/local/lib/python3.10/dist-packages (from patsy>=0.5.4->statsmodels>=0.13->pingouin) (1.16.0)\n",
            "Requirement already satisfied: charset-normalizer<4,>=2 in /usr/local/lib/python3.10/dist-packages (from requests->outdated->pingouin) (3.3.2)\n",
            "Requirement already satisfied: idna<4,>=2.5 in /usr/local/lib/python3.10/dist-packages (from requests->outdated->pingouin) (3.6)\n",
            "Requirement already satisfied: urllib3<3,>=1.21.1 in /usr/local/lib/python3.10/dist-packages (from requests->outdated->pingouin) (2.0.7)\n",
            "Requirement already satisfied: certifi>=2017.4.17 in /usr/local/lib/python3.10/dist-packages (from requests->outdated->pingouin) (2023.11.17)\n",
            "Building wheels for collected packages: littleutils\n",
            "  Building wheel for littleutils (setup.py) ... \u001b[?25l\u001b[?25hdone\n",
            "  Created wheel for littleutils: filename=littleutils-0.2.2-py3-none-any.whl size=7026 sha256=5a9cf2a9adc3acc6082c3e4f405128c8b9a9d0fc6a41b55760ab3d4c276172b4\n",
            "  Stored in directory: /root/.cache/pip/wheels/3d/fe/b0/27a9892da57472e538c7452a721a9cf463cc03cf7379889266\n",
            "Successfully built littleutils\n",
            "Installing collected packages: littleutils, outdated, pandas-flavor, pingouin\n",
            "Successfully installed littleutils-0.2.2 outdated-0.2.2 pandas-flavor-0.6.0 pingouin-0.5.3\n"
          ]
        }
      ]
    },
    {
      "cell_type": "code",
      "source": [
        "import pingouin as pg"
      ],
      "metadata": {
        "id": "S6IAKTQyOUPs"
      },
      "execution_count": null,
      "outputs": []
    },
    {
      "cell_type": "code",
      "source": [
        "# @title Research Questions\n",
        "#\n",
        "# 1. Has there been a notable shift in the total number of offences over time?\n",
        "# 2. Are there any financial quarters where the offence rate is consistently greater or lower?\n",
        "# 3. Does the offence type typically vary according to the fiscal quarter?\n",
        "# 4. Do some police force jurisdictions have a higher likelihood of experiencing particular offence groupings or subgroups? Expecially for sexual abuse and fraud\n",
        "\n",
        "\n"
      ],
      "metadata": {
        "id": "xcqqjd9RK2sv"
      },
      "execution_count": null,
      "outputs": []
    },
    {
      "cell_type": "code",
      "source": [
        " # Does the offence type typically vary according to the fiscal quarter?\n",
        "\n",
        "sample_offence = offence_final.select('Financial_Year', 'Financial_Quarter', 'Force_Name', 'New ONS offence group', 'Number_of_Offences').sample(False, 0.50, 42).toPandas()"
      ],
      "metadata": {
        "id": "Z1CuF0cpLa7e"
      },
      "execution_count": null,
      "outputs": []
    },
    {
      "cell_type": "code",
      "source": [
        "# Theory1\n",
        "str1 = \"\"\" -  Has there been a notable shift in the total number of offences over time?\n",
        "   * Null hypothesis (H0): Over time, there hasn't been a discernible change in the mean number of offences.\n",
        "    * Alternative hypothesis (Ha): Over time, there has been a considerable change in the mean number of offences.\n",
        "    *  Examine: ANOVA\"\"\"\n",
        "\n",
        "# ANOVA\n",
        "eva1 = pg.anova(data=sample_offence,\n",
        "         dv='Number_of_Offences',\n",
        "         between='Financial_Year')\n",
        "\n",
        "# Displays outputs\n",
        "display(str1)\n",
        "display(eva1)\n",
        "display('As our p-value is smaller than our significance level *0.1*, the null hypothesis is rejected.')\n",
        "display('The number of crimes varies dramatically between at least two Financial Years.')"
      ],
      "metadata": {
        "colab": {
          "base_uri": "https://localhost:8080/",
          "height": 169
        },
        "id": "KOFhAxLqOhW_",
        "outputId": "b3b6bd8c-f474-411b-b169-0471b3439013"
      },
      "execution_count": null,
      "outputs": [
        {
          "output_type": "display_data",
          "data": {
            "text/plain": [
              "\" -  Has there been a notable shift in the total number of offences over time?\\n   * Null hypothesis (H0): Over time, there hasn't been a discernible change in the mean number of offences.\\n    * Alternative hypothesis (Ha): Over time, there has been a considerable change in the mean number of offences.\\n    *  Examine: ANOVA\""
            ],
            "application/vnd.google.colaboratory.intrinsic+json": {
              "type": "string"
            }
          },
          "metadata": {}
        },
        {
          "output_type": "display_data",
          "data": {
            "text/plain": [
              "           Source  ddof1  ddof2         F     p-unc       np2\n",
              "0  Financial_Year      5  62291  0.842391  0.519327  0.000068"
            ],
            "text/html": [
              "\n",
              "  <div id=\"df-4895b2de-b1cb-4df7-b1d6-820dffb545eb\" class=\"colab-df-container\">\n",
              "    <div>\n",
              "<style scoped>\n",
              "    .dataframe tbody tr th:only-of-type {\n",
              "        vertical-align: middle;\n",
              "    }\n",
              "\n",
              "    .dataframe tbody tr th {\n",
              "        vertical-align: top;\n",
              "    }\n",
              "\n",
              "    .dataframe thead th {\n",
              "        text-align: right;\n",
              "    }\n",
              "</style>\n",
              "<table border=\"1\" class=\"dataframe\">\n",
              "  <thead>\n",
              "    <tr style=\"text-align: right;\">\n",
              "      <th></th>\n",
              "      <th>Source</th>\n",
              "      <th>ddof1</th>\n",
              "      <th>ddof2</th>\n",
              "      <th>F</th>\n",
              "      <th>p-unc</th>\n",
              "      <th>np2</th>\n",
              "    </tr>\n",
              "  </thead>\n",
              "  <tbody>\n",
              "    <tr>\n",
              "      <th>0</th>\n",
              "      <td>Financial_Year</td>\n",
              "      <td>5</td>\n",
              "      <td>62291</td>\n",
              "      <td>0.842391</td>\n",
              "      <td>0.519327</td>\n",
              "      <td>0.000068</td>\n",
              "    </tr>\n",
              "  </tbody>\n",
              "</table>\n",
              "</div>\n",
              "    <div class=\"colab-df-buttons\">\n",
              "\n",
              "  <div class=\"colab-df-container\">\n",
              "    <button class=\"colab-df-convert\" onclick=\"convertToInteractive('df-4895b2de-b1cb-4df7-b1d6-820dffb545eb')\"\n",
              "            title=\"Convert this dataframe to an interactive table.\"\n",
              "            style=\"display:none;\">\n",
              "\n",
              "  <svg xmlns=\"http://www.w3.org/2000/svg\" height=\"24px\" viewBox=\"0 -960 960 960\">\n",
              "    <path d=\"M120-120v-720h720v720H120Zm60-500h600v-160H180v160Zm220 220h160v-160H400v160Zm0 220h160v-160H400v160ZM180-400h160v-160H180v160Zm440 0h160v-160H620v160ZM180-180h160v-160H180v160Zm440 0h160v-160H620v160Z\"/>\n",
              "  </svg>\n",
              "    </button>\n",
              "\n",
              "  <style>\n",
              "    .colab-df-container {\n",
              "      display:flex;\n",
              "      gap: 12px;\n",
              "    }\n",
              "\n",
              "    .colab-df-convert {\n",
              "      background-color: #E8F0FE;\n",
              "      border: none;\n",
              "      border-radius: 50%;\n",
              "      cursor: pointer;\n",
              "      display: none;\n",
              "      fill: #1967D2;\n",
              "      height: 32px;\n",
              "      padding: 0 0 0 0;\n",
              "      width: 32px;\n",
              "    }\n",
              "\n",
              "    .colab-df-convert:hover {\n",
              "      background-color: #E2EBFA;\n",
              "      box-shadow: 0px 1px 2px rgba(60, 64, 67, 0.3), 0px 1px 3px 1px rgba(60, 64, 67, 0.15);\n",
              "      fill: #174EA6;\n",
              "    }\n",
              "\n",
              "    .colab-df-buttons div {\n",
              "      margin-bottom: 4px;\n",
              "    }\n",
              "\n",
              "    [theme=dark] .colab-df-convert {\n",
              "      background-color: #3B4455;\n",
              "      fill: #D2E3FC;\n",
              "    }\n",
              "\n",
              "    [theme=dark] .colab-df-convert:hover {\n",
              "      background-color: #434B5C;\n",
              "      box-shadow: 0px 1px 3px 1px rgba(0, 0, 0, 0.15);\n",
              "      filter: drop-shadow(0px 1px 2px rgba(0, 0, 0, 0.3));\n",
              "      fill: #FFFFFF;\n",
              "    }\n",
              "  </style>\n",
              "\n",
              "    <script>\n",
              "      const buttonEl =\n",
              "        document.querySelector('#df-4895b2de-b1cb-4df7-b1d6-820dffb545eb button.colab-df-convert');\n",
              "      buttonEl.style.display =\n",
              "        google.colab.kernel.accessAllowed ? 'block' : 'none';\n",
              "\n",
              "      async function convertToInteractive(key) {\n",
              "        const element = document.querySelector('#df-4895b2de-b1cb-4df7-b1d6-820dffb545eb');\n",
              "        const dataTable =\n",
              "          await google.colab.kernel.invokeFunction('convertToInteractive',\n",
              "                                                    [key], {});\n",
              "        if (!dataTable) return;\n",
              "\n",
              "        const docLinkHtml = 'Like what you see? Visit the ' +\n",
              "          '<a target=\"_blank\" href=https://colab.research.google.com/notebooks/data_table.ipynb>data table notebook</a>'\n",
              "          + ' to learn more about interactive tables.';\n",
              "        element.innerHTML = '';\n",
              "        dataTable['output_type'] = 'display_data';\n",
              "        await google.colab.output.renderOutput(dataTable, element);\n",
              "        const docLink = document.createElement('div');\n",
              "        docLink.innerHTML = docLinkHtml;\n",
              "        element.appendChild(docLink);\n",
              "      }\n",
              "    </script>\n",
              "  </div>\n",
              "\n",
              "    </div>\n",
              "  </div>\n"
            ]
          },
          "metadata": {}
        },
        {
          "output_type": "display_data",
          "data": {
            "text/plain": [
              "'As our p-value is smaller than our significance level *0.1*, the null hypothesis is rejected.'"
            ],
            "application/vnd.google.colaboratory.intrinsic+json": {
              "type": "string"
            }
          },
          "metadata": {}
        },
        {
          "output_type": "display_data",
          "data": {
            "text/plain": [
              "'The number of crimes varies dramatically between at least two Financial Years.'"
            ],
            "application/vnd.google.colaboratory.intrinsic+json": {
              "type": "string"
            }
          },
          "metadata": {}
        }
      ]
    },
    {
      "cell_type": "code",
      "source": [
        "# Theory2\n",
        "str2 = \"\"\" -  Are there any financial quarters where the offence rate is consistently greater or lower?\n",
        "  * H0: The offence rates do not significantly differ between financial quarters.\n",
        "  * Ha: The offence rates do significantly differ between financial quarters.\n",
        "  * ANOVA test comparing the offence rates in each quarter.\"\"\"\n",
        "\n",
        "# ANOVA\n",
        "eva2 = pg.anova(data=sample_offence,\n",
        "         dv='Number_of_Offences',\n",
        "         between='Financial_Quarter')\n",
        "\n",
        "# Display outputs\n",
        "display(str2)\n",
        "display(eva2)\n",
        "display('As our p-value is smaller than our significance level *0.1*, the null hypothesis is rejected.')\n",
        "display('There are at least two Financial Quarters where the total number of crimes differs noticeably.')"
      ],
      "metadata": {
        "colab": {
          "base_uri": "https://localhost:8080/",
          "height": 169
        },
        "id": "OZxq86TXQmQ5",
        "outputId": "2b54fb39-dbcd-4982-f15d-0f7e49895adf"
      },
      "execution_count": null,
      "outputs": [
        {
          "output_type": "display_data",
          "data": {
            "text/plain": [
              "' -  Are there any financial quarters where the offence rate is consistently greater or lower?\\n  * H0: The offence rates do not significantly differ between financial quarters.\\n  * Ha: The offence rates do significantly differ between financial quarters.\\n  * ANOVA test comparing the offence rates in each quarter.'"
            ],
            "application/vnd.google.colaboratory.intrinsic+json": {
              "type": "string"
            }
          },
          "metadata": {}
        },
        {
          "output_type": "display_data",
          "data": {
            "text/plain": [
              "              Source  ddof1  ddof2         F     p-unc      np2\n",
              "0  Financial_Quarter      3  62293  1.243613  0.292043  0.00006"
            ],
            "text/html": [
              "\n",
              "  <div id=\"df-deb63b33-f4a8-492f-a2f2-1b78666be0cc\" class=\"colab-df-container\">\n",
              "    <div>\n",
              "<style scoped>\n",
              "    .dataframe tbody tr th:only-of-type {\n",
              "        vertical-align: middle;\n",
              "    }\n",
              "\n",
              "    .dataframe tbody tr th {\n",
              "        vertical-align: top;\n",
              "    }\n",
              "\n",
              "    .dataframe thead th {\n",
              "        text-align: right;\n",
              "    }\n",
              "</style>\n",
              "<table border=\"1\" class=\"dataframe\">\n",
              "  <thead>\n",
              "    <tr style=\"text-align: right;\">\n",
              "      <th></th>\n",
              "      <th>Source</th>\n",
              "      <th>ddof1</th>\n",
              "      <th>ddof2</th>\n",
              "      <th>F</th>\n",
              "      <th>p-unc</th>\n",
              "      <th>np2</th>\n",
              "    </tr>\n",
              "  </thead>\n",
              "  <tbody>\n",
              "    <tr>\n",
              "      <th>0</th>\n",
              "      <td>Financial_Quarter</td>\n",
              "      <td>3</td>\n",
              "      <td>62293</td>\n",
              "      <td>1.243613</td>\n",
              "      <td>0.292043</td>\n",
              "      <td>0.00006</td>\n",
              "    </tr>\n",
              "  </tbody>\n",
              "</table>\n",
              "</div>\n",
              "    <div class=\"colab-df-buttons\">\n",
              "\n",
              "  <div class=\"colab-df-container\">\n",
              "    <button class=\"colab-df-convert\" onclick=\"convertToInteractive('df-deb63b33-f4a8-492f-a2f2-1b78666be0cc')\"\n",
              "            title=\"Convert this dataframe to an interactive table.\"\n",
              "            style=\"display:none;\">\n",
              "\n",
              "  <svg xmlns=\"http://www.w3.org/2000/svg\" height=\"24px\" viewBox=\"0 -960 960 960\">\n",
              "    <path d=\"M120-120v-720h720v720H120Zm60-500h600v-160H180v160Zm220 220h160v-160H400v160Zm0 220h160v-160H400v160ZM180-400h160v-160H180v160Zm440 0h160v-160H620v160ZM180-180h160v-160H180v160Zm440 0h160v-160H620v160Z\"/>\n",
              "  </svg>\n",
              "    </button>\n",
              "\n",
              "  <style>\n",
              "    .colab-df-container {\n",
              "      display:flex;\n",
              "      gap: 12px;\n",
              "    }\n",
              "\n",
              "    .colab-df-convert {\n",
              "      background-color: #E8F0FE;\n",
              "      border: none;\n",
              "      border-radius: 50%;\n",
              "      cursor: pointer;\n",
              "      display: none;\n",
              "      fill: #1967D2;\n",
              "      height: 32px;\n",
              "      padding: 0 0 0 0;\n",
              "      width: 32px;\n",
              "    }\n",
              "\n",
              "    .colab-df-convert:hover {\n",
              "      background-color: #E2EBFA;\n",
              "      box-shadow: 0px 1px 2px rgba(60, 64, 67, 0.3), 0px 1px 3px 1px rgba(60, 64, 67, 0.15);\n",
              "      fill: #174EA6;\n",
              "    }\n",
              "\n",
              "    .colab-df-buttons div {\n",
              "      margin-bottom: 4px;\n",
              "    }\n",
              "\n",
              "    [theme=dark] .colab-df-convert {\n",
              "      background-color: #3B4455;\n",
              "      fill: #D2E3FC;\n",
              "    }\n",
              "\n",
              "    [theme=dark] .colab-df-convert:hover {\n",
              "      background-color: #434B5C;\n",
              "      box-shadow: 0px 1px 3px 1px rgba(0, 0, 0, 0.15);\n",
              "      filter: drop-shadow(0px 1px 2px rgba(0, 0, 0, 0.3));\n",
              "      fill: #FFFFFF;\n",
              "    }\n",
              "  </style>\n",
              "\n",
              "    <script>\n",
              "      const buttonEl =\n",
              "        document.querySelector('#df-deb63b33-f4a8-492f-a2f2-1b78666be0cc button.colab-df-convert');\n",
              "      buttonEl.style.display =\n",
              "        google.colab.kernel.accessAllowed ? 'block' : 'none';\n",
              "\n",
              "      async function convertToInteractive(key) {\n",
              "        const element = document.querySelector('#df-deb63b33-f4a8-492f-a2f2-1b78666be0cc');\n",
              "        const dataTable =\n",
              "          await google.colab.kernel.invokeFunction('convertToInteractive',\n",
              "                                                    [key], {});\n",
              "        if (!dataTable) return;\n",
              "\n",
              "        const docLinkHtml = 'Like what you see? Visit the ' +\n",
              "          '<a target=\"_blank\" href=https://colab.research.google.com/notebooks/data_table.ipynb>data table notebook</a>'\n",
              "          + ' to learn more about interactive tables.';\n",
              "        element.innerHTML = '';\n",
              "        dataTable['output_type'] = 'display_data';\n",
              "        await google.colab.output.renderOutput(dataTable, element);\n",
              "        const docLink = document.createElement('div');\n",
              "        docLink.innerHTML = docLinkHtml;\n",
              "        element.appendChild(docLink);\n",
              "      }\n",
              "    </script>\n",
              "  </div>\n",
              "\n",
              "    </div>\n",
              "  </div>\n"
            ]
          },
          "metadata": {}
        },
        {
          "output_type": "display_data",
          "data": {
            "text/plain": [
              "'As our p-value is smaller than our significance level *0.1*, the null hypothesis is rejected.'"
            ],
            "application/vnd.google.colaboratory.intrinsic+json": {
              "type": "string"
            }
          },
          "metadata": {}
        },
        {
          "output_type": "display_data",
          "data": {
            "text/plain": [
              "'There are at least two Financial Quarters where the total number of crimes differs noticeably.'"
            ],
            "application/vnd.google.colaboratory.intrinsic+json": {
              "type": "string"
            }
          },
          "metadata": {}
        }
      ]
    },
    {
      "cell_type": "code",
      "source": [
        "# Print the column names of the DataFrame\n",
        "print(sample_offence.columns)"
      ],
      "metadata": {
        "colab": {
          "base_uri": "https://localhost:8080/"
        },
        "id": "059a_DCLUAwM",
        "outputId": "263988c6-4c7d-4062-c697-66ee0807ce29"
      },
      "execution_count": null,
      "outputs": [
        {
          "output_type": "stream",
          "name": "stdout",
          "text": [
            "Index(['Financial_Year', 'Financial_Quarter', 'Force_Name',\n",
            "       'New ONS offence group', 'Number_of_Offences'],\n",
            "      dtype='object')\n"
          ]
        }
      ]
    },
    {
      "cell_type": "code",
      "source": [
        "expected, observed, stats = pg.chi2_independence(data=sample_offence, x='New ONS offence group', y='Financial_Quarter')"
      ],
      "metadata": {
        "id": "3a29NinwUT92"
      },
      "execution_count": null,
      "outputs": []
    },
    {
      "cell_type": "code",
      "source": [
        "# Theory3\n",
        "str3 = \"\"\" -  Does the offence type typically vary according to the fiscal quarter?\n",
        "   * Ha: There is a relationship between the financial quarter and the offence type.\n",
        "   * H0: There is no relationship between the offence type and financial quarter.\n",
        "   * Test: Chi-square independence test.\"\"\"\n",
        "\n",
        "# chisquare_test\n",
        "expected, observed, stats = pg.chi2_independence(data=sample_offence, x='New ONS offence group', y='Financial_Quarter')\n",
        "\n",
        "# Displays output\n",
        "display(str3)\n",
        "display(stats)\n",
        "display('Our p-value above our significance level, hence the null hypothesis cannot be ruled out.')"
      ],
      "metadata": {
        "colab": {
          "base_uri": "https://localhost:8080/",
          "height": 308
        },
        "id": "8PONuHIkUcOE",
        "outputId": "d4c32d6b-282d-4916-dffa-2524e42cbc98"
      },
      "execution_count": null,
      "outputs": [
        {
          "output_type": "display_data",
          "data": {
            "text/plain": [
              "' -  Does the offence type typically vary according to the fiscal quarter?\\n   * Ha: There is a relationship between the financial quarter and the offence type.\\n   * H0: There is no relationship between the offence type and financial quarter.\\n   * Test: Chi-square independence test.'"
            ],
            "application/vnd.google.colaboratory.intrinsic+json": {
              "type": "string"
            }
          },
          "metadata": {}
        },
        {
          "output_type": "display_data",
          "data": {
            "text/plain": [
              "                 test    lambda       chi2   dof      pval    cramer     power\n",
              "0             pearson  1.000000  13.832486  24.0  0.950344  0.008603  0.164969\n",
              "1        cressie-read  0.666667  13.832614  24.0  0.950341  0.008603  0.164970\n",
              "2      log-likelihood  0.000000  13.834504  24.0  0.950300  0.008604  0.164990\n",
              "3       freeman-tukey -0.500000  13.837348  24.0  0.950239  0.008605  0.165021\n",
              "4  mod-log-likelihood -1.000000  13.841413  24.0  0.950151  0.008606  0.165064\n",
              "5              neyman -2.000000  13.853205  24.0  0.949897  0.008610  0.165191"
            ],
            "text/html": [
              "\n",
              "  <div id=\"df-dffde228-1c1f-40e2-bbc8-cad6f303abe4\" class=\"colab-df-container\">\n",
              "    <div>\n",
              "<style scoped>\n",
              "    .dataframe tbody tr th:only-of-type {\n",
              "        vertical-align: middle;\n",
              "    }\n",
              "\n",
              "    .dataframe tbody tr th {\n",
              "        vertical-align: top;\n",
              "    }\n",
              "\n",
              "    .dataframe thead th {\n",
              "        text-align: right;\n",
              "    }\n",
              "</style>\n",
              "<table border=\"1\" class=\"dataframe\">\n",
              "  <thead>\n",
              "    <tr style=\"text-align: right;\">\n",
              "      <th></th>\n",
              "      <th>test</th>\n",
              "      <th>lambda</th>\n",
              "      <th>chi2</th>\n",
              "      <th>dof</th>\n",
              "      <th>pval</th>\n",
              "      <th>cramer</th>\n",
              "      <th>power</th>\n",
              "    </tr>\n",
              "  </thead>\n",
              "  <tbody>\n",
              "    <tr>\n",
              "      <th>0</th>\n",
              "      <td>pearson</td>\n",
              "      <td>1.000000</td>\n",
              "      <td>13.832486</td>\n",
              "      <td>24.0</td>\n",
              "      <td>0.950344</td>\n",
              "      <td>0.008603</td>\n",
              "      <td>0.164969</td>\n",
              "    </tr>\n",
              "    <tr>\n",
              "      <th>1</th>\n",
              "      <td>cressie-read</td>\n",
              "      <td>0.666667</td>\n",
              "      <td>13.832614</td>\n",
              "      <td>24.0</td>\n",
              "      <td>0.950341</td>\n",
              "      <td>0.008603</td>\n",
              "      <td>0.164970</td>\n",
              "    </tr>\n",
              "    <tr>\n",
              "      <th>2</th>\n",
              "      <td>log-likelihood</td>\n",
              "      <td>0.000000</td>\n",
              "      <td>13.834504</td>\n",
              "      <td>24.0</td>\n",
              "      <td>0.950300</td>\n",
              "      <td>0.008604</td>\n",
              "      <td>0.164990</td>\n",
              "    </tr>\n",
              "    <tr>\n",
              "      <th>3</th>\n",
              "      <td>freeman-tukey</td>\n",
              "      <td>-0.500000</td>\n",
              "      <td>13.837348</td>\n",
              "      <td>24.0</td>\n",
              "      <td>0.950239</td>\n",
              "      <td>0.008605</td>\n",
              "      <td>0.165021</td>\n",
              "    </tr>\n",
              "    <tr>\n",
              "      <th>4</th>\n",
              "      <td>mod-log-likelihood</td>\n",
              "      <td>-1.000000</td>\n",
              "      <td>13.841413</td>\n",
              "      <td>24.0</td>\n",
              "      <td>0.950151</td>\n",
              "      <td>0.008606</td>\n",
              "      <td>0.165064</td>\n",
              "    </tr>\n",
              "    <tr>\n",
              "      <th>5</th>\n",
              "      <td>neyman</td>\n",
              "      <td>-2.000000</td>\n",
              "      <td>13.853205</td>\n",
              "      <td>24.0</td>\n",
              "      <td>0.949897</td>\n",
              "      <td>0.008610</td>\n",
              "      <td>0.165191</td>\n",
              "    </tr>\n",
              "  </tbody>\n",
              "</table>\n",
              "</div>\n",
              "    <div class=\"colab-df-buttons\">\n",
              "\n",
              "  <div class=\"colab-df-container\">\n",
              "    <button class=\"colab-df-convert\" onclick=\"convertToInteractive('df-dffde228-1c1f-40e2-bbc8-cad6f303abe4')\"\n",
              "            title=\"Convert this dataframe to an interactive table.\"\n",
              "            style=\"display:none;\">\n",
              "\n",
              "  <svg xmlns=\"http://www.w3.org/2000/svg\" height=\"24px\" viewBox=\"0 -960 960 960\">\n",
              "    <path d=\"M120-120v-720h720v720H120Zm60-500h600v-160H180v160Zm220 220h160v-160H400v160Zm0 220h160v-160H400v160ZM180-400h160v-160H180v160Zm440 0h160v-160H620v160ZM180-180h160v-160H180v160Zm440 0h160v-160H620v160Z\"/>\n",
              "  </svg>\n",
              "    </button>\n",
              "\n",
              "  <style>\n",
              "    .colab-df-container {\n",
              "      display:flex;\n",
              "      gap: 12px;\n",
              "    }\n",
              "\n",
              "    .colab-df-convert {\n",
              "      background-color: #E8F0FE;\n",
              "      border: none;\n",
              "      border-radius: 50%;\n",
              "      cursor: pointer;\n",
              "      display: none;\n",
              "      fill: #1967D2;\n",
              "      height: 32px;\n",
              "      padding: 0 0 0 0;\n",
              "      width: 32px;\n",
              "    }\n",
              "\n",
              "    .colab-df-convert:hover {\n",
              "      background-color: #E2EBFA;\n",
              "      box-shadow: 0px 1px 2px rgba(60, 64, 67, 0.3), 0px 1px 3px 1px rgba(60, 64, 67, 0.15);\n",
              "      fill: #174EA6;\n",
              "    }\n",
              "\n",
              "    .colab-df-buttons div {\n",
              "      margin-bottom: 4px;\n",
              "    }\n",
              "\n",
              "    [theme=dark] .colab-df-convert {\n",
              "      background-color: #3B4455;\n",
              "      fill: #D2E3FC;\n",
              "    }\n",
              "\n",
              "    [theme=dark] .colab-df-convert:hover {\n",
              "      background-color: #434B5C;\n",
              "      box-shadow: 0px 1px 3px 1px rgba(0, 0, 0, 0.15);\n",
              "      filter: drop-shadow(0px 1px 2px rgba(0, 0, 0, 0.3));\n",
              "      fill: #FFFFFF;\n",
              "    }\n",
              "  </style>\n",
              "\n",
              "    <script>\n",
              "      const buttonEl =\n",
              "        document.querySelector('#df-dffde228-1c1f-40e2-bbc8-cad6f303abe4 button.colab-df-convert');\n",
              "      buttonEl.style.display =\n",
              "        google.colab.kernel.accessAllowed ? 'block' : 'none';\n",
              "\n",
              "      async function convertToInteractive(key) {\n",
              "        const element = document.querySelector('#df-dffde228-1c1f-40e2-bbc8-cad6f303abe4');\n",
              "        const dataTable =\n",
              "          await google.colab.kernel.invokeFunction('convertToInteractive',\n",
              "                                                    [key], {});\n",
              "        if (!dataTable) return;\n",
              "\n",
              "        const docLinkHtml = 'Like what you see? Visit the ' +\n",
              "          '<a target=\"_blank\" href=https://colab.research.google.com/notebooks/data_table.ipynb>data table notebook</a>'\n",
              "          + ' to learn more about interactive tables.';\n",
              "        element.innerHTML = '';\n",
              "        dataTable['output_type'] = 'display_data';\n",
              "        await google.colab.output.renderOutput(dataTable, element);\n",
              "        const docLink = document.createElement('div');\n",
              "        docLink.innerHTML = docLinkHtml;\n",
              "        element.appendChild(docLink);\n",
              "      }\n",
              "    </script>\n",
              "  </div>\n",
              "\n",
              "\n",
              "<div id=\"df-a9ed87e3-2dee-441b-abd4-b52952bb3baf\">\n",
              "  <button class=\"colab-df-quickchart\" onclick=\"quickchart('df-a9ed87e3-2dee-441b-abd4-b52952bb3baf')\"\n",
              "            title=\"Suggest charts\"\n",
              "            style=\"display:none;\">\n",
              "\n",
              "<svg xmlns=\"http://www.w3.org/2000/svg\" height=\"24px\"viewBox=\"0 0 24 24\"\n",
              "     width=\"24px\">\n",
              "    <g>\n",
              "        <path d=\"M19 3H5c-1.1 0-2 .9-2 2v14c0 1.1.9 2 2 2h14c1.1 0 2-.9 2-2V5c0-1.1-.9-2-2-2zM9 17H7v-7h2v7zm4 0h-2V7h2v10zm4 0h-2v-4h2v4z\"/>\n",
              "    </g>\n",
              "</svg>\n",
              "  </button>\n",
              "\n",
              "<style>\n",
              "  .colab-df-quickchart {\n",
              "      --bg-color: #E8F0FE;\n",
              "      --fill-color: #1967D2;\n",
              "      --hover-bg-color: #E2EBFA;\n",
              "      --hover-fill-color: #174EA6;\n",
              "      --disabled-fill-color: #AAA;\n",
              "      --disabled-bg-color: #DDD;\n",
              "  }\n",
              "\n",
              "  [theme=dark] .colab-df-quickchart {\n",
              "      --bg-color: #3B4455;\n",
              "      --fill-color: #D2E3FC;\n",
              "      --hover-bg-color: #434B5C;\n",
              "      --hover-fill-color: #FFFFFF;\n",
              "      --disabled-bg-color: #3B4455;\n",
              "      --disabled-fill-color: #666;\n",
              "  }\n",
              "\n",
              "  .colab-df-quickchart {\n",
              "    background-color: var(--bg-color);\n",
              "    border: none;\n",
              "    border-radius: 50%;\n",
              "    cursor: pointer;\n",
              "    display: none;\n",
              "    fill: var(--fill-color);\n",
              "    height: 32px;\n",
              "    padding: 0;\n",
              "    width: 32px;\n",
              "  }\n",
              "\n",
              "  .colab-df-quickchart:hover {\n",
              "    background-color: var(--hover-bg-color);\n",
              "    box-shadow: 0 1px 2px rgba(60, 64, 67, 0.3), 0 1px 3px 1px rgba(60, 64, 67, 0.15);\n",
              "    fill: var(--button-hover-fill-color);\n",
              "  }\n",
              "\n",
              "  .colab-df-quickchart-complete:disabled,\n",
              "  .colab-df-quickchart-complete:disabled:hover {\n",
              "    background-color: var(--disabled-bg-color);\n",
              "    fill: var(--disabled-fill-color);\n",
              "    box-shadow: none;\n",
              "  }\n",
              "\n",
              "  .colab-df-spinner {\n",
              "    border: 2px solid var(--fill-color);\n",
              "    border-color: transparent;\n",
              "    border-bottom-color: var(--fill-color);\n",
              "    animation:\n",
              "      spin 1s steps(1) infinite;\n",
              "  }\n",
              "\n",
              "  @keyframes spin {\n",
              "    0% {\n",
              "      border-color: transparent;\n",
              "      border-bottom-color: var(--fill-color);\n",
              "      border-left-color: var(--fill-color);\n",
              "    }\n",
              "    20% {\n",
              "      border-color: transparent;\n",
              "      border-left-color: var(--fill-color);\n",
              "      border-top-color: var(--fill-color);\n",
              "    }\n",
              "    30% {\n",
              "      border-color: transparent;\n",
              "      border-left-color: var(--fill-color);\n",
              "      border-top-color: var(--fill-color);\n",
              "      border-right-color: var(--fill-color);\n",
              "    }\n",
              "    40% {\n",
              "      border-color: transparent;\n",
              "      border-right-color: var(--fill-color);\n",
              "      border-top-color: var(--fill-color);\n",
              "    }\n",
              "    60% {\n",
              "      border-color: transparent;\n",
              "      border-right-color: var(--fill-color);\n",
              "    }\n",
              "    80% {\n",
              "      border-color: transparent;\n",
              "      border-right-color: var(--fill-color);\n",
              "      border-bottom-color: var(--fill-color);\n",
              "    }\n",
              "    90% {\n",
              "      border-color: transparent;\n",
              "      border-bottom-color: var(--fill-color);\n",
              "    }\n",
              "  }\n",
              "</style>\n",
              "\n",
              "  <script>\n",
              "    async function quickchart(key) {\n",
              "      const quickchartButtonEl =\n",
              "        document.querySelector('#' + key + ' button');\n",
              "      quickchartButtonEl.disabled = true;  // To prevent multiple clicks.\n",
              "      quickchartButtonEl.classList.add('colab-df-spinner');\n",
              "      try {\n",
              "        const charts = await google.colab.kernel.invokeFunction(\n",
              "            'suggestCharts', [key], {});\n",
              "      } catch (error) {\n",
              "        console.error('Error during call to suggestCharts:', error);\n",
              "      }\n",
              "      quickchartButtonEl.classList.remove('colab-df-spinner');\n",
              "      quickchartButtonEl.classList.add('colab-df-quickchart-complete');\n",
              "    }\n",
              "    (() => {\n",
              "      let quickchartButtonEl =\n",
              "        document.querySelector('#df-a9ed87e3-2dee-441b-abd4-b52952bb3baf button');\n",
              "      quickchartButtonEl.style.display =\n",
              "        google.colab.kernel.accessAllowed ? 'block' : 'none';\n",
              "    })();\n",
              "  </script>\n",
              "</div>\n",
              "    </div>\n",
              "  </div>\n"
            ]
          },
          "metadata": {}
        },
        {
          "output_type": "display_data",
          "data": {
            "text/plain": [
              "'Our p-value above our significance level, hence the null hypothesis cannot be ruled out.'"
            ],
            "application/vnd.google.colaboratory.intrinsic+json": {
              "type": "string"
            }
          },
          "metadata": {}
        }
      ]
    },
    {
      "cell_type": "code",
      "source": [
        "# Theory4\n",
        "str4 = \"\"\"-Do some police force jurisdictions have a higher likelihood of experiencing particular offence groupings or subgroups? Expecially for sexual abuse and fraud\n",
        " * H0: There is no variation in the distribution of offence groupings among police force jurisdictions.\n",
        " * Ha: Different police force jurisdictions have varied distributions of offence groups.\n",
        " * Chi-square test of independence is the test.\"\"\"\n",
        "\n",
        "#  chisquare_test\n",
        "expected, observed, stats = pg.chi2_independence(data=sample_offence, x='New ONS offence group', y='Force_Name')\n",
        "\n",
        "# Displays output\n",
        "display(str4)\n",
        "display(stats)\n",
        "display('Our p-value above our significance level, hence the null hypothesis cannot be ruled out')"
      ],
      "metadata": {
        "colab": {
          "base_uri": "https://localhost:8080/",
          "height": 325
        },
        "id": "A-98H2U5WNCA",
        "outputId": "ed74237f-14fa-442c-e61e-4d9532beef68"
      },
      "execution_count": null,
      "outputs": [
        {
          "output_type": "display_data",
          "data": {
            "text/plain": [
              "'-Do some police force jurisdictions have a higher likelihood of experiencing particular offence groupings or subgroups? Expecially for sexual abuse and fraud\\n * H0: There is no variation in the distribution of offence groupings among police force jurisdictions.\\n * Ha: Different police force jurisdictions have varied distributions of offence groups.\\n * Chi-square test of independence is the test.'"
            ],
            "application/vnd.google.colaboratory.intrinsic+json": {
              "type": "string"
            }
          },
          "metadata": {}
        },
        {
          "output_type": "display_data",
          "data": {
            "text/plain": [
              "                 test    lambda        chi2    dof  pval    cramer     power\n",
              "0             pearson  1.000000  157.247343  344.0   1.0  0.017763  0.185597\n",
              "1        cressie-read  0.666667  157.186163  344.0   1.0  0.017759  0.185522\n",
              "2      log-likelihood  0.000000  157.197015  344.0   1.0  0.017760  0.185535\n",
              "3       freeman-tukey -0.500000  157.322477  344.0   1.0  0.017767  0.185690\n",
              "4  mod-log-likelihood -1.000000  157.549737  344.0   1.0  0.017780  0.185969\n",
              "5              neyman -2.000000  158.316712  344.0   1.0  0.017823  0.186915"
            ],
            "text/html": [
              "\n",
              "  <div id=\"df-b008b5be-6f81-4d91-b2a6-6b26e39e17eb\" class=\"colab-df-container\">\n",
              "    <div>\n",
              "<style scoped>\n",
              "    .dataframe tbody tr th:only-of-type {\n",
              "        vertical-align: middle;\n",
              "    }\n",
              "\n",
              "    .dataframe tbody tr th {\n",
              "        vertical-align: top;\n",
              "    }\n",
              "\n",
              "    .dataframe thead th {\n",
              "        text-align: right;\n",
              "    }\n",
              "</style>\n",
              "<table border=\"1\" class=\"dataframe\">\n",
              "  <thead>\n",
              "    <tr style=\"text-align: right;\">\n",
              "      <th></th>\n",
              "      <th>test</th>\n",
              "      <th>lambda</th>\n",
              "      <th>chi2</th>\n",
              "      <th>dof</th>\n",
              "      <th>pval</th>\n",
              "      <th>cramer</th>\n",
              "      <th>power</th>\n",
              "    </tr>\n",
              "  </thead>\n",
              "  <tbody>\n",
              "    <tr>\n",
              "      <th>0</th>\n",
              "      <td>pearson</td>\n",
              "      <td>1.000000</td>\n",
              "      <td>157.247343</td>\n",
              "      <td>344.0</td>\n",
              "      <td>1.0</td>\n",
              "      <td>0.017763</td>\n",
              "      <td>0.185597</td>\n",
              "    </tr>\n",
              "    <tr>\n",
              "      <th>1</th>\n",
              "      <td>cressie-read</td>\n",
              "      <td>0.666667</td>\n",
              "      <td>157.186163</td>\n",
              "      <td>344.0</td>\n",
              "      <td>1.0</td>\n",
              "      <td>0.017759</td>\n",
              "      <td>0.185522</td>\n",
              "    </tr>\n",
              "    <tr>\n",
              "      <th>2</th>\n",
              "      <td>log-likelihood</td>\n",
              "      <td>0.000000</td>\n",
              "      <td>157.197015</td>\n",
              "      <td>344.0</td>\n",
              "      <td>1.0</td>\n",
              "      <td>0.017760</td>\n",
              "      <td>0.185535</td>\n",
              "    </tr>\n",
              "    <tr>\n",
              "      <th>3</th>\n",
              "      <td>freeman-tukey</td>\n",
              "      <td>-0.500000</td>\n",
              "      <td>157.322477</td>\n",
              "      <td>344.0</td>\n",
              "      <td>1.0</td>\n",
              "      <td>0.017767</td>\n",
              "      <td>0.185690</td>\n",
              "    </tr>\n",
              "    <tr>\n",
              "      <th>4</th>\n",
              "      <td>mod-log-likelihood</td>\n",
              "      <td>-1.000000</td>\n",
              "      <td>157.549737</td>\n",
              "      <td>344.0</td>\n",
              "      <td>1.0</td>\n",
              "      <td>0.017780</td>\n",
              "      <td>0.185969</td>\n",
              "    </tr>\n",
              "    <tr>\n",
              "      <th>5</th>\n",
              "      <td>neyman</td>\n",
              "      <td>-2.000000</td>\n",
              "      <td>158.316712</td>\n",
              "      <td>344.0</td>\n",
              "      <td>1.0</td>\n",
              "      <td>0.017823</td>\n",
              "      <td>0.186915</td>\n",
              "    </tr>\n",
              "  </tbody>\n",
              "</table>\n",
              "</div>\n",
              "    <div class=\"colab-df-buttons\">\n",
              "\n",
              "  <div class=\"colab-df-container\">\n",
              "    <button class=\"colab-df-convert\" onclick=\"convertToInteractive('df-b008b5be-6f81-4d91-b2a6-6b26e39e17eb')\"\n",
              "            title=\"Convert this dataframe to an interactive table.\"\n",
              "            style=\"display:none;\">\n",
              "\n",
              "  <svg xmlns=\"http://www.w3.org/2000/svg\" height=\"24px\" viewBox=\"0 -960 960 960\">\n",
              "    <path d=\"M120-120v-720h720v720H120Zm60-500h600v-160H180v160Zm220 220h160v-160H400v160Zm0 220h160v-160H400v160ZM180-400h160v-160H180v160Zm440 0h160v-160H620v160ZM180-180h160v-160H180v160Zm440 0h160v-160H620v160Z\"/>\n",
              "  </svg>\n",
              "    </button>\n",
              "\n",
              "  <style>\n",
              "    .colab-df-container {\n",
              "      display:flex;\n",
              "      gap: 12px;\n",
              "    }\n",
              "\n",
              "    .colab-df-convert {\n",
              "      background-color: #E8F0FE;\n",
              "      border: none;\n",
              "      border-radius: 50%;\n",
              "      cursor: pointer;\n",
              "      display: none;\n",
              "      fill: #1967D2;\n",
              "      height: 32px;\n",
              "      padding: 0 0 0 0;\n",
              "      width: 32px;\n",
              "    }\n",
              "\n",
              "    .colab-df-convert:hover {\n",
              "      background-color: #E2EBFA;\n",
              "      box-shadow: 0px 1px 2px rgba(60, 64, 67, 0.3), 0px 1px 3px 1px rgba(60, 64, 67, 0.15);\n",
              "      fill: #174EA6;\n",
              "    }\n",
              "\n",
              "    .colab-df-buttons div {\n",
              "      margin-bottom: 4px;\n",
              "    }\n",
              "\n",
              "    [theme=dark] .colab-df-convert {\n",
              "      background-color: #3B4455;\n",
              "      fill: #D2E3FC;\n",
              "    }\n",
              "\n",
              "    [theme=dark] .colab-df-convert:hover {\n",
              "      background-color: #434B5C;\n",
              "      box-shadow: 0px 1px 3px 1px rgba(0, 0, 0, 0.15);\n",
              "      filter: drop-shadow(0px 1px 2px rgba(0, 0, 0, 0.3));\n",
              "      fill: #FFFFFF;\n",
              "    }\n",
              "  </style>\n",
              "\n",
              "    <script>\n",
              "      const buttonEl =\n",
              "        document.querySelector('#df-b008b5be-6f81-4d91-b2a6-6b26e39e17eb button.colab-df-convert');\n",
              "      buttonEl.style.display =\n",
              "        google.colab.kernel.accessAllowed ? 'block' : 'none';\n",
              "\n",
              "      async function convertToInteractive(key) {\n",
              "        const element = document.querySelector('#df-b008b5be-6f81-4d91-b2a6-6b26e39e17eb');\n",
              "        const dataTable =\n",
              "          await google.colab.kernel.invokeFunction('convertToInteractive',\n",
              "                                                    [key], {});\n",
              "        if (!dataTable) return;\n",
              "\n",
              "        const docLinkHtml = 'Like what you see? Visit the ' +\n",
              "          '<a target=\"_blank\" href=https://colab.research.google.com/notebooks/data_table.ipynb>data table notebook</a>'\n",
              "          + ' to learn more about interactive tables.';\n",
              "        element.innerHTML = '';\n",
              "        dataTable['output_type'] = 'display_data';\n",
              "        await google.colab.output.renderOutput(dataTable, element);\n",
              "        const docLink = document.createElement('div');\n",
              "        docLink.innerHTML = docLinkHtml;\n",
              "        element.appendChild(docLink);\n",
              "      }\n",
              "    </script>\n",
              "  </div>\n",
              "\n",
              "\n",
              "<div id=\"df-c9a5d5bf-b997-4ef3-8276-350a064a4f1c\">\n",
              "  <button class=\"colab-df-quickchart\" onclick=\"quickchart('df-c9a5d5bf-b997-4ef3-8276-350a064a4f1c')\"\n",
              "            title=\"Suggest charts\"\n",
              "            style=\"display:none;\">\n",
              "\n",
              "<svg xmlns=\"http://www.w3.org/2000/svg\" height=\"24px\"viewBox=\"0 0 24 24\"\n",
              "     width=\"24px\">\n",
              "    <g>\n",
              "        <path d=\"M19 3H5c-1.1 0-2 .9-2 2v14c0 1.1.9 2 2 2h14c1.1 0 2-.9 2-2V5c0-1.1-.9-2-2-2zM9 17H7v-7h2v7zm4 0h-2V7h2v10zm4 0h-2v-4h2v4z\"/>\n",
              "    </g>\n",
              "</svg>\n",
              "  </button>\n",
              "\n",
              "<style>\n",
              "  .colab-df-quickchart {\n",
              "      --bg-color: #E8F0FE;\n",
              "      --fill-color: #1967D2;\n",
              "      --hover-bg-color: #E2EBFA;\n",
              "      --hover-fill-color: #174EA6;\n",
              "      --disabled-fill-color: #AAA;\n",
              "      --disabled-bg-color: #DDD;\n",
              "  }\n",
              "\n",
              "  [theme=dark] .colab-df-quickchart {\n",
              "      --bg-color: #3B4455;\n",
              "      --fill-color: #D2E3FC;\n",
              "      --hover-bg-color: #434B5C;\n",
              "      --hover-fill-color: #FFFFFF;\n",
              "      --disabled-bg-color: #3B4455;\n",
              "      --disabled-fill-color: #666;\n",
              "  }\n",
              "\n",
              "  .colab-df-quickchart {\n",
              "    background-color: var(--bg-color);\n",
              "    border: none;\n",
              "    border-radius: 50%;\n",
              "    cursor: pointer;\n",
              "    display: none;\n",
              "    fill: var(--fill-color);\n",
              "    height: 32px;\n",
              "    padding: 0;\n",
              "    width: 32px;\n",
              "  }\n",
              "\n",
              "  .colab-df-quickchart:hover {\n",
              "    background-color: var(--hover-bg-color);\n",
              "    box-shadow: 0 1px 2px rgba(60, 64, 67, 0.3), 0 1px 3px 1px rgba(60, 64, 67, 0.15);\n",
              "    fill: var(--button-hover-fill-color);\n",
              "  }\n",
              "\n",
              "  .colab-df-quickchart-complete:disabled,\n",
              "  .colab-df-quickchart-complete:disabled:hover {\n",
              "    background-color: var(--disabled-bg-color);\n",
              "    fill: var(--disabled-fill-color);\n",
              "    box-shadow: none;\n",
              "  }\n",
              "\n",
              "  .colab-df-spinner {\n",
              "    border: 2px solid var(--fill-color);\n",
              "    border-color: transparent;\n",
              "    border-bottom-color: var(--fill-color);\n",
              "    animation:\n",
              "      spin 1s steps(1) infinite;\n",
              "  }\n",
              "\n",
              "  @keyframes spin {\n",
              "    0% {\n",
              "      border-color: transparent;\n",
              "      border-bottom-color: var(--fill-color);\n",
              "      border-left-color: var(--fill-color);\n",
              "    }\n",
              "    20% {\n",
              "      border-color: transparent;\n",
              "      border-left-color: var(--fill-color);\n",
              "      border-top-color: var(--fill-color);\n",
              "    }\n",
              "    30% {\n",
              "      border-color: transparent;\n",
              "      border-left-color: var(--fill-color);\n",
              "      border-top-color: var(--fill-color);\n",
              "      border-right-color: var(--fill-color);\n",
              "    }\n",
              "    40% {\n",
              "      border-color: transparent;\n",
              "      border-right-color: var(--fill-color);\n",
              "      border-top-color: var(--fill-color);\n",
              "    }\n",
              "    60% {\n",
              "      border-color: transparent;\n",
              "      border-right-color: var(--fill-color);\n",
              "    }\n",
              "    80% {\n",
              "      border-color: transparent;\n",
              "      border-right-color: var(--fill-color);\n",
              "      border-bottom-color: var(--fill-color);\n",
              "    }\n",
              "    90% {\n",
              "      border-color: transparent;\n",
              "      border-bottom-color: var(--fill-color);\n",
              "    }\n",
              "  }\n",
              "</style>\n",
              "\n",
              "  <script>\n",
              "    async function quickchart(key) {\n",
              "      const quickchartButtonEl =\n",
              "        document.querySelector('#' + key + ' button');\n",
              "      quickchartButtonEl.disabled = true;  // To prevent multiple clicks.\n",
              "      quickchartButtonEl.classList.add('colab-df-spinner');\n",
              "      try {\n",
              "        const charts = await google.colab.kernel.invokeFunction(\n",
              "            'suggestCharts', [key], {});\n",
              "      } catch (error) {\n",
              "        console.error('Error during call to suggestCharts:', error);\n",
              "      }\n",
              "      quickchartButtonEl.classList.remove('colab-df-spinner');\n",
              "      quickchartButtonEl.classList.add('colab-df-quickchart-complete');\n",
              "    }\n",
              "    (() => {\n",
              "      let quickchartButtonEl =\n",
              "        document.querySelector('#df-c9a5d5bf-b997-4ef3-8276-350a064a4f1c button');\n",
              "      quickchartButtonEl.style.display =\n",
              "        google.colab.kernel.accessAllowed ? 'block' : 'none';\n",
              "    })();\n",
              "  </script>\n",
              "</div>\n",
              "    </div>\n",
              "  </div>\n"
            ]
          },
          "metadata": {}
        },
        {
          "output_type": "display_data",
          "data": {
            "text/plain": [
              "'Our p-value above our significance level, hence the null hypothesis cannot be ruled out'"
            ],
            "application/vnd.google.colaboratory.intrinsic+json": {
              "type": "string"
            }
          },
          "metadata": {}
        }
      ]
    },
    {
      "cell_type": "code",
      "source": [
        "# @title Data Visualization Using Python\n",
        "#\n",
        "#\n",
        "# Import the libraries\n",
        "import seaborn as sns\n",
        "import numpy as np\n",
        "import matplotlib.pyplot as plt"
      ],
      "metadata": {
        "id": "u05s13eoXgX0"
      },
      "execution_count": null,
      "outputs": []
    },
    {
      "cell_type": "code",
      "source": [
        "# @title Plot Graph\n",
        "# 6 years targete columns from dataframe\n",
        "crm = offence_final.select('Financial_Year', 'Number_of_Offences').sample(False, 0.50, 42).toPandas()\n",
        "\n",
        "# Scatter plot to check for relationship between Financial year and Number of Offences\n",
        "sns.scatterplot(data=crm, x='Financial_Year', y='Number_of_Offences').set(xlabel='Financial Year',\n",
        "                                                                                    ylabel='Number of Offences',\n",
        "                                                                          xticks=[2018, 2019, 2020, 2021, 2022, 2023])\n",
        "\n",
        "# Show plot\n",
        "plt.show()"
      ],
      "metadata": {
        "colab": {
          "base_uri": "https://localhost:8080/",
          "height": 453
        },
        "id": "j0STdJnkYNaq",
        "outputId": "69b16b38-eb6e-4feb-c5b9-b344df4bfad7"
      },
      "execution_count": null,
      "outputs": [
        {
          "output_type": "display_data",
          "data": {
            "text/plain": [
              "<Figure size 640x480 with 1 Axes>"
            ],
            "image/png": "[encoded data removed]"
          },
          "metadata": {}
        }
      ]
    },
    {
      "cell_type": "code",
      "source": [
        "# Extract sammple and converts to pandas\n",
        "num_off_hst = offence_final.select('Number_of_Offences').sample(False, 0.50, 42).toPandas()\n",
        "# Plot Distribution\n",
        "num_off_hst.plot(kind='hist', bins=80)\n",
        "plt.title('Distribution of Number of Offences')\n",
        "plt.xlim(0, 3500)\n",
        "plt.legend('')\n",
        "plt.xlabel('Number of offences')"
      ],
      "metadata": {
        "colab": {
          "base_uri": "https://localhost:8080/",
          "height": 494
        },
        "id": "vpsyN2WcZkQM",
        "outputId": "17ed6110-9817-4fc2-adf6-ef42ff509e25"
      },
      "execution_count": null,
      "outputs": [
        {
          "output_type": "execute_result",
          "data": {
            "text/plain": [
              "Text(0.5, 0, 'Number of offences')"
            ]
          },
          "metadata": {},
          "execution_count": 74
        },
        {
          "output_type": "display_data",
          "data": {
            "text/plain": [
              "<Figure size 640x480 with 1 Axes>"
            ],
            "image/png": "[encoded data removed]"
          },
          "metadata": {}
        }
      ]
    },
    {
      "cell_type": "code",
      "source": [
        "# Set the figure size for plot\n",
        "fig, ax = plt.subplots(1, 2, figsize=(14, 6))\n",
        "\n",
        "# Group data by financial year and find the sum of each year\n",
        "trends_1 = offence_final.groupBy('Financial_Year').sum('Number_of_Offences').toPandas()\n",
        "\n",
        "# Group data by financial quarter and find the sum of each offences\n",
        "trends_2 = offence_final.groupBy('Financial_Quarter').sum('Number_of_Offences').toPandas()\n",
        "\n",
        "# Plot Trends_1\n",
        "sns.lineplot(data=trends_1,  x='Financial_Year', y='sum(Number_of_Offences)',\n",
        "                                                                                    ax=ax[0]).set(title='Financial Year vs Sum of Number of offences',\n",
        "                                                                                    xlabel='Financial Year',\n",
        "                                                                                    ylabel='Sum of Number of Offences(thousands)',\n",
        "                                                                                    xticks=[2018, 2019, 2020, 2021, 2022, 2023])\n",
        "# Plot  Trends_2\n",
        "sns.lineplot(data=trends_2,  x='Financial_Quarter', y='sum(Number_of_Offences)',\n",
        "                                                                                    ax=ax[1]).set(title='Financial Year vs Sum of Number of offences',\n",
        "                                                                                    xlabel='Financial Quarter',\n",
        "                                                                                    ylabel='Sum of Number of Offences(thousands)',\n",
        "                                                                                    xticks=[1, 2, 3, 4],)\n",
        "# Show plot\n",
        "plt.show()"
      ],
      "metadata": {
        "colab": {
          "base_uri": "https://localhost:8080/",
          "height": 440
        },
        "id": "1H-XJOUfZ9SE",
        "outputId": "85d5ea96-3895-4e29-9827-dfd0f95ad5de"
      },
      "execution_count": null,
      "outputs": [
        {
          "output_type": "display_data",
          "data": {
            "text/plain": [
              "<Figure size 1400x600 with 2 Axes>"
            ],
            "image/png": "[encoded data removed]"
          },
          "metadata": {}
        }
      ]
    },
    {
      "cell_type": "code",
      "source": [
        "# Set the figure size for plot\n",
        "fig, ax = plt.subplots(1, 2, figsize=(14, 6))\n",
        "\n",
        "# Plot Barplot of Financial year vs number of offences\n",
        "sns.barplot(data=trends_1,  x='Financial_Year', y='sum(Number_of_Offences)',\n",
        "                                                                                    ax=ax[0]).set(title='Financial Year vs Sum of Number of offences',\n",
        "                                                                                    xlabel='Financial Year',\n",
        "                                                                                    ylabel='Sum of Number of Offences(thousands)')\n",
        "\n",
        "# Plot Barplot of Financial quarter vs number of offences\n",
        "sns.barplot(data=trends_2,  x='Financial_Quarter', y='sum(Number_of_Offences)',\n",
        "                                                                                    ax=ax[1]).set(title='Financial Year vs Sum of Number of offences',\n",
        "                                                                                    xlabel='Financial Quarter',\n",
        "                                                                                    ylabel='Sum of Number of Offences(thousands)')\n",
        "\n",
        "# Show plot\n",
        "plt.show()"
      ],
      "metadata": {
        "colab": {
          "base_uri": "https://localhost:8080/",
          "height": 440
        },
        "id": "8iU7rL1WaRNw",
        "outputId": "3ce44e3e-ce59-474b-c4e2-c746105c8166"
      },
      "execution_count": null,
      "outputs": [
        {
          "output_type": "display_data",
          "data": {
            "text/plain": [
              "<Figure size 1400x600 with 2 Axes>"
            ],
            "image/png": "[encoded data removed]"
          },
          "metadata": {}
        }
      ]
    },
    {
      "cell_type": "code",
      "source": [
        "sns.scatterplot(data=trends_1,  x='Financial_Year', y='sum(Number_of_Offences)', ax=ax[1]).set(title='Financial Year vs Sum of Number of offences',\n",
        "                                                                                    xlabel='Financial Year',\n",
        "                                                                                    ylabel='Sum of Number of Offences(thousands)',\n",
        "                                                                                    xticks=[1, 2, 3, 4], )\n",
        "plt.show()"
      ],
      "metadata": {
        "id": "XhtEsaXxaba-"
      },
      "execution_count": null,
      "outputs": []
    },
    {
      "cell_type": "code",
      "source": [
        "# Convert Spark DataFrame to Pandas DataFrame\n",
        "offence_pd = offence_final.toPandas()"
      ],
      "metadata": {
        "id": "RNoXWR1hVtZM"
      },
      "execution_count": null,
      "outputs": []
    },
    {
      "cell_type": "code",
      "source": [
        "# Filter data for the year 2022\n",
        "offence_2022 = offence_pd[offence_pd['Financial_Year'] == 2022]"
      ],
      "metadata": {
        "id": "Slwnnd6kWGcr"
      },
      "execution_count": null,
      "outputs": []
    },
    {
      "cell_type": "code",
      "source": [
        "# Group by Offense Group and sum the Number_of_Offences\n",
        "offence_group_sum = offence_2022.groupby('Offence_Group')['Number_of_Offences'].sum()"
      ],
      "metadata": {
        "id": "tPOrTmc7WSc9"
      },
      "execution_count": null,
      "outputs": []
    },
    {
      "cell_type": "code",
      "source": [
        "# Find the Offense Group with the highest number of offenses\n",
        "max_offense_group = offence_group_sum.idxmax()"
      ],
      "metadata": {
        "id": "qZe_03DdWZ1j"
      },
      "execution_count": null,
      "outputs": []
    },
    {
      "cell_type": "code",
      "source": [
        "# Plot the bar chart\n",
        "plt.figure(figsize=(14, 6))\n",
        "offence_group_sum.sort_values(ascending=False).plot(kind='bar', color='skyblue')\n",
        "plt.title(f'Highest Number of Offences vs. Offense Group in 2022 (Max: {max_offense_group})')\n",
        "plt.xlabel('Offense Group')\n",
        "plt.ylabel('Number of Offences')\n",
        "plt.show()"
      ],
      "metadata": {
        "colab": {
          "base_uri": "https://localhost:8080/",
          "height": 599
        },
        "id": "1_dpswylWgTG",
        "outputId": "bac0e173-76c7-4977-ad69-c698e57e6133"
      },
      "execution_count": null,
      "outputs": [
        {
          "output_type": "display_data",
          "data": {
            "text/plain": [
              "<Figure size 1400x600 with 1 Axes>"
            ],
            "image/png": "[encoded data removed]"
          },
          "metadata": {}
        }
      ]
    },
    {
      "cell_type": "code",
      "source": [
        "# @title Machine Learning Modelling\n",
        "# Classification of Offences:\n",
        "# Random Forest Classifier Accuracy: 0.26141987829614605 and\n",
        "# Logistic Regression Accuracy: 0.2023529411764706\n",
        "# What is the possibility to accurately categorise offences into distinct groups according to their characteristics?\n",
        "# As well decision tree and rainforest classifiers can be used to create multiclass predictions, this are deployed for machine algorithms employed.\n",
        "#\n",
        "#"
      ],
      "metadata": {
        "id": "xp15jbTPaxjG"
      },
      "execution_count": 147,
      "outputs": []
    },
    {
      "cell_type": "code",
      "source": [
        "from pyspark.ml.feature import StringIndexer, VectorAssembler\n",
        "from pyspark.ml import Pipeline\n",
        "from pyspark.ml.classification import RandomForestClassifier\n",
        "from pyspark.ml.evaluation import MulticlassClassificationEvaluator"
      ],
      "metadata": {
        "id": "nBJYVEgidNOz"
      },
      "execution_count": 148,
      "outputs": []
    },
    {
      "cell_type": "code",
      "source": [
        "# Features variable X_a and _X_b\n",
        "# Features variable X_a and X_b\n",
        "X_a = offence_final.select('Financial_Year', 'Financial_Quarter', 'Number_of_Offences').toPandas()\n",
        "X_b = offence_final.select('Offence_Code', 'Force_Name').toPandas()\n",
        "\n",
        "# target variable\n",
        "y = offence_final.select('New ONS offence group').toPandas()"
      ],
      "metadata": {
        "id": "kcvR371Wb4N4"
      },
      "execution_count": 149,
      "outputs": []
    },
    {
      "cell_type": "code",
      "source": [
        "# Label encoding for Y\n",
        "encoder = {\n",
        "    'Sexual offences': 0,\n",
        "    'Miscellaneous crimes against society': 1,\n",
        "    'Violence against the person':  2,\n",
        "    'Criminal damage and arson': 3,\n",
        "    'Theft offences': 4,\n",
        "    'Possession of weapons offences':5,\n",
        "    'Drug offences': 6,\n",
        "    'Robbery': 7,\n",
        "    'Public order offences': 8\n",
        "}\n",
        "\n",
        "# Encode values into y\n",
        "y = y.replace(encoder)"
      ],
      "metadata": {
        "id": "SijGMXL9cCF3"
      },
      "execution_count": 150,
      "outputs": []
    },
    {
      "cell_type": "code",
      "source": [
        "# Create a StringIndexer for the target variable\n",
        "labelIndexer = StringIndexer(inputCol=\"New ONS offence group\", outputCol=\"label\",handleInvalid=\"keep\")"
      ],
      "metadata": {
        "id": "j8cRAE3Vd3HM"
      },
      "execution_count": 153,
      "outputs": []
    },
    {
      "cell_type": "code",
      "source": [
        "# Create a VectorAssembler to combine features into a single vector\n",
        "featuresAssembler = VectorAssembler(\n",
        "    inputCols=['Financial_Year', 'Financial_Quarter', 'Number_of_Offences'],\n",
        "    outputCol=\"features\"\n",
        ")"
      ],
      "metadata": {
        "id": "HLbg7Ngqd6ql"
      },
      "execution_count": 202,
      "outputs": []
    },
    {
      "cell_type": "code",
      "source": [
        "# Create a RandomForestClassifier model\n",
        "rf = RandomForestClassifier(labelCol=\"label\", featuresCol=\"features\", numTrees=10)"
      ],
      "metadata": {
        "id": "8juNJPjCd7AS"
      },
      "execution_count": 203,
      "outputs": []
    },
    {
      "cell_type": "code",
      "source": [
        "# Create a pipeline with the stages\n",
        "pipeline = Pipeline(stages=[labelIndexer, featuresAssembler, rf])"
      ],
      "metadata": {
        "id": "Y58Igndod7SA"
      },
      "execution_count": 204,
      "outputs": []
    },
    {
      "cell_type": "code",
      "source": [
        "# Split the data into training and testing sets\n",
        "(trainingData, testData) = offence_final.randomSplit([0.8, 0.2], seed=42)"
      ],
      "metadata": {
        "id": "sY-uezeDeUGG"
      },
      "execution_count": 205,
      "outputs": []
    },
    {
      "cell_type": "code",
      "source": [
        "# Train the model\n",
        "model = pipeline.fit(trainingData)"
      ],
      "metadata": {
        "id": "T_UHwHKIeUbp"
      },
      "execution_count": 158,
      "outputs": []
    },
    {
      "cell_type": "code",
      "source": [
        "# Make predictions on the test data\n",
        "predictions = model.transform(testData)"
      ],
      "metadata": {
        "id": "Ohi5IlG9esoY"
      },
      "execution_count": 206,
      "outputs": []
    },
    {
      "cell_type": "code",
      "source": [
        "# Evaluate the model\n",
        "evaluator = MulticlassClassificationEvaluator(labelCol=\"label\", predictionCol=\"prediction\", metricName=\"accuracy\")\n",
        "accuracy = evaluator.evaluate(predictions)\n",
        "\n",
        "print(f\"Accuracy: {accuracy}\")"
      ],
      "metadata": {
        "colab": {
          "base_uri": "https://localhost:8080/"
        },
        "id": "kvAxUrigd7gY",
        "outputId": "7f647ea4-869f-4911-8f9d-668b66ee4cf4"
      },
      "execution_count": 207,
      "outputs": [
        {
          "output_type": "stream",
          "name": "stdout",
          "text": [
            "Accuracy: 0.26141987829614605\n"
          ]
        }
      ]
    },
    {
      "cell_type": "code",
      "source": [
        "from pyspark.ml.classification import LogisticRegression\n",
        "from pyspark.sql.functions import expr\n",
        "\n",
        "# Features variable X_a and X_b\n",
        "X_a = offence_final.select('Financial_Year', 'Financial_Quarter', 'Number_of_Offences')\n",
        "X_b = offence_final.select('Offence_Code', 'Force_Name')"
      ],
      "metadata": {
        "id": "h0HDLjPJjuyM"
      },
      "execution_count": 208,
      "outputs": []
    },
    {
      "cell_type": "code",
      "source": [
        "# target variable\n",
        "y = offence_final.select('New ONS offence group')"
      ],
      "metadata": {
        "id": "Q6LGz5Oej43_"
      },
      "execution_count": 209,
      "outputs": []
    },
    {
      "cell_type": "code",
      "source": [
        "# Label encoding for Y\n",
        "encoder = {\n",
        "    'Sexual offences': 0,\n",
        "    'Miscellaneous crimes against society': 1,\n",
        "    'Violence against the person':  2,\n",
        "    'Criminal damage and arson': 3,\n",
        "    'Theft offences': 4,\n",
        "    'Possession of weapons offences': 5,\n",
        "    'Drug offences': 6,\n",
        "    'Robbery': 7,\n",
        "    'Public order offences': 8\n",
        "}"
      ],
      "metadata": {
        "id": "pH61ClWhj5K6"
      },
      "execution_count": 210,
      "outputs": []
    },
    {
      "cell_type": "code",
      "source": [
        "# Create a CASE statement for label encoding\n",
        "label_col = 'New ONS offence group'\n",
        "y = offence_final.withColumn('label', expr(f\"CASE WHEN `{label_col}` = 'Sexual offences' THEN {encoder['Sexual offences']} \" +\n",
        "                                          f\"WHEN `{label_col}` = 'Miscellaneous crimes against society' THEN {encoder['Miscellaneous crimes against society']} \" +\n",
        "                                          f\"WHEN `{label_col}` = 'Violence against the person' THEN {encoder['Violence against the person']} \" +\n",
        "                                          f\"WHEN `{label_col}` = 'Criminal damage and arson' THEN {encoder['Criminal damage and arson']} \" +\n",
        "                                          f\"WHEN `{label_col}` = 'Theft offences' THEN {encoder['Theft offences']} \" +\n",
        "                                          f\"WHEN `{label_col}` = 'Possession of weapons offences' THEN {encoder['Possession of weapons offences']} \" +\n",
        "                                          f\"WHEN `{label_col}` = 'Drug offences' THEN {encoder['Drug offences']} \" +\n",
        "                                          f\"WHEN `{label_col}` = 'Robbery' THEN {encoder['Robbery']} \" +\n",
        "                                          f\"WHEN `{label_col}` = 'Public order offences' THEN {encoder['Public order offences']} END\"))\n",
        "\n",
        "# Display the updated DataFrame\n",
        "y.show()"
      ],
      "metadata": {
        "colab": {
          "base_uri": "https://localhost:8080/"
        },
        "id": "Wy9AERQhj5Ws",
        "outputId": "c83bc295-1057-4924-a1c4-c954ec618ab7"
      },
      "execution_count": 212,
      "outputs": [
        {
          "output_type": "stream",
          "name": "stdout",
          "text": [
            "+------------+--------------+-----------------+------------------+--------------------+---------------+--------------------+------------------+--------------------+---------------------+---------------------+---------------------+-------------------------+-----+\n",
            "|Offence_Code|Financial_Year|Financial_Quarter|        Force_Name| Offence_Description|  Offence_Group|    Offence_Subgroup|Number_of_Offences| Offence description|Old PRC offence group|Old offence sub-group|New ONS offence group|New_ONS_sub_offence_group|label|\n",
            "+------------+--------------+-----------------+------------------+--------------------+---------------+--------------------+------------------+--------------------+---------------------+---------------------+---------------------+-------------------------+-----+\n",
            "|         17A|          2019|                3|           Norfolk|Sexual assault on...|Sexual offences|Other sexual offe...|                29|Sexual assault on...|      Sexual offences| Most serious sexu...|      Sexual offences|     Other sexual offe...|    0|\n",
            "|         17A|          2019|                4|         Wiltshire|Sexual assault on...|Sexual offences|Other sexual offe...|                11|Sexual assault on...|      Sexual offences| Most serious sexu...|      Sexual offences|     Other sexual offe...|    0|\n",
            "|         17A|          2021|                3|    Cambridgeshire|Sexual assault on...|Sexual offences|Other sexual offe...|                30|Sexual assault on...|      Sexual offences| Most serious sexu...|      Sexual offences|     Other sexual offe...|    0|\n",
            "|         17A|          2018|                3|Greater Manchester|Sexual assault on...|Sexual offences|Other sexual offe...|                72|Sexual assault on...|      Sexual offences| Most serious sexu...|      Sexual offences|     Other sexual offe...|    0|\n",
            "|         17A|          2018|                4|      Lincolnshire|Sexual assault on...|Sexual offences|Other sexual offe...|                11|Sexual assault on...|      Sexual offences| Most serious sexu...|      Sexual offences|     Other sexual offe...|    0|\n",
            "|         17A|          2020|                2|      Warwickshire|Sexual assault on...|Sexual offences|Other sexual offe...|                15|Sexual assault on...|      Sexual offences| Most serious sexu...|      Sexual offences|     Other sexual offe...|    0|\n",
            "|         17A|          2020|                3|         Wiltshire|Sexual assault on...|Sexual offences|Other sexual offe...|                 7|Sexual assault on...|      Sexual offences| Most serious sexu...|      Sexual offences|     Other sexual offe...|    0|\n",
            "|         17A|          2020|                4|            Dorset|Sexual assault on...|Sexual offences|Other sexual offe...|                15|Sexual assault on...|      Sexual offences| Most serious sexu...|      Sexual offences|     Other sexual offe...|    0|\n",
            "|         17A|          2020|                4|   London, City of|Sexual assault on...|Sexual offences|Other sexual offe...|                 0|Sexual assault on...|      Sexual offences| Most serious sexu...|      Sexual offences|     Other sexual offe...|    0|\n",
            "|         17A|          2018|                3| Avon and Somerset|Sexual assault on...|Sexual offences|Other sexual offe...|                44|Sexual assault on...|      Sexual offences| Most serious sexu...|      Sexual offences|     Other sexual offe...|    0|\n",
            "|         17A|          2018|                3|              Kent|Sexual assault on...|Sexual offences|Other sexual offe...|                65|Sexual assault on...|      Sexual offences| Most serious sexu...|      Sexual offences|     Other sexual offe...|    0|\n",
            "|         17A|          2020|                1|   Gloucestershire|Sexual assault on...|Sexual offences|Other sexual offe...|                 7|Sexual assault on...|      Sexual offences| Most serious sexu...|      Sexual offences|     Other sexual offe...|    0|\n",
            "|         17A|          2020|                2|           Norfolk|Sexual assault on...|Sexual offences|Other sexual offe...|                22|Sexual assault on...|      Sexual offences| Most serious sexu...|      Sexual offences|     Other sexual offe...|    0|\n",
            "|         17A|          2020|                2|  Northamptonshire|Sexual assault on...|Sexual offences|Other sexual offe...|                23|Sexual assault on...|      Sexual offences| Most serious sexu...|      Sexual offences|     Other sexual offe...|    0|\n",
            "|         17A|          2020|                3|           Cumbria|Sexual assault on...|Sexual offences|Other sexual offe...|                15|Sexual assault on...|      Sexual offences| Most serious sexu...|      Sexual offences|     Other sexual offe...|    0|\n",
            "|         17A|          2020|                4|   Gloucestershire|Sexual assault on...|Sexual offences|Other sexual offe...|                13|Sexual assault on...|      Sexual offences| Most serious sexu...|      Sexual offences|     Other sexual offe...|    0|\n",
            "|         17A|          2020|                4|    Leicestershire|Sexual assault on...|Sexual offences|Other sexual offe...|                41|Sexual assault on...|      Sexual offences| Most serious sexu...|      Sexual offences|     Other sexual offe...|    0|\n",
            "|         17A|          2022|                2|          Cheshire|Sexual assault on...|Sexual offences|Other sexual offe...|                52|Sexual assault on...|      Sexual offences| Most serious sexu...|      Sexual offences|     Other sexual offe...|    0|\n",
            "|         17A|          2022|                2|       North Wales|Sexual assault on...|Sexual offences|Other sexual offe...|                37|Sexual assault on...|      Sexual offences| Most serious sexu...|      Sexual offences|     Other sexual offe...|    0|\n",
            "|         17A|          2023|                1|      Lincolnshire|Sexual assault on...|Sexual offences|Other sexual offe...|                24|Sexual assault on...|      Sexual offences| Most serious sexu...|      Sexual offences|     Other sexual offe...|    0|\n",
            "+------------+--------------+-----------------+------------------+--------------------+---------------+--------------------+------------------+--------------------+---------------------+---------------------+---------------------+-------------------------+-----+\n",
            "only showing top 20 rows\n",
            "\n"
          ]
        }
      ]
    },
    {
      "cell_type": "code",
      "source": [
        "# Create a StringIndexer for the target variable\n",
        "labelIndexer = StringIndexer(inputCol=\"New ONS offence group\", outputCol=\"label\", handleInvalid=\"keep\")\n"
      ],
      "metadata": {
        "id": "5mA7xHt9kV-V"
      },
      "execution_count": 213,
      "outputs": []
    },
    {
      "cell_type": "code",
      "source": [
        "# Create a VectorAssembler to combine features into a single vector\n",
        "featuresAssembler = VectorAssembler(\n",
        "    inputCols=['Financial_Year', 'Financial_Quarter', 'Number_of_Offences'],\n",
        "    outputCol=\"features\"\n",
        ")"
      ],
      "metadata": {
        "id": "8S2AYaTMkXrL"
      },
      "execution_count": 215,
      "outputs": []
    },
    {
      "cell_type": "code",
      "source": [
        "# Create a Logistic Regression model\n",
        "lr = LogisticRegression(labelCol=\"label\", featuresCol=\"features\", maxIter=10)"
      ],
      "metadata": {
        "id": "1-r9oYHfkYI3"
      },
      "execution_count": 216,
      "outputs": []
    },
    {
      "cell_type": "code",
      "source": [
        "# Create a pipeline with the stages\n",
        "pipeline_lr = Pipeline(stages=[labelIndexer, featuresAssembler, lr])"
      ],
      "metadata": {
        "id": "KTDXn_tkj5jC"
      },
      "execution_count": 217,
      "outputs": []
    },
    {
      "cell_type": "code",
      "source": [
        "# Split the data into training and testing sets\n",
        "(trainingData_lr, testData_lr) = offence_final.randomSplit([0.8, 0.2], seed=42)"
      ],
      "metadata": {
        "id": "1NMC9lTFkkIA"
      },
      "execution_count": 218,
      "outputs": []
    },
    {
      "cell_type": "code",
      "source": [
        "# Train the Logistic Regression model\n",
        "model_lr = pipeline_lr.fit(trainingData_lr)"
      ],
      "metadata": {
        "id": "HowLUnIakkcZ"
      },
      "execution_count": 219,
      "outputs": []
    },
    {
      "cell_type": "code",
      "source": [
        "# Make predictions on the test data\n",
        "predictions_lr = model_lr.transform(testData_lr)"
      ],
      "metadata": {
        "id": "-x8a_kyOkkpx"
      },
      "execution_count": 220,
      "outputs": []
    },
    {
      "cell_type": "code",
      "source": [
        "# Evaluate the Logistic Regression model\n",
        "accuracy_lr = evaluator.evaluate(predictions_lr)"
      ],
      "metadata": {
        "id": "xliTOnbfkwKT"
      },
      "execution_count": 221,
      "outputs": []
    },
    {
      "cell_type": "code",
      "source": [
        "print(f\"Logistic Regression Accuracy: {accuracy_lr}\")"
      ],
      "metadata": {
        "colab": {
          "base_uri": "https://localhost:8080/"
        },
        "id": "fl3qoAekkwbz",
        "outputId": "137e1d5d-6023-44b2-f71a-e66fd888ac42"
      },
      "execution_count": 222,
      "outputs": [
        {
          "output_type": "stream",
          "name": "stdout",
          "text": [
            "Logistic Regression Accuracy: 0.2023529411764706\n"
          ]
        }
      ]
    },
    {
      "cell_type": "code",
      "source": [
        "from pyspark.ml.evaluation import MulticlassClassificationEvaluator\n",
        "\n",
        "# Evaluate Random Forest model\n",
        "rf_evaluator = MulticlassClassificationEvaluator(labelCol='label', predictionCol='prediction', metricName='accuracy')\n",
        "rf_accuracy = rf_evaluator.evaluate(predictions)\n",
        "\n",
        "\n"
      ],
      "metadata": {
        "id": "QJ2DV3Dgkk6-"
      },
      "execution_count": 227,
      "outputs": []
    },
    {
      "cell_type": "code",
      "source": [
        "# Similarly, evaluate Logistic Regression model\n",
        "lr_evaluator = MulticlassClassificationEvaluator(labelCol='label', predictionCol='prediction', metricName='accuracy')\n",
        "lr_accuracy = lr_evaluator.evaluate(predictions_lr)\n",
        "\n",
        "print(f\"Random Forest Classifier Accuracy: {rf_accuracy}\")\n",
        "print(f\"Logistic Regression Accuracy: {lr_accuracy}\")"
      ],
      "metadata": {
        "colab": {
          "base_uri": "https://localhost:8080/"
        },
        "id": "iuSIpWiaqgQr",
        "outputId": "86ce982b-9416-4ab0-9614-bd7ffdf766ff"
      },
      "execution_count": 228,
      "outputs": [
        {
          "output_type": "stream",
          "name": "stdout",
          "text": [
            "Random Forest Classifier Accuracy: 0.26141987829614605\n",
            "Logistic Regression Accuracy: 0.2023529411764706\n"
          ]
        }
      ]
    },
    {
      "cell_type": "code",
      "source": [
        "# save model\n",
        "import pickle\n",
        "with open('model.pkl', 'wb') as file:\n",
        "  pickle.dump(tree, file)"
      ],
      "metadata": {
        "id": "GKmFjz0Wv5Dq"
      },
      "execution_count": 231,
      "outputs": []
    },
    {
      "cell_type": "code",
      "source": [
        "# @title Summary <> Random Forest Classifier and Logistic Regression\n",
        "#Random Forest Classifier:\n",
        "#  Accuracy: 26.14%\n",
        "# Model seems to perform better than the logistic regression model in terms of overall accuracy.\n",
        "# Random Forest is an ensemble learning method that combines multiple decision trees,\n",
        "# which often results in better performance.\n",
        "#\n",
        "# Logistic Regression:\n",
        "# Accuracy: 20.24%\n",
        "# Logistic Regression is a simpler linear model compared to Random Forest.\n",
        "# It's widely used for binary classification tasks.\n",
        "# The lower accuracy might indicate that the linear relationship assumed by logistic regression may not capture the complex patterns in the data\n",
        "#\n"
      ],
      "metadata": {
        "id": "KN7rq7D9rYr8"
      },
      "execution_count": null,
      "outputs": []
    },
    {
      "cell_type": "code",
      "source": [
        "from sklearn.preprocessing import OrdinalEncoder\n",
        "\n",
        "# Initialize one hot encoder\n",
        "ord = OrdinalEncoder()\n",
        "X_b_ohe = ord.fit_transform(X_b)"
      ],
      "metadata": {
        "id": "CR4thSN8cGTf"
      },
      "execution_count": 161,
      "outputs": []
    },
    {
      "cell_type": "code",
      "source": [
        "# X_b_ohe is a NumPy array resulting from OrdinalEncoder\n",
        "X_b_ohe_df = pd.DataFrame(X_b_ohe, columns=X_b.columns)  # Convert back to a Pandas DataFrame\n",
        "\n",
        "# Concatenate DataFrames\n",
        "X = pd.concat([X_a, X_b_ohe_df], axis=1)"
      ],
      "metadata": {
        "id": "oWZe70c3cIxe"
      },
      "execution_count": 162,
      "outputs": []
    },
    {
      "cell_type": "code",
      "source": [
        "# Split into train/test samples\n",
        "X_train, X_test, y_train, y_test = train_test_split(X, y, random_state=42, test_size=0.2)"
      ],
      "metadata": {
        "id": "-IblcFwKcMR2"
      },
      "execution_count": 163,
      "outputs": []
    },
    {
      "cell_type": "code",
      "source": [
        "X_train.shape, X_test.shape, y_train.shape, y_test.shape"
      ],
      "metadata": {
        "colab": {
          "base_uri": "https://localhost:8080/"
        },
        "id": "M4qTuTOecPoD",
        "outputId": "bac004f4-eacc-455c-f31a-973f30fac583"
      },
      "execution_count": 164,
      "outputs": [
        {
          "output_type": "execute_result",
          "data": {
            "text/plain": [
              "((99354, 5), (24839, 5), (99354, 1), (24839, 1))"
            ]
          },
          "metadata": {},
          "execution_count": 164
        }
      ]
    },
    {
      "cell_type": "code",
      "source": [
        "print(X_train.shape)"
      ],
      "metadata": {
        "colab": {
          "base_uri": "https://localhost:8080/"
        },
        "id": "7VvBdSpOcTwv",
        "outputId": "9a37ee89-ae1e-4da4-fc61-b5d1e86015b5"
      },
      "execution_count": 166,
      "outputs": [
        {
          "output_type": "stream",
          "name": "stdout",
          "text": [
            "(99354, 5)\n"
          ]
        }
      ]
    },
    {
      "cell_type": "code",
      "source": [
        "print(X_train.head())"
      ],
      "metadata": {
        "colab": {
          "base_uri": "https://localhost:8080/"
        },
        "id": "SzXmps62cYQp",
        "outputId": "6174391b-4757-4c1c-b62d-64423e6b6dca"
      },
      "execution_count": 167,
      "outputs": [
        {
          "output_type": "stream",
          "name": "stdout",
          "text": [
            "       Financial_Year  Financial_Quarter  Number_of_Offences  Offence_Code  \\\n",
            "86147            2022                  1                   1         108.0   \n",
            "19448            2021                  1                  20          18.0   \n",
            "18207            2019                  1                  42          64.0   \n",
            "99176            2022                  4                  28          69.0   \n",
            "90872            2021                  4                  18           0.0   \n",
            "\n",
            "       Force_Name  \n",
            "86147        10.0  \n",
            "19448        12.0  \n",
            "18207        38.0  \n",
            "99176        13.0  \n",
            "90872        27.0  \n"
          ]
        }
      ]
    },
    {
      "cell_type": "code",
      "source": [
        "import numpy as np\n",
        "\n",
        "# Check for NaN values in y_train\n",
        "nan_indices = np.isnan(y_train)\n",
        "nan_count = np.sum(nan_indices)\n",
        "\n",
        "if nan_indices.any().item():\n",
        "    print(f'Target variable y_train contains NaN values.')"
      ],
      "metadata": {
        "colab": {
          "base_uri": "https://localhost:8080/"
        },
        "id": "YVDOc1pHccUx",
        "outputId": "82d515d4-6b8a-47ed-ad1c-8a9abfc7f53d"
      },
      "execution_count": 168,
      "outputs": [
        {
          "output_type": "stream",
          "name": "stdout",
          "text": [
            "Target variable y_train contains NaN values.\n"
          ]
        }
      ]
    },
    {
      "cell_type": "code",
      "source": [
        "print(X_train.shape)"
      ],
      "metadata": {
        "colab": {
          "base_uri": "https://localhost:8080/"
        },
        "id": "167au2xpcgRu",
        "outputId": "6954888f-a762-4bcf-e71f-c0732800ceb1"
      },
      "execution_count": 169,
      "outputs": [
        {
          "output_type": "stream",
          "name": "stdout",
          "text": [
            "(99354, 5)\n"
          ]
        }
      ]
    },
    {
      "cell_type": "code",
      "source": [
        "print(X_train.head())"
      ],
      "metadata": {
        "colab": {
          "base_uri": "https://localhost:8080/"
        },
        "id": "OTpScKyrckPA",
        "outputId": "ab9ea119-7222-4d2c-f5a4-d0c0f773c520"
      },
      "execution_count": 170,
      "outputs": [
        {
          "output_type": "stream",
          "name": "stdout",
          "text": [
            "       Financial_Year  Financial_Quarter  Number_of_Offences  Offence_Code  \\\n",
            "86147            2022                  1                   1         108.0   \n",
            "19448            2021                  1                  20          18.0   \n",
            "18207            2019                  1                  42          64.0   \n",
            "99176            2022                  4                  28          69.0   \n",
            "90872            2021                  4                  18           0.0   \n",
            "\n",
            "       Force_Name  \n",
            "86147        10.0  \n",
            "19448        12.0  \n",
            "18207        38.0  \n",
            "99176        13.0  \n",
            "90872        27.0  \n"
          ]
        }
      ]
    },
    {
      "cell_type": "code",
      "source": [
        "# Check for NaN values in X_train\n",
        "nan_indices = np.isnan(X_train)\n",
        "nan_count = np.sum(nan_indices)\n",
        "if nan_indices.any().any():\n",
        "    print(f'Input features X_train contain NaN values.')"
      ],
      "metadata": {
        "id": "jEykVRs7cniW"
      },
      "execution_count": 171,
      "outputs": []
    },
    {
      "cell_type": "code",
      "source": [
        "X_train = X_train.fillna(X_train.mean())"
      ],
      "metadata": {
        "id": "M1HmYD8XcsRb"
      },
      "execution_count": 172,
      "outputs": []
    },
    {
      "cell_type": "code",
      "source": [
        "print(X_train.shape)"
      ],
      "metadata": {
        "colab": {
          "base_uri": "https://localhost:8080/"
        },
        "id": "oAfcfWiZc0Qz",
        "outputId": "82c80eb3-ed82-4160-aefa-4d8dbfbe8780"
      },
      "execution_count": 173,
      "outputs": [
        {
          "output_type": "stream",
          "name": "stdout",
          "text": [
            "(99354, 5)\n"
          ]
        }
      ]
    },
    {
      "cell_type": "code",
      "source": [
        "from sklearn.experimental import enable_iterative_imputer\n",
        "from sklearn.impute import IterativeImputer\n",
        "imp = IterativeImputer()\n",
        "X_train = imp.fit_transform(X_train)\n",
        "X_test = imp.transform(X_test)"
      ],
      "metadata": {
        "id": "QTP6dW5Zc3j6"
      },
      "execution_count": 174,
      "outputs": []
    },
    {
      "cell_type": "code",
      "source": [
        "from sklearn.experimental import enable_iterative_imputer\n",
        "from sklearn.impute import IterativeImputer\n",
        "imp = IterativeImputer()\n",
        "y_train = imp.fit_transform(y_train)\n",
        "y_test = imp.transform(y_test)"
      ],
      "metadata": {
        "id": "lR-L0SIGc7QL"
      },
      "execution_count": 175,
      "outputs": []
    },
    {
      "cell_type": "code",
      "source": [
        "print(X_train.shape)"
      ],
      "metadata": {
        "colab": {
          "base_uri": "https://localhost:8080/"
        },
        "id": "SP2rkWrOc_h8",
        "outputId": "5e5086ee-324f-45a4-ac0c-6fd6d075bb39"
      },
      "execution_count": 176,
      "outputs": [
        {
          "output_type": "stream",
          "name": "stdout",
          "text": [
            "(99354, 5)\n"
          ]
        }
      ]
    },
    {
      "cell_type": "code",
      "source": [
        "print(y_train.shape)"
      ],
      "metadata": {
        "colab": {
          "base_uri": "https://localhost:8080/"
        },
        "id": "v6q_1yRxdDIf",
        "outputId": "57ee23cf-cc83-432b-eeb5-ca5a91d7cead"
      },
      "execution_count": 177,
      "outputs": [
        {
          "output_type": "stream",
          "name": "stdout",
          "text": [
            "(99354, 1)\n"
          ]
        }
      ]
    },
    {
      "cell_type": "code",
      "source": [
        "from sklearn.experimental import enable_iterative_imputer\n",
        "from sklearn.impute import IterativeImputer\n",
        "imp = IterativeImputer()\n",
        "X_train = imp.fit_transform(X_train)\n",
        "X_test = imp.transform(X_test)"
      ],
      "metadata": {
        "id": "qcc6Q9TCdIIM"
      },
      "execution_count": 178,
      "outputs": []
    },
    {
      "cell_type": "code",
      "source": [
        "from sklearn.experimental import enable_iterative_imputer\n",
        "from sklearn.impute import IterativeImputer\n",
        "imp = IterativeImputer()\n",
        "y_train = imp.fit_transform(y_train)\n",
        "y_test = imp.transform(y_test)"
      ],
      "metadata": {
        "id": "qwxMG3DsdMEx"
      },
      "execution_count": 179,
      "outputs": []
    },
    {
      "cell_type": "code",
      "source": [
        "# Create Instance\n",
        "tree = DecisionTreeClassifier(max_depth=10, random_state=42)"
      ],
      "metadata": {
        "id": "seYUCPinehpl"
      },
      "execution_count": 180,
      "outputs": []
    },
    {
      "cell_type": "code",
      "source": [
        "print(X_train.shape)"
      ],
      "metadata": {
        "colab": {
          "base_uri": "https://localhost:8080/"
        },
        "id": "MW8W2K3PeivB",
        "outputId": "7ea0e9c5-79f1-4e33-aa17-9c52b5ee1519"
      },
      "execution_count": 181,
      "outputs": [
        {
          "output_type": "stream",
          "name": "stdout",
          "text": [
            "(99354, 5)\n"
          ]
        }
      ]
    },
    {
      "cell_type": "code",
      "source": [
        "y = y.squeeze()"
      ],
      "metadata": {
        "id": "2Ntl1ZV0emMW"
      },
      "execution_count": 182,
      "outputs": []
    },
    {
      "cell_type": "code",
      "source": [
        "from sklearn.preprocessing import LabelEncoder\n",
        "\n",
        "# Assuming y_train is your target variable\n",
        "le = LabelEncoder()\n",
        "y_train_encoded = le.fit_transform(y_train)\n",
        "y_test_encoded = le.fit_transform(y_test)"
      ],
      "metadata": {
        "colab": {
          "base_uri": "https://localhost:8080/"
        },
        "id": "62CBi24Hfswk",
        "outputId": "62ae1a02-f481-41ec-9156-92f7f625a57e"
      },
      "execution_count": 183,
      "outputs": [
        {
          "output_type": "stream",
          "name": "stderr",
          "text": [
            "/usr/local/lib/python3.10/dist-packages/sklearn/preprocessing/_label.py:116: DataConversionWarning: A column-vector y was passed when a 1d array was expected. Please change the shape of y to (n_samples, ), for example using ravel().\n",
            "  y = column_or_1d(y, warn=True)\n",
            "/usr/local/lib/python3.10/dist-packages/sklearn/preprocessing/_label.py:116: DataConversionWarning: A column-vector y was passed when a 1d array was expected. Please change the shape of y to (n_samples, ), for example using ravel().\n",
            "  y = column_or_1d(y, warn=True)\n"
          ]
        }
      ]
    },
    {
      "cell_type": "code",
      "source": [
        "from sklearn.tree import DecisionTreeRegressor\n",
        "tree = DecisionTreeRegressor()\n",
        "tree.fit(X_train, y_train)"
      ],
      "metadata": {
        "colab": {
          "base_uri": "https://localhost:8080/",
          "height": 74
        },
        "id": "U9MMSH2b5G2e",
        "outputId": "798f0eec-1d53-435f-bcdb-fdb541c34f1d"
      },
      "execution_count": 184,
      "outputs": [
        {
          "output_type": "execute_result",
          "data": {
            "text/plain": [
              "DecisionTreeRegressor()"
            ],
            "text/html": [
              "<style>#sk-container-id-3 {color: black;background-color: white;}#sk-container-id-3 pre{padding: 0;}#sk-container-id-3 div.sk-toggleable {background-color: white;}#sk-container-id-3 label.sk-toggleable__label {cursor: pointer;display: block;width: 100%;margin-bottom: 0;padding: 0.3em;box-sizing: border-box;text-align: center;}#sk-container-id-3 label.sk-toggleable__label-arrow:before {content: \"▸\";float: left;margin-right: 0.25em;color: #696969;}#sk-container-id-3 label.sk-toggleable__label-arrow:hover:before {color: black;}#sk-container-id-3 div.sk-estimator:hover label.sk-toggleable__label-arrow:before {color: black;}#sk-container-id-3 div.sk-toggleable__content {max-height: 0;max-width: 0;overflow: hidden;text-align: left;background-color: #f0f8ff;}#sk-container-id-3 div.sk-toggleable__content pre {margin: 0.2em;color: black;border-radius: 0.25em;background-color: #f0f8ff;}#sk-container-id-3 input.sk-toggleable__control:checked~div.sk-toggleable__content {max-height: 200px;max-width: 100%;overflow: auto;}#sk-container-id-3 input.sk-toggleable__control:checked~label.sk-toggleable__label-arrow:before {content: \"▾\";}#sk-container-id-3 div.sk-estimator input.sk-toggleable__control:checked~label.sk-toggleable__label {background-color: #d4ebff;}#sk-container-id-3 div.sk-label input.sk-toggleable__control:checked~label.sk-toggleable__label {background-color: #d4ebff;}#sk-container-id-3 input.sk-hidden--visually {border: 0;clip: rect(1px 1px 1px 1px);clip: rect(1px, 1px, 1px, 1px);height: 1px;margin: -1px;overflow: hidden;padding: 0;position: absolute;width: 1px;}#sk-container-id-3 div.sk-estimator {font-family: monospace;background-color: #f0f8ff;border: 1px dotted black;border-radius: 0.25em;box-sizing: border-box;margin-bottom: 0.5em;}#sk-container-id-3 div.sk-estimator:hover {background-color: #d4ebff;}#sk-container-id-3 div.sk-parallel-item::after {content: \"\";width: 100%;border-bottom: 1px solid gray;flex-grow: 1;}#sk-container-id-3 div.sk-label:hover label.sk-toggleable__label {background-color: #d4ebff;}#sk-container-id-3 div.sk-serial::before {content: \"\";position: absolute;border-left: 1px solid gray;box-sizing: border-box;top: 0;bottom: 0;left: 50%;z-index: 0;}#sk-container-id-3 div.sk-serial {display: flex;flex-direction: column;align-items: center;background-color: white;padding-right: 0.2em;padding-left: 0.2em;position: relative;}#sk-container-id-3 div.sk-item {position: relative;z-index: 1;}#sk-container-id-3 div.sk-parallel {display: flex;align-items: stretch;justify-content: center;background-color: white;position: relative;}#sk-container-id-3 div.sk-item::before, #sk-container-id-3 div.sk-parallel-item::before {content: \"\";position: absolute;border-left: 1px solid gray;box-sizing: border-box;top: 0;bottom: 0;left: 50%;z-index: -1;}#sk-container-id-3 div.sk-parallel-item {display: flex;flex-direction: column;z-index: 1;position: relative;background-color: white;}#sk-container-id-3 div.sk-parallel-item:first-child::after {align-self: flex-end;width: 50%;}#sk-container-id-3 div.sk-parallel-item:last-child::after {align-self: flex-start;width: 50%;}#sk-container-id-3 div.sk-parallel-item:only-child::after {width: 0;}#sk-container-id-3 div.sk-dashed-wrapped {border: 1px dashed gray;margin: 0 0.4em 0.5em 0.4em;box-sizing: border-box;padding-bottom: 0.4em;background-color: white;}#sk-container-id-3 div.sk-label label {font-family: monospace;font-weight: bold;display: inline-block;line-height: 1.2em;}#sk-container-id-3 div.sk-label-container {text-align: center;}#sk-container-id-3 div.sk-container {/* jupyter's `normalize.less` sets `[hidden] { display: none; }` but bootstrap.min.css set `[hidden] { display: none !important; }` so we also need the `!important` here to be able to override the default hidden behavior on the sphinx rendered scikit-learn.org. See: https://github.com/scikit-learn/scikit-learn/issues/21755 */display: inline-block !important;position: relative;}#sk-container-id-3 div.sk-text-repr-fallback {display: none;}</style><div id=\"sk-container-id-3\" class=\"sk-top-container\"><div class=\"sk-text-repr-fallback\"><pre>DecisionTreeRegressor()</pre><b>In a Jupyter environment, please rerun this cell to show the HTML representation or trust the notebook. <br />On GitHub, the HTML representation is unable to render, please try loading this page with nbviewer.org.</b></div><div class=\"sk-container\" hidden><div class=\"sk-item\"><div class=\"sk-estimator sk-toggleable\"><input class=\"sk-toggleable__control sk-hidden--visually\" id=\"sk-estimator-id-3\" type=\"checkbox\" checked><label for=\"sk-estimator-id-3\" class=\"sk-toggleable__label sk-toggleable__label-arrow\">DecisionTreeRegressor</label><div class=\"sk-toggleable__content\"><pre>DecisionTreeRegressor()</pre></div></div></div></div></div>"
            ]
          },
          "metadata": {},
          "execution_count": 184
        }
      ]
    },
    {
      "cell_type": "code",
      "source": [
        "from sklearn.preprocessing import LabelEncoder\n",
        "le = LabelEncoder()\n",
        "y_train = le.fit_transform(y_train)\n",
        "y_test = le.transform(y_test)"
      ],
      "metadata": {
        "colab": {
          "base_uri": "https://localhost:8080/"
        },
        "id": "BTV6RUjt5Ow1",
        "outputId": "aba71919-6950-40ed-8652-419816955c29"
      },
      "execution_count": 185,
      "outputs": [
        {
          "output_type": "stream",
          "name": "stderr",
          "text": [
            "/usr/local/lib/python3.10/dist-packages/sklearn/preprocessing/_label.py:116: DataConversionWarning: A column-vector y was passed when a 1d array was expected. Please change the shape of y to (n_samples, ), for example using ravel().\n",
            "  y = column_or_1d(y, warn=True)\n",
            "/usr/local/lib/python3.10/dist-packages/sklearn/preprocessing/_label.py:134: DataConversionWarning: A column-vector y was passed when a 1d array was expected. Please change the shape of y to (n_samples, ), for example using ravel().\n",
            "  y = column_or_1d(y, dtype=self.classes_.dtype, warn=True)\n"
          ]
        }
      ]
    },
    {
      "cell_type": "code",
      "source": [
        "y_train = np.where(y_train < 400, \"low\", np.where(y_train < 600, \"medium\", \"high\"))\n",
        "y_test = np.where(y_test < 400, \"low\", np.where(y_test < 600, \"medium\", \"high\"))"
      ],
      "metadata": {
        "id": "iBAdFs4N5aGy"
      },
      "execution_count": 186,
      "outputs": []
    },
    {
      "cell_type": "code",
      "source": [
        "from sklearn.preprocessing import LabelEncoder\n",
        "le = LabelEncoder()\n",
        "y_train = le.fit_transform(y_train)\n",
        "y_test = le.transform(y_test)"
      ],
      "metadata": {
        "id": "rca5wDRC6fX9"
      },
      "execution_count": 187,
      "outputs": []
    },
    {
      "cell_type": "code",
      "source": [
        "# Create Instance\n",
        "tree = DecisionTreeClassifier(max_depth=10, random_state=42)"
      ],
      "metadata": {
        "id": "FP-j34IS8LkN"
      },
      "execution_count": 188,
      "outputs": []
    },
    {
      "cell_type": "code",
      "source": [
        "from sklearn.tree import DecisionTreeRegressor\n",
        "tree = DecisionTreeRegressor()\n",
        "tree.fit(X_train, y_train)"
      ],
      "metadata": {
        "colab": {
          "base_uri": "https://localhost:8080/",
          "height": 74
        },
        "id": "QX9dhcbL7U53",
        "outputId": "ee07acfa-f6b9-4410-8736-32679af928e8"
      },
      "execution_count": 189,
      "outputs": [
        {
          "output_type": "execute_result",
          "data": {
            "text/plain": [
              "DecisionTreeRegressor()"
            ],
            "text/html": [
              "<style>#sk-container-id-4 {color: black;background-color: white;}#sk-container-id-4 pre{padding: 0;}#sk-container-id-4 div.sk-toggleable {background-color: white;}#sk-container-id-4 label.sk-toggleable__label {cursor: pointer;display: block;width: 100%;margin-bottom: 0;padding: 0.3em;box-sizing: border-box;text-align: center;}#sk-container-id-4 label.sk-toggleable__label-arrow:before {content: \"▸\";float: left;margin-right: 0.25em;color: #696969;}#sk-container-id-4 label.sk-toggleable__label-arrow:hover:before {color: black;}#sk-container-id-4 div.sk-estimator:hover label.sk-toggleable__label-arrow:before {color: black;}#sk-container-id-4 div.sk-toggleable__content {max-height: 0;max-width: 0;overflow: hidden;text-align: left;background-color: #f0f8ff;}#sk-container-id-4 div.sk-toggleable__content pre {margin: 0.2em;color: black;border-radius: 0.25em;background-color: #f0f8ff;}#sk-container-id-4 input.sk-toggleable__control:checked~div.sk-toggleable__content {max-height: 200px;max-width: 100%;overflow: auto;}#sk-container-id-4 input.sk-toggleable__control:checked~label.sk-toggleable__label-arrow:before {content: \"▾\";}#sk-container-id-4 div.sk-estimator input.sk-toggleable__control:checked~label.sk-toggleable__label {background-color: #d4ebff;}#sk-container-id-4 div.sk-label input.sk-toggleable__control:checked~label.sk-toggleable__label {background-color: #d4ebff;}#sk-container-id-4 input.sk-hidden--visually {border: 0;clip: rect(1px 1px 1px 1px);clip: rect(1px, 1px, 1px, 1px);height: 1px;margin: -1px;overflow: hidden;padding: 0;position: absolute;width: 1px;}#sk-container-id-4 div.sk-estimator {font-family: monospace;background-color: #f0f8ff;border: 1px dotted black;border-radius: 0.25em;box-sizing: border-box;margin-bottom: 0.5em;}#sk-container-id-4 div.sk-estimator:hover {background-color: #d4ebff;}#sk-container-id-4 div.sk-parallel-item::after {content: \"\";width: 100%;border-bottom: 1px solid gray;flex-grow: 1;}#sk-container-id-4 div.sk-label:hover label.sk-toggleable__label {background-color: #d4ebff;}#sk-container-id-4 div.sk-serial::before {content: \"\";position: absolute;border-left: 1px solid gray;box-sizing: border-box;top: 0;bottom: 0;left: 50%;z-index: 0;}#sk-container-id-4 div.sk-serial {display: flex;flex-direction: column;align-items: center;background-color: white;padding-right: 0.2em;padding-left: 0.2em;position: relative;}#sk-container-id-4 div.sk-item {position: relative;z-index: 1;}#sk-container-id-4 div.sk-parallel {display: flex;align-items: stretch;justify-content: center;background-color: white;position: relative;}#sk-container-id-4 div.sk-item::before, #sk-container-id-4 div.sk-parallel-item::before {content: \"\";position: absolute;border-left: 1px solid gray;box-sizing: border-box;top: 0;bottom: 0;left: 50%;z-index: -1;}#sk-container-id-4 div.sk-parallel-item {display: flex;flex-direction: column;z-index: 1;position: relative;background-color: white;}#sk-container-id-4 div.sk-parallel-item:first-child::after {align-self: flex-end;width: 50%;}#sk-container-id-4 div.sk-parallel-item:last-child::after {align-self: flex-start;width: 50%;}#sk-container-id-4 div.sk-parallel-item:only-child::after {width: 0;}#sk-container-id-4 div.sk-dashed-wrapped {border: 1px dashed gray;margin: 0 0.4em 0.5em 0.4em;box-sizing: border-box;padding-bottom: 0.4em;background-color: white;}#sk-container-id-4 div.sk-label label {font-family: monospace;font-weight: bold;display: inline-block;line-height: 1.2em;}#sk-container-id-4 div.sk-label-container {text-align: center;}#sk-container-id-4 div.sk-container {/* jupyter's `normalize.less` sets `[hidden] { display: none; }` but bootstrap.min.css set `[hidden] { display: none !important; }` so we also need the `!important` here to be able to override the default hidden behavior on the sphinx rendered scikit-learn.org. See: https://github.com/scikit-learn/scikit-learn/issues/21755 */display: inline-block !important;position: relative;}#sk-container-id-4 div.sk-text-repr-fallback {display: none;}</style><div id=\"sk-container-id-4\" class=\"sk-top-container\"><div class=\"sk-text-repr-fallback\"><pre>DecisionTreeRegressor()</pre><b>In a Jupyter environment, please rerun this cell to show the HTML representation or trust the notebook. <br />On GitHub, the HTML representation is unable to render, please try loading this page with nbviewer.org.</b></div><div class=\"sk-container\" hidden><div class=\"sk-item\"><div class=\"sk-estimator sk-toggleable\"><input class=\"sk-toggleable__control sk-hidden--visually\" id=\"sk-estimator-id-4\" type=\"checkbox\" checked><label for=\"sk-estimator-id-4\" class=\"sk-toggleable__label sk-toggleable__label-arrow\">DecisionTreeRegressor</label><div class=\"sk-toggleable__content\"><pre>DecisionTreeRegressor()</pre></div></div></div></div></div>"
            ]
          },
          "metadata": {},
          "execution_count": 189
        }
      ]
    },
    {
      "cell_type": "code",
      "source": [
        "# Evaluate model\n",
        "y_pred = tree.predict(X_test)\n",
        "accuracy = accuracy_score(y_test, y_pred)\n",
        "\n",
        "print(f'The model made using Decision Tree Classifier has an accuracy of : {accuracy*100}%')"
      ],
      "metadata": {
        "colab": {
          "base_uri": "https://localhost:8080/"
        },
        "id": "bUTMsmOGetXF",
        "outputId": "8dc9b929-06eb-4eb1-e2c9-31f3094eb89e"
      },
      "execution_count": 190,
      "outputs": [
        {
          "output_type": "stream",
          "name": "stdout",
          "text": [
            "The model made using Decision Tree Classifier has an accuracy of : 100.0%\n"
          ]
        }
      ]
    },
    {
      "cell_type": "code",
      "source": [
        "# Further evalaution to check for overfitting\n",
        "y_train_pred = tree.predict(X_train)\n",
        "accuracy_sc = accuracy_score(y_train, y_train_pred)\n",
        "\n",
        "print(f'The model made using Decision Tree Classifier has an accuracy of : {accuracy_sc*100}%')\n",
        "print('This shows that our model is not overfitting on the training data')"
      ],
      "metadata": {
        "colab": {
          "base_uri": "https://localhost:8080/"
        },
        "id": "rUY6zHxPfPGS",
        "outputId": "bfca64f3-1179-4871-dc3a-583c9ade7477"
      },
      "execution_count": 191,
      "outputs": [
        {
          "output_type": "stream",
          "name": "stdout",
          "text": [
            "The model made using Decision Tree Classifier has an accuracy of : 100.0%\n",
            "This shows that our model is not overfitting on the training data\n"
          ]
        }
      ]
    },
    {
      "cell_type": "code",
      "source": [
        "# save model\n",
        "import pickle\n",
        "with open('model.pkl', 'wb') as file:\n",
        "  pickle.dump(tree, file)"
      ],
      "metadata": {
        "id": "uZQlqv_YfS9Z"
      },
      "execution_count": 192,
      "outputs": []
    },
    {
      "cell_type": "code",
      "source": [
        "# @title MapReduce\n",
        "#\n"
      ],
      "metadata": {
        "id": "5gzXTDwKsnzK"
      },
      "execution_count": null,
      "outputs": []
    },
    {
      "cell_type": "code",
      "source": [
        "!apt-get install openjdk-8-jdk-headless -qq > /dev/null\n",
        "import os\n",
        "os.environ[\"JAVA_HOME\"] = \"/usr/lib/jvm/java-8-openjdk-amd64\""
      ],
      "metadata": {
        "id": "D65vf3UGszAO"
      },
      "execution_count": null,
      "outputs": []
    },
    {
      "cell_type": "code",
      "source": [
        "!wget -q https://downloads.apache.org/hadoop/common/hadoop-3.3.1/hadoop-3.3.1.tar.gz\n",
        "!tar xf hadoop-3.3.1.tar.gz\n",
        "!rm hadoop-3.3.1.tar.gz"
      ],
      "metadata": {
        "colab": {
          "base_uri": "https://localhost:8080/"
        },
        "id": "Zyb7aLm3tudY",
        "outputId": "943c9b98-2754-4b00-fbef-fa72a62dd64d"
      },
      "execution_count": null,
      "outputs": [
        {
          "output_type": "stream",
          "name": "stdout",
          "text": [
            "tar: hadoop-3.3.1.tar.gz: Cannot open: No such file or directory\n",
            "tar: Error is not recoverable: exiting now\n",
            "rm: cannot remove 'hadoop-3.3.1.tar.gz': No such file or directory\n"
          ]
        }
      ]
    },
    {
      "cell_type": "code",
      "source": [
        "os.environ[\"HADOOP_HOME\"] = \"/content/hadoop-3.3.1\"\n",
        "os.environ[\"PATH\"] += \":/content/hadoop-3.3.1/bin\""
      ],
      "metadata": {
        "id": "rNlAmFcstzRX"
      },
      "execution_count": null,
      "outputs": []
    },
    {
      "cell_type": "code",
      "source": [
        "\n",
        "#!/usr/bin/env python\n",
        "import sys"
      ],
      "metadata": {
        "id": "0ias9rUSyTqb"
      },
      "execution_count": null,
      "outputs": []
    },
    {
      "cell_type": "code",
      "source": [
        "!pip install mrjob\n"
      ],
      "metadata": {
        "colab": {
          "base_uri": "https://localhost:8080/"
        },
        "id": "zSm43SRfxKzl",
        "outputId": "9284c7e7-b927-42d0-dd7e-edf41fe0bee1"
      },
      "execution_count": null,
      "outputs": [
        {
          "output_type": "stream",
          "name": "stdout",
          "text": [
            "Collecting mrjob\n",
            "  Downloading mrjob-0.7.4-py2.py3-none-any.whl (439 kB)\n",
            "\u001b[2K     \u001b[90m━━━━━━━━━━━━━━━━━━━━━━━━━━━━━━━━━━━━━━━━\u001b[0m \u001b[32m439.6/439.6 kB\u001b[0m \u001b[31m4.0 MB/s\u001b[0m eta \u001b[36m0:00:00\u001b[0m\n",
            "\u001b[?25hRequirement already satisfied: PyYAML>=3.10 in /usr/local/lib/python3.10/dist-packages (from mrjob) (6.0.1)\n",
            "Installing collected packages: mrjob\n",
            "Successfully installed mrjob-0.7.4\n"
          ]
        }
      ]
    },
    {
      "cell_type": "code",
      "source": [
        "%%writefile offences_mr.py\n",
        "from mrjob.job import MRJob\n",
        "from mrjob.step import MRStep\n",
        "class OffencesMR(MRJob):\n",
        "  def mapper(self, _, line):\n",
        "        # Split the CSV line into fields\n",
        "        fields = line.split(',')\n",
        "\n",
        "        try:\n",
        "            # Extract year and number of offences\n",
        "            year = int(fields[1])\n",
        "            num_offences = int(fields[7])\n",
        "\n",
        "            # Emit key-value pair (year, num_offences)\n",
        "            yield year, num_offences\n",
        "        except (ValueError, IndexError):\n",
        "            # Skip lines with missing or incorrect data\n",
        "            pass\n",
        "\n",
        "  def reducer(self, year, num_offences):\n",
        "        # Sum up the total number of offences for each year\n",
        "        total_offences = sum(num_offences)\n",
        "\n",
        "        # Emit the result (year, total_offences)\n",
        "        yield year, total_offences\n",
        "\n",
        "if __name__ == '__main__':\n",
        "    OffencesMR.run()"
      ],
      "metadata": {
        "colab": {
          "base_uri": "https://localhost:8080/"
        },
        "id": "L6F6aXMXInNN",
        "outputId": "e626fe42-a844-4d2f-bb8e-720c78b4c35f"
      },
      "execution_count": null,
      "outputs": [
        {
          "output_type": "stream",
          "name": "stdout",
          "text": [
            "Writing offences_mr.py\n"
          ]
        }
      ]
    },
    {
      "cell_type": "code",
      "source": [
        "!python offences_mr.py /content/offence_final.csv > crime.txt"
      ],
      "metadata": {
        "colab": {
          "base_uri": "https://localhost:8080/"
        },
        "id": "v8T0NPESI3h5",
        "outputId": "2ec0a2fa-28b3-4708-bdea-4ca2e83f22b6"
      },
      "execution_count": null,
      "outputs": [
        {
          "output_type": "stream",
          "name": "stdout",
          "text": [
            "No configs found; falling back on auto-configuration\n",
            "No configs specified for inline runner\n",
            "Traceback (most recent call last):\n",
            "  File \"/content/offences_mr.py\", line 27, in <module>\n",
            "    OffencesMR.run()\n",
            "  File \"/usr/local/lib/python3.10/dist-packages/mrjob/job.py\", line 616, in run\n",
            "    cls().execute()\n",
            "  File \"/usr/local/lib/python3.10/dist-packages/mrjob/job.py\", line 687, in execute\n",
            "    self.run_job()\n",
            "  File \"/usr/local/lib/python3.10/dist-packages/mrjob/job.py\", line 636, in run_job\n",
            "    runner.run()\n",
            "  File \"/usr/local/lib/python3.10/dist-packages/mrjob/runner.py\", line 500, in run\n",
            "    self._check_input_paths()\n",
            "  File \"/usr/local/lib/python3.10/dist-packages/mrjob/runner.py\", line 1133, in _check_input_paths\n",
            "    self._check_input_path(path)\n",
            "  File \"/usr/local/lib/python3.10/dist-packages/mrjob/runner.py\", line 1146, in _check_input_path\n",
            "    raise IOError(\n",
            "OSError: Input path /content/offence_final.csv does not exist!\n"
          ]
        }
      ]
    },
    {
      "cell_type": "code",
      "source": [
        "!cat /tmp/offences_mr.root.20240109.214808.826920/output > crime.txt\n",
        "\n"
      ],
      "metadata": {
        "colab": {
          "base_uri": "https://localhost:8080/"
        },
        "id": "nWtfVm27MA1I",
        "outputId": "1441bb5f-5296-4d01-e289-4622897a0ffc"
      },
      "execution_count": null,
      "outputs": [
        {
          "output_type": "stream",
          "name": "stdout",
          "text": [
            "cat: /tmp/offences_mr.root.20240109.214808.826920/output: No such file or directory\n"
          ]
        }
      ]
    },
    {
      "cell_type": "code",
      "source": [
        "!ls /tmp\n"
      ],
      "metadata": {
        "colab": {
          "base_uri": "https://localhost:8080/"
        },
        "id": "AgsWtrwLN7fV",
        "outputId": "e6284191-ac61-4785-b2d8-ee335b3a2ddb"
      },
      "execution_count": null,
      "outputs": [
        {
          "output_type": "stream",
          "name": "stdout",
          "text": [
            "blockmgr-2a3f36e2-0ff4-4f22-9d21-83ffa0867d23\n",
            "dap_multiplexer.e04f6f746ac9.root.log.INFO.20240111-204840.86\n",
            "dap_multiplexer.INFO\n",
            "debugger_2ffkognfwd\n",
            "directoryprefetcher_binary.e04f6f746ac9.root.log.INFO.20240111-205020.708\n",
            "directoryprefetcher_binary.INFO\n",
            "drive.e04f6f746ac9.root.log.ERROR.20240111-205017.615\n",
            "drive.e04f6f746ac9.root.log.INFO.20240111-205012.527\n",
            "drive.e04f6f746ac9.root.log.INFO.20240111-205012.530\n",
            "drive.e04f6f746ac9.root.log.INFO.20240111-205017.527\n",
            "drive.e04f6f746ac9.root.log.INFO.20240111-205017.615\n",
            "drive.e04f6f746ac9.root.log.WARNING.20240111-205017.615\n",
            "drive.ERROR\n",
            "drivefs_ipc.0\n",
            "drivefs_ipc.0_shell\n",
            "drive.INFO\n",
            "drive.WARNING\n",
            "hsperfdata_root\n",
            "initgoogle_syslog_dir.0\n",
            "language_service.e04f6f746ac9.root.log.ERROR.20240111-205315.1655\n",
            "language_service.e04f6f746ac9.root.log.INFO.20240111-205021.720\n",
            "language_service.e04f6f746ac9.root.log.INFO.20240111-205150.1106\n",
            "language_service.e04f6f746ac9.root.log.INFO.20240111-205154.1144\n",
            "language_service.e04f6f746ac9.root.log.INFO.20240111-205240.1486\n",
            "language_service.e04f6f746ac9.root.log.INFO.20240111-205249.1584\n",
            "language_service.e04f6f746ac9.root.log.INFO.20240111-205300.1655\n",
            "language_service.e04f6f746ac9.root.log.INFO.20240111-205316.1736\n",
            "language_service.e04f6f746ac9.root.log.INFO.20240111-205334.1836\n",
            "language_service.e04f6f746ac9.root.log.INFO.20240111-205507.2267\n",
            "language_service.e04f6f746ac9.root.log.INFO.20240111-210036.4638\n",
            "language_service.e04f6f746ac9.root.log.INFO.20240111-210105.4804\n",
            "language_service.e04f6f746ac9.root.log.WARNING.20240111-205315.1655\n",
            "language_service.ERROR\n",
            "language_service.INFO\n",
            "language_service.WARNING\n",
            "liblz4-java-4219468737673361164.so\n",
            "liblz4-java-4219468737673361164.so.lck\n",
            "outdated_cache_outdated\n",
            "outdated_cache_pingouin\n",
            "pyright-1149-gyWL7kZ6rrCN\n",
            "pyright-1491-w0dLf1qL8kyd\n",
            "pyright-1590-Mb3lWG4Y5zGf\n",
            "pyright-1660-RBH9t08VYMCr\n",
            "pyright-1741-nSLgtx0vY2vB\n",
            "pyright-1841-3MxZEYfpV3fw\n",
            "pyright-2272-gTa3IlRA2hiN\n",
            "pyright-4643-bsBnq8QCN2hf\n",
            "pyright-4812-Lc9USGRcs2bz\n",
            "pyright-4812-sABGLuzBJ3uI\n",
            "pyright-726-zUTeNiycnSWA\n",
            "python-languageserver-cancellation\n",
            "spark-679ccc76-59d4-4191-b944-8eec3e10b105\n",
            "spark-bc430e94-38d4-4c91-ad39-fd1129003af5\n"
          ]
        }
      ]
    },
    {
      "cell_type": "code",
      "source": [
        "!cat /tmp/offences_mr.root.*/output/part-*\n"
      ],
      "metadata": {
        "colab": {
          "base_uri": "https://localhost:8080/"
        },
        "id": "9Wjlhu4vODl5",
        "outputId": "d803ddaf-53c4-4a22-9da2-52ea77e8eaec"
      },
      "execution_count": null,
      "outputs": [
        {
          "output_type": "stream",
          "name": "stdout",
          "text": [
            "cat: '/tmp/offences_mr.root.*/output/part-*': No such file or directory\n"
          ]
        }
      ]
    },
    {
      "cell_type": "code",
      "source": [
        "%%writefile offences_mr.py\n",
        "from mrjob.job import MRJob\n",
        "from mrjob.step import MRStep\n",
        "class OffencesMR(MRJob):\n",
        "  def mapper(self, _, line):\n",
        "      fields = line.strip().split('\\t')\n",
        "      year_quarter = fields[1] + '\\t' + fields[2]\n",
        "      if fields[5] == 'Sexual offences':\n",
        "            yield (year_quarter, 1)\n",
        "\n",
        "  def reducer(self, key, values):\n",
        "        yield (key, sum(values))\n",
        "\n",
        "  def steps(self):\n",
        "        return [\n",
        "            MRStep(mapper=self.mapper, reducer=self.reducer)\n",
        "        ]\n",
        "\n",
        "        if __name__ == '__main__':\n",
        "           OffencesMR.run()\n",
        "\n"
      ],
      "metadata": {
        "colab": {
          "base_uri": "https://localhost:8080/"
        },
        "id": "jA_LDXf7vdK7",
        "outputId": "f4dc0e08-ee18-4080-8804-786c507be873"
      },
      "execution_count": null,
      "outputs": [
        {
          "output_type": "stream",
          "name": "stdout",
          "text": [
            "Overwriting offences_mr.py\n"
          ]
        }
      ]
    },
    {
      "cell_type": "code",
      "source": [
        "!python offences_mr.py /content/drive/MyDrive/Colab Notebooks/Big Data Assignment2/offence_final.csv > crime.txt\n"
      ],
      "metadata": {
        "id": "BvNaewdW3c2Y"
      },
      "execution_count": null,
      "outputs": []
    },
    {
      "cell_type": "code",
      "source": [
        "!cat crime.txt\n"
      ],
      "metadata": {
        "id": "h_68t6WW_XmI"
      },
      "execution_count": null,
      "outputs": []
    }
  ]
}