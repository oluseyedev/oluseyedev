{
  "nbformat": 4,
  "nbformat_minor": 0,
  "metadata": {
    "colab": {
      "provenance": [],
      "include_colab_link": true
    },
    "kernelspec": {
      "name": "python3",
      "display_name": "Python 3"
    }
  },
  "cells": [
    {
      "cell_type": "markdown",
      "metadata": {
        "id": "view-in-github",
        "colab_type": "text"
      },
      "source": [
        "<a href=\"https://colab.research.google.com/github/oluseyedev/oluseyedev/blob/main/completed_Python_Basics_1.ipynb\" target=\"_parent\"><img src=\"https://colab.research.google.com/assets/colab-badge.svg\" alt=\"Open In Colab\"/></a>"
      ]
    },
    {
      "cell_type": "markdown",
      "metadata": {
        "id": "f65jRNmNqc9m"
      },
      "source": [
        "## Python Basics 1\n",
        "\n",
        "Author: Dr. Pradeep Hewage\n",
        "\n",
        "Contact: P.Hewage@bolton.ac.uk\n",
        "\n",
        "Institution: University of Bolton\n",
        "\n",
        "## Introduction\n",
        "\n",
        "This notebook has been written to support Python basics for Data Science module. As we work through the module, we'll often use Google Colab resources to accelerate learning.\n",
        "<br/>\n",
        "\n",
        "Programming is a practical activity. It's best to learn by doing, and by running examples at your own pace, in your own time.\n",
        "<br/>\n",
        "\n",
        "## What is Google Colab?\n",
        "Google Colab provides a software environment you can use to execute code. This means you don't have to setup any complicated software environments for yourself - you can simply load this site and run our activities. You'll need your own Google ID to login and use this resource to its full potential. So please, sign up for a Google account if you **do not** already have one.\n",
        "<br/>"
      ]
    },
    {
      "cell_type": "markdown",
      "metadata": {
        "id": "CpYr6QGTq7DN"
      },
      "source": [
        "# Using This Resource\n",
        "\n",
        "I advise that you step through each cell in this notebook slowly, at your own pace. Once you understand each cell, move on. This is important as each cell builds upon the next. Industry activities are provided near the end of the notebook. Enjoy!\n",
        "<br/>\n",
        "\n",
        "Remember, each cell is supposed to be executed in turn from the top to the bottom of this notebook. So, keep that in mind!"
      ]
    },
    {
      "cell_type": "markdown",
      "metadata": {
        "id": "5qSAhzserMM6"
      },
      "source": [
        "## 0. The basics\n",
        "\n",
        "Each cell in the Colab can contain an executable piece of Python code. When we execute a cell, the results of that execute are remembered. Consider the example below. Read it, then execute the cell."
      ]
    },
    {
      "cell_type": "code",
      "metadata": {
        "id": "Dayl7rF6rd8y"
      },
      "source": [
        "x = 0\n",
        "y = 0\n",
        "\n",
        "z = x + y\n",
        "\n",
        "print(z)"
      ],
      "execution_count": null,
      "outputs": []
    },
    {
      "cell_type": "markdown",
      "metadata": {
        "id": "Zq-wtiodrk8c"
      },
      "source": [
        "This is some pretty straightforward code that sets $z$ equal to the value of $x+y$. Since both $x$ and $y$ are defined to be zero, then $z=0$. Suppose we then write the following code. Read it, then execute the cell. What output do you expect?"
      ]
    },
    {
      "cell_type": "code",
      "metadata": {
        "id": "s0gjTtrKr6co"
      },
      "source": [
        "x = 1\n",
        "\n",
        "print(z)"
      ],
      "execution_count": null,
      "outputs": []
    },
    {
      "cell_type": "markdown",
      "metadata": {
        "id": "hcNDXEnpsPw1"
      },
      "source": [
        "Does it surprise you that $z$ is still zero? It shouldn't - just because we set the value of $x$ to 1, doesn't mean that change is propagated to $z$. We have to explicitly update $z$ to achieve that. Let's try to do that in the cell that follows. Read it, then execute it when ready."
      ]
    },
    {
      "cell_type": "code",
      "metadata": {
        "id": "UYOKAAmfskPx"
      },
      "source": [
        "z = x + y\n",
        "\n",
        "print(z)"
      ],
      "execution_count": null,
      "outputs": []
    },
    {
      "cell_type": "markdown",
      "metadata": {
        "id": "PsK7k6rosmnP"
      },
      "source": [
        "You can see here that this cell has \"remembered\" that we set $x=1$ in a previous cell. That's because the code we write in cells, and the assignments they define, are stored in memory. Look up at the top right of the browser screen - can you see the Colab telling you your Random Access Memory (RAM) usage? It also shows your disk usage too! Ok, back to this example. What should be clear from this example, is that the order in which we execute cells matters. It is also important that we define all of the items we refer to in cells. For example, try to run the cell below. It will report an error - do you understand why?"
      ]
    },
    {
      "cell_type": "code",
      "metadata": {
        "id": "_2-Reoy8tbbB"
      },
      "source": [
        "z = x + y - a\n",
        "print(z)"
      ],
      "execution_count": null,
      "outputs": []
    },
    {
      "cell_type": "markdown",
      "metadata": {
        "id": "smGAhhTltkUY"
      },
      "source": [
        "We get a “name error” here, because we use a term $a$ which we've not introduced before, nor defined. Computers do not run on magic. They only know the things that we tell them. Thus, since I didn't say what a was, or what it equals, the calculation could not be completed.\n",
        "\n",
        "<br>\n",
        "\n",
        "Get use to error messages such as this. Encountering them is an important part of learning to program. The question is, how will you respond error messages - panic? Try to react constructively – ask “what is it I don't understand”, “why did this happen”, “what does it mean - what is the computer trying to tell me”. In this case it was clear, \"a is not defined\". Sometimes error messages are less clear, so be prepared for that. Confusion is entirely normal. I wasn't born knowing this stuff :)\n"
      ]
    },
    {
      "cell_type": "markdown",
      "metadata": {
        "id": "kENOx68hrE9T"
      },
      "source": [
        "## 1. Comments\n",
        "\n",
        "Comments are used to help describe the code we write. Why do we needs comments in our code? There are a variety of important reasons.\n",
        "* To explain how it works.\n",
        "* To make it easier to read.\n",
        "* To help make the code easier to maintain, for those who didn’t write it.\n",
        "* It is important to write informative, succinct comments.\n",
        "* There are two types of comment in Python:\n",
        "  * In-line comments\n",
        "  * And Block comments\n",
        "\n",
        "<br/>\n",
        "\n",
        "The hash (#) symbol is used to start a comment.\n",
        "\n",
        "<br/>\n",
        "\n",
        "An **in-line comment** explains a single line of code. It may explain the purpose of the line or provide important information and pointers. Such comments should be used only when required.\n",
        "\n",
        "<br/>\n",
        "\n",
        "A **block comment** explains one or more lines of code. Blocks can spread over multiple lines if required, depending on the complexity of the code. If a comment needs more than one paragraph, split the comment up using an empty comment line.\n",
        "\n",
        "\n",
        "Follow the cells below and execute them as you go. The code cells will contain comments that explain how/why things are done. Looking through the cells for yourself will get you into the habit of reading code early on.\n"
      ]
    },
    {
      "cell_type": "code",
      "metadata": {
        "id": "navyED1xvgcu"
      },
      "source": [
        "# This is a single line comment.\n",
        "\n",
        "# Comment that explains the code below, were we simply add two numbers.\n",
        "number_1 = 10\n",
        "number_2 = 15\n",
        "result = number_1 + number_2\n",
        "\n",
        "# Now we have a multiline comment. I often use these to explain code that\n",
        "# may not be clear. Ideally, we keep such comments succinct. However, I'll\n",
        "# break that rule for educational purposes in this notebook.\n",
        "#\n",
        "# Below is some code that checks if a character is in a string. If it is\n",
        "# present, it returns the index corresponding to the position in the string\n",
        "# where the character was found. For example, if we have the following String:\n",
        "#\n",
        "# \"ABC\"\n",
        "#\n",
        "# Then we can view the strings as a collection of characters with specific\n",
        "# positions, or indexes, in the string, e.g.\n",
        "#\n",
        "# index:   0  1  2\n",
        "#          |  |  |\n",
        "#          v  v  v\n",
        "#        \" A  B  C \"\n",
        "#\n",
        "# So, if asking for the index of the character \"R\" in the string, the index\n",
        "# will be zero.\n",
        "text = \"ABC\"\n",
        "print(\"Position of A: \", text.find('A'))\n",
        "print(\"Position of B: \", text.find('B'))\n",
        "print(\"Position of C: \", text.find('C'))\n"
      ],
      "execution_count": null,
      "outputs": []
    },
    {
      "cell_type": "markdown",
      "metadata": {
        "id": "pdPVZaY1v4B5"
      },
      "source": [
        "Can you comment the code below? What would you say? The answer is provided in a few cells down - but don't look right away! Don't worry about not understanding everything the code does - just read what is says, even read it outload in English. Maybe running the code and seeing the output, will help you understand how its written."
      ]
    },
    {
      "cell_type": "code",
      "metadata": {
        "id": "zJoTruRJwKS1"
      },
      "source": [
        "number_1 = 0\n",
        "number_2 = 10\n",
        "\n",
        "while number_1 < number_2:\n",
        "  number_1 = number_1 + 1\n",
        "\n",
        "  if number_1 % 2 == 0:\n",
        "\n",
        "    print(\"number_1 now even:\", number_1)"
      ],
      "execution_count": null,
      "outputs": []
    },
    {
      "cell_type": "markdown",
      "metadata": {
        "id": "A8qWMXNpwOvX"
      },
      "source": [
        "My comments are below. Different people will write comments in different ways. That's ok, so long as the key pieces of information are conveyed."
      ]
    },
    {
      "cell_type": "code",
      "metadata": {
        "id": "Ertw-HRHwTyI"
      },
      "source": [
        "# Some simple code that prints out the even numbers between\n",
        "# number_1 and number_2. The values of these can be altered\n",
        "# as required.\n",
        "number_1 = -1\n",
        "number_2 = 10\n",
        "\n",
        "# While number_1 is less than number_2\n",
        "while number_1 < number_2:\n",
        "  number_1 = number_1 + 1 # increment the value of number_1 by 1.\n",
        "\n",
        "  # If number_1 is even, print that out.\n",
        "  if number_1 % 2 == 0:\n",
        "\n",
        "    print(\"number_1 now even:\", number_1)"
      ],
      "execution_count": null,
      "outputs": []
    },
    {
      "cell_type": "markdown",
      "metadata": {
        "id": "GQ48djfowg0B"
      },
      "source": [
        "Remember, there are single line and multi-line comments in Python. Here's an example of both."
      ]
    },
    {
      "cell_type": "code",
      "metadata": {
        "id": "jxZG_2IQwnd5"
      },
      "source": [
        "# This is a single line comment in Python.\n",
        "\n",
        "\n",
        "'''\n",
        "This is also a multi-line comment in python.\n",
        "But we use these sorts of comments to document\n",
        "specific parts of the code. We'll address this later.\n",
        "'''"
      ],
      "execution_count": null,
      "outputs": []
    },
    {
      "cell_type": "markdown",
      "metadata": {
        "id": "CgMhAyLmwpFx"
      },
      "source": [
        "## Activity 1\n",
        "\n",
        "Here's a simple first activity to get you going. Write a piece of code that computes the average of the numbers 1, 2, 3, 4, 5. Print out the average and comment your code. I Python, we can use the $/$ symbol to represent division. I provide an example answer below."
      ]
    },
    {
      "cell_type": "code",
      "metadata": {
        "id": "MuLvV-pjxCU9"
      },
      "source": [
        "# Your awesome code here."
      ],
      "execution_count": null,
      "outputs": []
    },
    {
      "cell_type": "markdown",
      "metadata": {
        "id": "WO0jHoGdxENb"
      },
      "source": [
        "My answer..."
      ]
    },
    {
      "cell_type": "code",
      "metadata": {
        "id": "23psEQMAxFjf"
      },
      "source": [
        "# The average, or mean, is simply the sum of the numbers to\n",
        "# be averaged, divided by the total number of numbers.\n",
        "# Simple average calculation\n",
        "avg = (1 + 2 + 3 + 4 + 5) / 5\n",
        "print(avg)"
      ],
      "execution_count": null,
      "outputs": []
    },
    {
      "cell_type": "markdown",
      "metadata": {
        "id": "ZH2Ufh_dxaY4"
      },
      "source": [
        "## 2. Lines of Code\n",
        "In Python, lines of code terminate with the end of the line. Any comments that appear in a line are ignored by the interpreter when reading code, so these don't interfere with our line endings. When writing code in the Colab code cells, whenever we press the enter key, we effectively create a new line. Let's consider some examples to support this intuition. Read the line of code below - what do you think will be printed when we run it?"
      ]
    },
    {
      "cell_type": "code",
      "source": [
        "# Output age\n",
        "age = 34 # age = 35\n",
        "print(age)"
      ],
      "metadata": {
        "id": "vAHWM0fY8vB1",
        "colab": {
          "base_uri": "https://localhost:8080/"
        },
        "outputId": "955609f3-2ac8-44e7-ddcd-3377ec46763b"
      },
      "execution_count": 1,
      "outputs": [
        {
          "output_type": "stream",
          "name": "stdout",
          "text": [
            "34\n"
          ]
        }
      ]
    },
    {
      "cell_type": "markdown",
      "source": [
        "Notice that when we run this code, the value 34 was printed out. Thus, the code I wrote after the hash symbol (#) was ignored by the interpreter since it signified a comment line. This is why the value of age wasn't updated. This example contained two distinct lines of code.\n",
        "\n",
        "Sometimes when writing code, for human readability reasons we may want to break code up over one or more lines. But we want the interpreter to treat the code as a single line. It is possible to this in Python with the line continuation character. This is represented using a backslash ($$). When the interpreter reads a continuation character, it realises that we want it to continue reading any code that follows as belonging to the same line. Take a look at the code below and then execute it. Is the output as you expect?"
      ],
      "metadata": {
        "id": "Ils07dNW81F9"
      }
    },
    {
      "cell_type": "code",
      "source": [
        "x = 4 + \\\n",
        "5\n",
        "print(x)"
      ],
      "metadata": {
        "id": "VmWG2naX9WEt"
      },
      "execution_count": null,
      "outputs": []
    },
    {
      "cell_type": "markdown",
      "source": [
        "Using this continuation line, we are able to split up a line for readability, but have it treated as a single line by the interpreter. For such simple examples this is a bit of daft thing to do. We don't need the backslash here - but in real world examples, we often need to use this. What happens if we don't use a continuation character here? Run the code below to find out."
      ],
      "metadata": {
        "id": "qlG6R3Cf9Y-7"
      }
    },
    {
      "cell_type": "code",
      "source": [
        "x = 4 +\n",
        "5\n",
        "print(x)"
      ],
      "metadata": {
        "id": "SlyomSk89ehU"
      },
      "execution_count": null,
      "outputs": []
    },
    {
      "cell_type": "markdown",
      "source": [
        "Because we didn't use the continuation character, we encountered a syntax error. This is the interpreter’s way of telling us the syntax of our code is invalid. It's clear why - even in regular mathematics, a statement such as 4 + is not valid unless there is another term following the plus sign. Whilst the following line that just contains the number 5 is also invalid. It's a little like writing a sentence in English like:\n",
        "\n",
        "the\n",
        "\n",
        "It has no meaning and syntactically invalid (no full stop etc). We most often use continuation characters when printing out long lines of text. For instance, if providing the user of an application with guidance or key information. An example of this is provided below. Run the code to double check the output."
      ],
      "metadata": {
        "id": "9dvPHk1B9hbD"
      }
    },
    {
      "cell_type": "code",
      "source": [
        "print(\"Sometimes we may have a great deal of text that we wish to print out \"\\\n",
        "      \"but according to Python style guides, we shouldn't write lines of code \"\\\n",
        "      \"greater than 79 characters long. Hence using the continuation character, \"\\\n",
        "      \" I can get around this restriction.\")"
      ],
      "metadata": {
        "id": "8CM1tJ099pyT"
      },
      "execution_count": null,
      "outputs": []
    },
    {
      "cell_type": "markdown",
      "source": [
        "Notice how all this information is printed out on one line?\n",
        "\n",
        "Also notice how I had to break up the lines too? When we print out text using the, print() command, the text must be placed between double quotes, \"like this\". This allows the interpreter to figure out that anything between the double quote pairs, is to be treated as text. For instance, 5 is a number but \"5\" is text containing the character 5. I can do maths with the number 5, but I can't do maths with the text \"5\" (we'll try that shortly!).\n",
        "\n",
        "We accept that the text I wanted to print has to be within a of double quotes. When the interpreter sees the quote character (\") it expects the following information it reads to be text until it sees another double quote character.\n",
        "\n",
        "I couldn't therefore put the continuation character in-between the double quotes. If I had then the interpreter wouldn't have seen the continuation character as a request to carry on reading the next line, but as a backslash to include in some text.\n",
        "\n",
        "The output of my code here is also a bit difficult to read, since the output line is very long. I can fix that using the newline character. This is specified using \\n. Take a look at the following code sample and then run it."
      ],
      "metadata": {
        "id": "H2ImejfV-ggU"
      }
    },
    {
      "cell_type": "code",
      "source": [
        "print(\"Sometimes we may have a great deal of text that we wish to print out\\n\"\\\n",
        "      \"but according to Python style guides, we shouldn't write lines of code\\n\"\\\n",
        "      \"greater than 79 characters long. Hence using the continuation character,\\n\"\\\n",
        "      \" I can get around this restriction.\")"
      ],
      "metadata": {
        "id": "VTAlRYp_-xpc"
      },
      "execution_count": null,
      "outputs": []
    },
    {
      "cell_type": "markdown",
      "source": [
        "The output is now much neater. Let's head back to the idea I had of trying to add text. Let's see what happens in the code sample below."
      ],
      "metadata": {
        "id": "rxjSWM80-1Oj"
      }
    },
    {
      "cell_type": "code",
      "source": [
        "print(\"5\" + \"5\")"
      ],
      "metadata": {
        "id": "rBMopFAI-6d7"
      },
      "execution_count": null,
      "outputs": []
    },
    {
      "cell_type": "markdown",
      "source": [
        "This Cleary isn't the output we may have expected - or is it? We can't add text in a numerical sense, as that has no meaning. But we can join text together. This is called concatenation. This is what we have done here, concatenate two text sequences."
      ],
      "metadata": {
        "id": "1KIJ9_XW-857"
      }
    },
    {
      "cell_type": "markdown",
      "source": [
        "##3. Code Blocks\n",
        "In Python, blocks of code are separated using indentation. Indentation can be expressed using whitespace or tabs. The PEP8 style standard four Python (discussed further down) recommends four spaces per indentation level - this is equal to one-tab character. What does this look like in practice.... take a look at the code in the cell below. Try to understand it, then run it when ready."
      ],
      "metadata": {
        "id": "cORtaOPS_F58"
      }
    },
    {
      "cell_type": "code",
      "source": [
        "print(\"This block is not indented.\") # First print command.\n",
        "\n",
        "a = 1\n",
        "b = 2\n",
        "\n",
        "if a == 1:\n",
        "  print(\"This block is indented by one.\") # Second print command.\n",
        "\n",
        "  if b ==2:\n",
        "    print(\"This block is indented by two.\") # Third print command."
      ],
      "metadata": {
        "id": "awsDglNi_Q1c"
      },
      "execution_count": null,
      "outputs": []
    },
    {
      "cell_type": "markdown",
      "source": [
        "It may not be obvious what’s happening here - but let's read the code as though it were written in English. it effectively says...\n",
        "\n",
        "\n",
        "```\n",
        "Print out the first piece of text.\n",
        "\n",
        "Set a equal to one.\n",
        "Set b equal to 2.\n",
        "\n",
        "if a is equal to one, then print out the text in the block directly below the if.\n",
        "\n",
        "if a is equal to one and if b is equal to 2, then print out the text in the block directly below the second if.\n",
        "```\n",
        "\n",
        "\n",
        "Understanding the **if**-statements doesn't matter for now, we'll come back to them. What matters is that you can see and understand that the code below the if statements is indented. Those indented blocks of code belong together and are independent of one another.\n",
        "\n",
        "\n",
        "You can think about it this way - the first ```print()``` command is in a block that contains itself, the definitions of $a$ and $b$, and the first **if** statement.\n",
        "\n",
        "The second print() command is in a block that contains itself and the second **if** statement.\n",
        "\n",
        "The final ```print()``` command is in a block by itself.\n",
        "\n",
        "Take a look a the code below and try to determine what block you think the new print statement I've added is in.\n",
        "\n"
      ],
      "metadata": {
        "id": "_NVCLrYm_Uaj"
      }
    },
    {
      "cell_type": "code",
      "source": [
        "print(\"This block is not indented.\") # First print command.\n",
        "\n",
        "a = 1\n",
        "b = 2\n",
        "\n",
        "if a == 1:\n",
        "  print(\"This block is indented by one.\") # Second print command.\n",
        "\n",
        "  if b ==2:\n",
        "    print(\"This block is indented by two.\") # Third print command.\n",
        "\n",
        "  print(\"Which block is this statement in?\")"
      ],
      "metadata": {
        "id": "vvOYntF8AuJc"
      },
      "execution_count": null,
      "outputs": []
    },
    {
      "cell_type": "markdown",
      "source": [
        "This new piece of code is in the same block as the second print command. This is because they are at the same indentation level.\n",
        "\n",
        "What we have here is actually a primitive definition of a block of code. But it was necessary to start in this way to build a base to work from. We'll soon learn about new ways to define blocks of code in Python as we pick up some language keywords. These are words with a special meaning that the interpreter understands."
      ],
      "metadata": {
        "id": "5oP7Ba8UA-Fb"
      }
    },
    {
      "cell_type": "markdown",
      "source": [
        "## Code Standards\n",
        "\n",
        "When writing code, we try to adhere to some common-sense standards. These vary from language to language, based on the syntax. Python has been designed for code simplicity and readability. We've already covered the Zen of Python during the lectures that feeds into this.\n",
        "\n",
        "<br>\n",
        "\n",
        "The designer of Python advocated an approach to writing code that was never actually written down. Eventually, style guides and best practices were formalised and written down. Such guides were ultimately incorporated as into Python as the de-facto and recommended approach to Python programming. This was done via a Python Enhancement Proposal (PEP) - a mechanism via which engineers could recommend language improvements. PEP8 included a set of coding style standards. There now exists automated tools that you can use to cheek that your code adheres to such standards. Below is a link to one such tool. I recommend getting into the habit of following the [PEP8 style guide](https://www.python.org/dev/peps/pep-0008/).\n",
        "\n",
        "[PEP8 Code Standards Checker](http://pep8online.com/)\n",
        "\n"
      ],
      "metadata": {
        "id": "d_SEDmF6BCw0"
      }
    },
    {
      "cell_type": "markdown",
      "source": [
        "Let's try some more complicated activities. Each activity below is described and a potential solution that applies (for me at least) is given in some cases. It's up to you to write solutions that work for you."
      ],
      "metadata": {
        "id": "2ZtBRwfeBZ6a"
      }
    },
    {
      "cell_type": "markdown",
      "source": [
        "### Activity 2 - Giant Letters\n",
        "\n",
        "The goal here is to print out a short version of your name using only the asterisk character. For example, my full name is Robert, but I want to print out Rob so that it looks like the following:\n",
        "\n",
        "```\n",
        "****   ****  *****         \n",
        "*   *  *  *  *   *\n",
        "*   *  *  *  ****  \n",
        "* *    *  *  *   *     \n",
        "*   *  *  *  *   *\n",
        "*    * ****  *****  \n",
        "```\n",
        "\n",
        "You can decide exactly how to print it, but you must use the asterisk. No crazy ASCII art needed"
      ],
      "metadata": {
        "id": "YSflGr_fBgrj"
      }
    },
    {
      "cell_type": "code",
      "source": [
        "# Your giant letters attempt.\n",
        "# Represent Letters pattern SEYE\n",
        "pattern = {\n",
        "       'E': ['*****', '*    ', '*****', '*    ', '*****'],\n",
        "       'S': [' ****', '*    ', '**** ', '    *', '**** '],\n",
        "       'Y': ['*   *', ' * * ', '  *  ', '  *  ', '  *  '],\n",
        "       }  # Letter Representation\n",
        "\n",
        "def letter(nameList):\n",
        "   for i in range(5):  # length of a list in dictionary is 5\n",
        "       for j,_ in enumerate(nameList):\n",
        "           print(pattern[nameList[j]][i]+\"   \",end = \" \")\n",
        "       print()\n",
        "\n",
        "name = \"SEYE\"   # Print my name as output in asterick\n",
        "letter(list(name))"
      ],
      "metadata": {
        "id": "36DuudqkB9kb",
        "colab": {
          "base_uri": "https://localhost:8080/"
        },
        "outputId": "f6b212b2-42e1-4ec0-94c5-4d7e0c62fc6f"
      },
      "execution_count": null,
      "outputs": [
        {
          "output_type": "stream",
          "name": "stdout",
          "text": [
            " ****    *****    *   *    *****    \n",
            "*        *         * *     *        \n",
            "****     *****      *      *****    \n",
            "    *    *          *      *        \n",
            "****     *****      *      *****    \n"
          ]
        }
      ]
    },
    {
      "cell_type": "markdown",
      "source": [
        "### Activity 3 - What you say?\n",
        "\n",
        "Write an application that can read in some text from a user and print it out.\n",
        "\n",
        "He's a piece of code that will help you - when you want to retrieve input from a user you can write:\n",
        "\n",
        "```\n",
        "txt = input(\"Type something to test this out: \")\n",
        "```\n",
        "\n",
        "The user input is stored in ```txt``` but you could call this anything (this is a variable called txt, and we'll talk about variables in detail soon)."
      ],
      "metadata": {
        "id": "L6-28ujECFjz"
      }
    },
    {
      "cell_type": "code",
      "source": [
        "# Your code here\n",
        "# input Full name at run time and print\n",
        "\n",
        "first_name = input (\"Enter your First Name: \")\n",
        "middle_name = input (\"Enter your middle name: \")\n",
        "surname = input (\"Enter your surname: \")\n",
        "\n",
        "print(\"your full name is:\", first_name + \" \" + middle_name + \" \" + surname)"
      ],
      "metadata": {
        "id": "O2BetRLOCcD5",
        "colab": {
          "base_uri": "https://localhost:8080/"
        },
        "outputId": "2baecdae-4b1e-40eb-9fa4-f61238434d36"
      },
      "execution_count": null,
      "outputs": [
        {
          "output_type": "stream",
          "name": "stdout",
          "text": [
            "Enter your First Name: Oluseye\n",
            "Enter your middle name: Emmanuel\n",
            "Enter your surname: Fasuan\n",
            "your full name is: Oluseye Emmanuel Fasuan\n"
          ]
        }
      ]
    },
    {
      "cell_type": "markdown",
      "source": [
        "### Activity 4 - Hi Sir Isaac (waves).\n",
        "\n",
        "Newton's second law of motion can be described by theequation:\n",
        "\n",
        "\n",
        "$resultant force = mass × acceleration$\n",
        "\n",
        "\n",
        "where\n",
        "\n",
        "* force (F) is measured in newtons (N).\n",
        "* mass (m) is measured in kilograms (kg).\n",
        "* acceleration (a) is measured in metres per second squared (m/s2)\n",
        "\n",
        "Can your calculate using Python the force required to accelerate me (Pradeep) at 4 metres per second squared? Assume I weight 95 KG.\n",
        "\n",
        "Calculate the force and print it out."
      ],
      "metadata": {
        "id": "srgsp2R2CgAj"
      }
    },
    {
      "cell_type": "code",
      "source": [
        "# Your code here\n",
        "\n",
        "# Calculate the resultanct force - mass x acceleration\n",
        "mass = int (input (\"Enter the mass value in kg: \"))\n",
        "acceleration = int (input (\"Enter acceleartion value in m/s2: \"))\n",
        "force = (mass*acceleration)\n",
        "print(\"The total force required to accelrate pradeep is: \",force)"
      ],
      "metadata": {
        "id": "pqBsjJldC_ML",
        "colab": {
          "base_uri": "https://localhost:8080/"
        },
        "outputId": "197dd79f-5420-4ada-9ce2-a0c3305e1f93"
      },
      "execution_count": null,
      "outputs": [
        {
          "output_type": "stream",
          "name": "stdout",
          "text": [
            "Enter the mass value in kg: 95\n",
            "Enter acceleartion value in m/s2: 4\n",
            "The total force required to accelrate pradeep is:  380\n"
          ]
        }
      ]
    },
    {
      "cell_type": "markdown",
      "source": [
        "## 4. Variables\n",
        "\n",
        "Next week we're going to cover what we call **variables**. We'll get a head start here to prepare for that dicussion.\n",
        "\n",
        "Variables can be thought of as storage boxes kept in computer memory. The Python interpreter takes care of exactly where in memory that is. We use variables to store all sorts of useful information in our programs.\n",
        "\n",
        "\n",
        "The Python interpreter figures out what type variables are for us. It is up to us as programmers to ensure we don’t mix the types, in ways that aren’t intended.\n",
        "\n",
        "\n",
        "Here's a summary of the variables types to be found in Python.\n",
        "\n",
        "\n",
        "\n",
        "| Type   | Examples                      | Python Code Example |\n",
        "|--------|-------------------------------|---------------------|\n",
        "|Integer |… -2, -1, 0, 1, 2 …            | x = 1               |\n",
        "|Float   |… -2.1, -1.4, 0.01, 1.2, 2.8...| x = 0.5675          |\n",
        "|String  |hello                          | x = “hello”         |\n",
        "|Boolean |TRUE or FALSE                  | x = True            |\n",
        "\n",
        "\n",
        "Below is a video which discusses variables in more detail. Please watch this before you continue. If you can see the video, then run the cell first!"
      ],
      "metadata": {
        "id": "dbo6Q62B3gTx"
      }
    },
    {
      "cell_type": "code",
      "source": [
        "# Import the HTML library\n",
        "from IPython.display import HTML\n",
        "\n",
        "# Load the video frm youtube.\n",
        "HTML('<iframe width=\"560\" height=\"315\" \\\n",
        "src=\"https://www.youtube.com/embed/cQT33yu9pY8\" \\\n",
        "frameborder=\"0\" allow=\"accelerometer; autoplay; \"\\\n",
        "\"encrypted-media; gyroscope; picture-in-picture\" allowfullscreen></iframe>')"
      ],
      "metadata": {
        "colab": {
          "base_uri": "https://localhost:8080/",
          "height": 336
        },
        "id": "F9gPc2wX31a3",
        "outputId": "3661de1d-7731-43a2-aeb3-91f1579c3976"
      },
      "execution_count": null,
      "outputs": [
        {
          "output_type": "execute_result",
          "data": {
            "text/plain": [
              "<IPython.core.display.HTML object>"
            ],
            "text/html": [
              "<iframe width=\"560\" height=\"315\" src=\"https://www.youtube.com/embed/cQT33yu9pY8\" frameborder=\"0\" allow=\"accelerometer; autoplay; \"\"encrypted-media; gyroscope; picture-in-picture\" allowfullscreen></iframe>"
            ]
          },
          "metadata": {},
          "execution_count": 2
        }
      ]
    },
    {
      "cell_type": "markdown",
      "source": [
        "Now we've watched the video, let’s explore variables in more detail - and tackle some challenges. Read through the cell below and execute it when ready - remember to follow the comments for guidance too."
      ],
      "metadata": {
        "id": "TWV-u6zH4CG3"
      }
    },
    {
      "cell_type": "code",
      "source": [
        "# Let's create some variables, and play with the \"standard library\" functions\n",
        "# that come bult-in to Python that are available to us.\n",
        "# The code below creates an integer variable. Remember, integers are\n",
        "# whole numbers (e.g. -1, 0, 1 etc.).\n",
        "number_1 = 1\n",
        "\n",
        "# We can verify the data type of the variable using the type() command:\n",
        "print(\"Type of variable 'number_1': \", type(number_1))\n",
        "\n",
        "# We can also obtain unique identifier for the variable too. To do this we use\n",
        "# the id() command. When a variable is created, it is assigned a unique\n",
        "# identifier by the Python interpreter. This allows the variable to be\n",
        "# tracked and managed appropriately in memory. The ID is a bit like a national\n",
        "# insurance number. Better yet, think of the ID as a pointer to a variable that\n",
        "# is stored in memory somewhere.\n",
        "print(\"ID of variable 'number_1': \", id(number_1))\n",
        "\n",
        "\n",
        "# Now let's try and change the value of number_1\n",
        "number_1 = 2\n",
        "\n",
        "# What impact does this have on the variable ID?\n",
        "print(\"ID of variable 'number_1' after updating: \", id(number_1))"
      ],
      "metadata": {
        "id": "93MWdil64IEZ"
      },
      "execution_count": null,
      "outputs": []
    },
    {
      "cell_type": "markdown",
      "source": [
        "We can see above that changing the value of the variable number_1 from 1 to 2, changed it's identifier. So, what happened here? Well, changing the variable created a new variable. This new variable is stored in a different location in memory, which the updated ID points to. What happens if we try and change the value back?"
      ],
      "metadata": {
        "id": "LllocFlL4QNg"
      }
    },
    {
      "cell_type": "code",
      "source": [
        "# Now let's try and change the value of number_1 back to 1\n",
        "number_1 = 1\n",
        "\n",
        "# What impact does this have on the variable ID? Compare the value of\n",
        "# the ID to the value first reported above.\n",
        "print(\"ID of variable 'number_1' after changing back: \", id(number_1))"
      ],
      "metadata": {
        "id": "7kmCHRTM4Th_"
      },
      "execution_count": null,
      "outputs": []
    },
    {
      "cell_type": "markdown",
      "source": [
        "We find that the ID has returned to the original value outputted. This shows that the original value of number_1 is still in memory, and now we're simply pointing back to it. This becomes important in situations where we need to write efficient programs that use as little memory as possible - for example, when writing applications for mobile devices. So keep in mind the variables you declare and how much memory you are using. Only use the variables you actually need. Now we explore some other variables."
      ],
      "metadata": {
        "id": "rxfqbfNf4XPP"
      }
    },
    {
      "cell_type": "code",
      "source": [
        "# The code below creates a floating-point variable (a float). Floats\n",
        "# are numbers with fractional components (e.g. -1.21, 0.001, 1.483 etc.).\n",
        "number_1 = 1.999\n",
        "\n",
        "# We can verify the data type of the variable using the type() command:\n",
        "print(\"Type of variable 'number_1': \", type(number_1))\n",
        "\n",
        "# The code below creates a string variable (a str). Remember, strings\n",
        "# are just textual variables.\n",
        "text = \"a string\"\n",
        "\n",
        "# We can verify the data type of the variable using the type() command:\n",
        "print(\"Type of variable 'text': \", type(text))\n",
        "\n",
        "# Strings support other functions, which can tell us something about their\n",
        "# characteristics. One such function is the len() command. It returns the\n",
        "# length of the string.\n",
        "print(\"Length of variable 'text': \", len(text))"
      ],
      "metadata": {
        "id": "_9ra4sPu4e8f"
      },
      "execution_count": null,
      "outputs": []
    },
    {
      "cell_type": "markdown",
      "source": [
        "We can also change the type of our variables by assigning them new values. Consider the code example below. Try to predict what the output will be. Only run it after making a prediction."
      ],
      "metadata": {
        "id": "1D-47B8T4jp4"
      }
    },
    {
      "cell_type": "code",
      "source": [
        "x = 100\n",
        "print(\"Type of variable 'x': \", type(x))\n",
        "print(\"The value of 'x': \", x)\n",
        "\n",
        "x = \"Pradeep\"\n",
        "print(\"Type of variable 'x': \", type(x))\n",
        "print(\"The value of 'x': \", x)"
      ],
      "metadata": {
        "id": "39AMmzkA47-g"
      },
      "execution_count": null,
      "outputs": []
    },
    {
      "cell_type": "markdown",
      "source": [
        "What happened here? First, we created  x  and assigned it a numerical value. The Python interpreter correctly determined that the numerical type of this value was an integer (a whole number). The interpreter then set aside the correct amount of memory needed to store an integer. When we then updated the value of  x , we assigned it a string – i.e. a textual value. The interpreter realised this and updated the type of  x  for us. Pretty neat."
      ],
      "metadata": {
        "id": "z8K6dfJP5Qpv"
      }
    },
    {
      "cell_type": "markdown",
      "source": [
        "##Activity 5\n",
        "Write a program to input Mark 1, Mark 2, and Mark 3 and print the toal and average marks"
      ],
      "metadata": {
        "id": "gDoMRBVy5zqD"
      }
    },
    {
      "cell_type": "code",
      "source": [
        "# Write your code here\n",
        "\n",
        "# Declear mark 1,2 and 3 as requested\n",
        "# find the average of the 3 marks\n",
        "# round up to 2 decimal figure\n",
        "\n",
        "mark1 = int (input (\"Enter the first mark value: \"))\n",
        "mark2 = int (input (\"Enter the second mark value: \"))\n",
        "mark3 = int (input (\"Enter the 3rd mark value: \"))\n",
        "total = mark1 + mark2 + mark2\n",
        "avg = total / 3\n",
        "print(\" The Total mark is: \", total)\n",
        "print(\"The average mark is: \", format(avg,(\" .2f\")))"
      ],
      "metadata": {
        "id": "m2Ih88XQ6am3",
        "colab": {
          "base_uri": "https://localhost:8080/"
        },
        "outputId": "3b81a834-8345-47bf-aeb3-52fbb5b500dd"
      },
      "execution_count": null,
      "outputs": [
        {
          "output_type": "stream",
          "name": "stdout",
          "text": [
            "Enter the first mark value: 76\n",
            "Enter the second mark value: 56\n",
            "Enter the 3rd mark value: 46\n",
            " The Total mark is:  188\n",
            "The average mark is:   62.67\n"
          ]
        }
      ]
    },
    {
      "cell_type": "markdown",
      "source": [
        "### Activity 6 - Home farm.\n",
        "\n",
        "A farmer wants us to calculate the number of legs of all the animals on his farm. He's a strange chap, but he offers you wads of cash and a year’s supply of free-range hens’ eggs as a reward. Clearly you can't say no, so you decide to help him. You ask him to inventory the type of animals on his farm and he returns this list:\n",
        "\n",
        "* Sheep for wool.\n",
        "* Chickens for eggs.\n",
        "* Alpacas for wool.\n",
        "* Sturgeon for caviar.\n",
        "\n",
        "You then ask him how many of each animal he has. He replies cryptically...\n",
        "\n",
        "* I have a herd of 1,000 sheep.\n",
        "* I have half as many Alpacas as I have Chickens\n",
        "* I have as many as chickens as I have sheep divided by $\\pi$\n",
        "* I have a number of sturgeon equal to the number of chickens I have, divided by the number of alpacas minus 1.\n",
        "\n",
        "You ask him for some absolute numbers, but he assures you those are the best numbers he has *sigh*. Yu realise he's likely deranged, but free eggs is eggs. So, you carry on regardless.\n",
        "\n",
        "Goals:\n",
        "\n",
        "1. Calculate the number of animal legs on the farm, assuming all animals are healthy where alpacas have four legs, sheep have four legs, and chickens have two legs.  In case it needs to be said, sturgeon have no legs.\n",
        "2. Since your nice you decided to work out for the farmer exactly how many of each animal he has.\n",
        "\n",
        "Use Python to figure this out using variables and print out these values. Write your code in the cell below.\n"
      ],
      "metadata": {
        "id": "B8WfDP889Avn"
      }
    },
    {
      "cell_type": "code",
      "source": [
        "# Write your code here...\n",
        "# Determine the number of sheep, chicken, alpacas and sturgeon\n",
        "# pie is represented by 3.142\n",
        "# print the number of each animals and total number of legs\n",
        "\n",
        "sheep = 1000\n",
        "chicken = int (sheep/ 3.142)\n",
        "alpacas = int (chicken * 0.5)\n",
        "sturgeon = int ((chicken /alpacas) - 1)\n",
        "print(\"The number of farm sheep is: \", format (sheep))\n",
        "print(\"The number of farm chicken is: \", format (chicken))\n",
        "print(\"The number of alpacas in the farm is: \", format (alpacas))\n",
        "print(\"The number of farm sturgeon is: \", sturgeon)\n",
        "animal_leg = ((sheep * 4) + (chicken * 2 ) + (alpacas * 4 ))\n",
        "print(\"Total animal legs in the farm is:  \", animal_leg)"
      ],
      "metadata": {
        "id": "xLOnHQ-D9PFr",
        "colab": {
          "base_uri": "https://localhost:8080/"
        },
        "outputId": "749df75b-eecd-4aa7-8e39-17bce4fb7931"
      },
      "execution_count": 2,
      "outputs": [
        {
          "output_type": "stream",
          "name": "stdout",
          "text": [
            "The number of farm sheep is:  1000\n",
            "The number of farm chicken is:  318\n",
            "The number of alpacas in the farm is:  159\n",
            "The number of farm sturgeon is:  1\n",
            "Total animal legs in the farm is:   5272\n"
          ]
        }
      ]
    },
    {
      "cell_type": "markdown",
      "source": [
        "### Activity 7 Weight on Pluto\n",
        "\n",
        "During the Covid-19 lockdown, I've been stuck behind my desk quite a bit. This means, sadly, I've put on some weight. Whilst at the start of the Covid I was trim 83Kg, I'm now pushing 95 Kg. To make myself feel better, I like to think about how my weight is entirely dependent on the mass of the planet on which I live. Thus, while I'm 95Kg on Earth, I reckon I'm pretty in shape on Pluto. The goal here is to calculate my weight on Pluto to make me feel a whole lot better.\n",
        "\n",
        "Here's the key information you'll need.\n",
        "\n",
        "* The surface gravity on Pluto pulls objects toward its surface at a rate of 0.063 $g$.\n",
        "* My weight on pluto is given by the equation: $Weight = Mass \\times \\textrm{Surface Gravity}$\n"
      ],
      "metadata": {
        "id": "fH-2itKB-H1l"
      }
    },
    {
      "cell_type": "code",
      "source": [
        "# Write your code here.\n",
        "\n",
        "mass = 95\n",
        "surface_gravity = 0.063\n",
        "weight = mass * surface_gravity\n",
        "\n",
        "print(\"The Surface gravity weight on pluto: \", weight, \" Kg\")"
      ],
      "metadata": {
        "id": "teNeZi4d90wm",
        "colab": {
          "base_uri": "https://localhost:8080/"
        },
        "outputId": "d1ba089c-65b4-4f83-9fac-d0a9b2e2d03c"
      },
      "execution_count": null,
      "outputs": [
        {
          "output_type": "stream",
          "name": "stdout",
          "text": [
            "The Surface gravity weight on pluto:  5.985  Kg\n"
          ]
        }
      ]
    },
    {
      "cell_type": "markdown",
      "source": [
        "##Activity 6 and 7 solutions\n",
        "Please don't look at these (below) until you've attempted the tasks.\n",
        "\n",
        "<br>\n",
        "..\n",
        "<br>\n",
        "..\n",
        "<br>\n",
        "Don't cheat until you're done...\n",
        "<br>\n",
        "..\n",
        "<br>\n",
        "..\n",
        "<br>\n",
        "..\n",
        "<br>\n",
        "..\n",
        "<br>\n",
        "..\n",
        "<br>\n",
        "..\n",
        "<br>\n",
        "Sure you're done?\n",
        "<br>\n",
        "..\n",
        "<br>\n",
        "..\n",
        "<br>\n",
        "..\n",
        "<br>\n",
        "..\n",
        "<br>\n",
        "..\n",
        "<br>\n",
        "..\n",
        "<br>\n",
        "..\n",
        "<br>\n",
        "..\n",
        "<br>\n",
        "..\n",
        "<br>\n",
        "..\n",
        "<br>\n",
        "..\n",
        "<br>\n",
        "..\n",
        "<br>\n",
        "..\n",
        "<br>\n",
        "..\n",
        "<br>"
      ],
      "metadata": {
        "id": "lGAXvNLnAhKN"
      }
    },
    {
      "cell_type": "markdown",
      "source": [
        "###Activity 6 Solution\n",
        "The crazy farmer has:\n",
        "\n",
        "1,000 sheep.\n",
        "Approximately 318 chickens.\n",
        "Approximately 159 alpacas.\n",
        "Exactly 1 sturgeon.\n",
        "The total number of legs on the farm is 5273.2406201955055. Clearly the farmer must be crazy, as he seems to have partial animals - or his math was off. Here's one way to solve this...."
      ],
      "metadata": {
        "id": "pNkEegf9BIjF"
      }
    },
    {
      "cell_type": "code",
      "source": [
        "sheep = 1000\n",
        "chickens = sheep / 3.14159 # a rounded versin of pi.\n",
        "alpacas = chickens / 2\n",
        "sturgeon = (chickens / alpacas) -1\n",
        "\n",
        "print(\"The farmer has \", sheep, \" sheep.\")\n",
        "print(\"The farmer has \", chickens, \" chickens.\")\n",
        "print(\"The farmer has \", alpacas, \" alpacas.\")\n",
        "print(\"The farmer has \", sturgeon, \" sturgeon.\")\n",
        "\n",
        "print(\"Total animals: \", sheep + chickens + alpacas + sturgeon)\n",
        "\n",
        "legs = (sheep * 4) + (chickens * 2) + (alpacas * 4)\n",
        "\n",
        "print(\"Total legs: \", legs)"
      ],
      "metadata": {
        "id": "Knxz4IuZBS2O"
      },
      "execution_count": null,
      "outputs": []
    },
    {
      "cell_type": "markdown",
      "source": [
        "### Activity 7 Solution\n",
        "My weight on pluto is, thankfully, 5.985 Kg."
      ],
      "metadata": {
        "id": "CjKdFcwiBXQf"
      }
    },
    {
      "cell_type": "code",
      "source": [
        "# Calculate your weight on pluto\n",
        "# Weight is mass x surface gravity\n",
        "mass = 95\n",
        "surface_gravity = 0.063\n",
        "weight = mass * surface_gravity\n",
        "\n",
        "print(\" Seye's current weight is : \", weight,\"Kg\" )"
      ],
      "metadata": {
        "colab": {
          "base_uri": "https://localhost:8080/"
        },
        "id": "LUIExXj0BhQ2",
        "outputId": "55098191-e5c9-498a-8e0a-281cf52811c4"
      },
      "execution_count": 5,
      "outputs": [
        {
          "output_type": "stream",
          "name": "stdout",
          "text": [
            " Seye's current weight is :  5.985 Kg\n"
          ]
        }
      ]
    }
  ]
}