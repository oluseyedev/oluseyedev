{
  "cells": [
    {
      "cell_type": "markdown",
      "metadata": {
        "id": "view-in-github",
        "colab_type": "text"
      },
      "source": [
        "<a href=\"https://colab.research.google.com/github/oluseyedev/oluseyedev/blob/main/Assignment2.ipynb\" target=\"_parent\"><img src=\"https://colab.research.google.com/assets/colab-badge.svg\" alt=\"Open In Colab\"/></a>"
      ]
    },
    {
      "cell_type": "code",
      "execution_count": 1,
      "metadata": {
        "colab": {
          "base_uri": "https://localhost:8080/",
          "height": 35
        },
        "id": "JF0O2Vq5Fm9E",
        "outputId": "505f0e02-dcbd-4576-8925-2b6e7c0bea5f"
      },
      "outputs": [
        {
          "output_type": "execute_result",
          "data": {
            "text/plain": [
              "'/content'"
            ],
            "application/vnd.google.colaboratory.intrinsic+json": {
              "type": "string"
            }
          },
          "metadata": {},
          "execution_count": 1
        }
      ],
      "source": [
        "pwd"
      ]
    },
    {
      "cell_type": "code",
      "execution_count": 2,
      "metadata": {
        "id": "7_9F1TlIGVMa"
      },
      "outputs": [],
      "source": [
        "!apt-get install openjdk-8-jdk-headless -qq > /dev/null\n",
        "!wget -q http://archive.apache.org/dist/spark/spark-3.1.1/spark-3.1.1-bin-hadoop3.2.tgz\n",
        "!tar xf spark-3.1.1-bin-hadoop3.2.tgz\n",
        "!pip install -q findspark"
      ]
    },
    {
      "cell_type": "code",
      "execution_count": 3,
      "metadata": {
        "id": "tPlrGdWMGqAz"
      },
      "outputs": [],
      "source": [
        "import os\n",
        "os.environ[\"JAVA_HOME\"] = \"/usr/lib/jvm/java-8-openjdk-amd64\"\n",
        "os.environ[\"SPARK_HOME\"] = \"/content/spark-3.1.1-bin-hadoop3.2\""
      ]
    },
    {
      "cell_type": "code",
      "execution_count": 4,
      "metadata": {
        "colab": {
          "base_uri": "https://localhost:8080/",
          "height": 219
        },
        "id": "GYcRKIvQGs7e",
        "outputId": "f3d84772-75eb-4c04-bc14-5044d03bb8de"
      },
      "outputs": [
        {
          "output_type": "execute_result",
          "data": {
            "text/plain": [
              "<pyspark.sql.session.SparkSession at 0x7cf1a4726950>"
            ],
            "text/html": [
              "\n",
              "            <div>\n",
              "                <p><b>SparkSession - in-memory</b></p>\n",
              "                \n",
              "        <div>\n",
              "            <p><b>SparkContext</b></p>\n",
              "\n",
              "            <p><a href=\"http://3481251b02ff:4040\">Spark UI</a></p>\n",
              "\n",
              "            <dl>\n",
              "              <dt>Version</dt>\n",
              "                <dd><code>v3.1.1</code></dd>\n",
              "              <dt>Master</dt>\n",
              "                <dd><code>local[*]</code></dd>\n",
              "              <dt>AppName</dt>\n",
              "                <dd><code>pyspark-shell</code></dd>\n",
              "            </dl>\n",
              "        </div>\n",
              "        \n",
              "            </div>\n",
              "        "
            ]
          },
          "metadata": {},
          "execution_count": 4
        }
      ],
      "source": [
        "import findspark\n",
        "findspark.init()\n",
        "from pyspark.sql import SparkSession\n",
        "spark = SparkSession.builder.master(\"local[*]\").getOrCreate()\n",
        "spark.conf.set(\"spark.sql.repl.eagerEval.enabled\", True) # Property used to format output tables better\n",
        "spark"
      ]
    },
    {
      "cell_type": "code",
      "execution_count": 13,
      "metadata": {
        "colab": {
          "base_uri": "https://localhost:8080/"
        },
        "id": "VvfvYW48G0yo",
        "outputId": "3e02d773-2283-4595-ead3-771e57d3316d"
      },
      "outputs": [
        {
          "output_type": "stream",
          "name": "stdout",
          "text": [
            "Requirement already satisfied: pandas in /usr/local/lib/python3.10/dist-packages (1.5.3)\n",
            "Requirement already satisfied: scikit-learn in /usr/local/lib/python3.10/dist-packages (1.2.2)\n",
            "Requirement already satisfied: python-dateutil>=2.8.1 in /usr/local/lib/python3.10/dist-packages (from pandas) (2.8.2)\n",
            "Requirement already satisfied: pytz>=2020.1 in /usr/local/lib/python3.10/dist-packages (from pandas) (2023.3.post1)\n",
            "Requirement already satisfied: numpy>=1.21.0 in /usr/local/lib/python3.10/dist-packages (from pandas) (1.23.5)\n",
            "Requirement already satisfied: scipy>=1.3.2 in /usr/local/lib/python3.10/dist-packages (from scikit-learn) (1.11.4)\n",
            "Requirement already satisfied: joblib>=1.1.1 in /usr/local/lib/python3.10/dist-packages (from scikit-learn) (1.3.2)\n",
            "Requirement already satisfied: threadpoolctl>=2.0.0 in /usr/local/lib/python3.10/dist-packages (from scikit-learn) (3.2.0)\n",
            "Requirement already satisfied: six>=1.5 in /usr/local/lib/python3.10/dist-packages (from python-dateutil>=2.8.1->pandas) (1.16.0)\n"
          ]
        }
      ],
      "source": [
        "pip install pandas scikit-learn"
      ]
    },
    {
      "cell_type": "code",
      "execution_count": 47,
      "metadata": {
        "colab": {
          "base_uri": "https://localhost:8080/"
        },
        "id": "91v6E_txIuj2",
        "outputId": "6659112c-fbea-4e03-b852-b85b6cb8bc10"
      },
      "outputs": [
        {
          "output_type": "stream",
          "name": "stdout",
          "text": [
            "Requirement already satisfied: matplotlib-venn in /usr/local/lib/python3.10/dist-packages (0.11.9)\n",
            "Requirement already satisfied: matplotlib in /usr/local/lib/python3.10/dist-packages (from matplotlib-venn) (3.7.1)\n",
            "Requirement already satisfied: numpy in /usr/local/lib/python3.10/dist-packages (from matplotlib-venn) (1.23.5)\n",
            "Requirement already satisfied: scipy in /usr/local/lib/python3.10/dist-packages (from matplotlib-venn) (1.11.4)\n",
            "Requirement already satisfied: contourpy>=1.0.1 in /usr/local/lib/python3.10/dist-packages (from matplotlib->matplotlib-venn) (1.2.0)\n",
            "Requirement already satisfied: cycler>=0.10 in /usr/local/lib/python3.10/dist-packages (from matplotlib->matplotlib-venn) (0.12.1)\n",
            "Requirement already satisfied: fonttools>=4.22.0 in /usr/local/lib/python3.10/dist-packages (from matplotlib->matplotlib-venn) (4.46.0)\n",
            "Requirement already satisfied: kiwisolver>=1.0.1 in /usr/local/lib/python3.10/dist-packages (from matplotlib->matplotlib-venn) (1.4.5)\n",
            "Requirement already satisfied: packaging>=20.0 in /usr/local/lib/python3.10/dist-packages (from matplotlib->matplotlib-venn) (23.2)\n",
            "Requirement already satisfied: pillow>=6.2.0 in /usr/local/lib/python3.10/dist-packages (from matplotlib->matplotlib-venn) (9.4.0)\n",
            "Requirement already satisfied: pyparsing>=2.3.1 in /usr/local/lib/python3.10/dist-packages (from matplotlib->matplotlib-venn) (3.1.1)\n",
            "Requirement already satisfied: python-dateutil>=2.7 in /usr/local/lib/python3.10/dist-packages (from matplotlib->matplotlib-venn) (2.8.2)\n",
            "Requirement already satisfied: six>=1.5 in /usr/local/lib/python3.10/dist-packages (from python-dateutil>=2.7->matplotlib->matplotlib-venn) (1.16.0)\n"
          ]
        }
      ],
      "source": [
        "!pip install matplotlib-venn\n",
        "from sklearn.impute import SimpleImputer\n",
        "from pyspark.sql import SparkSession\n",
        "import pandas as pd\n",
        "import numpy as np\n",
        "import seaborn as sns"
      ]
    },
    {
      "cell_type": "code",
      "execution_count": 14,
      "metadata": {
        "colab": {
          "base_uri": "https://localhost:8080/"
        },
        "id": "UelRJdRSoKbL",
        "outputId": "7d9a9c17-2e5f-46ea-cebc-c8add8dc88f9"
      },
      "outputs": [
        {
          "output_type": "stream",
          "name": "stdout",
          "text": [
            "Requirement already satisfied: pyexcel in /usr/local/lib/python3.10/dist-packages (0.7.0)\n",
            "Requirement already satisfied: pyexcel-ods in /usr/local/lib/python3.10/dist-packages (0.6.0)\n",
            "Requirement already satisfied: pyexcel-ods3 in /usr/local/lib/python3.10/dist-packages (0.6.1)\n",
            "Requirement already satisfied: pyexcel-odsr in /usr/local/lib/python3.10/dist-packages (0.6.0)\n",
            "Requirement already satisfied: pyexcel-io in /usr/local/lib/python3.10/dist-packages (0.6.6)\n",
            "Requirement already satisfied: chardet in /usr/local/lib/python3.10/dist-packages (from pyexcel) (5.2.0)\n",
            "Requirement already satisfied: lml>=0.0.4 in /usr/local/lib/python3.10/dist-packages (from pyexcel) (0.1.0)\n",
            "Requirement already satisfied: texttable>=0.8.2 in /usr/local/lib/python3.10/dist-packages (from pyexcel) (1.7.0)\n",
            "Requirement already satisfied: odfpy>=1.3.5 in /usr/local/lib/python3.10/dist-packages (from pyexcel-ods) (1.4.1)\n",
            "Requirement already satisfied: lxml in /usr/local/lib/python3.10/dist-packages (from pyexcel-ods3) (4.9.3)\n",
            "Requirement already satisfied: pyexcel-ezodf>=0.3.3 in /usr/local/lib/python3.10/dist-packages (from pyexcel-ods3) (0.3.4)\n",
            "Requirement already satisfied: defusedxml in /usr/local/lib/python3.10/dist-packages (from odfpy>=1.3.5->pyexcel-ods) (0.7.1)\n"
          ]
        }
      ],
      "source": [
        "!pip install pyexcel pyexcel-ods pyexcel-ods3 pyexcel-odsr pyexcel-io"
      ]
    },
    {
      "cell_type": "code",
      "execution_count": 22,
      "metadata": {
        "id": "olDEYxaCm5oH"
      },
      "outputs": [],
      "source": [
        "import pyexcel as pe\n"
      ]
    },
    {
      "cell_type": "code",
      "source": [
        "from sklearn.impute import SimpleImputer\n",
        "import numpy as np\n",
        "import pandas as pd\n",
        "import seaborn as sns"
      ],
      "metadata": {
        "id": "z7QYdOrlGVP6"
      },
      "execution_count": 23,
      "outputs": []
    },
    {
      "cell_type": "code",
      "source": [
        "# Create a Spark session\n",
        "spark = SparkSession.builder.appName('crime_analysis').getOrCreate()"
      ],
      "metadata": {
        "id": "k1CdaD1oM4RZ"
      },
      "execution_count": 28,
      "outputs": []
    },
    {
      "cell_type": "code",
      "execution_count": 25,
      "metadata": {
        "id": "dpNHIHUpabPB"
      },
      "outputs": [],
      "source": [
        "\n",
        "pe.get_book(file_name=\"/content/offence/prc-pfa-mar2013-onwards-tables.ods\").save_as(\"/content/offence/crime_rec.csv\")\n"
      ]
    },
    {
      "cell_type": "code",
      "source": [
        "# Read the CSV files into Spark dataframes\n",
        "\n",
        "df_2014_15 = spark.read.csv(\"/content/offence/crime_rec__2014-15__0.csv\")\n",
        "df_2015_16 = spark.read.csv(\"/content/offence/crime_rec__2015-16__1.csv\")\n",
        "df_2016_17 = spark.read.csv(\"/content/offence/crime_rec__2016-17__2.csv\")\n",
        "df_2017_18 = spark.read.csv(\"/content/offence/crime_rec__2017-18__3.csv\")\n",
        "df_2018_19 = spark.read.csv(\"/content/offence/crime_rec__2018-19__4.csv\")\n",
        "df_2019_20 = spark.read.csv(\"/content/offence/crime_rec__2019-20__5.csv\")\n",
        "df_2020_21 = spark.read.csv(\"/content/offence/crime_rec__2020-21__6.csv\")\n",
        "df_2021_22 = spark.read.csv(\"/content/offence/crime_rec__2021-22__7.csv\")\n",
        "df_2022_23 = spark.read.csv(\"/content/offence/crime_rec__2022-23__8.csv\")\n",
        "df_2023_24 = spark.read.csv(\"/content/offence/crime_rec__2023-24__9.csv\")"
      ],
      "metadata": {
        "id": "j6mtZlOBMoDy"
      },
      "execution_count": 31,
      "outputs": []
    },
    {
      "cell_type": "code",
      "source": [
        "# Merge the dataframes into one dataframe\n",
        "df = df_2014_15.union(df_2015_16).union(df_2016_17).union(df_2017_18).union(df_2018_19).union(df_2019_20).union(df_2020_21).union(df_2021_22).union(df_2022_23).union(df_2023_24)"
      ],
      "metadata": {
        "id": "2tG_k1KKRnGk"
      },
      "execution_count": 32,
      "outputs": []
    },
    {
      "cell_type": "code",
      "source": [
        "df.head()"
      ],
      "metadata": {
        "colab": {
          "base_uri": "https://localhost:8080/"
        },
        "id": "oKYyWVnFRsx6",
        "outputId": "3768a63d-cbdb-4156-f747-9f1587e01f32"
      },
      "execution_count": 33,
      "outputs": [
        {
          "output_type": "execute_result",
          "data": {
            "text/plain": [
              "Row(_c0='Financial Year', _c1='Financial Quarter', _c2='Force Name', _c3='Offence Description', _c4='Offence Group', _c5='Offence Subgroup', _c6='Offence Code', _c7='Number of Offences')"
            ]
          },
          "metadata": {},
          "execution_count": 33
        }
      ]
    },
    {
      "cell_type": "code",
      "source": [
        "# Rename the columns\n",
        "df = df.withColumnRenamed('_c0', 'financial_year').withColumnRenamed('_c1', 'financial_quarter').withColumnRenamed('_c2', 'force_name').withColumnRenamed('_c3', 'offence_des').withColumnRenamed('_c4', 'offence_grp').withColumnRenamed('_c5', 'offence_sub').withColumnRenamed('_c6', 'offence_code').withColumnRenamed('_c7', 'number_of_offence')"
      ],
      "metadata": {
        "id": "-XCaizhmUs8V"
      },
      "execution_count": 34,
      "outputs": []
    },
    {
      "cell_type": "code",
      "source": [
        "df.head()"
      ],
      "metadata": {
        "colab": {
          "base_uri": "https://localhost:8080/"
        },
        "id": "FAuODz2oWe9e",
        "outputId": "8bebd516-05e2-4c03-b380-0c19c5aa9ff7"
      },
      "execution_count": 35,
      "outputs": [
        {
          "output_type": "execute_result",
          "data": {
            "text/plain": [
              "Row(financial_year='Financial Year', financial_quarter='Financial Quarter', force_name='Force Name', offence_des='Offence Description', offence_grp='Offence Group', offence_sub='Offence Subgroup', offence_code='Offence Code', number_of_offence='Number of Offences')"
            ]
          },
          "metadata": {},
          "execution_count": 35
        }
      ]
    },
    {
      "cell_type": "code",
      "source": [
        "# Convert the dataframe to a pandas dataframe\n",
        "crime_pdf = df.toPandas()"
      ],
      "metadata": {
        "id": "zCBMeUMmW09X"
      },
      "execution_count": 37,
      "outputs": []
    },
    {
      "cell_type": "code",
      "source": [
        "# Save the pandas dataframe as a CSV file\n",
        "crime_pdf.to_csv('crime_data.csv', index=False)"
      ],
      "metadata": {
        "id": "ltyWvx7wXmNk"
      },
      "execution_count": 39,
      "outputs": []
    },
    {
      "cell_type": "code",
      "source": [
        "# Show the first five rows of the dataframe\n",
        "crime_pdf.head()"
      ],
      "metadata": {
        "colab": {
          "base_uri": "https://localhost:8080/",
          "height": 276
        },
        "id": "scFA2Ph-IcqE",
        "outputId": "b90a84c0-03c8-4661-e144-6ba939080ef4"
      },
      "execution_count": 41,
      "outputs": [
        {
          "output_type": "execute_result",
          "data": {
            "text/plain": [
              "   financial_year  financial_quarter         force_name  \\\n",
              "0  Financial Year  Financial Quarter         Force Name   \n",
              "1         2014/15                  1  Avon and Somerset   \n",
              "2         2014/15                  1  Avon and Somerset   \n",
              "3         2014/15                  1  Avon and Somerset   \n",
              "4         2014/15                  1  Avon and Somerset   \n",
              "\n",
              "                                         offence_des  \\\n",
              "0                                Offence Description   \n",
              "1                     Absconding from lawful custody   \n",
              "2      Abuse of children through sexual exploitation   \n",
              "3      Abuse of position of trust of a sexual nature   \n",
              "4  Aggravated burglary in a building other than a...   \n",
              "\n",
              "                            offence_grp                           offence_sub  \\\n",
              "0                         Offence Group                      Offence Subgroup   \n",
              "1  Miscellaneous crimes against society  Miscellaneous crimes against society   \n",
              "2                       Sexual offences                 Other sexual offences   \n",
              "3                       Sexual offences                 Other sexual offences   \n",
              "4                        Theft offences                 Non-domestic burglary   \n",
              "\n",
              "   offence_code   number_of_offence  \n",
              "0  Offence Code  Number of Offences  \n",
              "1            80                   3  \n",
              "2            71                   3  \n",
              "3            73                   3  \n",
              "4            31                   3  "
            ],
            "text/html": [
              "\n",
              "  <div id=\"df-793c40a3-dacf-4842-9668-b553e05c608d\" class=\"colab-df-container\">\n",
              "    <div>\n",
              "<style scoped>\n",
              "    .dataframe tbody tr th:only-of-type {\n",
              "        vertical-align: middle;\n",
              "    }\n",
              "\n",
              "    .dataframe tbody tr th {\n",
              "        vertical-align: top;\n",
              "    }\n",
              "\n",
              "    .dataframe thead th {\n",
              "        text-align: right;\n",
              "    }\n",
              "</style>\n",
              "<table border=\"1\" class=\"dataframe\">\n",
              "  <thead>\n",
              "    <tr style=\"text-align: right;\">\n",
              "      <th></th>\n",
              "      <th>financial_year</th>\n",
              "      <th>financial_quarter</th>\n",
              "      <th>force_name</th>\n",
              "      <th>offence_des</th>\n",
              "      <th>offence_grp</th>\n",
              "      <th>offence_sub</th>\n",
              "      <th>offence_code</th>\n",
              "      <th>number_of_offence</th>\n",
              "    </tr>\n",
              "  </thead>\n",
              "  <tbody>\n",
              "    <tr>\n",
              "      <th>0</th>\n",
              "      <td>Financial Year</td>\n",
              "      <td>Financial Quarter</td>\n",
              "      <td>Force Name</td>\n",
              "      <td>Offence Description</td>\n",
              "      <td>Offence Group</td>\n",
              "      <td>Offence Subgroup</td>\n",
              "      <td>Offence Code</td>\n",
              "      <td>Number of Offences</td>\n",
              "    </tr>\n",
              "    <tr>\n",
              "      <th>1</th>\n",
              "      <td>2014/15</td>\n",
              "      <td>1</td>\n",
              "      <td>Avon and Somerset</td>\n",
              "      <td>Absconding from lawful custody</td>\n",
              "      <td>Miscellaneous crimes against society</td>\n",
              "      <td>Miscellaneous crimes against society</td>\n",
              "      <td>80</td>\n",
              "      <td>3</td>\n",
              "    </tr>\n",
              "    <tr>\n",
              "      <th>2</th>\n",
              "      <td>2014/15</td>\n",
              "      <td>1</td>\n",
              "      <td>Avon and Somerset</td>\n",
              "      <td>Abuse of children through sexual exploitation</td>\n",
              "      <td>Sexual offences</td>\n",
              "      <td>Other sexual offences</td>\n",
              "      <td>71</td>\n",
              "      <td>3</td>\n",
              "    </tr>\n",
              "    <tr>\n",
              "      <th>3</th>\n",
              "      <td>2014/15</td>\n",
              "      <td>1</td>\n",
              "      <td>Avon and Somerset</td>\n",
              "      <td>Abuse of position of trust of a sexual nature</td>\n",
              "      <td>Sexual offences</td>\n",
              "      <td>Other sexual offences</td>\n",
              "      <td>73</td>\n",
              "      <td>3</td>\n",
              "    </tr>\n",
              "    <tr>\n",
              "      <th>4</th>\n",
              "      <td>2014/15</td>\n",
              "      <td>1</td>\n",
              "      <td>Avon and Somerset</td>\n",
              "      <td>Aggravated burglary in a building other than a...</td>\n",
              "      <td>Theft offences</td>\n",
              "      <td>Non-domestic burglary</td>\n",
              "      <td>31</td>\n",
              "      <td>3</td>\n",
              "    </tr>\n",
              "  </tbody>\n",
              "</table>\n",
              "</div>\n",
              "    <div class=\"colab-df-buttons\">\n",
              "\n",
              "  <div class=\"colab-df-container\">\n",
              "    <button class=\"colab-df-convert\" onclick=\"convertToInteractive('df-793c40a3-dacf-4842-9668-b553e05c608d')\"\n",
              "            title=\"Convert this dataframe to an interactive table.\"\n",
              "            style=\"display:none;\">\n",
              "\n",
              "  <svg xmlns=\"http://www.w3.org/2000/svg\" height=\"24px\" viewBox=\"0 -960 960 960\">\n",
              "    <path d=\"M120-120v-720h720v720H120Zm60-500h600v-160H180v160Zm220 220h160v-160H400v160Zm0 220h160v-160H400v160ZM180-400h160v-160H180v160Zm440 0h160v-160H620v160ZM180-180h160v-160H180v160Zm440 0h160v-160H620v160Z\"/>\n",
              "  </svg>\n",
              "    </button>\n",
              "\n",
              "  <style>\n",
              "    .colab-df-container {\n",
              "      display:flex;\n",
              "      gap: 12px;\n",
              "    }\n",
              "\n",
              "    .colab-df-convert {\n",
              "      background-color: #E8F0FE;\n",
              "      border: none;\n",
              "      border-radius: 50%;\n",
              "      cursor: pointer;\n",
              "      display: none;\n",
              "      fill: #1967D2;\n",
              "      height: 32px;\n",
              "      padding: 0 0 0 0;\n",
              "      width: 32px;\n",
              "    }\n",
              "\n",
              "    .colab-df-convert:hover {\n",
              "      background-color: #E2EBFA;\n",
              "      box-shadow: 0px 1px 2px rgba(60, 64, 67, 0.3), 0px 1px 3px 1px rgba(60, 64, 67, 0.15);\n",
              "      fill: #174EA6;\n",
              "    }\n",
              "\n",
              "    .colab-df-buttons div {\n",
              "      margin-bottom: 4px;\n",
              "    }\n",
              "\n",
              "    [theme=dark] .colab-df-convert {\n",
              "      background-color: #3B4455;\n",
              "      fill: #D2E3FC;\n",
              "    }\n",
              "\n",
              "    [theme=dark] .colab-df-convert:hover {\n",
              "      background-color: #434B5C;\n",
              "      box-shadow: 0px 1px 3px 1px rgba(0, 0, 0, 0.15);\n",
              "      filter: drop-shadow(0px 1px 2px rgba(0, 0, 0, 0.3));\n",
              "      fill: #FFFFFF;\n",
              "    }\n",
              "  </style>\n",
              "\n",
              "    <script>\n",
              "      const buttonEl =\n",
              "        document.querySelector('#df-793c40a3-dacf-4842-9668-b553e05c608d button.colab-df-convert');\n",
              "      buttonEl.style.display =\n",
              "        google.colab.kernel.accessAllowed ? 'block' : 'none';\n",
              "\n",
              "      async function convertToInteractive(key) {\n",
              "        const element = document.querySelector('#df-793c40a3-dacf-4842-9668-b553e05c608d');\n",
              "        const dataTable =\n",
              "          await google.colab.kernel.invokeFunction('convertToInteractive',\n",
              "                                                    [key], {});\n",
              "        if (!dataTable) return;\n",
              "\n",
              "        const docLinkHtml = 'Like what you see? Visit the ' +\n",
              "          '<a target=\"_blank\" href=https://colab.research.google.com/notebooks/data_table.ipynb>data table notebook</a>'\n",
              "          + ' to learn more about interactive tables.';\n",
              "        element.innerHTML = '';\n",
              "        dataTable['output_type'] = 'display_data';\n",
              "        await google.colab.output.renderOutput(dataTable, element);\n",
              "        const docLink = document.createElement('div');\n",
              "        docLink.innerHTML = docLinkHtml;\n",
              "        element.appendChild(docLink);\n",
              "      }\n",
              "    </script>\n",
              "  </div>\n",
              "\n",
              "\n",
              "<div id=\"df-93c2261e-d667-4570-bd1c-4db7e97a2dea\">\n",
              "  <button class=\"colab-df-quickchart\" onclick=\"quickchart('df-93c2261e-d667-4570-bd1c-4db7e97a2dea')\"\n",
              "            title=\"Suggest charts\"\n",
              "            style=\"display:none;\">\n",
              "\n",
              "<svg xmlns=\"http://www.w3.org/2000/svg\" height=\"24px\"viewBox=\"0 0 24 24\"\n",
              "     width=\"24px\">\n",
              "    <g>\n",
              "        <path d=\"M19 3H5c-1.1 0-2 .9-2 2v14c0 1.1.9 2 2 2h14c1.1 0 2-.9 2-2V5c0-1.1-.9-2-2-2zM9 17H7v-7h2v7zm4 0h-2V7h2v10zm4 0h-2v-4h2v4z\"/>\n",
              "    </g>\n",
              "</svg>\n",
              "  </button>\n",
              "\n",
              "<style>\n",
              "  .colab-df-quickchart {\n",
              "      --bg-color: #E8F0FE;\n",
              "      --fill-color: #1967D2;\n",
              "      --hover-bg-color: #E2EBFA;\n",
              "      --hover-fill-color: #174EA6;\n",
              "      --disabled-fill-color: #AAA;\n",
              "      --disabled-bg-color: #DDD;\n",
              "  }\n",
              "\n",
              "  [theme=dark] .colab-df-quickchart {\n",
              "      --bg-color: #3B4455;\n",
              "      --fill-color: #D2E3FC;\n",
              "      --hover-bg-color: #434B5C;\n",
              "      --hover-fill-color: #FFFFFF;\n",
              "      --disabled-bg-color: #3B4455;\n",
              "      --disabled-fill-color: #666;\n",
              "  }\n",
              "\n",
              "  .colab-df-quickchart {\n",
              "    background-color: var(--bg-color);\n",
              "    border: none;\n",
              "    border-radius: 50%;\n",
              "    cursor: pointer;\n",
              "    display: none;\n",
              "    fill: var(--fill-color);\n",
              "    height: 32px;\n",
              "    padding: 0;\n",
              "    width: 32px;\n",
              "  }\n",
              "\n",
              "  .colab-df-quickchart:hover {\n",
              "    background-color: var(--hover-bg-color);\n",
              "    box-shadow: 0 1px 2px rgba(60, 64, 67, 0.3), 0 1px 3px 1px rgba(60, 64, 67, 0.15);\n",
              "    fill: var(--button-hover-fill-color);\n",
              "  }\n",
              "\n",
              "  .colab-df-quickchart-complete:disabled,\n",
              "  .colab-df-quickchart-complete:disabled:hover {\n",
              "    background-color: var(--disabled-bg-color);\n",
              "    fill: var(--disabled-fill-color);\n",
              "    box-shadow: none;\n",
              "  }\n",
              "\n",
              "  .colab-df-spinner {\n",
              "    border: 2px solid var(--fill-color);\n",
              "    border-color: transparent;\n",
              "    border-bottom-color: var(--fill-color);\n",
              "    animation:\n",
              "      spin 1s steps(1) infinite;\n",
              "  }\n",
              "\n",
              "  @keyframes spin {\n",
              "    0% {\n",
              "      border-color: transparent;\n",
              "      border-bottom-color: var(--fill-color);\n",
              "      border-left-color: var(--fill-color);\n",
              "    }\n",
              "    20% {\n",
              "      border-color: transparent;\n",
              "      border-left-color: var(--fill-color);\n",
              "      border-top-color: var(--fill-color);\n",
              "    }\n",
              "    30% {\n",
              "      border-color: transparent;\n",
              "      border-left-color: var(--fill-color);\n",
              "      border-top-color: var(--fill-color);\n",
              "      border-right-color: var(--fill-color);\n",
              "    }\n",
              "    40% {\n",
              "      border-color: transparent;\n",
              "      border-right-color: var(--fill-color);\n",
              "      border-top-color: var(--fill-color);\n",
              "    }\n",
              "    60% {\n",
              "      border-color: transparent;\n",
              "      border-right-color: var(--fill-color);\n",
              "    }\n",
              "    80% {\n",
              "      border-color: transparent;\n",
              "      border-right-color: var(--fill-color);\n",
              "      border-bottom-color: var(--fill-color);\n",
              "    }\n",
              "    90% {\n",
              "      border-color: transparent;\n",
              "      border-bottom-color: var(--fill-color);\n",
              "    }\n",
              "  }\n",
              "</style>\n",
              "\n",
              "  <script>\n",
              "    async function quickchart(key) {\n",
              "      const quickchartButtonEl =\n",
              "        document.querySelector('#' + key + ' button');\n",
              "      quickchartButtonEl.disabled = true;  // To prevent multiple clicks.\n",
              "      quickchartButtonEl.classList.add('colab-df-spinner');\n",
              "      try {\n",
              "        const charts = await google.colab.kernel.invokeFunction(\n",
              "            'suggestCharts', [key], {});\n",
              "      } catch (error) {\n",
              "        console.error('Error during call to suggestCharts:', error);\n",
              "      }\n",
              "      quickchartButtonEl.classList.remove('colab-df-spinner');\n",
              "      quickchartButtonEl.classList.add('colab-df-quickchart-complete');\n",
              "    }\n",
              "    (() => {\n",
              "      let quickchartButtonEl =\n",
              "        document.querySelector('#df-93c2261e-d667-4570-bd1c-4db7e97a2dea button');\n",
              "      quickchartButtonEl.style.display =\n",
              "        google.colab.kernel.accessAllowed ? 'block' : 'none';\n",
              "    })();\n",
              "  </script>\n",
              "</div>\n",
              "    </div>\n",
              "  </div>\n"
            ]
          },
          "metadata": {},
          "execution_count": 41
        }
      ]
    },
    {
      "cell_type": "code",
      "execution_count": 44,
      "metadata": {
        "colab": {
          "base_uri": "https://localhost:8080/"
        },
        "id": "orUkPNbxbl0B",
        "outputId": "cc8d5406-fd64-4518-9430-91ff12c77092"
      },
      "outputs": [
        {
          "output_type": "stream",
          "name": "stdout",
          "text": [
            "Row(financial_year='Financial Year', financial_quarter='Financial Quarter', force_name='Force Name', offence_des='Offence Description', offence_grp='Offence Group', offence_sub='Offence Subgroup', offence_code='Offence Code', number_of_offence='Number of Offences')\n"
          ]
        }
      ],
      "source": [
        "print(df.head())\n"
      ]
    },
    {
      "cell_type": "code",
      "source": [
        "# Check the number of missing values in each column\n",
        "from pyspark.sql.functions import count, when, isnull\n",
        "\n",
        "df.select([count(when(isnull(c), c)).alias(c) for c in df.columns]).show()"
      ],
      "metadata": {
        "colab": {
          "base_uri": "https://localhost:8080/"
        },
        "id": "uVt9Y2v9agnW",
        "outputId": "bfc187a5-1452-43d9-cf98-a93c28443478"
      },
      "execution_count": 49,
      "outputs": [
        {
          "output_type": "stream",
          "name": "stdout",
          "text": [
            "+--------------+-----------------+----------+-----------+-----------+-----------+------------+-----------------+\n",
            "|financial_year|financial_quarter|force_name|offence_des|offence_grp|offence_sub|offence_code|number_of_offence|\n",
            "+--------------+-----------------+----------+-----------+-----------+-----------+------------+-----------------+\n",
            "|           165|              165|       165|        165|        165|        165|         165|              165|\n",
            "+--------------+-----------------+----------+-----------+-----------+-----------+------------+-----------------+\n",
            "\n"
          ]
        }
      ]
    },
    {
      "cell_type": "code",
      "source": [
        "# Drop any rows that have missing values in the force_name column\n",
        "df = df.dropna(subset=['force_name'])"
      ],
      "metadata": {
        "id": "N8aYt3eCdhor"
      },
      "execution_count": 50,
      "outputs": []
    },
    {
      "cell_type": "code",
      "source": [
        "# Fill any missing values in the number_of_offence column with 0\n",
        "df = df.fillna(0, subset=['number_of_offence'])"
      ],
      "metadata": {
        "id": "XRh9Q_jteLhe"
      },
      "execution_count": 51,
      "outputs": []
    },
    {
      "cell_type": "code",
      "source": [
        "# Replace any invalid values in the offence_group column with 'Other'\n",
        "df = df.replace(['Total recorded crime', 'Total recorded crime excluding fraud'], 'Other', subset=['offence_grp'])"
      ],
      "metadata": {
        "id": "NOuf3VjpehKx"
      },
      "execution_count": 52,
      "outputs": []
    },
    {
      "cell_type": "code",
      "source": [
        "# Cast the number_of_offences column to integer type\n",
        "df = df.withColumn('number_of_offence', df.number_of_offence.cast('int'))"
      ],
      "metadata": {
        "id": "GDcGzRM8fLLt"
      },
      "execution_count": 54,
      "outputs": []
    },
    {
      "cell_type": "code",
      "source": [
        "# Create a boolean column that indicates whether a value is null or not\n",
        "df = df.withColumn('is_null', isnull(df.offence_grp))"
      ],
      "metadata": {
        "id": "sWObC0ChgzAL"
      },
      "execution_count": 61,
      "outputs": []
    },
    {
      "cell_type": "code",
      "source": [
        "# Show the rows that have null values in the offence column\n",
        "df.filter(df.is_null).show()"
      ],
      "metadata": {
        "colab": {
          "base_uri": "https://localhost:8080/"
        },
        "id": "zW-zWHqEijRK",
        "outputId": "2cd8a02c-65aa-4a99-b1a7-2b49b700a3b5"
      },
      "execution_count": 62,
      "outputs": [
        {
          "output_type": "stream",
          "name": "stdout",
          "text": [
            "+--------------+-----------------+----------+-----------+-----------+-----------+------------+-----------------+-------+\n",
            "|financial_year|financial_quarter|force_name|offence_des|offence_grp|offence_sub|offence_code|number_of_offence|is_null|\n",
            "+--------------+-----------------+----------+-----------+-----------+-----------+------------+-----------------+-------+\n",
            "+--------------+-----------------+----------+-----------+-----------+-----------+------------+-----------------+-------+\n",
            "\n"
          ]
        }
      ]
    },
    {
      "cell_type": "code",
      "execution_count": 68,
      "metadata": {
        "colab": {
          "base_uri": "https://localhost:8080/",
          "height": 276
        },
        "id": "ZP0SSyFjgDm8",
        "outputId": "3a3d26a4-32a5-43a2-e07f-f31f4ae17576"
      },
      "outputs": [
        {
          "output_type": "execute_result",
          "data": {
            "text/plain": [
              "   financial_year  financial_quarter         force_name  \\\n",
              "0  Financial Year  Financial Quarter         Force Name   \n",
              "1         2014/15                  1  Avon and Somerset   \n",
              "2         2014/15                  1  Avon and Somerset   \n",
              "3         2014/15                  1  Avon and Somerset   \n",
              "4         2014/15                  1  Avon and Somerset   \n",
              "\n",
              "                                         offence_des  \\\n",
              "0                                Offence Description   \n",
              "1                     Absconding from lawful custody   \n",
              "2      Abuse of children through sexual exploitation   \n",
              "3      Abuse of position of trust of a sexual nature   \n",
              "4  Aggravated burglary in a building other than a...   \n",
              "\n",
              "                            offence_grp                           offence_sub  \\\n",
              "0                         Offence Group                      Offence Subgroup   \n",
              "1  Miscellaneous crimes against society  Miscellaneous crimes against society   \n",
              "2                       Sexual offences                 Other sexual offences   \n",
              "3                       Sexual offences                 Other sexual offences   \n",
              "4                        Theft offences                 Non-domestic burglary   \n",
              "\n",
              "   offence_code   number_of_offence  \n",
              "0  Offence Code  Number of Offences  \n",
              "1            80                   3  \n",
              "2            71                   3  \n",
              "3            73                   3  \n",
              "4            31                   3  "
            ],
            "text/html": [
              "\n",
              "  <div id=\"df-af9a7fee-3a0c-4de2-b93f-ad3b39cfe15f\" class=\"colab-df-container\">\n",
              "    <div>\n",
              "<style scoped>\n",
              "    .dataframe tbody tr th:only-of-type {\n",
              "        vertical-align: middle;\n",
              "    }\n",
              "\n",
              "    .dataframe tbody tr th {\n",
              "        vertical-align: top;\n",
              "    }\n",
              "\n",
              "    .dataframe thead th {\n",
              "        text-align: right;\n",
              "    }\n",
              "</style>\n",
              "<table border=\"1\" class=\"dataframe\">\n",
              "  <thead>\n",
              "    <tr style=\"text-align: right;\">\n",
              "      <th></th>\n",
              "      <th>financial_year</th>\n",
              "      <th>financial_quarter</th>\n",
              "      <th>force_name</th>\n",
              "      <th>offence_des</th>\n",
              "      <th>offence_grp</th>\n",
              "      <th>offence_sub</th>\n",
              "      <th>offence_code</th>\n",
              "      <th>number_of_offence</th>\n",
              "    </tr>\n",
              "  </thead>\n",
              "  <tbody>\n",
              "    <tr>\n",
              "      <th>0</th>\n",
              "      <td>Financial Year</td>\n",
              "      <td>Financial Quarter</td>\n",
              "      <td>Force Name</td>\n",
              "      <td>Offence Description</td>\n",
              "      <td>Offence Group</td>\n",
              "      <td>Offence Subgroup</td>\n",
              "      <td>Offence Code</td>\n",
              "      <td>Number of Offences</td>\n",
              "    </tr>\n",
              "    <tr>\n",
              "      <th>1</th>\n",
              "      <td>2014/15</td>\n",
              "      <td>1</td>\n",
              "      <td>Avon and Somerset</td>\n",
              "      <td>Absconding from lawful custody</td>\n",
              "      <td>Miscellaneous crimes against society</td>\n",
              "      <td>Miscellaneous crimes against society</td>\n",
              "      <td>80</td>\n",
              "      <td>3</td>\n",
              "    </tr>\n",
              "    <tr>\n",
              "      <th>2</th>\n",
              "      <td>2014/15</td>\n",
              "      <td>1</td>\n",
              "      <td>Avon and Somerset</td>\n",
              "      <td>Abuse of children through sexual exploitation</td>\n",
              "      <td>Sexual offences</td>\n",
              "      <td>Other sexual offences</td>\n",
              "      <td>71</td>\n",
              "      <td>3</td>\n",
              "    </tr>\n",
              "    <tr>\n",
              "      <th>3</th>\n",
              "      <td>2014/15</td>\n",
              "      <td>1</td>\n",
              "      <td>Avon and Somerset</td>\n",
              "      <td>Abuse of position of trust of a sexual nature</td>\n",
              "      <td>Sexual offences</td>\n",
              "      <td>Other sexual offences</td>\n",
              "      <td>73</td>\n",
              "      <td>3</td>\n",
              "    </tr>\n",
              "    <tr>\n",
              "      <th>4</th>\n",
              "      <td>2014/15</td>\n",
              "      <td>1</td>\n",
              "      <td>Avon and Somerset</td>\n",
              "      <td>Aggravated burglary in a building other than a...</td>\n",
              "      <td>Theft offences</td>\n",
              "      <td>Non-domestic burglary</td>\n",
              "      <td>31</td>\n",
              "      <td>3</td>\n",
              "    </tr>\n",
              "  </tbody>\n",
              "</table>\n",
              "</div>\n",
              "    <div class=\"colab-df-buttons\">\n",
              "\n",
              "  <div class=\"colab-df-container\">\n",
              "    <button class=\"colab-df-convert\" onclick=\"convertToInteractive('df-af9a7fee-3a0c-4de2-b93f-ad3b39cfe15f')\"\n",
              "            title=\"Convert this dataframe to an interactive table.\"\n",
              "            style=\"display:none;\">\n",
              "\n",
              "  <svg xmlns=\"http://www.w3.org/2000/svg\" height=\"24px\" viewBox=\"0 -960 960 960\">\n",
              "    <path d=\"M120-120v-720h720v720H120Zm60-500h600v-160H180v160Zm220 220h160v-160H400v160Zm0 220h160v-160H400v160ZM180-400h160v-160H180v160Zm440 0h160v-160H620v160ZM180-180h160v-160H180v160Zm440 0h160v-160H620v160Z\"/>\n",
              "  </svg>\n",
              "    </button>\n",
              "\n",
              "  <style>\n",
              "    .colab-df-container {\n",
              "      display:flex;\n",
              "      gap: 12px;\n",
              "    }\n",
              "\n",
              "    .colab-df-convert {\n",
              "      background-color: #E8F0FE;\n",
              "      border: none;\n",
              "      border-radius: 50%;\n",
              "      cursor: pointer;\n",
              "      display: none;\n",
              "      fill: #1967D2;\n",
              "      height: 32px;\n",
              "      padding: 0 0 0 0;\n",
              "      width: 32px;\n",
              "    }\n",
              "\n",
              "    .colab-df-convert:hover {\n",
              "      background-color: #E2EBFA;\n",
              "      box-shadow: 0px 1px 2px rgba(60, 64, 67, 0.3), 0px 1px 3px 1px rgba(60, 64, 67, 0.15);\n",
              "      fill: #174EA6;\n",
              "    }\n",
              "\n",
              "    .colab-df-buttons div {\n",
              "      margin-bottom: 4px;\n",
              "    }\n",
              "\n",
              "    [theme=dark] .colab-df-convert {\n",
              "      background-color: #3B4455;\n",
              "      fill: #D2E3FC;\n",
              "    }\n",
              "\n",
              "    [theme=dark] .colab-df-convert:hover {\n",
              "      background-color: #434B5C;\n",
              "      box-shadow: 0px 1px 3px 1px rgba(0, 0, 0, 0.15);\n",
              "      filter: drop-shadow(0px 1px 2px rgba(0, 0, 0, 0.3));\n",
              "      fill: #FFFFFF;\n",
              "    }\n",
              "  </style>\n",
              "\n",
              "    <script>\n",
              "      const buttonEl =\n",
              "        document.querySelector('#df-af9a7fee-3a0c-4de2-b93f-ad3b39cfe15f button.colab-df-convert');\n",
              "      buttonEl.style.display =\n",
              "        google.colab.kernel.accessAllowed ? 'block' : 'none';\n",
              "\n",
              "      async function convertToInteractive(key) {\n",
              "        const element = document.querySelector('#df-af9a7fee-3a0c-4de2-b93f-ad3b39cfe15f');\n",
              "        const dataTable =\n",
              "          await google.colab.kernel.invokeFunction('convertToInteractive',\n",
              "                                                    [key], {});\n",
              "        if (!dataTable) return;\n",
              "\n",
              "        const docLinkHtml = 'Like what you see? Visit the ' +\n",
              "          '<a target=\"_blank\" href=https://colab.research.google.com/notebooks/data_table.ipynb>data table notebook</a>'\n",
              "          + ' to learn more about interactive tables.';\n",
              "        element.innerHTML = '';\n",
              "        dataTable['output_type'] = 'display_data';\n",
              "        await google.colab.output.renderOutput(dataTable, element);\n",
              "        const docLink = document.createElement('div');\n",
              "        docLink.innerHTML = docLinkHtml;\n",
              "        element.appendChild(docLink);\n",
              "      }\n",
              "    </script>\n",
              "  </div>\n",
              "\n",
              "\n",
              "<div id=\"df-f8b4232d-52e4-425f-aa7e-993e80c6da50\">\n",
              "  <button class=\"colab-df-quickchart\" onclick=\"quickchart('df-f8b4232d-52e4-425f-aa7e-993e80c6da50')\"\n",
              "            title=\"Suggest charts\"\n",
              "            style=\"display:none;\">\n",
              "\n",
              "<svg xmlns=\"http://www.w3.org/2000/svg\" height=\"24px\"viewBox=\"0 0 24 24\"\n",
              "     width=\"24px\">\n",
              "    <g>\n",
              "        <path d=\"M19 3H5c-1.1 0-2 .9-2 2v14c0 1.1.9 2 2 2h14c1.1 0 2-.9 2-2V5c0-1.1-.9-2-2-2zM9 17H7v-7h2v7zm4 0h-2V7h2v10zm4 0h-2v-4h2v4z\"/>\n",
              "    </g>\n",
              "</svg>\n",
              "  </button>\n",
              "\n",
              "<style>\n",
              "  .colab-df-quickchart {\n",
              "      --bg-color: #E8F0FE;\n",
              "      --fill-color: #1967D2;\n",
              "      --hover-bg-color: #E2EBFA;\n",
              "      --hover-fill-color: #174EA6;\n",
              "      --disabled-fill-color: #AAA;\n",
              "      --disabled-bg-color: #DDD;\n",
              "  }\n",
              "\n",
              "  [theme=dark] .colab-df-quickchart {\n",
              "      --bg-color: #3B4455;\n",
              "      --fill-color: #D2E3FC;\n",
              "      --hover-bg-color: #434B5C;\n",
              "      --hover-fill-color: #FFFFFF;\n",
              "      --disabled-bg-color: #3B4455;\n",
              "      --disabled-fill-color: #666;\n",
              "  }\n",
              "\n",
              "  .colab-df-quickchart {\n",
              "    background-color: var(--bg-color);\n",
              "    border: none;\n",
              "    border-radius: 50%;\n",
              "    cursor: pointer;\n",
              "    display: none;\n",
              "    fill: var(--fill-color);\n",
              "    height: 32px;\n",
              "    padding: 0;\n",
              "    width: 32px;\n",
              "  }\n",
              "\n",
              "  .colab-df-quickchart:hover {\n",
              "    background-color: var(--hover-bg-color);\n",
              "    box-shadow: 0 1px 2px rgba(60, 64, 67, 0.3), 0 1px 3px 1px rgba(60, 64, 67, 0.15);\n",
              "    fill: var(--button-hover-fill-color);\n",
              "  }\n",
              "\n",
              "  .colab-df-quickchart-complete:disabled,\n",
              "  .colab-df-quickchart-complete:disabled:hover {\n",
              "    background-color: var(--disabled-bg-color);\n",
              "    fill: var(--disabled-fill-color);\n",
              "    box-shadow: none;\n",
              "  }\n",
              "\n",
              "  .colab-df-spinner {\n",
              "    border: 2px solid var(--fill-color);\n",
              "    border-color: transparent;\n",
              "    border-bottom-color: var(--fill-color);\n",
              "    animation:\n",
              "      spin 1s steps(1) infinite;\n",
              "  }\n",
              "\n",
              "  @keyframes spin {\n",
              "    0% {\n",
              "      border-color: transparent;\n",
              "      border-bottom-color: var(--fill-color);\n",
              "      border-left-color: var(--fill-color);\n",
              "    }\n",
              "    20% {\n",
              "      border-color: transparent;\n",
              "      border-left-color: var(--fill-color);\n",
              "      border-top-color: var(--fill-color);\n",
              "    }\n",
              "    30% {\n",
              "      border-color: transparent;\n",
              "      border-left-color: var(--fill-color);\n",
              "      border-top-color: var(--fill-color);\n",
              "      border-right-color: var(--fill-color);\n",
              "    }\n",
              "    40% {\n",
              "      border-color: transparent;\n",
              "      border-right-color: var(--fill-color);\n",
              "      border-top-color: var(--fill-color);\n",
              "    }\n",
              "    60% {\n",
              "      border-color: transparent;\n",
              "      border-right-color: var(--fill-color);\n",
              "    }\n",
              "    80% {\n",
              "      border-color: transparent;\n",
              "      border-right-color: var(--fill-color);\n",
              "      border-bottom-color: var(--fill-color);\n",
              "    }\n",
              "    90% {\n",
              "      border-color: transparent;\n",
              "      border-bottom-color: var(--fill-color);\n",
              "    }\n",
              "  }\n",
              "</style>\n",
              "\n",
              "  <script>\n",
              "    async function quickchart(key) {\n",
              "      const quickchartButtonEl =\n",
              "        document.querySelector('#' + key + ' button');\n",
              "      quickchartButtonEl.disabled = true;  // To prevent multiple clicks.\n",
              "      quickchartButtonEl.classList.add('colab-df-spinner');\n",
              "      try {\n",
              "        const charts = await google.colab.kernel.invokeFunction(\n",
              "            'suggestCharts', [key], {});\n",
              "      } catch (error) {\n",
              "        console.error('Error during call to suggestCharts:', error);\n",
              "      }\n",
              "      quickchartButtonEl.classList.remove('colab-df-spinner');\n",
              "      quickchartButtonEl.classList.add('colab-df-quickchart-complete');\n",
              "    }\n",
              "    (() => {\n",
              "      let quickchartButtonEl =\n",
              "        document.querySelector('#df-f8b4232d-52e4-425f-aa7e-993e80c6da50 button');\n",
              "      quickchartButtonEl.style.display =\n",
              "        google.colab.kernel.accessAllowed ? 'block' : 'none';\n",
              "    })();\n",
              "  </script>\n",
              "</div>\n",
              "    </div>\n",
              "  </div>\n"
            ]
          },
          "metadata": {},
          "execution_count": 68
        }
      ],
      "source": [
        "crime_pdf.head()"
      ]
    },
    {
      "cell_type": "code",
      "execution_count": null,
      "metadata": {
        "colab": {
          "base_uri": "https://localhost:8080/"
        },
        "id": "KjjhH3qzxxqi",
        "outputId": "ae089ed7-1a4d-4b3a-eabe-40adc47519ea"
      },
      "outputs": [
        {
          "data": {
            "text/plain": [
              "Index(['Year', 'Force_Name', 'Offence_Description', 'Offence_Group',\n",
              "       'Offence_Subgroup', 'Number_of_Offences'],\n",
              "      dtype='object')"
            ]
          },
          "execution_count": 85,
          "metadata": {},
          "output_type": "execute_result"
        }
      ],
      "source": [
        "df.describe()    # To get summary statistics for numerical columns\n",
        "df.columns       # To get the column names"
      ]
    },
    {
      "cell_type": "code",
      "execution_count": 65,
      "metadata": {
        "colab": {
          "base_uri": "https://localhost:8080/"
        },
        "id": "67DLvDXAx2sx",
        "outputId": "ba347e85-63a4-4571-c4f3-08ca31daa85b"
      },
      "outputs": [
        {
          "output_type": "execute_result",
          "data": {
            "text/plain": [
              "[('financial_year', 'string'),\n",
              " ('financial_quarter', 'string'),\n",
              " ('force_name', 'string'),\n",
              " ('offence_des', 'string'),\n",
              " ('offence_grp', 'string'),\n",
              " ('offence_sub', 'string'),\n",
              " ('offence_code', 'string'),\n",
              " ('number_of_offence', 'int'),\n",
              " ('is_null', 'boolean')]"
            ]
          },
          "metadata": {},
          "execution_count": 65
        }
      ],
      "source": [
        "df.drop_duplicates()     # Remove duplicate rows\n",
        "df.dtypes               # Check data types of columns"
      ]
    },
    {
      "cell_type": "code",
      "source": [
        "# Create a new dataframe that has only distinct rows\n",
        "df_distinct = df.dropDuplicates()"
      ],
      "metadata": {
        "id": "Xayq9JeWk3Sx"
      },
      "execution_count": 71,
      "outputs": []
    },
    {
      "cell_type": "code",
      "source": [
        "# Compare the number of rows in the original dataframe and the distinct dataframe\n",
        "print('Number of rows in the original dataframe:', df.count())\n",
        "print('Number of rows in the distinct dataframe:', df_distinct.count())"
      ],
      "metadata": {
        "colab": {
          "base_uri": "https://localhost:8080/"
        },
        "id": "BImYEMbSk-f8",
        "outputId": "486dda69-2497-4ba0-a380-26fc80c1719c"
      },
      "execution_count": 72,
      "outputs": [
        {
          "output_type": "stream",
          "name": "stdout",
          "text": [
            "Number of rows in the original dataframe: 211019\n",
            "Number of rows in the distinct dataframe: 211010\n"
          ]
        }
      ]
    },
    {
      "cell_type": "code",
      "source": [
        "# Get the summary statistics of the number_of_offences column\n",
        "df.describe('number_of_offence').show()"
      ],
      "metadata": {
        "colab": {
          "base_uri": "https://localhost:8080/"
        },
        "id": "pjNjfNxulQHt",
        "outputId": "f3a53fda-2bfe-484c-b8b3-f04afc486707"
      },
      "execution_count": 74,
      "outputs": [
        {
          "output_type": "stream",
          "name": "stdout",
          "text": [
            "+-------+------------------+\n",
            "|summary| number_of_offence|\n",
            "+-------+------------------+\n",
            "|  count|            211009|\n",
            "|   mean|243.73703491320276|\n",
            "| stddev|1826.6909241658861|\n",
            "|    min|               -58|\n",
            "|    max|            132693|\n",
            "+-------+------------------+\n",
            "\n"
          ]
        }
      ]
    },
    {
      "cell_type": "code",
      "source": [
        "# Import the libraries for data visualization\n",
        "import matplotlib.pyplot as plt\n",
        "import seaborn as sns"
      ],
      "metadata": {
        "id": "YjB7F-tOlyJC"
      },
      "execution_count": 75,
      "outputs": []
    },
    {
      "cell_type": "code",
      "source": [
        "# Convert the dataframe to a pandas dataframe\n",
        "crime_pdf = df.toPandas()"
      ],
      "metadata": {
        "id": "yGaGHuRsmBiY"
      },
      "execution_count": 78,
      "outputs": []
    },
    {
      "cell_type": "code",
      "source": [
        "# Create a bar chart to show the number of offences by offence group\n",
        "plt.figure(figsize=(10,6))\n",
        "sns.barplot(x='offence_grp', y='number_of_offence', data=crime_pdf, errorbar=None)\n",
        "plt.xticks(rotation=90)\n",
        "plt.xlabel('Offence Group')\n",
        "plt.ylabel('Number of Offences')\n",
        "plt.title('Number of Offences by Offence Group')\n",
        "plt.show()"
      ],
      "metadata": {
        "colab": {
          "base_uri": "https://localhost:8080/",
          "height": 807
        },
        "id": "vXhbqXlgmlSB",
        "outputId": "39db23e0-ab77-4486-82b1-8a084f23dbb7"
      },
      "execution_count": 81,
      "outputs": [
        {
          "output_type": "display_data",
          "data": {
            "text/plain": [
              "<Figure size 1000x600 with 1 Axes>"
            ],
            "image/png": "[encoded data removed]"
          },
          "metadata": {}
        }
      ]
    },
    {
      "cell_type": "code",
      "source": [
        "pip install --upgrade pandas"
      ],
      "metadata": {
        "colab": {
          "base_uri": "https://localhost:8080/"
        },
        "id": "s4EU9TiAOoXl",
        "outputId": "ff6dcf28-1a1b-4e5a-eadd-dfc61ac4e3eb"
      },
      "execution_count": 198,
      "outputs": [
        {
          "output_type": "stream",
          "name": "stdout",
          "text": [
            "Requirement already satisfied: pandas in /usr/local/lib/python3.10/dist-packages (1.5.3)\n",
            "Collecting pandas\n",
            "  Downloading pandas-2.1.4-cp310-cp310-manylinux_2_17_x86_64.manylinux2014_x86_64.whl (12.3 MB)\n",
            "\u001b[2K     \u001b[90m━━━━━━━━━━━━━━━━━━━━━━━━━━━━━━━━━━━━━━━━\u001b[0m \u001b[32m12.3/12.3 MB\u001b[0m \u001b[31m35.1 MB/s\u001b[0m eta \u001b[36m0:00:00\u001b[0m\n",
            "\u001b[?25hRequirement already satisfied: numpy<2,>=1.22.4 in /usr/local/lib/python3.10/dist-packages (from pandas) (1.23.5)\n",
            "Requirement already satisfied: python-dateutil>=2.8.2 in /usr/local/lib/python3.10/dist-packages (from pandas) (2.8.2)\n",
            "Requirement already satisfied: pytz>=2020.1 in /usr/local/lib/python3.10/dist-packages (from pandas) (2023.3.post1)\n",
            "Collecting tzdata>=2022.1 (from pandas)\n",
            "  Downloading tzdata-2023.4-py2.py3-none-any.whl (346 kB)\n",
            "\u001b[2K     \u001b[90m━━━━━━━━━━━━━━━━━━━━━━━━━━━━━━━━━━━━━━━━\u001b[0m \u001b[32m346.6/346.6 kB\u001b[0m \u001b[31m19.3 MB/s\u001b[0m eta \u001b[36m0:00:00\u001b[0m\n",
            "\u001b[?25hRequirement already satisfied: six>=1.5 in /usr/local/lib/python3.10/dist-packages (from python-dateutil>=2.8.2->pandas) (1.16.0)\n",
            "Installing collected packages: tzdata, pandas\n",
            "  Attempting uninstall: pandas\n",
            "    Found existing installation: pandas 1.5.3\n",
            "    Uninstalling pandas-1.5.3:\n",
            "      Successfully uninstalled pandas-1.5.3\n",
            "\u001b[31mERROR: pip's dependency resolver does not currently take into account all the packages that are installed. This behaviour is the source of the following dependency conflicts.\n",
            "lida 0.0.10 requires fastapi, which is not installed.\n",
            "lida 0.0.10 requires kaleido, which is not installed.\n",
            "lida 0.0.10 requires python-multipart, which is not installed.\n",
            "lida 0.0.10 requires uvicorn, which is not installed.\n",
            "bigframes 0.17.0 requires pandas<2.1.4,>=1.5.0, but you have pandas 2.1.4 which is incompatible.\n",
            "google-colab 1.0.0 requires pandas==1.5.3, but you have pandas 2.1.4 which is incompatible.\u001b[0m\u001b[31m\n",
            "\u001b[0mSuccessfully installed pandas-2.1.4 tzdata-2023.4\n"
          ]
        }
      ]
    },
    {
      "cell_type": "code",
      "source": [
        "import pandas as pd\n",
        "print(pd.__version__)"
      ],
      "metadata": {
        "colab": {
          "base_uri": "https://localhost:8080/"
        },
        "id": "O9j66gkiO_yh",
        "outputId": "70fede5c-fa47-4069-a195-844b51c33695"
      },
      "execution_count": 201,
      "outputs": [
        {
          "output_type": "stream",
          "name": "stdout",
          "text": [
            "1.5.3\n"
          ]
        }
      ]
    },
    {
      "cell_type": "code",
      "source": [
        "print(crime_pdf.head())"
      ],
      "metadata": {
        "colab": {
          "base_uri": "https://localhost:8080/"
        },
        "id": "IwBbjlLSprbI",
        "outputId": "942c40da-4f19-4e5e-e8ee-c8dfd259a3e5"
      },
      "execution_count": 202,
      "outputs": [
        {
          "output_type": "stream",
          "name": "stdout",
          "text": [
            "Row(financial_year='Financial Year', financial_quarter='Financial Quarter', force_name='Force Name', offence_des='Offence Description', offence_grp='Offence Group', offence_sub='Offence Subgroup', offence_code='Offence Code', number_of_offence=None, is_null=False, year='Fina', is_violent=0)\n"
          ]
        }
      ]
    },
    {
      "cell_type": "code",
      "source": [
        "# Import the libraries\n",
        "import seaborn as sns\n",
        "import numpy as np\n",
        "\n"
      ],
      "metadata": {
        "id": "A_duhrLJrFjc"
      },
      "execution_count": 86,
      "outputs": []
    },
    {
      "cell_type": "code",
      "source": [
        "crime_pdf = df.toPandas()"
      ],
      "metadata": {
        "id": "pGB2WC8WtnYm"
      },
      "execution_count": 91,
      "outputs": []
    },
    {
      "cell_type": "code",
      "source": [
        "# Convert the Spark dataframe column to a pandas series\n",
        "data = crime_pdf['number_of_offence']\n",
        "\n"
      ],
      "metadata": {
        "id": "Idb5e48Ls8AT"
      },
      "execution_count": 94,
      "outputs": []
    },
    {
      "cell_type": "code",
      "source": [
        "# Create a plot with seaborn\n",
        "sns.histplot(data, kde=True, stat='density')"
      ],
      "metadata": {
        "colab": {
          "base_uri": "https://localhost:8080/",
          "height": 467
        },
        "id": "R5rS-LyDtAxy",
        "outputId": "17b45e17-639a-4e38-ac4a-ac1738b52f96"
      },
      "execution_count": 96,
      "outputs": [
        {
          "output_type": "execute_result",
          "data": {
            "text/plain": [
              "<Axes: xlabel='number_of_offence', ylabel='Density'>"
            ]
          },
          "metadata": {},
          "execution_count": 96
        },
        {
          "output_type": "display_data",
          "data": {
            "text/plain": [
              "<Figure size 640x480 with 1 Axes>"
            ],
            "image/png": "[encoded data removed]"
          },
          "metadata": {}
        }
      ]
    },
    {
      "cell_type": "code",
      "source": [
        "crime_pdf = df.toPandas()"
      ],
      "metadata": {
        "id": "1jMo5_b9v8h7"
      },
      "execution_count": 99,
      "outputs": []
    },
    {
      "cell_type": "code",
      "execution_count": 100,
      "metadata": {
        "colab": {
          "base_uri": "https://localhost:8080/",
          "height": 450
        },
        "id": "CKdCUpyLyep8",
        "outputId": "ae4f2f9e-fd1e-4785-a9f6-1e51c63dbcdd"
      },
      "outputs": [
        {
          "output_type": "display_data",
          "data": {
            "text/plain": [
              "<Figure size 640x480 with 1 Axes>"
            ],
            "image/png": "[encoded data removed]"
          },
          "metadata": {}
        }
      ],
      "source": [
        "# For Number_of_offences\n",
        "sns.histplot(crime_pdf['number_of_offence'], bins=30)\n",
        "plt.show()"
      ]
    },
    {
      "cell_type": "code",
      "execution_count": 106,
      "metadata": {
        "colab": {
          "base_uri": "https://localhost:8080/",
          "height": 430
        },
        "id": "1Tps7QG2ziVa",
        "outputId": "b4761037-b69b-436d-89af-de36cad12cfe"
      },
      "outputs": [
        {
          "output_type": "display_data",
          "data": {
            "text/plain": [
              "<Figure size 640x480 with 1 Axes>"
            ],
            "image/png": "[encoded data removed]"
          },
          "metadata": {}
        }
      ],
      "source": [
        "# For categorical variables\n",
        "sns.countplot(crime_pdf['number_of_offence'])\n",
        "plt.show()"
      ]
    },
    {
      "cell_type": "code",
      "execution_count": null,
      "metadata": {
        "colab": {
          "base_uri": "https://localhost:8080/",
          "height": 450
        },
        "id": "JeKZHIdN0Mky",
        "outputId": "309014e7-e153-46c7-8341-175ac397ebe5"
      },
      "outputs": [
        {
          "data": {
            "image/png": "[encoded data removed]",
            "text/plain": [
              "<Figure size 640x480 with 1 Axes>"
            ]
          },
          "metadata": {},
          "output_type": "display_data"
        }
      ],
      "source": [
        "sns.scatterplot(x='Number_of_Offences', y='Number_of_Offences', data=df)\n",
        "plt.show()"
      ]
    },
    {
      "cell_type": "code",
      "execution_count": null,
      "metadata": {
        "colab": {
          "base_uri": "https://localhost:8080/",
          "height": 450
        },
        "id": "GXn3FLfb0my3",
        "outputId": "9a78647b-29dd-4bf0-c01f-04ebeb4bcaf6"
      },
      "outputs": [
        {
          "data": {
            "image/png": "[encoded data removed]",
            "text/plain": [
              "<Figure size 640x480 with 1 Axes>"
            ]
          },
          "metadata": {},
          "output_type": "display_data"
        }
      ],
      "source": [
        "sns.boxplot(x='Number_of_Offences', y='Number_of_Offences', data=df)\n",
        "plt.show()"
      ]
    },
    {
      "cell_type": "code",
      "execution_count": 124,
      "metadata": {
        "colab": {
          "base_uri": "https://localhost:8080/",
          "height": 468
        },
        "id": "Jhi8qaeveOJp",
        "outputId": "79e7bb10-45b0-40cf-cbe0-5c73b62e3436"
      },
      "outputs": [
        {
          "output_type": "display_data",
          "data": {
            "text/plain": [
              "<Figure size 500x500 with 1 Axes>"
            ],
            "image/png": "[encoded data removed]"
          },
          "metadata": {}
        }
      ],
      "source": [
        "crime_pdf.hist(figsize=(5, 5))\n",
        "plt.show()"
      ]
    },
    {
      "cell_type": "code",
      "execution_count": 125,
      "metadata": {
        "colab": {
          "base_uri": "https://localhost:8080/",
          "height": 445
        },
        "id": "Pnd-NLw-ehPM",
        "outputId": "2cb6f80b-3130-478c-9327-565f882156f3"
      },
      "outputs": [
        {
          "output_type": "display_data",
          "data": {
            "text/plain": [
              "<Figure size 500x500 with 1 Axes>"
            ],
            "image/png": "[encoded data removed]"
          },
          "metadata": {}
        }
      ],
      "source": [
        "# Plot boxplots for each column\n",
        "crime_pdf.boxplot(figsize=(5, 5))\n",
        "plt.show()"
      ]
    },
    {
      "cell_type": "code",
      "execution_count": 127,
      "metadata": {
        "id": "Q_nAiJUn9eCv"
      },
      "outputs": [],
      "source": [
        "import numpy as np"
      ]
    },
    {
      "cell_type": "code",
      "execution_count": 126,
      "metadata": {
        "id": "acZ_sQrGfgQ-"
      },
      "outputs": [],
      "source": [
        "# Define a function to detect outliers using IQR\n",
        "def detect_outliers(crime_pdf, column):\n",
        "# Calculate the first and third quartiles\n",
        "  q1 = np.percentile(crime_pdf[column], 25)\n",
        "  q3 = np.percentile(crime_pdf[column], 75)\n",
        "  # Calculate the IQR\n",
        "  iqr = q3 - q1\n",
        "  # Define the lower and upper thresholds\n",
        "  lower = q1 - 1.5 * iqr\n",
        "  upper = q3 + 1.5 * iqr\n",
        "  # Find the index of the outliers\n",
        "  outliers_index = df[(df[column] < lower) | (df[column] > upper)].index\n",
        "\n",
        "  # Return the index of the outliers\n",
        "  return outliers_index"
      ]
    },
    {
      "cell_type": "code",
      "source": [
        "def detect_outliers(data, column):\n",
        "# Calculate the median and the IQR of the column\n",
        "  median = data[column].median()\n",
        "  iqr = data[column].quantile(0.75) - data[column].quantile(0.25)\n",
        "# Define the lower and upper bounds for outliers\n",
        "  lower_bound = median - 1.5 * iqr\n",
        "  upper_bound = median + 1.5 * iqr\n",
        "# Return the indices of the outliers\n",
        "  return data[(data[column] < lower_bound) | (data[column] > upper_bound)].index.tolist()"
      ],
      "metadata": {
        "id": "QII6t0wO21Yl"
      },
      "execution_count": 130,
      "outputs": []
    },
    {
      "cell_type": "code",
      "source": [
        "# Define a function to classify the offence as violent or not\n",
        "def is_violent(offence):\n",
        "  if offence == 'Violence against the person':\n",
        "    return 1\n",
        "  else:\n",
        "    return 0"
      ],
      "metadata": {
        "id": "PlzLrqvKx0ys"
      },
      "execution_count": 108,
      "outputs": []
    },
    {
      "cell_type": "code",
      "source": [
        "# Import the module for creating UDFs\n",
        "from pyspark.sql.functions import udf\n",
        "from pyspark.sql.types import IntegerType\n",
        "\n",
        "# Create a UDF based on the function\n",
        "is_violent_udf = udf(is_violent, IntegerType())"
      ],
      "metadata": {
        "id": "rbLFszLDy2u8"
      },
      "execution_count": 109,
      "outputs": []
    },
    {
      "cell_type": "code",
      "source": [
        "# Apply the UDF to the offence_group column and create a new column\n",
        "df = df.withColumn('is_violent', is_violent_udf(df.offence_grp))"
      ],
      "metadata": {
        "id": "cPbjQiwcy-pI"
      },
      "execution_count": 111,
      "outputs": []
    },
    {
      "cell_type": "code",
      "source": [
        "from google.colab import files\n",
        "\n",
        "crime_pdf.to_csv('crime_df.csv')\n",
        "files.download('crime_df.csv')"
      ],
      "metadata": {
        "colab": {
          "base_uri": "https://localhost:8080/",
          "height": 17
        },
        "id": "UAh_pARw5qUX",
        "outputId": "84dbec78-a3ce-4216-edf1-439ac1d99eff"
      },
      "execution_count": 131,
      "outputs": [
        {
          "output_type": "display_data",
          "data": {
            "text/plain": [
              "<IPython.core.display.Javascript object>"
            ],
            "application/javascript": [
              "\n",
              "    async function download(id, filename, size) {\n",
              "      if (!google.colab.kernel.accessAllowed) {\n",
              "        return;\n",
              "      }\n",
              "      const div = document.createElement('div');\n",
              "      const label = document.createElement('label');\n",
              "      label.textContent = `Downloading \"${filename}\": `;\n",
              "      div.appendChild(label);\n",
              "      const progress = document.createElement('progress');\n",
              "      progress.max = size;\n",
              "      div.appendChild(progress);\n",
              "      document.body.appendChild(div);\n",
              "\n",
              "      const buffers = [];\n",
              "      let downloaded = 0;\n",
              "\n",
              "      const channel = await google.colab.kernel.comms.open(id);\n",
              "      // Send a message to notify the kernel that we're ready.\n",
              "      channel.send({})\n",
              "\n",
              "      for await (const message of channel.messages) {\n",
              "        // Send a message to notify the kernel that we're ready.\n",
              "        channel.send({})\n",
              "        if (message.buffers) {\n",
              "          for (const buffer of message.buffers) {\n",
              "            buffers.push(buffer);\n",
              "            downloaded += buffer.byteLength;\n",
              "            progress.value = downloaded;\n",
              "          }\n",
              "        }\n",
              "      }\n",
              "      const blob = new Blob(buffers, {type: 'application/binary'});\n",
              "      const a = document.createElement('a');\n",
              "      a.href = window.URL.createObjectURL(blob);\n",
              "      a.download = filename;\n",
              "      div.appendChild(a);\n",
              "      a.click();\n",
              "      div.remove();\n",
              "    }\n",
              "  "
            ]
          },
          "metadata": {}
        },
        {
          "output_type": "display_data",
          "data": {
            "text/plain": [
              "<IPython.core.display.Javascript object>"
            ],
            "application/javascript": [
              "download(\"download_94dde4e5-1f49-4a83-978f-d801a5d77ce9\", \"crime_df.csv\", 27680480)"
            ]
          },
          "metadata": {}
        }
      ]
    }
  ],
  "metadata": {
    "colab": {
      "provenance": [],
      "mount_file_id": "1BR6n9HK_fubuRjbclGpaFLZeQWNQBBy2",
      "authorship_tag": "ABX9TyPifCp4LWc7kkQXu7pWesdB",
      "include_colab_link": true
    },
    "kernelspec": {
      "display_name": "Python 3",
      "name": "python3"
    },
    "language_info": {
      "name": "python"
    }
  },
  "nbformat": 4,
  "nbformat_minor": 0
}